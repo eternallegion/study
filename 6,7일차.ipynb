{
 "cells": [
  {
   "cell_type": "markdown",
   "id": "dd40b066-4bed-417b-9bd9-e4a2856b9be4",
   "metadata": {},
   "source": [
    "'''6일차 학습 목표\n",
    "1. 리스트와 딕셔너리 활용\n",
    "-리스트 내포(List Comprehension)\n",
    "-딕셔너리의 기본 동작 및 메서드 활용\n",
    "2. 리스트와 딕셔너리의 결합\n",
    "-딕셔너리를 활용한 데이터 정리\n",
    "-리스트와 딕셔너리의 상호 변환\n",
    "'''"
   ]
  },
  {
   "cell_type": "code",
   "execution_count": 12,
   "id": "692c4e37-4442-491c-8e7e-1f738e559cbf",
   "metadata": {},
   "outputs": [
    {
     "name": "stdout",
     "output_type": "stream",
     "text": [
      "[0, 1, 2, 3, 4, 5, 6, 7, 8, 9]\n",
      "[0, 2, 4, 6, 8]\n"
     ]
    }
   ],
   "source": [
    "#리스트 내포(List Comprehension)\n",
    "#리스트 내포는 리스트를 간결하고 효율적으로 생성하는 방법\n",
    "\n",
    "number=[i for i in range(10)]\n",
    "print(number)\n",
    "\n",
    "#조건부\n",
    "even=[j for j in range(10) if j%2==0]\n",
    "print(even)"
   ]
  },
  {
   "cell_type": "code",
   "execution_count": 46,
   "id": "fe0046f6-9ddf-45ef-857f-d8d13f1abde2",
   "metadata": {},
   "outputs": [
    {
     "name": "stdout",
     "output_type": "stream",
     "text": [
      "Alice\n",
      "dict_keys(['name', 'age', 'major'])\n",
      "dict_values(['Alice', 25, 'CS'])\n",
      "dict_items([('name', 'Alice'), ('age', 25), ('major', 'CS')])\n",
      "{'name': 'A', 'age': 26, 'major': 'CS', 'grade': 'A'}\n"
     ]
    }
   ],
   "source": [
    "#딕셔너리 기본 동작 및 메서드\n",
    "#딕셔너리는 키-값 쌍으로 데이터를 저장하는 자료형입니다.\n",
    "student={\"name\": \"Alice\", \"age\":25, \"major\":\"CS\"}\n",
    "print(student[\"name\"])\n",
    "print(student.keys())\n",
    "print(student.values())\n",
    "print(student.items())\n",
    "\n",
    "student[\"name\"]=\"A\" #이름 변경\n",
    "student[\"grade\"]=\"A\" #gread 항목 추가\n",
    "student[\"age\"]=26 #age값변경\n",
    "print(student)"
   ]
  },
  {
   "cell_type": "code",
   "execution_count": 78,
   "id": "d224c10e-7276-4a17-a51c-f24f72057608",
   "metadata": {},
   "outputs": [
    {
     "name": "stdout",
     "output_type": "stream",
     "text": [
      "['Alice', 'Bob', 'Charlie']\n",
      "{'name': 'Alice', 'age': 25}\n"
     ]
    }
   ],
   "source": [
    "#리스트와 딕셔너리 결합\n",
    "#리스트와 딕셔너리를 함께 사용해 데이터를 정리하거나 변환할 수 있다\n",
    "student=[\n",
    "    {\"name\":\"Alice\",\"age\":26},\n",
    "    {\"name\":\"Bob\",\"age\":23},\n",
    "    {\"name\":\"Charlie\",\"age\":24}\n",
    "] #각각의 리스트가 D, 딕셔너리가 1개의 파일 이라 이해하면 쉬움\n",
    "names=[student[\"name\"]for student in student]\n",
    "print(names)\n",
    "\n",
    "keys=[\"name\",\"age\"]\n",
    "values=[\"Alice\",25]\n",
    "student=dict(zip(keys,values))  #2개의 그룹을 엮는 놈\n",
    "print(student)"
   ]
  },
  {
   "cell_type": "code",
   "execution_count": 86,
   "id": "12b27d1a-09f4-4c71-a8d5-20dd483763d0",
   "metadata": {},
   "outputs": [
    {
     "name": "stdout",
     "output_type": "stream",
     "text": [
      "3 C c\n",
      "4 D d\n",
      "5 E e\n",
      "2 B b\n",
      "1 A a\n"
     ]
    }
   ],
   "source": [
    "for number, upper, lower in set(zip(\"12345\", \"ABCDE\", \"abcde\")):\n",
    "     print(number, upper, lower)"
   ]
  },
  {
   "cell_type": "code",
   "execution_count": 92,
   "id": "bad5d3b2-d4ce-409d-9c64-a34d4e58f5ff",
   "metadata": {},
   "outputs": [
    {
     "name": "stdout",
     "output_type": "stream",
     "text": [
      "[0, 2, 4, 6, 8, 10, 12, 14, 16, 18]\n"
     ]
    }
   ],
   "source": [
    "#문제 1:\n",
    "#1부터 20까지의 숫자 중 짝수로만 구성된 리스트를 리스트 내포를 사용해 생성하세요.\n",
    "even=[i for i in range(20) if i%2==0]\n",
    "print(even)"
   ]
  },
  {
   "cell_type": "code",
   "execution_count": 247,
   "id": "e42e1bce-b6e2-40d2-b8b0-c8d5cba413c3",
   "metadata": {},
   "outputs": [
    {
     "name": "stdout",
     "output_type": "stream",
     "text": [
      "Alice\n",
      "['Alice']\n",
      "Charlie\n",
      "['Alice', 'Charlie']\n"
     ]
    },
    {
     "data": {
      "text/plain": [
       "['Alice', 'Charlie']"
      ]
     },
     "execution_count": 247,
     "metadata": {},
     "output_type": "execute_result"
    }
   ],
   "source": [
    "#문제 2:\n",
    "#주어진 딕셔너리에서 나이가 25 이상인 사람들의 이름만 추출하는 코드를 작성하세요.\n",
    "people = [\n",
    "    {\"name\": \"Alice\", \"age\": 25},\n",
    "    {\"name\": \"Bob\", \"age\": 23},\n",
    "    {\"name\": \"Charlie\", \"age\": 30},\n",
    "]\n",
    "rent=[]\n",
    "for i in range(len(people)):\n",
    "    if(25<=people[i][\"age\"]):\n",
    "        print(people[i][\"name\"])\n",
    "        rent.append(people[i][\"name\"])\n",
    "        print(rent)\n",
    "    \n",
    "rentt=[people[\"name\"] for people in people if 25<=people[\"age\"]]\n",
    "rentt"
   ]
  },
  {
   "cell_type": "code",
   "execution_count": 249,
   "id": "134dcce0-1080-4e87-964f-2f48276ca81c",
   "metadata": {},
   "outputs": [
    {
     "name": "stdout",
     "output_type": "stream",
     "text": [
      "{1: 'a', 2: 'b', 3: 'c'}\n"
     ]
    }
   ],
   "source": [
    "#문제 3:\n",
    "#키-값이 반대로 뒤바뀐 딕셔너리를 생성하는 함수를 작성하세요.\n",
    "def REVERSE(dic):\n",
    "    keys=dic.values()\n",
    "    values=dic.keys()\n",
    "    rev=dict(zip(keys,values))\n",
    "    return rev\n",
    "\n",
    "original = {\"a\": 1, \"b\": 2, \"c\": 3}\n",
    "\n",
    "print(REVERSE(original))"
   ]
  },
  {
   "cell_type": "code",
   "execution_count": 142,
   "id": "33e4f908-f0e9-4653-acc5-c545f492745a",
   "metadata": {},
   "outputs": [
    {
     "data": {
      "text/plain": [
       "{'name': 'Alice', 'age': 25, 'city': 'New York'}"
      ]
     },
     "execution_count": 142,
     "metadata": {},
     "output_type": "execute_result"
    }
   ],
   "source": [
    "#문제 4:\n",
    "#두 개의 리스트를 받아 딕셔너리로 변환하는 함수를 작성하세요.\n",
    "\n",
    "def sumury(key, value):\n",
    "    DICTIONAL=dict(zip(key,value))\n",
    "    return DICTIONAL\n",
    "\n",
    "keys = [\"name\", \"age\", \"city\"]\n",
    "values = [\"Alice\", 25, \"New York\"]\n",
    "\n",
    "sumury(keys,values)"
   ]
  },
  {
   "cell_type": "code",
   "execution_count": 273,
   "id": "d9373c24-3d7f-4776-b012-12555066ee74",
   "metadata": {},
   "outputs": [
    {
     "name": "stdout",
     "output_type": "stream",
     "text": [
      "{'name': 'Alice', 'age': 25, 'city': 'New York'}\n"
     ]
    }
   ],
   "source": [
    "#update\n",
    "def creat_dict(key,value,default=None):\n",
    "    if len(key)!=len(value):\n",
    "        print(\"길이다르다. 디폴로 채운다\")\n",
    "    return{k:value[i] if i<len(value)else default for i,k in enumerate(key)}\n",
    "\n",
    "    \n",
    "\n",
    "keys = [\"name\", \"age\", \"city\"]\n",
    "#values = [\"Alice\", 25]\n",
    "values = [\"Alice\", 25, \"New York\"]\n",
    "print(creat_dict(keys, values, default=\"N/A\"))"
   ]
  },
  {
   "cell_type": "code",
   "execution_count": null,
   "id": "188422c9-dfb8-4424-a55b-05a959dee75b",
   "metadata": {},
   "outputs": [],
   "source": []
  },
  {
   "cell_type": "code",
   "execution_count": null,
   "id": "ff2198ce-ab4a-4e6a-bed3-f2fedfe627c7",
   "metadata": {},
   "outputs": [],
   "source": []
  },
  {
   "cell_type": "code",
   "execution_count": null,
   "id": "7a121db6-8f71-48a1-a4be-fb2a12b6036e",
   "metadata": {},
   "outputs": [],
   "source": []
  },
  {
   "cell_type": "markdown",
   "id": "f558254a-8f94-43aa-801f-7f35c045d324",
   "metadata": {},
   "source": [
    "7일차 학습 목표\n",
    "\n",
    "\n",
    "파일 입출력 기본\n",
    "/파일 열기, 읽기, 쓰기\n",
    "/파일 모드 (r, w, a, x)의 사용법\n",
    "\n",
    "\n",
    "파일 처리 심화\n",
    "/with 문을 사용한 파일 처리\n",
    "/파일에 데이터 추가 및 읽기\n",
    "\n",
    "\n",
    "예외 처리 심화\n",
    "/사용자 정의 예외\n",
    "/복합적인 예외 처리 (try-except-else-finally)"
   ]
  },
  {
   "cell_type": "code",
   "execution_count": 6,
   "id": "b4a7c163-146d-42ba-b823-3491a546a43f",
   "metadata": {},
   "outputs": [
    {
     "name": "stdout",
     "output_type": "stream",
     "text": [
      "hello world!\n",
      "This is a test file\n"
     ]
    }
   ],
   "source": [
    "#1. 파일 입출력 기본\n",
    "#Python에서 파일 작업은 open() 함수를 사용하여 시작됩니다.\n",
    "\n",
    "with open(\"EXAMPLE.txt\",\"w\")as file:\n",
    "    file.write(\"hello world!\\nThis is a test file\")  #\\n은 줄바꿈\n",
    "\n",
    "with open(\"EXAMPLE.txt\",\"r\")as files:\n",
    "    content=files.read()\n",
    "    print(content)"
   ]
  },
  {
   "cell_type": "markdown",
   "id": "b335b75d-5186-4a13-a9f1-898d5988943f",
   "metadata": {},
   "source": [
    "파일 모드:\n",
    "\n",
    "r: 읽기 전용 (파일이 존재해야 함)\n",
    "\n",
    "w: 쓰기 전용 (기존 파일을 덮어씀)\n",
    "\n",
    "a: 추가 모드 (파일 끝에 데이터 추가)\n",
    "\n",
    "x: 쓰기 전용 (파일이 존재하면 에러 발생)\n"
   ]
  },
  {
   "cell_type": "code",
   "execution_count": 302,
   "id": "d4b9f313-fc96-474f-abf3-4872c4589a44",
   "metadata": {},
   "outputs": [
    {
     "name": "stdout",
     "output_type": "stream",
     "text": [
      "hello world!\n",
      "This is a test fileAnother line added!\n",
      "Another line added!\n"
     ]
    }
   ],
   "source": [
    "#2. 파일 처리 심화\n",
    "#with 문을 사용하면 파일을 열고 닫는 과정을 자동으로 처리합니다.\n",
    "with open(\"EXAMPLE.txt\",\"a\")as file:  \n",
    "    file.write(\"\\nAnother line added!\") #추가\n",
    "\n",
    "\n",
    "# 파일 라인 단위로 읽기\n",
    "with open(\"EXAMPLE.txt\",\"r\")as files:\n",
    "    for line in files:\n",
    "        print(line.strip())# 줄바꿈 문자 제거 후 출력"
   ]
  },
  {
   "cell_type": "code",
   "execution_count": 313,
   "id": "df829af2-9ed4-40c0-9955-a1d720cac353",
   "metadata": {},
   "outputs": [
    {
     "name": "stdout",
     "output_type": "stream",
     "text": [
      "file없음\n",
      "프로그램 종료\n"
     ]
    }
   ],
   "source": [
    "#3. 예외 처리 심화\n",
    "#예외 처리 구문을 활용하여 프로그램의 안전성을 높일 수 있습니다.\n",
    "try:\n",
    "    with open(\"nonexistent.txt\",\"r\")as file:\n",
    "        content=file.read()\n",
    "    #with open(\"EXAMPLE.txt\",\"r\")as file:\n",
    "    #    content=file.read()\n",
    "except FileNotFoundError:\n",
    "    print(\"file없음\")\n",
    "else:\n",
    "    print(\"잘 읽음\")\n",
    "finally:\n",
    "    print(\"프로그램 종료\")\n"
   ]
  },
  {
   "cell_type": "markdown",
   "id": "325c0c3b-7952-4f15-a423-3c61eea9d7a7",
   "metadata": {},
   "source": [
    "예외 처리 구조:\n",
    "\n",
    "try: 에러가 발생할 가능성이 있는 코드 실행.\n",
    "\n",
    "except: 발생한 에러를 처리.\n",
    "\n",
    "else: 에러가 발생하지 않았을 때 실행.\n",
    "finally: 에러 발생 여부와 상관없이 항상 실행."
   ]
  },
  {
   "cell_type": "code",
   "execution_count": 500,
   "id": "a0b725b0-95bb-4015-8bae-f7f69033ec2b",
   "metadata": {},
   "outputs": [
    {
     "name": "stdout",
     "output_type": "stream",
     "text": [
      "File 'data.txt' has been created.\n",
      "\n",
      "File content:\n",
      "\n",
      "끝\n"
     ]
    }
   ],
   "source": [
    "#문제 1:\n",
    "#텍스트 파일 data.txt를 생성하고, 1부터 10까지의 숫자를 한 줄씩 파일에 기록하세요.\n",
    "with open(\"data.txt\",\"w\") as file:\n",
    "    for i in range(10):\n",
    "        file.write(f\"{i}\\n\")\n",
    "\n",
    "print(\"File 'data.txt' has been created.\\n\")\n",
    "\n",
    "\n",
    "try:\n",
    "    with open(\"data2.txt\",\"r\") as files:\n",
    "        text=files.read()\n",
    "except FileNotFoundError:\n",
    "    print(\"없음\")\n",
    "else:\n",
    "    print(\"File content:\")\n",
    "    print(text)\n",
    "finally:\n",
    "    print(\"끝\")"
   ]
  },
  {
   "cell_type": "code",
   "execution_count": 504,
   "id": "89ead6b8-d89f-406c-bfd1-ab48134adce6",
   "metadata": {},
   "outputs": [
    {
     "name": "stdout",
     "output_type": "stream",
     "text": [
      "Writing to 'data.txt'...\n",
      "File 'data.txt' has been created.\n",
      "\n",
      "Attempting to read 'data2.txt'...\n",
      "File content:\n",
      "0\n",
      "1\n",
      "2\n",
      "3\n",
      "4\n",
      "5\n",
      "6\n",
      "7\n",
      "8\n",
      "9\n",
      "\n",
      "File operation finished.\n"
     ]
    }
   ],
   "source": [
    "# 파일 쓰기\n",
    "print(\"Writing to 'data.txt'...\")\n",
    "with open(\"data.txt\", \"w\") as file:\n",
    "    for i in range(10):\n",
    "        file.write(f\"{i}\\n\")\n",
    "print(\"File 'data.txt' has been created.\\n\")\n",
    "\n",
    "# 파일 읽기 및 예외 처리\n",
    "try:\n",
    "    print(\"Attempting to read 'data2.txt'...\")\n",
    "    with open(\"data.txt\", \"r\") as files:\n",
    "        text = files.read()\n",
    "except FileNotFoundError:\n",
    "    print(\"Error: 'data2.txt' 파일을 찾을 수 없습니다.\")\n",
    "else:\n",
    "    print(\"File content:\")\n",
    "    print(text)\n",
    "finally:\n",
    "    print(\"File operation finished.\")\n"
   ]
  },
  {
   "cell_type": "code",
   "execution_count": 496,
   "id": "6925e2f7-f5ce-42a8-a45d-70ad4d88c2c0",
   "metadata": {},
   "outputs": [
    {
     "name": "stdout",
     "output_type": "stream",
     "text": [
      "0\n",
      "1\n",
      "4\n",
      "9\n",
      "16\n",
      "25\n",
      "36\n",
      "49\n",
      "64\n",
      "81\n"
     ]
    },
    {
     "ename": "UnsupportedOperation",
     "evalue": "not readable",
     "output_type": "error",
     "traceback": [
      "\u001b[1;31m---------------------------------------------------------------------------\u001b[0m",
      "\u001b[1;31mUnsupportedOperation\u001b[0m                      Traceback (most recent call last)",
      "Cell \u001b[1;32mIn[496], line 9\u001b[0m\n\u001b[0;32m      6\u001b[0m         \u001b[38;5;28mprint\u001b[39m(sq)\n\u001b[0;32m      8\u001b[0m \u001b[38;5;28;01mwith\u001b[39;00m \u001b[38;5;28mopen\u001b[39m(\u001b[38;5;124m\"\u001b[39m\u001b[38;5;124mdata2.txt\u001b[39m\u001b[38;5;124m\"\u001b[39m,\u001b[38;5;124m\"\u001b[39m\u001b[38;5;124mw\u001b[39m\u001b[38;5;124m\"\u001b[39m) \u001b[38;5;28;01mas\u001b[39;00m file:\n\u001b[1;32m----> 9\u001b[0m     \u001b[38;5;28;01mfor\u001b[39;00m i \u001b[38;5;129;01min\u001b[39;00m file:\n\u001b[0;32m     10\u001b[0m         sqw\u001b[38;5;241m=\u001b[39m\u001b[38;5;28mint\u001b[39m(i)\u001b[38;5;241m*\u001b[39m\u001b[38;5;241m*\u001b[39m\u001b[38;5;241m2\u001b[39m\n\u001b[0;32m     11\u001b[0m         file\u001b[38;5;241m.\u001b[39mwrite(\u001b[38;5;124mf\u001b[39m\u001b[38;5;124m\"\u001b[39m\u001b[38;5;132;01m{\u001b[39;00msqw\u001b[38;5;132;01m}\u001b[39;00m\u001b[38;5;130;01m\\n\u001b[39;00m\u001b[38;5;124m\"\u001b[39m)\n",
      "\u001b[1;31mUnsupportedOperation\u001b[0m: not readable"
     ]
    }
   ],
   "source": [
    "#문제 2:\n",
    "#data.txt를 읽어서 각 줄의 숫자를 제곱한 값을 화면에 출력하세요.\n",
    "with open(\"data.txt\",\"r\") as files:\n",
    "    for i in files:\n",
    "        sq=int(i)**2\n",
    "        print(sq)\n",
    "        \n",
    "with open(\"data2.txt\",\"w\") as file:\n",
    "    for i in file:\n",
    "        sqw=int(i)**2\n",
    "        file.write(f\"{sqw}\\n\")\n",
    "        "
   ]
  },
  {
   "cell_type": "code",
   "execution_count": null,
   "id": "8573b3fe-a19b-4bdb-a7a0-271ebe21371a",
   "metadata": {},
   "outputs": [],
   "source": []
  },
  {
   "cell_type": "code",
   "execution_count": null,
   "id": "ebc904f9-db55-44fc-96cd-4ee21d3891cb",
   "metadata": {},
   "outputs": [
    {
     "name": "stdin",
     "output_type": "stream",
     "text": [
      "찾는 문장 asd\n",
      "찾는 문장 자차카타\n"
     ]
    },
    {
     "name": "stdout",
     "output_type": "stream",
     "text": [
      "자차카타\n",
      " 자\n"
     ]
    }
   ],
   "source": [
    "#문제 3:\n",
    "#파일에서 특정 단어가 포함된 줄만 출력하는 프로그램을 작성하세요.\n",
    "with open(\"datas.txt\",\"w\") as file:\n",
    "    file.write(\"가나다라\\n마바사아\\n자차카타\\n타파하\\n abcd\\n efgh\\n hijk\\n lmno\\n pqrs\\n tyvw\\n xyz\\n\")\n",
    "\n",
    "while True:\n",
    "    try:\n",
    "        with open(\"datas.txt\",\"r\")as files:\n",
    "            search_string=str(input(\"찾는 문장\"))\n",
    "            if search_string==\"end\":\n",
    "                print(\"종료\")\n",
    "                break\n",
    "\n",
    "            found=False\n",
    "            for line in files:\n",
    "                if(search_string in line):            \n",
    "                    print(line)\n",
    "                    #else:\n",
    "                    #    #continue\n",
    "                    #   print(\"찾는 문장이 없다/.\")\n",
    "                \n",
    "    except ValueError:\n",
    "        print(\"찾는 문장이 없다.\")"
   ]
  },
  {
   "cell_type": "code",
   "execution_count": 506,
   "id": "106217bb-02a7-4d53-9b97-28eb1cc8f27c",
   "metadata": {},
   "outputs": [
    {
     "name": "stdin",
     "output_type": "stream",
     "text": [
      "찾는 문장 (종료: end):  asd\n"
     ]
    },
    {
     "name": "stdout",
     "output_type": "stream",
     "text": [
      "찾는 문장이 없습니다.\n"
     ]
    },
    {
     "name": "stdin",
     "output_type": "stream",
     "text": [
      "찾는 문장 (종료: end):  가나다라\n"
     ]
    },
    {
     "name": "stdout",
     "output_type": "stream",
     "text": [
      "가나다라\n"
     ]
    },
    {
     "name": "stdin",
     "output_type": "stream",
     "text": [
      "찾는 문장 (종료: end):  end\n"
     ]
    },
    {
     "name": "stdout",
     "output_type": "stream",
     "text": [
      "종료\n"
     ]
    }
   ],
   "source": [
    "# 파일 작성\n",
    "with open(\"datas.txt\", \"w\") as file:\n",
    "    file.write(\"가나다라\\n마바사아\\n자차카타\\n타파하\\nabcd\\nefgh\\nhijk\\nlmno\\npqrs\\ntyvw\\nxyz\\n\")\n",
    "\n",
    "# 파일 읽기 및 검색\n",
    "try:\n",
    "    with open(\"datas.txt\", \"r\") as files:\n",
    "        content = files.readlines()  # 파일 내용을 한 번에 읽어 리스트로 저장\n",
    "        while True:\n",
    "            search_string = input(\"찾는 문장 (종료: end): \").strip()\n",
    "            if search_string == \"end\":\n",
    "                print(\"종료\")\n",
    "                break\n",
    "\n",
    "            # 검색 결과 출력\n",
    "            found = False  # 검색 결과를 추적\n",
    "            for line in content:\n",
    "                if search_string in line:\n",
    "                    print(line.strip())\n",
    "                    found = True\n",
    "            \n",
    "            if not found:\n",
    "                print(\"찾는 문장이 없습니다.\")\n",
    "except FileNotFoundError:\n",
    "    print(\"Error: 'datas.txt' 파일을 찾을 수 없습니다.\")\n"
   ]
  },
  {
   "cell_type": "code",
   "execution_count": 508,
   "id": "9e9f6feb-06e6-45f0-a3e5-b308b431a7ae",
   "metadata": {},
   "outputs": [
    {
     "name": "stdout",
     "output_type": "stream",
     "text": [
      "Error: 'dats.txt' 파일을 찾을 수 없습니다.\n",
      "complite\n"
     ]
    }
   ],
   "source": [
    "#문제 4:\n",
    "#사용자 정의 예외를 만들어, 파일 이름에 특정 확장자가 아닌 경우 에러를 발생시키는 코드를 작성하세요.\n",
    "try:\n",
    "    with open(\"dats.txt\",\"r\") as file:\n",
    "        content=file.read()\n",
    "\n",
    "\n",
    "except FileNotFoundError:\n",
    "    print(\"Error: 'dats.txt' 파일을 찾을 수 없습니다.\")\n",
    "\n",
    "except PermissionError:\n",
    "    print(\"Error: 파일에 대한 읽기 권한이 없습니다.\")\n",
    "\n",
    "except Exception as e:  # 기타 예외 처리\n",
    "    print(f\"Unexpected error: {e}\")\n",
    "\n",
    "else:\n",
    "    print(\"내용\")\n",
    "    print(content)\n",
    "    \n",
    "finally:\n",
    "    print(\"complite\")"
   ]
  },
  {
   "cell_type": "raw",
   "id": "5ee8d2b4-e411-42c3-869d-997b0e9790cb",
   "metadata": {},
   "source": []
  }
 ],
 "metadata": {
  "kernelspec": {
   "display_name": "Python 3 (ipykernel)",
   "language": "python",
   "name": "python3"
  },
  "language_info": {
   "codemirror_mode": {
    "name": "ipython",
    "version": 3
   },
   "file_extension": ".py",
   "mimetype": "text/x-python",
   "name": "python",
   "nbconvert_exporter": "python",
   "pygments_lexer": "ipython3",
   "version": "3.12.3"
  }
 },
 "nbformat": 4,
 "nbformat_minor": 5
}
