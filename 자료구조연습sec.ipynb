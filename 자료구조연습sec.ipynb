{
 "cells": [
  {
   "cell_type": "code",
   "execution_count": 2,
   "id": "01201a36",
   "metadata": {},
   "outputs": [
    {
     "name": "stdout",
     "output_type": "stream",
     "text": [
      "None\n",
      "False\n"
     ]
    },
    {
     "ename": "AssertionError",
     "evalue": "Torch not compiled with CUDA enabled",
     "output_type": "error",
     "traceback": [
      "\u001b[1;31m---------------------------------------------------------------------------\u001b[0m",
      "\u001b[1;31mAssertionError\u001b[0m                            Traceback (most recent call last)",
      "Cell \u001b[1;32mIn[2], line 4\u001b[0m\n\u001b[0;32m      2\u001b[0m \u001b[38;5;28mprint\u001b[39m(torch\u001b[38;5;241m.\u001b[39mversion\u001b[38;5;241m.\u001b[39mcuda)  \u001b[38;5;66;03m# 빌드된 CUDA 버전 확인\u001b[39;00m\n\u001b[0;32m      3\u001b[0m \u001b[38;5;28mprint\u001b[39m(torch\u001b[38;5;241m.\u001b[39mcuda\u001b[38;5;241m.\u001b[39mis_available())\n\u001b[1;32m----> 4\u001b[0m \u001b[38;5;28mprint\u001b[39m(torch\u001b[38;5;241m.\u001b[39mcuda\u001b[38;5;241m.\u001b[39mget_device_name(\u001b[38;5;241m0\u001b[39m))\n",
      "File \u001b[1;32m~\\anaconda3\\Lib\\site-packages\\torch\\cuda\\__init__.py:414\u001b[0m, in \u001b[0;36mget_device_name\u001b[1;34m(device)\u001b[0m\n\u001b[0;32m    402\u001b[0m \u001b[38;5;28;01mdef\u001b[39;00m \u001b[38;5;21mget_device_name\u001b[39m(device: Optional[_device_t] \u001b[38;5;241m=\u001b[39m \u001b[38;5;28;01mNone\u001b[39;00m) \u001b[38;5;241m-\u001b[39m\u001b[38;5;241m>\u001b[39m \u001b[38;5;28mstr\u001b[39m:\n\u001b[0;32m    403\u001b[0m \u001b[38;5;250m    \u001b[39m\u001b[38;5;124mr\u001b[39m\u001b[38;5;124;03m\"\"\"Get the name of a device.\u001b[39;00m\n\u001b[0;32m    404\u001b[0m \n\u001b[0;32m    405\u001b[0m \u001b[38;5;124;03m    Args:\u001b[39;00m\n\u001b[1;32m   (...)\u001b[0m\n\u001b[0;32m    412\u001b[0m \u001b[38;5;124;03m        str: the name of the device\u001b[39;00m\n\u001b[0;32m    413\u001b[0m \u001b[38;5;124;03m    \"\"\"\u001b[39;00m\n\u001b[1;32m--> 414\u001b[0m     \u001b[38;5;28;01mreturn\u001b[39;00m get_device_properties(device)\u001b[38;5;241m.\u001b[39mname\n",
      "File \u001b[1;32m~\\anaconda3\\Lib\\site-packages\\torch\\cuda\\__init__.py:444\u001b[0m, in \u001b[0;36mget_device_properties\u001b[1;34m(device)\u001b[0m\n\u001b[0;32m    434\u001b[0m \u001b[38;5;28;01mdef\u001b[39;00m \u001b[38;5;21mget_device_properties\u001b[39m(device: _device_t) \u001b[38;5;241m-\u001b[39m\u001b[38;5;241m>\u001b[39m _CudaDeviceProperties:\n\u001b[0;32m    435\u001b[0m \u001b[38;5;250m    \u001b[39m\u001b[38;5;124mr\u001b[39m\u001b[38;5;124;03m\"\"\"Get the properties of a device.\u001b[39;00m\n\u001b[0;32m    436\u001b[0m \n\u001b[0;32m    437\u001b[0m \u001b[38;5;124;03m    Args:\u001b[39;00m\n\u001b[1;32m   (...)\u001b[0m\n\u001b[0;32m    442\u001b[0m \u001b[38;5;124;03m        _CudaDeviceProperties: the properties of the device\u001b[39;00m\n\u001b[0;32m    443\u001b[0m \u001b[38;5;124;03m    \"\"\"\u001b[39;00m\n\u001b[1;32m--> 444\u001b[0m     _lazy_init()  \u001b[38;5;66;03m# will define _get_device_properties\u001b[39;00m\n\u001b[0;32m    445\u001b[0m     device \u001b[38;5;241m=\u001b[39m _get_device_index(device, optional\u001b[38;5;241m=\u001b[39m\u001b[38;5;28;01mTrue\u001b[39;00m)\n\u001b[0;32m    446\u001b[0m     \u001b[38;5;28;01mif\u001b[39;00m device \u001b[38;5;241m<\u001b[39m \u001b[38;5;241m0\u001b[39m \u001b[38;5;129;01mor\u001b[39;00m device \u001b[38;5;241m>\u001b[39m\u001b[38;5;241m=\u001b[39m device_count():\n",
      "File \u001b[1;32m~\\anaconda3\\Lib\\site-packages\\torch\\cuda\\__init__.py:284\u001b[0m, in \u001b[0;36m_lazy_init\u001b[1;34m()\u001b[0m\n\u001b[0;32m    279\u001b[0m     \u001b[38;5;28;01mraise\u001b[39;00m \u001b[38;5;167;01mRuntimeError\u001b[39;00m(\n\u001b[0;32m    280\u001b[0m         \u001b[38;5;124m\"\u001b[39m\u001b[38;5;124mCannot re-initialize CUDA in forked subprocess. To use CUDA with \u001b[39m\u001b[38;5;124m\"\u001b[39m\n\u001b[0;32m    281\u001b[0m         \u001b[38;5;124m\"\u001b[39m\u001b[38;5;124mmultiprocessing, you must use the \u001b[39m\u001b[38;5;124m'\u001b[39m\u001b[38;5;124mspawn\u001b[39m\u001b[38;5;124m'\u001b[39m\u001b[38;5;124m start method\u001b[39m\u001b[38;5;124m\"\u001b[39m\n\u001b[0;32m    282\u001b[0m     )\n\u001b[0;32m    283\u001b[0m \u001b[38;5;28;01mif\u001b[39;00m \u001b[38;5;129;01mnot\u001b[39;00m \u001b[38;5;28mhasattr\u001b[39m(torch\u001b[38;5;241m.\u001b[39m_C, \u001b[38;5;124m\"\u001b[39m\u001b[38;5;124m_cuda_getDeviceCount\u001b[39m\u001b[38;5;124m\"\u001b[39m):\n\u001b[1;32m--> 284\u001b[0m     \u001b[38;5;28;01mraise\u001b[39;00m \u001b[38;5;167;01mAssertionError\u001b[39;00m(\u001b[38;5;124m\"\u001b[39m\u001b[38;5;124mTorch not compiled with CUDA enabled\u001b[39m\u001b[38;5;124m\"\u001b[39m)\n\u001b[0;32m    285\u001b[0m \u001b[38;5;28;01mif\u001b[39;00m _cudart \u001b[38;5;129;01mis\u001b[39;00m \u001b[38;5;28;01mNone\u001b[39;00m:\n\u001b[0;32m    286\u001b[0m     \u001b[38;5;28;01mraise\u001b[39;00m \u001b[38;5;167;01mAssertionError\u001b[39;00m(\n\u001b[0;32m    287\u001b[0m         \u001b[38;5;124m\"\u001b[39m\u001b[38;5;124mlibcudart functions unavailable. It looks like you have a broken build?\u001b[39m\u001b[38;5;124m\"\u001b[39m\n\u001b[0;32m    288\u001b[0m     )\n",
      "\u001b[1;31mAssertionError\u001b[0m: Torch not compiled with CUDA enabled"
     ]
    }
   ],
   "source": [
    "import torch\n",
    "print(torch.version.cuda)  # 빌드된 CUDA 버전 확인\n",
    "print(torch.cuda.is_available())\n",
    "print(torch.cuda.get_device_name(0))\n"
   ]
  },
  {
   "cell_type": "code",
   "execution_count": null,
   "id": "34a1818a",
   "metadata": {},
   "outputs": [],
   "source": []
  },
  {
   "cell_type": "code",
   "execution_count": 3,
   "id": "aedd9bf7",
   "metadata": {},
   "outputs": [
    {
     "name": "stdout",
     "output_type": "stream",
     "text": [
      "Looking in indexes: https://download.pytorch.org/whl/cu128\n",
      "Collecting torch\n",
      "  Obtaining dependency information for torch from https://download.pytorch.org/whl/cu128/torch-2.7.0%2Bcu128-cp39-cp39-win_amd64.whl.metadata\n",
      "  Using cached https://download.pytorch.org/whl/cu128/torch-2.7.0%2Bcu128-cp39-cp39-win_amd64.whl.metadata (29 kB)\n",
      "Collecting torchvision\n",
      "  Obtaining dependency information for torchvision from https://download.pytorch.org/whl/cu128/torchvision-0.22.0%2Bcu128-cp39-cp39-win_amd64.whl.metadata\n",
      "  Using cached https://download.pytorch.org/whl/cu128/torchvision-0.22.0%2Bcu128-cp39-cp39-win_amd64.whl.metadata (6.3 kB)\n",
      "Collecting torchaudio\n",
      "  Obtaining dependency information for torchaudio from https://download.pytorch.org/whl/cu128/torchaudio-2.7.0%2Bcu128-cp39-cp39-win_amd64.whl.metadata\n",
      "  Using cached https://download.pytorch.org/whl/cu128/torchaudio-2.7.0%2Bcu128-cp39-cp39-win_amd64.whl.metadata (6.8 kB)\n",
      "Requirement already satisfied: fsspec in c:\\users\\etern\\anaconda3\\lib\\site-packages (from torch) (2022.7.1)\n",
      "Requirement already satisfied: networkx in c:\\users\\etern\\anaconda3\\lib\\site-packages (from torch) (2.8.4)\n",
      "Collecting sympy>=1.13.3\n",
      "  Obtaining dependency information for sympy>=1.13.3 from https://download.pytorch.org/whl/sympy-1.13.3-py3-none-any.whl.metadata\n",
      "  Using cached https://download.pytorch.org/whl/sympy-1.13.3-py3-none-any.whl.metadata (12 kB)\n",
      "Requirement already satisfied: filelock in c:\\users\\etern\\anaconda3\\lib\\site-packages (from torch) (3.6.0)\n",
      "Collecting typing-extensions>=4.10.0\n",
      "  Obtaining dependency information for typing-extensions>=4.10.0 from https://download.pytorch.org/whl/typing_extensions-4.12.2-py3-none-any.whl.metadata\n",
      "  Using cached https://download.pytorch.org/whl/typing_extensions-4.12.2-py3-none-any.whl.metadata (3.0 kB)\n",
      "Discarding https://download.pytorch.org/whl/typing_extensions-4.12.2-py3-none-any.whl#sha256=04e5ca0351e0f3f85c6853954072df659d0d13fac324d0072316b67d7794700d (from https://download.pytorch.org/whl/cu128/typing-extensions/): Requested typing-extensions>=4.10.0 from https://download.pytorch.org/whl/typing_extensions-4.12.2-py3-none-any.whl#sha256=04e5ca0351e0f3f85c6853954072df659d0d13fac324d0072316b67d7794700d (from torch) has inconsistent Name: expected 'typing-extensions', but metadata has 'typing_extensions'\n"
     ]
    },
    {
     "name": "stderr",
     "output_type": "stream",
     "text": [
      "ERROR: Could not find a version that satisfies the requirement typing-extensions>=4.10.0 (from torch) (from versions: 4.4.0, 4.8.0, 4.9.0, 4.12.2)\n",
      "ERROR: No matching distribution found for typing-extensions>=4.10.0\n",
      "WARNING: There was an error checking the latest version of pip.\n"
     ]
    }
   ],
   "source": [
    "!pip3 install torch torchvision torchaudio --index-url https://download.pytorch.org/whl/cu128"
   ]
  },
  {
   "cell_type": "code",
   "execution_count": null,
   "id": "23d69aaf",
   "metadata": {},
   "outputs": [],
   "source": []
  },
  {
   "cell_type": "code",
   "execution_count": 49,
   "id": "13b1dde5",
   "metadata": {},
   "outputs": [],
   "source": [
    "'''class student:\n",
    "    def __init__(self,name,score,student_D):\n",
    "        self.name=name\n",
    "        self.score=score\n",
    "        self.student_D=student_D\n",
    "    def __str__(self):\n",
    "        return f\"{self.name}, {self.score}, {self.student_D}\"\n",
    "'''  \n",
    "\n",
    "class shool:\n",
    "    def __init__(self):\n",
    "        self.Lis={}\n",
    "        \n",
    "    def add_student(self, name, score):\n",
    "        \n",
    "        if name in self.Lis:\n",
    "            return \"이미 있음\"\n",
    "        else:\n",
    "            self.Lis[name]= score\n",
    "            print(f\"{name} 학생이 {score}점으로 등록되었습니다.\")\n",
    "        return self.Lis\n",
    "    \n",
    "    def display(self):\n",
    "        if not self.Lis:\n",
    "            print(\"등록된 학생이 없습니다.\")\n",
    "        else:\n",
    "            for name, score in self.Lis.items():\n",
    "                print(f\"{name}: {score}점\")"
   ]
  },
  {
   "cell_type": "code",
   "execution_count": 53,
   "id": "af05aeb7",
   "metadata": {},
   "outputs": [
    {
     "name": "stdout",
     "output_type": "stream",
     "text": [
      "Alice 학생이 85점으로 등록되었습니다.\n",
      "Bob 학생이 78점으로 등록되었습니다.\n",
      "\n",
      "전체 학생 목록:\n",
      "Alice: 85점\n",
      "Bob: 78점\n"
     ]
    }
   ],
   "source": [
    "school = shool()\n",
    "school.add_student(\"Alice\", 85)\n",
    "school.add_student(\"Bob\", 78)\n",
    "school.add_student(\"Alice\", 90)  # 이미 등록된 이름\n",
    "print(\"\\n전체 학생 목록:\")\n",
    "school.display()"
   ]
  },
  {
   "cell_type": "code",
   "execution_count": 61,
   "id": "8324b4a7",
   "metadata": {},
   "outputs": [],
   "source": [
    "class tag:\n",
    "    def __init__(self):\n",
    "        self.tag_L={}\n",
    "        self.Lis={}\n",
    "        \n",
    "    def add_tag(self, name, tag):\n",
    "        if name not in self.tag_L:\n",
    "            self.tag_L[name]=set()\n",
    "        self.tag_L[name].add(tag)\n",
    "        print(f\"{name}의 태그 목록: {self.tag_L[name]}\")\n",
    "    \n",
    "    def get_tags(self, name):\n",
    "        if name in self.tag_L:\n",
    "            print(f\"{name}, {self.tag_L}\")\n",
    "            return self.tag_L[name]\n",
    "        \n",
    "        else:\n",
    "            print(\"없다\")\n",
    "            return None\n",
    "            \n",
    "    def common_tags(self, name1, name2):\n",
    "        if name1 in self.tag_L and name2 in self.tag_L:\n",
    "            common = self.tag_L[name1] & self.tag_L[name2]\n",
    "            return common\n",
    "        else:\n",
    "            print(\"둘 중에 없는 학생이 있습니다.\")\n",
    "        return set()"
   ]
  },
  {
   "cell_type": "code",
   "execution_count": 62,
   "id": "8e70d70e",
   "metadata": {},
   "outputs": [
    {
     "name": "stdout",
     "output_type": "stream",
     "text": [
      "Alice의 태그 목록: {'math'}\n",
      "Alice의 태그 목록: {'math', 'science'}\n",
      "Bob의 태그 목록: {'science'}\n",
      "Bob의 태그 목록: {'art', 'science'}\n",
      "Alice, {'Alice': {'math', 'science'}, 'Bob': {'art', 'science'}}\n",
      "Alice 태그: {'math', 'science'}\n",
      "Bob, {'Alice': {'math', 'science'}, 'Bob': {'art', 'science'}}\n",
      "Bob 태그: {'art', 'science'}\n",
      "둘 중에 없는 학생이 있습니다.\n"
     ]
    },
    {
     "data": {
      "text/plain": [
       "set()"
      ]
     },
     "execution_count": 62,
     "metadata": {},
     "output_type": "execute_result"
    }
   ],
   "source": [
    "tm = tag()\n",
    "tm.add_tag(\"Alice\", \"math\")\n",
    "tm.add_tag(\"Alice\", \"science\")\n",
    "tm.add_tag(\"Bob\",   \"science\")\n",
    "tm.add_tag(\"Bob\",   \"art\")\n",
    "\n",
    "print(\"Alice 태그:\", tm.get_tags(\"Alice\"))\n",
    "print(\"Bob 태그:\",   tm.get_tags(\"Bob\"))\n",
    "\n",
    "tm.common_tags(\"Alice\", \"Bob\")   # -> {'science'}\n",
    "tm.common_tags(\"Alice\", \"Charlie\")  # Charlie가 없으므로 오류 메시지\n"
   ]
  },
  {
   "cell_type": "code",
   "execution_count": null,
   "id": "131d2300",
   "metadata": {},
   "outputs": [],
   "source": []
  },
  {
   "cell_type": "code",
   "execution_count": null,
   "id": "ab6a649c",
   "metadata": {},
   "outputs": [],
   "source": []
  },
  {
   "cell_type": "code",
   "execution_count": 92,
   "id": "c8ba6610",
   "metadata": {},
   "outputs": [],
   "source": [
    "#문제 2-A: 웹 브라우저 방문 기록 (스택 활용)\n",
    "class visiters:\n",
    "    def __init__(self):\n",
    "        self.stack=[]\n",
    "        \n",
    "    def visit_save(self,url):\n",
    "        self.stack.append(url)\n",
    "        return self.stack\n",
    "    \n",
    "    def back(self):\n",
    "        if not self.stack:\n",
    "            print(\"Enpty\")\n",
    "            return None\n",
    "        else:\n",
    "            last=self.stack.pop()\n",
    "            print(\"out\")\n",
    "            print(f\"뒤로가기: {last}\")\n",
    "            return last\n",
    "    def display_history(self):\n",
    "        if not self.stack:\n",
    "            print(\"방문 기록이 없습니다.\")\n",
    "            return None\n",
    "        print(\"=== 방문 기록 ===\")\n",
    "        \n",
    "        for url in self.stack:\n",
    "            print(url)\n",
    "        #return "
   ]
  },
  {
   "cell_type": "code",
   "execution_count": 93,
   "id": "2f73f0e2",
   "metadata": {},
   "outputs": [
    {
     "name": "stdout",
     "output_type": "stream",
     "text": [
      "=== 방문 기록 ===\n",
      "https://example.com\n",
      "https://openai.com\n",
      "https://github.com\n",
      "out\n",
      "뒤로가기: https://github.com\n",
      "out\n",
      "뒤로가기: https://openai.com\n",
      "out\n",
      "뒤로가기: https://example.com\n",
      "Enpty\n"
     ]
    }
   ],
   "source": [
    "bh = visiters()\n",
    "bh.visit_save(\"https://example.com\")\n",
    "bh.visit_save(\"https://openai.com\")\n",
    "bh.visit_save(\"https://github.com\")\n",
    "\n",
    "bh.display_history()\n",
    "# 출력:\n",
    "# === 방문 기록 ===\n",
    "# https://example.com\n",
    "# https://openai.com\n",
    "# https://github.com\n",
    "# =================\n",
    "\n",
    "bh.back()             # 뒤로가기: https://github.com\n",
    "bh.back()             # 뒤로가기: https://openai.com\n",
    "bh.back()             # 뒤로가기: https://example.com\n",
    "bh.back()             # 이전 페이지가 없습니다.\n"
   ]
  },
  {
   "cell_type": "code",
   "execution_count": null,
   "id": "838ba5e1",
   "metadata": {},
   "outputs": [],
   "source": []
  },
  {
   "cell_type": "code",
   "execution_count": 95,
   "id": "e306fb52",
   "metadata": {},
   "outputs": [],
   "source": [
    "#문제 2-B: 서버 요청 처리 (큐 활용)\n",
    "from collections import deque\n",
    "class RQ:\n",
    "    def __init__(self):\n",
    "        self.queue=deque()\n",
    "        \n",
    "    def enq(self, request):\n",
    "        self.queue.append(request)\n",
    "        print(f\"요청 대기열에 추가: {request}\")\n",
    "        \n",
    "    def deq(self):\n",
    "        if not self.queue:\n",
    "            return \"처리할 요청이 없습니다.\"\n",
    "        else:\n",
    "            t=self.queue.popleft()\n",
    "            return t\n",
    "        \n",
    "    def display_queue(self):\n",
    "        if not self.queue:\n",
    "            return \"처리할 요청이 없습니다.\"\n",
    "        else:\n",
    "            for t in self.queue:\n",
    "                print(t)\n",
    "            print(\"====================\")"
   ]
  },
  {
   "cell_type": "code",
   "execution_count": 96,
   "id": "657cf635",
   "metadata": {},
   "outputs": [
    {
     "name": "stdout",
     "output_type": "stream",
     "text": [
      "요청 대기열에 추가: GET /index.html\n",
      "요청 대기열에 추가: POST /submit\n",
      "GET /index.html\n",
      "POST /submit\n",
      "====================\n"
     ]
    },
    {
     "data": {
      "text/plain": [
       "'처리할 요청이 없습니다.'"
      ]
     },
     "execution_count": 96,
     "metadata": {},
     "output_type": "execute_result"
    }
   ],
   "source": [
    "rq = RQ()\n",
    "rq.enq(\"GET /index.html\")\n",
    "rq.enq(\"POST /submit\")\n",
    "rq.display_queue()\n",
    "rq.deq()\n",
    "rq.deq()\n",
    "rq.deq()  # 더 이상 처리할 요청이 없음\n"
   ]
  },
  {
   "cell_type": "code",
   "execution_count": null,
   "id": "4a82ee68",
   "metadata": {},
   "outputs": [],
   "source": []
  },
  {
   "cell_type": "code",
   "execution_count": null,
   "id": "e1fd8e65-9f68-4692-bf79-f26bbe3995eb",
   "metadata": {},
   "outputs": [],
   "source": []
  },
  {
   "cell_type": "code",
   "execution_count": 49,
   "id": "ee6bbd36-a250-415f-9e3b-4bb6146ace09",
   "metadata": {},
   "outputs": [],
   "source": [
    "#문제 3-A: 회사 조직도 (트리 구조)\n",
    "\n",
    "class Employee:\n",
    "    def __init__(self, name, position):\n",
    "        self.name=name\n",
    "        self.position=position\n",
    "        self.nodess=[]\n",
    "    def __str__(self):\n",
    "        return f\"{self.name}->{self.position}\"\n",
    "\n",
    "\n",
    "class OrgChart:\n",
    "    def __init__(self, emploeey):\n",
    "        self.root=emploeey\n",
    "\n",
    "    def find(self, name, node=None):\n",
    "        if node is None:\n",
    "            node=self.root\n",
    "        if node.name==name:\n",
    "            return node\n",
    "        for child in node.nodess:\n",
    "            found=self.find(name, child)\n",
    "            if found:\n",
    "                return found\n",
    "        return None\n",
    "\n",
    "    def add_employee(self, manager_name, employee_node):\n",
    "        manager=self.find(manager_name)\n",
    "        if manager:\n",
    "            manager.nodess.append(employee_node)\n",
    "        else:\n",
    "            print(f\"매니저 '{manager_name}'를 찾을 수 없습니다.\")\n",
    "\n",
    "    def display(self,node=None, level=0):\n",
    "        if node is None:\n",
    "            node=self.root\n",
    "        print(\"  \" * level + f\"{node.position} ({node.name})\")\n",
    "        for child in node.nodess:\n",
    "            self.display(child,level+1)"
   ]
  },
  {
   "cell_type": "code",
   "execution_count": 51,
   "id": "c49e4310-6dc1-4a9d-8913-b700de5ef6ac",
   "metadata": {},
   "outputs": [
    {
     "name": "stdout",
     "output_type": "stream",
     "text": [
      "CEO (Alice)\n",
      "  Manager (Bob)\n",
      "    Developer (Charlie)\n",
      "    Designer (Dana)\n",
      "  Manager (Eve)\n",
      "    QA (Frank)\n",
      "찾은 직원: Developer Charlie\n"
     ]
    }
   ],
   "source": [
    "# 1) 조직도 생성\n",
    "ceo = Employee(\"Alice\", \"CEO\")\n",
    "org = OrgChart(ceo)\n",
    "\n",
    "# 2) 직원 추가\n",
    "org.add_employee(\"Alice\", Employee(\"Bob\", \"Manager\"))\n",
    "org.add_employee(\"Alice\", Employee(\"Eve\", \"Manager\"))\n",
    "org.add_employee(\"Bob\",   Employee(\"Charlie\", \"Developer\"))\n",
    "org.add_employee(\"Bob\",   Employee(\"Dana\", \"Designer\"))\n",
    "org.add_employee(\"Eve\",   Employee(\"Frank\", \"QA\"))\n",
    "\n",
    "# 3) 조직도 출력\n",
    "org.display()\n",
    "\n",
    "# 4) 직원 검색\n",
    "node = org.find(\"Charlie\")\n",
    "print(\"찾은 직원:\", node.position, node.name)\n"
   ]
  },
  {
   "cell_type": "code",
   "execution_count": null,
   "id": "6772dfa4-2ba0-4b53-b971-cd4edc943438",
   "metadata": {},
   "outputs": [],
   "source": []
  },
  {
   "cell_type": "code",
   "execution_count": 53,
   "id": "22184142-5461-4b14-84ed-fe55ee9c8bcc",
   "metadata": {},
   "outputs": [],
   "source": [
    "#1) BFS(너비 우선 탐색)로 직원 찾기\n",
    "\n",
    "from collections import deque\n",
    "\n",
    "def find_dfs(self, target):\n",
    "    queue=deque([root])\n",
    "    while queue:\n",
    "        node=queue.popleft()\n",
    "        if node.name==target:\n",
    "            return node\n",
    "\n",
    "        for child in node.nodess:\n",
    "            queue.append(child)\n",
    "    return None"
   ]
  },
  {
   "cell_type": "code",
   "execution_count": 55,
   "id": "f414a679-bb53-459c-8837-0a2f4110f491",
   "metadata": {},
   "outputs": [],
   "source": [
    "#2) DFS(깊이 우선 탐색)도 스택으로!\n",
    "\n",
    "def find_DFS(self, root, target):\n",
    "    stack=[root]\n",
    "    while stack:\n",
    "        node=stack.pop()\n",
    "        if node.name==target:\n",
    "            return node\n",
    "        for child in reversed(node.nodess):\n",
    "            stack.append(child)\n",
    "    return None"
   ]
  },
  {
   "cell_type": "code",
   "execution_count": null,
   "id": "54ab30a5-d2d9-4832-9817-d7e869f8afd7",
   "metadata": {},
   "outputs": [],
   "source": []
  },
  {
   "cell_type": "code",
   "execution_count": null,
   "id": "7cd8dd82-8c05-499e-bae9-aef04282a59e",
   "metadata": {},
   "outputs": [],
   "source": []
  },
  {
   "cell_type": "code",
   "execution_count": null,
   "id": "37e075d5-9d27-4e80-99b4-8d632be1906e",
   "metadata": {},
   "outputs": [],
   "source": [
    "#문제 3-B: 회사 내부 네트워크 (그래프 활용)\n",
    "from collctions import deque\n",
    "\n",
    "class Node:\n",
    "    def __init__(self, a,b):\n",
    "        self.a=a\n",
    "        self.b=b\n",
    "        self.type=[]\n",
    "    \n",
    "    def __str__(self):\n",
    "        return f\"{self.a}, {self.b}\"\n",
    "\n",
    "class network:\n",
    "    def __init__(self, lsuy):\n",
    "        "
   ]
  },
  {
   "cell_type": "code",
   "execution_count": null,
   "id": "f3fdabcd-5c91-4b68-bfb0-bfbf59b6ab4b",
   "metadata": {},
   "outputs": [],
   "source": []
  },
  {
   "cell_type": "code",
   "execution_count": null,
   "id": "e4447da5-c747-4c50-a40a-6c16037c7887",
   "metadata": {},
   "outputs": [],
   "source": []
  },
  {
   "cell_type": "code",
   "execution_count": null,
   "id": "54491239-9542-4226-98e6-690c74f42097",
   "metadata": {},
   "outputs": [],
   "source": [
    "#문제 3-B: 회사 내부 네트워크 (그래프 활용)"
   ]
  },
  {
   "cell_type": "code",
   "execution_count": 48,
   "id": "1da6a91f-f976-48b3-a73f-03bfcd4abfba",
   "metadata": {},
   "outputs": [],
   "source": [
    "#3-B-1. 네트워크 구성 및 관리\n",
    "from collections import deque\n",
    "class network:\n",
    "    def __init__(self):\n",
    "        self.adj = {}\n",
    "        \n",
    "    def add_connection(self, a, b):\n",
    "        self.adj.setdefault(a,[]).append(b) # a → b 간선 추가\n",
    "        self.adj.setdefault(b,[]).append(a) # b → a 간선 추가 (무방향)\n",
    "\n",
    "    def remove_connection(self, a, b):\n",
    "        if a in self.adj and b in self.adj[a]:\n",
    "            self.adj[a].remove(b)\n",
    "        if b in self.adj and a in self.adj[b]:\n",
    "            self.adj[b].remove(a)\n",
    "    \n",
    "    def display(self):\n",
    "        for node, neighnors in self.adj.items():\n",
    "            print(f\"{node}: {neighnors}\")\n",
    "\n",
    "#3-B-2. 연결성 검사 (DFS 또는 BFS)\n",
    "\n",
    "    def is_connected(self, start, target):\n",
    "        if start not in self.adj or target not in self.adj:\n",
    "            return False\n",
    "        visit={start}\n",
    "        q=deque([start])\n",
    "        while q:\n",
    "            u=q.popleft()\n",
    "            if u ==target:\n",
    "                return True\n",
    "            for v in self.adj[u]:\n",
    "                if v not in visit:\n",
    "                    visit.add(v)\n",
    "                    q.append(v)\n",
    "        return False\n",
    "\n",
    "    def reachable(self, start):\n",
    "        if start not in self.adj:\n",
    "            return set()\n",
    "        visit={start}\n",
    "        q=deque([start])\n",
    "        while q:\n",
    "            u=q.popleft()\n",
    "            for v in self.adj.get(u,[]):\n",
    "                if v not in visit:\n",
    "                    visit.add(v)\n",
    "                    q.append(v)\n",
    "        return visit\n",
    "        \n",
    "#3-B-3. 사이클 검출 및 최단 경로 찾기\n",
    "\n",
    "    def has_cycle(self):\n",
    "        vitis=set()\n",
    "        def dfs(u,parent):\n",
    "            vitis.add(u)\n",
    "            for v in self.adj.get(u,[]):\n",
    "                if v not in vitis:\n",
    "                    return True\n",
    "                elif v !=parent:\n",
    "                    return True\n",
    "            return False\n",
    "        for node in self.adj:\n",
    "            if node not in vitis:\n",
    "                if dfs(node,None):\n",
    "                    return True\n",
    "        return False\n",
    "\n",
    "    def shortest_path(self, start, target):\n",
    "        if start not in self.adj or target not in self.adj:\n",
    "            return []\n",
    "        prev={start:None}\n",
    "        q=deque()\n",
    "        while q:\n",
    "            u=q.popleft()\n",
    "            if u==self.adj[u]:\n",
    "                break\n",
    "            for v in self.adj[u]:\n",
    "                if v not in prev:\n",
    "                    prev[v]=u\n",
    "                    q.append(v)\n",
    "\n",
    "        path=[]\n",
    "        cur=target\n",
    "        while cur is not None:\n",
    "            path.append(cur)\n",
    "            cur=prev.get(cur)\n",
    "        path.reverse()\n",
    "        if path[0]==start:\n",
    "            return path\n",
    "        else:\n",
    "            return []\n",
    "                "
   ]
  },
  {
   "cell_type": "code",
   "execution_count": 50,
   "id": "f78839cf-d908-4a8e-a826-92204fce60fd",
   "metadata": {},
   "outputs": [
    {
     "name": "stdout",
     "output_type": "stream",
     "text": [
      "PC1: ['PC2', 'PC3']\n",
      "PC2: ['PC1', 'PC4']\n",
      "PC3: ['PC1']\n",
      "PC4: ['PC2']\n"
     ]
    }
   ],
   "source": [
    "net = network()\n",
    "# 연결 추가\n",
    "net.add_connection(\"PC1\", \"PC2\")\n",
    "net.add_connection(\"PC1\", \"PC3\")\n",
    "net.add_connection(\"PC2\", \"PC4\")\n",
    "\n",
    "# 현재 인접 리스트 확인\n",
    "net.display()\n",
    "# 기대 출력 예시\n",
    "# PC1: ['PC2', 'PC3']\n",
    "# PC2: ['PC1', 'PC4']\n",
    "# PC3: ['PC1']\n",
    "# PC4: ['PC2']\n"
   ]
  },
  {
   "cell_type": "code",
   "execution_count": 52,
   "id": "fbc5e851-ac59-4c50-a88e-a89e5075ac2a",
   "metadata": {},
   "outputs": [
    {
     "name": "stdout",
     "output_type": "stream",
     "text": [
      "네트워크:\n",
      "PC1: ['PC2', 'PC3']\n",
      "PC2: ['PC1', 'PC4']\n",
      "PC3: ['PC1', 'PC5']\n",
      "PC4: ['PC2']\n",
      "PC5: ['PC3']\n",
      "\n",
      "PC1→PC5 연결 가능? True\n",
      "PC1에서 도달 가능한 노드: {'PC5', 'PC2', 'PC4', 'PC3', 'PC1'}\n",
      "\n",
      "사이클 존재 여부? True\n",
      "사이클 존재 여부 (추가 후)? True\n",
      "\n",
      "PC1→PC5 최단 경로: []\n",
      "\n",
      "연결 제거 후 네트워크:\n",
      "PC1: ['PC2']\n",
      "PC2: ['PC1', 'PC4']\n",
      "PC3: ['PC5']\n",
      "PC4: ['PC2', 'PC5']\n",
      "PC5: ['PC3', 'PC4']\n"
     ]
    }
   ],
   "source": [
    "# === 사용 예시 ===\n",
    "net = network()\n",
    "net.add_connection(\"PC1\", \"PC2\")\n",
    "net.add_connection(\"PC1\", \"PC3\")\n",
    "net.add_connection(\"PC2\", \"PC4\")\n",
    "net.add_connection(\"PC3\", \"PC5\")\n",
    "print(\"네트워크:\")\n",
    "net.display()\n",
    "\n",
    "print(\"\\nPC1→PC5 연결 가능?\", net.is_connected(\"PC1\",\"PC5\"))\n",
    "print(\"PC1에서 도달 가능한 노드:\", net.reachable(\"PC1\"))\n",
    "\n",
    "print(\"\\n사이클 존재 여부?\", net.has_cycle())\n",
    "# 추가로 사이클을 만들어 봄\n",
    "net.add_connection(\"PC4\",\"PC5\")\n",
    "print(\"사이클 존재 여부 (추가 후)?\", net.has_cycle())\n",
    "\n",
    "print(\"\\nPC1→PC5 최단 경로:\", net.shortest_path(\"PC1\",\"PC5\"))\n",
    "\n",
    "# 연결 제거 테스트\n",
    "net.remove_connection(\"PC1\",\"PC3\")\n",
    "print(\"\\n연결 제거 후 네트워크:\")\n",
    "net.display()"
   ]
  },
  {
   "cell_type": "code",
   "execution_count": null,
   "id": "a483ab11-8063-4df4-83ce-4100df62e2f0",
   "metadata": {},
   "outputs": [],
   "source": []
  },
  {
   "cell_type": "code",
   "execution_count": null,
   "id": "14fd6e0b-bd8c-4b4d-8130-888f73defd2c",
   "metadata": {},
   "outputs": [],
   "source": []
  }
 ],
 "metadata": {
  "kernelspec": {
   "display_name": "Python 3 (ipykernel)",
   "language": "python",
   "name": "python3"
  },
  "language_info": {
   "codemirror_mode": {
    "name": "ipython",
    "version": 3
   },
   "file_extension": ".py",
   "mimetype": "text/x-python",
   "name": "python",
   "nbconvert_exporter": "python",
   "pygments_lexer": "ipython3",
   "version": "3.12.3"
  }
 },
 "nbformat": 4,
 "nbformat_minor": 5
}
