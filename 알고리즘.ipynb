{
 "cells": [
  {
   "cell_type": "markdown",
   "id": "8a424f1c-a790-4dac-8ea2-85e8bf594de0",
   "metadata": {},
   "source": [
    "# 정렬"
   ]
  },
  {
   "cell_type": "code",
   "execution_count": 4,
   "id": "89c27b31-7788-4825-85b6-5b421fbd917f",
   "metadata": {},
   "outputs": [
    {
     "name": "stdout",
     "output_type": "stream",
     "text": [
      "[1, 2, 5, 5, 6, 9]\n"
     ]
    }
   ],
   "source": [
    "#1. 버블 정렬 (Bubble Sort)\n",
    "\n",
    "def bubble(list):\n",
    "    t=len(list)\n",
    "    for i in range(t-1):\n",
    "        #print(i)\n",
    "        for j in range(t-1-i):\n",
    "           # print(j)\n",
    "            if list[j]>list[j+1]:\n",
    "                list[j],list[j+1]=list[j+1],list[j]\n",
    "\n",
    "    return list\n",
    "\n",
    "data = [5, 2, 9, 1, 5, 6]\n",
    "print(bubble(data))"
   ]
  },
  {
   "cell_type": "code",
   "execution_count": 6,
   "id": "ac2aefa0-e133-4322-98bb-a233c394c1bf",
   "metadata": {},
   "outputs": [
    {
     "name": "stdout",
     "output_type": "stream",
     "text": [
      "[2, 5, 9]\n"
     ]
    }
   ],
   "source": [
    "data = [5, 2, 9]\n",
    "print(bubble(data))  # [1, 2, 5, 5, 6, 9]\n"
   ]
  },
  {
   "cell_type": "markdown",
   "id": "da90cacb-b9ff-4e0c-8183-10ba55a563b4",
   "metadata": {
    "jupyter": {
     "source_hidden": true
    }
   },
   "source": [
    "\n",
    "## 2) 동작 과정(step-by-step)\n",
    "\n",
    "원본: `[5, 2, 9, 1, 5, 6]`\n",
    "\n",
    "### 첫 번째 패스 (i=0 → j=0..4)\n",
    "\n",
    "* j=0: compare 5 & 2 → swap → `[2, 5, 9, 1, 5, 6]`\n",
    "* j=1: compare 5 & 9 → no swap → `[2, 5, 9, 1, 5, 6]`\n",
    "* j=2: compare 9 & 1 → swap → `[2, 5, 1, 9, 5, 6]`\n",
    "* j=3: compare 9 & 5 → swap → `[2, 5, 1, 5, 9, 6]`\n",
    "* j=4: compare 9 & 6 → swap → `[2, 5, 1, 5, 6, 9]`\n",
    "  → 맨 뒤에 **9**가 확정\n",
    "\n",
    "### 두 번째 패스 (i=1 → j=0..3)\n",
    "\n",
    "* j=0: 2 & 5 → —\n",
    "* j=1: 5 & 1 → swap → `[2, 1, 5, 5, 6, 9]`\n",
    "* j=2: 5 & 5 → —\n",
    "* j=3: 5 & 6 → —\n",
    "\n",
    "→ 뒤에서 두 번째 **6** 확정\n",
    "\n",
    "… 이런 식으로 총 5번의 패스 후 최종 `[1, 2, 5, 5, 6, 9]`\n",
    "\n"
   ]
  },
  {
   "cell_type": "raw",
   "id": "0d4140d5-1dff-47bd-a237-508ab031fd78",
   "metadata": {},
   "source": [
    "문제:\n",
    "bubble_sort(arr)를 약간 개선해서, “한 패스에서 한 번도 swap이 일어나지 않으면” 즉시 정렬을 멈추는\n",
    "optimized_bubble_sort(arr) 함수를 작성하세요."
   ]
  },
  {
   "cell_type": "code",
   "execution_count": 41,
   "id": "4c1f1ff6-1a4c-4a09-9a79-55f1d31058b1",
   "metadata": {},
   "outputs": [],
   "source": [
    "def opt_bubble(arr):\n",
    "    t=len(arr)\n",
    "    for i in range(t-1):\n",
    "        swap=False\n",
    "        for j in range(t-1-i):\n",
    "            if arr[j]>arr[j+1]:\n",
    "                arr[j],arr[j+1]=arr[j+1],arr[j]\n",
    "                swap=True\n",
    "        if not swap:\n",
    "            break\n",
    "    return arr"
   ]
  },
  {
   "cell_type": "code",
   "execution_count": 43,
   "id": "d25876f3-e8b9-4cbf-b9c4-f60a03bf2eb7",
   "metadata": {},
   "outputs": [
    {
     "name": "stdout",
     "output_type": "stream",
     "text": [
      "[1, 2, 3, 4, 5]\n",
      "[1, 2, 4, 5, 8]\n"
     ]
    }
   ],
   "source": [
    "data1 = [1, 2, 3, 4, 5]      # 이미 정렬되어 있는 경우\n",
    "data2 = [5, 1, 4, 2, 8]  \n",
    "print(opt_bubble(data1))  # [1, 2, 3, 4, 5]  // 1패스만에 멈춰야 함\n",
    "print(opt_bubble(data2))  # [1, 2, 4, 5, 8]\n"
   ]
  },
  {
   "cell_type": "code",
   "execution_count": null,
   "id": "f77b5872-b4af-4173-9a3f-d5cee9199bd3",
   "metadata": {},
   "outputs": [],
   "source": []
  },
  {
   "cell_type": "code",
   "execution_count": null,
   "id": "206a496b-ea7f-42ca-964b-b8d9a102ce47",
   "metadata": {},
   "outputs": [],
   "source": []
  },
  {
   "cell_type": "markdown",
   "id": "6ac8705d-f251-407e-91bf-7e67eef18e60",
   "metadata": {},
   "source": [
    "# 선택 정렬(Selection Sort)"
   ]
  },
  {
   "cell_type": "code",
   "execution_count": 91,
   "id": "fdd5e8ae-b4da-4f4d-83d1-2a59465935ee",
   "metadata": {},
   "outputs": [],
   "source": [
    "def select(arr):\n",
    "    n=len(arr)\n",
    "    for i in range(n-1):\n",
    "        min_idx=i\n",
    "        for j in range(i+1,n):\n",
    "            if arr[j]<arr[min_idx]:\n",
    "                min_idx=j\n",
    "                \n",
    "        arr[i],arr[min_idx]=arr[min_idx],arr[i]\n",
    "    return arr"
   ]
  },
  {
   "cell_type": "code",
   "execution_count": 93,
   "id": "7d3ac93b-29a4-4c13-8b94-fbf9dee8a840",
   "metadata": {},
   "outputs": [
    {
     "name": "stdout",
     "output_type": "stream",
     "text": [
      "[11, 12, 22, 25, 64]\n"
     ]
    }
   ],
   "source": [
    "data = [64, 25, 12, 22, 11]\n",
    "print(select(data))  "
   ]
  },
  {
   "cell_type": "markdown",
   "id": "ef9e8519-a778-4b32-b1a0-3e5c764d7d96",
   "metadata": {
    "jupyter": {
     "source_hidden": true
    }
   },
   "source": [
    "\n",
    "## 2) 동작 과정(step-by-step)\n",
    "\n",
    "원본: `[64, 25, 12, 22, 11]`\n",
    "\n",
    "### 첫 번째 패스 (i=0)\n",
    "\n",
    "* i=0, min\\_idx=0 (`64`)\n",
    "* j=1: `25 < 64` → min\\_idx=1\n",
    "* j=2: `12 < 25` → min\\_idx=2\n",
    "* j=3: `22 < 12` → no\n",
    "* j=4: `11 < 12` → min\\_idx=4\n",
    "  → 최솟값 `11`(인덱스 4)와 `arr[0]` 교환\n",
    "  → `[11, 25, 12, 22, 64]`\n",
    "\n",
    "### 두 번째 패스 (i=1)\n",
    "\n",
    "* i=1, min\\_idx=1 (`25`)\n",
    "* j=2: `12 < 25` → min\\_idx=2\n",
    "* j=3: `22 < 12` → no\n",
    "* j=4: `64 < 12` → no\n",
    "  → 최솟값 `12`(인덱스 2)와 `arr[1]` 교환\n",
    "  → `[11, 12, 25, 22, 64]`\n",
    "\n",
    "### 세 번째 패스 (i=2)\n",
    "\n",
    "* i=2, min\\_idx=2 (`25`)\n",
    "* j=3: `22 < 25` → min\\_idx=3\n",
    "* j=4: `64 < 22` → no\n",
    "  → swap → `[11, 12, 22, 25, 64]`\n",
    "\n",
    "### 네 번째 패스 (i=3)\n",
    "\n",
    "* i=3, min\\_idx=3 (`25`)\n",
    "* j=4: `64 < 25` → no\n",
    "  → swap `arr[3]` with itself → `[11, 12, 22, 25, 64]`\n",
    "\n",
    "총 4번의 패스를 돌면 정렬 완료입니다.\n",
    "\n",
    "---\n",
    "\n",
    "## 3) 시간 복잡도\n",
    "\n",
    "* 바깥 루프: `i`가 0→n-2까지, 약 **n**번\n",
    "* 안쪽 루프: `j`가 i+1→n-1까지, 평균 약 **n/2**번\n",
    "* 총 비교 횟수: $\\sum_{k=1}^{n-1} k = n(n-1)/2 \\sim O(n^2)$\n",
    "\n",
    "따라서 **O(n²)** 입니다.\n",
    "\n"
   ]
  },
  {
   "cell_type": "raw",
   "id": "dc1616cf-78e1-4d59-b9a4-741e0a2e5b71",
   "metadata": {},
   "source": [
    "문제:\n",
    "selection_sort를 내림차순(descending) 으로 정렬하도록 수정하여\n",
    "descending_selection_sort(arr) 함수를 작성하세요.\n",
    "\n",
    "입력: 정수 리스트 arr\n",
    "\n",
    "출력: 내림차순 정렬된 리스트"
   ]
  },
  {
   "cell_type": "code",
   "execution_count": 103,
   "id": "36cbb46b-ba7f-4e74-bb54-195e49c7a82b",
   "metadata": {},
   "outputs": [],
   "source": [
    "def descending_selection_sort(arr):\n",
    "    t=len(arr)\n",
    "    for i in range(t-1):\n",
    "        max_arr=i\n",
    "        #swap=False\n",
    "        for j in range(i+1,t):\n",
    "            if arr[j]>arr[max_arr]:\n",
    "                max_arr=j\n",
    "                swap=True\n",
    "        #if not swap:\n",
    "        arr[i],arr[max_arr]=arr[max_arr],arr[i]\n",
    "    return arr"
   ]
  },
  {
   "cell_type": "code",
   "execution_count": 107,
   "id": "2d8c9fdf-eb10-4a39-8295-fe33b369b7ca",
   "metadata": {},
   "outputs": [
    {
     "name": "stdout",
     "output_type": "stream",
     "text": [
      "[64, 25, 22, 12, 11]\n",
      "[64, 25, 22, 12, 11]\n",
      "[8, 5, 4, 2, 1]\n"
     ]
    }
   ],
   "source": [
    "data = [64, 25, 12, 22, 11]\n",
    "print(descending_selection_sort(data))  # [64, 25, 22, 12, 11]\n",
    "print(descending_selection_sort([64, 25, 12, 22, 11]))\n",
    "# → [64, 25, 22, 12, 11]\n",
    "\n",
    "print(descending_selection_sort([5, 1, 4, 2, 8]))\n",
    "# → [8, 5, 4, 2, 1]\n"
   ]
  },
  {
   "cell_type": "code",
   "execution_count": null,
   "id": "3b52fa0d-96cf-4030-8e2e-f2c6d15e7e11",
   "metadata": {},
   "outputs": [],
   "source": []
  },
  {
   "cell_type": "code",
   "execution_count": null,
   "id": "6e8ac384-831c-4589-a69e-b98bfd497dd2",
   "metadata": {},
   "outputs": [],
   "source": []
  },
  {
   "cell_type": "markdown",
   "id": "c3b98d35-b8cf-4f80-be80-77da299a7ffe",
   "metadata": {},
   "source": [
    "# 삽입 정렬(Insertion Sort) "
   ]
  },
  {
   "cell_type": "code",
   "execution_count": 113,
   "id": "07c9b141-fb25-4368-b679-295488a973b3",
   "metadata": {},
   "outputs": [],
   "source": [
    "def insert(arr):\n",
    "    for i in range(1,len(arr)):\n",
    "        key=arr[i]\n",
    "        j=i-1\n",
    "        while j>=0 and arr[j]>key:\n",
    "            arr[j+1]=arr[j]\n",
    "            j-=1\n",
    "        arr[j+1]=key\n",
    "    return arr"
   ]
  },
  {
   "cell_type": "code",
   "execution_count": 117,
   "id": "5298a037-c5d5-4c12-b94c-ed6246736ebb",
   "metadata": {},
   "outputs": [
    {
     "name": "stdout",
     "output_type": "stream",
     "text": [
      "[1, 2, 5, 5, 6, 9]\n"
     ]
    }
   ],
   "source": [
    "data = [5, 2, 9, 1, 5, 6]\n",
    "print(insert(data))  # [1, 2, 5, 5, 6, 9]"
   ]
  },
  {
   "cell_type": "markdown",
   "id": "6c69ad45-a1fc-4233-ad54-328beead5913",
   "metadata": {},
   "source": [
    "\n",
    "\n",
    "## 2) 동작 과정(step-by-step)\n",
    "\n",
    "원본: `[5, 2, 9, 1, 5, 6]`\n",
    "\n",
    "### i = 1 (`key = 2`)\n",
    "\n",
    "* 정렬 구간: `[5]`, 삽입할 값: `2`\n",
    "* `5 > 2` 이므로 한 칸 오른쪽으로 이동 → `[x, 5, 9, 1, 5, 6]`\n",
    "* 빈 자리 `j+1 = 0` 에 `2` 삽입 → `[2, 5, 9, 1, 5, 6]`\n",
    "\n",
    "### i = 2 (`key = 9`)\n",
    "\n",
    "* 정렬 구간: `[2, 5]`, 삽입할 값: `9`\n",
    "* `5 > 9` 아님 → 바로 `arr[2] = 9` (자리 변동 없이)\n",
    "* 결과: `[2, 5, 9, 1, 5, 6]`\n",
    "\n",
    "### i = 3 (`key = 1`)\n",
    "\n",
    "* 정렬 구간: `[2, 5, 9]`, 삽입할 값: `1`\n",
    "* `9 > 1` → `[2, 5, 9, 9, 5, 6]`\n",
    "* `5 > 1` → `[2, 5, 5, 9, 5, 6]`\n",
    "* `2 > 1` → `[2, 2, 5, 9, 5, 6]`\n",
    "* `j`가 -1이 되어 멈추고, `arr[0] = 1` 삽입\n",
    "* 결과: `[1, 2, 5, 9, 5, 6]`\n",
    "\n",
    "… 이런 식으로 마지막까지 진행하면 최종 `[1, 2, 5, 5, 6, 9]` 가 됩니다.\n",
    "\n",
    "---\n",
    "\n",
    "## 3) 특징 & 복잡도\n",
    "\n",
    "* **최선:** 이미 정렬된 경우 한 번의 패스만에 끝나므로 O(n)\n",
    "* **최악/평균:** 역순 정렬 같은 최악의 경우 O(n²)\n",
    "* **장점:**\n",
    "\n",
    "  * 입력이 거의 정렬된 상태라면 매우 빠름 (적응형)\n",
    "  * 추가 배열 없이 **in-place**\n",
    "* **단점:**\n",
    "\n",
    "  * 임의 접근 비용이 높은 자료구조(예: 연결 리스트)에는 부적합\n",
    "\n"
   ]
  },
  {
   "cell_type": "markdown",
   "id": "c0b8c3a4-c282-4ac8-8249-8f4111de5a05",
   "metadata": {},
   "source": []
  },
  {
   "cell_type": "markdown",
   "id": "fd792643-ccff-48f6-b4de-b0778b46644e",
   "metadata": {},
   "source": [
    "문제:\n",
    "\n",
    "위 insertion_sort를 내림차순 으로 정렬하도록 descending_insertion_sort(arr) 함수를 작성하세요.\n",
    "\n",
    "또 하나, Binary Insertion Sort 기법을 사용해 “삽입 위치를 이진 검색”으로 찾아,\n",
    "binary_insertion_sort(arr) 를 구현해 보세요.\n",
    "\n",
    "Binary Insertion Sort 힌트:\n",
    "\n",
    "정렬된 구간 arr[0…i-1] 에 대해 key 가 들어갈 위치를 bisect 모듈의 bisect_left 또는\n",
    "bisect_right 를 활용해 O(log n) 에 찾은 뒤, 그 자리부터 오른쪽으로 요소들을 한 칸씩 밀어 넣습니다.\n",
    "\n",
    "전체 삽입 정렬의 시간 복잡도는 여전히 O(n²)이지만, 비교 횟수는 많이 줄어듭니다."
   ]
  },
  {
   "cell_type": "code",
   "execution_count": 162,
   "id": "dda914f0-c4f9-47af-9da2-f8ca2c6eb425",
   "metadata": {},
   "outputs": [],
   "source": [
    "def descending_insertion_sort(arr):\n",
    "    t=len(arr)\n",
    "    for i in range(1,t):\n",
    "        key=arr[i]\n",
    "        j=i-1\n",
    "        while j>=0 and arr[j]<key:\n",
    "            arr[j+1]=arr[j]\n",
    "            j-=1\n",
    "        arr[j+1]=key\n",
    "        print(arr)\n",
    "        \n",
    "    return arr"
   ]
  },
  {
   "cell_type": "code",
   "execution_count": 174,
   "id": "a710b1dc-c6cd-4e41-b428-f8b6d8e118d3",
   "metadata": {},
   "outputs": [
    {
     "name": "stdout",
     "output_type": "stream",
     "text": [
      "\\\\\\\\\\\\\\\\\\\\\\\\\\\\\\\\\\\\\\\\\\\\\\\\\\\\\\\\\\\\\\\\\\\\\\\\\\\n"
     ]
    }
   ],
   "source": [
    "print(\"\\\\\\\\\\\\\\\\\\\\\\\\\\\\\\\\\\\\\\\\\\\\\\\\\\\\\\\\\\\\\\\\\\\\\\\\\\\\\\\\\\\\\\\\\\\\\\\\\\\\\\\\\\\\\\\\\\\\\\\\\\\\\\\\\\\\\\\\\\\\\\\\\\\\\")\n",
    "\n",
    "import bisect as b\n",
    "def binary_insertion_sort(arr):\n",
    "    print(\"\\\\\\\\\\\\\\\\\\\\\\\\\\\\\\\\\\\\\\\\\\\\\\\\\\\\\\\\\\\\\\\\\\\\\\\\\\\\\\\\\\\\\\\\\\\\\\\\\\\\\\\\\\\\\\\\\\\\\\\\\\\\\\\\\\\\\\\\\\\\\\\\\\\\\")\n",
    "\n",
    "    for i in range(1,len(arr)):\n",
    "        key=arr[i]\n",
    "        pos=b.bisect_left(arr, key,0,i)\n",
    "        \n",
    "        for j in range(i,pos,-1):\n",
    "            arr[j]=arr[j-1]\n",
    "        arr[pos]=key\n",
    "        print(arr)\n",
    "    return arr\n",
    "    "
   ]
  },
  {
   "cell_type": "code",
   "execution_count": 176,
   "id": "1f46ddd2-e8ba-4d8f-ae6f-d592075a4cff",
   "metadata": {},
   "outputs": [
    {
     "name": "stdout",
     "output_type": "stream",
     "text": [
      "[5, 2, 9, 1, 5, 6]\n",
      "[9, 5, 2, 1, 5, 6]\n",
      "[9, 5, 2, 1, 5, 6]\n",
      "[9, 5, 5, 2, 1, 6]\n",
      "[9, 6, 5, 5, 2, 1]\n",
      "[9, 6, 5, 5, 2, 1]\n",
      "\\\\\\\\\\\\\\\\\\\\\\\\\\\\\\\\\\\\\\\\\\\\\\\\\\\\\\\\\\\\\\\\\\\\\\\\\\\n",
      "[2, 5, 9, 1, 5, 6]\n",
      "[2, 5, 9, 1, 5, 6]\n",
      "[1, 2, 5, 9, 5, 6]\n",
      "[1, 2, 5, 5, 9, 6]\n",
      "[1, 2, 5, 5, 6, 9]\n",
      "[1, 2, 5, 5, 6, 9]\n"
     ]
    }
   ],
   "source": [
    "data = [5, 2, 9, 1, 5, 6]\n",
    "print(descending_insertion_sort(data.copy()))  \n",
    "# 예상: [9, 6, 5, 5, 2, 1]\n",
    "\n",
    "print(binary_insertion_sort(data.copy()))  \n",
    "# 예상: [1, 2, 5, 5, 6, 9]\n"
   ]
  },
  {
   "cell_type": "markdown",
   "id": "6f77ea28-41f1-4cc4-b0fe-c60946353556",
   "metadata": {},
   "source": [
    "1초 동안 생각함\n",
    "\n",
    "\n",
    "`binary_insertion_sort`는 \\*\\*삽입 정렬(Insertion Sort)\\*\\*의 아이디어를 그대로 쓰되,\n",
    "“삽입할 자리(pos)를 찾는 과정”만 **이진 검색(Binary Search)** 으로 최적화한 버전이에요.\n",
    "\n",
    "---\n",
    "\n",
    "### 전체 흐름\n",
    "\n",
    "1. **정렬된 구간과 미정렬된 구간**\n",
    "\n",
    "   * 인덱스 `i`를 1부터 시작해 `len(arr)-1`까지 순회합니다.\n",
    "   * `arr[0…i-1]` 은 이미 정렬되어 있다고 가정하고,\n",
    "   * `arr[i]` 의 값을 `key`에 저장해 두고, 나머지 요소들을 한 칸씩 오른쪽으로 시프트할 준비를 합니다.\n",
    "\n",
    "2. **이진 검색으로 삽입 위치 찾기**\n",
    "\n",
    "   ```python\n",
    "   pos = bisect.bisect_left(arr, key, 0, i)\n",
    "   ```\n",
    "\n",
    "   * `arr[0…i-1]` 구간에서 **key**를 “넣어야 할” 위치를 이진 검색으로 O(log i)만에 찾아냅니다.\n",
    "   * `bisect_left`는 “key보다 크거나 같은 첫 번째 인덱스”를 반환하므로,\n",
    "\n",
    "     * **key가 이미 있는 요소들 앞**에 끼어들어 안정성(stability)을 유지합니다.\n",
    "\n",
    "3. **삽입 위치까지 시프트(shift)**\n",
    "\n",
    "   ```python\n",
    "   for j in range(i, pos, -1):\n",
    "       arr[j] = arr[j-1]\n",
    "   ```\n",
    "\n",
    "   * `i`에서 `pos+1`까지 거꾸로 내려오며,\n",
    "   * `arr[j-1]`을 `arr[j]`에 할당 → `arr[pos…i-1]` 구간이 모두 한 칸씩 오른쪽으로 밀립니다.\n",
    "\n",
    "4. **빈 자리(pos)에 key 삽입**\n",
    "\n",
    "   ```python\n",
    "   arr[pos] = key\n",
    "   ```\n",
    "\n",
    "   * 시프트한 후 생긴 **빈 공간**(`pos`)에 `key`를 넣습니다.\n",
    "\n",
    "5. **다음 i로 넘어가기**\n",
    "\n",
    "   * 위 과정을 모든 `i`에 대해 반복하면서 배열 전체를 정렬합니다.\n",
    "\n",
    "---\n",
    "\n",
    "### 작동 예시\n",
    "\n",
    "배열 `[5, 2, 9, 1, 5, 6]` 을 예로 들어볼게요:\n",
    "\n",
    "* **i = 1**, `key = 2`\n",
    "\n",
    "  * 정렬 구간: `[5]`\n",
    "  * `bisect_left([5], 2) -> 0`\n",
    "  * 시프트: `arr[1] = arr[0]` → `[5, 5, 9, 1, 5, 6]`\n",
    "  * 삽입: `arr[0] = 2` → `[2, 5, 9, 1, 5, 6]`\n",
    "\n",
    "* **i = 2**, `key = 9`\n",
    "\n",
    "  * 정렬 구간: `[2, 5]`\n",
    "  * `bisect_left([2,5], 9) -> 2` (구간 끝)\n",
    "  * 시프트: 없음\n",
    "  * 삽입: `arr[2] = 9` (변화 없음) → `[2, 5, 9, 1, 5, 6]`\n",
    "\n",
    "* **i = 3**, `key = 1`\n",
    "\n",
    "  * 정렬 구간: `[2, 5, 9]`\n",
    "  * `bisect_left([2,5,9], 1) -> 0`\n",
    "  * 시프트:\n",
    "\n",
    "    * `arr[3]=arr[2]` → `[2, 5, 9, 9, 5, 6]`\n",
    "    * `arr[2]=arr[1]` → `[2, 5, 5, 9, 5, 6]`\n",
    "    * `arr[1]=arr[0]` → `[2, 2, 5, 9, 5, 6]`\n",
    "  * 삽입: `arr[0]=1` → `[1, 2, 5, 9, 5, 6]`\n",
    "\n",
    "… 이런 식으로 **비교**는 이진 검색으로,\n",
    "**이동(시프트)** 는 삽입 정렬처럼 한 칸씩,\n",
    "결국 전체 배열이 `[1, 2, 5, 5, 6, 9]` 로 정렬됩니다.\n",
    "\n",
    "---\n",
    "\n",
    "### 장단점\n",
    "\n",
    "* **장점:**\n",
    "\n",
    "  * 비교 횟수를 O(n log n) 수준으로 줄여 줍니다.\n",
    "  * 평균적으로 비교가 비싼 자료형(문자열 등)에 유리합니다.\n",
    "* **단점:**\n",
    "\n",
    "  * 삽입을 위한 **시프트 비용**(이동)이 여전히 O(n²) 이므로,\n",
    "  * 전체 시간 복잡도는 **O(n²)** 로 바뀌지 않습니다.\n",
    "\n",
    "이해가 잘 되셨길 바라요! 추가 질문 있으면 언제든 물어보세요 😊\n"
   ]
  },
  {
   "cell_type": "code",
   "execution_count": null,
   "id": "fe56a7f9-e389-4d68-aab9-2b9b9d841676",
   "metadata": {},
   "outputs": [],
   "source": []
  },
  {
   "cell_type": "code",
   "execution_count": null,
   "id": "0c784d23-1237-4830-b07f-17536f663113",
   "metadata": {},
   "outputs": [],
   "source": []
  },
  {
   "cell_type": "code",
   "execution_count": 4,
   "id": "4a95f0fd-5511-4684-b03f-6b5d39992a62",
   "metadata": {},
   "outputs": [],
   "source": [
    "#병합 정렬(Merge Sort)\n",
    "#분할 정복(divide & conquer)의 대표적인 예제\n",
    "\n",
    "def merge_S(arr):\n",
    "    if len(arr)<=1:\n",
    "        return arr\n",
    "    mid=len(arr)//2\n",
    "    L=merge_S(arr[:mid])\n",
    "    R=merge_S(arr[mid:])\n",
    "    return merge(L,R)\n",
    "\n",
    "def merge(L,R):\n",
    "    merged=[]\n",
    "    i=j=0\n",
    "    while i<len(L) and j<len(R):\n",
    "        if L[i]<=R[j]:\n",
    "            merged.append(L[i])\n",
    "            i+=1\n",
    "        else:\n",
    "            merged.append(R[j])\n",
    "            j+=1\n",
    "\n",
    "    merged.extend(L[i:])\n",
    "    merged.extend(R[j:])\n",
    "    return merged"
   ]
  },
  {
   "cell_type": "code",
   "execution_count": 6,
   "id": "822fd80b-75ee-41d8-8a83-1b36f074043f",
   "metadata": {},
   "outputs": [
    {
     "name": "stdout",
     "output_type": "stream",
     "text": [
      "[3, 9, 10, 27, 38, 43, 82]\n"
     ]
    }
   ],
   "source": [
    "data = [38, 27, 43, 3, 9, 82, 10]\n",
    "print(merge_S(data))"
   ]
  },
  {
   "cell_type": "code",
   "execution_count": 2,
   "id": "bca6447e-f8de-436c-b9e3-7ce1600b50f5",
   "metadata": {},
   "outputs": [
    {
     "name": "stdout",
     "output_type": "stream",
     "text": [
      "1\n",
      "1\n"
     ]
    }
   ],
   "source": [
    "i=j=1\n",
    "\n",
    "print(i)\n",
    "print(j)"
   ]
  },
  {
   "cell_type": "markdown",
   "id": "f74a161e-0781-4a59-aff2-ee46ce3c7669",
   "metadata": {},
   "source": [
    "\n",
    "## 2) 동작 과정(step-by-step)\n",
    "\n",
    "원본: `[38, 27, 43, 3, 9, 82, 10]`\n",
    "길이가 7이니, 중간 인덱스는 `7//2 = 3`.\n",
    "\n",
    "```\n",
    "merge_sort([38,27,43,3,9,82,10])\n",
    "├─ left  = merge_sort([38,27,43])        # 길이 3\n",
    "│   ├─ left  = merge_sort([38]) → [38]\n",
    "│   ├─ right = merge_sort([27,43])\n",
    "│   │   ├─ [27]  (기저)\n",
    "│   │   └─ [43]  (기저)\n",
    "│   │   └─ merge([27],[43]) → [27,43]\n",
    "│   └─ merge([38], [27,43]) → [27,38,43]\n",
    "└─ right = merge_sort([3,9,82,10])       # 길이 4\n",
    "    ├─ left  = merge_sort([3,9])       → [3,9]\n",
    "    └─ right = merge_sort([82,10])\n",
    "        ├─ [82]\n",
    "        └─ [10]\n",
    "        └─ merge([82],[10]) → [10,82]\n",
    "    └─ merge([3,9], [10,82]) → [3,9,10,82]\n",
    "\n",
    "최종 단계: merge([27,38,43], [3,9,10,82])\n",
    "→ 두 리스트를 차례로 비교하며 꺼내면 →  \n",
    "   [3, 9, 10, 27, 38, 43, 82]\n",
    "```\n",
    "\n",
    "* **분할 단계 (Divide):** 리스트를 반씩 나눕니다.\n",
    "* **정복 단계 (Conquer):** 반으로 나눈 리스트를 재귀적으로 정렬합니다.\n",
    "* **결합 단계 (Combine):** 두 개의 정렬된 리스트를 O(n) 에 병합(merge)합니다.\n",
    "\n",
    "---\n",
    "\n",
    "## 3) 시간·공간 복잡도\n",
    "\n",
    "* **시간 복잡도:**\n",
    "\n",
    "  $$\n",
    "    T(n) = 2\\,T\\bigl(\\tfrac n2\\bigr) + O(n)\n",
    "    \\quad\\Longrightarrow\\quad O(n\\log n)\n",
    "  $$\n",
    "\n",
    "* **공간 복잡도:**\n",
    "\n",
    "  * 재귀 호출 스택 O(log n)\n",
    "  * 병합용 임시 리스트 O(n)\n",
    "\n",
    "* **안정 정렬 (Stable Sort):**\n",
    "  같은 값의 상대적 순서가 보장됩니다.\n",
    "\n"
   ]
  },
  {
   "cell_type": "raw",
   "id": "cafdc795-bdeb-48f4-a67f-6202c15e11c7",
   "metadata": {},
   "source": [
    "문제:\n",
    "\n",
    "위 merge_sort 함수를 in-place(추가 리스트 없이) 구현하려면 어떤 변경이 필요할까요?\n",
    "\n",
    "(힌트) merge 단계에서 left, right를 새 리스트로 만들지 않고,\n",
    "원본 배열의 구간을 가리키는 인덱스만 조정하며 병합해 보세요.\n",
    "\n",
    "Bottom-up 병합 정렬(반복적 구현)을 작성해 보세요.\n",
    "\n"
   ]
  },
  {
   "cell_type": "code",
   "execution_count": 91,
   "id": "e25a7035-ed8c-45c2-acf2-fcc008bade75",
   "metadata": {},
   "outputs": [
    {
     "name": "stdout",
     "output_type": "stream",
     "text": [
      "[1, 2, 5, 5, 6, 9]\n"
     ]
    }
   ],
   "source": [
    "def merge_sort_inplace(arr, lo, hi):\n",
    "    # 정렬할 구간 길이가 1 이하면 이미 정렬된 상태\n",
    "    if hi - lo <= 1:\n",
    "        return\n",
    "\n",
    "    mid = (lo + hi) // 2\n",
    "    # 왼쪽 반 재귀 정렬\n",
    "    merge_sort_inplace(arr, lo, mid)\n",
    "    # 오른쪽 반 재귀 정렬\n",
    "    merge_sort_inplace(arr, mid, hi)\n",
    "    # 두 정렬된 절반을 in-place 병합\n",
    "    inplace_merge(arr, lo, mid, hi)\n",
    "\n",
    "def inplace_merge(arr, lo, mid, hi):\n",
    "    i = lo\n",
    "    j = mid\n",
    "    # i는 왼쪽 절반 커서, j는 오른쪽 절반 커서\n",
    "    while i < j and j < hi:\n",
    "        if arr[i] <= arr[j]:\n",
    "            # 왼쪽 요소가 더 작으면 그냥 건너뛰기\n",
    "            i += 1\n",
    "        else:\n",
    "            # arr[j] (오른쪽 절반의 현재 요소)를\n",
    "            # arr[i] 자리로 가져오기 위해 한 칸씩 shift\n",
    "            temp = arr[j]\n",
    "            k = j\n",
    "            while k > i:\n",
    "                arr[k] = arr[k - 1]\n",
    "                k -= 1\n",
    "            arr[i] = temp\n",
    "            # 왼쪽·오른쪽·중간 경계 모두 한 칸씩 앞으로\n",
    "            i += 1\n",
    "            j += 1\n",
    "            mid += 1\n",
    "# 사용 예시\n",
    "data = [5, 2, 9, 1, 5, 6]\n",
    "merge_sort_inplace(data, 0, len(data))\n",
    "print(data) "
   ]
  },
  {
   "cell_type": "code",
   "execution_count": null,
   "id": "fafb1407-bfa8-4134-bb30-cd0537d17d72",
   "metadata": {},
   "outputs": [],
   "source": []
  },
  {
   "cell_type": "code",
   "execution_count": 81,
   "id": "2bb78e6a-7237-41cd-809e-a7d38fa88cab",
   "metadata": {},
   "outputs": [],
   "source": [
    "def bottom_up_merge_sort(arr):\n",
    "    width=1\n",
    "    n=len(arr)\n",
    "    while width<n:\n",
    "        for L in range(0,n,2*width):\n",
    "            mid=L+width\n",
    "            R=min(L+2*width,n)\n",
    "            merge(arr, L, mid, R)\n",
    "        width*=2\n",
    "    return arr\n",
    "\n",
    "def merge(arr, L, mid, R):\n",
    "    i,j=L,mid\n",
    "    temp=[]\n",
    "    while i<mid and j<R:\n",
    "        if arr[i]<=arr[j]:\n",
    "            temp.append(arr[i])\n",
    "            i+=1\n",
    "        else:\n",
    "            temp.append(arr[j])\n",
    "            j+=1\n",
    "    temp.extend(arr[i:mid])\n",
    "    temp.extend(arr[j:R])\n",
    "    arr[L:L+len(temp)]=temp"
   ]
  },
  {
   "cell_type": "code",
   "execution_count": 95,
   "id": "88b43f34-04a4-4d47-82ac-077ac8a42d9c",
   "metadata": {},
   "outputs": [
    {
     "name": "stdout",
     "output_type": "stream",
     "text": [
      "[1, 2, 5, 5, 6, 9]\n",
      "[1, 2, 5, 5, 6, 9]\n"
     ]
    }
   ],
   "source": [
    "\n",
    "# 사용 예시\n",
    "data = [5, 2, 9, 1, 5, 6]\n",
    "merge_sort_inplace(data, 0, len(data))\n",
    "print(data) # [1, 2, 5, 5, 6, 9]\n",
    "\n",
    "print(bottom_up_merge_sort(data.copy()))\n",
    "# [1,2,5,5,6,9]\n"
   ]
  },
  {
   "cell_type": "code",
   "execution_count": 97,
   "id": "f8917584-38c6-4f7f-a6bf-57db695a07a8",
   "metadata": {},
   "outputs": [],
   "source": [
    "data = [38, 27, 43, 3, 9, 82, 10]\n",
    "f=12\n",
    "data[0]=12\n"
   ]
  },
  {
   "cell_type": "code",
   "execution_count": null,
   "id": "27fc0a65-d3cb-41fc-9312-424b6411eb06",
   "metadata": {},
   "outputs": [],
   "source": []
  },
  {
   "cell_type": "code",
   "execution_count": null,
   "id": "cad27396-217e-434a-94ff-02b048676f10",
   "metadata": {},
   "outputs": [],
   "source": []
  },
  {
   "cell_type": "markdown",
   "id": "226fb61c-80f5-47ab-8a79-ec370ac0a2bc",
   "metadata": {},
   "source": [
    "# 퀵 정렬(Quick Sort)"
   ]
  },
  {
   "cell_type": "code",
   "execution_count": 5,
   "id": "9f541c85-8cff-46cb-b084-778e6e46ff70",
   "metadata": {},
   "outputs": [],
   "source": [
    "#재귀-in-place 버전\n",
    "def quick(list, lo=0, hi=None):\n",
    "    if hi is None:\n",
    "        hi=len(list)\n",
    "\n",
    "    if lo<hi:\n",
    "        p=partition(list,lo,hi)\n",
    "        quick(list,lo,p-1)\n",
    "        quick(list,p+1,hi)\n",
    "    return list\n",
    "\n",
    "def partition(list, lo, hi):\n",
    "    pivot=list(hi)\n",
    "    i=lo\n",
    "    for j in range(lo, hi):\n",
    "        if list[j]<pivot:\n",
    "            list[i],list[hi]=list[j],list[i]\n",
    "            i+=1\n",
    "\n",
    "    list[i],list[hi]=list[hi], list[i]\n",
    "    return i"
   ]
  },
  {
   "cell_type": "code",
   "execution_count": 19,
   "id": "a26d651f-4e5e-4192-9640-d4497cbd0dd6",
   "metadata": {},
   "outputs": [
    {
     "ename": "SyntaxError",
     "evalue": "invalid syntax (1709745168.py, line 7)",
     "output_type": "error",
     "traceback": [
      "\u001b[1;36m  Cell \u001b[1;32mIn[19], line 7\u001b[1;36m\u001b[0m\n\u001b[1;33m    great=[x for x in list[1:] if > pivot]\u001b[0m\n\u001b[1;37m                                  ^\u001b[0m\n\u001b[1;31mSyntaxError\u001b[0m\u001b[1;31m:\u001b[0m invalid syntax\n"
     ]
    }
   ],
   "source": [
    "def quick(list):\n",
    "    if len(list) <=1:\n",
    "        return list\n",
    "\n",
    "    pivot=list[0]\n",
    "    less=[x for x in list[1:]if x<=pivot]\n",
    "    great=[x for x in list[1:] if > pivot]\n",
    "\n",
    "    return quick(less)+[pivot]+quick(great)"
   ]
  },
  {
   "cell_type": "code",
   "execution_count": 27,
   "id": "bafb830a-9087-4ae0-a793-898d0bed6efd",
   "metadata": {},
   "outputs": [
    {
     "ename": "SyntaxError",
     "evalue": "incomplete input (3477860531.py, line 1)",
     "output_type": "error",
     "traceback": [
      "\u001b[1;36m  Cell \u001b[1;32mIn[27], line 1\u001b[1;36m\u001b[0m\n\u001b[1;33m    \\\u001b[0m\n\u001b[1;37m     ^\u001b[0m\n\u001b[1;31mSyntaxError\u001b[0m\u001b[1;31m:\u001b[0m incomplete input\n"
     ]
    }
   ],
   "source": []
  },
  {
   "cell_type": "code",
   "execution_count": null,
   "id": "fe29ea76-209a-443c-ac69-acbdeb449222",
   "metadata": {},
   "outputs": [],
   "source": []
  }
 ],
 "metadata": {
  "kernelspec": {
   "display_name": "Python (CUDA 12.4)",
   "language": "python",
   "name": "cuda124"
  },
  "language_info": {
   "codemirror_mode": {
    "name": "ipython",
    "version": 3
   },
   "file_extension": ".py",
   "mimetype": "text/x-python",
   "name": "python",
   "nbconvert_exporter": "python",
   "pygments_lexer": "ipython3",
   "version": "3.12.7"
  }
 },
 "nbformat": 4,
 "nbformat_minor": 5
}
