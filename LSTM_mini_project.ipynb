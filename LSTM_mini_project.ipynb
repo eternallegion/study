{
 "cells": [
  {
   "cell_type": "code",
   "execution_count": 30,
   "id": "c8832a24-a2f5-4133-8589-0cf4dbf83df2",
   "metadata": {},
   "outputs": [
    {
     "name": "stdout",
     "output_type": "stream",
     "text": [
      "Requirement already satisfied: yfinance in c:\\users\\jh\\anaconda3\\lib\\site-packages (0.2.57)\n",
      "Requirement already satisfied: pandas>=1.3.0 in c:\\users\\jh\\anaconda3\\lib\\site-packages (from yfinance) (2.2.2)\n",
      "Requirement already satisfied: numpy>=1.16.5 in c:\\users\\jh\\anaconda3\\lib\\site-packages (from yfinance) (1.26.4)\n",
      "Requirement already satisfied: requests>=2.31 in c:\\users\\jh\\anaconda3\\lib\\site-packages (from yfinance) (2.32.2)\n",
      "Requirement already satisfied: multitasking>=0.0.7 in c:\\users\\jh\\anaconda3\\lib\\site-packages (from yfinance) (0.0.11)\n",
      "Requirement already satisfied: platformdirs>=2.0.0 in c:\\users\\jh\\anaconda3\\lib\\site-packages (from yfinance) (3.10.0)\n",
      "Requirement already satisfied: pytz>=2022.5 in c:\\users\\jh\\anaconda3\\lib\\site-packages (from yfinance) (2024.1)\n",
      "Requirement already satisfied: frozendict>=2.3.4 in c:\\users\\jh\\anaconda3\\lib\\site-packages (from yfinance) (2.4.2)\n",
      "Requirement already satisfied: peewee>=3.16.2 in c:\\users\\jh\\anaconda3\\lib\\site-packages (from yfinance) (3.18.1)\n",
      "Requirement already satisfied: beautifulsoup4>=4.11.1 in c:\\users\\jh\\anaconda3\\lib\\site-packages (from yfinance) (4.12.3)\n",
      "Requirement already satisfied: soupsieve>1.2 in c:\\users\\jh\\anaconda3\\lib\\site-packages (from beautifulsoup4>=4.11.1->yfinance) (2.5)\n",
      "Requirement already satisfied: python-dateutil>=2.8.2 in c:\\users\\jh\\anaconda3\\lib\\site-packages (from pandas>=1.3.0->yfinance) (2.9.0.post0)\n",
      "Requirement already satisfied: tzdata>=2022.7 in c:\\users\\jh\\anaconda3\\lib\\site-packages (from pandas>=1.3.0->yfinance) (2023.3)\n",
      "Requirement already satisfied: charset-normalizer<4,>=2 in c:\\users\\jh\\anaconda3\\lib\\site-packages (from requests>=2.31->yfinance) (2.0.4)\n",
      "Requirement already satisfied: idna<4,>=2.5 in c:\\users\\jh\\anaconda3\\lib\\site-packages (from requests>=2.31->yfinance) (3.7)\n",
      "Requirement already satisfied: urllib3<3,>=1.21.1 in c:\\users\\jh\\anaconda3\\lib\\site-packages (from requests>=2.31->yfinance) (2.2.2)\n",
      "Requirement already satisfied: certifi>=2017.4.17 in c:\\users\\jh\\anaconda3\\lib\\site-packages (from requests>=2.31->yfinance) (2024.8.30)\n",
      "Requirement already satisfied: six>=1.5 in c:\\users\\jh\\anaconda3\\lib\\site-packages (from python-dateutil>=2.8.2->pandas>=1.3.0->yfinance) (1.16.0)\n"
     ]
    }
   ],
   "source": [
    "!pip install yfinance"
   ]
  },
  {
   "cell_type": "code",
   "execution_count": 15,
   "id": "d98a0325-22ef-4ea2-b056-189eac89deaa",
   "metadata": {},
   "outputs": [],
   "source": [
    "import yfinance as yf\n",
    "import pandas as pd\n",
    "import torch\n",
    "import torch.nn as nn\n",
    "import torch.optim as optim\n",
    "from torch.utils.data import TensorDataset,DataLoader\n",
    "import torch.nn.functional as F\n",
    "import matplotlib.pyplot as plt\n",
    "import numpy as np"
   ]
  },
  {
   "cell_type": "code",
   "execution_count": 69,
   "id": "04cccb53-5bce-416c-91b9-e2b6fb4c6586",
   "metadata": {},
   "outputs": [
    {
     "name": "stderr",
     "output_type": "stream",
     "text": [
      "[*********************100%***********************]  1 of 1 completed"
     ]
    },
    {
     "name": "stdout",
     "output_type": "stream",
     "text": [
      "Ticker           AAPL\n",
      "Date                 \n",
      "2018-01-02  40.479843\n",
      "2018-01-03  40.472786\n",
      "2018-01-04  40.660786\n",
      "2018-01-05  41.123714\n",
      "2018-01-08  40.970978\n"
     ]
    },
    {
     "name": "stderr",
     "output_type": "stream",
     "text": [
      "\n"
     ]
    }
   ],
   "source": [
    "ticker='AAPL'\n",
    "start_D=\"2018-01-01\"\n",
    "end_D=\"2025-04-30\"\n",
    "\n",
    "data=yf.download(ticker,start=start_D,end=end_D)\n",
    "\n",
    "series=data[\"Close\"].dropna()\n",
    "print(series.head())"
   ]
  },
  {
   "cell_type": "code",
   "execution_count": 89,
   "id": "9ea11b11-5280-49e0-b8fa-6256bdb208b3",
   "metadata": {},
   "outputs": [],
   "source": [
    "# 슬라이딩 윈도우로 (X, Y) 시퀀스를 만드는 함수\n",
    "def MMDD(data, seq_len):\n",
    "    x, y = [], []\n",
    "    for i in range(len(data) - seq_len):\n",
    "        x.append(data[i : i + seq_len])\n",
    "        y.append(data[i + seq_len])\n",
    "    x = np.array(x)[:, :, None]\n",
    "    y = np.array(y)[:, None]\n",
    "    print(\"Shape of NumPy array X:\", X.shape) # <--- 확인\n",
    "    print(\"Shape of NumPy array y:\", y.shape) \n",
    "    return (\n",
    "        torch.tensor(x, dtype=torch.float32),\n",
    "        torch.tensor(y, dtype=torch.float32).reshape(-1,1),\n",
    "    )"
   ]
  },
  {
   "cell_type": "code",
   "execution_count": null,
   "id": "97be109d-63db-4c24-92f6-c72b3f33d463",
   "metadata": {},
   "outputs": [],
   "source": []
  },
  {
   "cell_type": "code",
   "execution_count": 92,
   "id": "0f079581-6bd4-4c00-a644-adde2f78fda0",
   "metadata": {},
   "outputs": [],
   "source": [
    "def MMDD(data, seq_len):\n",
    "    x, y = [], []\n",
    "    for i in range(len(data) - seq_len):\n",
    "        x.append(data[i : i + seq_len])\n",
    "        y.append(data[i + seq_len])\n",
    "    x = np.array(x)[:, :, None]  # shape: (N, seq_len, 1)\n",
    "    y = np.array(y)[:, None]    # shape: (N, 1)\n",
    "    return (\n",
    "        torch.tensor(x, dtype=torch.float32),\n",
    "        torch.tensor(y, dtype=torch.float32),\n",
    "    )"
   ]
  },
  {
   "cell_type": "code",
   "execution_count": 94,
   "id": "efd37f69-1ec3-457d-bed4-9aa689d9fb1a",
   "metadata": {},
   "outputs": [],
   "source": [
    "#정규화 (Min–Max)\n",
    "min_val, max_val=series.min(), series.max()\n",
    "series_norm=(series-min_val)/(max_val-min_val)\n",
    "\n",
    "#표준화\n",
    "#mean, std=series.mean(), series.std()\n",
    "#series_std=(series-mean)/std\n",
    "arr = series_norm.values\n",
    "\n",
    "#슬라이딩 윈도우 생성\n",
    "seq_len=12\n",
    "x,y=MMDD(arr, seq_len)\n",
    "\n",
    "\n",
    "ds     = TensorDataset(x, y)\n",
    "loader = DataLoader(ds, batch_size=16, shuffle=True)\n"
   ]
  },
  {
   "cell_type": "code",
   "execution_count": 96,
   "id": "890fbce3-5847-4570-aa6c-e18d9f8702d8",
   "metadata": {},
   "outputs": [],
   "source": [
    "class Model(nn.Module):\n",
    "    def __init__(self, input:int=1, hidden:int=64, num_layer:int=2, dropout:float=0.3):\n",
    "        super().__init__()  # 또는 super(Model, self).__init__()\n",
    "\n",
    "        self.lstm = nn.LSTM(\n",
    "            input,hidden,\n",
    "            num_layers=num_layer,\n",
    "            batch_first=True,\n",
    "            dropout=dropout if num_layer>1 else 0.0\n",
    "        )\n",
    "        self.dropout = nn.Dropout(dropout)\n",
    "        self.fc= nn.Linear(hidden, 1)\n",
    "\n",
    "\n",
    "    def forward(self, x):\n",
    "        out,_=self.lstm(x)\n",
    "        last=out[:,-1,:]\n",
    "        feat=self.dropout(last)\n",
    "        return self.fc(feat)"
   ]
  },
  {
   "cell_type": "code",
   "execution_count": 98,
   "id": "7cc4c1b6-1c81-444f-aaed-451aad0d2806",
   "metadata": {},
   "outputs": [
    {
     "name": "stdout",
     "output_type": "stream",
     "text": [
      "False\n"
     ]
    }
   ],
   "source": [
    "device=torch.cuda.is_available()\n",
    "print(device)\n",
    "model=Model()\n",
    "num_epoch=10\n",
    "criter=nn.MSELoss()\n",
    "optimy=optim.Adam(model.parameters(), lr=1e-4)\n",
    "train_losses = []\n"
   ]
  },
  {
   "cell_type": "code",
   "execution_count": 100,
   "id": "66003858-de3a-41dd-bbd7-89782cc62609",
   "metadata": {},
   "outputs": [
    {
     "data": {
      "text/plain": [
       "Model(\n",
       "  (lstm): LSTM(1, 64, num_layers=2, batch_first=True, dropout=0.3)\n",
       "  (dropout): Dropout(p=0.3, inplace=False)\n",
       "  (fc): Linear(in_features=64, out_features=1, bias=True)\n",
       ")"
      ]
     },
     "execution_count": 100,
     "metadata": {},
     "output_type": "execute_result"
    }
   ],
   "source": [
    "def init_weight(m):\n",
    "    if isinstance(m, (nn.Linear, nn.Conv2d)):\n",
    "        nn.init.xavier_uniform_(m.weight)\n",
    "        if m.bias is not None:\n",
    "            nn.init.zeros_(m.bias)\n",
    "    elif isinstance(m, (nn.LSTM, nn.GRU)):\n",
    "        for name, p in m.named_parameters():\n",
    "            if 'weight_hh' in name:\n",
    "                nn.init.orthogonal_(p)\n",
    "            elif 'weight_ih' in name:\n",
    "                nn.init.xavier_uniform_(p)\n",
    "            elif 'bias' in name:\n",
    "                nn.init.zeros_(p)\n",
    "model.apply(init_weight)"
   ]
  },
  {
   "cell_type": "code",
   "execution_count": null,
   "id": "550afac1-811d-45e9-9b7f-007d81ab1ca8",
   "metadata": {},
   "outputs": [],
   "source": []
  },
  {
   "cell_type": "code",
   "execution_count": 103,
   "id": "d2189c62-26f9-41e0-9f98-bc235f886860",
   "metadata": {},
   "outputs": [
    {
     "name": "stderr",
     "output_type": "stream",
     "text": [
      "C:\\Users\\JH\\anaconda3\\Lib\\site-packages\\torch\\nn\\modules\\loss.py:535: UserWarning: Using a target size (torch.Size([16, 1, 1])) that is different to the input size (torch.Size([16, 1])). This will likely lead to incorrect results due to broadcasting. Please ensure they have the same size.\n",
      "  return F.mse_loss(input, target, reduction=self.reduction)\n",
      "C:\\Users\\JH\\anaconda3\\Lib\\site-packages\\torch\\nn\\modules\\loss.py:535: UserWarning: Using a target size (torch.Size([5, 1, 1])) that is different to the input size (torch.Size([5, 1])). This will likely lead to incorrect results due to broadcasting. Please ensure they have the same size.\n",
      "  return F.mse_loss(input, target, reduction=self.reduction)\n"
     ]
    },
    {
     "name": "stdout",
     "output_type": "stream",
     "text": [
      "Epoch 1/10  Train MSE: 0.147472\n",
      "Epoch 2/10  Train MSE: 0.080496\n",
      "Epoch 3/10  Train MSE: 0.078157\n",
      "Epoch 4/10  Train MSE: 0.076726\n",
      "Epoch 5/10  Train MSE: 0.076407\n",
      "Epoch 6/10  Train MSE: 0.076295\n",
      "Epoch 7/10  Train MSE: 0.076412\n",
      "Epoch 8/10  Train MSE: 0.076551\n",
      "Epoch 9/10  Train MSE: 0.076443\n",
      "Epoch 10/10  Train MSE: 0.076821\n"
     ]
    }
   ],
   "source": [
    "model.train()\n",
    "for epoch in range(num_epoch):\n",
    "    total_L = 0.0\n",
    "    for data, target in loader:\n",
    "        #print(\"Input batch shape before reshape:\", data.shape) # 추가: 원래 형태 확인\n",
    "        # 명시적으로 3차원으로 형태 변경 (batch_size, seq_len, input_size)\n",
    "        data = data.view(data.size(0), seq_len, -1)  #이거안하면 4차원으로 인식되서 에러남(이놈떔시 5시간을 뺑이쳤다. ㅈ같다.ㅆㅂ)\n",
    "        #print(\"Input batch shape after reshape:\", data.shape) # 추가: 변경된 형태 확인\n",
    "        optimy.zero_grad()\n",
    "        out   = model(data)\n",
    "        loss  = criter(out, target)\n",
    "        loss.backward()\n",
    "        torch.nn.utils.clip_grad_norm_(model.parameters(), max_norm=1.0)\n",
    "        optimy.step()\n",
    "        total_L += loss.item() * data.size(0)\n",
    "\n",
    "    avg_loss = total_L / len(loader.dataset)\n",
    "    train_losses.append(avg_loss)\n",
    "    print(f\"Epoch {epoch+1}/{num_epoch}  Train MSE: {avg_loss:.6f}\")"
   ]
  },
  {
   "cell_type": "raw",
   "id": "1c6b3f72-0f73-4681-ba36-6d5abf2b8967",
   "metadata": {},
   "source": [
    "설명: 이 코드는 data 텐서의 차원을 명시적으로 3차원으로 변경하는 역할을 합니다.\n",
    "data.view() 메서드는 텐서의 데이터를 유지하면서 형태를 재배열합니다.\n",
    "data.size(0): 배치 크기 (첫 번째 차원)는 그대로 유지합니다.\n",
    "seq_len: 시퀀스 길이 (두 번째 차원)는 MMDD 함수에서 설정한 값(12)으로 유지합니다.\n",
    "-1: 나머지 차원의 크기는 자동으로 계산됩니다. 우리의 경우, 원래 형태가 (batch_size, 어떤 차원, seq_len, 1) 이었다면, -1은 어떤 차원 * 1로 계산되어 마지막 차원이 됩니다. 최종적으로 (batch_size, seq_len, input_size) 형태를 목표로 합니다."
   ]
  },
  {
   "cell_type": "code",
   "execution_count": null,
   "id": "86bb110f-914d-457a-9b97-395bdba02be9",
   "metadata": {},
   "outputs": [],
   "source": []
  },
  {
   "cell_type": "code",
   "execution_count": 117,
   "id": "e276dea5-72d1-49ee-a30b-4805650ddc23",
   "metadata": {},
   "outputs": [
    {
     "name": "stderr",
     "output_type": "stream",
     "text": [
      "[*********************100%***********************]  1 of 1 completed\n"
     ]
    },
    {
     "name": "stdout",
     "output_type": "stream",
     "text": [
      "Shape of series_norm: (1841, 1)\n",
      "Epoch 1/10  Train MSE: 0.124127\n",
      "Epoch 2/10  Train MSE: 0.012553\n",
      "Epoch 3/10  Train MSE: 0.005625\n",
      "Epoch 4/10  Train MSE: 0.005051\n",
      "Epoch 5/10  Train MSE: 0.003996\n",
      "Epoch 6/10  Train MSE: 0.004078\n",
      "Epoch 7/10  Train MSE: 0.003527\n",
      "Epoch 8/10  Train MSE: 0.003646\n",
      "Epoch 9/10  Train MSE: 0.003472\n",
      "Epoch 10/10  Train MSE: 0.003027\n"
     ]
    },
    {
     "data": {
      "image/png": "[encoded data removed]",
      "text/plain": [
       "<Figure size 800x400 with 1 Axes>"
      ]
     },
     "metadata": {},
     "output_type": "display_data"
    }
   ],
   "source": [
    "import yfinance as yf\n",
    "import pandas as pd\n",
    "import numpy as np\n",
    "import torch\n",
    "import torch.nn as nn\n",
    "import torch.optim as optim\n",
    "from torch.utils.data import TensorDataset, DataLoader\n",
    "import matplotlib.pyplot as plt\n",
    "\n",
    "# 1. Download historical stock data\n",
    "ticker   = 'AAPL'\n",
    "start_D  = '2018-01-01'\n",
    "end_D    = '2025-04-30'\n",
    "data     = yf.download(ticker, start=start_D, end=end_D)\n",
    "series   = data['Close'].dropna()\n",
    "\n",
    "# 2. Min–Max normalization\n",
    "min_val   = series.min()\n",
    "max_val   = series.max()\n",
    "series_nm = (series - min_val) / (max_val - min_val)\n",
    "arr = series_nm.values.reshape(-1, 1)\n",
    "print(\"Shape of series_norm:\", arr.shape)\n",
    "# 3. Create sliding-window sequences\n",
    "'''\n",
    "def create_sequences(data, seq_len):\n",
    "    x, y = [], []\n",
    "    for i in range(len(data) - seq_len):\n",
    "        x.append(data[i : i + seq_len])\n",
    "        y.append(data[i + seq_len])\n",
    "    x = np.array(x)[:, :, None]\n",
    "    y = np.array(y)[:, None]\n",
    "    #print(\"Shape of NumPy array X:\", X.shape) # <--- 확인\n",
    "    #print(\"Shape of NumPy array y:\", y.shape) \n",
    "    return (\n",
    "        torch.tensor(x, dtype=torch.float32),\n",
    "        torch.tensor(y, dtype=torch.float32).reshape(-1,1),\n",
    "    )\n",
    "'''\n",
    "def create_sequences(data, seq_len):\n",
    "    x, y = [], []\n",
    "    for i in range(len(data) - seq_len):\n",
    "        x.append(data[i : i + seq_len])\n",
    "        y.append(data[i + seq_len])\n",
    "    x = np.array(x).reshape(-1, seq_len, 1) # 명시적으로 3차원으로 reshape\n",
    "    y = np.array(y).reshape(-1, 1)       # 명시적으로 2차원으로 reshape\n",
    "    return (\n",
    "        torch.tensor(x, dtype=torch.float32),\n",
    "        torch.tensor(y, dtype=torch.float32),\n",
    "    )\n",
    "\n",
    "seq_len = 12\n",
    "X, Y    = create_sequences(arr, seq_len)\n",
    "\n",
    "# 4. Dataset and DataLoader\n",
    "dataset = TensorDataset(X, Y)\n",
    "loader  = DataLoader(dataset, batch_size=16, shuffle=True)\n",
    "\n",
    "# 5. Define the LSTM model\n",
    "class StockLSTM(nn.Module):\n",
    "    def __init__(self, input_size=1, hidden_size=64, num_layers=2, dropout=0.3):\n",
    "        super().__init__()\n",
    "        self.lstm = nn.LSTM(\n",
    "            input_size, hidden_size,\n",
    "            num_layers=num_layers,\n",
    "            batch_first=True,\n",
    "            dropout=dropout if num_layers > 1 else 0.0\n",
    "        )\n",
    "        self.dropout = nn.Dropout(dropout)\n",
    "        self.fc      = nn.Linear(hidden_size, 1)\n",
    "\n",
    "    def forward(self, x):\n",
    "        out, _ = self.lstm(x)         # out: (batch, seq_len, hidden_size)\n",
    "        last    = out[:, -1, :]       # take last time-step\n",
    "        feat    = self.dropout(last)\n",
    "        return self.fc(feat)          # (batch, 1)\n",
    "\n",
    "model = StockLSTM()\n",
    "\n",
    "# 6. Weight initialization\n",
    "def init_weights(m):\n",
    "    if isinstance(m, (nn.Linear, nn.Conv2d)):\n",
    "        nn.init.xavier_uniform_(m.weight)\n",
    "        if m.bias is not None:\n",
    "            nn.init.zeros_(m.bias)\n",
    "    elif isinstance(m, (nn.LSTM, nn.GRU)):\n",
    "        for name, p in m.named_parameters():\n",
    "            if 'weight_hh' in name:\n",
    "                nn.init.orthogonal_(p)\n",
    "            elif 'weight_ih' in name:\n",
    "                nn.init.xavier_uniform_(p)\n",
    "            elif 'bias' in name:\n",
    "                nn.init.zeros_(p)\n",
    "\n",
    "model.apply(init_weights)\n",
    "\n",
    "# 7. Training setup\n",
    "criterion   = nn.MSELoss()\n",
    "optimizer   = optim.Adam(model.parameters(), lr=1e-4)\n",
    "num_epochs  = 10\n",
    "train_losses = []\n",
    "\n",
    "# 8. Training loop\n",
    "model.train()\n",
    "for epoch in range(num_epochs):\n",
    "    total_loss = 0.0\n",
    "    for xb, yb in loader:\n",
    "        #print(\"DataLoader output shape (xb):\", xb.shape)\n",
    "        optimizer.zero_grad()\n",
    "        preds = model(xb)\n",
    "        loss  = criterion(preds, yb)\n",
    "        loss.backward()\n",
    "        torch.nn.utils.clip_grad_norm_(model.parameters(), max_norm=1.0)\n",
    "        optimizer.step()\n",
    "        total_loss += loss.item() * xb.size(0)\n",
    "\n",
    "    avg_loss = total_loss / len(loader.dataset)\n",
    "    train_losses.append(avg_loss)\n",
    "    print(f\"Epoch {epoch+1}/{num_epochs}  Train MSE: {avg_loss:.6f}\")\n",
    "\n",
    "# 9. Plot training loss\n",
    "plt.figure(figsize=(8, 4))\n",
    "plt.plot(train_losses, label=\"Train MSE\")\n",
    "plt.xlabel(\"Epoch\")\n",
    "plt.ylabel(\"MSE Loss\")\n",
    "plt.title(\"Stock LSTM Training Loss\")\n",
    "plt.legend()\n",
    "plt.show()\n"
   ]
  },
  {
   "cell_type": "code",
   "execution_count": 9,
   "id": "337b7da2-f6d8-4def-8c10-296ff6c5d277",
   "metadata": {},
   "outputs": [
    {
     "name": "stderr",
     "output_type": "stream",
     "text": [
      "[*********************100%***********************]  1 of 1 completed\n"
     ]
    },
    {
     "name": "stdout",
     "output_type": "stream",
     "text": [
      "Epoch [1/10], Loss: 0.0089\n",
      "Epoch [2/10], Loss: 0.0460\n",
      "Epoch [3/10], Loss: 0.0478\n",
      "Epoch [4/10], Loss: 0.0128\n",
      "Epoch [5/10], Loss: 0.0029\n",
      "Epoch [6/10], Loss: 0.0027\n",
      "Epoch [7/10], Loss: 0.0030\n",
      "Epoch [8/10], Loss: 0.0025\n",
      "Epoch [9/10], Loss: 0.0025\n",
      "Epoch [10/10], Loss: 0.0024\n",
      "학습 완료!\n",
      "다음 달 종가 예측 (정규화): 0.7738\n",
      "다음 달 종가 예측 (실제 가격): 207.89\n"
     ]
    },
    {
     "name": "stderr",
     "output_type": "stream",
     "text": [
      "C:\\Users\\JH\\AppData\\Local\\Temp\\ipykernel_15696\\683389211.py:109: FutureWarning: Calling float on a single element Series is deprecated and will raise a TypeError in the future. Use float(ser.iloc[0]) instead\n",
      "  actual_min_price = float(close_prices.min())\n",
      "C:\\Users\\JH\\AppData\\Local\\Temp\\ipykernel_15696\\683389211.py:110: FutureWarning: Calling float on a single element Series is deprecated and will raise a TypeError in the future. Use float(ser.iloc[0]) instead\n",
      "  actual_max_price = float(close_prices.max())\n"
     ]
    }
   ],
   "source": [
    "import yfinance as yf\n",
    "import numpy as np\n",
    "import pandas as pd\n",
    "import torch\n",
    "import torch.nn as nn\n",
    "from torch.utils.data import TensorDataset, DataLoader\n",
    "import torch.optim as optim\n",
    "\n",
    "# 1. 데이터 수집\n",
    "ticker = \"AAPL\"\n",
    "start_date = \"2018-01-01\"\n",
    "end_date = \"2025-04-30\"\n",
    "data = yf.download(ticker, start=start_date, end=end_date)\n",
    "close_prices = data['Close'].dropna()\n",
    "\n",
    "# 2. 전처리\n",
    "# Min-Max 정규화\n",
    "def min_max_normalize(series):\n",
    "    min_val = series.min()\n",
    "    max_val = series.max()\n",
    "    normalized_series = (series - min_val) / (max_val - min_val)\n",
    "    return normalized_series, min_val, max_val\n",
    "\n",
    "series_norm, min_price, max_price = min_max_normalize(close_prices)\n",
    "series_norm = series_norm.values.reshape(-1, 1) # (N, 1) 형태 유지\n",
    "\n",
    "# 슬라이딩 윈도우 생성\n",
    "seq_len = 12\n",
    "X, y = [], []\n",
    "for i in range(len(series_norm) - seq_len):\n",
    "    X.append(series_norm[i : i + seq_len])\n",
    "    y.append(series_norm[i + seq_len])\n",
    "\n",
    "X = np.array(X)\n",
    "y = np.array(y)\n",
    "\n",
    "# 3. 데이터 로더\n",
    "X_tensor = torch.tensor(X, dtype=torch.float32)\n",
    "y_tensor = torch.tensor(y, dtype=torch.float32).reshape(-1, 1)\n",
    "\n",
    "dataset = TensorDataset(X_tensor, y_tensor)\n",
    "batch_size = 32\n",
    "dataloader = DataLoader(dataset, batch_size=batch_size, shuffle=False) # 시계열 데이터이므로 섞지 않음\n",
    "\n",
    "# 4. 모델 설계\n",
    "class StockPriceLSTM(nn.Module):\n",
    "    def __init__(self, input_size, hidden_size, num_layers, dropout):\n",
    "        super(StockPriceLSTM, self).__init__()\n",
    "        self.lstm = nn.LSTM(input_size, hidden_size, num_layers, batch_first=True, dropout=dropout)\n",
    "        self.dropout = nn.Dropout(dropout)\n",
    "        self.linear = nn.Linear(hidden_size, 1)\n",
    "\n",
    "    def forward(self, x):\n",
    "        # x의 shape: (batch_size, seq_len, input_size)\n",
    "        out, (hidden, cell) = self.lstm(x)\n",
    "        # out의 shape: (batch_size, seq_len, hidden_size)\n",
    "        # hidden의 shape: (num_layers, batch_size, hidden_size)\n",
    "        last_output = out[:, -1, :] # 마지막 타임스텝의 은닉 상태 추출 (batch_size, hidden_size)\n",
    "        dropped_output = self.dropout(last_output)\n",
    "        prediction = self.linear(dropped_output) # (batch_size, 1)\n",
    "        return prediction\n",
    "\n",
    "input_size = 1\n",
    "hidden_size = 64\n",
    "num_layers = 2\n",
    "dropout = 0.3\n",
    "model = StockPriceLSTM(input_size, hidden_size, num_layers, dropout)\n",
    "\n",
    "# 초기화\n",
    "for name, param in model.named_parameters():\n",
    "    if 'weight_ih' in name:\n",
    "        nn.init.xavier_normal_(param)\n",
    "    elif 'weight_hh' in name:\n",
    "        nn.init.orthogonal_(param)\n",
    "    elif 'bias' in name:\n",
    "        nn.init.zeros_(param)\n",
    "\n",
    "# 5. 학습 루프\n",
    "criterion = nn.MSELoss()\n",
    "optimizer = optim.Adam(model.parameters())\n",
    "num_epochs = 10\n",
    "\n",
    "for epoch in range(num_epochs):\n",
    "    total_loss = 0\n",
    "    for xb, yb in dataloader:\n",
    "        optimizer.zero_grad()\n",
    "        outputs = model(xb)\n",
    "        loss = criterion(outputs, yb)\n",
    "        loss.backward()\n",
    "\n",
    "        # Gradient Clipping\n",
    "        nn.utils.clip_grad_norm_(model.parameters(), max_norm=1.0)\n",
    "\n",
    "        optimizer.step()\n",
    "        total_loss += loss.item() * xb.size(0) # 배치 크기만큼 손실 누적\n",
    "\n",
    "    avg_loss = total_loss / len(dataloader.dataset)\n",
    "    train_losses.append(avg_loss)\n",
    "    print(f\"Epoch [{epoch+1}/{num_epochs}], Loss: {avg_loss:.4f}\")\n",
    "\n",
    "print(\"학습 완료!\")\n",
    "\n",
    "\n",
    "# (선택 사항) 예측\n",
    "model.eval()\n",
    "with torch.no_grad():\n",
    "    last_sequence = torch.tensor(series_norm[-seq_len:], dtype=torch.float32).unsqueeze(0) # (1, seq_len, 1)\n",
    "    predicted_norm = model(last_sequence).item()\n",
    "    actual_min_price = float(close_prices.min())\n",
    "    actual_max_price = float(close_prices.max())\n",
    "    predicted_price = predicted_norm * (actual_max_price - actual_min_price) + actual_min_price\n",
    "    print(f\"다음 달 종가 예측 (정규화): {predicted_norm:.4f}\")\n",
    "    print(f\"다음 달 종가 예측 (실제 가격): {float(predicted_price):.2f}\") # predicted_price를 float으로 명시적 변환"
   ]
  },
  {
   "cell_type": "code",
   "execution_count": 10,
   "id": "a0e5843a-5fd9-4ad2-a5b8-6142f1c291dd",
   "metadata": {},
   "outputs": [
    {
     "data": {
      "image/png": "[encoded data removed]",
      "text/plain": [
       "<Figure size 800x400 with 1 Axes>"
      ]
     },
     "metadata": {},
     "output_type": "display_data"
    }
   ],
   "source": [
    "# 9. Plot training loss\n",
    "plt.figure(figsize=(8, 4))\n",
    "plt.plot(train_losses, label=\"Train MSE\")\n",
    "plt.xlabel(\"Epoch\")\n",
    "plt.ylabel(\"MSE Loss\")\n",
    "plt.title(\"Stock LSTM Training Loss\")\n",
    "plt.legend()\n",
    "plt.show()\n"
   ]
  },
  {
   "cell_type": "code",
   "execution_count": null,
   "id": "21f5b6ce-1207-4e85-b669-751f23163ee9",
   "metadata": {},
   "outputs": [],
   "source": []
  }
 ],
 "metadata": {
  "kernelspec": {
   "display_name": "Python 3 (ipykernel)",
   "language": "python",
   "name": "python3"
  },
  "language_info": {
   "codemirror_mode": {
    "name": "ipython",
    "version": 3
   },
   "file_extension": ".py",
   "mimetype": "text/x-python",
   "name": "python",
   "nbconvert_exporter": "python",
   "pygments_lexer": "ipython3",
   "version": "3.12.3"
  }
 },
 "nbformat": 4,
 "nbformat_minor": 5
}
