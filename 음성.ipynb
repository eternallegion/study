{
 "cells": [
  {
   "cell_type": "code",
   "execution_count": 12,
   "id": "075364c7-7ffd-4c56-9fe7-2ee411621531",
   "metadata": {},
   "outputs": [],
   "source": [
    "import numpy as np\n",
    "import pandas as ps\n",
    "import os\n",
    "for dirname,_,filenames in os.walk('/kaggle/input'):\n",
    "    for filename in filenames:\n",
    "        print(os.path.join(dirname,filename))"
   ]
  },
  {
   "cell_type": "markdown",
   "id": "fa98563f-1c4b-414d-bdc3-c4964f921caa",
   "metadata": {},
   "source": [
    "출력 디렉토리 설정: \"/kaggle/working/\" 디렉토리에 최대 20GB까지의 파일을 임시로 저장할 수 있도록 설정하는 부분입니다.(노트북 세션 종료와 함께 지워지기 때문에 필요한 파일은 내 로컬 컴퓨터에 저장하여 '+ Add Data' 를 클릭하여 input에 저장하여 사용해야 합니다.)\n",
    "\n",
    "임시 파일 디렉토리 설정: \"/kaggle/temp/\" 디렉토리에 임시 파일을 임시로 저장할 수 있도록 설정할 수 있습니다.\n",
    "\n",
    "EDA란?\n",
    "\n",
    "EDA는 \"탐색적 데이터 분석(Exploratory Data Analysis)\"의 약어로, 데이터를 탐색하고 분석하는 과정을 의미합니다. 데이터 분석의 초기 단계로, 데이터셋의 특성, 구조, 패턴, 상관관계 등을 파악하기 위해 사용되는 기술과 방법론을 포함합니다.\n",
    "\n",
    "EDA는 데이터의 품질을 평가하고 데이터셋을 이해하기 위해 다양한 분석 도구와 기술을 사용합니다. 데이터 시각화, 요약 통계, 데이터 분포 분석, 상관 분석, 이상치 검출, 결측치 처리 등이 EDA의 일부입니다. EDA를 통해 데이터의 특성을 파악하고, 데이터의 품질 문제나 패턴을 발견하여 데이터 분석 및 모델링에 대한 가이드라인을 수립할 수 있습니다."
   ]
  },
  {
   "cell_type": "code",
   "execution_count": 16,
   "id": "50599d0d-1e19-4879-ada9-b377a0ff21e9",
   "metadata": {},
   "outputs": [],
   "source": [
    "import numpy as np\n",
    "import pandas as ps\n",
    "import matplotlib.pyplot as mp\n",
    "import seaborn as sns\n",
    "import glob\n",
    "import joblib\n",
    "import librosa\n",
    "import IPython.display as ipd"
   ]
  },
  {
   "cell_type": "code",
   "execution_count": 17,
   "id": "f0708382-4228-4ddd-bbf5-2775f5a25ea7",
   "metadata": {},
   "outputs": [
    {
     "name": "stdout",
     "output_type": "stream",
     "text": [
      "0\n"
     ]
    },
    {
     "ename": "IndexError",
     "evalue": "list index out of range",
     "output_type": "error",
     "traceback": [
      "\u001b[0;31m---------------------------------------------------------------------------\u001b[0m",
      "\u001b[0;31mIndexError\u001b[0m                                Traceback (most recent call last)",
      "Cell \u001b[0;32mIn[17], line 7\u001b[0m\n\u001b[1;32m      5\u001b[0m files \u001b[38;5;241m=\u001b[39m \u001b[38;5;28msorted\u001b[39m(glob\u001b[38;5;241m.\u001b[39mglob(root \u001b[38;5;241m+\u001b[39m \u001b[38;5;124m'\u001b[39m\u001b[38;5;124m**/*.wav\u001b[39m\u001b[38;5;124m'\u001b[39m, recursive\u001b[38;5;241m=\u001b[39m\u001b[38;5;28;01mTrue\u001b[39;00m))\n\u001b[1;32m      6\u001b[0m \u001b[38;5;28mprint\u001b[39m(\u001b[38;5;28mlen\u001b[39m(files))\n\u001b[0;32m----> 7\u001b[0m \u001b[38;5;28mprint\u001b[39m(\u001b[43mfiles\u001b[49m\u001b[43m[\u001b[49m\u001b[38;5;241;43m0\u001b[39;49m\u001b[43m]\u001b[49m)\n\u001b[1;32m      8\u001b[0m \u001b[38;5;241m3000\u001b[39m\n",
      "\u001b[0;31mIndexError\u001b[0m: list index out of range"
     ]
    }
   ],
   "source": [
    "import glob\n",
    "\n",
    "root = '/kaggle/input/free-spoken-digits/'\n",
    "# recordings_dir = '/kaggle/input/free-spoken-digits/free-spoken-digit-dataset-master/recordings/'\n",
    "files = sorted(glob.glob(root + '**/*.wav', recursive=True))\n",
    "print(len(files))\n",
    "print(files[0])\n",
    "3000\n"
   ]
  },
  {
   "cell_type": "code",
   "execution_count": 19,
   "id": "59f141d6-c90e-429d-a7ad-d3e43f23901a",
   "metadata": {},
   "outputs": [
    {
     "ename": "IndexError",
     "evalue": "index 155 is out of bounds for axis 0 with size 0",
     "output_type": "error",
     "traceback": [
      "\u001b[0;31m---------------------------------------------------------------------------\u001b[0m",
      "\u001b[0;31mIndexError\u001b[0m                                Traceback (most recent call last)",
      "Cell \u001b[0;32mIn[19], line 21\u001b[0m\n\u001b[1;32m     18\u001b[0m     plt\u001b[38;5;241m.\u001b[39mshow()\n\u001b[1;32m     20\u001b[0m num \u001b[38;5;241m=\u001b[39m np\u001b[38;5;241m.\u001b[39mrandom\u001b[38;5;241m.\u001b[39mrandint(\u001b[38;5;241m0\u001b[39m,\u001b[38;5;241m3000\u001b[39m,\u001b[38;5;241m10\u001b[39m)\n\u001b[0;32m---> 21\u001b[0m \u001b[38;5;28;01mfor\u001b[39;00m file \u001b[38;5;129;01min\u001b[39;00m \u001b[43mnp\u001b[49m\u001b[38;5;241;43m.\u001b[39;49m\u001b[43marray\u001b[49m\u001b[43m(\u001b[49m\u001b[43mfiles\u001b[49m\u001b[43m)\u001b[49m\u001b[43m[\u001b[49m\u001b[43mnum\u001b[49m\u001b[43m]\u001b[49m:\n\u001b[1;32m     22\u001b[0m     wav_info(file)\n",
      "\u001b[0;31mIndexError\u001b[0m: index 155 is out of bounds for axis 0 with size 0"
     ]
    }
   ],
   "source": [
    "def wav_info(file):\n",
    "    data,sr = librosa.load(file)\n",
    "    print(f\"data length: {len(data)}, sampling rate: {sr}\")\n",
    "    ipd.display(ipd.Audio(data, rate=sr))\n",
    "\n",
    "    fig,ax = plt.subplots(1,3,figsize=(12,3))\n",
    "    ax[0].plot(data)\n",
    "    ax[0].set_title(f\"{file.split('/')[-1]}, sr={sr}\")\n",
    "\n",
    "    mel = librosa.feature.melspectrogram(y=data, sr=sr)\n",
    "    librosa.display.specshow(mel, x_axis='time', y_axis='mel', ax=ax[1])\n",
    "    ax[1].set_title(f\"{mel.shape}\")\n",
    "\n",
    "    mfcc = librosa.feature.mfcc(y=data, sr=sr)\n",
    "    librosa.display.specshow(mfcc, x_axis='time', ax=ax[2])\n",
    "    ax[2].set_title(f\"{mfcc.shape}\")\n",
    "    plt.tight_layout()\n",
    "    plt.show()\n",
    "\n",
    "num = np.random.randint(0,3000,10)\n",
    "for file in np.array(files)[num]:\n",
    "    wav_info(file)\n"
   ]
  },
  {
   "cell_type": "code",
   "execution_count": null,
   "id": "736f3f48-8eeb-416a-90bb-8795df7afa39",
   "metadata": {},
   "outputs": [],
   "source": []
  },
  {
   "cell_type": "code",
   "execution_count": 21,
   "id": "eef62f39-234f-437e-a597-16d3882bdccc",
   "metadata": {},
   "outputs": [],
   "source": [
    "import numpy as np # linear algebra\n",
    "import pandas as pd # data processing, CSV file I/O (e.g. pd.read_csv)\n",
    "\n",
    "# Input data files are available in the read-only \"../input/\" directory\n",
    "# For example, running this (by clicking run or pressing Shift+Enter) will list all files under the input directory\n",
    "\n",
    "import os\n",
    "for dirname, _, filenames in os.walk('/kaggle/input'):\n",
    "    for filename in filenames:\n",
    "        print(os.path.join(dirname, filename))"
   ]
  },
  {
   "cell_type": "code",
   "execution_count": 24,
   "id": "074ae356-3b66-4556-974e-864038bf85bb",
   "metadata": {},
   "outputs": [
    {
     "name": "stdout",
     "output_type": "stream",
     "text": [
      "0\n",
      "[]\n"
     ]
    }
   ],
   "source": [
    "import numpy as np\n",
    "import pandas as pd\n",
    "\n",
    "import matplotlib.pyplot as plt\n",
    "import seaborn as sns\n",
    "\n",
    "import glob\n",
    "import joblib\n",
    "\n",
    "import librosa\n",
    "import IPython.display as ipd\n",
    "\n",
    "import glob\n",
    "\n",
    "root = '/kaggle/input/free-spoken-digits/'\n",
    "# recordings_dir = '/kaggle/input/free-spoken-digits/free-spoken-digit-dataset-master/recordings/'\n",
    "files = sorted(glob.glob(root + '**/*.wav', recursive=True))\n",
    "print(len(files))\n",
    "print(files)\n",
    "\n",
    "\n"
   ]
  },
  {
   "cell_type": "code",
   "execution_count": null,
   "id": "e8a0219d-d70a-46ce-9c6c-49e78dc3a16e",
   "metadata": {},
   "outputs": [],
   "source": []
  }
 ],
 "metadata": {
  "kernelspec": {
   "display_name": "Python 3 (ipykernel)",
   "language": "python",
   "name": "python3"
  },
  "language_info": {
   "codemirror_mode": {
    "name": "ipython",
    "version": 3
   },
   "file_extension": ".py",
   "mimetype": "text/x-python",
   "name": "python",
   "nbconvert_exporter": "python",
   "pygments_lexer": "ipython3",
   "version": "3.10.12"
  }
 },
 "nbformat": 4,
 "nbformat_minor": 5
}
