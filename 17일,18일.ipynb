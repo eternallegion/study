{
 "cells": [
  {
   "cell_type": "markdown",
   "id": "f9b1e820-6748-4581-b1cc-62eebb99d9ed",
   "metadata": {},
   "source": [
    "### 17일 ###"
   ]
  },
  {
   "cell_type": "markdown",
   "id": "6269cf45-8c68-4a74-a4a2-9cd069677d3b",
   "metadata": {},
   "source": [
    "특수 메서드의 개념과 역할 이해.\n",
    "\n",
    "__str__, __repr__ 메서드 활용법 익히기.\n",
    "\n",
    "객체 출력 형식 커스터마이징.\n",
    "\n",
    "특수 메서드란?\n",
    "\n",
    "    특수 메서드는 파이썬에서 특별한 역할을 수행하는 메서드로, 클래스 동작을 커스터마이징할 수 있습니다.\n",
    "    주로 __<method>__ 형식으로 사용됩니다.\n",
    "    예: __init__, __str__, __repr__.\n",
    "\n",
    "__str__ 메서드\n",
    "    \n",
    "    객체를 사용자 친화적인 문자열로 표현.\n",
    "    print() 함수나 문자열 변환 시 호출됩니다."
   ]
  },
  {
   "cell_type": "markdown",
   "id": "b298b68a-1307-4774-a97e-8ee81017f2cc",
   "metadata": {},
   "source": [
    "__repr__ 메서드\n",
    "\n",
    "    객체를 개발자 친화적인 문자열로 표현.\n",
    "    주로 디버깅과 로깅에 사용됩니다.\n",
    "    repr() 함수나 인터프리터에서 객체를 출력할 때 호출됩니다.\n"
   ]
  },
  {
   "cell_type": "code",
   "execution_count": 12,
   "id": "7d49d219-9029-4503-a57d-5e1c8ca77ae1",
   "metadata": {},
   "outputs": [],
   "source": [
    "class person:\n",
    "    def __init__(self, name, age):\n",
    "        self.name=name\n",
    "        self.age=age\n",
    "\n",
    "    def __str__(self):\n",
    "        return f\"Person(name={self.name}, age={self.age})\"\n",
    "\n",
    "    def __repr__(self):\n",
    "        return f\"Person('{self.name}', {self.age})\""
   ]
  },
  {
   "cell_type": "code",
   "execution_count": 10,
   "id": "d6bd8026-10b3-42ab-83da-93f6087f3169",
   "metadata": {},
   "outputs": [],
   "source": [
    "class person:\n",
    "    def __repr__(self):\n",
    "        return f\"Person('{self.name}', {self.age})\""
   ]
  },
  {
   "cell_type": "code",
   "execution_count": 16,
   "id": "cbc4b4fe-052c-4f20-8ec9-d89eb3a2b526",
   "metadata": {},
   "outputs": [
    {
     "name": "stdout",
     "output_type": "stream",
     "text": [
      "Person(name=Alice, age=30)\n",
      "Person('Alice', 30)\n"
     ]
    }
   ],
   "source": [
    "p = person(\"Alice\", 30)\n",
    "print(p)\n",
    "print(repr(p))"
   ]
  },
  {
   "cell_type": "code",
   "execution_count": null,
   "id": "3a0b534d-2649-487d-acff-9aa172b3795b",
   "metadata": {},
   "outputs": [],
   "source": []
  },
  {
   "cell_type": "markdown",
   "id": "fa7dda1d-a72b-426c-81d3-904e3ba93676",
   "metadata": {},
   "source": [
    "실습\n",
    "\n",
    "    클래스에서 __str__와 __repr__을 작성해 보기.\n",
    "    객체를 출력하거나 repr()로 확인해 보기.\n",
    "    사용자 정의 클래스에 특수 메서드를 추가해 출력 형식을 커스터마이징."
   ]
  },
  {
   "cell_type": "code",
   "execution_count": 24,
   "id": "0aecd648-bcd3-42c8-86a3-97e3945e7e1a",
   "metadata": {},
   "outputs": [],
   "source": [
    "class product:\n",
    "    def __init__(self, name, price):\n",
    "        self.name=name\n",
    "        self.price=price\n",
    "\n",
    "    def __str__(self):\n",
    "        return f\"Product(name={self.name}, price=${self.price:.2f})\"\n",
    "\n",
    "    def __repr__(self):\n",
    "        return f\"Product('{self.name}', {self.price})\"\n"
   ]
  },
  {
   "cell_type": "code",
   "execution_count": 26,
   "id": "8b03861d-e753-4284-9042-a8f3fe1fe2b3",
   "metadata": {},
   "outputs": [
    {
     "name": "stdout",
     "output_type": "stream",
     "text": [
      "Product(name=Laptop, price=$1499.99)\n",
      "Product('Laptop', 1499.99)\n"
     ]
    }
   ],
   "source": [
    "item = product(\"Laptop\", 1499.99)\n",
    "print(item)       # 사용자 친화적 출력\n",
    "print(repr(item)) # 개발자 친화적 출력\n"
   ]
  },
  {
   "cell_type": "code",
   "execution_count": null,
   "id": "f16427b3-9a46-462a-bb8c-a06b7a2cc5be",
   "metadata": {},
   "outputs": [],
   "source": []
  },
  {
   "cell_type": "code",
   "execution_count": null,
   "id": "1e6a2858-b334-4002-bba7-dd459a3655ed",
   "metadata": {},
   "outputs": [],
   "source": []
  },
  {
   "cell_type": "code",
   "execution_count": 278,
   "id": "94b6300e-502a-44c9-b64d-672c9a4b668f",
   "metadata": {},
   "outputs": [],
   "source": [
    "#문제 1: 학생 클래스\n",
    "#목표: 학생 정보를 저장하는 클래스를 작성하고, __str__과 __repr__ 메서드를 구현하세요.\n",
    "\n",
    "class Student:\n",
    "    def __init__(self, name, student_id, grade):\n",
    "        self.name=name\n",
    "        self.student_id=student_id\n",
    "        self.grade=grade\n",
    "\n",
    "    def __str__(self):\n",
    "        return f\"Student Name: {self.name}, ID: {self.student_id}, Grade: {self.grade}\"\n",
    "\n",
    "    def __repr__(self):\n",
    "        return f\"Student('{self.name}', {self.student_id}, {self.grade})\""
   ]
  },
  {
   "cell_type": "code",
   "execution_count": 280,
   "id": "7ace52fa-677f-4321-9ea3-47ca7c2b61c8",
   "metadata": {},
   "outputs": [
    {
     "name": "stdout",
     "output_type": "stream",
     "text": [
      "Student Name: asd, ID: 1, Grade: 23\n",
      "Student('asd', 1, 23)\n"
     ]
    }
   ],
   "source": [
    "s=Student(\"asd\",1,23)\n",
    "print(s)\n",
    "print(repr(s))"
   ]
  },
  {
   "cell_type": "code",
   "execution_count": 283,
   "id": "5d62897d-872f-4264-b044-dffd6962fa29",
   "metadata": {},
   "outputs": [
    {
     "name": "stdout",
     "output_type": "stream",
     "text": [
      "Student Name: Alice, ID: 101, Grade: 4.5\n",
      "Student('Bob', 102, 3.8)\n"
     ]
    }
   ],
   "source": [
    "# 학생 객체 생성\n",
    "student1 = Student(\"Alice\", 101, 4.5)\n",
    "student2 = Student(\"Bob\", 102, 3.8)\n",
    "\n",
    "# print()와 repr() 테스트\n",
    "print(student1)    # Student Name: Alice, ID: 101, Grade: 4.5\n",
    "print(repr(student2))  # Student('Bob', 102, 3.8)\n"
   ]
  },
  {
   "cell_type": "code",
   "execution_count": null,
   "id": "702fa47e-4d1c-4d90-8a88-cb60f9d73ee4",
   "metadata": {},
   "outputs": [],
   "source": []
  },
  {
   "cell_type": "code",
   "execution_count": 285,
   "id": "bbef018d-f956-45f2-a7a9-fff4d71d4125",
   "metadata": {},
   "outputs": [],
   "source": [
    "#문제 2: 도서 관리 시스템\n",
    "#목표: 도서 정보를 저장하는 클래스를 작성하고, 사용자가 보기 좋은 출력과 개발자가 보기 좋은 출력을 모두 구현하세요.\n",
    "class Book:\n",
    "    def __init__(self, title, author, pages):\n",
    "        self.title=title\n",
    "        self.author=author\n",
    "        self.pages=pages\n",
    "\n",
    "    def __str__(self):\n",
    "        return f\"Book: '{self.title}' by '{self.author}', {self.pages} pages\"\n",
    "\n",
    "    def __repr__(self):\n",
    "        return f\"Book('{self.title}', '{self.author}', {self.pages})\"\n"
   ]
  },
  {
   "cell_type": "code",
   "execution_count": 287,
   "id": "dc92f27b-e453-43e2-91fd-be9922dedbd4",
   "metadata": {},
   "outputs": [
    {
     "name": "stdout",
     "output_type": "stream",
     "text": [
      "Book: 'asd' by 'gfdsfs', 121 pages\n",
      "Book('asd', 'gfdsfs', 121)\n"
     ]
    }
   ],
   "source": [
    "b=Book(\"asd\",\"gfdsfs\",121)\n",
    "print(b)\n",
    "print(repr(b))"
   ]
  },
  {
   "cell_type": "code",
   "execution_count": 290,
   "id": "7bdedf10-b553-4baa-8ce4-16dbf556863d",
   "metadata": {},
   "outputs": [
    {
     "name": "stdout",
     "output_type": "stream",
     "text": [
      "Book: '1984' by 'George Orwell', 328 pages\n",
      "Book('To Kill a Mockingbird', 'Harper Lee', 281)\n",
      "[Book('1984', 'George Orwell', 328), Book('To Kill a Mockingbird', 'Harper Lee', 281)]\n"
     ]
    }
   ],
   "source": [
    "# 도서 객체 생성\n",
    "book1 = Book(\"1984\", \"George Orwell\", 328)\n",
    "book2 = Book(\"To Kill a Mockingbird\", \"Harper Lee\", 281)\n",
    "\n",
    "# 출력 테스트\n",
    "print(book1)         # Book: '1984' by 'George Orwell', 328 pages\n",
    "print(repr(book2))   # Book('To Kill a Mockingbird', 'Harper Lee', 281)\n",
    "\n",
    "# 리스트에 도서 추가 후 출력\n",
    "books = [book1, book2]\n",
    "print(books)  # [Book('1984', 'George Orwell', 328), Book('To Kill a Mockingbird', 'Harper Lee', 281)]\n"
   ]
  },
  {
   "cell_type": "code",
   "execution_count": null,
   "id": "d19d9505-31ea-47c9-8e77-1dd95c2ebd1a",
   "metadata": {},
   "outputs": [],
   "source": []
  },
  {
   "cell_type": "code",
   "execution_count": 170,
   "id": "6ebbce16-50c0-4a33-b249-29e827b8bc6c",
   "metadata": {},
   "outputs": [],
   "source": [
    "#문제 3: 사원 관리 시스템\n",
    "#목표: 사원 정보를 관리하는 클래스를 작성하고, 사원의 급여 정보를 보기 쉽게 출력하세요.\n",
    "class Employee:\n",
    "    def __init__(self, name, position, salary):\n",
    "        self.name=name\n",
    "        self.position=position\n",
    "        self.salary=salary\n",
    "\n",
    "    def __str__(self):\n",
    "        return f\"Employee: {self.name} - {self.position}, Salary: ${self.salary}\"\n",
    "\n",
    "    def __repr__(self):\n",
    "        return f\"Employee('{self.name}','{self.position}', {self.salary})\"\n",
    "\n",
    "\n",
    "def name_data():\n",
    "    i=input(\"data\")\n",
    "    #j=input(\"data1\")\n",
    "    #k=int(input(\"data2\"))\n",
    "    return i\n",
    "\n",
    "def position_data():\n",
    "    j=input(\"data1\")\n",
    "    return j\n",
    "\n",
    "def salary_data():\n",
    "    k=int(input(\"data2\"))\n",
    "    return k\n",
    "\n",
    "\n",
    "\n",
    "employee=[]\n",
    "for i in range(0,3):\n",
    "    e=Employee(name_data(),position_data(),salary_data())\n",
    "    employee.append(e)\n",
    "\n",
    "print(employee)\n",
    "print(repr(employee))\n",
    "\n",
    "employee"
   ]
  },
  {
   "cell_type": "code",
   "execution_count": 172,
   "id": "ed0db81c-202d-4276-9ea8-0b2df59fd297",
   "metadata": {},
   "outputs": [
    {
     "name": "stdin",
     "output_type": "stream",
     "text": [
      "data qew\n",
      "data1 qwe\n",
      "data2 24\n"
     ]
    },
    {
     "data": {
      "text/plain": [
       "24"
      ]
     },
     "execution_count": 172,
     "metadata": {},
     "output_type": "execute_result"
    }
   ],
   "source": [
    "name_data()\n",
    "position_data()\n",
    "salary_data()"
   ]
  },
  {
   "cell_type": "code",
   "execution_count": 178,
   "id": "69deaf04-bf19-4cc4-b033-7163445a02e3",
   "metadata": {},
   "outputs": [
    {
     "name": "stdin",
     "output_type": "stream",
     "text": [
      "data q\n",
      "data1 w\n",
      "data2 23\n",
      "data w\n",
      "data1 e\n",
      "data2 34\n",
      "data e\n",
      "data1 r\n",
      "data2 45\n"
     ]
    },
    {
     "name": "stdout",
     "output_type": "stream",
     "text": [
      "[Employee('q','w', 23), Employee('w','e', 34), Employee('e','r', 45)]\n",
      "[Employee('q','w', 23), Employee('w','e', 34), Employee('e','r', 45)]\n"
     ]
    },
    {
     "data": {
      "text/plain": [
       "[Employee('q','w', 23), Employee('w','e', 34), Employee('e','r', 45)]"
      ]
     },
     "execution_count": 178,
     "metadata": {},
     "output_type": "execute_result"
    }
   ],
   "source": [
    "employee=[]\n",
    "for i in range(0,3):\n",
    "    e=Employee(name_data(),position_data(),salary_data())\n",
    "    employee.append(e)\n",
    "\n",
    "print(employee)\n",
    "print(repr(employee))\n",
    "\n",
    "employee"
   ]
  },
  {
   "cell_type": "code",
   "execution_count": null,
   "id": "4b8d1b6a-9aa5-421a-9f02-6b4d361ff1b8",
   "metadata": {},
   "outputs": [],
   "source": []
  },
  {
   "cell_type": "code",
   "execution_count": null,
   "id": "7f9d7a71-4751-4641-879c-71f09c8f04bd",
   "metadata": {},
   "outputs": [],
   "source": []
  },
  {
   "cell_type": "code",
   "execution_count": 315,
   "id": "017ec346-3ae8-4ed9-95be-6491029f3006",
   "metadata": {},
   "outputs": [],
   "source": [
    "#추가\n",
    "#추가 문제: 비교 연산자 구현\n",
    "#심화 문제: Book 클래스에 페이지 수를 기준으로 두 책을 비교(<, >, ==)할 수 있는 기능을 추가하세요.\n",
    "class Book:\n",
    "    def __init__(self, title, author, pages):\n",
    "        self.title=title\n",
    "        self.author=author\n",
    "        self.pages=pages\n",
    "\n",
    "    def __str__(self):\n",
    "        return f\"Book: '{self.title}' by '{self.author}', {self.pages} pages\"\n",
    "\n",
    "    def __repr__(self):\n",
    "        return f\"Book({self.title}, {self.author}, {self.pages})\"\n",
    "\n",
    "class VSBook(Book):\n",
    "    def __init__(self, title, author, pages):\n",
    "        #self.page=pages\n",
    "        #self.title=title\n",
    "        #self.author=author\n",
    "        super().__init__(title, author, pages)\n",
    "\n",
    "    def __lt__(self,other):\n",
    "        return self.pages < other.pages\n",
    "    def __gt__(self,other):\n",
    "        return self.pages > other.pages\n",
    "    def __eq__ (self,other):\n",
    "        return self.pages == other.pages\n",
    "\n",
    "    def __le__(self, other):\n",
    "        return self.pages <= other.pages\n",
    "\n",
    "    def __ge__(self, other):\n",
    "        return self.pages >= other.pages\n"
   ]
  },
  {
   "cell_type": "code",
   "execution_count": 317,
   "id": "5b87be2f-7529-4ffb-98be-92a98db5eb5a",
   "metadata": {},
   "outputs": [
    {
     "name": "stdout",
     "output_type": "stream",
     "text": [
      "Book: 'asd' by 'gfdsfs', 12 pages\n",
      "Book(asd, gfdsfs, 12)\n"
     ]
    }
   ],
   "source": [
    "b=Book(\"asd\",\"gfdsfs\",12)\n",
    "print(b)\n",
    "print(repr(b))"
   ]
  },
  {
   "cell_type": "code",
   "execution_count": 319,
   "id": "b230df5c-c435-4bbd-bf5d-00eea1bdc484",
   "metadata": {},
   "outputs": [
    {
     "name": "stdout",
     "output_type": "stream",
     "text": [
      "True\n",
      "False\n",
      "False\n"
     ]
    }
   ],
   "source": [
    "book1 = VSBook(\"1984\", \"George Orwell\", 328)\n",
    "book2 = VSBook(\"To Kill a Mockingbird\", \"Harper Lee\", 281)\n",
    "\n",
    "print(book1 > book2)  # True\n",
    "print(book1 < book2)  # False\n",
    "print(book1 == book2)  # False\n"
   ]
  },
  {
   "cell_type": "code",
   "execution_count": null,
   "id": "11146e8c-ce20-4bde-9e47-b3751f1b4cf9",
   "metadata": {},
   "outputs": [],
   "source": []
  },
  {
   "cell_type": "markdown",
   "id": "4863dba1-19f9-4d88-8590-efd1379aaa62",
   "metadata": {},
   "source": [
    "### ***18일 특수메서드2*** ###"
   ]
  },
  {
   "cell_type": "raw",
   "id": "4708bc2e-7ccd-4559-be2b-3aad99730f66",
   "metadata": {},
   "source": [
    "1. 객체 초기화 및 소멸\n",
    "__init__: 객체 초기화 메서드 (생성자).\n",
    "__del__: 객체 소멸 메서드 (소멸자, 자주 사용되지 않음)."
   ]
  },
  {
   "cell_type": "code",
   "execution_count": 8,
   "id": "8950c7ba-5adb-4fee-9166-8ec77a96fbd3",
   "metadata": {},
   "outputs": [
    {
     "name": "stdout",
     "output_type": "stream",
     "text": [
      "Object Tesdt created.\n",
      "Object Tesdt destroyed.\n"
     ]
    }
   ],
   "source": [
    "class MyClass:\n",
    "    def __init__(self, name):\n",
    "        self.name=name\n",
    "        print(f\"Object {self.name} created.\")\n",
    "\n",
    "    def __del__(self):\n",
    "        print(f\"Object {self.name} destroyed.\")\n",
    "\n",
    "ore=MyClass(\"Tesdt\")\n",
    "del ore"
   ]
  },
  {
   "cell_type": "code",
   "execution_count": null,
   "id": "3e105a3f-3c8b-4348-9662-1b8d6a45f9c1",
   "metadata": {},
   "outputs": [],
   "source": []
  },
  {
   "cell_type": "raw",
   "id": "614ae70a-e5eb-4060-865b-4d8b6dda0073",
   "metadata": {},
   "source": [
    "2. 문자열 표현\n",
    "__str__: 객체의 사용자 친화적인 문자열 표현을 반환.\n",
    "__repr__: 객체의 개발자 친화적인 표현을 반환 (디버깅용)."
   ]
  },
  {
   "cell_type": "code",
   "execution_count": 11,
   "id": "8dd0dd4a-d64e-4cdc-9a2b-ca6f995e5f61",
   "metadata": {},
   "outputs": [
    {
     "name": "stdout",
     "output_type": "stream",
     "text": [
      "MyClass with name: test\n",
      "MyClass(name='test')\n"
     ]
    }
   ],
   "source": [
    "class MyClass:\n",
    "    def __init__(self, name):\n",
    "        self.name=name\n",
    "\n",
    "    def __str__(self):\n",
    "        return f\"MyClass with name: {self.name}\"\n",
    "\n",
    "    def __repr__(self):\n",
    "        return f\"MyClass(name={self.name!r})\"\n",
    "\n",
    "oew=MyClass(\"test\")\n",
    "print(oew)\n",
    "print(repr(oew))"
   ]
  },
  {
   "cell_type": "code",
   "execution_count": null,
   "id": "fe73a804-fa09-4ac8-99c2-2d43b3b16c6d",
   "metadata": {},
   "outputs": [],
   "source": []
  },
  {
   "cell_type": "raw",
   "id": "21950299-b34f-4a0f-bc53-a8506768e0e5",
   "metadata": {},
   "source": [
    "3. 연산자 오버로딩\n",
    "특정 연산자를 객체에 대해 재정의.\n",
    "예를 들어, + 연산자를 클래스에 대해 정의하고 싶다면 __add__ 메서드를 사용.\n",
    "주요 연산자 특수 메서드:\n",
    "연산자\t메서드\t설명\n",
    "+\t__add__\t덧셈 연산\n",
    "-\t__sub__\t뺄셈 연산\n",
    "*\t__mul__\t곱셈 연산\n",
    "/\t__truediv__\t나눗셈 연산\n",
    "==\t__eq__\t두 객체가 같은지 비교\n",
    "<\t__lt__\t작은지 비교"
   ]
  },
  {
   "cell_type": "code",
   "execution_count": 63,
   "id": "bfc0561e-4197-4397-948f-884dc97b59df",
   "metadata": {},
   "outputs": [
    {
     "name": "stdout",
     "output_type": "stream",
     "text": [
      "15\n",
      "-5\n",
      "50\n"
     ]
    }
   ],
   "source": [
    "class MyNumber:\n",
    "    def __init__(self, value):\n",
    "        self.value=value\n",
    "\n",
    "    def __add__(self, other):\n",
    "        return MyNumber(self.value+other.value)\n",
    "\n",
    "    def __sub__(self, other):\n",
    "        return MyNumber(self.value-other.value)\n",
    "\n",
    "    def __mul__(self, other):\n",
    "        return MyNumber(self.value*other.value)\n",
    "\n",
    "    def __str__(self):\n",
    "        return str(self.value)\n",
    "\n",
    "num1 = MyNumber(5)\n",
    "num2 = MyNumber(10)\n",
    "result = num1 + num2  # __add__ 호출\n",
    "result1 = num1 - num2\n",
    "result2 = num1 * num2\n",
    "print(result)  # 15\n",
    "print(result1)\n",
    "print(result2)"
   ]
  },
  {
   "cell_type": "code",
   "execution_count": 65,
   "id": "4637a6f9-fbe6-45b5-9910-692813645f3f",
   "metadata": {},
   "outputs": [
    {
     "name": "stdout",
     "output_type": "stream",
     "text": [
      "Vector(3, 4)\n",
      "Vector(1, 2)\n",
      "Vector(6, 9)\n"
     ]
    }
   ],
   "source": [
    "class Vector:\n",
    "    def __init__(self, x, y):\n",
    "        self.x = x\n",
    "        self.y = y\n",
    "\n",
    "    def __add__(self, other):\n",
    "        return Vector(self.x + other.x, self.y + other.y)\n",
    "\n",
    "    def __sub__(self, other):\n",
    "        return Vector(self.x - other.x, self.y - other.y)\n",
    "\n",
    "    def __mul__(self, scalar):\n",
    "        return Vector(self.x * scalar, self.y * scalar)\n",
    "\n",
    "    def __str__(self):\n",
    "        return f\"Vector({self.x}, {self.y})\"\n",
    "\n",
    "# 테스트\n",
    "v1 = Vector(2, 3)\n",
    "v2 = Vector(1, 1)\n",
    "\n",
    "print(v1 + v2)  # Vector(3, 4)\n",
    "print(v1 - v2)  # Vector(1, 2)\n",
    "print(v1 * 3)   # Vector(6, 9)\n"
   ]
  },
  {
   "cell_type": "code",
   "execution_count": null,
   "id": "43b0ac5e-8efd-4ecf-96b5-4d721a754959",
   "metadata": {},
   "outputs": [],
   "source": []
  },
  {
   "cell_type": "raw",
   "id": "0d0247fa-afe8-49dc-a465-07c702b882a4",
   "metadata": {},
   "source": [
    "4. 컨테이너 관련 메서드\n",
    "리스트, 딕셔너리 같은 객체처럼 동작하도록 정의.\n",
    "메서드\t설명\n",
    "__len__\t객체의 길이를 반환 (len())\n",
    "__getitem__\t객체에서 특정 항목을 반환\n",
    "__setitem__\t특정 위치에 값을 설정\n",
    "__delitem__\t특정 항목을 삭제\n",
    "__contains__\t특정 값이 객체에 포함되었는지 확인 (in)"
   ]
  },
  {
   "cell_type": "code",
   "execution_count": 42,
   "id": "8fe76ca3-23a2-4634-8812-481da19fc762",
   "metadata": {},
   "outputs": [
    {
     "name": "stdout",
     "output_type": "stream",
     "text": [
      "[1, 2, 3]\n",
      "3\n",
      "2\n",
      "[1, 2, 3]\n",
      "42\n",
      "[1, 42, 3]\n",
      "2\n",
      "[1, 3]\n"
     ]
    }
   ],
   "source": [
    "class MyList:\n",
    "    def __init__(self):\n",
    "        self.data=[]\n",
    "\n",
    "    def __len__(self):\n",
    "        return len(self.data)\n",
    "\n",
    "    def __getitem__(self,index):\n",
    "        return self.data[index]\n",
    "\n",
    "    def __setitem__(self, index, value):\n",
    "        self.data[index]=value\n",
    "\n",
    "    def __delitem__(self, index):\n",
    "        del self.data[index]\n",
    "\n",
    "my_list = MyList()\n",
    "my_list.data.extend([1, 2, 3])\n",
    "print(my_list.data)\n",
    "print(len(my_list))  # 3\n",
    "print(my_list[1])    # 2\n",
    "print(my_list.data)\n",
    "my_list[1] = 42\n",
    "print(my_list[1])    # 42\n",
    "print(my_list.data)\n",
    "del my_list[1]\n",
    "print(len(my_list)) \n",
    "print(my_list.data)"
   ]
  },
  {
   "cell_type": "code",
   "execution_count": 67,
   "id": "3fe42e94-c8db-4172-9aa4-97580dfe920d",
   "metadata": {},
   "outputs": [
    {
     "name": "stdout",
     "output_type": "stream",
     "text": [
      "True\n",
      "False\n"
     ]
    }
   ],
   "source": [
    "class Myset:\n",
    "    def __init__(self, items):\n",
    "        self.items=items\n",
    "        \n",
    "    def __contains__(self,item):\n",
    "        return item in self.items\n",
    "\n",
    "my_set = Myset([1, 2, 3, 4])\n",
    "print(2 in my_set)  # True\n",
    "print(5 in my_set)"
   ]
  },
  {
   "cell_type": "code",
   "execution_count": null,
   "id": "1818401e-9e12-44df-9473-9baeb500ffd2",
   "metadata": {},
   "outputs": [],
   "source": []
  },
  {
   "cell_type": "raw",
   "id": "3c98ca3c-4e29-46d9-a538-65619a8399ee",
   "metadata": {},
   "source": [
    "5. 기타 유용한 특수 메서드\n",
    "__call__: 객체를 함수처럼 호출할 수 있게 정의.\n",
    "__iter__: 객체를 이터레이터로 정의.\n",
    "__next__: 이터레이터의 다음 값을 반환."
   ]
  },
  {
   "cell_type": "code",
   "execution_count": 61,
   "id": "3b400326-32e9-4619-9171-c6d7971078af",
   "metadata": {},
   "outputs": [
    {
     "name": "stdout",
     "output_type": "stream",
     "text": [
      "1\n",
      "2\n",
      "3\n",
      "4\n",
      "5\n",
      "6\n",
      "7\n",
      "8\n",
      "9\n",
      "10\n"
     ]
    }
   ],
   "source": [
    "class counter:\n",
    "    def __init__(self, start=0):\n",
    "        self.count=start\n",
    "\n",
    "    def __call__(self):\n",
    "        self.count+=1\n",
    "        return self.count\n",
    "\n",
    "counters = counter()\n",
    "#counters = counter(3)\n",
    "\n",
    "  # 1\n",
    "#print(counters())\n",
    "\n",
    "for i in range(10):\n",
    "    print(counters())"
   ]
  },
  {
   "cell_type": "code",
   "execution_count": 81,
   "id": "8d5e7be3-b8f7-45cb-8bf8-3acbbb41f041",
   "metadata": {},
   "outputs": [
    {
     "name": "stdout",
     "output_type": "stream",
     "text": [
      "1\n",
      "2\n",
      "3\n",
      "4\n"
     ]
    }
   ],
   "source": [
    "class Myrange:\n",
    "    def __init__(self, start,end):\n",
    "        self.currnet=start\n",
    "        self.end=end\n",
    "\n",
    "    def __iter__(self):\n",
    "        return self\n",
    "\n",
    "    def __next__(self):\n",
    "        if self.currnet>=self.end:\n",
    "            raise StopIteration #브레이크 역할\n",
    "        self.currnet+=1\n",
    "        return self.currnet-1\n",
    "\n",
    "for num in Myrange(1, 5):\n",
    "    print(num)"
   ]
  },
  {
   "cell_type": "code",
   "execution_count": null,
   "id": "cfffeb70-12f6-485d-9fed-4109af359b57",
   "metadata": {},
   "outputs": [],
   "source": []
  },
  {
   "cell_type": "markdown",
   "id": "0b88d0e3-e7ef-408c-8ce9-3226f002228a",
   "metadata": {},
   "source": [
    "### 실습 문제 ###"
   ]
  },
  {
   "cell_type": "code",
   "execution_count": 84,
   "id": "820cfa48-af83-4861-b07f-e2daa4d85efc",
   "metadata": {},
   "outputs": [
    {
     "name": "stdout",
     "output_type": "stream",
     "text": [
      "3,4\n",
      "1,2\n"
     ]
    }
   ],
   "source": [
    "#문제 1: 연산자 오버로딩\n",
    "#벡터(Vector) 클래스를 정의하고, +, - 연산을 지원하세요.\n",
    "#각 연산은 두 벡터의 x, y 좌표를 더하거나 빼는 방식으로 동작합니다.\n",
    "class Vectors:\n",
    "    def __init__(self, x,y):\n",
    "        self.x=x\n",
    "        self.y=y\n",
    "\n",
    "    def __add__(self,other):\n",
    "        return Vectors(self.x+other.x , self.y+other.y)\n",
    "\n",
    "    def __sub__(self,other):\n",
    "        return Vectors(self.x-other.x , self.y-other.y)\n",
    "\n",
    "    def __str__(self):\n",
    "        return f\"{self.x},{self.y}\"\n",
    "\n",
    "v1 = Vectors(2, 3)\n",
    "v2 = Vectors(1, 1)\n",
    "\n",
    "print(v1 + v2)  \n",
    "print(v1 - v2) "
   ]
  },
  {
   "cell_type": "code",
   "execution_count": 142,
   "id": "5a0ea35e-f38a-4f0e-82a9-be739580e8e2",
   "metadata": {},
   "outputs": [
    {
     "name": "stdout",
     "output_type": "stream",
     "text": [
      "3\n",
      "2\n",
      "42\n",
      "[1, 3]\n",
      "CustomList([1, 3])\n"
     ]
    }
   ],
   "source": [
    "#문제 2: 컨테이너 클래스\n",
    "#커스텀 리스트 클래스를 구현하세요.\n",
    "#리스트처럼 len(), 인덱싱([]), 값 설정을 지원하세요.\n",
    "\n",
    "class CustomList:\n",
    "    def __init__(self,item):\n",
    "        self.items=item\n",
    "\n",
    "    def __len__(self):\n",
    "        return len(self.items)\n",
    "\n",
    "    def __getitem__(self,index):\n",
    "        return self.items[index]\n",
    "        \n",
    "    def __setitem__(self, index, value):\n",
    "        self.items[index]=value\n",
    "\n",
    "    def __delitem__(self,index):\n",
    "        del self.items[index]\n",
    "\n",
    "    def __repr__(self):\n",
    "        return f\"CustomList({self.items})\"\n",
    "\n",
    "\n",
    "cslist = CustomList([1, 2, 3])\n",
    "print(len(cslist)) \n",
    "print(cslist[1])    \n",
    "cslist[1] = 42\n",
    "print(cslist[1]) \n",
    "del cslist[1]\n",
    "print(cslist.items)\n",
    "\n",
    "print(repr(cslist))"
   ]
  },
  {
   "cell_type": "code",
   "execution_count": 160,
   "id": "dbc967dc-ce1b-4946-b3a3-1301af961559",
   "metadata": {},
   "outputs": [
    {
     "name": "stdout",
     "output_type": "stream",
     "text": [
      "1\n",
      "2\n",
      "3\n",
      "4\n",
      "5\n",
      "6\n",
      "7\n",
      "8\n",
      "9\n",
      "10\n",
      "counter(10)\n",
      "1\n",
      "2\n",
      "2\n",
      "1\n"
     ]
    }
   ],
   "source": [
    "#문제 3: 호출 가능한 객체\n",
    "#카운터 클래스를 만들고, 객체가 호출될 때마다 1씩 증가하는 기능을 구현하세요.\n",
    "class counter:\n",
    "    def __init__(self, start=0):\n",
    "        self.count=start\n",
    "\n",
    "    def __call__(self):\n",
    "        self.count+=1\n",
    "        return self.count\n",
    "\n",
    "    def reset(self):\n",
    "        self.count=0\n",
    "\n",
    "    def decrement(self):\n",
    "        self.count-=1\n",
    "        return self.count\n",
    "\n",
    "    def __repr__(self):\n",
    "        return f\"counter({self.count})\"\n",
    "\n",
    "counters = counter()\n",
    "for i in range(10):\n",
    "    print(counters())\n",
    "\n",
    "print(repr(counters))\n",
    "\n",
    "counters = counter()\n",
    "print(counters())  # 1\n",
    "print(counters())  # 2\n",
    "counters.decrement()\n",
    "print(counters())  # 2\n",
    "counters.reset()\n",
    "print(counters())  # 1"
   ]
  },
  {
   "cell_type": "code",
   "execution_count": 172,
   "id": "7094ad9c-6984-4e7f-9418-f297c56e94bb",
   "metadata": {},
   "outputs": [
    {
     "name": "stdout",
     "output_type": "stream",
     "text": [
      "1\n",
      "2\n",
      "3\n",
      "4\n",
      "------\n",
      "[3, 4, 5, 6]\n",
      "Reset 후 반복\n",
      "3\n",
      "4\n",
      "5\n",
      "6\n"
     ]
    }
   ],
   "source": [
    "#문제 4: 이터레이터 클래스\n",
    "#시작값과 종료값을 받아 숫자를 생성하는 이터레이터를 구현하세요\n",
    "class RANGE:\n",
    "    def __init__(self, start=0, end=10):\n",
    "        self.current=start\n",
    "        self.start = start\n",
    "        self.end=end\n",
    "\n",
    "    def __iter__(self):\n",
    "        return self\n",
    "\n",
    "    def __next__(self):\n",
    "        if self.current>=self.end:\n",
    "            raise StopIteration(\"End of range reached\") \n",
    "        self.current+=1\n",
    "        return self.current-1\n",
    "\n",
    "    def __repr__(self):\n",
    "        return f\"RANGE({self.current},end={self.end})\"\n",
    "\n",
    "    def reset(self):\n",
    "        self.current=self.start\n",
    "\n",
    "\n",
    "\n",
    "for num in RANGE(1, 5):\n",
    "    print(num)\n",
    "\n",
    "print(\"------\")\n",
    "\n",
    "r = RANGE(3, 7)\n",
    "print(list(r))  # [3, 4, 5, 6]\n",
    "\n",
    "print(\"Reset 후 반복\")\n",
    "r.reset()  # 객체 재사용\n",
    "for num in r:\n",
    "    print(num)"
   ]
  },
  {
   "cell_type": "raw",
   "id": "d4dcac6f-a513-40bd-8808-dea11bc302ea",
   "metadata": {},
   "source": [
    "✅ 연산자 오버로딩 (__add__, __sub__)\n",
    "✅ 컨테이너 동작 구현 (__len__, __getitem__, __setitem__, __delitem__)\n",
    "✅ 호출 가능한 객체 (__call__)\n",
    "✅ 이터레이터 (__iter__, __next__)\n",
    "✅ 객체 표현 (__repr__) 및 상태 리셋 (reset())"
   ]
  },
  {
   "cell_type": "code",
   "execution_count": null,
   "id": "cd1718dc-01d7-4394-a503-7d920a98a781",
   "metadata": {},
   "outputs": [],
   "source": []
  }
 ],
 "metadata": {
  "kernelspec": {
   "display_name": "Python 3 (ipykernel)",
   "language": "python",
   "name": "python3"
  },
  "language_info": {
   "codemirror_mode": {
    "name": "ipython",
    "version": 3
   },
   "file_extension": ".py",
   "mimetype": "text/x-python",
   "name": "python",
   "nbconvert_exporter": "python",
   "pygments_lexer": "ipython3",
   "version": "3.12.3"
  }
 },
 "nbformat": 4,
 "nbformat_minor": 5
}
