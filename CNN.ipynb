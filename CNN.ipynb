{
 "cells": [
  {
   "cell_type": "markdown",
   "id": "7ad52f2c-4b45-4cfa-b19a-173030b24629",
   "metadata": {},
   "source": [
    "# CNN"
   ]
  },
  {
   "cell_type": "markdown",
   "id": "66f8bb00-74e4-4ec0-8ad1-cfea7043cc17",
   "metadata": {},
   "source": [
    "## 1. CNN의 기본 개념\n",
    "Convolutional Layer (컨볼루션 레이어):\n",
    "\n",
    "입력 이미지에 필터(또는 커널)를 적용하여 특징 맵(feature map)을 생성합니다. 필터는 이미지의 지역적 특징(에지, 텍스처 등)을 추출하는 역할을 합니다.\n",
    "\n",
    "Pooling Layer (풀링 레이어):\n",
    "\n",
    "컨볼루션 레이어의 출력 크기를 줄여 계산량을 줄이고, 공간적 불변성을 제공하는 역할을 합니다. 대표적으로 Max Pooling이 많이 사용됩니다.\n",
    "\n",
    "Activation Function (활성화 함수):\n",
    "\n",
    "ReLU 같은 함수는 비선형성을 추가해 모델이 복잡한 패턴을 학습할 수 있도록 돕습니다.\n",
    "\n",
    "Fully Connected Layer (완전 연결 레이어):\n",
    "\n",
    "컨볼루션과 풀링을 통해 추출한 특징을 평탄화(flatten)하여 분류 작업을 수행합니다."
   ]
  },
  {
   "cell_type": "markdown",
   "id": "0b58ae9c-b958-47a6-86ad-eec7aaae0a31",
   "metadata": {},
   "source": [
    "## 2. 간단한 CNN 모델 구현 예제"
   ]
  },
  {
   "cell_type": "code",
   "execution_count": 108,
   "id": "996ded65-23a9-4dfd-9feb-a917c7c4ac1c",
   "metadata": {},
   "outputs": [],
   "source": [
    "import torch\n",
    "import torch.nn as nn\n",
    "import torch.optim as optim\n",
    "from torchvision import datasets, transforms\n",
    "from torch.utils.data import DataLoader as loader\n",
    "import torch.nn.functional as F"
   ]
  },
  {
   "cell_type": "code",
   "execution_count": 110,
   "id": "5bb745c8-1c4b-44e3-ac68-d5cad80e44dc",
   "metadata": {},
   "outputs": [],
   "source": [
    "class simple_CNN(nn.Module):\n",
    "    def __init__(self):\n",
    "        super(simple_CNN,self).__init__()\n",
    "        self.conv1=nn.Conv2d(1,32,kernel_size=3,stride=1,padding=1) # 첫 번째 컨볼루션 레이어: 입력 채널 1, 출력 채널 32, 커널 크기 3, 패딩 1 -> 출력: (32, 28, 28)\n",
    "        self.conv2=nn.Conv2d(32,64,kernel_size=3,stride=1,padding=1)# 두 번째 컨볼루션 레이어: 입력 채널 32, 출력 채널 64, 커널 크기 3, 패딩 1 -> 출력: (64, 14, 14) after pooling\n",
    "        self.pool=nn.MaxPool2d(kernel_size=2, stride=2)# Max Pooling 레이어: 커널 크기 2, stride 2 -> 이미지 크기를 절반으로 줄임\n",
    "\n",
    "        self.fc1=nn.Linear(64*7*7,128) # 풀링 후 이미지 크기: 28 -> 14 (첫 번째 pooling) -> 7 (두 번째 pooling), 채널 수 64: 총 64*7*7 features\n",
    "        self.fc2=nn.Linear(128,10)\n",
    "\n",
    "    def forward(self,x):\n",
    "        x=F.relu(self.conv1(x)) # -> (batch_size, 32, 28, 28)\n",
    "        x=self.pool(x)# -> (batch_size, 32, 14, 14)\n",
    "        x=F.relu(self.conv2(x))# -> (batch_size, 64, 14, 14)\n",
    "        x=self.pool(x)# -> (batch_size, 64, 7, 7)   -----------------------\n",
    "        x=x.view(-1,64*7*7)# 평탄화: (batch_size, 64*7*7)\n",
    "        x=F.relu(self.fc1(x))# -> (batch_size, 128)\n",
    "        x=self.fc2(x)# -> (batch_size, 10), raw logits\n",
    "        return x"
   ]
  },
  {
   "cell_type": "code",
   "execution_count": 112,
   "id": "828ab351-22ac-4660-afc2-77c65f2f5420",
   "metadata": {},
   "outputs": [],
   "source": [
    "transform=transforms.Compose([\n",
    "    transforms.ToTensor(),\n",
    "    transforms.Normalize((0.1307,),(0.3081,))\n",
    "])\n",
    "\n",
    "train_data=datasets.MNIST(root=\"./data\",train=True,download=True, transform=transform)\n",
    "test_data=datasets.MNIST(root=\"./data\",train=False,download=True, transform=transform)\n",
    "train_loader=loader(train_data,batch_size=64, shuffle=True)\n",
    "test_loader=loader(test_data, batch_size=1000, shuffle=True)\n",
    "\n",
    "model=simple_CNN()\n",
    "criter=nn.CrossEntropyLoss()\n",
    "optimy=optim.Adam(model.parameters(),lr=0.001)\n",
    "num_epoch=10"
   ]
  },
  {
   "cell_type": "markdown",
   "id": "9d58d082-a08c-413e-b126-d7bd83a887fc",
   "metadata": {},
   "source": [
    "def train_mode(model,train_loader,criter, optimy,num_epoch=5):\n",
    "    model.train()\n",
    "    for epoch in range(num_epoch):\n",
    "        total_loss=0.0\n",
    "        for data,target in train_loader:\n",
    "            optimy.zero_grad()\n",
    "            out=model(data)\n",
    "            loss=criter(out,target)\n",
    "            loss.backward()\n",
    "            optimy.step()\n",
    "            total_loss+=loss.item()\n",
    "        avg_loss=total_loss/len(train_loader)\n",
    "        print(f\"Epoch {epoch+1}/{num_epoch}, train_loss {avg_loss: .4f}\")"
   ]
  },
  {
   "cell_type": "code",
   "execution_count": 119,
   "id": "bbeb89f8-1294-4ea9-b563-4aa2749f59cd",
   "metadata": {},
   "outputs": [],
   "source": [
    "def train_mode(model, train_loader, criterion, optimizer, num_epochs=5):\n",
    "    model.train()\n",
    "    for epoch in range(num_epochs):\n",
    "        total_loss = 0.0\n",
    "        for data, target in train_loader:\n",
    "            optimizer.zero_grad()\n",
    "            output = model(data)\n",
    "            loss = criterion(output, target)\n",
    "            loss.backward()\n",
    "            optimizer.step()\n",
    "            total_loss += loss.item()\n",
    "        avg_loss = total_loss / len(train_loader)\n",
    "        print(f\"Epoch {epoch+1}/{num_epochs}, Training Loss: {avg_loss:.4f}\")"
   ]
  },
  {
   "cell_type": "code",
   "execution_count": 121,
   "id": "b4e9172d-3351-4813-8f85-27424575edbe",
   "metadata": {},
   "outputs": [],
   "source": [
    "def eval_mode(model,test_loader):\n",
    "    model.eval()\n",
    "    correct=0\n",
    "    total=0\n",
    "    with torch.no_grad():\n",
    "        for data,target in test_loader:\n",
    "            out=model(data)\n",
    "            pred=out.argmax(dim=1)\n",
    "            correct+=pred.eq(target).sum().item()\n",
    "            total+=data.size(0)\n",
    "\n",
    "    accuracy=100.0*correct/total\n",
    "    return accuracy"
   ]
  },
  {
   "cell_type": "code",
   "execution_count": 88,
   "id": "3d32fcd2-bfac-4453-86e4-9aad28fc0d91",
   "metadata": {},
   "outputs": [
    {
     "name": "stdout",
     "output_type": "stream",
     "text": [
      "Epoch 1/10, train_loss  0.0032\n",
      "Epoch 2/10, train_loss  0.0019\n",
      "Epoch 3/10, train_loss  0.0043\n",
      "Epoch 4/10, train_loss  0.0017\n",
      "Epoch 5/10, train_loss  0.0029\n",
      "Epoch 6/10, train_loss  0.0038\n",
      "Epoch 7/10, train_loss  0.0026\n",
      "Epoch 8/10, train_loss  0.0016\n",
      "Epoch 9/10, train_loss  0.0028\n",
      "Epoch 10/10, train_loss  0.0019\n",
      "test acc: 98.9500%\n"
     ]
    }
   ],
   "source": [
    "train_mode(model, train_loader, criter, optimy, num_epoch)\n",
    "eval=eval_mode(model, test_loader)\n",
    "print(f\"test acc: {eval:.4f}%\")"
   ]
  },
  {
   "cell_type": "raw",
   "id": "55d3fffe-4e4e-4425-b070-8d605694fe98",
   "metadata": {},
   "source": [
    "## 3. 코드 작동 방식 설명\n",
    "모델 정의 (SimpleCNN 클래스):\n",
    "\n",
    "Convolutional Layers:\n",
    "\n",
    "conv1: 입력 채널이 1인 이미지를 32채널의 특징 맵으로 변환합니다. 커널 크기 3과 패딩 1을 사용하여 출력 크기를 유지합니다.\n",
    "\n",
    "conv2: 32채널 입력을 받아 64채널의 특징 맵으로 변환합니다.\n",
    "=====================================================================================\n",
    "Pooling Layer:\n",
    "\n",
    "pool: MaxPool2d를 사용해 각 컨볼루션 레이어 이후에 이미지 크기를 절반으로 줄입니다.\n",
    "=====================================================================================\n",
    "Fully Connected Layers:\n",
    "\n",
    "풀링을 두 번 거치면 이미지 크기는 28 → 14 → 7로 줄어듭니다. 64채널의 7×7 특징 맵을 평탄화하여 6477 크기의 벡터로 만들고, 이를 128 차원으로 변환한 후 10개의 클래스로 출력합니다.\n",
    "=====================================================================================\n",
    "데이터 전처리 및 로딩:\n",
    "\n",
    "MNIST 데이터셋을 다운로드하고, 이미지를 텐서로 변환 후 정규화합니다.\n",
    "\n",
    "DataLoader를 사용하여 데이터를 배치 단위로 불러옵니다.\n",
    "=====================================================================================\n",
    "학습 및 평가:\n",
    "\n",
    "train_model 함수:\n",
    "\n",
    "각 에폭마다 모델을 학습 모드로 전환한 후, 각 배치마다 forward, 손실 계산, backward, 파라미터 업데이트를 수행합니다.\n",
    "\n",
    "에폭마다 평균 손실을 출력합니다.\n",
    "=====================================================================================\n",
    "evaluate_model 함수:\n",
    "\n",
    "모델을 평가 모드로 전환한 후, 테스트 데이터에 대해 예측을 수행하고 Accuracy를 계산합니다."
   ]
  },
  {
   "cell_type": "code",
   "execution_count": 67,
   "id": "4a39637c-745e-4af1-bb02-8d9752e52859",
   "metadata": {},
   "outputs": [
    {
     "name": "stdout",
     "output_type": "stream",
     "text": [
      "train LR=0.001, batch_size=32\n",
      "Epoch 1/10, train_loss  0.0030\n",
      "Epoch 2/10, train_loss  0.0034\n",
      "Epoch 3/10, train_loss  0.0009\n",
      "Epoch 4/10, train_loss  0.0021\n",
      "Epoch 5/10, train_loss  0.0017\n",
      "Epoch 6/10, train_loss  0.0032\n",
      "Epoch 7/10, train_loss  0.0025\n",
      "Epoch 8/10, train_loss  0.0031\n",
      "Epoch 9/10, train_loss  0.0012\n",
      "Epoch 10/10, train_loss  0.0039\n",
      "ACCURACY : 99.24%\n",
      "\n",
      "train LR=0.001, batch_size=64\n",
      "Epoch 1/10, train_loss  0.0031\n",
      "Epoch 2/10, train_loss  0.0020\n",
      "Epoch 3/10, train_loss  0.0019\n",
      "Epoch 4/10, train_loss  0.0021\n",
      "Epoch 5/10, train_loss  0.0033\n",
      "Epoch 6/10, train_loss  0.0025\n",
      "Epoch 7/10, train_loss  0.0003\n",
      "Epoch 8/10, train_loss  0.0024\n",
      "Epoch 9/10, train_loss  0.0026\n",
      "Epoch 10/10, train_loss  0.0022\n",
      "ACCURACY : 99.12%\n",
      "\n",
      "train LR=0.001, batch_size=128\n",
      "Epoch 1/10, train_loss  0.0024\n",
      "Epoch 2/10, train_loss  0.0010\n",
      "Epoch 3/10, train_loss  0.0038\n",
      "Epoch 4/10, train_loss  0.0016\n",
      "Epoch 5/10, train_loss  0.0015\n",
      "Epoch 6/10, train_loss  0.0014\n",
      "Epoch 7/10, train_loss  0.0013\n",
      "Epoch 8/10, train_loss  0.0042\n",
      "Epoch 9/10, train_loss  0.0025\n",
      "Epoch 10/10, train_loss  0.0027\n",
      "ACCURACY : 99.12%\n",
      "\n",
      "train LR=0.005, batch_size=32\n",
      "Epoch 1/10, train_loss  0.0444\n",
      "Epoch 2/10, train_loss  0.0250\n",
      "Epoch 3/10, train_loss  0.0321\n",
      "Epoch 4/10, train_loss  0.0252\n",
      "Epoch 5/10, train_loss  0.0259\n",
      "Epoch 6/10, train_loss  0.0311\n",
      "Epoch 7/10, train_loss  0.0293\n",
      "Epoch 8/10, train_loss  0.0232\n",
      "Epoch 9/10, train_loss  0.0300\n",
      "Epoch 10/10, train_loss  0.0284\n",
      "ACCURACY : 98.57%\n",
      "\n",
      "train LR=0.005, batch_size=64\n",
      "Epoch 1/10, train_loss  0.0332\n",
      "Epoch 2/10, train_loss  0.0279\n",
      "Epoch 3/10, train_loss  0.0251\n",
      "Epoch 4/10, train_loss  0.0340\n",
      "Epoch 5/10, train_loss  0.0300\n",
      "Epoch 6/10, train_loss  0.0307\n",
      "Epoch 7/10, train_loss  0.0301\n",
      "Epoch 8/10, train_loss  0.0237\n",
      "Epoch 9/10, train_loss  0.0257\n",
      "Epoch 10/10, train_loss  0.0363\n",
      "ACCURACY : 99.00%\n",
      "\n",
      "train LR=0.005, batch_size=128\n",
      "Epoch 1/10, train_loss  0.0361\n",
      "Epoch 2/10, train_loss  0.0328\n",
      "Epoch 3/10, train_loss  0.0389\n",
      "Epoch 4/10, train_loss  0.0308\n",
      "Epoch 5/10, train_loss  0.0280\n",
      "Epoch 6/10, train_loss  0.0428\n",
      "Epoch 7/10, train_loss  0.0316\n",
      "Epoch 8/10, train_loss  0.0348\n",
      "Epoch 9/10, train_loss  0.0362\n",
      "Epoch 10/10, train_loss  0.0499\n",
      "ACCURACY : 98.70%\n",
      "\n",
      "train LR=0.0001, batch_size=32\n",
      "Epoch 1/10, train_loss  0.0399\n",
      "Epoch 2/10, train_loss  0.0173\n",
      "Epoch 3/10, train_loss  0.0083\n",
      "Epoch 4/10, train_loss  0.0039\n",
      "Epoch 5/10, train_loss  0.0020\n",
      "Epoch 6/10, train_loss  0.0006\n",
      "Epoch 7/10, train_loss  0.0001\n",
      "Epoch 8/10, train_loss  0.0000\n",
      "Epoch 9/10, train_loss  0.0000\n",
      "Epoch 10/10, train_loss  0.0000\n",
      "ACCURACY : 98.95%\n",
      "\n",
      "train LR=0.0001, batch_size=64\n",
      "Epoch 1/10, train_loss  0.0000\n",
      "Epoch 2/10, train_loss  0.0000\n",
      "Epoch 3/10, train_loss  0.0000\n",
      "Epoch 4/10, train_loss  0.0000\n",
      "Epoch 5/10, train_loss  0.0000\n",
      "Epoch 6/10, train_loss  0.0000\n",
      "Epoch 7/10, train_loss  0.0000\n",
      "Epoch 8/10, train_loss  0.0000\n",
      "Epoch 9/10, train_loss  0.0000\n",
      "Epoch 10/10, train_loss  0.0000\n",
      "ACCURACY : 98.99%\n",
      "\n",
      "train LR=0.0001, batch_size=128\n",
      "Epoch 1/10, train_loss  0.0000\n",
      "Epoch 2/10, train_loss  0.0000\n",
      "Epoch 3/10, train_loss  0.0000\n",
      "Epoch 4/10, train_loss  0.0000\n",
      "Epoch 5/10, train_loss  0.0000\n",
      "Epoch 6/10, train_loss  0.0000\n",
      "Epoch 7/10, train_loss  0.0000\n",
      "Epoch 8/10, train_loss  0.0000\n",
      "Epoch 9/10, train_loss  0.0000\n",
      "Epoch 10/10, train_loss  0.0000\n",
      "ACCURACY : 99.04%\n",
      "\n"
     ]
    }
   ],
   "source": [
    "#하이퍼파라미터 튜닝\n",
    "import itertools\n",
    "\n",
    "lr=[0.001,0.005,0.0001]\n",
    "batch_size=[32,64,128]\n",
    "result={}\n",
    "\n",
    "for lr, bs in itertools.product(lr,batch_size):\n",
    "    print(f\"train LR={lr}, batch_size={bs}\")\n",
    "    optimz=optim.Adam(model.parameters(),lr=lr)\n",
    "    train_mode(model, train_loader, criter, optimz, num_epoch)\n",
    "    acc=eval_mode(model, test_loader)\n",
    "    result[(lr,bs)]=acc\n",
    "    print(f\"ACCURACY : {acc:.2f}%\\n\")\n"
   ]
  },
  {
   "cell_type": "code",
   "execution_count": null,
   "id": "03776eda-eafd-4c38-a2df-2870dd18242b",
   "metadata": {},
   "outputs": [],
   "source": []
  },
  {
   "cell_type": "code",
   "execution_count": null,
   "id": "1f169f3f-d1aa-4e4d-bddf-e40282d66fd3",
   "metadata": {},
   "outputs": [],
   "source": []
  },
  {
   "cell_type": "markdown",
   "id": "6a41eae4-e428-4606-9cdf-5902eb02f0cf",
   "metadata": {},
   "source": [
    "# 튜닝법"
   ]
  },
  {
   "cell_type": "raw",
   "id": "93f3887c-7278-4f95-b7ac-c2dd31419334",
   "metadata": {},
   "source": [
    "1. 그리드 서치 (Grid Search)\n",
    "개념:\n",
    "미리 정해진 하이퍼파라미터 값들의 모든 조합을 체계적으로 실험해 최적의 조합을 찾는 방법입니다.\n",
    "\n",
    "장점:\n",
    "전체 조합을 탐색하므로 최적해에 가까운 값을 찾을 가능성이 높습니다.\n",
    "\n",
    "단점:\n",
    "하이퍼파라미터 공간이 넓거나, 조합 수가 많을 경우 계산 비용이 매우 높아질 수 있습니다.\n",
    "\n",
    "실습 예시:\n",
    "예를 들어, 학습률 [0.001, 0.0005, 0.0001]과 배치 크기 [32, 64, 128]의 모든 조합을 시도할 수 있습니다.\n",
    "\n",
    "===============================================================================================\n",
    "\n",
    "2. 랜덤 서치 (Random Search)\n",
    "개념:\n",
    "하이퍼파라미터 공간에서 무작위로 조합을 선택하여 실험하는 방법입니다.\n",
    "\n",
    "장점:\n",
    "계산 비용을 줄이면서도 중요한 하이퍼파라미터를 효율적으로 탐색할 수 있습니다.\n",
    "전체 공간을 고르게 탐색할 수 있고, 특히 일부 하이퍼파라미터가 결과에 큰 영향을 미칠 때 효과적입니다.\n",
    "\n",
    "단점:\n",
    "완전한 탐색은 아니므로, 최적 조합을 놓칠 가능성이 있습니다.\n",
    "\n",
    "실습 예시:\n",
    "무작위로 학습률, 배치 크기, dropout 비율 등을 선택하여 여러 조합을 실험한 후, 그 결과를 비교합니다.\n",
    "\n",
    "===============================================================================================\n",
    "\n",
    "3. 베이지안 최적화 (Bayesian Optimization)\n",
    "개념:\n",
    "이전 실험 결과를 바탕으로 하이퍼파라미터 공간의 확률 분포를 모델링하고, 그 분포를 업데이트하면서 최적의 하이퍼파라미터를 예측하는 방법입니다.\n",
    "\n",
    "장점:\n",
    "적은 실험 횟수로 효율적으로 최적의 하이퍼파라미터 조합에 수렴할 수 있습니다.\n",
    "계산 비용을 줄이면서 효과적인 탐색이 가능합니다.\n",
    "\n",
    "단점:\n",
    "구현이 그리드 서치나 랜덤 서치보다 복잡할 수 있으며, 초기 설정에 따라 성능이 달라질 수 있습니다.\n",
    "\n",
    "실습 예시:\n",
    "Python의 hyperopt, optuna, 또는 scikit-optimize 라이브러리를 사용해 실험할 수 있습니다.\n",
    "\n",
    "===============================================================================================\n",
    "\n",
    "4. 학습률 스케줄링 (Learning Rate Scheduling)\n",
    "개념:\n",
    "학습 도중에 학습률을 동적으로 조정하는 방법으로, 학습 초반에는 높은 학습률로 빠르게 수렴하다가, 후반에는 낮은 학습률로 미세 조정을 하는 방식입니다.\n",
    "\n",
    "활용 방법:\n",
    "PyTorch에서는 StepLR, ExponentialLR, CosineAnnealingLR, ReduceLROnPlateau 등의 스케줄러를 제공합니다.\n",
    "\n",
    "장점:\n",
    "학습률을 적절히 감소시키면, 손실 함수의 평탄한 영역에서 안정적으로 수렴할 수 있습니다.\n",
    "\n",
    "단점:\n",
    "스케줄링 전략을 잘못 선택하면 오히려 학습이 느려지거나 수렴하지 않을 수 있습니다.\n",
    "\n",
    "\n"
   ]
  },
  {
   "cell_type": "code",
   "execution_count": 96,
   "id": "aa2791d9-bf6b-40a1-90c9-350e187b6423",
   "metadata": {},
   "outputs": [],
   "source": [
    "#그리드\n",
    "import itertools\n",
    "import torch\n",
    "import torch.nn as nn\n",
    "from torchvision import datasets,transforms\n",
    "from torch.utils.data import DataLoader as loader\n",
    "import torch.optim as optim\n"
   ]
  },
  {
   "cell_type": "code",
   "execution_count": 129,
   "id": "968adb1d-0b8a-4419-ac4f-08309f54c6d1",
   "metadata": {},
   "outputs": [
    {
     "name": "stdout",
     "output_type": "stream",
     "text": [
      "Training with LR=0.001, Batch Size=32\n",
      "Epoch 1/10, Training Loss: 2.3078\n",
      "Epoch 2/10, Training Loss: 2.3078\n",
      "Epoch 3/10, Training Loss: 2.3078\n",
      "Epoch 4/10, Training Loss: 2.3078\n",
      "Epoch 5/10, Training Loss: 2.3078\n",
      "Epoch 6/10, Training Loss: 2.3078\n",
      "Epoch 7/10, Training Loss: 2.3078\n",
      "Epoch 8/10, Training Loss: 2.3078\n",
      "Epoch 9/10, Training Loss: 2.3078\n",
      "Epoch 10/10, Training Loss: 2.3078\n",
      "Test Accuracy: 9.56%\n",
      "\n",
      "Training with LR=0.001, Batch Size=64\n",
      "Epoch 1/10, Training Loss: 2.3013\n",
      "Epoch 2/10, Training Loss: 2.3013\n",
      "Epoch 3/10, Training Loss: 2.3013\n",
      "Epoch 4/10, Training Loss: 2.3013\n",
      "Epoch 5/10, Training Loss: 2.3013\n",
      "Epoch 6/10, Training Loss: 2.3013\n",
      "Epoch 7/10, Training Loss: 2.3013\n",
      "Epoch 8/10, Training Loss: 2.3013\n",
      "Epoch 9/10, Training Loss: 2.3013\n",
      "Epoch 10/10, Training Loss: 2.3013\n",
      "Test Accuracy: 15.47%\n",
      "\n",
      "Training with LR=0.001, Batch Size=128\n",
      "Epoch 1/10, Training Loss: 2.3056\n",
      "Epoch 2/10, Training Loss: 2.3056\n",
      "Epoch 3/10, Training Loss: 2.3055\n",
      "Epoch 4/10, Training Loss: 2.3056\n",
      "Epoch 5/10, Training Loss: 2.3056\n",
      "Epoch 6/10, Training Loss: 2.3056\n",
      "Epoch 7/10, Training Loss: 2.3056\n",
      "Epoch 8/10, Training Loss: 2.3056\n",
      "Epoch 9/10, Training Loss: 2.3056\n",
      "Epoch 10/10, Training Loss: 2.3056\n",
      "Test Accuracy: 17.96%\n",
      "\n",
      "Training with LR=0.0005, Batch Size=32\n",
      "Epoch 1/10, Training Loss: 2.3039\n",
      "Epoch 2/10, Training Loss: 2.3039\n",
      "Epoch 3/10, Training Loss: 2.3039\n",
      "Epoch 4/10, Training Loss: 2.3039\n",
      "Epoch 5/10, Training Loss: 2.3039\n",
      "Epoch 6/10, Training Loss: 2.3039\n",
      "Epoch 7/10, Training Loss: 2.3039\n",
      "Epoch 8/10, Training Loss: 2.3039\n",
      "Epoch 9/10, Training Loss: 2.3039\n",
      "Epoch 10/10, Training Loss: 2.3039\n",
      "Test Accuracy: 7.67%\n",
      "\n",
      "Training with LR=0.0005, Batch Size=64\n",
      "Epoch 1/10, Training Loss: 2.2968\n",
      "Epoch 2/10, Training Loss: 2.2968\n",
      "Epoch 3/10, Training Loss: 2.2968\n",
      "Epoch 4/10, Training Loss: 2.2968\n",
      "Epoch 5/10, Training Loss: 2.2968\n",
      "Epoch 6/10, Training Loss: 2.2968\n",
      "Epoch 7/10, Training Loss: 2.2968\n",
      "Epoch 8/10, Training Loss: 2.2968\n",
      "Epoch 9/10, Training Loss: 2.2968\n",
      "Epoch 10/10, Training Loss: 2.2968\n",
      "Test Accuracy: 8.47%\n",
      "\n",
      "Training with LR=0.0005, Batch Size=128\n",
      "Epoch 1/10, Training Loss: 2.3093\n",
      "Epoch 2/10, Training Loss: 2.3093\n",
      "Epoch 3/10, Training Loss: 2.3093\n",
      "Epoch 4/10, Training Loss: 2.3093\n",
      "Epoch 5/10, Training Loss: 2.3093\n",
      "Epoch 6/10, Training Loss: 2.3093\n",
      "Epoch 7/10, Training Loss: 2.3093\n",
      "Epoch 8/10, Training Loss: 2.3093\n",
      "Epoch 9/10, Training Loss: 2.3093\n",
      "Epoch 10/10, Training Loss: 2.3093\n",
      "Test Accuracy: 10.02%\n",
      "\n",
      "Training with LR=0.0001, Batch Size=32\n",
      "Epoch 1/10, Training Loss: 2.3047\n",
      "Epoch 2/10, Training Loss: 2.3047\n",
      "Epoch 3/10, Training Loss: 2.3047\n",
      "Epoch 4/10, Training Loss: 2.3047\n",
      "Epoch 5/10, Training Loss: 2.3047\n",
      "Epoch 6/10, Training Loss: 2.3047\n",
      "Epoch 7/10, Training Loss: 2.3047\n",
      "Epoch 8/10, Training Loss: 2.3047\n",
      "Epoch 9/10, Training Loss: 2.3047\n",
      "Epoch 10/10, Training Loss: 2.3047\n",
      "Test Accuracy: 10.72%\n",
      "\n",
      "Training with LR=0.0001, Batch Size=64\n",
      "Epoch 1/10, Training Loss: 2.3052\n",
      "Epoch 2/10, Training Loss: 2.3052\n",
      "Epoch 3/10, Training Loss: 2.3052\n",
      "Epoch 4/10, Training Loss: 2.3052\n",
      "Epoch 5/10, Training Loss: 2.3052\n",
      "Epoch 6/10, Training Loss: 2.3052\n",
      "Epoch 7/10, Training Loss: 2.3052\n",
      "Epoch 8/10, Training Loss: 2.3052\n",
      "Epoch 9/10, Training Loss: 2.3052\n",
      "Epoch 10/10, Training Loss: 2.3052\n",
      "Test Accuracy: 16.64%\n",
      "\n",
      "Training with LR=0.0001, Batch Size=128\n",
      "Epoch 1/10, Training Loss: 2.3004\n",
      "Epoch 2/10, Training Loss: 2.3004\n",
      "Epoch 3/10, Training Loss: 2.3004\n",
      "Epoch 4/10, Training Loss: 2.3004\n",
      "Epoch 5/10, Training Loss: 2.3004\n",
      "Epoch 6/10, Training Loss: 2.3004\n",
      "Epoch 7/10, Training Loss: 2.3004\n",
      "Epoch 8/10, Training Loss: 2.3004\n",
      "Epoch 9/10, Training Loss: 2.3004\n",
      "Epoch 10/10, Training Loss: 2.3004\n",
      "Test Accuracy: 10.63%\n",
      "\n",
      "Grid Search Results:\n",
      "LR: 0.001, Batch Size: 32 -> Test Accuracy: 9.56%\n",
      "LR: 0.001, Batch Size: 64 -> Test Accuracy: 15.47%\n",
      "LR: 0.001, Batch Size: 128 -> Test Accuracy: 17.96%\n",
      "LR: 0.0005, Batch Size: 32 -> Test Accuracy: 7.67%\n",
      "LR: 0.0005, Batch Size: 64 -> Test Accuracy: 8.47%\n",
      "LR: 0.0005, Batch Size: 128 -> Test Accuracy: 10.02%\n",
      "LR: 0.0001, Batch Size: 32 -> Test Accuracy: 10.72%\n",
      "LR: 0.0001, Batch Size: 64 -> Test Accuracy: 16.64%\n",
      "LR: 0.0001, Batch Size: 128 -> Test Accuracy: 10.63%\n"
     ]
    }
   ],
   "source": [
    "# 하이퍼파라미터 후보 정의\n",
    "learning_rates = [0.001, 0.0005, 0.0001]\n",
    "batch_sizes = [32, 64, 128]\n",
    "\n",
    "result_set={}\n",
    "num_epoch=10\n",
    "\n",
    "for lr, bs in itertools.product(learning_rates,batch_sizes):\n",
    "    print(f\"Training with LR={lr}, Batch Size={bs}\")\n",
    "    train_loader = loader(train_data, batch_size=bs, shuffle=True)\n",
    "    test_loader = loader(test_data, batch_size=bs, shuffle=False)\n",
    "\n",
    "    model=simple_CNN()\n",
    "    criter=nn.CrossEntropyLoss()\n",
    "    optimy=optim.Adam(model.parameters(),lr=lr)\n",
    "\n",
    "    train_loss=train_mode(model,train_loader , criter, optimz, num_epoch)\n",
    "    test_acc=eval_mode(model, test_loader)\n",
    "\n",
    "    result_set[(lr,bs)]=test_acc\n",
    "    print(f\"Test Accuracy: {test_acc:.2f}%\\n\")\n",
    "\n",
    "\n",
    "print(\"Grid Search Results:\")\n",
    "for (lr, bs), acc in result_set.items():\n",
    "    print(f\"LR: {lr}, Batch Size: {bs} -> Test Accuracy: {acc:.2f}%\")"
   ]
  },
  {
   "cell_type": "code",
   "execution_count": 133,
   "id": "2d59ed82-966d-4113-9730-eec1ccbd793e",
   "metadata": {
    "scrolled": true
   },
   "outputs": [
    {
     "name": "stdout",
     "output_type": "stream",
     "text": [
      "Trial 1: Training with LR=0.0001, Batch Size=32\n",
      "Epoch 1/5, Training Loss: 2.2998\n",
      "Epoch 2/5, Training Loss: 2.2998\n",
      "Epoch 3/5, Training Loss: 2.2998\n",
      "Epoch 4/5, Training Loss: 2.2998\n",
      "Epoch 5/5, Training Loss: 2.2998\n",
      "Test Accuracy: 6.98%\n",
      "\n",
      "Trial 2: Training with LR=0.001, Batch Size=32\n",
      "Epoch 1/5, Training Loss: 2.3128\n",
      "Epoch 2/5, Training Loss: 2.3128\n",
      "Epoch 3/5, Training Loss: 2.3128\n",
      "Epoch 4/5, Training Loss: 2.3128\n",
      "Epoch 5/5, Training Loss: 2.3128\n",
      "Test Accuracy: 11.29%\n",
      "\n",
      "Trial 3: Training with LR=0.0005, Batch Size=32\n",
      "Epoch 1/5, Training Loss: 2.3053\n",
      "Epoch 2/5, Training Loss: 2.3053\n",
      "Epoch 3/5, Training Loss: 2.3053\n",
      "Epoch 4/5, Training Loss: 2.3053\n",
      "Epoch 5/5, Training Loss: 2.3053\n",
      "Test Accuracy: 13.16%\n",
      "\n",
      "Trial 4: Training with LR=0.001, Batch Size=128\n",
      "Epoch 1/5, Training Loss: 2.3036\n",
      "Epoch 2/5, Training Loss: 2.3036\n",
      "Epoch 3/5, Training Loss: 2.3036\n",
      "Epoch 4/5, Training Loss: 2.3036\n",
      "Epoch 5/5, Training Loss: 2.3036\n",
      "Test Accuracy: 7.35%\n",
      "\n",
      "Trial 5: Training with LR=0.001, Batch Size=64\n",
      "Epoch 1/5, Training Loss: 2.3075\n",
      "Epoch 2/5, Training Loss: 2.3075\n",
      "Epoch 3/5, Training Loss: 2.3075\n",
      "Epoch 4/5, Training Loss: 2.3075\n",
      "Epoch 5/5, Training Loss: 2.3075\n",
      "Test Accuracy: 9.46%\n",
      "\n",
      "Random Search Results:\n",
      "LR: 0.0001, Batch Size: 32 -> Test Accuracy: 6.98%\n",
      "LR: 0.001, Batch Size: 32 -> Test Accuracy: 11.29%\n",
      "LR: 0.0005, Batch Size: 32 -> Test Accuracy: 13.16%\n",
      "LR: 0.001, Batch Size: 128 -> Test Accuracy: 7.35%\n",
      "LR: 0.001, Batch Size: 64 -> Test Accuracy: 9.46%\n"
     ]
    }
   ],
   "source": [
    "#2. 랜덤 서치 (Random Search)\n",
    "import random\n",
    "# 하이퍼파라미터 후보 정의\n",
    "learning_rates = [0.001, 0.0005, 0.0001]\n",
    "batch_sizes = [32, 64, 128]\n",
    "\n",
    "results_random={}\n",
    "num_trial=5# 무작위로 5번의 조합을 실험\n",
    "num_epoch=5\n",
    "\n",
    "for i in range(num_trial):\n",
    "    lr=random.choice(learning_rates)\n",
    "    bs=random.choice(batch_sizes)\n",
    "    print(f\"Trial {i+1}: Training with LR={lr}, Batch Size={bs}\")\n",
    "\n",
    "    train_loader=loader(train_data, batch_size=bs, shuffle=True)\n",
    "    test_loder=loader(test_data, batch_size=bs,shuffle=False)\n",
    "\n",
    "    model=simple_CNN()\n",
    "    criter=nn.CrossEntropyLoss()\n",
    "    optimy=optim.Adam(model.parameters(),lr=lr)\n",
    "    train_loss=train_mode(model,train_loader, criter, optimz, num_epoch)\n",
    "    test_acc=eval_mode(model,test_loader)\n",
    "\n",
    "    results_random[(lr,bs)]=test_acc\n",
    "    print(f\"Test Accuracy: {test_acc:.2f}%\\n\")\n",
    "\n",
    "\n",
    "print(\"Random Search Results:\")\n",
    "for (lr, bs), acc in results_random.items():\n",
    "    print(f\"LR: {lr}, Batch Size: {bs} -> Test Accuracy: {acc:.2f}%\")"
   ]
  },
  {
   "cell_type": "code",
   "execution_count": 153,
   "id": "d0fd381c-fe88-4058-99b2-bb9fbfb09b41",
   "metadata": {},
   "outputs": [],
   "source": [
    "#베이지안 최적화 (Bayesian Optimization)\n",
    "import optuna\n",
    "\n",
    "def objective(trial):\n",
    "    lr=trial.suggest_loguniform('lr', 1e-4, 1e-2)\n",
    "    bs=trial.suggest_categorical('batch_size', [32, 64, 128])\n",
    "\n",
    "    trin_loader=loader(train_data,batch_size=bs,shuffle=True)\n",
    "    test_loader=loader(test_data,batch_size=bs,shuffle=True)\n",
    "\n",
    "    \n",
    "    model=simple_CNN()\n",
    "    criter=nn.CrossEntropyLoss()\n",
    "    optimy=optim.Adam(model.parameters(),lr=lr)\n",
    "\n",
    "    train_mode(model,train_loader, criter, optimz, num_epoch)\n",
    "    test_acc=eval_mode(model, test_loader)\n",
    "    return test_acc"
   ]
  },
  {
   "cell_type": "code",
   "execution_count": 155,
   "id": "695ccb64-4a9e-490b-a169-73bf23adfed3",
   "metadata": {},
   "outputs": [
    {
     "name": "stderr",
     "output_type": "stream",
     "text": [
      "[I 2025-04-03 02:19:00,348] A new study created in memory with name: no-name-59ed04b5-b16b-4a89-98dc-f59f1d7d694f\n",
      "C:\\Users\\JH\\AppData\\Local\\Temp\\ipykernel_16188\\172203608.py:5: FutureWarning: suggest_loguniform has been deprecated in v3.0.0. This feature will be removed in v6.0.0. See https://github.com/optuna/optuna/releases/tag/v3.0.0. Use suggest_float(..., log=True) instead.\n",
      "  lr=trial.suggest_loguniform('lr', 1e-4, 1e-2)\n"
     ]
    },
    {
     "name": "stdout",
     "output_type": "stream",
     "text": [
      "Epoch 1/5, Training Loss: 2.3012\n",
      "Epoch 2/5, Training Loss: 2.3012\n",
      "Epoch 3/5, Training Loss: 2.3012\n",
      "Epoch 4/5, Training Loss: 2.3013\n",
      "Epoch 5/5, Training Loss: 2.3012\n"
     ]
    },
    {
     "name": "stderr",
     "output_type": "stream",
     "text": [
      "[I 2025-04-03 02:19:54,568] Trial 0 finished with value: 12.26 and parameters: {'lr': 0.0033601368107082194, 'batch_size': 32}. Best is trial 0 with value: 12.26.\n"
     ]
    },
    {
     "name": "stdout",
     "output_type": "stream",
     "text": [
      "Epoch 1/5, Training Loss: 2.3053\n",
      "Epoch 2/5, Training Loss: 2.3053\n",
      "Epoch 3/5, Training Loss: 2.3053\n",
      "Epoch 4/5, Training Loss: 2.3053\n",
      "Epoch 5/5, Training Loss: 2.3053\n"
     ]
    },
    {
     "name": "stderr",
     "output_type": "stream",
     "text": [
      "[I 2025-04-03 02:20:48,153] Trial 1 finished with value: 9.42 and parameters: {'lr': 0.00036731513938924017, 'batch_size': 64}. Best is trial 0 with value: 12.26.\n"
     ]
    },
    {
     "name": "stdout",
     "output_type": "stream",
     "text": [
      "Epoch 1/5, Training Loss: 2.3028\n",
      "Epoch 2/5, Training Loss: 2.3028\n",
      "Epoch 3/5, Training Loss: 2.3028\n",
      "Epoch 4/5, Training Loss: 2.3028\n",
      "Epoch 5/5, Training Loss: 2.3028\n"
     ]
    },
    {
     "name": "stderr",
     "output_type": "stream",
     "text": [
      "[I 2025-04-03 02:21:42,083] Trial 2 finished with value: 14.88 and parameters: {'lr': 0.00021486985862708487, 'batch_size': 32}. Best is trial 2 with value: 14.88.\n"
     ]
    },
    {
     "name": "stdout",
     "output_type": "stream",
     "text": [
      "Epoch 1/5, Training Loss: 2.3017\n",
      "Epoch 2/5, Training Loss: 2.3017\n",
      "Epoch 3/5, Training Loss: 2.3017\n",
      "Epoch 4/5, Training Loss: 2.3017\n",
      "Epoch 5/5, Training Loss: 2.3017\n"
     ]
    },
    {
     "name": "stderr",
     "output_type": "stream",
     "text": [
      "[I 2025-04-03 02:22:36,787] Trial 3 finished with value: 11.41 and parameters: {'lr': 0.00014504668733738768, 'batch_size': 32}. Best is trial 2 with value: 14.88.\n"
     ]
    },
    {
     "name": "stdout",
     "output_type": "stream",
     "text": [
      "Epoch 1/5, Training Loss: 2.3122\n",
      "Epoch 2/5, Training Loss: 2.3122\n",
      "Epoch 3/5, Training Loss: 2.3122\n",
      "Epoch 4/5, Training Loss: 2.3122\n",
      "Epoch 5/5, Training Loss: 2.3122\n"
     ]
    },
    {
     "name": "stderr",
     "output_type": "stream",
     "text": [
      "[I 2025-04-03 02:23:31,096] Trial 4 finished with value: 9.96 and parameters: {'lr': 0.0024879396705866563, 'batch_size': 128}. Best is trial 2 with value: 14.88.\n"
     ]
    },
    {
     "name": "stdout",
     "output_type": "stream",
     "text": [
      "Epoch 1/5, Training Loss: 2.3089\n",
      "Epoch 2/5, Training Loss: 2.3089\n",
      "Epoch 3/5, Training Loss: 2.3089\n",
      "Epoch 4/5, Training Loss: 2.3089\n",
      "Epoch 5/5, Training Loss: 2.3089\n"
     ]
    },
    {
     "name": "stderr",
     "output_type": "stream",
     "text": [
      "[I 2025-04-03 02:24:25,493] Trial 5 finished with value: 5.98 and parameters: {'lr': 0.0004267316072435258, 'batch_size': 128}. Best is trial 2 with value: 14.88.\n"
     ]
    },
    {
     "name": "stdout",
     "output_type": "stream",
     "text": [
      "Epoch 1/5, Training Loss: 2.3049\n",
      "Epoch 2/5, Training Loss: 2.3049\n",
      "Epoch 3/5, Training Loss: 2.3049\n",
      "Epoch 4/5, Training Loss: 2.3049\n",
      "Epoch 5/5, Training Loss: 2.3049\n"
     ]
    },
    {
     "name": "stderr",
     "output_type": "stream",
     "text": [
      "[I 2025-04-03 02:25:19,060] Trial 6 finished with value: 5.27 and parameters: {'lr': 0.007194778059337021, 'batch_size': 128}. Best is trial 2 with value: 14.88.\n"
     ]
    },
    {
     "name": "stdout",
     "output_type": "stream",
     "text": [
      "Epoch 1/5, Training Loss: 2.3004\n",
      "Epoch 2/5, Training Loss: 2.3004\n",
      "Epoch 3/5, Training Loss: 2.3004\n",
      "Epoch 4/5, Training Loss: 2.3004\n",
      "Epoch 5/5, Training Loss: 2.3004\n"
     ]
    },
    {
     "name": "stderr",
     "output_type": "stream",
     "text": [
      "[I 2025-04-03 02:26:12,692] Trial 7 finished with value: 10.32 and parameters: {'lr': 0.0006083036078952965, 'batch_size': 64}. Best is trial 2 with value: 14.88.\n"
     ]
    },
    {
     "name": "stdout",
     "output_type": "stream",
     "text": [
      "Epoch 1/5, Training Loss: 2.3123\n",
      "Epoch 2/5, Training Loss: 2.3123\n",
      "Epoch 3/5, Training Loss: 2.3123\n",
      "Epoch 4/5, Training Loss: 2.3123\n",
      "Epoch 5/5, Training Loss: 2.3123\n"
     ]
    },
    {
     "name": "stderr",
     "output_type": "stream",
     "text": [
      "[I 2025-04-03 02:27:06,848] Trial 8 finished with value: 10.38 and parameters: {'lr': 0.0006049030877862722, 'batch_size': 64}. Best is trial 2 with value: 14.88.\n"
     ]
    },
    {
     "name": "stdout",
     "output_type": "stream",
     "text": [
      "Epoch 1/5, Training Loss: 2.3100\n",
      "Epoch 2/5, Training Loss: 2.3100\n",
      "Epoch 3/5, Training Loss: 2.3100\n",
      "Epoch 4/5, Training Loss: 2.3100\n",
      "Epoch 5/5, Training Loss: 2.3100\n"
     ]
    },
    {
     "name": "stderr",
     "output_type": "stream",
     "text": [
      "[I 2025-04-03 02:28:00,364] Trial 9 finished with value: 12.19 and parameters: {'lr': 0.0025212693896603773, 'batch_size': 64}. Best is trial 2 with value: 14.88.\n"
     ]
    },
    {
     "name": "stdout",
     "output_type": "stream",
     "text": [
      "Epoch 1/5, Training Loss: 2.3043\n",
      "Epoch 2/5, Training Loss: 2.3043\n",
      "Epoch 3/5, Training Loss: 2.3043\n",
      "Epoch 4/5, Training Loss: 2.3043\n",
      "Epoch 5/5, Training Loss: 2.3043\n"
     ]
    },
    {
     "name": "stderr",
     "output_type": "stream",
     "text": [
      "[I 2025-04-03 02:28:53,984] Trial 10 finished with value: 12.04 and parameters: {'lr': 0.00010029420945229898, 'batch_size': 32}. Best is trial 2 with value: 14.88.\n"
     ]
    },
    {
     "name": "stdout",
     "output_type": "stream",
     "text": [
      "Epoch 1/5, Training Loss: 2.3081\n",
      "Epoch 2/5, Training Loss: 2.3081\n",
      "Epoch 3/5, Training Loss: 2.3081\n",
      "Epoch 4/5, Training Loss: 2.3081\n",
      "Epoch 5/5, Training Loss: 2.3081\n"
     ]
    },
    {
     "name": "stderr",
     "output_type": "stream",
     "text": [
      "[I 2025-04-03 02:29:47,647] Trial 11 finished with value: 8.38 and parameters: {'lr': 0.002091094375176555, 'batch_size': 32}. Best is trial 2 with value: 14.88.\n"
     ]
    },
    {
     "name": "stdout",
     "output_type": "stream",
     "text": [
      "Epoch 1/5, Training Loss: 2.3045\n",
      "Epoch 2/5, Training Loss: 2.3045\n",
      "Epoch 3/5, Training Loss: 2.3045\n",
      "Epoch 4/5, Training Loss: 2.3046\n",
      "Epoch 5/5, Training Loss: 2.3046\n"
     ]
    },
    {
     "name": "stderr",
     "output_type": "stream",
     "text": [
      "[I 2025-04-03 02:30:41,707] Trial 12 finished with value: 10.22 and parameters: {'lr': 0.009731835801018291, 'batch_size': 32}. Best is trial 2 with value: 14.88.\n"
     ]
    },
    {
     "name": "stdout",
     "output_type": "stream",
     "text": [
      "Epoch 1/5, Training Loss: 2.3051\n",
      "Epoch 2/5, Training Loss: 2.3051\n",
      "Epoch 3/5, Training Loss: 2.3051\n",
      "Epoch 4/5, Training Loss: 2.3051\n",
      "Epoch 5/5, Training Loss: 2.3051\n"
     ]
    },
    {
     "name": "stderr",
     "output_type": "stream",
     "text": [
      "[I 2025-04-03 02:31:35,864] Trial 13 finished with value: 13.1 and parameters: {'lr': 0.0013712630216802524, 'batch_size': 32}. Best is trial 2 with value: 14.88.\n"
     ]
    },
    {
     "name": "stdout",
     "output_type": "stream",
     "text": [
      "Epoch 1/5, Training Loss: 2.2969\n",
      "Epoch 2/5, Training Loss: 2.2969\n",
      "Epoch 3/5, Training Loss: 2.2969\n",
      "Epoch 4/5, Training Loss: 2.2969\n",
      "Epoch 5/5, Training Loss: 2.2969\n"
     ]
    },
    {
     "name": "stderr",
     "output_type": "stream",
     "text": [
      "[I 2025-04-03 02:32:29,907] Trial 14 finished with value: 11.04 and parameters: {'lr': 0.00020920282353933546, 'batch_size': 32}. Best is trial 2 with value: 14.88.\n"
     ]
    },
    {
     "name": "stdout",
     "output_type": "stream",
     "text": [
      "Epoch 1/5, Training Loss: 2.3004\n",
      "Epoch 2/5, Training Loss: 2.3004\n",
      "Epoch 3/5, Training Loss: 2.3004\n",
      "Epoch 4/5, Training Loss: 2.3004\n",
      "Epoch 5/5, Training Loss: 2.3004\n"
     ]
    },
    {
     "name": "stderr",
     "output_type": "stream",
     "text": [
      "[I 2025-04-03 02:33:24,050] Trial 15 finished with value: 9.65 and parameters: {'lr': 0.0012089092084547714, 'batch_size': 32}. Best is trial 2 with value: 14.88.\n"
     ]
    },
    {
     "name": "stdout",
     "output_type": "stream",
     "text": [
      "Epoch 1/5, Training Loss: 2.3023\n",
      "Epoch 2/5, Training Loss: 2.3024\n",
      "Epoch 3/5, Training Loss: 2.3024\n",
      "Epoch 4/5, Training Loss: 2.3024\n",
      "Epoch 5/5, Training Loss: 2.3023\n"
     ]
    },
    {
     "name": "stderr",
     "output_type": "stream",
     "text": [
      "[I 2025-04-03 02:34:18,028] Trial 16 finished with value: 9.56 and parameters: {'lr': 0.0008983857906388913, 'batch_size': 32}. Best is trial 2 with value: 14.88.\n"
     ]
    },
    {
     "name": "stdout",
     "output_type": "stream",
     "text": [
      "Epoch 1/5, Training Loss: 2.3066\n",
      "Epoch 2/5, Training Loss: 2.3066\n",
      "Epoch 3/5, Training Loss: 2.3066\n",
      "Epoch 4/5, Training Loss: 2.3066\n",
      "Epoch 5/5, Training Loss: 2.3066\n"
     ]
    },
    {
     "name": "stderr",
     "output_type": "stream",
     "text": [
      "[I 2025-04-03 02:35:11,618] Trial 17 finished with value: 7.83 and parameters: {'lr': 0.00025281042280408397, 'batch_size': 32}. Best is trial 2 with value: 14.88.\n"
     ]
    },
    {
     "name": "stdout",
     "output_type": "stream",
     "text": [
      "Epoch 1/5, Training Loss: 2.3093\n",
      "Epoch 2/5, Training Loss: 2.3092\n",
      "Epoch 3/5, Training Loss: 2.3092\n",
      "Epoch 4/5, Training Loss: 2.3093\n",
      "Epoch 5/5, Training Loss: 2.3093\n"
     ]
    },
    {
     "name": "stderr",
     "output_type": "stream",
     "text": [
      "[I 2025-04-03 02:36:05,415] Trial 18 finished with value: 8.85 and parameters: {'lr': 0.001324210479553609, 'batch_size': 32}. Best is trial 2 with value: 14.88.\n"
     ]
    },
    {
     "name": "stdout",
     "output_type": "stream",
     "text": [
      "Epoch 1/5, Training Loss: 2.3005\n",
      "Epoch 2/5, Training Loss: 2.3005\n",
      "Epoch 3/5, Training Loss: 2.3006\n",
      "Epoch 4/5, Training Loss: 2.3006\n",
      "Epoch 5/5, Training Loss: 2.3006\n"
     ]
    },
    {
     "name": "stderr",
     "output_type": "stream",
     "text": [
      "[I 2025-04-03 02:36:59,072] Trial 19 finished with value: 7.28 and parameters: {'lr': 0.0048330643131978416, 'batch_size': 128}. Best is trial 2 with value: 14.88.\n"
     ]
    },
    {
     "name": "stdout",
     "output_type": "stream",
     "text": [
      "Best trial:\n",
      "  Accuracy: 14.88%\n",
      "  Params: \n",
      "    lr: 0.00021486985862708487\n",
      "    batch_size: 32\n"
     ]
    }
   ],
   "source": [
    "# Optuna 스터디 생성 및 최적화\n",
    "study = optuna.create_study(direction='maximize')\n",
    "study.optimize(objective, n_trials=20)\n",
    "\n",
    "print(\"Best trial:\")\n",
    "trial = study.best_trial\n",
    "print(\"  Accuracy: {:.2f}%\".format(trial.value))\n",
    "print(\"  Params: \")\n",
    "for key, value in trial.params.items():\n",
    "    print(\"    {}: {}\".format(key, value))"
   ]
  },
  {
   "cell_type": "code",
   "execution_count": null,
   "id": "e22d5208-81d0-4501-bd44-dce09c24812d",
   "metadata": {},
   "outputs": [],
   "source": []
  },
  {
   "cell_type": "code",
   "execution_count": null,
   "id": "8b49c204-3e79-4f03-af31-1c638f0af3b9",
   "metadata": {},
   "outputs": [],
   "source": []
  },
  {
   "cell_type": "code",
   "execution_count": null,
   "id": "9834f45a-9f8c-4737-83a4-d90d5c405e3e",
   "metadata": {},
   "outputs": [],
   "source": []
  },
  {
   "cell_type": "code",
   "execution_count": null,
   "id": "9cbfa1c5-a15f-4c9f-a62d-f88698036232",
   "metadata": {},
   "outputs": [],
   "source": []
  },
  {
   "cell_type": "code",
   "execution_count": 156,
   "id": "712d4474-30b3-4241-84c9-c1e51fe30c17",
   "metadata": {},
   "outputs": [
    {
     "name": "stdout",
     "output_type": "stream",
     "text": [
      "Training with LR=0.001, Batch Size=32\n",
      "Test Accuracy: 97.37%\n",
      "\n",
      "Training with LR=0.001, Batch Size=64\n",
      "Test Accuracy: 97.69%\n",
      "\n",
      "Training with LR=0.001, Batch Size=128\n",
      "Test Accuracy: 97.69%\n",
      "\n",
      "Training with LR=0.0005, Batch Size=32\n",
      "Test Accuracy: 97.44%\n",
      "\n",
      "Training with LR=0.0005, Batch Size=64\n",
      "Test Accuracy: 97.24%\n",
      "\n",
      "Training with LR=0.0005, Batch Size=128\n",
      "Test Accuracy: 97.42%\n",
      "\n",
      "Training with LR=0.0001, Batch Size=32\n",
      "Test Accuracy: 96.39%\n",
      "\n",
      "Training with LR=0.0001, Batch Size=64\n",
      "Test Accuracy: 95.25%\n",
      "\n",
      "Training with LR=0.0001, Batch Size=128\n",
      "Test Accuracy: 94.20%\n",
      "\n",
      "Grid Search Results:\n",
      "LR: 0.001, Batch Size: 32 -> Test Accuracy: 97.37%\n",
      "LR: 0.001, Batch Size: 64 -> Test Accuracy: 97.69%\n",
      "LR: 0.001, Batch Size: 128 -> Test Accuracy: 97.69%\n",
      "LR: 0.0005, Batch Size: 32 -> Test Accuracy: 97.44%\n",
      "LR: 0.0005, Batch Size: 64 -> Test Accuracy: 97.24%\n",
      "LR: 0.0005, Batch Size: 128 -> Test Accuracy: 97.42%\n",
      "LR: 0.0001, Batch Size: 32 -> Test Accuracy: 96.39%\n",
      "LR: 0.0001, Batch Size: 64 -> Test Accuracy: 95.25%\n",
      "LR: 0.0001, Batch Size: 128 -> Test Accuracy: 94.20%\n"
     ]
    }
   ],
   "source": [
    "import itertools\n",
    "import torch\n",
    "import torch.nn as nn\n",
    "import torch.optim as optim\n",
    "from torch.utils.data import DataLoader\n",
    "from torchvision import datasets, transforms\n",
    "\n",
    "# 모델 정의 (예: SimpleMNIST)\n",
    "class SimpleMNIST(nn.Module):\n",
    "    def __init__(self):\n",
    "        super(SimpleMNIST, self).__init__()\n",
    "        self.fc1 = nn.Linear(28*28, 128)\n",
    "        self.fc2 = nn.Linear(128, 10)\n",
    "    \n",
    "    def forward(self, x):\n",
    "        x = x.view(-1, 28*28)\n",
    "        x = torch.relu(self.fc1(x))\n",
    "        x = self.fc2(x)\n",
    "        return x\n",
    "\n",
    "def train_model(model, train_loader, criterion, optimizer, num_epochs=5):\n",
    "    for epoch in range(num_epochs):\n",
    "        model.train()\n",
    "        total_loss = 0.0\n",
    "        for data, target in train_loader:\n",
    "            optimizer.zero_grad()\n",
    "            output = model(data)\n",
    "            loss = criterion(output, target)\n",
    "            loss.backward()\n",
    "            optimizer.step()\n",
    "            total_loss += loss.item()\n",
    "    return total_loss / len(train_loader)\n",
    "\n",
    "def evaluate_model(model, test_loader):\n",
    "    model.eval()\n",
    "    correct = 0\n",
    "    total = 0\n",
    "    with torch.no_grad():\n",
    "        for data, target in test_loader:\n",
    "            output = model(data)\n",
    "            pred = output.argmax(dim=1)\n",
    "            correct += pred.eq(target).sum().item()\n",
    "            total += data.size(0)\n",
    "    return 100.0 * correct / total\n",
    "\n",
    "# 데이터 전처리 및 로딩\n",
    "transform = transforms.Compose([\n",
    "    transforms.ToTensor(),\n",
    "    transforms.Normalize((0.1307,), (0.3081,))\n",
    "])\n",
    "train_dataset = datasets.MNIST(root='./data', train=True, download=True, transform=transform)\n",
    "test_dataset  = datasets.MNIST(root='./data', train=False, download=True, transform=transform)\n",
    "\n",
    "# 하이퍼파라미터 후보 정의\n",
    "learning_rates = [0.001, 0.0005, 0.0001]\n",
    "batch_sizes = [32, 64, 128]\n",
    "\n",
    "results_grid = {}\n",
    "num_epochs = 5\n",
    "\n",
    "for lr, bs in itertools.product(learning_rates, batch_sizes):\n",
    "    print(f\"Training with LR={lr}, Batch Size={bs}\")\n",
    "    \n",
    "    train_loader = DataLoader(train_dataset, batch_size=bs, shuffle=True)\n",
    "    test_loader = DataLoader(test_dataset, batch_size=bs, shuffle=False)\n",
    "    \n",
    "    model = SimpleMNIST()  # 매 조합마다 모델 초기화\n",
    "    criterion = nn.CrossEntropyLoss()\n",
    "    optimizer = optim.Adam(model.parameters(), lr=lr)\n",
    "    \n",
    "    train_loss = train_model(model, train_loader, criterion, optimizer, num_epochs=num_epochs)\n",
    "    test_acc = evaluate_model(model, test_loader)\n",
    "    \n",
    "    results_grid[(lr, bs)] = test_acc\n",
    "    print(f\"Test Accuracy: {test_acc:.2f}%\\n\")\n",
    "\n",
    "# 결과 출력\n",
    "print(\"Grid Search Results:\")\n",
    "for (lr, bs), acc in results_grid.items():\n",
    "    print(f\"LR: {lr}, Batch Size: {bs} -> Test Accuracy: {acc:.2f}%\")\n"
   ]
  },
  {
   "cell_type": "code",
   "execution_count": 168,
   "id": "4a0686b5-7867-49a6-a55f-2b735c95fbb3",
   "metadata": {},
   "outputs": [
    {
     "ename": "SyntaxError",
     "evalue": "invalid syntax (3930608498.py, line 1)",
     "output_type": "error",
     "traceback": [
      "\u001b[1;36m  Cell \u001b[1;32mIn[168], line 1\u001b[1;36m\u001b[0m\n\u001b[1;33m    설명:\u001b[0m\n\u001b[1;37m       ^\u001b[0m\n\u001b[1;31mSyntaxError\u001b[0m\u001b[1;31m:\u001b[0m invalid syntax\n"
     ]
    }
   ],
   "source": [
    "설명:\n",
    "\n",
    "itertools.product를 사용해 학습률과 배치 크기의 모든 조합을 생성합니다.\n",
    "\n",
    "각 조합마다 모델을 초기화하고, 일정 에폭 동안 학습한 후 테스트 정확도를 평가하여 results_grid 딕셔너리에 저장합니다.\n",
    "\n"
   ]
  },
  {
   "cell_type": "markdown",
   "id": "f5c5b6af-9cf0-4da0-bcb3-60684b6a37b3",
   "metadata": {},
   "source": [
    "import random\n",
    "\n",
    "# 하이퍼파라미터 후보 정의\n",
    "learning_rates = [0.001, 0.0005, 0.0001]\n",
    "batch_sizes = [32, 64, 128]\n",
    "\n",
    "results_random = {}\n",
    "num_trials = 5  # 무작위로 5번의 조합을 실험\n",
    "num_epochs = 5\n",
    "\n",
    "for i in range(num_trials):\n",
    "    lr = random.choice(learning_rates)\n",
    "    bs = random.choice(batch_sizes)\n",
    "    print(f\"Trial {i+1}: Training with LR={lr}, Batch Size={bs}\")\n",
    "    \n",
    "    train_loader = DataLoader(train_dataset, batch_size=bs, shuffle=True)\n",
    "    test_loader = DataLoader(test_dataset, batch_size=bs, shuffle=False)\n",
    "    \n",
    "    model = SimpleMNIST()\n",
    "    criterion = nn.CrossEntropyLoss()\n",
    "    optimizer = optim.Adam(model.parameters(), lr=lr)\n",
    "    \n",
    "    train_loss = train_model(model, train_loader, criterion, optimizer, num_epochs=num_epochs)\n",
    "    test_acc = evaluate_model(model, test_loader)\n",
    "    \n",
    "    results_random[(lr, bs)] = test_acc\n",
    "    print(f\"Test Accuracy: {test_acc:.2f}%\\n\")\n",
    "\n",
    "# 결과 출력\n",
    "print(\"Random Search Results:\")\n",
    "for (lr, bs), acc in results_random.items():\n",
    "    print(f\"LR: {lr}, Batch Size: {bs} -> Test Accuracy: {acc:.2f}%\")\n"
   ]
  },
  {
   "cell_type": "markdown",
   "id": "32fe2a4e-8232-467b-8b55-9c6e4999efee",
   "metadata": {},
   "source": [
    "설명:\n",
    "\n",
    "random.choice를 사용하여 학습률과 배치 크기에서 무작위로 하나씩 선택합니다.\n",
    "\n",
    "선택된 하이퍼파라미터 조합으로 모델을 학습시키고 테스트 정확도를 평가하여 결과를 저장합니다."
   ]
  },
  {
   "cell_type": "code",
   "execution_count": 158,
   "id": "37109cd5-18b7-41f5-b7a4-484176e82329",
   "metadata": {},
   "outputs": [
    {
     "name": "stderr",
     "output_type": "stream",
     "text": [
      "[I 2025-04-03 02:43:39,034] A new study created in memory with name: no-name-e6235949-65cc-4226-8984-0590c78eb649\n",
      "C:\\Users\\JH\\AppData\\Local\\Temp\\ipykernel_16188\\537826092.py:5: FutureWarning: suggest_loguniform has been deprecated in v3.0.0. This feature will be removed in v6.0.0. See https://github.com/optuna/optuna/releases/tag/v3.0.0. Use suggest_float(..., log=True) instead.\n",
      "  lr = trial.suggest_loguniform('lr', 1e-4, 1e-2)\n",
      "[I 2025-04-03 02:44:12,951] Trial 0 finished with value: 95.65 and parameters: {'lr': 0.005029094476405661, 'batch_size': 32}. Best is trial 0 with value: 95.65.\n",
      "[I 2025-04-03 02:44:41,228] Trial 1 finished with value: 95.29 and parameters: {'lr': 0.00010237005357778991, 'batch_size': 64}. Best is trial 0 with value: 95.65.\n",
      "[I 2025-04-03 02:45:15,614] Trial 2 finished with value: 97.31 and parameters: {'lr': 0.001493471888251702, 'batch_size': 32}. Best is trial 2 with value: 97.31.\n",
      "[I 2025-04-03 02:45:44,240] Trial 3 finished with value: 97.84 and parameters: {'lr': 0.0015962293594684743, 'batch_size': 64}. Best is trial 3 with value: 97.84.\n",
      "[I 2025-04-03 02:46:11,210] Trial 4 finished with value: 95.75 and parameters: {'lr': 0.00012225196671807463, 'batch_size': 64}. Best is trial 3 with value: 97.84.\n",
      "[I 2025-04-03 02:46:41,356] Trial 5 finished with value: 97.66 and parameters: {'lr': 0.00027244239671245663, 'batch_size': 32}. Best is trial 3 with value: 97.84.\n",
      "[I 2025-04-03 02:47:08,634] Trial 6 finished with value: 97.21 and parameters: {'lr': 0.0002974908591683396, 'batch_size': 64}. Best is trial 3 with value: 97.84.\n",
      "[I 2025-04-03 02:47:38,454] Trial 7 finished with value: 97.66 and parameters: {'lr': 0.00030037898685976043, 'batch_size': 32}. Best is trial 3 with value: 97.84.\n",
      "[I 2025-04-03 02:48:06,737] Trial 8 finished with value: 97.39 and parameters: {'lr': 0.0009387653686415102, 'batch_size': 64}. Best is trial 3 with value: 97.84.\n",
      "[I 2025-04-03 02:48:35,064] Trial 9 finished with value: 94.62 and parameters: {'lr': 0.00010425315991471892, 'batch_size': 128}. Best is trial 3 with value: 97.84.\n",
      "[I 2025-04-03 02:49:02,766] Trial 10 finished with value: 96.2 and parameters: {'lr': 0.009570174284361702, 'batch_size': 128}. Best is trial 3 with value: 97.84.\n",
      "[I 2025-04-03 02:49:35,113] Trial 11 finished with value: 97.49 and parameters: {'lr': 0.0012297990617840193, 'batch_size': 32}. Best is trial 3 with value: 97.84.\n",
      "[I 2025-04-03 02:50:02,875] Trial 12 finished with value: 97.58 and parameters: {'lr': 0.0005660772770692958, 'batch_size': 64}. Best is trial 3 with value: 97.84.\n",
      "[I 2025-04-03 02:50:34,622] Trial 13 finished with value: 97.16 and parameters: {'lr': 0.0027613300872444393, 'batch_size': 32}. Best is trial 3 with value: 97.84.\n",
      "[I 2025-04-03 02:51:02,385] Trial 14 finished with value: 96.9 and parameters: {'lr': 0.00035945717507958796, 'batch_size': 128}. Best is trial 3 with value: 97.84.\n",
      "[I 2025-04-03 02:51:32,679] Trial 15 finished with value: 97.49 and parameters: {'lr': 0.0025635226147618984, 'batch_size': 64}. Best is trial 3 with value: 97.84.\n",
      "[I 2025-04-03 02:52:03,522] Trial 16 finished with value: 97.57 and parameters: {'lr': 0.0006282225983905808, 'batch_size': 32}. Best is trial 3 with value: 97.84.\n",
      "[I 2025-04-03 02:52:34,901] Trial 17 finished with value: 97.42 and parameters: {'lr': 0.002155067700002009, 'batch_size': 64}. Best is trial 3 with value: 97.84.\n",
      "[I 2025-04-03 02:53:05,255] Trial 18 finished with value: 97.15 and parameters: {'lr': 0.00019358220564051677, 'batch_size': 32}. Best is trial 3 with value: 97.84.\n",
      "[I 2025-04-03 02:53:33,923] Trial 19 finished with value: 97.09 and parameters: {'lr': 0.0005534247314273447, 'batch_size': 128}. Best is trial 3 with value: 97.84.\n"
     ]
    },
    {
     "name": "stdout",
     "output_type": "stream",
     "text": [
      "Best trial:\n",
      "  Accuracy: 97.84%\n",
      "  Params: \n",
      "    lr: 0.0015962293594684743\n",
      "    batch_size: 64\n"
     ]
    }
   ],
   "source": [
    "import optuna\n",
    "\n",
    "def objective(trial):\n",
    "    # 하이퍼파라미터 제안\n",
    "    lr = trial.suggest_loguniform('lr', 1e-4, 1e-2)\n",
    "    bs = trial.suggest_categorical('batch_size', [32, 64, 128])\n",
    "    \n",
    "    train_loader = DataLoader(train_dataset, batch_size=bs, shuffle=True)\n",
    "    test_loader = DataLoader(test_dataset, batch_size=bs, shuffle=False)\n",
    "    \n",
    "    model = SimpleMNIST()\n",
    "    criterion = nn.CrossEntropyLoss()\n",
    "    optimizer = optim.Adam(model.parameters(), lr=lr)\n",
    "    \n",
    "    # 모델 학습 (예: 5 에폭)\n",
    "    train_model(model, train_loader, criterion, optimizer, num_epochs=5)\n",
    "    # 모델 평가\n",
    "    test_acc = evaluate_model(model, test_loader)\n",
    "    return test_acc\n",
    "\n",
    "# Optuna 스터디 생성 및 최적화\n",
    "study = optuna.create_study(direction='maximize')\n",
    "study.optimize(objective, n_trials=20)\n",
    "\n",
    "print(\"Best trial:\")\n",
    "trial = study.best_trial\n",
    "print(\"  Accuracy: {:.2f}%\".format(trial.value))\n",
    "print(\"  Params: \")\n",
    "for key, value in trial.params.items():\n",
    "    print(\"    {}: {}\".format(key, value))\n"
   ]
  },
  {
   "cell_type": "markdown",
   "id": "033874f2-27c9-45c6-8efc-f235312c8603",
   "metadata": {},
   "source": [
    "설명:\n",
    "\n",
    "trial.suggest_loguniform은 학습률의 범위를 로그 스케일로 탐색합니다.\n",
    "\n",
    "trial.suggest_categorical은 배치 크기 후보에서 무작위로 하나 선택합니다.\n",
    "\n",
    "objective 함수 내에서 제안된 하이퍼파라미터로 모델을 학습시키고, 테스트 정확도를 반환합니다.\n",
    "\n",
    "Optuna 스터디를 생성한 후 study.optimize를 호출해 여러 번의 실험을 통해 최적의 하이퍼파라미터를 찾습니다.\n",
    "\n"
   ]
  },
  {
   "cell_type": "markdown",
   "id": "7179e73d-0ddf-4e21-8a6e-2e409a3b788a",
   "metadata": {},
   "source": [
    "저자원 GPU 환경에서는 계산 자원이 제한되기 때문에, 하이퍼파라미터 튜닝에 있어서도 효율적인 방법을 주로 사용합니다. 일반적으로 다음과 같은 방법들이 많이 활용됩니다:\n",
    "\n",
    "랜덤 서치 (Random Search):\n",
    "\n",
    "그리드 서치에 비해 탐색해야 하는 조합의 수를 줄이면서도 중요한 하이퍼파라미터 공간을 효과적으로 탐색할 수 있어, 계산 비용이 제한된 환경에서 유리합니다.\n",
    "\n",
    "베이지안 최적화 (Bayesian Optimization):\n",
    "\n",
    "Optuna, Hyperopt와 같은 라이브러리를 사용해, 이전 실험 결과를 바탕으로 최적의 하이퍼파라미터를 효율적으로 찾을 수 있습니다.\n",
    "\n",
    "적은 실험 횟수로도 좋은 결과를 얻을 수 있어, 저자원 GPU 환경에서 많이 선호됩니다.\n",
    "\n",
    "학습률 스케줄러와 기타 최적화 기법:\n",
    "\n",
    "학습률 스케줄러(예: StepLR, CosineAnnealingLR 등)를 활용하여 학습 도중 학습률을 동적으로 조절하고, Mixed Precision Training이나 Gradient Accumulation과 같은 기법을 통해 GPU 자원을 효율적으로 사용하는 방법도 병행됩니다.\n",
    "\n",
    "요약하면, 저자원 GPU 환경에서는 계산 비용을 절감하고 효율성을 극대화하기 위해 랜덤 서치나 베이지안 최적화 같은 방법이 많이 사용됩니다. Grid Search는 전체 조합을 시도해야 해서 자원이 충분치 않은 경우에는 잘 사용되지 않는 편입니다."
   ]
  },
  {
   "cell_type": "code",
   "execution_count": null,
   "id": "2592db88-e547-4b83-a478-93c7b7a25546",
   "metadata": {},
   "outputs": [],
   "source": []
  },
  {
   "cell_type": "code",
   "execution_count": null,
   "id": "740ce079-74f9-48ea-95c8-5f3f424ee747",
   "metadata": {},
   "outputs": [],
   "source": []
  },
  {
   "cell_type": "markdown",
   "id": "54e8ac27-7f06-4da8-b145-13be65fedc9b",
   "metadata": {},
   "source": [
    "# 1. 모델 평가 지표 활용\n",
    "1-1. 주요 평가 지표 개념\n",
    "Accuracy (정확도):\n",
    "\n",
    "전체 샘플 중에서 모델이 올바르게 예측한 비율입니다.\n",
    "\n",
    "단순하고 직관적이지만, 클래스 불균형 문제에서는 한계가 있을 수 있습니다.\n",
    "\n",
    "=======================================================================\n",
    "\n",
    "Confusion Matrix (혼동 행렬):\n",
    "\n",
    "실제 클래스와 모델의 예측 클래스 간의 관계를 행렬로 나타냅니다.\n",
    "\n",
    "행은 실제 클래스, 열은 예측 클래스를 나타내며, 대각선의 값은 올바른 예측, 나머지는 오분류를 의미합니다.\n",
    "\n",
    "==============================================================================\n",
    "\n",
    "Precision (정밀도):\n",
    "\n",
    "모델이 특정 클래스로 예측한 샘플 중 실제 해당 클래스의 비율입니다.\n",
    "\n",
    "False Positive를 줄이는 것이 중요한 상황에서 유용합니다.\n",
    "\n",
    "==============================================================================\n",
    "\n",
    "Recall (재현율):\n",
    "\n",
    "실제 특정 클래스에 속한 샘플 중 모델이 올바르게 예측한 비율입니다.\n",
    "\n",
    "False Negative를 줄이는 것이 중요한 경우에 사용합니다.\n",
    "\n",
    "==============================================================================\n",
    "\n",
    "F1-score:\n",
    "\n",
    "Precision과 Recall의 조화 평균입니다.\n",
    "\n",
    "두 지표의 균형이 중요한 경우 사용합니다.\n",
    "\n",
    "==============================================================================\n",
    "\n",
    "Classification Report:\n",
    "\n",
    "각 클래스별 Precision, Recall, F1-score, Support(실제 샘플 수)를 종합적으로 보여줍니다.\n",
    "\n",
    "이를 통해 각 클래스별로 모델이 어떤 부분에서 약한지 진단할 수 있습니다."
   ]
  },
  {
   "cell_type": "code",
   "execution_count": 6,
   "id": "d0bec5c4-074a-4abc-9767-e89645a9f527",
   "metadata": {},
   "outputs": [],
   "source": [
    "import torch\n",
    "import torch.nn as nn\n",
    "import torch.optim as optim\n",
    "import numpy as np\n",
    "import matplotlib.pyplot as plt\n",
    "from torchvision import datasets, transforms\n",
    "from torch.utils.data import DataLoader as loader\n",
    "from sklearn.metrics import confusion_matrix, classification_report\n",
    "import torch.nn.functional as F"
   ]
  },
  {
   "cell_type": "code",
   "execution_count": 7,
   "id": "c076aa55-e7e7-4e31-8899-745d681c452b",
   "metadata": {},
   "outputs": [],
   "source": [
    "class simple_CNN(nn.Module):\n",
    "    def __init__(self):\n",
    "        super(simple_CNN,self).__init__()\n",
    "        self.conv1=nn.Conv2d(1,32,kernel_size=3,stride=1,padding=1)\n",
    "        self.conv2=nn.Conv2d(32,64,kernel_size=3,stride=1,padding=1)\n",
    "        self.pool=nn.MaxPool2d(2,2)\n",
    "        self.fc1=nn.Linear(64*7*7,128)\n",
    "        self.fc2=nn.Linear(128,10)\n",
    "\n",
    "    def forward(self, x):\n",
    "        x=F.relu(self.conv1(x))\n",
    "        x=self.pool(x)\n",
    "        x=F.relu(self.conv2(x))\n",
    "        x=self.pool(x)\n",
    "        x=x.view(-1, 64*7*7)\n",
    "        x=F.relu(self.fc1(x))\n",
    "        x=self.fc2(x)\n",
    "        return x\n",
    "\n"
   ]
  },
  {
   "cell_type": "code",
   "execution_count": 8,
   "id": "5e6a6668-b4fd-46f8-864c-5c2bfcc44d8e",
   "metadata": {},
   "outputs": [],
   "source": [
    "def train_mode(model, train_loader, criter, optimy, num_epoch=5):\n",
    "    model.train()\n",
    "    train_history = []\n",
    "    for epoch in range(num_epoch):\n",
    "        total_loss = 0.0\n",
    "        for data, target in train_loader:\n",
    "            optimy.zero_grad()\n",
    "            out = model(data)\n",
    "            loss = criter(out, target)\n",
    "            loss.backward()\n",
    "            optimy.step()\n",
    "            total_loss += loss.item()  # 각 배치의 손실을 누적합니다.\n",
    "        avg_loss = total_loss / len(train_loader)  # 에폭당 평균 손실 계산\n",
    "        train_history.append(avg_loss)\n",
    "        print(f\"Epoch: {epoch+1}/{num_epoch}, Train Loss: {avg_loss:.4f}\")\n",
    "    return train_history\n"
   ]
  },
  {
   "cell_type": "code",
   "execution_count": 9,
   "id": "dcdc89aa-ea55-4630-83b5-758557a35d6e",
   "metadata": {},
   "outputs": [],
   "source": [
    "def eval_mode(model, test_loader):\n",
    "    model.eval()\n",
    "    total=0.0\n",
    "    correct=0.0\n",
    "    all_pred=[]\n",
    "    all_target=[]\n",
    "    with torch.no_grad():\n",
    "        for data,target in test_loader:\n",
    "            out=model(data)\n",
    "            pred=out.argmax(dim=1)\n",
    "            all_pred.extend(pred.cpu().numpy())\n",
    "            all_target.extend(target.cpu().numpy())\n",
    "            correct+=pred.eq(target).sum().item()\n",
    "            total+=data.size(0)\n",
    "    accuracy=100.0*correct/total\n",
    "    return accuracy, np.array(all_target), np.array(all_pred)"
   ]
  },
  {
   "cell_type": "code",
   "execution_count": 14,
   "id": "10d50363-4d13-4a3b-bb1b-c6b29836b7cc",
   "metadata": {},
   "outputs": [
    {
     "name": "stdout",
     "output_type": "stream",
     "text": [
      "Epoch: 1/10, Train Loss: 0.1325\n",
      "Epoch: 2/10, Train Loss: 0.0417\n",
      "Epoch: 3/10, Train Loss: 0.0281\n",
      "Epoch: 4/10, Train Loss: 0.0216\n",
      "Epoch: 5/10, Train Loss: 0.0145\n",
      "Epoch: 6/10, Train Loss: 0.0119\n",
      "Epoch: 7/10, Train Loss: 0.0103\n",
      "Epoch: 8/10, Train Loss: 0.0086\n",
      "Epoch: 9/10, Train Loss: 0.0083\n",
      "Epoch: 10/10, Train Loss: 0.0055\n",
      "Test Accuracy: 99.22%\n",
      "Confusion Matrix:\n",
      "[[ 974    1    1    0    0    0    2    2    0    0]\n",
      " [   0 1130    2    0    0    0    0    2    1    0]\n",
      " [   0    0 1025    1    0    0    0    6    0    0]\n",
      " [   0    0    0 1004    0    4    0    1    1    0]\n",
      " [   0    0    0    0  975    0    1    0    0    6]\n",
      " [   0    0    0    5    0  885    2    0    0    0]\n",
      " [   2    3    0    0    1    2  949    0    1    0]\n",
      " [   0    1    1    0    0    0    0 1025    0    1]\n",
      " [   3    0    2    1    0    0    1    0  967    0]\n",
      " [   0    0    1    1    5    4    0    5    5  988]]\n",
      "\n",
      "Classification Report:\n",
      "              precision    recall  f1-score   support\n",
      "\n",
      "           0       0.99      0.99      0.99       980\n",
      "           1       1.00      1.00      1.00      1135\n",
      "           2       0.99      0.99      0.99      1032\n",
      "           3       0.99      0.99      0.99      1010\n",
      "           4       0.99      0.99      0.99       982\n",
      "           5       0.99      0.99      0.99       892\n",
      "           6       0.99      0.99      0.99       958\n",
      "           7       0.98      1.00      0.99      1028\n",
      "           8       0.99      0.99      0.99       974\n",
      "           9       0.99      0.98      0.99      1009\n",
      "\n",
      "    accuracy                           0.99     10000\n",
      "   macro avg       0.99      0.99      0.99     10000\n",
      "weighted avg       0.99      0.99      0.99     10000\n",
      "\n"
     ]
    }
   ],
   "source": [
    "transform=transforms.Compose([\n",
    "    transforms.ToTensor(),\n",
    "    transforms.Normalize((0.1307,),(0.3081,))\n",
    "])\n",
    "\n",
    "train_data=datasets.MNIST(root='./data',train=True,download=True,transform=transform)\n",
    "test_data=datasets.MNIST(root='./data',train=False,download=True,transform=transform)\n",
    "\n",
    "train_loader=loader(train_data,batch_size=64,shuffle=True)\n",
    "test_loader=loader(test_data,batch_size=1000,shuffle=False)\n",
    "\n",
    "model=simple_CNN()\n",
    "criter=nn.CrossEntropyLoss()\n",
    "lr=0.001\n",
    "optimy=optim.Adam(model.parameters(),lr=lr)\n",
    "num_epoch=10\n",
    "\n",
    "loss_history=train_mode(model, train_loader, criter, optimy,num_epoch)\n",
    "test_acc,y_true, y_pred=eval_mode(model, test_loader)\n",
    "print(f\"Test Accuracy: {test_acc:.2f}%\")\n",
    "\n",
    "conf_mat=confusion_matrix(y_true,y_pred)\n",
    "report=classification_report(y_true,y_pred)\n",
    "print(\"Confusion Matrix:\")\n",
    "print(conf_mat)\n",
    "print(\"\\nClassification Report:\")\n",
    "print(report)"
   ]
  },
  {
   "cell_type": "code",
   "execution_count": 15,
   "id": "5e51a107-4842-4fc8-bee5-3a1284707605",
   "metadata": {},
   "outputs": [
    {
     "data": {
      "image/png": "[encoded data removed]",
      "text/plain": [
       "<Figure size 1600x600 with 3 Axes>"
      ]
     },
     "metadata": {},
     "output_type": "display_data"
    }
   ],
   "source": [
    "plt.figure(figsize=(16,6))\n",
    "\n",
    "plt.subplot(1,2,1)\n",
    "epoch=range(1,num_epoch+1)\n",
    "plt.plot(epoch, loss_history, marker='o')\n",
    "plt.xlabel(\"Epoch\")\n",
    "plt.ylabel(\"Average Training Loss\")\n",
    "plt.title(\"Training Loss over Epochs\")\n",
    "\n",
    "plt.subplot(1,2,2)\n",
    "plt.imshow(conf_mat, interpolation='nearest',cmap=plt.cm.Blues)\n",
    "plt.title(\"Confusion Matrix\")\n",
    "plt.colorbar()\n",
    "tick_marks=np.arange(10)\n",
    "\n",
    "plt.xticks(tick_marks, tick_marks)\n",
    "plt.yticks(tick_marks, tick_marks)\n",
    "plt.xlabel(\"Predicted Label\")\n",
    "plt.ylabel(\"True Label\")\n",
    "\n",
    "plt.tight_layout()\n",
    "plt.show()"
   ]
  },
  {
   "cell_type": "code",
   "execution_count": 69,
   "id": "d86874fa-9380-48f3-835a-ebba685c4d53",
   "metadata": {},
   "outputs": [
    {
     "name": "stdout",
     "output_type": "stream",
     "text": [
      "Epoch 1/5, Training Loss: 0.1273\n",
      "Epoch 2/5, Training Loss: 0.0392\n",
      "Epoch 3/5, Training Loss: 0.0267\n",
      "Epoch 4/5, Training Loss: 0.0189\n",
      "Epoch 5/5, Training Loss: 0.0150\n",
      "Test Accuracy: 99.10%\n",
      "Confusion Matrix:\n",
      "[[ 973    0    0    0    0    0    3    1    2    1]\n",
      " [   0 1133    1    0    0    0    0    0    1    0]\n",
      " [   0    2 1024    0    1    0    0    4    1    0]\n",
      " [   0    0    0 1002    0    4    0    2    2    0]\n",
      " [   0    0    1    0  975    0    0    1    1    4]\n",
      " [   2    0    0    6    0  883    1    0    0    0]\n",
      " [   2    2    0    0    2    6  943    0    3    0]\n",
      " [   0    5    4    2    0    0    0 1014    1    2]\n",
      " [   2    0    1    1    0    0    0    0  966    4]\n",
      " [   0    0    0    0    3    3    0    5    1  997]]\n",
      "\n",
      "Classification Report:\n",
      "              precision    recall  f1-score   support\n",
      "\n",
      "           0       0.99      0.99      0.99       980\n",
      "           1       0.99      1.00      1.00      1135\n",
      "           2       0.99      0.99      0.99      1032\n",
      "           3       0.99      0.99      0.99      1010\n",
      "           4       0.99      0.99      0.99       982\n",
      "           5       0.99      0.99      0.99       892\n",
      "           6       1.00      0.98      0.99       958\n",
      "           7       0.99      0.99      0.99      1028\n",
      "           8       0.99      0.99      0.99       974\n",
      "           9       0.99      0.99      0.99      1009\n",
      "\n",
      "    accuracy                           0.99     10000\n",
      "   macro avg       0.99      0.99      0.99     10000\n",
      "weighted avg       0.99      0.99      0.99     10000\n",
      "\n"
     ]
    },
    {
     "data": {
      "image/png": "[encoded data removed]",
      "text/plain": [
       "<Figure size 1600x600 with 3 Axes>"
      ]
     },
     "metadata": {},
     "output_type": "display_data"
    }
   ],
   "source": []
  },
  {
   "cell_type": "code",
   "execution_count": null,
   "id": "5a141894-d9f3-4961-87cc-07878e432f10",
   "metadata": {},
   "outputs": [],
   "source": []
  },
  {
   "cell_type": "raw",
   "id": "278a5a76-1d85-4ed0-86cf-67b8562e4a77",
   "metadata": {},
   "source": [
    "simple_CNN 모델의 경우, 베이지안 최적화를 통해 다음과 같은 하이퍼파라미터를 튜닝할 수 있습니다:\n",
    "\n",
    "학습률(lr)\n",
    "\n",
    "배치 크기(batch_size)\n",
    "\n",
    "(만약 모델에 드롭아웃 등의 추가 정규화 기법이 있다면) 드롭아웃 확률 등"
   ]
  },
  {
   "cell_type": "code",
   "execution_count": 55,
   "id": "0943e856-871f-470e-b705-978a26dbe2ba",
   "metadata": {},
   "outputs": [],
   "source": [
    "#최적화\n",
    "import torch\n",
    "import torch.nn as nn\n",
    "import torch.optim as optim\n",
    "from torchvision import datasets,transforms\n",
    "from torch.utils.data import DataLoader as loader\n",
    "import numpy as np\n",
    "import optuna\n",
    "\n",
    "\n",
    "def object(trial):\n",
    "    lr=trial.suggest_loguniform('lr',1e-4, 1e-2)\n",
    "    batch_size=trial.suggest_categorical(\"batch_size\", [32, 64, 128])\n",
    "\n",
    "    transform = transforms.Compose([\n",
    "        transforms.ToTensor(),\n",
    "        transforms.Normalize((0.1307,), (0.3081,))])\n",
    "        \n",
    "    train_data=datasets.MNIST(root='./data',train=True,download=True,transform=transform)\n",
    "    test_data=datasets.MNIST(root='./data',train=False,download=True,transform=transform)\n",
    "\n",
    "    train_loader=loader(train_data,batch_size=batch_size,shuffle=True)\n",
    "    test_loader=loader(test_data, batch_size=1000,shuffle=True)\n",
    "\n",
    "    model=simple_CNN()\n",
    "    criter=nn.CrossEntropyLoss()\n",
    "    #lr=0.001\n",
    "    optimy=optim.Adam(model.parameters(),lr=lr)\n",
    "    num_epoch=10\n",
    "    train_mode(model,train_loader, criter,optimy,num_epoch=num_epoch)\n",
    "    test_acc,_,_=eval_mode(model,test_loader)\n",
    "    return test_acc"
   ]
  },
  {
   "cell_type": "code",
   "execution_count": 57,
   "id": "127a1ee2-83dc-4835-a008-6f29fd07cf3f",
   "metadata": {
    "scrolled": true
   },
   "outputs": [
    {
     "name": "stderr",
     "output_type": "stream",
     "text": [
      "[I 2025-04-04 17:16:21,752] A new study created in memory with name: no-name-98c84a7d-6e90-46be-9d9a-78e28084accd\n",
      "C:\\Users\\JH\\AppData\\Local\\Temp\\ipykernel_15848\\2015550802.py:12: FutureWarning: suggest_loguniform has been deprecated in v3.0.0. This feature will be removed in v6.0.0. See https://github.com/optuna/optuna/releases/tag/v3.0.0. Use suggest_float(..., log=True) instead.\n",
      "  lr=trial.suggest_loguniform('lr',1e-4, 1e-2)\n"
     ]
    },
    {
     "name": "stdout",
     "output_type": "stream",
     "text": [
      "Epoch: 1/10, Train Loss: 0.2267\n",
      "Epoch: 2/10, Train Loss: 0.0673\n",
      "Epoch: 3/10, Train Loss: 0.0480\n",
      "Epoch: 4/10, Train Loss: 0.0380\n",
      "Epoch: 5/10, Train Loss: 0.0303\n",
      "Epoch: 6/10, Train Loss: 0.0250\n",
      "Epoch: 7/10, Train Loss: 0.0203\n",
      "Epoch: 8/10, Train Loss: 0.0163\n",
      "Epoch: 9/10, Train Loss: 0.0133\n",
      "Epoch: 10/10, Train Loss: 0.0107\n"
     ]
    },
    {
     "name": "stderr",
     "output_type": "stream",
     "text": [
      "[I 2025-04-04 17:19:30,340] Trial 0 finished with value: 98.85 and parameters: {'lr': 0.00013934467875012285, 'batch_size': 32}. Best is trial 0 with value: 98.85.\n"
     ]
    },
    {
     "name": "stdout",
     "output_type": "stream",
     "text": [
      "Epoch: 1/10, Train Loss: 0.1042\n",
      "Epoch: 2/10, Train Loss: 0.0414\n",
      "Epoch: 3/10, Train Loss: 0.0280\n",
      "Epoch: 4/10, Train Loss: 0.0226\n",
      "Epoch: 5/10, Train Loss: 0.0165\n",
      "Epoch: 6/10, Train Loss: 0.0155\n",
      "Epoch: 7/10, Train Loss: 0.0137\n",
      "Epoch: 8/10, Train Loss: 0.0108\n",
      "Epoch: 9/10, Train Loss: 0.0101\n",
      "Epoch: 10/10, Train Loss: 0.0109\n"
     ]
    },
    {
     "name": "stderr",
     "output_type": "stream",
     "text": [
      "[I 2025-04-04 17:23:02,720] Trial 1 finished with value: 99.08 and parameters: {'lr': 0.001992552229563033, 'batch_size': 32}. Best is trial 1 with value: 99.08.\n"
     ]
    },
    {
     "name": "stdout",
     "output_type": "stream",
     "text": [
      "Epoch: 1/10, Train Loss: 0.1999\n",
      "Epoch: 2/10, Train Loss: 0.0523\n",
      "Epoch: 3/10, Train Loss: 0.0365\n",
      "Epoch: 4/10, Train Loss: 0.0273\n",
      "Epoch: 5/10, Train Loss: 0.0223\n",
      "Epoch: 6/10, Train Loss: 0.0161\n",
      "Epoch: 7/10, Train Loss: 0.0114\n",
      "Epoch: 8/10, Train Loss: 0.0106\n",
      "Epoch: 9/10, Train Loss: 0.0097\n",
      "Epoch: 10/10, Train Loss: 0.0079\n"
     ]
    },
    {
     "name": "stderr",
     "output_type": "stream",
     "text": [
      "[I 2025-04-04 17:24:46,138] Trial 2 finished with value: 98.99 and parameters: {'lr': 0.0007045827883077034, 'batch_size': 128}. Best is trial 1 with value: 99.08.\n"
     ]
    },
    {
     "name": "stdout",
     "output_type": "stream",
     "text": [
      "Epoch: 1/10, Train Loss: 0.3746\n",
      "Epoch: 2/10, Train Loss: 0.0971\n",
      "Epoch: 3/10, Train Loss: 0.0678\n",
      "Epoch: 4/10, Train Loss: 0.0547\n",
      "Epoch: 5/10, Train Loss: 0.0463\n",
      "Epoch: 6/10, Train Loss: 0.0390\n",
      "Epoch: 7/10, Train Loss: 0.0355\n",
      "Epoch: 8/10, Train Loss: 0.0317\n",
      "Epoch: 9/10, Train Loss: 0.0282\n",
      "Epoch: 10/10, Train Loss: 0.0249\n"
     ]
    },
    {
     "name": "stderr",
     "output_type": "stream",
     "text": [
      "[I 2025-04-04 17:26:28,206] Trial 3 finished with value: 98.93 and parameters: {'lr': 0.00016975406583845436, 'batch_size': 128}. Best is trial 1 with value: 99.08.\n"
     ]
    },
    {
     "name": "stdout",
     "output_type": "stream",
     "text": [
      "Epoch: 1/10, Train Loss: 0.2896\n",
      "Epoch: 2/10, Train Loss: 0.0788\n",
      "Epoch: 3/10, Train Loss: 0.0552\n",
      "Epoch: 4/10, Train Loss: 0.0437\n",
      "Epoch: 5/10, Train Loss: 0.0367\n",
      "Epoch: 6/10, Train Loss: 0.0299\n",
      "Epoch: 7/10, Train Loss: 0.0251\n",
      "Epoch: 8/10, Train Loss: 0.0220\n",
      "Epoch: 9/10, Train Loss: 0.0176\n",
      "Epoch: 10/10, Train Loss: 0.0153\n"
     ]
    },
    {
     "name": "stderr",
     "output_type": "stream",
     "text": [
      "[I 2025-04-04 17:28:50,842] Trial 4 finished with value: 98.95 and parameters: {'lr': 0.00016235207667767616, 'batch_size': 64}. Best is trial 1 with value: 99.08.\n"
     ]
    },
    {
     "name": "stdout",
     "output_type": "stream",
     "text": [
      "Epoch: 1/10, Train Loss: 0.2409\n",
      "Epoch: 2/10, Train Loss: 0.0665\n",
      "Epoch: 3/10, Train Loss: 0.0470\n",
      "Epoch: 4/10, Train Loss: 0.0352\n",
      "Epoch: 5/10, Train Loss: 0.0297\n",
      "Epoch: 6/10, Train Loss: 0.0228\n",
      "Epoch: 7/10, Train Loss: 0.0194\n",
      "Epoch: 8/10, Train Loss: 0.0149\n",
      "Epoch: 9/10, Train Loss: 0.0124\n",
      "Epoch: 10/10, Train Loss: 0.0100\n"
     ]
    },
    {
     "name": "stderr",
     "output_type": "stream",
     "text": [
      "[I 2025-04-04 17:31:04,500] Trial 5 finished with value: 99.1 and parameters: {'lr': 0.00023389550702326948, 'batch_size': 64}. Best is trial 5 with value: 99.1.\n"
     ]
    },
    {
     "name": "stdout",
     "output_type": "stream",
     "text": [
      "Epoch: 1/10, Train Loss: 0.1132\n",
      "Epoch: 2/10, Train Loss: 0.0529\n",
      "Epoch: 3/10, Train Loss: 0.0442\n",
      "Epoch: 4/10, Train Loss: 0.0350\n",
      "Epoch: 5/10, Train Loss: 0.0317\n",
      "Epoch: 6/10, Train Loss: 0.0266\n",
      "Epoch: 7/10, Train Loss: 0.0294\n",
      "Epoch: 8/10, Train Loss: 0.0231\n",
      "Epoch: 9/10, Train Loss: 0.0253\n",
      "Epoch: 10/10, Train Loss: 0.0272\n"
     ]
    },
    {
     "name": "stderr",
     "output_type": "stream",
     "text": [
      "[I 2025-04-04 17:34:59,213] Trial 6 finished with value: 98.71 and parameters: {'lr': 0.004131261842379601, 'batch_size': 32}. Best is trial 5 with value: 99.1.\n"
     ]
    },
    {
     "name": "stdout",
     "output_type": "stream",
     "text": [
      "Epoch: 1/10, Train Loss: 0.1130\n",
      "Epoch: 2/10, Train Loss: 0.0403\n",
      "Epoch: 3/10, Train Loss: 0.0270\n",
      "Epoch: 4/10, Train Loss: 0.0198\n",
      "Epoch: 5/10, Train Loss: 0.0173\n",
      "Epoch: 6/10, Train Loss: 0.0129\n",
      "Epoch: 7/10, Train Loss: 0.0113\n",
      "Epoch: 8/10, Train Loss: 0.0099\n",
      "Epoch: 9/10, Train Loss: 0.0096\n",
      "Epoch: 10/10, Train Loss: 0.0070\n"
     ]
    },
    {
     "name": "stderr",
     "output_type": "stream",
     "text": [
      "[I 2025-04-04 17:38:30,857] Trial 7 finished with value: 99.12 and parameters: {'lr': 0.0013427671064174598, 'batch_size': 32}. Best is trial 7 with value: 99.12.\n"
     ]
    },
    {
     "name": "stdout",
     "output_type": "stream",
     "text": [
      "Epoch: 1/10, Train Loss: 0.2679\n",
      "Epoch: 2/10, Train Loss: 0.0664\n",
      "Epoch: 3/10, Train Loss: 0.0485\n",
      "Epoch: 4/10, Train Loss: 0.0379\n",
      "Epoch: 5/10, Train Loss: 0.0301\n",
      "Epoch: 6/10, Train Loss: 0.0265\n",
      "Epoch: 7/10, Train Loss: 0.0209\n",
      "Epoch: 8/10, Train Loss: 0.0175\n",
      "Epoch: 9/10, Train Loss: 0.0140\n",
      "Epoch: 10/10, Train Loss: 0.0120\n"
     ]
    },
    {
     "name": "stderr",
     "output_type": "stream",
     "text": [
      "[I 2025-04-04 17:40:13,512] Trial 8 finished with value: 98.94 and parameters: {'lr': 0.00034905605403235735, 'batch_size': 128}. Best is trial 7 with value: 99.12.\n"
     ]
    },
    {
     "name": "stdout",
     "output_type": "stream",
     "text": [
      "Epoch: 1/10, Train Loss: 0.2011\n",
      "Epoch: 2/10, Train Loss: 0.0589\n",
      "Epoch: 3/10, Train Loss: 0.0426\n",
      "Epoch: 4/10, Train Loss: 0.0317\n",
      "Epoch: 5/10, Train Loss: 0.0252\n",
      "Epoch: 6/10, Train Loss: 0.0191\n",
      "Epoch: 7/10, Train Loss: 0.0156\n",
      "Epoch: 8/10, Train Loss: 0.0117\n",
      "Epoch: 9/10, Train Loss: 0.0093\n",
      "Epoch: 10/10, Train Loss: 0.0083\n"
     ]
    },
    {
     "name": "stderr",
     "output_type": "stream",
     "text": [
      "[I 2025-04-04 17:43:27,252] Trial 9 finished with value: 99.09 and parameters: {'lr': 0.00018857577915017308, 'batch_size': 32}. Best is trial 7 with value: 99.12.\n"
     ]
    },
    {
     "name": "stdout",
     "output_type": "stream",
     "text": [
      "Epoch: 1/10, Train Loss: 0.2117\n",
      "Epoch: 2/10, Train Loss: 0.1316\n",
      "Epoch: 3/10, Train Loss: 0.1201\n",
      "Epoch: 4/10, Train Loss: 0.1187\n",
      "Epoch: 5/10, Train Loss: 0.1139\n",
      "Epoch: 6/10, Train Loss: 0.1089\n",
      "Epoch: 7/10, Train Loss: 0.1087\n",
      "Epoch: 8/10, Train Loss: 0.1050\n",
      "Epoch: 9/10, Train Loss: 0.1029\n",
      "Epoch: 10/10, Train Loss: 0.1048\n"
     ]
    },
    {
     "name": "stderr",
     "output_type": "stream",
     "text": [
      "[I 2025-04-04 17:47:36,948] Trial 10 finished with value: 97.06 and parameters: {'lr': 0.009837767330433931, 'batch_size': 32}. Best is trial 7 with value: 99.12.\n"
     ]
    },
    {
     "name": "stdout",
     "output_type": "stream",
     "text": [
      "Epoch: 1/10, Train Loss: 0.1548\n",
      "Epoch: 2/10, Train Loss: 0.0465\n",
      "Epoch: 3/10, Train Loss: 0.0323\n",
      "Epoch: 4/10, Train Loss: 0.0235\n",
      "Epoch: 5/10, Train Loss: 0.0187\n",
      "Epoch: 6/10, Train Loss: 0.0137\n",
      "Epoch: 7/10, Train Loss: 0.0105\n",
      "Epoch: 8/10, Train Loss: 0.0097\n",
      "Epoch: 9/10, Train Loss: 0.0068\n",
      "Epoch: 10/10, Train Loss: 0.0072\n"
     ]
    },
    {
     "name": "stderr",
     "output_type": "stream",
     "text": [
      "[I 2025-04-04 17:49:54,847] Trial 11 finished with value: 99.07 and parameters: {'lr': 0.0006950787479784885, 'batch_size': 64}. Best is trial 7 with value: 99.12.\n"
     ]
    },
    {
     "name": "stdout",
     "output_type": "stream",
     "text": [
      "Epoch: 1/10, Train Loss: 0.1157\n",
      "Epoch: 2/10, Train Loss: 0.0397\n",
      "Epoch: 3/10, Train Loss: 0.0272\n",
      "Epoch: 4/10, Train Loss: 0.0196\n",
      "Epoch: 5/10, Train Loss: 0.0160\n",
      "Epoch: 6/10, Train Loss: 0.0133\n",
      "Epoch: 7/10, Train Loss: 0.0110\n",
      "Epoch: 8/10, Train Loss: 0.0088\n",
      "Epoch: 9/10, Train Loss: 0.0098\n",
      "Epoch: 10/10, Train Loss: 0.0077\n"
     ]
    },
    {
     "name": "stderr",
     "output_type": "stream",
     "text": [
      "[I 2025-04-04 17:52:18,506] Trial 12 finished with value: 99.05 and parameters: {'lr': 0.0016281454158987305, 'batch_size': 64}. Best is trial 7 with value: 99.12.\n"
     ]
    },
    {
     "name": "stdout",
     "output_type": "stream",
     "text": [
      "Epoch: 1/10, Train Loss: 0.1873\n",
      "Epoch: 2/10, Train Loss: 0.0526\n",
      "Epoch: 3/10, Train Loss: 0.0372\n",
      "Epoch: 4/10, Train Loss: 0.0269\n",
      "Epoch: 5/10, Train Loss: 0.0209\n",
      "Epoch: 6/10, Train Loss: 0.0164\n",
      "Epoch: 7/10, Train Loss: 0.0130\n",
      "Epoch: 8/10, Train Loss: 0.0102\n",
      "Epoch: 9/10, Train Loss: 0.0095\n",
      "Epoch: 10/10, Train Loss: 0.0079\n"
     ]
    },
    {
     "name": "stderr",
     "output_type": "stream",
     "text": [
      "[I 2025-04-04 17:54:35,419] Trial 13 finished with value: 99.09 and parameters: {'lr': 0.00040064137840842745, 'batch_size': 64}. Best is trial 7 with value: 99.12.\n"
     ]
    },
    {
     "name": "stdout",
     "output_type": "stream",
     "text": [
      "Epoch: 1/10, Train Loss: 0.1212\n",
      "Epoch: 2/10, Train Loss: 0.0402\n",
      "Epoch: 3/10, Train Loss: 0.0278\n",
      "Epoch: 4/10, Train Loss: 0.0200\n",
      "Epoch: 5/10, Train Loss: 0.0161\n",
      "Epoch: 6/10, Train Loss: 0.0131\n",
      "Epoch: 7/10, Train Loss: 0.0118\n",
      "Epoch: 8/10, Train Loss: 0.0102\n",
      "Epoch: 9/10, Train Loss: 0.0076\n",
      "Epoch: 10/10, Train Loss: 0.0082\n"
     ]
    },
    {
     "name": "stderr",
     "output_type": "stream",
     "text": [
      "[I 2025-04-04 17:56:54,427] Trial 14 finished with value: 98.8 and parameters: {'lr': 0.0014308424355344124, 'batch_size': 64}. Best is trial 7 with value: 99.12.\n"
     ]
    },
    {
     "name": "stdout",
     "output_type": "stream",
     "text": [
      "Epoch: 1/10, Train Loss: 0.1211\n",
      "Epoch: 2/10, Train Loss: 0.0496\n",
      "Epoch: 3/10, Train Loss: 0.0408\n",
      "Epoch: 4/10, Train Loss: 0.0317\n",
      "Epoch: 5/10, Train Loss: 0.0290\n",
      "Epoch: 6/10, Train Loss: 0.0251\n",
      "Epoch: 7/10, Train Loss: 0.0234\n",
      "Epoch: 8/10, Train Loss: 0.0204\n",
      "Epoch: 9/10, Train Loss: 0.0181\n",
      "Epoch: 10/10, Train Loss: 0.0194\n"
     ]
    },
    {
     "name": "stderr",
     "output_type": "stream",
     "text": [
      "[I 2025-04-04 18:00:49,410] Trial 15 finished with value: 98.76 and parameters: {'lr': 0.003273587558772573, 'batch_size': 32}. Best is trial 7 with value: 99.12.\n"
     ]
    },
    {
     "name": "stdout",
     "output_type": "stream",
     "text": [
      "Epoch: 1/10, Train Loss: 0.1678\n",
      "Epoch: 2/10, Train Loss: 0.0505\n",
      "Epoch: 3/10, Train Loss: 0.0351\n",
      "Epoch: 4/10, Train Loss: 0.0261\n",
      "Epoch: 5/10, Train Loss: 0.0189\n",
      "Epoch: 6/10, Train Loss: 0.0161\n",
      "Epoch: 7/10, Train Loss: 0.0119\n",
      "Epoch: 8/10, Train Loss: 0.0097\n",
      "Epoch: 9/10, Train Loss: 0.0085\n",
      "Epoch: 10/10, Train Loss: 0.0074\n"
     ]
    },
    {
     "name": "stderr",
     "output_type": "stream",
     "text": [
      "[I 2025-04-04 18:03:02,528] Trial 16 finished with value: 99.05 and parameters: {'lr': 0.00043583133970032974, 'batch_size': 64}. Best is trial 7 with value: 99.12.\n"
     ]
    },
    {
     "name": "stdout",
     "output_type": "stream",
     "text": [
      "Epoch: 1/10, Train Loss: 0.1386\n",
      "Epoch: 2/10, Train Loss: 0.0405\n",
      "Epoch: 3/10, Train Loss: 0.0281\n",
      "Epoch: 4/10, Train Loss: 0.0201\n",
      "Epoch: 5/10, Train Loss: 0.0152\n",
      "Epoch: 6/10, Train Loss: 0.0143\n",
      "Epoch: 7/10, Train Loss: 0.0088\n",
      "Epoch: 8/10, Train Loss: 0.0078\n",
      "Epoch: 9/10, Train Loss: 0.0082\n",
      "Epoch: 10/10, Train Loss: 0.0062\n"
     ]
    },
    {
     "name": "stderr",
     "output_type": "stream",
     "text": [
      "[I 2025-04-04 18:05:19,419] Trial 17 finished with value: 99.03 and parameters: {'lr': 0.0009005231859208931, 'batch_size': 64}. Best is trial 7 with value: 99.12.\n"
     ]
    },
    {
     "name": "stdout",
     "output_type": "stream",
     "text": [
      "Epoch: 1/10, Train Loss: 0.1748\n",
      "Epoch: 2/10, Train Loss: 0.0517\n",
      "Epoch: 3/10, Train Loss: 0.0354\n",
      "Epoch: 4/10, Train Loss: 0.0271\n",
      "Epoch: 5/10, Train Loss: 0.0189\n",
      "Epoch: 6/10, Train Loss: 0.0156\n",
      "Epoch: 7/10, Train Loss: 0.0113\n",
      "Epoch: 8/10, Train Loss: 0.0093\n",
      "Epoch: 9/10, Train Loss: 0.0071\n",
      "Epoch: 10/10, Train Loss: 0.0063\n"
     ]
    },
    {
     "name": "stderr",
     "output_type": "stream",
     "text": [
      "[I 2025-04-04 18:08:39,119] Trial 18 finished with value: 99.16 and parameters: {'lr': 0.00028132207739702827, 'batch_size': 32}. Best is trial 18 with value: 99.16.\n"
     ]
    },
    {
     "name": "stdout",
     "output_type": "stream",
     "text": [
      "Epoch: 1/10, Train Loss: 0.2622\n",
      "Epoch: 2/10, Train Loss: 0.0764\n",
      "Epoch: 3/10, Train Loss: 0.0544\n",
      "Epoch: 4/10, Train Loss: 0.0431\n",
      "Epoch: 5/10, Train Loss: 0.0355\n",
      "Epoch: 6/10, Train Loss: 0.0293\n",
      "Epoch: 7/10, Train Loss: 0.0243\n",
      "Epoch: 8/10, Train Loss: 0.0202\n",
      "Epoch: 9/10, Train Loss: 0.0169\n",
      "Epoch: 10/10, Train Loss: 0.0146\n"
     ]
    },
    {
     "name": "stderr",
     "output_type": "stream",
     "text": [
      "[I 2025-04-04 18:11:41,979] Trial 19 finished with value: 98.96 and parameters: {'lr': 0.00010239727861452672, 'batch_size': 32}. Best is trial 18 with value: 99.16.\n"
     ]
    },
    {
     "name": "stdout",
     "output_type": "stream",
     "text": [
      "Best trial:\n",
      "  Accuracy: 99.16%\n",
      "  lr: 0.00028132207739702827\n",
      "  batch_size: 32\n"
     ]
    }
   ],
   "source": [
    "study = optuna.create_study(direction=\"maximize\")\n",
    "study.optimize(object, n_trials=20)\n",
    "\n",
    "print(\"Best trial:\")\n",
    "best_trial = study.best_trial\n",
    "print(\"  Accuracy: {:.2f}%\".format(best_trial.value))\n",
    "for key, value in best_trial.params.items():\n",
    "    print(\"  {}: {}\".format(key, value))"
   ]
  },
  {
   "cell_type": "raw",
   "id": "0c632a00-817b-46cf-8177-f0636e7b6a84",
   "metadata": {},
   "source": [
    "Objective 함수:\n",
    "\n",
    "objective(trial) 함수 내부에서 Optuna의 trial 객체를 사용해 학습률(lr)과 배치 크기(batch_size)를 제안받습니다.\n",
    "제안된 하이퍼파라미터를 사용해 데이터로더를 생성하고, simple_CNN 모델을 초기화합니다.\n",
    "모델을 일정 에폭 동안 학습(train_mode)한 후, 평가 함수(eval_mode)를 사용해 테스트 정확도를 측정합니다.\n",
    "이 테스트 정확도를 반환함으로써, Optuna는 이 값을 최대화하는 방향으로 여러 조합을 실험합니다.\n",
    "\n",
    "베이지안 최적화 실행:\n",
    "study = optuna.create_study(direction=\"maximize\")로 테스트 정확도를 최대화하는 스터디를 생성합니다.\n",
    "study.optimize(objective, n_trials=20)를 통해 20번의 실험을 진행합니다.\n",
    "최적의 하이퍼파라미터 조합과 그에 따른 정확도를 출력합니다."
   ]
  },
  {
   "cell_type": "code",
   "execution_count": 58,
   "id": "f912076f-78ee-42ef-86f7-eb9eb44f3084",
   "metadata": {},
   "outputs": [],
   "source": [
    "#스케쥴러+최적화\n",
    "def objective(trial):\n",
    "        # 하이퍼파라미터 제안\n",
    "    lr = trial.suggest_loguniform(\"lr\", 1e-4, 1e-2)\n",
    "    batch_size = trial.suggest_categorical(\"batch_size\", [32, 64, 128])\n",
    "\n",
    "\n",
    "    step_size=trial.suggest_int('step_size',3,10)\n",
    "    gamma=trial.suggest_float('gamma',0.1,0.9)\n",
    "\n",
    "    transform = transforms.Compose([\n",
    "        transforms.ToTensor(),\n",
    "        transforms.Normalize((0.1307,), (0.3081,))])\n",
    "        \n",
    "    train_data=datasets.MNIST(root='./data',train=True,download=True,transform=transform)\n",
    "    test_data=datasets.MNIST(root='./data',train=False,download=True,transform=transform)\n",
    "\n",
    "    train_loader=loader(train_data,batch_size=batch_size,shuffle=True)\n",
    "    test_loader=loader(test_data, batch_size=1000,shuffle=True)\n",
    "\n",
    "    model=simple_CNN()\n",
    "    criter=nn.CrossEntropyLoss()\n",
    "    #lr=0.001\n",
    "    optimy=optim.Adam(model.parameters(),lr=lr)\n",
    "    num_epoch=10\n",
    "\n",
    "    scadule=optim.lr_scaduler.StepLR(optimy,step_size=step_size, gamma=gamma)\n",
    "    train_mode(model,train_loader, criter,optimy,num_epoch=num_epoch)\n",
    "    test_acc,_,_=eval_mode(model,test_loader)\n",
    "    return test_acc"
   ]
  },
  {
   "cell_type": "code",
   "execution_count": null,
   "id": "a506479f-fd6c-46e5-96db-99afd645f46c",
   "metadata": {},
   "outputs": [],
   "source": [
    "def train_mode(model, train_loader, criter, optimy, num_epoch=5):\n",
    "    model.train()\n",
    "    train_history = []\n",
    "    for epoch in range(num_epoch):\n",
    "        total_loss = 0.0\n",
    "        for data, target in train_loader:\n",
    "            optimy.zero_grad()\n",
    "            out = model(data)\n",
    "            loss = criter(out, target)\n",
    "            loss.backward()\n",
    "            optimy.step()\n",
    "            total_loss += loss.item()  # 각 배치의 손실을 누적합니다.\n",
    "        scheduler.step()\n",
    "        avg_loss = total_loss / len(train_loader)  # 에폭당 평균 손실 계산\n",
    "        train_history.append(avg_loss)\n",
    "        print(f\"Epoch: {epoch+1}/{num_epoch}, Train Loss: {avg_loss:.4f}\")\n",
    "    return train_history\n"
   ]
  },
  {
   "cell_type": "code",
   "execution_count": null,
   "id": "d6b316f7-d6e3-420b-83b6-545c66c92024",
   "metadata": {},
   "outputs": [],
   "source": [
    "def eval_mode(model, test_loader):\n",
    "    model.eval()\n",
    "    total=0.0\n",
    "    correct=0.0\n",
    "    all_pred=[]\n",
    "    all_target=[]\n",
    "    with torch.no_grad():\n",
    "        for data,target in test_loader:\n",
    "            out=model(data)\n",
    "            pred=out.argmax(dim=1)\n",
    "            all_pred.extend(pred.cpu().numpy())\n",
    "            all_target.extend(target.cpu().numpy())\n",
    "            correct+=pred.eq(target).sum().item()\n",
    "            total+=data.size(0)\n",
    "    accuracy=100.0*correct/total\n",
    "    return accuracy, np.array(all_target), np.array(all_pred)"
   ]
  },
  {
   "cell_type": "code",
   "execution_count": null,
   "id": "2b1f0030-fd06-42cb-961a-1d1a0676fa58",
   "metadata": {},
   "outputs": [],
   "source": [
    "study = optuna.create_study(direction=\"maximize\")\n",
    "study.optimize(objective, n_trials=20)\n",
    "\n",
    "print(\"Best trial:\")\n",
    "best_trial = study.best_trial\n",
    "print(f\"  Accuracy: {best_trial.value:.2f}%\")\n",
    "for key, value in best_trial.params.items():\n",
    "    print(f\"  {key}: {value}\")"
   ]
  },
  {
   "cell_type": "raw",
   "id": "a732bab5-63cb-4203-bdc0-fde09c699853",
   "metadata": {},
   "source": [
    "모델 정의 (simple_CNN):\n",
    "\n",
    "CNN 모델은 두 개의 컨볼루션 레이어와 두 번의 풀링, 그리고 두 개의 완전 연결(FC) 레이어로 구성되어 있습니다.\n",
    "입력은 MNIST 이미지 (1, 28, 28)이고, 두 번의 풀링을 거치면 공간 차원이 7×7로 줄어들어, 평탄화 후 64×7×7 = 3136 차원의 벡터가 됩니다.\n",
    "최종 출력은 10 클래스에 대한 로짓을 반환합니다.\n",
    "\n",
    "train_mode 함수:\n",
    "\n",
    "학습 루프에서 각 배치마다 손실을 계산하고, gradient를 업데이트합니다.\n",
    "각 에폭 후에 scheduler.step()을 호출하여 학습률을 업데이트합니다.\n",
    "이 함수는 단순히 학습을 진행하며, 별도로 손실 기록을 반환하지 않도록 구현되어 있습니다(원한다면 반환하도록 수정할 수 있음).\n",
    "\n",
    "eval_mode 함수:\n",
    "\n",
    "평가 모드로 전환한 후, 테스트 데이터를 이용해 모델의 예측을 수행하고 정확도를 계산합니다.\n",
    "또한, 모든 예측과 실제 값을 배열로 모아 반환합니다.\n",
    "\n",
    "objective 함수:\n",
    "\n",
    "베이지안 최적화에서 각 trial마다 실험할 하이퍼파라미터를 제안받습니다.\n",
    "여기서는 학습률, 배치 크기 외에, 학습률 스케줄러의 step_size와 gamma도 제안받습니다.\n",
    "제안된 하이퍼파라미터를 이용해 데이터셋, DataLoader, 모델, 손실 함수, 옵티마이저, 그리고 학습률 스케줄러를 설정하고, 모델을 학습시킵니다.\n",
    "학습 후, 테스트 정확도를 평가하여 반환합니다. Optuna는 이 정확도를 최대화하는 방향으로 최적의 조합을 찾습니다.\n",
    "\n",
    "Optuna 스터디 실행:\n",
    "\n",
    "study = optuna.create_study(direction=\"maximize\")로 테스트 정확도를 최대화하는 스터디를 생성하고, study.optimize를 통해 20번의 실험을 진행합니다.\n",
    "최적의 하이퍼파라미터 조합과 정확도를 출력합니다.\n",
    "\n"
   ]
  },
  {
   "cell_type": "code",
   "execution_count": null,
   "id": "26bd9ab3-c9e8-49cd-8efb-3e5f196c1c5f",
   "metadata": {},
   "outputs": [],
   "source": []
  }
 ],
 "metadata": {
  "kernelspec": {
   "display_name": "Python 3 (ipykernel)",
   "language": "python",
   "name": "python3"
  },
  "language_info": {
   "codemirror_mode": {
    "name": "ipython",
    "version": 3
   },
   "file_extension": ".py",
   "mimetype": "text/x-python",
   "name": "python",
   "nbconvert_exporter": "python",
   "pygments_lexer": "ipython3",
   "version": "3.12.3"
  }
 },
 "nbformat": 4,
 "nbformat_minor": 5
}
