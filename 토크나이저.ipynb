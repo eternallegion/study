{
 "cells": [
  {
   "attachments": {
    "a349a546-22ee-49e3-8d4f-d6d0dc0bece1.png": {
     "image/png": "[encoded data removed]"
    }
   },
   "cell_type": "markdown",
   "id": "a2631eb5-6f99-4fec-8d97-c9cf2a7f1516",
   "metadata": {},
   "source": [
    "# 바이트 페어 인코딩(Byte Pair Encoding, BPE)\n",
    "기계에게 아무리 많은 단어를 학습시켜도 세상의 모든 단어를 알려줄 수는 없는 노릇입니다. 만약 기계가 모르는 단어가 등장하면 그 단어를 단어 집합에 없는 단어란 의미에서 해당 토큰을 UNK(Unknown Token)라고 표현합니다. 기계가 문제를 풀 때 모르는 단어가 등장하면 (사람도 마찬가지지만) 주어진 문제를 푸는 것이 까다로워집니다. 이와 같이 모르는 단어로 인해 문제를 푸는 것이 까다로워지는 상황을 OOV(Out-Of-Vocabulary) 문제라고 합니다.\n",
    "\n",
    "**서브워드 분리(Subword segmenation) 작업은 하나의 단어는 더 작은 단위의 의미있는 여러 서브워드들(Ex) birthplace = birth + place)의 조합으로 구성된 경우가 많기 때문에, 하나의 단어를 여러 서브워드로 분리해서 단어를 인코딩 및 임베딩하겠다는 의도를 가진 전처리 작업입니다.** 이를 통해 OOV나 희귀 단어, 신조어와 같은 문제를 완화시킬 수 있습니다. 실제로 언어의 특성으로 인해 영어나 한국어는 서브워드 분리를 시도했을 때 어느정도 의미있는 단위로 나누는 것이 가능합니다. 이 책에서는 이런 작업을 하는 토크나이저를 서브워드 토크나이저라고 명명합니다. 여기서는 OOV(Out-Of-Vocabulary) 문제를 완화하는 대표적인 서브워드 분리 알고리즘인 BPE(Byte Pair Encoding) 알고리즘을 소개합니다.\n",
    "\n",
    "## BPE(Byte Pair Encoding)\n",
    "BPE(Byte pair encoding) 알고리즘은 1994년에 제안된 데이터 압축 알고리즘입니다. \n",
    "하지만 후에 자연어 처리의 서브워드 분리 알고리즘으로 응용되었는데 이에 대해서는 뒤에 언급하도록 하고, 우선 기존의 BPE의 작동 방법에 대해서 이해해보겠습니다.\n",
    "\n",
    "aaabdaaabac\n",
    "BPE은 기본적으로 연속적으로 가장 많이 등장한 글자의 쌍을 찾아서 하나의 글자로 병합하는 방식을 수행합니다. 태생이 압축 알고리즘인 만큼, 여기서는 글자 대신 바이트(byte)라는 표현을 사용하겠습니다. 예를 들어 위의 문자열 중 가장 자주 등장하고 있는 바이트의 쌍(byte pair)은 'aa'입니다. 이 'aa'라는 바이트의 쌍을 하나의 바이트인 'Z'로 치환해보겠습니다.\n",
    "\n",
    "ZabdZabac\n",
    "Z=aa\n",
    "위 문자열 중에서 가장 많이 등장하고 있는 바이트의 쌍은 'ab'입니다. 이 'ab'를 'Y'로 치환해봅시다.\n",
    "\n",
    "ZYdZYac\n",
    "Y=ab\n",
    "Z=aa\n",
    "가장 많이 등장하고 있는 바이트의 쌍은 'ZY'입니다. 이를 'X'로 치환해봅시다.\n",
    "\n",
    "XdXac\n",
    "X=ZY\n",
    "Y=ab\n",
    "Z=aa\n",
    "더 이상 병합할 바이트의 쌍은 없으므로 BPE는 위의 결과를 최종 결과로 하여 종료됩니다.\n",
    "\n",
    "## 자연어 처리에서의 BPE(Byte Pair Encoding)\n",
    "논문 : https://arxiv.org/pdf/1508.07909.pdf\n",
    "\n",
    "자연어 처리에서의 BPE는 서브워드 분리(subword segmentation) 알고리즘입니다. 기존에 있던 단어를 분리한다는 의미입니다. BPE을 요약하면, 글자(charcter) 단위에서 점차적으로 단어 집합(vocabulary)을 만들어 내는 Bottom up 방식의 접근을 사용합니다. 우선 훈련 데이터에 있는 단어들을 모든 글자(chracters) 또는 유니코드(unicode) 단위로 단어 집합(vocabulary)를 만들고, 가장 많이 등장하는 유니그램을 하나의 유니그램으로 통합합니다.\n",
    "\n",
    "BPE을 자연어 처리에 사용한다고 제안한 논문(Sennrich et al. (2016))에서 이미 BPE의 코드를 공개하였다\n",
    "\n",
    "### 기존의 접근\n",
    "어떤 훈련 데이터로부터 각 단어들의 빈도수를 카운트했다고 해보겠습니다. 그리고 각 단어와 각 단어의 빈도수가 기록되어져 있는 해당 결과는 임의로 딕셔너리(dictionary)란 이름을 붙였습니다.\n",
    "\n",
    " dictionary\n",
    "\n",
    " 훈련 데이터에 있는 단어와 등장 빈도수\n",
    "low : 5, lower : 2, newest : 6, widest : 3\n",
    "\n",
    "이 훈련 데이터에는 'low'란 단어가 5회 등장하였고, 'lower'란 단어는 2회 등장하였으며, 'newest'란 단어는 6회, 'widest'란 단어는 3회 등장하였다는 의미입니다. 그렇다면 딕셔너리로부터 이 훈련 데이터의 단어 집합(vocabulary)을 얻는 것은 간단합니다.\n",
    "\n",
    " vocabulary\n",
    " \n",
    "low, lower, newest, widest\n",
    "\n",
    "단어 집합은 중복을 배제한 단어들의 집합을 의미하므로 기존에 배운 단어 집합의 정의라면, 이 훈련 데이터의 단어 집합에는 'low', 'lower', 'newest', 'widest'라는 4개의 단어가 존재합니다. 그리고 이 경우 테스트 과정에서 'lowest'란 단어가 등장한다면 기계는 이 단어를 학습한 적이 없으므로 해당 단어에 대해서 제대로 대응하지 못하는 OOV 문제가 발생합니다. 그렇다면 BPE를 적용한다면 어떨까요?\n",
    "\n",
    "### BPE 알고리즘을 사용한 경우\n",
    "\n",
    "위의 딕셔너리에 BPE를 적용해봅시다. 우선 딕셔너리의 모든 단어들을 글자(chracter) 단위로 분리합니다. 이 경우 딕셔너리는 아래와 같습니다. 이제부터 딕셔너리는 자신 또한 업데이트되며 앞으로 단어 집합을 업데이트하기 위해 지속적으로 참고되는 참고 자료의 역할을 합니다.\n",
    "\n",
    " dictionary\n",
    "\n",
    "l o w : 5,  l o w e r : 2,  n e w e s t : 6,  w i d e s t : 3\n",
    "딕셔너리를 참고로 한 초기 단어 집합(vocabulary)을 아래와 같습니다. 간단히 말해 초기 구성은 글자 단위로 분리된 상태입니다.\n",
    "\n",
    " vocabulary\n",
    "\n",
    "l, o, w, e, r, n, s, t, i, d\n",
    "BPE의 특징은 알고리즘의 동작을 몇 회 반복(iteration)할 것인지를 사용자가 정한다는 점입니다. 여기서는 총 10회를 수행한다고 가정합니다. 다시 말해 가장 빈도수가 높은 유니그램의 쌍을 하나의 유니그램으로 통합하는 과정을 총 10회 반복합니다. 위의 딕셔너리에 따르면 빈도수가 현재 가장 높은 유니그램의 쌍은 (e, s)입니다.\n",
    "\n",
    "1회 - 딕셔너리를 참고로 하였을 때 빈도수가 9로 가장 높은 (e, s)의 쌍을 es로 통합합니다.\n",
    "\n",
    " dictionary update!\n",
    "\n",
    "l o w : 5,\n",
    "l o w e r : 2,\n",
    "n e w es t : 6,\n",
    "w i d es t : 3\n",
    "\n",
    " vocabulary update!\n",
    "\n",
    "l, o, w, e, r, n, s, t, i, d, es\n",
    "2회 - 빈도수가 9로 가장 높은 (es, t)의 쌍을 est로 통합합니다.\n",
    "\n",
    " dictionary update!\n",
    "\n",
    "l o w : 5,\n",
    "l o w e r : 2,\n",
    "n e w est : 6,\n",
    "w i d est : 3\n",
    "\n",
    " vocabulary update!\n",
    "\n",
    "l, o, w, e, r, n, s, t, i, d, es, est\n",
    "3회 - 빈도수가 7로 가장 높은 (l, o)의 쌍을 lo로 통합합니다.\n",
    "\n",
    " dictionary update!\n",
    "\n",
    "lo w : 5,\n",
    "lo w e r : 2,\n",
    "n e w est : 6,\n",
    "w i d est : 3\n",
    "\n",
    " vocabulary update!\n",
    "\n",
    "l, o, w, e, r, n, s, t, i, d, es, est, lo\n",
    "\n",
    "이와 같은 방식으로 총 10회 반복하였을 때 얻은 딕셔너리와 단어 집합은 아래와 같습니다.\n",
    "\n",
    " dictionary update!\n",
    "\n",
    "low : 5,\n",
    "low e r : 2,\n",
    "newest : 6,\n",
    "widest : 3\n",
    "\n",
    " vocabulary update!\n",
    "\n",
    "l, o, w, e, r, n, s, t, i, d, es, est, lo, low, ne, new, newest, wi, wid, widest\n",
    "\n",
    "이 경우 테스트 과정에서 'lowest'란 단어가 등장한다면, 기존에는 OOV에 해당되는 단어가 되었겠지만 BPE 알고리즘을 사용한 위의 단어 집합에서는 더 이상 'lowest'는 OOV가 아닙니다. 기계는 우선 'lowest'를 전부 글자 단위로 분할합니다. 즉, 'l, o, w, e, s, t'가 됩니다. 그리고 기계는 위의 단어 집합을 참고로 하여 'low'와 'est'를 찾아냅니다. 즉, 'lowest'를 기계는 'low'와 'est' 두 단어로 인코딩합니다. 그리고 이 두 단어는 둘 다 단어 집합에 있는 단어이므로 OOV가 아닙니다.\n",
    "\n",
    "이 동작 과정을 그림으로 표현한다면 다음과 같습니다.\n",
    "\n",
    "![그림.png](attachment:a349a546-22ee-49e3-8d4f-d6d0dc0bece1.png)"
   ]
  },
  {
   "cell_type": "code",
   "execution_count": 8,
   "id": "146fe5f2-0add-4ef1-a73a-3018c7b9ed83",
   "metadata": {},
   "outputs": [
    {
     "data": {
      "text/markdown": [
       "### Iteration 1"
      ],
      "text/plain": [
       "<IPython.core.display.Markdown object>"
      ]
     },
     "metadata": {},
     "output_type": "display_data"
    },
    {
     "name": "stdout",
     "output_type": "stream",
     "text": [
      "현재 pair들의 빈도수 : {('l', 'o'): 5, ('o', 'w'): 5, ('w', '</w>'): 5}\n",
      "new merge: ('l', 'o')\n",
      "dictionary: {'l o w </w>': 5, 'l o w e r </w>': 2, 'n e w e s t </w>': 6, 'w i d e s t </w>': 3}\n"
     ]
    },
    {
     "data": {
      "text/markdown": [
       "### Iteration 2"
      ],
      "text/plain": [
       "<IPython.core.display.Markdown object>"
      ]
     },
     "metadata": {},
     "output_type": "display_data"
    },
    {
     "name": "stdout",
     "output_type": "stream",
     "text": [
      "현재 pair들의 빈도수 : {('l', 'o'): 5, ('o', 'w'): 5, ('w', '</w>'): 5}\n",
      "new merge: ('l', 'o')\n",
      "dictionary: {'l o w </w>': 5, 'l o w e r </w>': 2, 'n e w e s t </w>': 6, 'w i d e s t </w>': 3}\n"
     ]
    },
    {
     "data": {
      "text/markdown": [
       "### Iteration 3"
      ],
      "text/plain": [
       "<IPython.core.display.Markdown object>"
      ]
     },
     "metadata": {},
     "output_type": "display_data"
    },
    {
     "name": "stdout",
     "output_type": "stream",
     "text": [
      "현재 pair들의 빈도수 : {('l', 'o'): 5, ('o', 'w'): 5, ('w', '</w>'): 5}\n",
      "new merge: ('l', 'o')\n",
      "dictionary: {'l o w </w>': 5, 'l o w e r </w>': 2, 'n e w e s t </w>': 6, 'w i d e s t </w>': 3}\n"
     ]
    },
    {
     "data": {
      "text/markdown": [
       "### Iteration 4"
      ],
      "text/plain": [
       "<IPython.core.display.Markdown object>"
      ]
     },
     "metadata": {},
     "output_type": "display_data"
    },
    {
     "name": "stdout",
     "output_type": "stream",
     "text": [
      "현재 pair들의 빈도수 : {('l', 'o'): 5, ('o', 'w'): 5, ('w', '</w>'): 5}\n",
      "new merge: ('l', 'o')\n",
      "dictionary: {'l o w </w>': 5, 'l o w e r </w>': 2, 'n e w e s t </w>': 6, 'w i d e s t </w>': 3}\n"
     ]
    },
    {
     "data": {
      "text/markdown": [
       "### Iteration 5"
      ],
      "text/plain": [
       "<IPython.core.display.Markdown object>"
      ]
     },
     "metadata": {},
     "output_type": "display_data"
    },
    {
     "name": "stdout",
     "output_type": "stream",
     "text": [
      "현재 pair들의 빈도수 : {('l', 'o'): 5, ('o', 'w'): 5, ('w', '</w>'): 5}\n",
      "new merge: ('l', 'o')\n",
      "dictionary: {'l o w </w>': 5, 'l o w e r </w>': 2, 'n e w e s t </w>': 6, 'w i d e s t </w>': 3}\n"
     ]
    },
    {
     "data": {
      "text/markdown": [
       "### Iteration 6"
      ],
      "text/plain": [
       "<IPython.core.display.Markdown object>"
      ]
     },
     "metadata": {},
     "output_type": "display_data"
    },
    {
     "name": "stdout",
     "output_type": "stream",
     "text": [
      "현재 pair들의 빈도수 : {('l', 'o'): 5, ('o', 'w'): 5, ('w', '</w>'): 5}\n",
      "new merge: ('l', 'o')\n",
      "dictionary: {'l o w </w>': 5, 'l o w e r </w>': 2, 'n e w e s t </w>': 6, 'w i d e s t </w>': 3}\n"
     ]
    },
    {
     "data": {
      "text/markdown": [
       "### Iteration 7"
      ],
      "text/plain": [
       "<IPython.core.display.Markdown object>"
      ]
     },
     "metadata": {},
     "output_type": "display_data"
    },
    {
     "name": "stdout",
     "output_type": "stream",
     "text": [
      "현재 pair들의 빈도수 : {('l', 'o'): 5, ('o', 'w'): 5, ('w', '</w>'): 5}\n",
      "new merge: ('l', 'o')\n",
      "dictionary: {'l o w </w>': 5, 'l o w e r </w>': 2, 'n e w e s t </w>': 6, 'w i d e s t </w>': 3}\n"
     ]
    },
    {
     "data": {
      "text/markdown": [
       "### Iteration 8"
      ],
      "text/plain": [
       "<IPython.core.display.Markdown object>"
      ]
     },
     "metadata": {},
     "output_type": "display_data"
    },
    {
     "name": "stdout",
     "output_type": "stream",
     "text": [
      "현재 pair들의 빈도수 : {('l', 'o'): 5, ('o', 'w'): 5, ('w', '</w>'): 5}\n",
      "new merge: ('l', 'o')\n",
      "dictionary: {'l o w </w>': 5, 'l o w e r </w>': 2, 'n e w e s t </w>': 6, 'w i d e s t </w>': 3}\n"
     ]
    },
    {
     "data": {
      "text/markdown": [
       "### Iteration 9"
      ],
      "text/plain": [
       "<IPython.core.display.Markdown object>"
      ]
     },
     "metadata": {},
     "output_type": "display_data"
    },
    {
     "name": "stdout",
     "output_type": "stream",
     "text": [
      "현재 pair들의 빈도수 : {('l', 'o'): 5, ('o', 'w'): 5, ('w', '</w>'): 5}\n",
      "new merge: ('l', 'o')\n",
      "dictionary: {'l o w </w>': 5, 'l o w e r </w>': 2, 'n e w e s t </w>': 6, 'w i d e s t </w>': 3}\n"
     ]
    },
    {
     "data": {
      "text/markdown": [
       "### Iteration 10"
      ],
      "text/plain": [
       "<IPython.core.display.Markdown object>"
      ]
     },
     "metadata": {},
     "output_type": "display_data"
    },
    {
     "name": "stdout",
     "output_type": "stream",
     "text": [
      "현재 pair들의 빈도수 : {('l', 'o'): 5, ('o', 'w'): 5, ('w', '</w>'): 5}\n",
      "new merge: ('l', 'o')\n",
      "dictionary: {'l o w </w>': 5, 'l o w e r </w>': 2, 'n e w e s t </w>': 6, 'w i d e s t </w>': 3}\n",
      "======================================\n",
      "{('l', 'o'): 9}\n"
     ]
    }
   ],
   "source": [
    "import re, collections\n",
    "from IPython.display import display,Markdown,Latex\n",
    "\n",
    "num_merger=10\n",
    "dictionary = {'l o w </w>' : 5,\n",
    "         'l o w e r </w>' : 2,\n",
    "         'n e w e s t </w>':6,\n",
    "         'w i d e s t </w>':3\n",
    "         }\n",
    "\n",
    "def get_stats(dictionary):\n",
    "    pairs=collections.defaultdict(int)\n",
    "    for word,freq in dictionary.items():\n",
    "        symbol=word.split()\n",
    "        for i in range(len(symbol)-1):\n",
    "            pairs[symbol[i],symbol[i+1]]+=freq\n",
    "        print('현재 pair들의 빈도수 :', dict(pairs))\n",
    "        return pairs\n",
    "\n",
    "def merger_dic(pair,v_in):\n",
    "    v_out={}\n",
    "    bigram=re.escape(''.join(pair))  #escape(pattern):escape()는 패턴을 입력 받으면 특수문자들에 이스케이프(백슬래쉬) 처리를 한 다음 반환합니다.\n",
    "    p=re.compile(r'(?<!\\S)'+bigram+r'(?!\\S)')\n",
    "\n",
    "    for word in v_in:\n",
    "        w_out=p.sub(''.join(pair),word)\n",
    "        v_out[w_out]=v_in[word]\n",
    "    return v_out\n",
    "\n",
    "bpe={}\n",
    "bpe_reverse={}\n",
    "\n",
    "for i in range(num_merger):\n",
    "    display(Markdown(\"### Iteration {}\".format(i + 1)))\n",
    "    pairs=get_stats(dictionary)\n",
    "    best=max(pairs,key=pairs.get)\n",
    "    dictionary=merger_dic(best,dictionary)\n",
    "    bpe[best]=i\n",
    "    bpe_reverse[best[0]+best[1]]=best\n",
    "    \n",
    "    print(\"new merge: {}\".format(best))\n",
    "    print(\"dictionary: {}\".format(dictionary))\n",
    "\n",
    "print('======================================')\n",
    "print(bpe)"
   ]
  },
  {
   "cell_type": "code",
   "execution_count": 19,
   "id": "a4eed5c4-23b3-4b75-96e4-318c430cb37f",
   "metadata": {},
   "outputs": [
    {
     "data": {
      "text/markdown": [
       "__word split into charactors:__<tt>('l', 'o', 'k', 'i', '</w>')</tt>"
      ],
      "text/plain": [
       "<IPython.core.display.Markdown object>"
      ]
     },
     "metadata": {},
     "output_type": "display_data"
    },
    {
     "data": {
      "text/markdown": [
       "__Iteration__1:"
      ],
      "text/plain": [
       "<IPython.core.display.Markdown object>"
      ]
     },
     "metadata": {},
     "output_type": "display_data"
    },
    {
     "name": "stdout",
     "output_type": "stream",
     "text": [
      "bigrams in the word: {('l', 'l')}\n",
      "candidate for merging: ('l', 'l')\n"
     ]
    },
    {
     "data": {
      "text/markdown": [
       "__Candidate not inBPE merger,algorithm stops.__"
      ],
      "text/plain": [
       "<IPython.core.display.Markdown object>"
      ]
     },
     "metadata": {},
     "output_type": "display_data"
    },
    {
     "data": {
      "text/markdown": [
       "__word split into charactors:__<tt>('l', 'o', 'w', 'e', 's', 't', '</w>')</tt>"
      ],
      "text/plain": [
       "<IPython.core.display.Markdown object>"
      ]
     },
     "metadata": {},
     "output_type": "display_data"
    },
    {
     "data": {
      "text/markdown": [
       "__Iteration__1:"
      ],
      "text/plain": [
       "<IPython.core.display.Markdown object>"
      ]
     },
     "metadata": {},
     "output_type": "display_data"
    },
    {
     "name": "stdout",
     "output_type": "stream",
     "text": [
      "bigrams in the word: {('l', 'l')}\n",
      "candidate for merging: ('l', 'l')\n"
     ]
    },
    {
     "data": {
      "text/markdown": [
       "__Candidate not inBPE merger,algorithm stops.__"
      ],
      "text/plain": [
       "<IPython.core.display.Markdown object>"
      ]
     },
     "metadata": {},
     "output_type": "display_data"
    },
    {
     "data": {
      "text/markdown": [
       "__word split into charactors:__<tt>('l', 'o', 'w', 'i', 'n', 'g', '</w>')</tt>"
      ],
      "text/plain": [
       "<IPython.core.display.Markdown object>"
      ]
     },
     "metadata": {},
     "output_type": "display_data"
    },
    {
     "data": {
      "text/markdown": [
       "__Iteration__1:"
      ],
      "text/plain": [
       "<IPython.core.display.Markdown object>"
      ]
     },
     "metadata": {},
     "output_type": "display_data"
    },
    {
     "name": "stdout",
     "output_type": "stream",
     "text": [
      "bigrams in the word: {('l', 'l')}\n",
      "candidate for merging: ('l', 'l')\n"
     ]
    },
    {
     "data": {
      "text/markdown": [
       "__Candidate not inBPE merger,algorithm stops.__"
      ],
      "text/plain": [
       "<IPython.core.display.Markdown object>"
      ]
     },
     "metadata": {},
     "output_type": "display_data"
    },
    {
     "data": {
      "text/plain": [
       "('l', 'o', 'w', 'i', 'n', 'g')"
      ]
     },
     "execution_count": 19,
     "metadata": {},
     "output_type": "execute_result"
    }
   ],
   "source": [
    "#OOV에 대처하기\n",
    "def get_pair(word):\n",
    "    \"\"\"Return set of symbol pairs in a word.\n",
    "    Word is represented as a tuple of symbols (symbols being variable-length strings).\n",
    "    \"\"\"    \n",
    "    pairs=set()\n",
    "    prev_char=word[0]\n",
    "    for char in word[:1]:\n",
    "        pairs.add((prev_char,char))\n",
    "        prev_char=char\n",
    "    return pairs\n",
    "\n",
    "\n",
    "def encode(orig):\n",
    "    \"\"\"Encode word based on list of BPE merge operations, which are applied consecutively\"\"\"\n",
    "    word=tuple(orig)+('</w>',)\n",
    "    display(Markdown('__word split into charactors:__<tt>{}</tt>'.format(word)))\n",
    "\n",
    "    pairs=get_pair(word)\n",
    "    if not pairs:\n",
    "        return orig\n",
    "    iteration=0\n",
    "    while True:\n",
    "        iteration+=1\n",
    "        display(Markdown('__Iteration__{}:'.format(iteration)))\n",
    "        print(\"bigrams in the word: {}\".format(pairs))\n",
    "        bigram = min(pairs, key = lambda pair: bpe.get(pair, float('inf')))\n",
    "        print(\"candidate for merging: {}\".format(bigram))\n",
    "\n",
    "\n",
    "        if bigram not in bpe:\n",
    "            display(Markdown('__Candidate not inBPE merger,algorithm stops.__'))\n",
    "            break\n",
    "        first,second=bigram\n",
    "        new_word=[]\n",
    "        i=0\n",
    "        while i<len(word):\n",
    "            try:\n",
    "                j=word.index(first,i)\n",
    "                new_word.extend(word[i:j])\n",
    "                i=j\n",
    "            except:\n",
    "                new_word.extend(word[i:])\n",
    "                break\n",
    "\n",
    "        if word[i]==first and i<len(word)-1 and word[i+1]==second:\n",
    "            new_word.append(first+second)\n",
    "            i+=2\n",
    "        else:\n",
    "            new_word.append(word[i])\n",
    "            i+=1\n",
    "        new_word=tulpe(new_word)\n",
    "        word=new_word\n",
    "        print(\"word after merging: {}\".format(word))\n",
    "        if len(word):\n",
    "            break\n",
    "        else:\n",
    "            pairs=get_pair\n",
    "\n",
    "    if word[-1]=='</w>':\n",
    "        word=word[:-1]\n",
    "    elif wordp[-1].endswith('</w>'):\n",
    "        word=word[:1]+(word[-1].replace('</w>',''),)\n",
    "\n",
    "    return word\n",
    "\n",
    "encode(\"loki\")\n",
    "encode(\"lowest\")\n",
    "encode(\"lowing\")\n",
    "encode(\"highing\")\n"
   ]
  },
  {
   "cell_type": "code",
   "execution_count": 36,
   "id": "c03c43f8-b4cf-467e-a699-455635019af7",
   "metadata": {},
   "outputs": [
    {
     "data": {
      "text/markdown": [
       "__word split into characters:__ <tt>('l', 'o', 'w', 'i', 'n', 'g', '</w>')</tt>"
      ],
      "text/plain": [
       "<IPython.core.display.Markdown object>"
      ]
     },
     "metadata": {},
     "output_type": "display_data"
    },
    {
     "data": {
      "text/markdown": [
       "__Iteration 1:__"
      ],
      "text/plain": [
       "<IPython.core.display.Markdown object>"
      ]
     },
     "metadata": {},
     "output_type": "display_data"
    },
    {
     "name": "stdout",
     "output_type": "stream",
     "text": [
      "bigrams in the word: {('n', 'g'), ('l', 'o'), ('g', '</w>'), ('i', 'n'), ('w', 'i'), ('o', 'w')}\n",
      "candidate for merging: ('l', 'o')\n",
      "word after merging: ('lo', 'w', 'i', 'n', 'g', '</w>')\n"
     ]
    },
    {
     "data": {
      "text/markdown": [
       "__Iteration 2:__"
      ],
      "text/plain": [
       "<IPython.core.display.Markdown object>"
      ]
     },
     "metadata": {},
     "output_type": "display_data"
    },
    {
     "name": "stdout",
     "output_type": "stream",
     "text": [
      "bigrams in the word: {('lo', 'w'), ('n', 'g'), ('g', '</w>'), ('i', 'n'), ('w', 'i')}\n",
      "candidate for merging: ('lo', 'w')\n"
     ]
    },
    {
     "data": {
      "text/markdown": [
       "__Candidate not in BPE merges, algorithm stops.__"
      ],
      "text/plain": [
       "<IPython.core.display.Markdown object>"
      ]
     },
     "metadata": {},
     "output_type": "display_data"
    },
    {
     "data": {
      "text/plain": [
       "('lo', 'w', 'i', 'n', 'g')"
      ]
     },
     "execution_count": 36,
     "metadata": {},
     "output_type": "execute_result"
    }
   ],
   "source": [
    "def get_pairs(word):\n",
    "    \"\"\"Return set of symbol pairs in a word.\n",
    "    Word is represented as a tuple of symbols (symbols being variable-length strings).\n",
    "    \"\"\"\n",
    "    pairs = set()\n",
    "    prev_char = word[0]\n",
    "    for char in word[1:]:\n",
    "        pairs.add((prev_char, char))\n",
    "        prev_char = char\n",
    "    return pairs\n",
    "\n",
    "\n",
    "def encode(orig):\n",
    "    \"\"\"Encode word based on list of BPE merge operations, which are applied consecutively\"\"\"\n",
    "\n",
    "    word = tuple(orig) + ('</w>',)\n",
    "    display(Markdown(\"__word split into characters:__ <tt>{}</tt>\".format(word)))\n",
    "\n",
    "    pairs = get_pairs(word)    \n",
    "\n",
    "    if not pairs:\n",
    "        return orig\n",
    "\n",
    "    iteration = 0\n",
    "    while True:\n",
    "        iteration += 1\n",
    "        display(Markdown(\"__Iteration {}:__\".format(iteration)))\n",
    "\n",
    "        print(\"bigrams in the word: {}\".format(pairs))\n",
    "        bigram = min(pairs, key = lambda pair: bpe.get(pair, float('inf')))\n",
    "        print(\"candidate for merging: {}\".format(bigram))\n",
    "        if bigram not in bpe:\n",
    "            display(Markdown(\"__Candidate not in BPE merges, algorithm stops.__\"))\n",
    "            break\n",
    "        first, second = bigram\n",
    "        new_word = []\n",
    "        i = 0\n",
    "        while i < len(word):\n",
    "            try:\n",
    "                j = word.index(first, i)\n",
    "                new_word.extend(word[i:j])\n",
    "                i = j\n",
    "            except:\n",
    "                new_word.extend(word[i:])\n",
    "                break\n",
    "\n",
    "            if word[i] == first and i < len(word)-1 and word[i+1] == second:\n",
    "                new_word.append(first+second)\n",
    "                i += 2\n",
    "            else:\n",
    "                new_word.append(word[i])\n",
    "                i += 1\n",
    "        new_word = tuple(new_word)\n",
    "        word = new_word\n",
    "        print(\"word after merging: {}\".format(word))\n",
    "        if len(word) == 1:\n",
    "            break\n",
    "        else:\n",
    "            pairs = get_pairs(word)\n",
    "\n",
    "    # 특별 토큰인 </w>는 출력하지 않는다.\n",
    "    if word[-1] == '</w>':\n",
    "        word = word[:-1]\n",
    "    elif word[-1].endswith('</w>'):\n",
    "        word = word[:-1] + (word[-1].replace('</w>',''),)\n",
    "\n",
    "    return word\n",
    "\n",
    "\n",
    "encode(\"lowing\")\n"
   ]
  },
  {
   "cell_type": "markdown",
   "id": "64ae4b94-2a1a-43a6-ae23-690a63ba3461",
   "metadata": {},
   "source": [
    "### WordPiece Tokenizer\n",
    "논문 : https://static.googleusercontent.com/media/research.google.com/ko//pubs/archive/37842.pdf\n",
    "구글이 위 WordPiece Tokenizer를 변형하여 번역기에 사용했다는 논문 : https://arxiv.org/pdf/1609.08144.pdf\n",
    "\n",
    "WordPiece Tokenizer은 BPE의 변형 알고리즘입니다. 해당 알고리즘은 BPE가 빈도수에 기반하여 가장 많이 등장한 쌍을 병합하는 것과는 달리, 병합되었을 때 코퍼스의 우도(Likelihood)를 가장 높이는 쌍을 병합합니다. 2016년의 위 논문에서 구글은 구글 번역기에서 WordPiece Tokenizer가 수행된 결과에 대해서 기술하였습니다.\n",
    "\n",
    "수행하기 이전의 문장: Jet makers feud over seat width with big orders at stake\n",
    "WordPiece Tokenizer를 수행한 결과(wordpieces): _J et _makers _fe ud _over _seat _width _with _big _orders _at _stake\n",
    "\n",
    "Jet는 J와 et로 나누어졌으며, feud는 fe와 ud로 나누어진 것을 볼 수 있습니다. WordPiece Tokenizer는 모든 단어의 맨 앞에 _를 붙이고, 단어는 서브 워드(subword)로 통계에 기반하여 띄어쓰기로 분리합니다. 여기서 언더바 _는 문장 복원을 위한 장치입니다.\n",
    "\n",
    "예컨대, WordPiece Tokenizer의 결과로 나온 문장을 보면, Jet → _J et와 같이 기존에 없던 띄어쓰기가 추가되어 서브 워드(subwords)들을 구분하는 구분자 역할을 하고 있습니다. 그렇다면 기존에 있던 띄어쓰기와 구분자 역할의 띄어쓰기는 어떻게 구별할까요? 이 역할을 수행하는 것이 단어들 앞에 붙은 언더바 _입니다. WordPiece Tokenizer이 수행된 결과로부터 다시 수행 전의 결과로 돌리는 방법은 현재 있는 모든 띄어쓰기를 전부 제거하고, 언더바를 띄어쓰기로 바꾸면 됩니다.\n",
    "\n",
    "이 알고리즘은 유명 딥 러닝 모델 BERT를 훈련하기 위해서 사용되기도 하였습니다.\n",
    "\n",
    "### Unigram Language Model Tokenizer\n",
    "논문 : https://arxiv.org/pdf/1804.10959.pdf\n",
    "\n",
    "유니그램 언어 모델 토크나이저는 각각의 서브워드들에 대해서 손실(loss)을 계산합니다. 여기서 서브 단어의 손실이라는 것은 해당 서브워드가 단어 집합에서 제거되었을 경우, 코퍼스의 우도(Likelihood)가 감소하는 정도를 말합니다. 이렇게 측정된 서브워드들을 손실의 정도로 정렬하여, 최악의 영향을 주는 10~20%의 토큰을 제거합니다. 이를 원하는 단어 집합의 크기에 도달할 때까지 반복합니다.\n",
    "\n",
    "지금까지 서브워드 토크나이징 알고리즘들에 대해서 정리해보았습니다. 이어서 이를 실무에서 사용하기 위한 패키지인 센텐스피스(SentencePiece)나 토크나이저스(tokenizers)의 사용법에 대해서 학습합니다."
   ]
  },
  {
   "cell_type": "code",
   "execution_count": null,
   "id": "25e94b5a-7627-4158-ba7a-de913cec3aa7",
   "metadata": {},
   "outputs": [],
   "source": []
  },
  {
   "cell_type": "markdown",
   "id": "a925b8f4-9b20-46b9-acce-c9cb0d6447e8",
   "metadata": {},
   "source": [
    "# 센텐스피스(SentencePiece)\n",
    "앞서 서브워드 토큰화를 위한 BPE(Byte Pair Encoding) 알고리즘과 그 외 BPE의 변형 알고리즘에 대해서 간단히 언급했습니다. BPE를 포함하여 기타 서브워드 토크나이징 알고리즘들을 내장한 센텐스피스(SentencePiece)는 일반적으로 실무에서 선택할 수 있는 최선의 선택 중 하나입니다.\n",
    "\n",
    "### 센텐스피스(SentencePiece)\n",
    "논문 : https://arxiv.org/pdf/1808.06226.pdf\n",
    "센텐스피스 깃허브 : https://github.com/google/sentencepiece\n",
    "\n",
    "내부 단어 분리를 위한 유용한 패키지로 구글의 센텐스피스(Sentencepiece)가 있습니다. 구글은 BPE 알고리즘과 Unigram Language Model Tokenizer를 구현한 센텐스피스를 깃허브에 공개하였습니다.\n",
    "\n",
    "내부 단어 분리 알고리즘을 사용하기 위해서, 데이터에 단어 토큰화를 먼저 진행한 상태여야 한다면 이 단어 분리 알고리즘을 모든 언어에 사용하는 것은 쉽지 않습니다. 영어와 달리 한국어와 같은 언어는 단어 토큰화부터가 쉽지 않기 때문입니다. 그런데, 이런 사전 토큰화 작업(pretokenization)없이 전처리를 하지 않은 데이터(raw data)에 바로 단어 분리 토크나이저를 사용할 수 있다면, 이 토크나이저는 그 어떤 언어에도 적용할 수 있는 토크나이저가 될 것입니다. 센텐스피스는 이 이점을 살려서 구현되었습니다. 센텐스피스는 사전 토큰화 작업없이 단어 분리 토큰화를 수행하므로 언어에 종속되지 않습니다.\n",
    "\n",
    "pip install sentencepiece"
   ]
  },
  {
   "cell_type": "code",
   "execution_count": 39,
   "id": "e3e06807-0764-47ca-8293-90f713c0cfff",
   "metadata": {},
   "outputs": [
    {
     "name": "stdout",
     "output_type": "stream",
     "text": [
      "리뷰 개수 : 50000\n"
     ]
    },
    {
     "name": "stderr",
     "output_type": "stream",
     "text": [
      "sentencepiece_trainer.cc(177) LOG(INFO) Running command: --input=imdb_review.txt --model_prefix=imdb --vocab_size=5000 --model_type=bpe --max_sentence_length=9999\n",
      "sentencepiece_trainer.cc(77) LOG(INFO) Starts training with : \n",
      "trainer_spec {\n",
      "  input: imdb_review.txt\n",
      "  input_format: \n",
      "  model_prefix: imdb\n",
      "  model_type: BPE\n",
      "  vocab_size: 5000\n",
      "  self_test_sample_size: 0\n",
      "  character_coverage: 0.9995\n",
      "  input_sentence_size: 0\n",
      "  shuffle_input_sentence: 1\n",
      "  seed_sentencepiece_size: 1000000\n",
      "  shrinking_factor: 0.75\n",
      "  max_sentence_length: 9999\n",
      "  num_threads: 16\n",
      "  num_sub_iterations: 2\n",
      "  max_sentencepiece_length: 16\n",
      "  split_by_unicode_script: 1\n",
      "  split_by_number: 1\n",
      "  split_by_whitespace: 1\n",
      "  split_digits: 0\n",
      "  pretokenization_delimiter: \n",
      "  treat_whitespace_as_suffix: 0\n",
      "  allow_whitespace_only_pieces: 0\n",
      "  required_chars: \n",
      "  byte_fallback: 0\n",
      "  vocabulary_output_piece_score: 1\n",
      "  train_extremely_large_corpus: 0\n",
      "  hard_vocab_limit: 1\n",
      "  use_all_vocab: 0\n",
      "  unk_id: 0\n",
      "  bos_id: 1\n",
      "  eos_id: 2\n",
      "  pad_id: -1\n",
      "  unk_piece: <unk>\n",
      "  bos_piece: <s>\n",
      "  eos_piece: </s>\n",
      "  pad_piece: <pad>\n",
      "  unk_surface:  ⁇ \n",
      "  enable_differential_privacy: 0\n",
      "  differential_privacy_noise_level: 0\n",
      "  differential_privacy_clipping_threshold: 0\n",
      "}\n",
      "normalizer_spec {\n",
      "  name: nmt_nfkc\n",
      "  add_dummy_prefix: 1\n",
      "  remove_extra_whitespaces: 1\n",
      "  escape_whitespaces: 1\n",
      "  normalization_rule_tsv: \n",
      "}\n",
      "denormalizer_spec {}\n",
      "trainer_interface.cc(351) LOG(INFO) SentenceIterator is not specified. Using MultiFileSentenceIterator.\n",
      "trainer_interface.cc(183) LOG(INFO) Loading corpus: imdb_review.txt\n",
      "trainer_interface.cc(378) LOG(WARNING) Found too long line (10321 > 9999).\n",
      "trainer_interface.cc(380) LOG(WARNING) Too long lines are skipped in the training.\n",
      "trainer_interface.cc(381) LOG(WARNING) The maximum length can be changed with --max_sentence_length=<size> flag.\n",
      "trainer_interface.cc(407) LOG(INFO) Loaded all 49994 sentences\n",
      "trainer_interface.cc(414) LOG(INFO) Skipped 6 too long sentences.\n",
      "trainer_interface.cc(423) LOG(INFO) Adding meta_piece: <unk>\n",
      "trainer_interface.cc(423) LOG(INFO) Adding meta_piece: <s>\n",
      "trainer_interface.cc(423) LOG(INFO) Adding meta_piece: </s>\n",
      "trainer_interface.cc(428) LOG(INFO) Normalizing sentences...\n",
      "trainer_interface.cc(537) LOG(INFO) all chars count=65449658\n",
      "trainer_interface.cc(548) LOG(INFO) Done: 99.9552% characters are covered.\n",
      "trainer_interface.cc(558) LOG(INFO) Alphabet size=76\n",
      "trainer_interface.cc(559) LOG(INFO) Final character coverage=0.999552\n",
      "trainer_interface.cc(591) LOG(INFO) Done! preprocessed 49994 sentences.\n",
      "trainer_interface.cc(597) LOG(INFO) Tokenizing input sentences with whitespace: 49994\n",
      "trainer_interface.cc(608) LOG(INFO) Done! 438648\n",
      "bpe_model_trainer.cc(159) LOG(INFO) Updating active symbols. max_freq=1557312 min_freq=373\n",
      "bpe_model_trainer.cc(268) LOG(INFO) Added: freq=384101 size=20 all=3611 active=1972 piece=en\n",
      "bpe_model_trainer.cc(268) LOG(INFO) Added: freq=220588 size=40 all=4932 active=3293 piece=om\n",
      "bpe_model_trainer.cc(268) LOG(INFO) Added: freq=158358 size=60 all=6355 active=4716 piece=ie\n",
      "bpe_model_trainer.cc(268) LOG(INFO) Added: freq=106638 size=80 all=7931 active=6292 piece=id\n",
      "bpe_model_trainer.cc(268) LOG(INFO) Added: freq=90444 size=100 all=9108 active=7469 piece=am\n",
      "bpe_model_trainer.cc(159) LOG(INFO) Updating active symbols. max_freq=90105 min_freq=5590\n",
      "bpe_model_trainer.cc(268) LOG(INFO) Added: freq=65629 size=120 all=10552 active=2264 piece=ally\n",
      "bpe_model_trainer.cc(268) LOG(INFO) Added: freq=54599 size=140 all=11902 active=3614 piece=▁have\n",
      "bpe_model_trainer.cc(268) LOG(INFO) Added: freq=47018 size=160 all=13192 active=4904 piece=▁k\n",
      "bpe_model_trainer.cc(268) LOG(INFO) Added: freq=41819 size=180 all=14928 active=6640 piece=ol\n",
      "bpe_model_trainer.cc(268) LOG(INFO) Added: freq=37033 size=200 all=16837 active=8549 piece=ven\n",
      "bpe_model_trainer.cc(159) LOG(INFO) Updating active symbols. max_freq=37018 min_freq=4995\n",
      "bpe_model_trainer.cc(268) LOG(INFO) Added: freq=34053 size=220 all=18236 active=2327 piece=▁me\n",
      "bpe_model_trainer.cc(268) LOG(INFO) Added: freq=30398 size=240 all=19803 active=3894 piece=▁un\n",
      "bpe_model_trainer.cc(268) LOG(INFO) Added: freq=27178 size=260 all=21138 active=5229 piece=▁get\n",
      "bpe_model_trainer.cc(268) LOG(INFO) Added: freq=24165 size=280 all=21984 active=6075 piece=▁bec\n",
      "bpe_model_trainer.cc(268) LOG(INFO) Added: freq=22036 size=300 all=22865 active=6956 piece=▁watch\n",
      "bpe_model_trainer.cc(159) LOG(INFO) Updating active symbols. max_freq=22031 min_freq=3786\n",
      "bpe_model_trainer.cc(268) LOG(INFO) Added: freq=20573 size=320 all=24298 active=2568 piece=▁kn\n",
      "bpe_model_trainer.cc(268) LOG(INFO) Added: freq=19165 size=340 all=26041 active=4311 piece=▁pe\n",
      "bpe_model_trainer.cc(268) LOG(INFO) Added: freq=18034 size=360 all=26899 active=5169 piece=▁how\n",
      "bpe_model_trainer.cc(268) LOG(INFO) Added: freq=16799 size=380 all=27926 active=6196 piece=other\n",
      "bpe_model_trainer.cc(268) LOG(INFO) Added: freq=15869 size=400 all=29087 active=7357 piece=▁direct\n",
      "bpe_model_trainer.cc(159) LOG(INFO) Updating active symbols. max_freq=15837 min_freq=2654\n",
      "bpe_model_trainer.cc(268) LOG(INFO) Added: freq=14689 size=420 all=30336 active=2691 piece=▁movies\n",
      "bpe_model_trainer.cc(268) LOG(INFO) Added: freq=13994 size=440 all=31414 active=3769 piece=ob\n",
      "bpe_model_trainer.cc(268) LOG(INFO) Added: freq=13210 size=460 all=32677 active=5032 piece=▁plot\n",
      "bpe_model_trainer.cc(268) LOG(INFO) Added: freq=12444 size=480 all=33129 active=5484 piece=ittle\n",
      "bpe_model_trainer.cc(268) LOG(INFO) Added: freq=11855 size=500 all=34392 active=6747 piece=ved\n",
      "bpe_model_trainer.cc(159) LOG(INFO) Updating active symbols. max_freq=11779 min_freq=2013\n",
      "bpe_model_trainer.cc(268) LOG(INFO) Added: freq=11066 size=520 all=35367 active=2659 piece=▁br\n",
      "bpe_model_trainer.cc(268) LOG(INFO) Added: freq=10278 size=540 all=36441 active=3733 piece=vers\n",
      "bpe_model_trainer.cc(268) LOG(INFO) Added: freq=9987 size=560 all=37360 active=4652 piece=augh\n",
      "bpe_model_trainer.cc(268) LOG(INFO) Added: freq=9449 size=580 all=38291 active=5583 piece=ense\n",
      "bpe_model_trainer.cc(268) LOG(INFO) Added: freq=8980 size=600 all=39016 active=6308 piece=▁performan\n",
      "bpe_model_trainer.cc(159) LOG(INFO) Updating active symbols. max_freq=8915 min_freq=1643\n",
      "bpe_model_trainer.cc(268) LOG(INFO) Added: freq=8632 size=620 all=39980 active=2913 piece=▁ap\n",
      "bpe_model_trainer.cc(268) LOG(INFO) Added: freq=8202 size=640 all=40330 active=3263 piece=▁set\n",
      "bpe_model_trainer.cc(268) LOG(INFO) Added: freq=7865 size=660 all=41238 active=4171 piece=▁few\n",
      "bpe_model_trainer.cc(268) LOG(INFO) Added: freq=7528 size=680 all=42014 active=4947 piece=▁got\n",
      "bpe_model_trainer.cc(268) LOG(INFO) Added: freq=7345 size=700 all=42491 active=5424 piece=▁Jo\n",
      "bpe_model_trainer.cc(159) LOG(INFO) Updating active symbols. max_freq=7344 min_freq=1382\n",
      "bpe_model_trainer.cc(268) LOG(INFO) Added: freq=7043 size=720 all=43424 active=3029 piece=▁effect\n",
      "bpe_model_trainer.cc(268) LOG(INFO) Added: freq=6745 size=740 all=43985 active=3590 piece=ched\n",
      "bpe_model_trainer.cc(268) LOG(INFO) Added: freq=6523 size=760 all=44838 active=4443 piece=▁high\n",
      "bpe_model_trainer.cc(268) LOG(INFO) Added: freq=6354 size=780 all=45455 active=5060 piece=▁give\n",
      "bpe_model_trainer.cc(268) LOG(INFO) Added: freq=6125 size=800 all=46095 active=5700 piece=▁put\n",
      "bpe_model_trainer.cc(159) LOG(INFO) Updating active symbols. max_freq=6123 min_freq=1214\n",
      "bpe_model_trainer.cc(268) LOG(INFO) Added: freq=6012 size=820 all=46378 active=2570 piece=oot\n",
      "bpe_model_trainer.cc(268) LOG(INFO) Added: freq=5812 size=840 all=46847 active=3039 piece=▁cons\n",
      "bpe_model_trainer.cc(268) LOG(INFO) Added: freq=5653 size=860 all=47420 active=3612 piece=▁expl\n",
      "bpe_model_trainer.cc(268) LOG(INFO) Added: freq=5434 size=880 all=48074 active=4266 piece=▁help\n",
      "bpe_model_trainer.cc(268) LOG(INFO) Added: freq=5215 size=900 all=48753 active=4945 piece=oney\n",
      "bpe_model_trainer.cc(159) LOG(INFO) Updating active symbols. max_freq=5199 min_freq=1094\n",
      "bpe_model_trainer.cc(268) LOG(INFO) Added: freq=5050 size=920 all=49421 active=3072 piece=This\n",
      "bpe_model_trainer.cc(268) LOG(INFO) Added: freq=4922 size=940 all=50658 active=4309 piece=▁worst\n",
      "bpe_model_trainer.cc(268) LOG(INFO) Added: freq=4820 size=960 all=50989 active=4640 piece=▁episod\n",
      "bpe_model_trainer.cc(268) LOG(INFO) Added: freq=4686 size=980 all=51744 active=5395 piece=▁job\n",
      "bpe_model_trainer.cc(268) LOG(INFO) Added: freq=4568 size=1000 all=52338 active=5989 piece=▁ty\n",
      "bpe_model_trainer.cc(159) LOG(INFO) Updating active symbols. max_freq=4568 min_freq=961\n",
      "bpe_model_trainer.cc(268) LOG(INFO) Added: freq=4487 size=1020 all=52887 active=3155 piece=ray\n",
      "bpe_model_trainer.cc(268) LOG(INFO) Added: freq=4390 size=1040 all=53364 active=3632 piece=▁money\n",
      "bpe_model_trainer.cc(268) LOG(INFO) Added: freq=4303 size=1060 all=54345 active=4613 piece=....\n",
      "bpe_model_trainer.cc(268) LOG(INFO) Added: freq=4198 size=1080 all=54980 active=5248 piece=▁having\n",
      "bpe_model_trainer.cc(268) LOG(INFO) Added: freq=4079 size=1100 all=55278 active=5546 piece=not\n",
      "bpe_model_trainer.cc(159) LOG(INFO) Updating active symbols. max_freq=4078 min_freq=872\n",
      "bpe_model_trainer.cc(268) LOG(INFO) Added: freq=4025 size=1120 all=55901 active=3335 piece=▁American\n",
      "bpe_model_trainer.cc(268) LOG(INFO) Added: freq=3935 size=1140 all=56651 active=4085 piece=▁invol\n",
      "bpe_model_trainer.cc(268) LOG(INFO) Added: freq=3813 size=1160 all=57291 active=4725 piece=▁Un\n",
      "bpe_model_trainer.cc(268) LOG(INFO) Added: freq=3755 size=1180 all=57769 active=5203 piece=▁low\n",
      "bpe_model_trainer.cc(268) LOG(INFO) Added: freq=3658 size=1200 all=58430 active=5864 piece=ains\n",
      "bpe_model_trainer.cc(159) LOG(INFO) Updating active symbols. max_freq=3650 min_freq=783\n",
      "bpe_model_trainer.cc(268) LOG(INFO) Added: freq=3573 size=1220 all=59095 active=3539 piece=▁exp\n",
      "bpe_model_trainer.cc(268) LOG(INFO) Added: freq=3490 size=1240 all=59668 active=4112 piece=▁along\n",
      "bpe_model_trainer.cc(268) LOG(INFO) Added: freq=3408 size=1260 all=59983 active=4427 piece=▁dra\n",
      "bpe_model_trainer.cc(268) LOG(INFO) Added: freq=3329 size=1280 all=60633 active=5077 piece=▁exam\n",
      "bpe_model_trainer.cc(268) LOG(INFO) Added: freq=3280 size=1300 all=61064 active=5508 piece=med\n",
      "bpe_model_trainer.cc(159) LOG(INFO) Updating active symbols. max_freq=3279 min_freq=720\n",
      "bpe_model_trainer.cc(268) LOG(INFO) Added: freq=3220 size=1320 all=61412 active=3340 piece=▁hero\n",
      "bpe_model_trainer.cc(268) LOG(INFO) Added: freq=3157 size=1340 all=61960 active=3888 piece=▁instead\n",
      "bpe_model_trainer.cc(268) LOG(INFO) Added: freq=3045 size=1360 all=62710 active=4638 piece=▁doing\n",
      "bpe_model_trainer.cc(268) LOG(INFO) Added: freq=3008 size=1380 all=63183 active=5111 piece=reme\n",
      "bpe_model_trainer.cc(268) LOG(INFO) Added: freq=2941 size=1400 all=63669 active=5597 piece=▁cor\n",
      "bpe_model_trainer.cc(159) LOG(INFO) Updating active symbols. max_freq=2937 min_freq=664\n",
      "bpe_model_trainer.cc(268) LOG(INFO) Added: freq=2884 size=1420 all=64126 active=3614 piece=▁develop\n",
      "bpe_model_trainer.cc(268) LOG(INFO) Added: freq=2818 size=1440 all=64656 active=4144 piece=▁stars\n",
      "bpe_model_trainer.cc(268) LOG(INFO) Added: freq=2755 size=1460 all=65242 active=4730 piece=ccess\n",
      "bpe_model_trainer.cc(268) LOG(INFO) Added: freq=2690 size=1480 all=65728 active=5216 piece=▁seemed\n",
      "bpe_model_trainer.cc(268) LOG(INFO) Added: freq=2647 size=1500 all=66048 active=5536 piece=▁several\n",
      "bpe_model_trainer.cc(159) LOG(INFO) Updating active symbols. max_freq=2644 min_freq=619\n",
      "bpe_model_trainer.cc(268) LOG(INFO) Added: freq=2597 size=1520 all=66481 active=3736 piece=▁adm\n",
      "bpe_model_trainer.cc(268) LOG(INFO) Added: freq=2549 size=1540 all=66935 active=4190 piece=▁although\n",
      "bpe_model_trainer.cc(268) LOG(INFO) Added: freq=2491 size=1560 all=67431 active=4686 piece=▁self\n",
      "bpe_model_trainer.cc(268) LOG(INFO) Added: freq=2442 size=1580 all=67862 active=5117 piece=▁Char\n",
      "bpe_model_trainer.cc(268) LOG(INFO) Added: freq=2403 size=1600 all=68268 active=5523 piece=sych\n",
      "bpe_model_trainer.cc(159) LOG(INFO) Updating active symbols. max_freq=2399 min_freq=578\n",
      "bpe_model_trainer.cc(268) LOG(INFO) Added: freq=2370 size=1620 all=68618 active=3739 piece=▁mag\n",
      "bpe_model_trainer.cc(268) LOG(INFO) Added: freq=2327 size=1640 all=69221 active=4342 piece=▁stra\n",
      "bpe_model_trainer.cc(268) LOG(INFO) Added: freq=2294 size=1660 all=69644 active=4765 piece=▁contin\n",
      "bpe_model_trainer.cc(268) LOG(INFO) Added: freq=2260 size=1680 all=69946 active=5067 piece=▁Robert\n",
      "bpe_model_trainer.cc(268) LOG(INFO) Added: freq=2224 size=1700 all=70427 active=5548 piece=▁opp\n",
      "bpe_model_trainer.cc(159) LOG(INFO) Updating active symbols. max_freq=2224 min_freq=544\n",
      "bpe_model_trainer.cc(268) LOG(INFO) Added: freq=2193 size=1720 all=70896 active=3981 piece=▁decent\n",
      "bpe_model_trainer.cc(268) LOG(INFO) Added: freq=2151 size=1740 all=71320 active=4405 piece=ys\n",
      "bpe_model_trainer.cc(268) LOG(INFO) Added: freq=2109 size=1760 all=71900 active=4985 piece=▁tele\n",
      "bpe_model_trainer.cc(268) LOG(INFO) Added: freq=2078 size=1780 all=72384 active=5469 piece=ters\n",
      "bpe_model_trainer.cc(268) LOG(INFO) Added: freq=2047 size=1800 all=72878 active=5963 piece=aves\n",
      "bpe_model_trainer.cc(159) LOG(INFO) Updating active symbols. max_freq=2047 min_freq=509\n",
      "bpe_model_trainer.cc(268) LOG(INFO) Added: freq=2019 size=1820 all=73307 active=4037 piece=▁uni\n",
      "bpe_model_trainer.cc(268) LOG(INFO) Added: freq=1992 size=1840 all=73580 active=4310 piece=rench\n",
      "bpe_model_trainer.cc(268) LOG(INFO) Added: freq=1968 size=1860 all=74252 active=4982 piece=cer\n",
      "bpe_model_trainer.cc(268) LOG(INFO) Added: freq=1941 size=1880 all=75104 active=5834 piece=▁known\n",
      "bpe_model_trainer.cc(268) LOG(INFO) Added: freq=1916 size=1900 all=75692 active=6422 piece=▁highly\n",
      "bpe_model_trainer.cc(159) LOG(INFO) Updating active symbols. max_freq=1915 min_freq=475\n",
      "bpe_model_trainer.cc(268) LOG(INFO) Added: freq=1883 size=1920 all=75841 active=3934 piece=▁yourself\n",
      "bpe_model_trainer.cc(268) LOG(INFO) Added: freq=1862 size=1940 all=76110 active=4203 piece=ubl\n",
      "bpe_model_trainer.cc(268) LOG(INFO) Added: freq=1843 size=1960 all=76576 active=4669 piece=▁writer\n",
      "bpe_model_trainer.cc(268) LOG(INFO) Added: freq=1814 size=1980 all=76919 active=5012 piece=bel\n",
      "bpe_model_trainer.cc(268) LOG(INFO) Added: freq=1798 size=2000 all=77360 active=5453 piece=▁moder\n",
      "bpe_model_trainer.cc(159) LOG(INFO) Updating active symbols. max_freq=1797 min_freq=452\n",
      "bpe_model_trainer.cc(268) LOG(INFO) Added: freq=1780 size=2020 all=77498 active=3996 piece=▁turned\n",
      "bpe_model_trainer.cc(268) LOG(INFO) Added: freq=1748 size=2040 all=77953 active=4451 piece=ald\n",
      "bpe_model_trainer.cc(268) LOG(INFO) Added: freq=1716 size=2060 all=78455 active=4953 piece=lt\n",
      "bpe_model_trainer.cc(268) LOG(INFO) Added: freq=1703 size=2080 all=79062 active=5560 piece=▁among\n",
      "bpe_model_trainer.cc(268) LOG(INFO) Added: freq=1676 size=2100 all=79338 active=5836 piece=EN\n",
      "bpe_model_trainer.cc(159) LOG(INFO) Updating active symbols. max_freq=1676 min_freq=427\n",
      "bpe_model_trainer.cc(268) LOG(INFO) Added: freq=1654 size=2120 all=79631 active=4189 piece=lo\n",
      "bpe_model_trainer.cc(268) LOG(INFO) Added: freq=1624 size=2140 all=80075 active=4633 piece=▁sets\n",
      "bpe_model_trainer.cc(268) LOG(INFO) Added: freq=1602 size=2160 all=80421 active=4979 piece=▁upon\n",
      "bpe_model_trainer.cc(268) LOG(INFO) Added: freq=1581 size=2180 all=80746 active=5304 piece=▁clearly\n",
      "bpe_model_trainer.cc(268) LOG(INFO) Added: freq=1562 size=2200 all=80931 active=5489 piece=▁feature\n",
      "bpe_model_trainer.cc(159) LOG(INFO) Updating active symbols. max_freq=1560 min_freq=409\n",
      "bpe_model_trainer.cc(268) LOG(INFO) Added: freq=1542 size=2220 all=81278 active=4392 piece=▁showing\n",
      "bpe_model_trainer.cc(268) LOG(INFO) Added: freq=1522 size=2240 all=81672 active=4786 piece=ltim\n",
      "bpe_model_trainer.cc(268) LOG(INFO) Added: freq=1504 size=2260 all=82115 active=5229 piece=▁George\n",
      "bpe_model_trainer.cc(268) LOG(INFO) Added: freq=1491 size=2280 all=82571 active=5685 piece=▁easy\n",
      "bpe_model_trainer.cc(268) LOG(INFO) Added: freq=1474 size=2300 all=82834 active=5948 piece=upp\n",
      "bpe_model_trainer.cc(159) LOG(INFO) Updating active symbols. max_freq=1473 min_freq=387\n",
      "bpe_model_trainer.cc(268) LOG(INFO) Added: freq=1450 size=2320 all=83095 active=4348 piece=▁Richard\n",
      "bpe_model_trainer.cc(268) LOG(INFO) Added: freq=1433 size=2340 all=83341 active=4594 piece=▁truth\n",
      "bpe_model_trainer.cc(268) LOG(INFO) Added: freq=1409 size=2360 all=83907 active=5160 piece=lin\n",
      "bpe_model_trainer.cc(268) LOG(INFO) Added: freq=1398 size=2380 all=84329 active=5582 piece=▁city\n",
      "bpe_model_trainer.cc(268) LOG(INFO) Added: freq=1376 size=2400 all=84528 active=5781 piece=▁sens\n",
      "bpe_model_trainer.cc(159) LOG(INFO) Updating active symbols. max_freq=1373 min_freq=370\n",
      "bpe_model_trainer.cc(268) LOG(INFO) Added: freq=1360 size=2420 all=85042 active=4721 piece=▁wait\n",
      "bpe_model_trainer.cc(268) LOG(INFO) Added: freq=1339 size=2440 all=85412 active=5091 piece=▁Peter\n",
      "bpe_model_trainer.cc(268) LOG(INFO) Added: freq=1322 size=2460 all=85768 active=5447 piece=▁utter\n",
      "bpe_model_trainer.cc(268) LOG(INFO) Added: freq=1309 size=2480 all=86027 active=5706 piece=▁lame\n",
      "bpe_model_trainer.cc(268) LOG(INFO) Added: freq=1296 size=2500 all=86374 active=6053 piece=▁Com\n",
      "bpe_model_trainer.cc(159) LOG(INFO) Updating active symbols. max_freq=1296 min_freq=352\n",
      "bpe_model_trainer.cc(268) LOG(INFO) Added: freq=1279 size=2520 all=86796 active=4708 piece=▁monster\n",
      "bpe_model_trainer.cc(268) LOG(INFO) Added: freq=1262 size=2540 all=87211 active=5123 piece=▁perfectly\n",
      "bpe_model_trainer.cc(268) LOG(INFO) Added: freq=1250 size=2560 all=87549 active=5461 piece=▁Par\n",
      "bpe_model_trainer.cc(268) LOG(INFO) Added: freq=1240 size=2580 all=87903 active=5815 piece=▁law\n",
      "bpe_model_trainer.cc(268) LOG(INFO) Added: freq=1227 size=2600 all=88309 active=6221 piece=My\n",
      "bpe_model_trainer.cc(159) LOG(INFO) Updating active symbols. max_freq=1227 min_freq=337\n",
      "bpe_model_trainer.cc(268) LOG(INFO) Added: freq=1214 size=2620 all=88696 active=4789 piece=▁conne\n",
      "bpe_model_trainer.cc(268) LOG(INFO) Added: freq=1202 size=2640 all=89060 active=5153 piece=allow\n",
      "bpe_model_trainer.cc(268) LOG(INFO) Added: freq=1191 size=2660 all=89335 active=5428 piece=▁incredibly\n",
      "bpe_model_trainer.cc(268) LOG(INFO) Added: freq=1179 size=2680 all=89740 active=5833 piece=▁conv\n",
      "bpe_model_trainer.cc(268) LOG(INFO) Added: freq=1165 size=2700 all=90011 active=6104 piece=▁occas\n",
      "bpe_model_trainer.cc(159) LOG(INFO) Updating active symbols. max_freq=1165 min_freq=324\n",
      "bpe_model_trainer.cc(268) LOG(INFO) Added: freq=1152 size=2720 all=90351 active=4838 piece=▁invest\n",
      "bpe_model_trainer.cc(268) LOG(INFO) Added: freq=1140 size=2740 all=90728 active=5215 piece=▁manages\n",
      "bpe_model_trainer.cc(268) LOG(INFO) Added: freq=1122 size=2760 all=91194 active=5681 piece=▁langu\n",
      "bpe_model_trainer.cc(268) LOG(INFO) Added: freq=1109 size=2780 all=91436 active=5923 piece=mist\n",
      "bpe_model_trainer.cc(268) LOG(INFO) Added: freq=1099 size=2800 all=91710 active=6197 piece=▁fighting\n",
      "bpe_model_trainer.cc(159) LOG(INFO) Updating active symbols. max_freq=1096 min_freq=310\n",
      "bpe_model_trainer.cc(268) LOG(INFO) Added: freq=1088 size=2820 all=92153 active=5029 piece=▁outside\n",
      "bpe_model_trainer.cc(268) LOG(INFO) Added: freq=1078 size=2840 all=92542 active=5418 piece=▁30\n",
      "bpe_model_trainer.cc(268) LOG(INFO) Added: freq=1067 size=2860 all=92815 active=5691 piece=▁Other\n",
      "bpe_model_trainer.cc(268) LOG(INFO) Added: freq=1058 size=2880 all=93052 active=5928 piece=IS\n",
      "bpe_model_trainer.cc(268) LOG(INFO) Added: freq=1047 size=2900 all=93391 active=6267 piece=▁former\n",
      "bpe_model_trainer.cc(159) LOG(INFO) Updating active symbols. max_freq=1046 min_freq=297\n",
      "bpe_model_trainer.cc(268) LOG(INFO) Added: freq=1038 size=2920 all=93661 active=4939 piece=▁hardly\n",
      "bpe_model_trainer.cc(268) LOG(INFO) Added: freq=1029 size=2940 all=93886 active=5164 piece=ging\n",
      "bpe_model_trainer.cc(268) LOG(INFO) Added: freq=1020 size=2960 all=94303 active=5581 piece=▁accent\n",
      "bpe_model_trainer.cc(268) LOG(INFO) Added: freq=1008 size=2980 all=94523 active=5801 piece=▁rate\n",
      "bpe_model_trainer.cc(268) LOG(INFO) Added: freq=999 size=3000 all=94949 active=6227 piece=inger\n",
      "bpe_model_trainer.cc(159) LOG(INFO) Updating active symbols. max_freq=999 min_freq=284\n",
      "bpe_model_trainer.cc(268) LOG(INFO) Added: freq=984 size=3020 all=95332 active=5082 piece=this\n",
      "bpe_model_trainer.cc(268) LOG(INFO) Added: freq=972 size=3040 all=95633 active=5383 piece=▁ground\n",
      "bpe_model_trainer.cc(268) LOG(INFO) Added: freq=965 size=3060 all=95961 active=5711 piece=▁humour\n",
      "bpe_model_trainer.cc(268) LOG(INFO) Added: freq=954 size=3080 all=96303 active=6053 piece=ribly\n",
      "bpe_model_trainer.cc(268) LOG(INFO) Added: freq=944 size=3100 all=96676 active=6426 piece=▁otherwise\n",
      "bpe_model_trainer.cc(159) LOG(INFO) Updating active symbols. max_freq=943 min_freq=274\n",
      "bpe_model_trainer.cc(268) LOG(INFO) Added: freq=939 size=3120 all=96859 active=5017 piece=▁changed\n",
      "bpe_model_trainer.cc(268) LOG(INFO) Added: freq=928 size=3140 all=96967 active=5125 piece=▁Love\n",
      "bpe_model_trainer.cc(268) LOG(INFO) Added: freq=915 size=3160 all=97266 active=5424 piece=▁suc\n",
      "bpe_model_trainer.cc(268) LOG(INFO) Added: freq=909 size=3180 all=97465 active=5623 piece=▁suddenly\n",
      "bpe_model_trainer.cc(268) LOG(INFO) Added: freq=902 size=3200 all=97669 active=5827 piece=▁trash\n",
      "bpe_model_trainer.cc(159) LOG(INFO) Updating active symbols. max_freq=901 min_freq=268\n",
      "bpe_model_trainer.cc(268) LOG(INFO) Added: freq=893 size=3220 all=97834 active=5042 piece=ales\n",
      "bpe_model_trainer.cc(268) LOG(INFO) Added: freq=887 size=3240 all=98305 active=5513 piece=▁repl\n",
      "bpe_model_trainer.cc(268) LOG(INFO) Added: freq=878 size=3260 all=98613 active=5821 piece=▁govern\n",
      "bpe_model_trainer.cc(268) LOG(INFO) Added: freq=872 size=3280 all=98794 active=6002 piece=▁House\n",
      "bpe_model_trainer.cc(268) LOG(INFO) Added: freq=864 size=3300 all=99109 active=6317 piece=▁fashion\n",
      "bpe_model_trainer.cc(159) LOG(INFO) Updating active symbols. max_freq=863 min_freq=259\n",
      "bpe_model_trainer.cc(268) LOG(INFO) Added: freq=857 size=3320 all=99498 active=5339 piece=lessly\n",
      "bpe_model_trainer.cc(268) LOG(INFO) Added: freq=848 size=3340 all=99939 active=5780 piece=▁smart\n",
      "bpe_model_trainer.cc(268) LOG(INFO) Added: freq=841 size=3360 all=100366 active=6207 piece=▁sav\n",
      "bpe_model_trainer.cc(268) LOG(INFO) Added: freq=833 size=3380 all=100548 active=6389 piece=▁Bat\n",
      "bpe_model_trainer.cc(268) LOG(INFO) Added: freq=827 size=3400 all=100758 active=6599 piece=▁soldiers\n",
      "bpe_model_trainer.cc(159) LOG(INFO) Updating active symbols. max_freq=826 min_freq=249\n",
      "bpe_model_trainer.cc(268) LOG(INFO) Added: freq=819 size=3420 all=100893 active=5173 piece=▁Austral\n",
      "bpe_model_trainer.cc(268) LOG(INFO) Added: freq=814 size=3440 all=101090 active=5370 piece=▁emotions\n",
      "bpe_model_trainer.cc(268) LOG(INFO) Added: freq=807 size=3460 all=101301 active=5581 piece=▁charming\n",
      "bpe_model_trainer.cc(268) LOG(INFO) Added: freq=800 size=3480 all=101521 active=5801 piece=▁High\n",
      "bpe_model_trainer.cc(268) LOG(INFO) Added: freq=795 size=3500 all=101803 active=6083 piece=▁historical\n",
      "bpe_model_trainer.cc(159) LOG(INFO) Updating active symbols. max_freq=794 min_freq=242\n",
      "bpe_model_trainer.cc(268) LOG(INFO) Added: freq=787 size=3520 all=102019 active=5307 piece=arsh\n",
      "bpe_model_trainer.cc(268) LOG(INFO) Added: freq=780 size=3540 all=102203 active=5491 piece=field\n",
      "bpe_model_trainer.cc(268) LOG(INFO) Added: freq=773 size=3560 all=102483 active=5771 piece=▁soft\n",
      "bpe_model_trainer.cc(268) LOG(INFO) Added: freq=767 size=3580 all=102746 active=6034 piece=▁makers\n",
      "bpe_model_trainer.cc(268) LOG(INFO) Added: freq=760 size=3600 all=103035 active=6323 piece=CH\n",
      "bpe_model_trainer.cc(159) LOG(INFO) Updating active symbols. max_freq=759 min_freq=235\n",
      "bpe_model_trainer.cc(268) LOG(INFO) Added: freq=754 size=3620 all=103296 active=5350 piece=▁element\n",
      "bpe_model_trainer.cc(268) LOG(INFO) Added: freq=748 size=3640 all=103429 active=5483 piece=▁current\n",
      "bpe_model_trainer.cc(268) LOG(INFO) Added: freq=742 size=3660 all=103734 active=5788 piece=▁drive\n",
      "bpe_model_trainer.cc(268) LOG(INFO) Added: freq=733 size=3680 all=104079 active=6133 piece=▁Yet\n",
      "bpe_model_trainer.cc(268) LOG(INFO) Added: freq=728 size=3700 all=104262 active=6316 piece=▁students\n",
      "bpe_model_trainer.cc(159) LOG(INFO) Updating active symbols. max_freq=727 min_freq=228\n",
      "bpe_model_trainer.cc(268) LOG(INFO) Added: freq=722 size=3720 all=104656 active=5608 piece=▁irrit\n",
      "bpe_model_trainer.cc(268) LOG(INFO) Added: freq=714 size=3740 all=104904 active=5856 piece=▁trag\n",
      "bpe_model_trainer.cc(268) LOG(INFO) Added: freq=710 size=3760 all=105065 active=6017 piece=▁drawn\n",
      "bpe_model_trainer.cc(268) LOG(INFO) Added: freq=704 size=3780 all=105248 active=6200 piece=▁confused\n",
      "bpe_model_trainer.cc(268) LOG(INFO) Added: freq=699 size=3800 all=105546 active=6498 piece=▁hospital\n",
      "bpe_model_trainer.cc(159) LOG(INFO) Updating active symbols. max_freq=698 min_freq=222\n",
      "bpe_model_trainer.cc(268) LOG(INFO) Added: freq=693 size=3820 all=105868 active=5596 piece=▁delivers\n",
      "bpe_model_trainer.cc(268) LOG(INFO) Added: freq=687 size=3840 all=106210 active=5938 piece=▁paid\n",
      "bpe_model_trainer.cc(268) LOG(INFO) Added: freq=683 size=3860 all=106448 active=6176 piece=▁anymore\n",
      "bpe_model_trainer.cc(268) LOG(INFO) Added: freq=676 size=3880 all=106621 active=6349 piece=azz\n",
      "bpe_model_trainer.cc(268) LOG(INFO) Added: freq=672 size=3900 all=106986 active=6714 piece=▁bi\n",
      "bpe_model_trainer.cc(159) LOG(INFO) Updating active symbols. max_freq=672 min_freq=216\n",
      "bpe_model_trainer.cc(268) LOG(INFO) Added: freq=669 size=3920 all=107192 active=5540 piece=▁market\n",
      "bpe_model_trainer.cc(268) LOG(INFO) Added: freq=664 size=3940 all=107352 active=5700 piece=----\n",
      "bpe_model_trainer.cc(268) LOG(INFO) Added: freq=661 size=3960 all=107606 active=5954 piece=▁mediocre\n",
      "bpe_model_trainer.cc(268) LOG(INFO) Added: freq=657 size=3980 all=107916 active=6264 piece=stein\n",
      "bpe_model_trainer.cc(268) LOG(INFO) Added: freq=652 size=4000 all=108207 active=6555 piece=she\n",
      "bpe_model_trainer.cc(159) LOG(INFO) Updating active symbols. max_freq=652 min_freq=211\n",
      "bpe_model_trainer.cc(268) LOG(INFO) Added: freq=649 size=4020 all=108425 active=5601 piece=iday\n",
      "bpe_model_trainer.cc(268) LOG(INFO) Added: freq=646 size=4040 all=108612 active=5788 piece=athetic\n",
      "bpe_model_trainer.cc(268) LOG(INFO) Added: freq=641 size=4060 all=108924 active=6100 piece=▁/>-\n",
      "bpe_model_trainer.cc(268) LOG(INFO) Added: freq=637 size=4080 all=109090 active=6266 piece=▁professional\n",
      "bpe_model_trainer.cc(268) LOG(INFO) Added: freq=632 size=4100 all=109391 active=6567 piece=herent\n",
      "bpe_model_trainer.cc(159) LOG(INFO) Updating active symbols. max_freq=632 min_freq=205\n",
      "bpe_model_trainer.cc(268) LOG(INFO) Added: freq=626 size=4120 all=109568 active=5638 piece=requ\n",
      "bpe_model_trainer.cc(268) LOG(INFO) Added: freq=620 size=4140 all=109810 active=5880 piece=▁angry\n",
      "bpe_model_trainer.cc(268) LOG(INFO) Added: freq=615 size=4160 all=110016 active=6086 piece=▁Once\n",
      "bpe_model_trainer.cc(268) LOG(INFO) Added: freq=611 size=4180 all=110380 active=6450 piece=ovies\n",
      "bpe_model_trainer.cc(268) LOG(INFO) Added: freq=608 size=4200 all=110593 active=6663 piece=▁favourite\n",
      "bpe_model_trainer.cc(159) LOG(INFO) Updating active symbols. max_freq=607 min_freq=200\n",
      "bpe_model_trainer.cc(268) LOG(INFO) Added: freq=603 size=4220 all=110870 active=5807 piece=▁epic\n",
      "bpe_model_trainer.cc(268) LOG(INFO) Added: freq=599 size=4240 all=111175 active=6112 piece=▁numbers\n",
      "bpe_model_trainer.cc(268) LOG(INFO) Added: freq=596 size=4260 all=111371 active=6308 piece=▁brutal\n",
      "bpe_model_trainer.cc(268) LOG(INFO) Added: freq=591 size=4280 all=111435 active=6372 piece=▁anywhere\n",
      "bpe_model_trainer.cc(268) LOG(INFO) Added: freq=587 size=4300 all=111683 active=6620 piece=▁rape\n",
      "bpe_model_trainer.cc(159) LOG(INFO) Updating active symbols. max_freq=587 min_freq=195\n",
      "bpe_model_trainer.cc(268) LOG(INFO) Added: freq=583 size=4320 all=111870 active=5768 piece=▁IN\n",
      "bpe_model_trainer.cc(268) LOG(INFO) Added: freq=580 size=4340 all=112088 active=5986 piece=▁Wal\n",
      "bpe_model_trainer.cc(268) LOG(INFO) Added: freq=575 size=4360 all=112329 active=6227 piece=AM\n",
      "bpe_model_trainer.cc(268) LOG(INFO) Added: freq=570 size=4380 all=112744 active=6642 piece=▁ted\n",
      "bpe_model_trainer.cc(268) LOG(INFO) Added: freq=567 size=4400 all=112963 active=6861 piece=pective\n",
      "bpe_model_trainer.cc(159) LOG(INFO) Updating active symbols. max_freq=567 min_freq=190\n",
      "bpe_model_trainer.cc(268) LOG(INFO) Added: freq=563 size=4420 all=113192 active=5874 piece=hand\n",
      "bpe_model_trainer.cc(268) LOG(INFO) Added: freq=559 size=4440 all=113402 active=6084 piece=ET\n",
      "bpe_model_trainer.cc(268) LOG(INFO) Added: freq=557 size=4460 all=113580 active=6262 piece=▁hurt\n",
      "bpe_model_trainer.cc(268) LOG(INFO) Added: freq=553 size=4480 all=113825 active=6507 piece=▁Sus\n",
      "bpe_model_trainer.cc(268) LOG(INFO) Added: freq=549 size=4500 all=113976 active=6658 piece=ipul\n",
      "bpe_model_trainer.cc(159) LOG(INFO) Updating active symbols. max_freq=549 min_freq=185\n",
      "bpe_model_trainer.cc(268) LOG(INFO) Added: freq=546 size=4520 all=114221 active=5927 piece=▁tight\n",
      "bpe_model_trainer.cc(268) LOG(INFO) Added: freq=542 size=4540 all=114435 active=6141 piece=star\n",
      "bpe_model_trainer.cc(268) LOG(INFO) Added: freq=539 size=4560 all=114626 active=6332 piece=unter\n",
      "bpe_model_trainer.cc(268) LOG(INFO) Added: freq=535 size=4580 all=114875 active=6581 piece=John\n",
      "bpe_model_trainer.cc(268) LOG(INFO) Added: freq=532 size=4600 all=115057 active=6763 piece=ennifer\n",
      "bpe_model_trainer.cc(159) LOG(INFO) Updating active symbols. max_freq=532 min_freq=182\n",
      "bpe_model_trainer.cc(268) LOG(INFO) Added: freq=529 size=4620 all=115218 active=5909 piece=▁fights\n",
      "bpe_model_trainer.cc(268) LOG(INFO) Added: freq=526 size=4640 all=115360 active=6051 piece=▁stret\n",
      "bpe_model_trainer.cc(268) LOG(INFO) Added: freq=523 size=4660 all=115615 active=6306 piece=▁capture\n",
      "bpe_model_trainer.cc(268) LOG(INFO) Added: freq=520 size=4680 all=115852 active=6543 piece=▁net\n",
      "bpe_model_trainer.cc(268) LOG(INFO) Added: freq=517 size=4700 all=115978 active=6669 piece=▁finest\n",
      "bpe_model_trainer.cc(159) LOG(INFO) Updating active symbols. max_freq=516 min_freq=177\n",
      "bpe_model_trainer.cc(268) LOG(INFO) Added: freq=513 size=4720 all=116127 active=5948 piece=viron\n",
      "bpe_model_trainer.cc(268) LOG(INFO) Added: freq=511 size=4740 all=116361 active=6182 piece=▁incomp\n",
      "bpe_model_trainer.cc(268) LOG(INFO) Added: freq=507 size=4760 all=116494 active=6315 piece=screen\n",
      "bpe_model_trainer.cc(268) LOG(INFO) Added: freq=503 size=4780 all=116903 active=6724 piece=▁guns\n",
      "bpe_model_trainer.cc(268) LOG(INFO) Added: freq=501 size=4800 all=117032 active=6853 piece=▁terribly\n",
      "bpe_model_trainer.cc(159) LOG(INFO) Updating active symbols. max_freq=500 min_freq=173\n",
      "bpe_model_trainer.cc(268) LOG(INFO) Added: freq=497 size=4820 all=117325 active=6145 piece=unn\n",
      "bpe_model_trainer.cc(268) LOG(INFO) Added: freq=495 size=4840 all=117594 active=6414 piece=▁toward\n",
      "bpe_model_trainer.cc(268) LOG(INFO) Added: freq=492 size=4860 all=117911 active=6731 piece=edding\n",
      "bpe_model_trainer.cc(268) LOG(INFO) Added: freq=489 size=4880 all=118123 active=6943 piece=▁levels\n",
      "bpe_model_trainer.cc(268) LOG(INFO) Added: freq=487 size=4900 all=118232 active=7052 piece=▁attitude\n",
      "bpe_model_trainer.cc(159) LOG(INFO) Updating active symbols. max_freq=486 min_freq=168\n",
      "bpe_model_trainer.cc(268) LOG(INFO) Added: freq=484 size=4920 all=118461 active=6141 piece=▁kiss\n",
      "trainer_interface.cc(686) LOG(INFO) Saving model: imdb.model\n",
      "trainer_interface.cc(698) LOG(INFO) Saving vocabs: imdb.vocab\n"
     ]
    }
   ],
   "source": [
    "import sentencepiece as spm\n",
    "import pandas as ps\n",
    "import urllib.request\n",
    "import csv\n",
    "\n",
    "urllib.request.urlretrieve(\"https://raw.githubusercontent.com/LawrenceDuan/IMDb-Review-Analysis/master/IMDb_Reviews.csv\", filename=\"IMDb_Reviews.csv\")\n",
    "\n",
    "train_df=ps.read_csv('IMDb_Reviews.csv')\n",
    "train_df['review']\n",
    "\n",
    "print('리뷰 개수 :',len(train_df)) # 리뷰 개수 출력\n",
    "\n",
    "with open ('imdb_review.txt', 'w', encoding='utf8')as f:\n",
    "    f.write('\\n'.join(train_df['review']))\n",
    "\n",
    "spm.SentencePieceTrainer.Train('--input=imdb_review.txt --model_prefix=imdb --vocab_size=5000 --model_type=bpe --max_sentence_length=9999')\n"
   ]
  },
  {
   "cell_type": "markdown",
   "id": "6c152d00-dd62-4dae-9495-04826852012b",
   "metadata": {},
   "source": [
    "input : 학습시킬 파일\n",
    "\n",
    "model_prefix : 만들어질 모델 이름\n",
    "\n",
    "vocab_size : 단어 집합의 크기\n",
    "\n",
    "model_type : 사용할 모델 (unigram(default), bpe, char, word)\n",
    "\n",
    "max_sentence_length: 문장의 최대 길이\n",
    "\n",
    "pad_id, pad_piece: pad token id, 값\n",
    "\n",
    "unk_id, unk_piece: unknown token id, 값\n",
    "\n",
    "bos_id, bos_piece: begin of sentence token id, 값\n",
    "\n",
    "eos_id, eos_piece: end of sequence token id, 값\n",
    "\n",
    "user_defined_symbols: 사용자 정의 토큰\n",
    "\n",
    "vocab 생성이 완료되면 imdb.model, imdb.vocab 파일 두개가 생성 됩니다. vocab 파일에서 학습된 서브워드들을 확인할 수 있습니다. 단어 집합의 크기를 확인하기 위해 vocab 파일을 데이터프레임에 저장해봅시다."
   ]
  },
  {
   "cell_type": "code",
   "execution_count": 55,
   "id": "1efd9c23-527c-4b50-9b00-e1d6d44aaa08",
   "metadata": {},
   "outputs": [
    {
     "name": "stdout",
     "output_type": "stream",
     "text": [
      "I didn't at all think of it this way.\n",
      "['▁I', '▁didn', \"'\", 't', '▁at', '▁all', '▁think', '▁of', '▁it', '▁this', '▁way', '.']\n",
      "[41, 624, 4950, 4926, 139, 170, 378, 30, 58, 73, 413, 4945]\n",
      "\n",
      "I have waited a long time for someone to film\n",
      "['▁I', '▁have', '▁wa', 'ited', '▁a', '▁long', '▁time', '▁for', '▁someone', '▁to', '▁film']\n",
      "[41, 142, 1364, 1121, 4, 668, 285, 93, 1079, 33, 91]\n",
      "\n",
      "['▁I', '▁have', '▁wa', 'ited', '▁a', '▁long', '▁time', '▁for', '▁someone', '▁to', '▁film']\n",
      "[41, 142, 1364, 1121, 4, 668, 285, 93, 1079, 33, 91]\n"
     ]
    }
   ],
   "source": [
    "vocab_list=ps.read_csv('imdb.vocab', sep='\\t', header=None, quoting=csv.QUOTE_NONE)\n",
    "vocab_list.sample(10)\n",
    "\n",
    "len(vocab_list)\n",
    "\n",
    "sp=spm.SentencePieceProcessor()\n",
    "vocab_list='imdb.model'\n",
    "sp.load(vocab_list)\n",
    "\n",
    "lines = [\n",
    "  \"I didn't at all think of it this way.\",\n",
    "  \"I have waited a long time for someone to film\"\n",
    "]\n",
    "\n",
    "for line in lines:\n",
    "  print(line)\n",
    "  print(sp.encode_as_pieces(line))\n",
    "  print(sp.encode_as_ids(line))\n",
    "  print()    \n",
    "\n",
    "sp.GetPieceSize()\n",
    "sp.IdToPiece(430)\n",
    "sp.PieceToId('▁character')\n",
    "sp.DecodeIds([41, 141, 1364, 1120, 4, 666, 285, 92, 1078, 33, 91])\n",
    "sp.DecodePieces(['▁I', '▁have', '▁wa', 'ited', '▁a', '▁long', '▁time', '▁for', '▁someone', '▁to', '▁film'])\n",
    "\n",
    "print(sp.encode('I have waited a long time for someone to film', out_type=str))\n",
    "print(sp.encode('I have waited a long time for someone to film', out_type=int))\n",
    "\n",
    "\n",
    "\n"
   ]
  },
  {
   "cell_type": "code",
   "execution_count": 67,
   "id": "d7054535-05c5-4d90-8377-ca43fe552011",
   "metadata": {
    "scrolled": true
   },
   "outputs": [
    {
     "name": "stdout",
     "output_type": "stream",
     "text": [
      "200000\n",
      "True\n",
      "False\n",
      "199992\n",
      "뭐 이딴 것도 영화냐.\n",
      "['▁뭐', '▁이딴', '▁것도', '▁영화냐', '.']\n",
      "[136, 970, 1299, 2593, 3276]\n",
      "\n",
      "진짜 최고의 영화입니다 ㅋㅋ\n",
      "['▁진짜', '▁최고의', '▁영화입니다', '▁ᄏᄏ']\n",
      "[54, 204, 825, 121]\n",
      "\n",
      "['▁진짜', '▁최고의', '▁영화입니다', '▁ᄏᄏ']\n",
      "[54, 204, 825, 121]\n"
     ]
    },
    {
     "name": "stderr",
     "output_type": "stream",
     "text": [
      "sentencepiece_trainer.cc(177) LOG(INFO) Running command: --input=naver_review.txt --model_prefix=naver --vocab_size=5000 --model_type=bpe --max_sentence_length=9999\n",
      "sentencepiece_trainer.cc(77) LOG(INFO) Starts training with : \n",
      "trainer_spec {\n",
      "  input: naver_review.txt\n",
      "  input_format: \n",
      "  model_prefix: naver\n",
      "  model_type: BPE\n",
      "  vocab_size: 5000\n",
      "  self_test_sample_size: 0\n",
      "  character_coverage: 0.9995\n",
      "  input_sentence_size: 0\n",
      "  shuffle_input_sentence: 1\n",
      "  seed_sentencepiece_size: 1000000\n",
      "  shrinking_factor: 0.75\n",
      "  max_sentence_length: 9999\n",
      "  num_threads: 16\n",
      "  num_sub_iterations: 2\n",
      "  max_sentencepiece_length: 16\n",
      "  split_by_unicode_script: 1\n",
      "  split_by_number: 1\n",
      "  split_by_whitespace: 1\n",
      "  split_digits: 0\n",
      "  pretokenization_delimiter: \n",
      "  treat_whitespace_as_suffix: 0\n",
      "  allow_whitespace_only_pieces: 0\n",
      "  required_chars: \n",
      "  byte_fallback: 0\n",
      "  vocabulary_output_piece_score: 1\n",
      "  train_extremely_large_corpus: 0\n",
      "  hard_vocab_limit: 1\n",
      "  use_all_vocab: 0\n",
      "  unk_id: 0\n",
      "  bos_id: 1\n",
      "  eos_id: 2\n",
      "  pad_id: -1\n",
      "  unk_piece: <unk>\n",
      "  bos_piece: <s>\n",
      "  eos_piece: </s>\n",
      "  pad_piece: <pad>\n",
      "  unk_surface:  ⁇ \n",
      "  enable_differential_privacy: 0\n",
      "  differential_privacy_noise_level: 0\n",
      "  differential_privacy_clipping_threshold: 0\n",
      "}\n",
      "normalizer_spec {\n",
      "  name: nmt_nfkc\n",
      "  add_dummy_prefix: 1\n",
      "  remove_extra_whitespaces: 1\n",
      "  escape_whitespaces: 1\n",
      "  normalization_rule_tsv: \n",
      "}\n",
      "denormalizer_spec {}\n",
      "trainer_interface.cc(351) LOG(INFO) SentenceIterator is not specified. Using MultiFileSentenceIterator.\n",
      "trainer_interface.cc(183) LOG(INFO) Loading corpus: naver_review.txt\n",
      "trainer_interface.cc(407) LOG(INFO) Loaded all 199992 sentences\n",
      "trainer_interface.cc(423) LOG(INFO) Adding meta_piece: <unk>\n",
      "trainer_interface.cc(423) LOG(INFO) Adding meta_piece: <s>\n",
      "trainer_interface.cc(423) LOG(INFO) Adding meta_piece: </s>\n",
      "trainer_interface.cc(428) LOG(INFO) Normalizing sentences...\n",
      "trainer_interface.cc(537) LOG(INFO) all chars count=7242982\n",
      "trainer_interface.cc(548) LOG(INFO) Done: 99.9501% characters are covered.\n",
      "trainer_interface.cc(558) LOG(INFO) Alphabet size=1725\n",
      "trainer_interface.cc(559) LOG(INFO) Final character coverage=0.999501\n",
      "trainer_interface.cc(591) LOG(INFO) Done! preprocessed 199992 sentences.\n",
      "trainer_interface.cc(597) LOG(INFO) Tokenizing input sentences with whitespace: 199992\n",
      "trainer_interface.cc(608) LOG(INFO) Done! 449380\n",
      "bpe_model_trainer.cc(159) LOG(INFO) Updating active symbols. max_freq=145835 min_freq=100\n",
      "bpe_model_trainer.cc(268) LOG(INFO) Added: freq=15293 size=20 all=124333 active=11699 piece=▁없\n",
      "bpe_model_trainer.cc(268) LOG(INFO) Added: freq=11921 size=40 all=129320 active=16686 piece=▁1\n",
      "bpe_model_trainer.cc(268) LOG(INFO) Added: freq=8425 size=60 all=133224 active=20590 piece=▁생\n",
      "bpe_model_trainer.cc(268) LOG(INFO) Added: freq=7026 size=80 all=137895 active=25261 piece=▁배\n",
      "bpe_model_trainer.cc(268) LOG(INFO) Added: freq=5692 size=100 all=141885 active=29251 piece=하게\n",
      "bpe_model_trainer.cc(159) LOG(INFO) Updating active symbols. max_freq=5660 min_freq=83\n",
      "bpe_model_trainer.cc(268) LOG(INFO) Added: freq=4959 size=120 all=145494 active=10211 piece=▁중\n",
      "bpe_model_trainer.cc(268) LOG(INFO) Added: freq=4472 size=140 all=148078 active=12795 piece=▁끝\n",
      "bpe_model_trainer.cc(268) LOG(INFO) Added: freq=3830 size=160 all=150805 active=15522 piece=▁영\n",
      "bpe_model_trainer.cc(268) LOG(INFO) Added: freq=3596 size=180 all=153693 active=18410 piece=▁좋은\n",
      "bpe_model_trainer.cc(268) LOG(INFO) Added: freq=3227 size=200 all=156373 active=21090 piece=▁기대\n",
      "bpe_model_trainer.cc(159) LOG(INFO) Updating active symbols. max_freq=3219 min_freq=75\n",
      "bpe_model_trainer.cc(268) LOG(INFO) Added: freq=2983 size=220 all=158712 active=10082 piece=야기\n",
      "bpe_model_trainer.cc(268) LOG(INFO) Added: freq=2772 size=240 all=161819 active=13189 piece=▁현\n",
      "bpe_model_trainer.cc(268) LOG(INFO) Added: freq=2580 size=260 all=164836 active=16206 piece=부터\n",
      "bpe_model_trainer.cc(268) LOG(INFO) Added: freq=2414 size=280 all=168187 active=19557 piece=▁심\n",
      "bpe_model_trainer.cc(268) LOG(INFO) Added: freq=2268 size=300 all=170138 active=21508 piece=▁괜찮\n",
      "bpe_model_trainer.cc(159) LOG(INFO) Updating active symbols. max_freq=2251 min_freq=67\n",
      "bpe_model_trainer.cc(268) LOG(INFO) Added: freq=2087 size=320 all=172399 active=10728 piece=리는\n",
      "bpe_model_trainer.cc(268) LOG(INFO) Added: freq=1941 size=340 all=174678 active=13007 piece=것도\n",
      "bpe_model_trainer.cc(268) LOG(INFO) Added: freq=1856 size=360 all=177272 active=15601 piece=▁표\n",
      "bpe_model_trainer.cc(268) LOG(INFO) Added: freq=1781 size=380 all=179752 active=18081 piece=하기\n",
      "bpe_model_trainer.cc(268) LOG(INFO) Added: freq=1694 size=400 all=182457 active=20786 piece=▁반전\n",
      "bpe_model_trainer.cc(159) LOG(INFO) Updating active symbols. max_freq=1687 min_freq=62\n",
      "bpe_model_trainer.cc(268) LOG(INFO) Added: freq=1642 size=420 all=184396 active=10974 piece=▁얼\n",
      "bpe_model_trainer.cc(268) LOG(INFO) Added: freq=1564 size=440 all=186431 active=13009 piece=▁인간\n",
      "bpe_model_trainer.cc(268) LOG(INFO) Added: freq=1490 size=460 all=188816 active=15394 piece=▁솔직\n",
      "bpe_model_trainer.cc(268) LOG(INFO) Added: freq=1435 size=480 all=190437 active=17015 piece=▁굿\n",
      "bpe_model_trainer.cc(268) LOG(INFO) Added: freq=1376 size=500 all=192599 active=19177 piece=었음\n",
      "bpe_model_trainer.cc(159) LOG(INFO) Updating active symbols. max_freq=1367 min_freq=57\n",
      "bpe_model_trainer.cc(268) LOG(INFO) Added: freq=1313 size=520 all=194430 active=11327 piece=▁파\n",
      "bpe_model_trainer.cc(268) LOG(INFO) Added: freq=1249 size=540 all=196073 active=12970 piece=기도\n",
      "bpe_model_trainer.cc(268) LOG(INFO) Added: freq=1209 size=560 all=198224 active=15121 piece=▁공감\n",
      "bpe_model_trainer.cc(268) LOG(INFO) Added: freq=1176 size=580 all=200718 active=17615 piece=때문에\n",
      "bpe_model_trainer.cc(268) LOG(INFO) Added: freq=1142 size=600 all=203465 active=20362 piece=▁영화에\n",
      "bpe_model_trainer.cc(159) LOG(INFO) Updating active symbols. max_freq=1141 min_freq=53\n",
      "bpe_model_trainer.cc(268) LOG(INFO) Added: freq=1113 size=620 all=205648 active=12333 piece=기���\n",
      "bpe_model_trainer.cc(268) LOG(INFO) Added: freq=1071 size=640 all=208057 active=14742 piece=▁싸\n",
      "bpe_model_trainer.cc(268) LOG(INFO) Added: freq=1044 size=660 all=210144 active=16829 piece=▁조금\n",
      "bpe_model_trainer.cc(268) LOG(INFO) Added: freq=1012 size=680 all=212391 active=19076 piece=하면서\n",
      "bpe_model_trainer.cc(268) LOG(INFO) Added: freq=980 size=700 all=214450 active=21135 piece=대체\n",
      "bpe_model_trainer.cc(159) LOG(INFO) Updating active symbols. max_freq=979 min_freq=49\n",
      "bpe_model_trainer.cc(268) LOG(INFO) Added: freq=955 size=720 all=216122 active=12343 piece=▁제작\n",
      "bpe_model_trainer.cc(268) LOG(INFO) Added: freq=929 size=740 all=217887 active=14108 piece=▁웃기\n",
      "bpe_model_trainer.cc(268) LOG(INFO) Added: freq=896 size=760 all=218986 active=15207 piece=▁영화라고\n",
      "bpe_model_trainer.cc(268) LOG(INFO) Added: freq=868 size=780 all=220756 active=16977 piece=▁출연\n",
      "bpe_model_trainer.cc(268) LOG(INFO) Added: freq=854 size=800 all=222279 active=18500 piece=적이고\n",
      "bpe_model_trainer.cc(159) LOG(INFO) Updating active symbols. max_freq=852 min_freq=47\n",
      "bpe_model_trainer.cc(268) LOG(INFO) Added: freq=832 size=820 all=223990 active=12684 piece=▁싫\n",
      "bpe_model_trainer.cc(268) LOG(INFO) Added: freq=821 size=840 all=225215 active=13909 piece=▁무섭\n",
      "bpe_model_trainer.cc(268) LOG(INFO) Added: freq=798 size=860 all=226603 active=15297 piece=▁ᅲ\n",
      "bpe_model_trainer.cc(268) LOG(INFO) Added: freq=778 size=880 all=228086 active=16780 piece=▁좋아하는\n",
      "bpe_model_trainer.cc(268) LOG(INFO) Added: freq=765 size=900 all=229344 active=18038 piece=▁봤던\n",
      "bpe_model_trainer.cc(159) LOG(INFO) Updating active symbols. max_freq=764 min_freq=45\n",
      "bpe_model_trainer.cc(268) LOG(INFO) Added: freq=749 size=920 all=230783 active=12891 piece=▁킬링\n",
      "bpe_model_trainer.cc(268) LOG(INFO) Added: freq=731 size=940 all=232105 active=14213 piece=▁지루하고\n",
      "bpe_model_trainer.cc(268) LOG(INFO) Added: freq=719 size=960 all=233502 active=15610 piece=구만\n",
      "bpe_model_trainer.cc(268) LOG(INFO) Added: freq=705 size=980 all=234590 active=16698 piece=▁큰\n",
      "bpe_model_trainer.cc(268) LOG(INFO) Added: freq=686 size=1000 all=235694 active=17802 piece=▁암\n",
      "bpe_model_trainer.cc(159) LOG(INFO) Updating active symbols. max_freq=686 min_freq=43\n",
      "bpe_model_trainer.cc(268) LOG(INFO) Added: freq=673 size=1020 all=237168 active=13193 piece=보단\n",
      "bpe_model_trainer.cc(268) LOG(INFO) Added: freq=663 size=1040 all=238688 active=14713 piece=▁지루하다\n",
      "bpe_model_trainer.cc(268) LOG(INFO) Added: freq=643 size=1060 all=240592 active=16617 piece=▁더빙\n",
      "bpe_model_trainer.cc(268) LOG(INFO) Added: freq=627 size=1080 all=242021 active=18046 piece=▁한국영화\n",
      "bpe_model_trainer.cc(268) LOG(INFO) Added: freq=614 size=1100 all=243598 active=19623 piece=▁꽤\n",
      "bpe_model_trainer.cc(159) LOG(INFO) Updating active symbols. max_freq=614 min_freq=41\n",
      "bpe_model_trainer.cc(268) LOG(INFO) Added: freq=600 size=1120 all=244887 active=13444 piece=말이\n",
      "bpe_model_trainer.cc(268) LOG(INFO) Added: freq=587 size=1140 all=246112 active=14669 piece=▁감동적이\n",
      "bpe_model_trainer.cc(268) LOG(INFO) Added: freq=576 size=1160 all=247397 active=15954 piece=▁하지\n",
      "bpe_model_trainer.cc(268) LOG(INFO) Added: freq=563 size=1180 all=248980 active=17537 piece=▁이쁘\n",
      "bpe_model_trainer.cc(268) LOG(INFO) Added: freq=552 size=1200 all=250470 active=19027 piece=▁영상미\n",
      "bpe_model_trainer.cc(159) LOG(INFO) Updating active symbols. max_freq=551 min_freq=39\n",
      "bpe_model_trainer.cc(268) LOG(INFO) Added: freq=541 size=1220 all=252001 active=14016 piece=것을\n",
      "bpe_model_trainer.cc(268) LOG(INFO) Added: freq=526 size=1240 all=253334 active=15349 piece=▁g\n",
      "bpe_model_trainer.cc(268) LOG(INFO) Added: freq=516 size=1260 all=254953 active=16968 piece=▁기억이\n",
      "bpe_model_trainer.cc(268) LOG(INFO) Added: freq=509 size=1280 all=256157 active=18172 piece=▁비디오\n",
      "bpe_model_trainer.cc(268) LOG(INFO) Added: freq=500 size=1300 all=258087 active=20102 piece=▁한마디\n",
      "bpe_model_trainer.cc(159) LOG(INFO) Updating active symbols. max_freq=499 min_freq=37\n",
      "bpe_model_trainer.cc(268) LOG(INFO) Added: freq=488 size=1320 all=259296 active=14094 piece=개도\n",
      "bpe_model_trainer.cc(268) LOG(INFO) Added: freq=478 size=1340 all=260519 active=15317 piece=으면서\n",
      "bpe_model_trainer.cc(268) LOG(INFO) Added: freq=472 size=1360 all=261763 active=16561 piece=되고\n",
      "bpe_model_trainer.cc(268) LOG(INFO) Added: freq=468 size=1380 all=263365 active=18163 piece=▁잘봤\n",
      "bpe_model_trainer.cc(268) LOG(INFO) Added: freq=463 size=1400 all=264654 active=19452 piece=▁전부\n",
      "bpe_model_trainer.cc(159) LOG(INFO) Updating active symbols. max_freq=462 min_freq=36\n",
      "bpe_model_trainer.cc(268) LOG(INFO) Added: freq=454 size=1420 all=265929 active=14464 piece=▁여배우\n",
      "bpe_model_trainer.cc(268) LOG(INFO) Added: freq=445 size=1440 all=267347 active=15882 piece=▁중간에\n",
      "bpe_model_trainer.cc(268) LOG(INFO) Added: freq=436 size=1460 all=268368 active=16903 piece=하자\n",
      "bpe_model_trainer.cc(268) LOG(INFO) Added: freq=429 size=1480 all=269451 active=17986 piece=▁자기\n",
      "bpe_model_trainer.cc(268) LOG(INFO) Added: freq=423 size=1500 all=270279 active=18814 piece=▁재밌네요\n",
      "bpe_model_trainer.cc(159) LOG(INFO) Updating active symbols. max_freq=422 min_freq=35\n",
      "bpe_model_trainer.cc(268) LOG(INFO) Added: freq=416 size=1520 all=271916 active=15137 piece=▁압\n",
      "bpe_model_trainer.cc(268) LOG(INFO) Added: freq=409 size=1540 all=273252 active=16473 piece=▁감독님\n",
      "bpe_model_trainer.cc(268) LOG(INFO) Added: freq=400 size=1560 all=274314 active=17535 piece=예요\n",
      "bpe_model_trainer.cc(268) LOG(INFO) Added: freq=394 size=1580 all=275327 active=18548 piece=▁항상\n",
      "bpe_model_trainer.cc(268) LOG(INFO) Added: freq=388 size=1600 all=276434 active=19655 piece=리의\n",
      "bpe_model_trainer.cc(159) LOG(INFO) Updating active symbols. max_freq=388 min_freq=34\n",
      "bpe_model_trainer.cc(268) LOG(INFO) Added: freq=383 size=1620 all=277332 active=14596 piece=▁생각해\n",
      "bpe_model_trainer.cc(268) LOG(INFO) Added: freq=378 size=1640 all=278365 active=15629 piece=▁빌\n",
      "bpe_model_trainer.cc(268) LOG(INFO) Added: freq=373 size=1660 all=279763 active=17027 piece=봐서\n",
      "bpe_model_trainer.cc(268) LOG(INFO) Added: freq=369 size=1680 all=280969 active=18233 piece=▁된다\n",
      "bpe_model_trainer.cc(268) LOG(INFO) Added: freq=363 size=1700 all=281842 active=19106 piece=▁헤\n",
      "bpe_model_trainer.cc(159) LOG(INFO) Updating active symbols. max_freq=363 min_freq=33\n",
      "bpe_model_trainer.cc(268) LOG(INFO) Added: freq=357 size=1720 all=283226 active=15431 piece=별로\n",
      "bpe_model_trainer.cc(268) LOG(INFO) Added: freq=353 size=1740 all=284922 active=17127 piece=▁시절\n",
      "bpe_model_trainer.cc(268) LOG(INFO) Added: freq=349 size=1760 all=285798 active=18003 piece=▁없네\n",
      "bpe_model_trainer.cc(268) LOG(INFO) Added: freq=345 size=1780 all=286909 active=19114 piece=▁홍콩\n",
      "bpe_model_trainer.cc(268) LOG(INFO) Added: freq=339 size=1800 all=288072 active=20277 piece=▁참신\n",
      "bpe_model_trainer.cc(159) LOG(INFO) Updating active symbols. max_freq=339 min_freq=32\n",
      "bpe_model_trainer.cc(268) LOG(INFO) Added: freq=335 size=1820 all=288980 active=15276 piece=▁뮤\n",
      "bpe_model_trainer.cc(268) LOG(INFO) Added: freq=331 size=1840 all=290091 active=16387 piece=▁안나\n",
      "bpe_model_trainer.cc(268) LOG(INFO) Added: freq=328 size=1860 all=291232 active=17528 piece=.......\n",
      "bpe_model_trainer.cc(268) LOG(INFO) Added: freq=323 size=1880 all=292581 active=18877 piece=▁후반부\n",
      "bpe_model_trainer.cc(268) LOG(INFO) Added: freq=320 size=1900 all=293584 active=19880 piece=영화로\n",
      "bpe_model_trainer.cc(159) LOG(INFO) Updating active symbols. max_freq=320 min_freq=31\n",
      "bpe_model_trainer.cc(268) LOG(INFO) Added: freq=315 size=1920 all=294603 active=15542 piece=▁아버지\n",
      "bpe_model_trainer.cc(268) LOG(INFO) Added: freq=311 size=1940 all=295441 active=16380 piece=▁희망\n",
      "bpe_model_trainer.cc(268) LOG(INFO) Added: freq=307 size=1960 all=296477 active=17416 piece=실망\n",
      "bpe_model_trainer.cc(268) LOG(INFO) Added: freq=304 size=1980 all=297674 active=18613 piece=▁흘러\n",
      "bpe_model_trainer.cc(268) LOG(INFO) Added: freq=301 size=2000 all=298464 active=19403 piece=▁신기\n",
      "bpe_model_trainer.cc(159) LOG(INFO) Updating active symbols. max_freq=301 min_freq=30\n",
      "bpe_model_trainer.cc(268) LOG(INFO) Added: freq=297 size=2020 all=299604 active=16025 piece=▁나라\n",
      "bpe_model_trainer.cc(268) LOG(INFO) Added: freq=294 size=2040 all=300795 active=17216 piece=▁노출\n",
      "bpe_model_trainer.cc(268) LOG(INFO) Added: freq=289 size=2060 all=301609 active=18030 piece=▁즐겁\n",
      "bpe_model_trainer.cc(268) LOG(INFO) Added: freq=286 size=2080 all=302194 active=18615 piece=세가\n",
      "bpe_model_trainer.cc(268) LOG(INFO) Added: freq=283 size=2100 all=303204 active=19625 piece=화가\n",
      "bpe_model_trainer.cc(159) LOG(INFO) Updating active symbols. max_freq=283 min_freq=29\n",
      "bpe_model_trainer.cc(268) LOG(INFO) Added: freq=280 size=2120 all=304368 active=16224 piece=▁부모\n",
      "bpe_model_trainer.cc(268) LOG(INFO) Added: freq=277 size=2140 all=305383 active=17239 piece=▁그의\n",
      "bpe_model_trainer.cc(268) LOG(INFO) Added: freq=274 size=2160 all=306711 active=18567 piece=▁같네요\n",
      "bpe_model_trainer.cc(268) LOG(INFO) Added: freq=269 size=2180 all=307539 active=19395 piece=▁증\n",
      "bpe_model_trainer.cc(268) LOG(INFO) Added: freq=266 size=2200 all=308189 active=20045 piece=▁스케\n",
      "bpe_model_trainer.cc(159) LOG(INFO) Updating active symbols. max_freq=266 min_freq=28\n",
      "bpe_model_trainer.cc(268) LOG(INFO) Added: freq=264 size=2220 all=309384 active=16596 piece=▁않을\n",
      "bpe_model_trainer.cc(268) LOG(INFO) Added: freq=261 size=2240 all=310471 active=17683 piece=▁접\n",
      "bpe_model_trainer.cc(268) LOG(INFO) Added: freq=259 size=2260 all=311523 active=18735 piece=보이\n",
      "bpe_model_trainer.cc(268) LOG(INFO) Added: freq=257 size=2280 all=312844 active=20056 piece=좋고\n",
      "bpe_model_trainer.cc(268) LOG(INFO) Added: freq=254 size=2300 all=313649 active=20861 piece=▁밑에\n",
      "bpe_model_trainer.cc(159) LOG(INFO) Updating active symbols. max_freq=254 min_freq=27\n",
      "bpe_model_trainer.cc(268) LOG(INFO) Added: freq=252 size=2320 all=314886 active=16900 piece=▁가끔\n",
      "bpe_model_trainer.cc(268) LOG(INFO) Added: freq=250 size=2340 all=315771 active=17785 piece=▁심리\n",
      "bpe_model_trainer.cc(268) LOG(INFO) Added: freq=248 size=2360 all=316838 active=18852 piece=▁눈이\n",
      "bpe_model_trainer.cc(268) LOG(INFO) Added: freq=246 size=2380 all=317720 active=19734 piece=▁카메라\n",
      "bpe_model_trainer.cc(268) LOG(INFO) Added: freq=242 size=2400 all=318935 active=20949 piece=▁사람을\n",
      "bpe_model_trainer.cc(159) LOG(INFO) Updating active symbols. max_freq=242 min_freq=27\n",
      "bpe_model_trainer.cc(268) LOG(INFO) Added: freq=239 size=2420 all=319902 active=16906 piece=▁든다\n",
      "bpe_model_trainer.cc(268) LOG(INFO) Added: freq=237 size=2440 all=320577 active=17581 piece=▁곳\n",
      "bpe_model_trainer.cc(268) LOG(INFO) Added: freq=235 size=2460 all=321365 active=18369 piece=도없고\n",
      "bpe_model_trainer.cc(268) LOG(INFO) Added: freq=232 size=2480 all=322109 active=19113 piece=럭���럭\n",
      "bpe_model_trainer.cc(268) LOG(INFO) Added: freq=230 size=2500 all=322996 active=20000 piece=▁해주\n",
      "bpe_model_trainer.cc(159) LOG(INFO) Updating active symbols. max_freq=230 min_freq=26\n",
      "bpe_model_trainer.cc(268) LOG(INFO) Added: freq=227 size=2520 all=323690 active=16796 piece=▁꾸\n",
      "bpe_model_trainer.cc(268) LOG(INFO) Added: freq=225 size=2540 all=324676 active=17782 piece=▁아까워\n",
      "bpe_model_trainer.cc(268) LOG(INFO) Added: freq=223 size=2560 all=325617 active=18723 piece=▁마라\n",
      "bpe_model_trainer.cc(268) LOG(INFO) Added: freq=222 size=2580 all=326407 active=19513 piece=▁그럭저럭\n",
      "bpe_model_trainer.cc(268) LOG(INFO) Added: freq=220 size=2600 all=327120 active=20226 piece=▁평생\n",
      "bpe_model_trainer.cc(159) LOG(INFO) Updating active symbols. max_freq=220 min_freq=25\n",
      "bpe_model_trainer.cc(268) LOG(INFO) Added: freq=218 size=2620 all=327854 active=17063 piece=▁모자\n",
      "bpe_model_trainer.cc(268) LOG(INFO) Added: freq=216 size=2640 all=328962 active=18171 piece=▁상처\n",
      "bpe_model_trainer.cc(268) LOG(INFO) Added: freq=214 size=2660 all=329666 active=18875 piece=기로\n",
      "bpe_model_trainer.cc(268) LOG(INFO) Added: freq=213 size=2680 all=330544 active=19753 piece=으로서\n",
      "bpe_model_trainer.cc(268) LOG(INFO) Added: freq=211 size=2700 all=331319 active=20528 piece=▁사랑에\n",
      "bpe_model_trainer.cc(159) LOG(INFO) Updating active symbols. max_freq=211 min_freq=25\n",
      "bpe_model_trainer.cc(268) LOG(INFO) Added: freq=209 size=2720 all=332039 active=17279 piece=▁고생\n",
      "bpe_model_trainer.cc(268) LOG(INFO) Added: freq=207 size=2740 all=332965 active=18205 piece=▁나타\n",
      "bpe_model_trainer.cc(268) LOG(INFO) Added: freq=205 size=2760 all=333629 active=18869 piece=▁썩\n",
      "bpe_model_trainer.cc(268) LOG(INFO) Added: freq=203 size=2780 all=334478 active=19718 piece=▁엘\n",
      "bpe_model_trainer.cc(268) LOG(INFO) Added: freq=202 size=2800 all=335748 active=20988 piece=▁형편\n",
      "bpe_model_trainer.cc(159) LOG(INFO) Updating active symbols. max_freq=202 min_freq=24\n",
      "bpe_model_trainer.cc(268) LOG(INFO) Added: freq=200 size=2820 all=336641 active=17671 piece=20\n",
      "bpe_model_trainer.cc(268) LOG(INFO) Added: freq=199 size=2840 all=337338 active=18368 piece=▁보시\n",
      "bpe_model_trainer.cc(268) LOG(INFO) Added: freq=198 size=2860 all=338100 active=19130 piece=▁설레\n",
      "bpe_model_trainer.cc(268) LOG(INFO) Added: freq=196 size=2880 all=339104 active=20134 piece=친다\n",
      "bpe_model_trainer.cc(268) LOG(INFO) Added: freq=195 size=2900 all=340061 active=21091 piece=재미없\n",
      "bpe_model_trainer.cc(159) LOG(INFO) Updating active symbols. max_freq=195 min_freq=24\n",
      "bpe_model_trainer.cc(268) LOG(INFO) Added: freq=194 size=2920 all=341157 active=17969 piece=하시는\n",
      "bpe_model_trainer.cc(268) LOG(INFO) Added: freq=192 size=2940 all=341817 active=18629 piece=▁건지\n",
      "bpe_model_trainer.cc(268) LOG(INFO) Added: freq=191 size=2960 all=342787 active=19599 piece=▁봐야할\n",
      "bpe_model_trainer.cc(268) LOG(INFO) Added: freq=189 size=2980 all=343666 active=20478 piece=구니\n",
      "bpe_model_trainer.cc(268) LOG(INFO) Added: freq=188 size=3000 all=344404 active=21216 piece=▁지구\n",
      "bpe_model_trainer.cc(159) LOG(INFO) Updating active symbols. max_freq=188 min_freq=23\n",
      "bpe_model_trainer.cc(268) LOG(INFO) Added: freq=186 size=3020 all=345397 active=18179 piece=▁지금은\n",
      "bpe_model_trainer.cc(268) LOG(INFO) Added: freq=184 size=3040 all=346221 active=19003 piece=▁동물\n",
      "bpe_model_trainer.cc(268) LOG(INFO) Added: freq=182 size=3060 all=347000 active=19782 piece=re\n",
      "bpe_model_trainer.cc(268) LOG(INFO) Added: freq=181 size=3080 all=347990 active=20772 piece=점주\n",
      "bpe_model_trainer.cc(268) LOG(INFO) Added: freq=180 size=3100 all=348699 active=21481 piece=▁일부\n",
      "bpe_model_trainer.cc(159) LOG(INFO) Updating active symbols. max_freq=180 min_freq=23\n",
      "bpe_model_trainer.cc(268) LOG(INFO) Added: freq=178 size=3120 all=349305 active=18017 piece=하셨\n",
      "bpe_model_trainer.cc(268) LOG(INFO) Added: freq=177 size=3140 all=350037 active=18749 piece=이션\n",
      "bpe_model_trainer.cc(268) LOG(INFO) Added: freq=176 size=3160 all=350760 active=19472 piece=사의\n",
      "bpe_model_trainer.cc(268) LOG(INFO) Added: freq=175 size=3180 all=351566 active=20278 piece=겠네요\n",
      "bpe_model_trainer.cc(268) LOG(INFO) Added: freq=174 size=3200 all=352331 active=21043 piece=내용도\n",
      "bpe_model_trainer.cc(159) LOG(INFO) Updating active symbols. max_freq=174 min_freq=22\n",
      "bpe_model_trainer.cc(268) LOG(INFO) Added: freq=173 size=3220 all=353221 active=18413 piece=▁옛날에\n",
      "bpe_model_trainer.cc(268) LOG(INFO) Added: freq=171 size=3240 all=353742 active=18934 piece=았고\n",
      "bpe_model_trainer.cc(268) LOG(INFO) Added: freq=169 size=3260 all=354461 active=19653 piece=at\n",
      "trainer_interface.cc(686) LOG(INFO) Saving model: naver.model\n",
      "trainer_interface.cc(698) LOG(INFO) Saving vocabs: naver.vocab\n"
     ]
    }
   ],
   "source": [
    "#네이버 영화 리뷰 토큰화하기\n",
    "\n",
    "import numpy as np\n",
    "import pandas as ps\n",
    "import urllib.request\n",
    "import csv\n",
    "\n",
    "urllib.request.urlretrieve(\"https://raw.githubusercontent.com/e9t/nsmc/master/ratings.txt\", filename=\"ratings.txt\")\n",
    "\n",
    "df=ps.read_table('ratings.txt')\n",
    "df\n",
    "\n",
    "print(len(df))\n",
    "print(df.isnull().values.any())\n",
    "\n",
    "df=df.dropna(how='any')\n",
    "print(df.isnull().values.any())\n",
    "\n",
    "print(len(df))\n",
    "\n",
    "with open ('naver_review.txt', 'w', encoding='utf8') as f:\n",
    "    f.write('\\n'.join(df['document']))\n",
    "\n",
    "spm.SentencePieceTrainer.Train('--input=naver_review.txt --model_prefix=naver --vocab_size=5000 --model_type=bpe --max_sentence_length=9999')\n",
    "\n",
    "vocab_list=ps.read_csv('naver.vocab', sep='\\t', header=None, quoting=csv.QUOTE_NONE)\n",
    "vocab_list[:10]\n",
    "\n",
    "vocab_list.sample(10)\n",
    "\n",
    "len(vocab_list)\n",
    "sp=spm.SentencePieceProcessor()\n",
    "vocab_file='naver.model'\n",
    "sp.load(vocab_file)\n",
    "\n",
    "lines = [\n",
    "  \"뭐 이딴 것도 영화냐.\",\n",
    "  \"진짜 최고의 영화입니다 ㅋㅋ\",\n",
    "]\n",
    "for line in lines:\n",
    "  print(line)\n",
    "  print(sp.encode_as_pieces(line))\n",
    "  print(sp.encode_as_ids(line))\n",
    "  print()\n",
    "\n",
    "sp.GetPieceSize()\n",
    "sp.IdToPiece(4)\n",
    "sp.PieceToId('영화')\n",
    "sp.DecodeIds([54, 200, 821, 85])\n",
    "sp.DecodePieces(['▁진짜', '▁최고의', '▁영화입니다', '▁ᄏᄏ'])\n",
    "print(sp.encode('진짜 최고의 영화입니다 ㅋㅋ', out_type=str))\n",
    "print(sp.encode('진짜 최고의 영화입니다 ㅋㅋ', out_type=int))\n"
   ]
  },
  {
   "cell_type": "code",
   "execution_count": null,
   "id": "84faaa4b-85f7-4b8a-bb51-2213833fd821",
   "metadata": {},
   "outputs": [],
   "source": []
  },
  {
   "cell_type": "markdown",
   "id": "108f828c-41fd-47a9-857b-da95e033397f",
   "metadata": {},
   "source": [
    "## BERT의 워드피스 토크나이저(BertWordPieceTokenizer)\n",
    "\n",
    "구글이 공개한 딥 러닝 모델 BERT에는 WordPiece Tokenizer가 사용되었습니다. 허깅페이스는 해당 토크나이저를 직접 구현하여 tokenizers라는 패키지를 통해 버트워드피스토크나이저(BertWordPieceTokenizer)를 제공합니다.\n",
    "\n",
    "여기서는 네이버 영화 리뷰 데이터를 해당 토크나이저에 학습시키고, 이로부터 서브워드의 단어 집합(Vocabulary)을 얻습니다. 그리고 임의의 문장에 대해서 학습된 토크나이저를 사용하여 토큰화를 진행합니다."
   ]
  },
  {
   "cell_type": "code",
   "execution_count": 84,
   "id": "71f43570-28c5-49f9-821e-4b522c879707",
   "metadata": {},
   "outputs": [
    {
     "data": {
      "text/plain": [
       "'\\n각 인자가 의미하는 바는 다음과 같습니다.\\n\\nlowercase : 대소문자를 구분 여부. True일 경우 구분하지 않음.\\nstrip_accents : True일 경우 악센트 제거.\\n'"
      ]
     },
     "execution_count": 84,
     "metadata": {},
     "output_type": "execute_result"
    }
   ],
   "source": [
    "import pandas as ps\n",
    "import urllib.request\n",
    "from tokenizers import BertWordPieceTokenizer\n",
    "\n",
    "\n",
    "urllib.request.urlretrieve(\"https://raw.githubusercontent.com/e9t/nsmc/master/ratings.txt\", filename=\"ratings.txt\")\n",
    "\n",
    "df=ps.read_table('ratings.txt')\n",
    "df=df.dropna(how='any')\n",
    "with open('naverreview.txt', 'w', encoding='utf8') as f:\n",
    "    f.write('\\n'.join(df['document']))\n",
    "\n",
    "tokenizer = BertWordPieceTokenizer(lowercase=False, strip_accents=False)\n",
    "'''\n",
    "각 인자가 의미하는 바는 다음과 같습니다.\n",
    "\n",
    "lowercase : 대소문자를 구분 여부. True일 경우 구분하지 않음.\n",
    "strip_accents : True일 경우 악센트 제거.\n",
    "'''\n",
    "#tokenizer=BertWordPieceTokenizer(lowercase=False,tripaccents=False)"
   ]
  },
  {
   "cell_type": "code",
   "execution_count": 92,
   "id": "05fc6a77-636d-4714-a967-96218e52cd01",
   "metadata": {},
   "outputs": [
    {
     "name": "stdout",
     "output_type": "stream",
     "text": [
      "\n",
      "\n",
      "\n",
      "토큰화 결과 : ['아', '배고', '##픈', '##데', '짜장면', '##먹고', '##싶다']\n",
      "정수 인코딩 : [2111, 20631, 3921, 3445, 24681, 7873, 7378]\n",
      "디코딩 : 아 배고픈데 짜장면먹고싶다\n",
      "토큰화 결과 : ['커피', '한잔', '##의', '여유', '##를', '즐기', '##다']\n",
      "정수 인코딩 : [12825, 25646, 3258, 12696, 3308, 10784, 3238]\n",
      "디코딩 : 커피 한잔의 여유를 즐기다\n"
     ]
    }
   ],
   "source": [
    "datafile = 'naverreview.txt'\n",
    "vocab_size = 30000\n",
    "limit_alphabet = 6000\n",
    "min_frequency = 5\n",
    "\n",
    "tokenizer.train(files=[datafile], \n",
    "                vocab_size=vocab_size, \n",
    "                limit_alphabet=limit_alphabet, \n",
    "                min_frequency=min_frequency)\n",
    "\n",
    "'''\n",
    "각 인자가 의미하는 바는 다음과 같습니다.\n",
    "\n",
    "files : 단어 집합을 얻기 위해 학습할 데이터\n",
    "vocab_size : 단어 집합의 크기\n",
    "limit_alphabet : 병합 전의 초기 토큰의 허용 개수.\n",
    "min_frequency : 최소 해당 횟수만큼 등장한 쌍(pair)의 경우에만 병합 대상이 된다.\n",
    "\n",
    "학습이 다 되었다면 vocab을 저장합니다. 경로를 지정해주어야 하는데 여기서는 현재 경로에 저장하겠습니다.\n",
    "'''\n",
    "\n",
    "tokenizer.save_model('./')\n",
    "\n",
    "df=ps.read_fwf('vocab.txt',mheader=None)\n",
    "df\n",
    "\n",
    "encoded = tokenizer.encode('아 배고픈데 짜장면먹고싶다')\n",
    "print('토큰화 결과 :',encoded.tokens)\n",
    "print('정수 인코딩 :',encoded.ids)\n",
    "print('디코딩 :',tokenizer.decode(encoded.ids))\n",
    "\n",
    "encoded = tokenizer.encode('커피 한잔의 여유를 즐기다')\n",
    "print('토큰화 결과 :',encoded.tokens)\n",
    "print('정수 인코딩 :',encoded.ids)\n",
    "print('디코딩 :',tokenizer.decode(encoded.ids))\n"
   ]
  },
  {
   "cell_type": "code",
   "execution_count": null,
   "id": "157ec08b-774f-4107-89bc-8a203f5dcc7e",
   "metadata": {},
   "outputs": [],
   "source": []
  },
  {
   "cell_type": "markdown",
   "id": "be68dd9c-461a-4910-9947-535545a11fd2",
   "metadata": {},
   "source": [
    "## 기타 토크나이저\n",
    "이 외 ByteLevelBPETokenizer, CharBPETokenizer, SentencePieceBPETokenizer 등이 존재하며 선택에 따라서 사용할 수 있습니다.\n",
    "\n",
    "BertWordPieceTokenizer : BERT에서 사용된 워드피스 토크나이저(WordPiece Tokenizer) CharBPETokenizer : 오리지널 BPE ByteLevelBPETokenizer : BPE의 바이트 레벨 버전 SentencePieceBPETokenizer : 앞서 본 패키지 센텐스피스(SentencePiece)와 호환되는 BPE 구현체"
   ]
  },
  {
   "cell_type": "code",
   "execution_count": 94,
   "id": "790fd490-aa62-489a-a7d5-054f485b6027",
   "metadata": {},
   "outputs": [
    {
     "name": "stdout",
     "output_type": "stream",
     "text": [
      "\n",
      "\n",
      "\n",
      "['▁이', '▁영화는', '▁정말', '▁재미있', '습니다.']\n"
     ]
    }
   ],
   "source": [
    "from tokenizers import ByteLevelBPETokenizer,CharBPETokenizer,SentencePieceBPETokenizer\n",
    "from tokenizers import ByteLevelBPETokenizer,CharBPETokenizer,SentencePieceBPETokenizer\n",
    "\n",
    "tokenizer=SentencePieceBPETokenizer()\n",
    "tokenizer.train('naverreview.txt',vocab_size=10000,min_frequency=10)\n",
    "\n",
    "encoded = tokenizer.encode(\"이 영화는 정말 재미있습니다.\")\n",
    "print(encoded.tokens)"
   ]
  },
  {
   "cell_type": "code",
   "execution_count": null,
   "id": "d730f2ec-07de-4fc7-a8b6-a35599789b6c",
   "metadata": {},
   "outputs": [],
   "source": []
  },
  {
   "cell_type": "code",
   "execution_count": null,
   "id": "2730edea-45a6-4165-9717-a9d1cc70733a",
   "metadata": {},
   "outputs": [],
   "source": []
  },
  {
   "cell_type": "code",
   "execution_count": null,
   "id": "6082238c-4df3-49d5-ac04-38209964f3a7",
   "metadata": {},
   "outputs": [],
   "source": []
  },
  {
   "cell_type": "code",
   "execution_count": null,
   "id": "345d4944-d6a8-437e-8d6b-b22114dd8776",
   "metadata": {},
   "outputs": [],
   "source": []
  },
  {
   "cell_type": "code",
   "execution_count": null,
   "id": "c2564df5-7cdd-4d12-bb82-34e3c20b00f5",
   "metadata": {},
   "outputs": [],
   "source": []
  },
  {
   "cell_type": "code",
   "execution_count": null,
   "id": "c3fb8300-7e55-44cb-af42-9ae0331b2d21",
   "metadata": {},
   "outputs": [],
   "source": []
  },
  {
   "cell_type": "code",
   "execution_count": null,
   "id": "66217a40-c9a9-4623-8a29-44c84d65cd6e",
   "metadata": {},
   "outputs": [],
   "source": []
  },
  {
   "cell_type": "code",
   "execution_count": null,
   "id": "c47741de-396b-4d5c-b525-edf6919bf432",
   "metadata": {},
   "outputs": [],
   "source": []
  },
  {
   "cell_type": "code",
   "execution_count": null,
   "id": "ebbd83eb-8390-4f9b-9564-4862983221f1",
   "metadata": {},
   "outputs": [],
   "source": []
  }
 ],
 "metadata": {
  "kernelspec": {
   "display_name": "Python 3 (ipykernel)",
   "language": "python",
   "name": "python3"
  },
  "language_info": {
   "codemirror_mode": {
    "name": "ipython",
    "version": 3
   },
   "file_extension": ".py",
   "mimetype": "text/x-python",
   "name": "python",
   "nbconvert_exporter": "python",
   "pygments_lexer": "ipython3",
   "version": "3.10.12"
  }
 },
 "nbformat": 4,
 "nbformat_minor": 5
}
