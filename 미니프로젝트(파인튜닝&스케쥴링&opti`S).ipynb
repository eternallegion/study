{
 "cells": [
  {
   "cell_type": "code",
   "execution_count": 8,
   "id": "bc5e0837-60ea-4e83-bd44-ed90328b9bcf",
   "metadata": {},
   "outputs": [],
   "source": [
    "import torch\n",
    "import torch.nn as nn\n",
    "import torch.optim as optim\n",
    "import torchvision\n",
    "from torch.utils.data import DataLoader as loader\n",
    "from torchvision import datasets, transforms, models\n",
    "import torch.nn.functional as F\n",
    "from torch.optim.lr_scheduler import (LambdaLR, CosineAnnealingLR, ReduceLROnPlateau,ChainedScheduler)\n",
    "import matplotlib.pyplot as plt"
   ]
  },
  {
   "cell_type": "code",
   "execution_count": 55,
   "id": "8ae1c7c1-1df0-4e8f-948c-5c15e7700018",
   "metadata": {},
   "outputs": [
    {
     "name": "stdout",
     "output_type": "stream",
     "text": [
      "cuda\n",
      "Files already downloaded and verified\n",
      "Files already downloaded and verified\n"
     ]
    },
    {
     "data": {
      "text/plain": [
       "ResNet(\n",
       "  (conv1): Conv2d(3, 64, kernel_size=(7, 7), stride=(2, 2), padding=(3, 3), bias=False)\n",
       "  (bn1): BatchNorm2d(64, eps=1e-05, momentum=0.1, affine=True, track_running_stats=True)\n",
       "  (relu): ReLU(inplace=True)\n",
       "  (maxpool): MaxPool2d(kernel_size=3, stride=2, padding=1, dilation=1, ceil_mode=False)\n",
       "  (layer1): Sequential(\n",
       "    (0): BasicBlock(\n",
       "      (conv1): Conv2d(64, 64, kernel_size=(3, 3), stride=(1, 1), padding=(1, 1), bias=False)\n",
       "      (bn1): BatchNorm2d(64, eps=1e-05, momentum=0.1, affine=True, track_running_stats=True)\n",
       "      (relu): ReLU(inplace=True)\n",
       "      (conv2): Conv2d(64, 64, kernel_size=(3, 3), stride=(1, 1), padding=(1, 1), bias=False)\n",
       "      (bn2): BatchNorm2d(64, eps=1e-05, momentum=0.1, affine=True, track_running_stats=True)\n",
       "    )\n",
       "    (1): BasicBlock(\n",
       "      (conv1): Conv2d(64, 64, kernel_size=(3, 3), stride=(1, 1), padding=(1, 1), bias=False)\n",
       "      (bn1): BatchNorm2d(64, eps=1e-05, momentum=0.1, affine=True, track_running_stats=True)\n",
       "      (relu): ReLU(inplace=True)\n",
       "      (conv2): Conv2d(64, 64, kernel_size=(3, 3), stride=(1, 1), padding=(1, 1), bias=False)\n",
       "      (bn2): BatchNorm2d(64, eps=1e-05, momentum=0.1, affine=True, track_running_stats=True)\n",
       "    )\n",
       "  )\n",
       "  (layer2): Sequential(\n",
       "    (0): BasicBlock(\n",
       "      (conv1): Conv2d(64, 128, kernel_size=(3, 3), stride=(2, 2), padding=(1, 1), bias=False)\n",
       "      (bn1): BatchNorm2d(128, eps=1e-05, momentum=0.1, affine=True, track_running_stats=True)\n",
       "      (relu): ReLU(inplace=True)\n",
       "      (conv2): Conv2d(128, 128, kernel_size=(3, 3), stride=(1, 1), padding=(1, 1), bias=False)\n",
       "      (bn2): BatchNorm2d(128, eps=1e-05, momentum=0.1, affine=True, track_running_stats=True)\n",
       "      (downsample): Sequential(\n",
       "        (0): Conv2d(64, 128, kernel_size=(1, 1), stride=(2, 2), bias=False)\n",
       "        (1): BatchNorm2d(128, eps=1e-05, momentum=0.1, affine=True, track_running_stats=True)\n",
       "      )\n",
       "    )\n",
       "    (1): BasicBlock(\n",
       "      (conv1): Conv2d(128, 128, kernel_size=(3, 3), stride=(1, 1), padding=(1, 1), bias=False)\n",
       "      (bn1): BatchNorm2d(128, eps=1e-05, momentum=0.1, affine=True, track_running_stats=True)\n",
       "      (relu): ReLU(inplace=True)\n",
       "      (conv2): Conv2d(128, 128, kernel_size=(3, 3), stride=(1, 1), padding=(1, 1), bias=False)\n",
       "      (bn2): BatchNorm2d(128, eps=1e-05, momentum=0.1, affine=True, track_running_stats=True)\n",
       "    )\n",
       "  )\n",
       "  (layer3): Sequential(\n",
       "    (0): BasicBlock(\n",
       "      (conv1): Conv2d(128, 256, kernel_size=(3, 3), stride=(2, 2), padding=(1, 1), bias=False)\n",
       "      (bn1): BatchNorm2d(256, eps=1e-05, momentum=0.1, affine=True, track_running_stats=True)\n",
       "      (relu): ReLU(inplace=True)\n",
       "      (conv2): Conv2d(256, 256, kernel_size=(3, 3), stride=(1, 1), padding=(1, 1), bias=False)\n",
       "      (bn2): BatchNorm2d(256, eps=1e-05, momentum=0.1, affine=True, track_running_stats=True)\n",
       "      (downsample): Sequential(\n",
       "        (0): Conv2d(128, 256, kernel_size=(1, 1), stride=(2, 2), bias=False)\n",
       "        (1): BatchNorm2d(256, eps=1e-05, momentum=0.1, affine=True, track_running_stats=True)\n",
       "      )\n",
       "    )\n",
       "    (1): BasicBlock(\n",
       "      (conv1): Conv2d(256, 256, kernel_size=(3, 3), stride=(1, 1), padding=(1, 1), bias=False)\n",
       "      (bn1): BatchNorm2d(256, eps=1e-05, momentum=0.1, affine=True, track_running_stats=True)\n",
       "      (relu): ReLU(inplace=True)\n",
       "      (conv2): Conv2d(256, 256, kernel_size=(3, 3), stride=(1, 1), padding=(1, 1), bias=False)\n",
       "      (bn2): BatchNorm2d(256, eps=1e-05, momentum=0.1, affine=True, track_running_stats=True)\n",
       "    )\n",
       "  )\n",
       "  (layer4): Sequential(\n",
       "    (0): BasicBlock(\n",
       "      (conv1): Conv2d(256, 512, kernel_size=(3, 3), stride=(2, 2), padding=(1, 1), bias=False)\n",
       "      (bn1): BatchNorm2d(512, eps=1e-05, momentum=0.1, affine=True, track_running_stats=True)\n",
       "      (relu): ReLU(inplace=True)\n",
       "      (conv2): Conv2d(512, 512, kernel_size=(3, 3), stride=(1, 1), padding=(1, 1), bias=False)\n",
       "      (bn2): BatchNorm2d(512, eps=1e-05, momentum=0.1, affine=True, track_running_stats=True)\n",
       "      (downsample): Sequential(\n",
       "        (0): Conv2d(256, 512, kernel_size=(1, 1), stride=(2, 2), bias=False)\n",
       "        (1): BatchNorm2d(512, eps=1e-05, momentum=0.1, affine=True, track_running_stats=True)\n",
       "      )\n",
       "    )\n",
       "    (1): BasicBlock(\n",
       "      (conv1): Conv2d(512, 512, kernel_size=(3, 3), stride=(1, 1), padding=(1, 1), bias=False)\n",
       "      (bn1): BatchNorm2d(512, eps=1e-05, momentum=0.1, affine=True, track_running_stats=True)\n",
       "      (relu): ReLU(inplace=True)\n",
       "      (conv2): Conv2d(512, 512, kernel_size=(3, 3), stride=(1, 1), padding=(1, 1), bias=False)\n",
       "      (bn2): BatchNorm2d(512, eps=1e-05, momentum=0.1, affine=True, track_running_stats=True)\n",
       "    )\n",
       "  )\n",
       "  (avgpool): AdaptiveAvgPool2d(output_size=(1, 1))\n",
       "  (fc): Linear(in_features=512, out_features=10, bias=True)\n",
       ")"
      ]
     },
     "execution_count": 55,
     "metadata": {},
     "output_type": "execute_result"
    }
   ],
   "source": [
    "device= torch.device(\"cuda\" if torch.cuda.is_available() else\"cpu\")\n",
    "#device= torch.device(\"cuda\" if torch.cuda.is_available() else \"cpu\")\n",
    "\n",
    "print(device)\n",
    "\n",
    "transform=transforms.Compose([\n",
    "    transforms.Resize(224),\n",
    "    transforms.ToTensor(),\n",
    "    transforms.Normalize((0.485,0.456,0.406),(0.229,0.224,0.225))\n",
    "])\n",
    "\n",
    "train_data=datasets.CIFAR10(root=\"./data\", train=True, download=True, transform=transform)\n",
    "test_data=datasets.CIFAR10(root='./data', train=False, download=True, transform=transform)\n",
    "\n",
    "train_loader=loader(train_data, batch_size=64, shuffle=True, num_workers=2)\n",
    "test_loader=loader(test_data, batch_size=128, shuffle=True, num_workers=2)\n",
    "\n",
    "model=models.resnet18(pretrained=True)\n",
    "model.fc=nn.Linear(model.fc.in_features,10)\n",
    "model=model.to(device)\n",
    "criterion = nn.CrossEntropyLoss()\n",
    "\n",
    "model"
   ]
  },
  {
   "cell_type": "code",
   "execution_count": 99,
   "id": "5949dcb6-4ebd-4a2f-b794-32b072172ae8",
   "metadata": {},
   "outputs": [],
   "source": [
    "#옵티마이저 세팅\n",
    "from qhoptim.pyt import QHAdam\n",
    "lr=1e-4\n",
    "optim_adamW=optim.AdamW(model.parameters(), lr=1e-3, weight_decay=1e-4, betas=(0.9,0.999), eps=1e-8)\n",
    "\n",
    "optim_radam=optim.RAdam(model.parameters(), lr=lr, betas=(0.9,0.999), eps=1e-8, weight_decay=0)\n",
    "\n",
    "optim_qha=QHAdam(model.parameters(), lr=lr, nus=(0.7,1.0),betas=(0.995,0.999),eps=1e-8,weight_decay=0)"
   ]
  },
  {
   "cell_type": "code",
   "execution_count": 107,
   "id": "4b291189-4ec1-464c-9f7b-bb8c3aa3caa8",
   "metadata": {},
   "outputs": [],
   "source": [
    "#스케줄러 연결\n",
    "from torch.optim.lr_scheduler import (\n",
    "    LambdaLR, CosineAnnealingLR, ReduceLROnPlateau, ChainedScheduler,SequentialLR, StepLR\n",
    ")\n",
    "total_warmup_step=500\n",
    "warmup_epochs = 5   # 처음 5 에폭 동안만 워밍업 적용\n",
    "main_epochs   = 20  # 이후 20 에폭 동안 메인 스케줄러 적용\n",
    "\n",
    "def warmup(step):\n",
    "    return min((step+1)/total_warmup_step,1.0)\n",
    "\n",
    "warmup_sched= LambdaLR(optim_adamW, lr_lambda=warmup)\n",
    "\n",
    "cosine_sched=CosineAnnealingLR(optim_adamW, T_max=50, eta_min=1e-5)\n",
    "\n",
    "plateau_sched=ReduceLROnPlateau(optim_adamW, mode='min', factor=0.5, patience=4)\n",
    "\n",
    "#scheduler=ChainedScheduler([warmup_sched,cosine_sched,plateau_sched])\n",
    "#scheduler_chain = ChainedScheduler([warmup_sched, cosine_sched])\n",
    "\n",
    "scheduler = SequentialLR(\n",
    "    optim_adamW,\n",
    "    schedulers=[warmup_sched, cosine_sched, \n",
    "                StepLR(optim_adamW, step_size=30, gamma=0.1)],\n",
    "    milestones=[warmup_epochs, warmup_epochs + main_epochs]\n",
    ")\n"
   ]
  },
  {
   "cell_type": "code",
   "execution_count": 109,
   "id": "4c3adb9a-c1b3-42d9-894e-44666cb2d3e4",
   "metadata": {},
   "outputs": [
    {
     "name": "stdout",
     "output_type": "stream",
     "text": [
      "Epoch 1/20  Train: 0.0106, Val: 0.7142\n",
      "Epoch 2/20  Train: 0.0080, Val: 0.6386\n",
      "Epoch 3/20  Train: 0.0067, Val: 0.6156\n",
      "Epoch 4/20  Train: 0.0066, Val: 0.6217\n",
      "Epoch 5/20  Train: 0.0060, Val: 0.6116\n",
      "Epoch 6/20  Train: 0.0041, Val: 0.6682\n",
      "Epoch 7/20  Train: 0.0077, Val: 0.5873\n",
      "Epoch 8/20  Train: 0.0073, Val: 0.5411\n",
      "Epoch 9/20  Train: 0.0055, Val: 0.6417\n",
      "Epoch 10/20  Train: 0.0056, Val: 0.5665\n",
      "Epoch 11/20  Train: 0.0076, Val: 0.5534\n",
      "Epoch 12/20  Train: 0.0041, Val: 0.5763\n",
      "Epoch 13/20  Train: 0.0051, Val: 0.5718\n",
      "Epoch 14/20  Train: 0.0062, Val: 0.5807\n",
      "Epoch 15/20  Train: 0.0046, Val: 0.5803\n",
      "Epoch 16/20  Train: 0.0079, Val: 0.6523\n",
      "Epoch 17/20  Train: 0.0050, Val: 0.6437\n",
      "Epoch 18/20  Train: 0.0054, Val: 0.5592\n",
      "Epoch 19/20  Train: 0.0038, Val: 0.5838\n",
      "Epoch 20/20  Train: 0.0068, Val: 0.5668\n"
     ]
    }
   ],
   "source": [
    "num_epoch=20\n",
    "\n",
    "train_losses=[]\n",
    "val_losses = []\n",
    "\n",
    "for epoch in range(num_epoch):\n",
    "    model.train()\n",
    "    total_loss=0.0\n",
    "    for data, (xb,yb) in enumerate(train_loader):\n",
    "        xb,yb =xb.to(device), yb.to(device)\n",
    "        optim_adamW.zero_grad()\n",
    "        out=model(xb)\n",
    "        loss=criterion(out, yb)\n",
    "        loss.backward()\n",
    "        torch.nn.utils.clip_grad_norm_(model.parameters(),max_norm=1.0)\n",
    "        optim_adamW.step()\n",
    "\n",
    "        warmup_sched.step()\n",
    "        total_loss+=loss.item()*xb.size(0)\n",
    "    train_loss=total_loss/len(train_loader.dataset)\n",
    "    train_losses.append(train_loss)\n",
    "\n",
    "\n",
    "    model.eval()\n",
    "    vrun = 0\n",
    "    with torch.no_grad():\n",
    "        for xb,yb in test_loader:\n",
    "            xb,yb=xb.to(device),yb.to(device)\n",
    "            vrun+=criterion(model(xb),yb).item()*xb.size(0)\n",
    "    val_loss=vrun/len(test_loader.dataset)\n",
    "    val_losses.append(val_loss)\n",
    "        \n",
    "    print(f\"Epoch {epoch+1}/{num_epoch}  Train: {train_loss:.4f}, Val: {val_loss:.4f}\")\n"
   ]
  },
  {
   "cell_type": "code",
   "execution_count": 110,
   "id": "7c3fe4aa-c93c-4ab5-b2af-c6ed8ef9611a",
   "metadata": {},
   "outputs": [
    {
     "data": {
      "image/png": "[encoded data removed]",
      "text/plain": [
       "<Figure size 640x480 with 1 Axes>"
      ]
     },
     "metadata": {},
     "output_type": "display_data"
    },
    {
     "data": {
      "image/png": "[encoded data removed]",
      "text/plain": [
       "<Figure size 640x480 with 1 Axes>"
      ]
     },
     "metadata": {},
     "output_type": "display_data"
    }
   ],
   "source": [
    "import matplotlib.pyplot as plt\n",
    "\n",
    "# 손실 그래프\n",
    "plt.plot(train_losses, label='Train Loss')\n",
    "plt.plot(val_losses,   label='Val Loss')\n",
    "plt.legend(); plt.show()\n",
    "\n",
    "# 학습률 변화\n",
    "lrs = [group['lr'] for group in optim_adamW.param_groups]\n",
    "plt.plot(lrs)\n",
    "plt.title(\"Learning Rate Schedule\"); plt.show()\n"
   ]
  },
  {
   "cell_type": "code",
   "execution_count": null,
   "id": "e5142d2b-bbe3-4a21-af91-fa369362a3da",
   "metadata": {},
   "outputs": [],
   "source": []
  }
 ],
 "metadata": {
  "kernelspec": {
   "display_name": "Python (CUDA 12.4)",
   "language": "python",
   "name": "cuda124"
  },
  "language_info": {
   "codemirror_mode": {
    "name": "ipython",
    "version": 3
   },
   "file_extension": ".py",
   "mimetype": "text/x-python",
   "name": "python",
   "nbconvert_exporter": "python",
   "pygments_lexer": "ipython3",
   "version": "3.12.7"
  }
 },
 "nbformat": 4,
 "nbformat_minor": 5
}
