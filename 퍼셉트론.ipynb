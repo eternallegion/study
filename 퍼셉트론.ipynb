{
 "cells": [
  {
   "cell_type": "code",
   "execution_count": 9,
   "id": "fc5d1c48",
   "metadata": {},
   "outputs": [
    {
     "name": "stdout",
     "output_type": "stream",
     "text": [
      "0 0.7273973822593689\n",
      "100 0.6931475400924683\n",
      "200 0.6931471824645996\n",
      "300 0.6931471824645996\n",
      "400 0.6931471824645996\n",
      "500 0.6931471824645996\n",
      "600 0.6931471824645996\n",
      "700 0.6931471824645996\n",
      "800 0.6931471824645996\n",
      "900 0.6931471824645996\n",
      "1000 0.6931471824645996\n",
      "1100 0.6931471824645996\n",
      "1200 0.6931471824645996\n",
      "1300 0.6931471824645996\n",
      "1400 0.6931471824645996\n",
      "1500 0.6931471824645996\n",
      "1600 0.6931471824645996\n",
      "1700 0.6931471824645996\n",
      "1800 0.6931471824645996\n",
      "1900 0.6931471824645996\n",
      "2000 0.6931471824645996\n",
      "2100 0.6931471824645996\n",
      "2200 0.6931471824645996\n",
      "2300 0.6931471824645996\n",
      "2400 0.6931471824645996\n",
      "2500 0.6931471824645996\n",
      "2600 0.6931471824645996\n",
      "2700 0.6931471824645996\n",
      "2800 0.6931471824645996\n",
      "2900 0.6931471824645996\n",
      "3000 0.6931471824645996\n",
      "3100 0.6931471824645996\n",
      "3200 0.6931471824645996\n",
      "3300 0.6931471824645996\n",
      "3400 0.6931471824645996\n",
      "3500 0.6931471824645996\n",
      "3600 0.6931471824645996\n",
      "3700 0.6931471824645996\n",
      "3800 0.6931471824645996\n",
      "3900 0.6931471824645996\n",
      "4000 0.6931471824645996\n",
      "4100 0.6931471824645996\n",
      "4200 0.6931471824645996\n",
      "4300 0.6931471824645996\n",
      "4400 0.6931471824645996\n",
      "4500 0.6931471824645996\n",
      "4600 0.6931471824645996\n",
      "4700 0.6931471824645996\n",
      "4800 0.6931471824645996\n",
      "4900 0.6931471824645996\n",
      "5000 0.6931471824645996\n",
      "5100 0.6931471824645996\n",
      "5200 0.6931471824645996\n",
      "5300 0.6931471824645996\n",
      "5400 0.6931471824645996\n",
      "5500 0.6931471824645996\n",
      "5600 0.6931471824645996\n",
      "5700 0.6931471824645996\n",
      "5800 0.6931471824645996\n",
      "5900 0.6931471824645996\n",
      "6000 0.6931471824645996\n",
      "6100 0.6931471824645996\n",
      "6200 0.6931471824645996\n",
      "6300 0.6931471824645996\n",
      "6400 0.6931471824645996\n",
      "6500 0.6931471824645996\n",
      "6600 0.6931471824645996\n",
      "6700 0.6931471824645996\n",
      "6800 0.6931471824645996\n",
      "6900 0.6931471824645996\n",
      "7000 0.6931471824645996\n",
      "7100 0.6931471824645996\n",
      "7200 0.6931471824645996\n",
      "7300 0.6931471824645996\n",
      "7400 0.6931471824645996\n",
      "7500 0.6931471824645996\n",
      "7600 0.6931471824645996\n",
      "7700 0.6931471824645996\n",
      "7800 0.6931471824645996\n",
      "7900 0.6931471824645996\n",
      "8000 0.6931471824645996\n",
      "8100 0.6931471824645996\n",
      "8200 0.6931471824645996\n",
      "8300 0.6931471824645996\n",
      "8400 0.6931471824645996\n",
      "8500 0.6931471824645996\n",
      "8600 0.6931471824645996\n",
      "8700 0.6931471824645996\n",
      "8800 0.6931471824645996\n",
      "8900 0.6931471824645996\n",
      "9000 0.6931471824645996\n",
      "9100 0.6931471824645996\n",
      "9200 0.6931471824645996\n",
      "9300 0.6931471824645996\n",
      "9400 0.6931471824645996\n",
      "9500 0.6931471824645996\n",
      "9600 0.6931471824645996\n",
      "9700 0.6931471824645996\n",
      "9800 0.6931471824645996\n",
      "9900 0.6931471824645996\n",
      "10000 0.6931471824645996\n"
     ]
    }
   ],
   "source": [
    "#singul perceptron  이진 분류(Binary Classification)=BCELoss\n",
    "import torch\n",
    "import torch.nn as nn\n",
    "import torch.optim as opt\n",
    "\n",
    "device='cuda'if torch.cuda.is_available()else 'cpu'\n",
    "torch.manual_seed(777)\n",
    "if device=='cuda':\n",
    "    torch.cuda.manual_seed_all(777)\n",
    "    \n",
    "X = torch.FloatTensor([[0, 0], [0, 1], [1, 0], [1, 1]]).to(device)\n",
    "Y = torch.FloatTensor([[0], [1], [1], [0]]).to(device)\n",
    "\n",
    "linear=nn.Linear(2,1,bias=True)\n",
    "sigmoid=nn.Sigmoid()\n",
    "model=nn.Sequential(linear,sigmoid).to(device)\n",
    "\n",
    "criter=torch.nn.BCELoss().to(device)\n",
    "opt=opt.SGD(model.parameters(),lr=1)\n",
    "\n",
    "for epoch in range(10001):\n",
    "    opt.zero_grad()\n",
    "    hypoth=model(X)\n",
    "    cost=criter(hypoth,Y)\n",
    "    cost.backward()\n",
    "    opt.step()\n",
    "    \n",
    "    if epoch % 100==0:\n",
    "        print(epoch,cost.item())"
   ]
  },
  {
   "cell_type": "code",
   "execution_count": 15,
   "id": "098d6513",
   "metadata": {},
   "outputs": [
    {
     "name": "stdout",
     "output_type": "stream",
     "text": [
      "[[0.5]\n",
      " [0.5]\n",
      " [0.5]\n",
      " [0.5]]\n",
      "[[0.]\n",
      " [0.]\n",
      " [0.]\n",
      " [0.]]\n",
      "[[0.]\n",
      " [1.]\n",
      " [1.]\n",
      " [0.]]\n",
      "0.5\n"
     ]
    }
   ],
   "source": [
    "with torch.no_grad():\n",
    "    hypoth=model(X)\n",
    "    predict=(hypoth>0.5).float()\n",
    "    accucuracy=(predict==Y).float().mean()\n",
    "    print(hypoth.detach().cpu().numpy())\n",
    "\n",
    "    print(predict.detach().cpu().numpy())\n",
    "    print(Y.cpu().numpy())\n",
    "    print(accucuracy.item())"
   ]
  },
  {
   "cell_type": "code",
   "execution_count": 22,
   "id": "ffce3646",
   "metadata": {},
   "outputs": [
    {
     "name": "stdout",
     "output_type": "stream",
     "text": [
      "0 0.7123862504959106\n",
      "100 0.6931455135345459\n",
      "200 0.6931434869766235\n",
      "300 0.6931414604187012\n",
      "400 0.6931393146514893\n",
      "500 0.6931372284889221\n",
      "600 0.6931349635124207\n",
      "700 0.6931326389312744\n",
      "800 0.6931300759315491\n",
      "900 0.6931273937225342\n",
      "1000 0.693124532699585\n",
      "1100 0.6931213140487671\n",
      "1200 0.6931179165840149\n",
      "1300 0.6931141018867493\n",
      "1400 0.693109929561615\n",
      "1500 0.693105161190033\n",
      "1600 0.693099856376648\n",
      "1700 0.6930936574935913\n",
      "1800 0.6930866241455078\n",
      "1900 0.6930783987045288\n",
      "2000 0.6930686235427856\n",
      "2100 0.6930570602416992\n",
      "2200 0.6930431127548218\n",
      "2300 0.6930258274078369\n",
      "2400 0.6930042505264282\n",
      "2500 0.6929768323898315\n",
      "2600 0.6929406523704529\n",
      "2700 0.6928920745849609\n",
      "2800 0.692824125289917\n",
      "2900 0.692724883556366\n",
      "3000 0.6925715208053589\n",
      "3100 0.6923163533210754\n",
      "3200 0.6918479204177856\n",
      "3300 0.6908588409423828\n",
      "3400 0.6882866024971008\n",
      "3500 0.6789494156837463\n",
      "3600 0.6647471785545349\n",
      "3700 0.5775047540664673\n",
      "3800 0.4817139208316803\n",
      "3900 0.5588605403900146\n",
      "4000 0.006220773793756962\n",
      "4100 0.0030661658383905888\n",
      "4200 0.002112792804837227\n",
      "4300 0.001609197584912181\n",
      "4400 0.0012964417692273855\n",
      "4500 0.0010834113927558064\n",
      "4600 0.0009291096357628703\n",
      "4700 0.000812328071333468\n",
      "4800 0.0007209089235402644\n",
      "4900 0.0006474385154433548\n",
      "5000 0.0005872247274965048\n",
      "5100 0.0005369411665014923\n",
      "5200 0.000494323787279427\n",
      "5300 0.0004578210355248302\n",
      "5400 0.000426178565248847\n",
      "5500 0.00039849430322647095\n",
      "5600 0.0003740603569895029\n",
      "5700 0.0003524316125549376\n",
      "5800 0.0003330390027258545\n",
      "5900 0.0003156216989737004\n",
      "6000 0.00029987312154844403\n",
      "6100 0.00028558034682646394\n",
      "6200 0.00027259020134806633\n",
      "6300 0.00026064534904435277\n",
      "6400 0.0002496671804692596\n",
      "6500 0.00023959531972650439\n",
      "6600 0.00023021161905489862\n",
      "6700 0.00022159975196700543\n",
      "6800 0.0002135220856871456\n",
      "6900 0.00020601056166924536\n",
      "7000 0.00019901311316061765\n",
      "7100 0.0001924505631905049\n",
      "7200 0.00018627458484843373\n",
      "7300 0.0001804997300496325\n",
      "7400 0.00017505224968772382\n",
      "7500 0.00016992015298455954\n",
      "7600 0.00016506246174685657\n",
      "7700 0.00016048453107941896\n",
      "7800 0.0001561351091368124\n",
      "7900 0.00015201885253190994\n",
      "8000 0.00014808119158260524\n",
      "8100 0.0001443466462660581\n",
      "8200 0.0001408102980349213\n",
      "8300 0.00013740701251663268\n",
      "8400 0.00013419127208180726\n",
      "8500 0.00013109944120515138\n",
      "8600 0.00012815702939406037\n",
      "8700 0.0001253008667845279\n",
      "8800 0.0001226166932610795\n",
      "8900 0.00012001197319477797\n",
      "9000 0.00011754350271075964\n",
      "9100 0.00011514865036588162\n",
      "9200 0.00011282554623903707\n",
      "9300 0.0001106308918679133\n",
      "9400 0.00010850258695427328\n",
      "9500 0.00010643970017554238\n",
      "9600 0.00010443979408591986\n",
      "9700 0.00010256071982439607\n",
      "9800 0.00010071167343994603\n",
      "9900 9.892035450320691e-05\n",
      "10000 9.721575770527124e-05\n"
     ]
    }
   ],
   "source": [
    "#backpropagation  https://wikidocs.net/60682\n",
    "import torch\n",
    "import torch.nn as nn\n",
    "import torch.optim as opt\n",
    "device='cuda'if torch.cuda.is_available() else 'cpu'\n",
    "\n",
    "torch.manual_seed(777)\n",
    "\n",
    "if device=='cuda':\n",
    "    torch.cuda.manual_seed_all(777)\n",
    "    \n",
    "X = torch.FloatTensor([[0, 0], [0, 1], [1, 0], [1, 1]]).to(device)\n",
    "Y = torch.FloatTensor([[0], [1], [1], [0]]).to(device)\n",
    "\n",
    "    \n",
    "model=nn.Sequential(\n",
    "    nn.Linear(2,10,bias=True), #input=2, hidden=10\n",
    "    nn.Sigmoid(),\n",
    "    nn.Linear(10,100,bias=True),\n",
    "    nn.Sigmoid(),\n",
    "    nn.Linear(100,10,bias=True),\n",
    "    nn.Sigmoid(),\n",
    "    nn.Linear(10,1,bias=True),\n",
    "    nn.Sigmoid()\n",
    ").to(device)\n",
    "\n",
    "criter=torch.nn.BCELoss().to(device)\n",
    "opt=opt.SGD(model.parameters(),lr=1)\n",
    "\n",
    "for epoch in range(10001):\n",
    "    hypoth=model(X)\n",
    "    opt.zero_grad()\n",
    "    cost=criter(hypoth,Y)\n",
    "    cost.backward()\n",
    "    opt.step()\n",
    "    \n",
    "    if epoch %100==0:\n",
    "        print(epoch, cost.item())"
   ]
  },
  {
   "cell_type": "code",
   "execution_count": 24,
   "id": "267d6a21",
   "metadata": {},
   "outputs": [
    {
     "name": "stdout",
     "output_type": "stream",
     "text": [
      "[[6.3535095e-05]\n",
      " [9.9989653e-01]\n",
      " [9.9989367e-01]\n",
      " [1.1546901e-04]]\n",
      "[[0.]\n",
      " [1.]\n",
      " [1.]\n",
      " [0.]]\n",
      "[[0.]\n",
      " [1.]\n",
      " [1.]\n",
      " [0.]]\n",
      "1.0\n"
     ]
    }
   ],
   "source": [
    "with torch.no_grad():\n",
    "    hypoth=model(X)\n",
    "    predict=(hypoth>0.5).float()\n",
    "    accuracy=(predict==Y).float().mean()\n",
    "    print(hypoth.detach().cpu().numpy())\n",
    "    print(predict.detach().cpu().numpy())\n",
    "    print(Y.cpu().numpy())\n",
    "    print(accuracy.item())"
   ]
  },
  {
   "cell_type": "code",
   "execution_count": 25,
   "id": "8a756d1c",
   "metadata": {},
   "outputs": [
    {
     "data": {
      "image/png": "[encoded data removed]",
      "text/plain": [
       "<Figure size 432x288 with 1 Axes>"
      ]
     },
     "metadata": {
      "needs_background": "light"
     },
     "output_type": "display_data"
    }
   ],
   "source": [
    "#비선형함수-> 선형 함수로는 은닉층을 여러번 추가하더라도 1회 추가한 것과 차이를 줄 수 없습니다.\n",
    "#sigmoid\n",
    "import numpy as np\n",
    "import matplotlib.pyplot as mp\n",
    "\n",
    "\n",
    "def sigmoid(x):\n",
    "    return 1/(1+np.exp(-x))\n",
    "x=np.arange(-5.0,5.0,0.1)\n",
    "y=sigmoid(x)\n",
    "\n",
    "mp.plot(x,y)\n",
    "mp.plot([0,0],[1.0,0.0],':')\n",
    "mp.title('sigmoid')\n",
    "mp.show()\n",
    "'''\n",
    "기울기를 계산하면 0에 가까운 아주 작은 값이 나오게 됩니다. 그런데 역전파 과정에서 0에 가까운 아주 작은 기울기가 곱해지게 되면, 앞단에는 기울기가 잘 전달되지 않게 됩니다. 이러한 현상을 기울기 소실(Vanishing Gradient) 문제라고 합니다.\n",
    "시그모이드 함수를 사용하는 은닉층의 개수가 다수가 될 경우에는 0에 가까운 기울기가 계속 곱해지면 앞단에서는 거의 기울기를 전파받을 수 없게 됩니다. 다시 말해 매개변수 \n",
    "가 업데이트 되지 않아 학습이 되지를 않습니다.\n",
    "'''\n"
   ]
  },
  {
   "cell_type": "code",
   "execution_count": 32,
   "id": "ef3e6e4c",
   "metadata": {},
   "outputs": [
    {
     "data": {
      "image/png": "[encoded data removed]",
      "text/plain": [
       "<Figure size 432x288 with 1 Axes>"
      ]
     },
     "metadata": {
      "needs_background": "light"
     },
     "output_type": "display_data"
    }
   ],
   "source": [
    "#하이퍼탄젠트\n",
    "x=np.arange(-5.0,5.0,0.1)\n",
    "y=np.tanh(x)\n",
    "mp.plot(x,y)\n",
    "mp.plot([0,0],[1.0,-1.0],':')\n",
    "mp.axhline(y=0,color='r',linestyle='--')\n",
    "mp.show()"
   ]
  },
  {
   "cell_type": "code",
   "execution_count": 34,
   "id": "a1a441bb",
   "metadata": {},
   "outputs": [
    {
     "data": {
      "image/png": "[encoded data removed]",
      "text/plain": [
       "<Figure size 432x288 with 1 Axes>"
      ]
     },
     "metadata": {
      "needs_background": "light"
     },
     "output_type": "display_data"
    }
   ],
   "source": [
    "#렐루\n",
    "def relu(x):\n",
    "    return np.maximum(0,x)\n",
    "\n",
    "x = np.arange(-5.0, 5.0, 0.1)\n",
    "y = relu(x)\n",
    "\n",
    "mp.plot(x, y)\n",
    "mp.plot([0,0],[5.0,0.0], ':')\n",
    "mp.title('Relu Function')\n",
    "mp.show()"
   ]
  },
  {
   "cell_type": "code",
   "execution_count": 36,
   "id": "1463daba",
   "metadata": {},
   "outputs": [
    {
     "data": {
      "image/png": "[encoded data removed]",
      "text/plain": [
       "<Figure size 432x288 with 1 Axes>"
      ]
     },
     "metadata": {
      "needs_background": "light"
     },
     "output_type": "display_data"
    }
   ],
   "source": [
    "#리키 렐루(Leaky ReLU)\n",
    "a=0.1\n",
    "def liky(x):\n",
    "    return np.maximum(a*x,x)\n",
    "x = np.arange(-5.0, 5.0, 0.1)\n",
    "y = liky(x)\n",
    "\n",
    "mp.plot(x, y)\n",
    "mp.plot([0,0],[5.0,0.0], ':')\n",
    "mp.title('Leaky ReLU Function')\n",
    "mp.show()"
   ]
  },
  {
   "cell_type": "code",
   "execution_count": 39,
   "id": "8ea49318",
   "metadata": {},
   "outputs": [
    {
     "data": {
      "image/png": "[encoded data removed]",
      "text/plain": [
       "<Figure size 432x288 with 1 Axes>"
      ]
     },
     "metadata": {
      "needs_background": "light"
     },
     "output_type": "display_data"
    }
   ],
   "source": [
    "#소프트맥스 함수(Softamx function)\n",
    "x = np.arange(-5.0, 5.0, 0.1)\n",
    "y=np.exp(x)/np.sum(np.exp(x))\n",
    "mp.plot(x,y)\n",
    "mp.show()"
   ]
  },
  {
   "cell_type": "code",
   "execution_count": 40,
   "id": "c2bc6500",
   "metadata": {},
   "outputs": [
    {
     "data": {
      "text/plain": [
       "'\\n문제\\t활성화 함수\\t비용 함수\\n이진 분류\\t시그모이드\\tnn.BCELoss()\\n다중 클래스 분류\\t소프트맥스\\tnn.CrossEntropyLoss()\\n회귀\\t없음\\tMSE'"
      ]
     },
     "execution_count": 40,
     "metadata": {},
     "output_type": "execute_result"
    }
   ],
   "source": [
    "'''\n",
    "문제\t활성화 함수\t비용 함수\n",
    "이진 분류\t시그모이드\tnn.BCELoss()\n",
    "다중 클래스 분류\t소프트맥스\tnn.CrossEntropyLoss()\n",
    "회귀\t없음\tMSE'''"
   ]
  },
  {
   "cell_type": "code",
   "execution_count": null,
   "id": "cecfedd8",
   "metadata": {},
   "outputs": [],
   "source": []
  },
  {
   "cell_type": "code",
   "execution_count": 51,
   "id": "26c09102",
   "metadata": {},
   "outputs": [
    {
     "name": "stdout",
     "output_type": "stream",
     "text": [
      "[[ 0.  0.  0. 12. 13.  5.  0.  0.]\n",
      " [ 0.  0.  0. 11. 16.  9.  0.  0.]\n",
      " [ 0.  0.  3. 15. 16.  6.  0.  0.]\n",
      " [ 0.  7. 15. 16. 16.  2.  0.  0.]\n",
      " [ 0.  0.  1. 16. 16.  3.  0.  0.]\n",
      " [ 0.  0.  1. 16. 16.  6.  0.  0.]\n",
      " [ 0.  0.  1. 16. 16.  6.  0.  0.]\n",
      " [ 0.  0.  0. 11. 16. 10.  0.  0.]]\n",
      "1\n",
      "1797\n"
     ]
    }
   ],
   "source": [
    "%matplotlib inline\n",
    "import matplotlib.pyplot as mp\n",
    "from sklearn.datasets import load_digits\n",
    "digits=load_digits()\n",
    "\n",
    "print(digits.images[1])\n",
    "print(digits.target[1])\n",
    "print(f'{len(digits.images)}')"
   ]
  },
  {
   "cell_type": "code",
   "execution_count": 78,
   "id": "883d370b",
   "metadata": {},
   "outputs": [
    {
     "data": {
      "image/png": "[encoded data removed]",
      "text/plain": [
       "<Figure size 432x288 with 10 Axes>"
      ]
     },
     "metadata": {
      "needs_background": "light"
     },
     "output_type": "display_data"
    }
   ],
   "source": [
    "images_and_labels=list(zip(digits.images,digits.target))\n",
    "for index,(image,label)in enumerate(images_and_labels[:10]):\n",
    "    mp.subplot(2,5,index+1)\n",
    "    mp.axis('off')\n",
    "    mp.imshow(image,cmap=mp.cm.gray_r,interpolation='nearest')\n",
    "    mp.title('sample: %i' % label)"
   ]
  },
  {
   "cell_type": "code",
   "execution_count": 99,
   "id": "8496b7c0",
   "metadata": {},
   "outputs": [
    {
     "name": "stdout",
     "output_type": "stream",
     "text": [
      "0\n",
      "1\n",
      "2\n",
      "3\n",
      "4\n",
      "5\n",
      "6\n",
      "7\n",
      "8\n",
      "9\n",
      "[ 0.  0.  0. 12. 13.  5.  0.  0.  0.  0.  0. 11. 16.  9.  0.  0.  0.  0.\n",
      "  3. 15. 16.  6.  0.  0.  0.  7. 15. 16. 16.  2.  0.  0.  0.  0.  1. 16.\n",
      " 16.  3.  0.  0.  0.  0.  1. 16. 16.  6.  0.  0.  0.  0.  1. 16. 16.  6.\n",
      "  0.  0.  0.  0.  0. 11. 16. 10.  0.  0.]\n",
      "Epoch    0/100 Cost: 2.605824\n",
      "Epoch   10/100 Cost: 2.188030\n",
      "Epoch   20/100 Cost: 1.941794\n",
      "Epoch   30/100 Cost: 1.610991\n",
      "Epoch   40/100 Cost: 1.234849\n",
      "Epoch   50/100 Cost: 0.907054\n",
      "Epoch   60/100 Cost: 0.659833\n",
      "Epoch   70/100 Cost: 0.476392\n",
      "Epoch   80/100 Cost: 0.347289\n",
      "Epoch   90/100 Cost: 0.258817\n"
     ]
    },
    {
     "data": {
      "text/plain": [
       "[<matplotlib.lines.Line2D at 0x7f324a7660b0>]"
      ]
     },
     "execution_count": 99,
     "metadata": {},
     "output_type": "execute_result"
    },
    {
     "data": {
      "image/png": "[encoded data removed]",
      "text/plain": [
       "<Figure size 432x288 with 1 Axes>"
      ]
     },
     "metadata": {
      "needs_background": "light"
     },
     "output_type": "display_data"
    }
   ],
   "source": [
    "for i in range(10):\n",
    "    print(digits.target[i])\n",
    "        \n",
    "print(digits.data[1])\n",
    "\n",
    "x=digits.data\n",
    "y=digits.target\n",
    "\n",
    "import torch\n",
    "import torch.nn as nn\n",
    "from torch import optim as opt\n",
    "\n",
    "model=nn.Sequential(\n",
    "    nn.Linear(64,32),\n",
    "    nn.ReLU(),\n",
    "    nn.Linear(32,16),\n",
    "    nn.ReLU(),\n",
    "    nn.Linear(16,10)\n",
    ")\n",
    "x=torch.tensor(x,dtype=torch.float32)\n",
    "y=torch.tensor(y,dtype=torch.int64)\n",
    "loss_fn=nn.CrossEntropyLoss()\n",
    "opt=opt.Adam(model.parameters())\n",
    "losses=[]\n",
    "\n",
    "for epoch in range(100):\n",
    "    opt.zero_grad()\n",
    "    y_pred=model(x)\n",
    "    loss=loss_fn(y_pred,y)\n",
    "    loss.backward()\n",
    "    opt.step()\n",
    "    \n",
    "\n",
    "    if epoch % 10 == 0:\n",
    "        print('Epoch {:4d}/{} Cost: {:.6f}'.format(\n",
    "            epoch, 100, loss.item()\n",
    "        )) \n",
    "        \n",
    "    losses.append(loss.item())\n",
    "mp.plot(losses)"
   ]
  },
  {
   "cell_type": "code",
   "execution_count": null,
   "id": "21e639dd",
   "metadata": {},
   "outputs": [],
   "source": []
  },
  {
   "cell_type": "code",
   "execution_count": 102,
   "id": "24a7a262",
   "metadata": {},
   "outputs": [
    {
     "name": "stderr",
     "output_type": "stream",
     "text": [
      "/usr/local/lib/python3.10/dist-packages/sklearn/datasets/_openml.py:1022: FutureWarning: The default value of `parser` will change from `'liac-arff'` to `'auto'` in 1.4. You can set `parser='auto'` to silence this warning. Therefore, an `ImportError` will be raised from 1.4 if the dataset is dense and pandas is not installed. Note that the pandas parser may return different data types. See the Notes Section in fetch_openml's API doc for details.\n",
      "  warn(\n"
     ]
    },
    {
     "data": {
      "text/plain": [
       "array([  0.,   0.,   0.,   0.,   0.,   0.,   0.,   0.,   0.,   0.,   0.,\n",
       "         0.,   0.,   0.,   0.,   0.,   0.,   0.,   0.,   0.,   0.,   0.,\n",
       "         0.,   0.,   0.,   0.,   0.,   0.,   0.,   0.,   0.,   0.,   0.,\n",
       "         0.,   0.,   0.,   0.,   0.,   0.,   0.,   0.,   0.,   0.,   0.,\n",
       "         0.,   0.,   0.,   0.,   0.,   0.,   0.,   0.,   0.,   0.,   0.,\n",
       "         0.,   0.,   0.,   0.,   0.,   0.,   0.,   0.,   0.,   0.,   0.,\n",
       "         0.,   0.,   0.,   0.,   0.,   0.,   0.,   0.,   0.,   0.,   0.,\n",
       "         0.,   0.,   0.,   0.,   0.,   0.,   0.,   0.,   0.,   0.,   0.,\n",
       "         0.,   0.,   0.,   0.,   0.,   0.,   0.,   0.,   0.,   0.,   0.,\n",
       "         0.,   0.,   0.,   0.,   0.,   0.,   0.,   0.,   0.,   0.,   0.,\n",
       "         0.,   0.,   0.,   0.,   0.,   0.,   0.,   0.,   0.,   0.,   0.,\n",
       "         0.,   0.,   0.,   0.,   0.,   0.,   0.,   0.,   0.,   0.,   0.,\n",
       "         0.,   0.,   0.,   0.,   0.,   0.,   0.,   0.,   0.,   0.,   0.,\n",
       "         0.,   0.,   0.,   0.,   0.,   0.,   0.,   0.,   0.,   3.,  18.,\n",
       "        18.,  18., 126., 136., 175.,  26., 166., 255., 247., 127.,   0.,\n",
       "         0.,   0.,   0.,   0.,   0.,   0.,   0.,   0.,   0.,   0.,   0.,\n",
       "        30.,  36.,  94., 154., 170., 253., 253., 253., 253., 253., 225.,\n",
       "       172., 253., 242., 195.,  64.,   0.,   0.,   0.,   0.,   0.,   0.,\n",
       "         0.,   0.,   0.,   0.,   0.,  49., 238., 253., 253., 253., 253.,\n",
       "       253., 253., 253., 253., 251.,  93.,  82.,  82.,  56.,  39.,   0.,\n",
       "         0.,   0.,   0.,   0.,   0.,   0.,   0.,   0.,   0.,   0.,   0.,\n",
       "        18., 219., 253., 253., 253., 253., 253., 198., 182., 247., 241.,\n",
       "         0.,   0.,   0.,   0.,   0.,   0.,   0.,   0.,   0.,   0.,   0.,\n",
       "         0.,   0.,   0.,   0.,   0.,   0.,   0.,  80., 156., 107., 253.,\n",
       "       253., 205.,  11.,   0.,  43., 154.,   0.,   0.,   0.,   0.,   0.,\n",
       "         0.,   0.,   0.,   0.,   0.,   0.,   0.,   0.,   0.,   0.,   0.,\n",
       "         0.,   0.,   0.,  14.,   1., 154., 253.,  90.,   0.,   0.,   0.,\n",
       "         0.,   0.,   0.,   0.,   0.,   0.,   0.,   0.,   0.,   0.,   0.,\n",
       "         0.,   0.,   0.,   0.,   0.,   0.,   0.,   0.,   0.,   0.,   0.,\n",
       "       139., 253., 190.,   2.,   0.,   0.,   0.,   0.,   0.,   0.,   0.,\n",
       "         0.,   0.,   0.,   0.,   0.,   0.,   0.,   0.,   0.,   0.,   0.,\n",
       "         0.,   0.,   0.,   0.,   0.,   0.,  11., 190., 253.,  70.,   0.,\n",
       "         0.,   0.,   0.,   0.,   0.,   0.,   0.,   0.,   0.,   0.,   0.,\n",
       "         0.,   0.,   0.,   0.,   0.,   0.,   0.,   0.,   0.,   0.,   0.,\n",
       "         0.,   0.,  35., 241., 225., 160., 108.,   1.,   0.,   0.,   0.,\n",
       "         0.,   0.,   0.,   0.,   0.,   0.,   0.,   0.,   0.,   0.,   0.,\n",
       "         0.,   0.,   0.,   0.,   0.,   0.,   0.,   0.,   0.,  81., 240.,\n",
       "       253., 253., 119.,  25.,   0.,   0.,   0.,   0.,   0.,   0.,   0.,\n",
       "         0.,   0.,   0.,   0.,   0.,   0.,   0.,   0.,   0.,   0.,   0.,\n",
       "         0.,   0.,   0.,   0.,   0.,  45., 186., 253., 253., 150.,  27.,\n",
       "         0.,   0.,   0.,   0.,   0.,   0.,   0.,   0.,   0.,   0.,   0.,\n",
       "         0.,   0.,   0.,   0.,   0.,   0.,   0.,   0.,   0.,   0.,   0.,\n",
       "         0.,  16.,  93., 252., 253., 187.,   0.,   0.,   0.,   0.,   0.,\n",
       "         0.,   0.,   0.,   0.,   0.,   0.,   0.,   0.,   0.,   0.,   0.,\n",
       "         0.,   0.,   0.,   0.,   0.,   0.,   0.,   0.,   0., 249., 253.,\n",
       "       249.,  64.,   0.,   0.,   0.,   0.,   0.,   0.,   0.,   0.,   0.,\n",
       "         0.,   0.,   0.,   0.,   0.,   0.,   0.,   0.,   0.,   0.,   0.,\n",
       "         0.,  46., 130., 183., 253., 253., 207.,   2.,   0.,   0.,   0.,\n",
       "         0.,   0.,   0.,   0.,   0.,   0.,   0.,   0.,   0.,   0.,   0.,\n",
       "         0.,   0.,   0.,   0.,   0.,  39., 148., 229., 253., 253., 253.,\n",
       "       250., 182.,   0.,   0.,   0.,   0.,   0.,   0.,   0.,   0.,   0.,\n",
       "         0.,   0.,   0.,   0.,   0.,   0.,   0.,   0.,   0.,  24., 114.,\n",
       "       221., 253., 253., 253., 253., 201.,  78.,   0.,   0.,   0.,   0.,\n",
       "         0.,   0.,   0.,   0.,   0.,   0.,   0.,   0.,   0.,   0.,   0.,\n",
       "         0.,   0.,  23.,  66., 213., 253., 253., 253., 253., 198.,  81.,\n",
       "         2.,   0.,   0.,   0.,   0.,   0.,   0.,   0.,   0.,   0.,   0.,\n",
       "         0.,   0.,   0.,   0.,   0.,   0.,  18., 171., 219., 253., 253.,\n",
       "       253., 253., 195.,  80.,   9.,   0.,   0.,   0.,   0.,   0.,   0.,\n",
       "         0.,   0.,   0.,   0.,   0.,   0.,   0.,   0.,   0.,   0.,  55.,\n",
       "       172., 226., 253., 253., 253., 253., 244., 133.,  11.,   0.,   0.,\n",
       "         0.,   0.,   0.,   0.,   0.,   0.,   0.,   0.,   0.,   0.,   0.,\n",
       "         0.,   0.,   0.,   0.,   0., 136., 253., 253., 253., 212., 135.,\n",
       "       132.,  16.,   0.,   0.,   0.,   0.,   0.,   0.,   0.,   0.,   0.,\n",
       "         0.,   0.,   0.,   0.,   0.,   0.,   0.,   0.,   0.,   0.,   0.,\n",
       "         0.,   0.,   0.,   0.,   0.,   0.,   0.,   0.,   0.,   0.,   0.,\n",
       "         0.,   0.,   0.,   0.,   0.,   0.,   0.,   0.,   0.,   0.,   0.,\n",
       "         0.,   0.,   0.,   0.,   0.,   0.,   0.,   0.,   0.,   0.,   0.,\n",
       "         0.,   0.,   0.,   0.,   0.,   0.,   0.,   0.,   0.,   0.,   0.,\n",
       "         0.,   0.,   0.,   0.,   0.,   0.,   0.,   0.,   0.,   0.,   0.,\n",
       "         0.,   0.,   0.,   0.,   0.,   0.,   0.,   0.,   0.,   0.,   0.,\n",
       "         0.,   0.,   0.,   0.,   0.,   0.,   0.,   0.,   0.,   0.,   0.,\n",
       "         0.,   0.,   0.])"
      ]
     },
     "execution_count": 102,
     "metadata": {},
     "output_type": "execute_result"
    }
   ],
   "source": [
    "import numpy as np\n",
    "import matplotlib.pyplot as mp\n",
    "from sklearn.datasets import fetch_openml\n",
    "\n",
    "mnist=fetch_openml('mnist_784',version=1, cache=True,as_frame=False)\n",
    "mnist.data[0]"
   ]
  },
  {
   "cell_type": "code",
   "execution_count": 163,
   "id": "f7bebd12",
   "metadata": {},
   "outputs": [
    {
     "name": "stdout",
     "output_type": "stream",
     "text": [
      "4\n"
     ]
    },
    {
     "data": {
      "image/png": "[encoded data removed]",
      "text/plain": [
       "<Figure size 432x288 with 1 Axes>"
      ]
     },
     "metadata": {
      "needs_background": "light"
     },
     "output_type": "display_data"
    }
   ],
   "source": [
    "mnist.target[0]\n",
    "mnist.target=mnist.target.astype(np.int8)\n",
    "\n",
    "x = mnist.data / 255  # 0-255값을 [0,1] 구간으로 정규화\n",
    "y = mnist.target\n",
    "\n",
    "x[0]\n",
    "mp.imshow(x[2].reshape(28,28),cmap='gray')\n",
    "print(y[2])"
   ]
  },
  {
   "cell_type": "code",
   "execution_count": 170,
   "id": "7f65e1c5",
   "metadata": {},
   "outputs": [],
   "source": [
    "import torch\n",
    "from torch.utils.data import TensorDataset, DataLoader\n",
    "from sklearn.model_selection import train_test_split\n",
    "\n",
    "x_train,x_test,y_train,y_test=train_test_split(x,y,test_size=1/7,random_state=0)\n",
    "\n",
    "x_train=torch.Tensor(x_train)\n",
    "x_test=torch.Tensor(x_test)\n",
    "y_train=torch.LongTensor(y_train)\n",
    "y_test=torch.LongTensor(y_test)\n",
    "\n",
    "d_train=TensorDataset(x_train,y_train)\n",
    "d_test=TensorDataset(x_test,y_test)\n",
    "\n",
    "\n",
    "load_train=DataLoader(d_train,batch_size=64,shuffle=True)\n",
    "load_test=DataLoader(d_test,batch_size=64,shuffle=True)"
   ]
  },
  {
   "cell_type": "code",
   "execution_count": 176,
   "id": "436319f4",
   "metadata": {},
   "outputs": [
    {
     "name": "stdout",
     "output_type": "stream",
     "text": [
      "Sequential(\n",
      "  (fc1): Linear(in_features=784, out_features=100, bias=True)\n",
      "  (relu1): ReLU()\n",
      "  (fc2): Linear(in_features=100, out_features=100, bias=True)\n",
      "  (relu2): ReLU()\n",
      "  (fc3): Linear(in_features=100, out_features=10, bias=True)\n",
      ")\n"
     ]
    },
    {
     "data": {
      "text/plain": [
       "' outputs의 크기가 (배치 크기)x(클래스의 개수)이므로  열이 하나의 이미지의 대응되는 벡터를 나타냅니다. 따라서 행(0), 열(1) 중 열을 기준으로 최댓값을 뽑아 예측값을 하나 만드는 것입니다. 예를 들어서 배치 크기가 2이고 클래스가 3개인 outputs가 있다고 생각해봅니다.\\n\\noutputs = [[0.1, 0.4, 0.5], [0.2, 0.6, 0,2]] \\n\\n여기서의 최댓값의 위치는 2번째(0.5)와 1번째(0.6)입니다. 즉, 첫번째 이미지는 2라고 예측하는 것이고 두번째 이미지는 1이라고 예측을 하게 됩니다. 이를 torch.max를 이용하여 나타냅니다.\\n\\ntorch.max는 최댓값과 최댓값의 위치를 산출해주는데 여기서 우리는 최댓값은 필요가 없으므로 받지 않아도 됩니다. 따라서 _ (언더바)로 처리하여 해당 출력값은 저장하지 않겠다는 의미입니다. 즉, _, predicted는 최댓값의 위치만 predicted에 저장하겠다는 의미입니다.\\n\\n따라서 _, predicted = torch.max(outputs.data, 1)의 의미는 각 열(1)마다 최댓값의 위치를 예측값으로 사용하겠다는 의미입니다. 마지막으로 .data는 예측값을 계산할 때는 역전파 계산이 필요없기 때문에 데이터만 사용한다는 의미에서 사용된 것입니다. ( 그런데 지금 보니까 with torch.no_grad()를 사용했기 때문에 .data를 없애도 될 것 같습니다.)'"
      ]
     },
     "execution_count": 176,
     "metadata": {},
     "output_type": "execute_result"
    }
   ],
   "source": [
    "from torch import nn\n",
    "\n",
    "model=nn.Sequential()\n",
    "model.add_module('fc1',nn.Linear(28*28*1,100))\n",
    "model.add_module('relu1',nn.ReLU())\n",
    "model.add_module('fc2',nn.Linear(100,100))\n",
    "model.add_module('relu2',nn.ReLU())\n",
    "model.add_module('fc3',nn.Linear(100,10))\n",
    "\n",
    "print(model)\n",
    "\n",
    "from torch import optim as opt\n",
    "\n",
    "\n",
    "loss_fn=nn.CrossEntropyLoss()\n",
    "opt=opt.Adam(model.parameters(),lr=0.01)\n",
    "\n",
    "\n",
    "def train(epoch):\n",
    "    model.train()\n",
    "    for data,targets in load_train:\n",
    "        opt.zero_grad()\n",
    "        output=model(data)\n",
    "        loss=loss_fn(output,targets)\n",
    "        loss.backward()        \n",
    "        opt.step()\n",
    "        \n",
    "    print(epoch)\n",
    "\n",
    "    print(\"epoch{}：완료\\n\".format(epoch))    \n",
    "    \n",
    "def test():\n",
    "    model.eval()\n",
    "    \n",
    "    correct=0\n",
    "    \n",
    "    with torch.no_grad():\n",
    "        \n",
    "        for data,targets in load_test:\n",
    "            \n",
    "            output=model(data)\n",
    "            \n",
    "            #pedict=torch.max(output.data,1)\n",
    "            _, predict = torch.max(output.data, 1)  # 확률이 가장 높은 레이블이 무엇인지 계산\n",
    "\n",
    "            #correct += predict.eq(targets.data.view_as(predict)).sum()\n",
    "            correct += predict.eq(targets.data.view_as(predict)).sum() \n",
    "            \n",
    "    data_num=len(load_test.dataset)\n",
    "    \n",
    "    \n",
    "    \n",
    "    print('\\n테스트 데이터에서 예측 정확도: {}/{} ({:.0f}%)\\n'.format(correct,\n",
    "                                                   data_num, 100. * correct / data_num))\n",
    "    \n",
    "    \n",
    "\n",
    "''' outputs의 크기가 (배치 크기)x(클래스의 개수)이므로  열이 하나의 이미지의 대응되는 벡터를 나타냅니다. 따라서 행(0), 열(1) 중 열을 기준으로 최댓값을 뽑아 예측값을 하나 만드는 것입니다. 예를 들어서 배치 크기가 2이고 클래스가 3개인 outputs가 있다고 생각해봅니다.\n",
    "\n",
    "outputs = [[0.1, 0.4, 0.5], [0.2, 0.6, 0,2]] \n",
    "\n",
    "여기서의 최댓값의 위치는 2번째(0.5)와 1번째(0.6)입니다. 즉, 첫번째 이미지는 2라고 예측하는 것이고 두번째 이미지는 1이라고 예측을 하게 됩니다. 이를 torch.max를 이용하여 나타냅니다.\n",
    "\n",
    "torch.max는 최댓값과 최댓값의 위치를 산출해주는데 여기서 우리는 최댓값은 필요가 없으므로 받지 않아도 됩니다. 따라서 _ (언더바)로 처리하여 해당 출력값은 저장하지 않겠다는 의미입니다. 즉, _, predicted는 최댓값의 위치만 predicted에 저장하겠다는 의미입니다.\n",
    "\n",
    "따라서 _, predicted = torch.max(outputs.data, 1)의 의미는 각 열(1)마다 최댓값의 위치를 예측값으로 사용하겠다는 의미입니다. 마지막으로 .data는 예측값을 계산할 때는 역전파 계산이 필요없기 때문에 데이터만 사용한다는 의미에서 사용된 것입니다. ( 그런데 지금 보니까 with torch.no_grad()를 사용했기 때문에 .data를 없애도 될 것 같습니다.)''' "
   ]
  },
  {
   "cell_type": "code",
   "execution_count": 177,
   "id": "c7eece19",
   "metadata": {},
   "outputs": [
    {
     "name": "stdout",
     "output_type": "stream",
     "text": [
      "\n",
      "테스트 데이터에서 예측 정확도: 1064/10000 (11%)\n",
      "\n"
     ]
    }
   ],
   "source": [
    "test()"
   ]
  },
  {
   "cell_type": "code",
   "execution_count": 195,
   "id": "3beec748",
   "metadata": {},
   "outputs": [
    {
     "name": "stdout",
     "output_type": "stream",
     "text": [
      "tensor(2)\n",
      "tensor(2)\n",
      "이 이미지 데이터의 정답 레이블은 2입니다\n"
     ]
    },
    {
     "data": {
      "image/png": "[encoded data removed]",
      "text/plain": [
       "<Figure size 432x288 with 1 Axes>"
      ]
     },
     "metadata": {
      "needs_background": "light"
     },
     "output_type": "display_data"
    }
   ],
   "source": [
    "'''\n",
    "for epoch in range(3):\n",
    "    train(epoch)\n",
    "    \n",
    "test()\n",
    "'''\n",
    "index=2019\n",
    "\n",
    "model.eval()\n",
    "data=x_test[index]\n",
    "output=model(data)\n",
    "_,predict=torch.max(output.data,0)\n",
    "\n",
    "print(predict)\n",
    "\n",
    "x_test_show=(x_test[index]).numpy()\n",
    "mp.imshow(x_test_show.reshape(28,28),cmap='gray')\n",
    "print(y_test[index])\n",
    "print(\"이 이미지 데이터의 정답 레이블은 {:.0f}입니다\".format(y_test[index]))\n"
   ]
  },
  {
   "cell_type": "code",
   "execution_count": null,
   "id": "69ec6394",
   "metadata": {},
   "outputs": [],
   "source": []
  },
  {
   "cell_type": "code",
   "execution_count": 196,
   "id": "bb21344d",
   "metadata": {},
   "outputs": [],
   "source": [
    "#overfitting막기  ->drop out\n",
    "class NN(nn.Module):\n",
    "    def __init__(self,input,hidden,output):\n",
    "        super(NN,self).__init__()\n",
    "        self.f1=nn.Linear(input,hidden)\n",
    "        self.relu=nn.ReLU()\n",
    "        self.f2=nn.Linear(hidden,hidden)\n",
    "        self.relu=nn.ReLU()\n",
    "        self.f3=nn.Linear(hidden,output)\n",
    "        \n",
    "    def forward(self,x):\n",
    "        out=self.f1(x)\n",
    "        out=self.relu(out)\n",
    "        out=self.f2(out)\n",
    "        out=self.relu(out)\n",
    "        out=self.f3(out)\n",
    "        return out"
   ]
  },
  {
   "cell_type": "code",
   "execution_count": 198,
   "id": "d9341d1b",
   "metadata": {},
   "outputs": [],
   "source": [
    "class NN(nn.Module):\n",
    "    def __init__(self,input,hidden,output):\n",
    "        super(NN,self).__init__()\n",
    "        self.f1=nn.Linear(input,hidden)\n",
    "        self.relu=nn.ReLU()\n",
    "        self.f2=nn.Linear(hidden,output)\n",
    "        \n",
    "    def forward(self,x):\n",
    "        out=self.f1(x)\n",
    "        out=self.relu(out)\n",
    "        out=self.f2(out)\n",
    "        return out\n",
    "    \n",
    "model=NN(10,20,2)\n",
    "opt=torch.optim.Adam(model.parameters(),lr=1e-4,weight_decay=1e-5)\n",
    "#가중치 감소(Weight Decay)"
   ]
  },
  {
   "cell_type": "code",
   "execution_count": null,
   "id": "630e8902",
   "metadata": {},
   "outputs": [],
   "source": []
  },
  {
   "cell_type": "markdown",
   "id": "a39a8025",
   "metadata": {},
   "source": [
    "기울기 소실(Gradient Vanishing)과 폭주(Exploding)\n",
    "\n",
    "깊은 인공 신경망을 학습하다보면 역전파 과정에서 입력층으로 갈 수록 기울기(Gradient)가 점차적으로 작아지는 현상이 발생할 수 있습니다. 입력층에 가까운 층들에서 가중치들이 업데이트가 제대로 되지 않으면 결국 최적의 모델을 찾을 수 없게 됩니다. 이를 기울기 소실(Gradient Vanishing)이라고 합니다.\n",
    "\n",
    "반대의 경우도 있습니다. 기울기가 점차 커지더니 가중치들이 비정상적으로 큰 값이 되면서 결국 발산되기도 합니다. 이를 기울기 폭주(Gradient Exploding)이라고 하며, 뒤에서 배울 순환 신경망(Recurrent Neural Network, RNN)에서 발생할 수 있습니다.\n",
    "\n",
    "가중치 초기화(Weight initialization)\n",
    "같은 모델을 훈련시키더라도 가중치가 초기에 어떤 값을 가졌느냐에 따라서 모델의 훈련 결과가 달라지기도 합니다. 다시 말해 가중치 초기화만 적절히 해줘도 기울기 소실 문제과 같은 문제를 완화시킬 수 있습니다.\n",
    "\n",
    "=============================================================================\n",
    "\n",
    "세이비어 초기화(Xavier Initialization)  ==>이전층 & 다음층의 뉴런 갯수을 이용함\n",
    "논문 : http://proceedings.mlr.press/v9/glorot10a/glorot10a.pdf\n",
    "\n",
    "2010년 세이비어 글로럿과 요슈아 벤지오는 가중치 초기화가 모델에 미치는 영향을 분석하여 새로운 초기화 방법을 제안했습니다. 이 초기화 방법은 제안한 사람의 이름을 따서 세이비어(Xavier Initialization) 초기화 또는 글로럿 초기화(Glorot Initialization)라고 합니다.\n",
    "\n",
    "이 방법은 균등 분포(Uniform Distribution) 또는 정규 분포(Normal distribution)로 초기화 할 때 두 가지 경우로 나뉘며, 이전 층의 뉴런 개수와 다음 층의 뉴런 개수를 가지고 식을 세웁니다. 이전 층의 뉴런의 개수를 \n",
    ", 다음 층의 뉴런의 개수를 \n",
    "이라고 해봅시다.\n",
    "\n",
    "글로럿과 벤지오의 논문에서는 균등 분포를 사용하여 가중치를 초기화할 경우 다음과 같은 균등 분포 범위를 사용하라고 합니다.\n",
    "\n",
    "세이비어 초기화는 여러 층의 기울기 분산 사이에 균형을 맞춰서 특정 층이 너무 주목을 받거나 다른 층이 뒤쳐지는 것을 막습니다. 그런데 세이비어 초기화는 시그모이드 함수나 하이퍼볼릭 탄젠트 함수와 같은 S자 형태인 활성화 함수와 함께 사용할 경우에는 좋은 성능을 보이지만, ReLU와 함께 사용할 경우에는 성능이 좋지 않습니다. ReLU 함수 또는 ReLU의 변형 함수들을 활성화 함수로 사용할 경우에는 다른 초기화 방법을 사용하는 것이 좋은데, 이를 He 초기화(He initialization)라고 합니다.\n",
    "\n",
    "================================================\n",
    "\n",
    "He 초기화(He initialization)  ==>이전 뉴런갯수만 이용함\n",
    "논문 : https://www.cv-foundation.org/openaccess/content_iccv_2015/papers/He_Delving_Deep_into_ICCV_2015_paper.pdf\n",
    "\n",
    "He 초기화(He initialization)는 세이비어 초기화와 유사하게 정규 분포와 균등 분포 두 가지 경우로 나뉩니다. 다만, He 초기화는 세이비어 초기화와 다르게 다음 층의 뉴런의 수를 반영하지 않습니다. 전과 같이 이전 층의 뉴런의 개수를 \n",
    "이라고 해봅시다.\n",
    "\n",
    "He 초기화는 균등 분포로 초기화 할 경우에는 다음과 같은 균등 분포 범위를 가지도록 합니다.\n",
    " \n",
    "정규 분포로 초기화할 경우에는 표준 편차 σ가 다음을 만족하도록 합니다.\n",
    "\n",
    "시그모이드 함수나 하이퍼볼릭탄젠트 함수를 사용할 경우에는 세이비어 초기화 방법이 효율적입니다.\n",
    "ReLU 계열 함수를 사용할 경우에는 He 초기화 방법이 효율적입니다.\n",
    "ReLU + He 초기화 방법이 좀 더 보편적입니다."
   ]
  },
  {
   "cell_type": "markdown",
   "id": "f9740c04",
   "metadata": {},
   "source": [
    "배치 정규화(Batch Normalization)\n",
    "ReLU 계열의 함수와 He 초기화를 사용하는 것만으로도 어느 정도 기울기 소실과 폭주를 완화시킬 수 있지만, 이 두 방법을 사용하더라도 훈련 중에 언제든 다시 발생할 수 있습니다. 기울기 소실이나 폭주를 예방하는 또 다른 방법은 배치 정규화(Batch Normalization)입니다. 배치 정규화는 인공 신경망의 각 층에 들어가는 입력을 평균과 분산으로 정규화하여 학습을 효율적으로 만듭니다.\n",
    "\n",
    "============================================================\n",
    "\n",
    "내부 공변량 변화(Internal Covariate Shift)\n",
    "배치 정규화를 이해하기 위해서는 내부 공변량 변화(Internal Covariate Shift)를 이해할 필요가 있습니다. 내부 공변량 변화란 학습 과정에서 층 별로 입력 데이터 분포가 달라지는 현상을 말합니다. 이전 층들의 학습에 의해 이전 층의 가중치 값이 바뀌게 되면, 현재 층에 전달되는 입력 데이터의 분포가 현재 층이 학습했던 시점의 분포와 차이가 발생합니다. 배치 정규화를 제안한 논문에서는 기울기 소실/폭주 등의 딥 러닝 모델의 불안전성이 층마다 입력의 분포가 달라지기 때문이라고 주장합니다.\n",
    "\n",
    "공변량 변화는 훈련 데이터의 분포와 테스트 데이터의 분포가 다른 경우를 의미합니다.\n",
    "내부 공변량 변화는 신경망 층 사이에서 발생하는 입력 데이터의 분포 변화를 의미합니다.\n",
    "\n",
    "====================================================================\n",
    "\n",
    "배치 정규화(Batch Normalization)\n",
    "배치 정규화(Batch Normalization)는 표현 그대로 한 번에 들어오는 배치 단위로 정규화하는 것을 말합니다. 배치 정규화는 각 층에서 활성화 함수를 통과하기 전에 수행됩니다. 배치 정규화를 요약하면 다음과 같습니다. 입력에 대해 평균을 0으로 만들고, 정규화를 합니다. 그리고 정규화 된 데이터에 대해서 스케일과 시프트를 수행합니다. 이 때 두 개의 매개변수 γ와 β를 사용하는데, γ는 스케일을 위해 사용하고, β는 시프트를 하는 것에 사용하며 다음 레이어에 일정한 범위의 값들만 전달되게 합니다.\n",
    "\n",
    "배치 정규화의 수식은 다음과 같습니다. 아래에서 \n",
    "은 배치 정규화를 의미합니다.\n",
    "\n",
    "Input : 미니 배치 \n",
    "\n",
    "Output : \n",
    "\n",
    " \n",
    "미니배치에대한평균\n",
    " \n",
    "미니배치에대한분산\n",
    " \n",
    "정규화\n",
    "스케일조정과시프트\n",
    "\n",
    "m은 미니 배치에 있는 샘플의 수\n",
    "mu(B)는 미니 배치 B에 대한 평균.\n",
    "sigma(B)는 미니 배치 B에 대한 표준편차.\n",
    "x-het(i)은 평균이 0이고 정규화 된 입력 데이터.\n",
    "앱실론 은 분모가 0이 되는 것을 막는 작은 수. 보편적으로 \n",
    "gama는 정규화 된 데이터에 대한 스케일 매개변수로 학습 대상\n",
    "beta는 정규화 된 데이터에 대한 시프트 매개변수로 학습 대상\n",
    "y(i)는 스케일과 시프트를 통해 조정한 의 최종 결과\n",
    "\n",
    "배치 정규화는 학습 시 배치 단위의 평균과 분산들을 차례대로 받아 이동 평균과 이동 분산을 저장해놓았다가 테스트 할 때는 해당 배치의 평균과 분산을 구하지 않고 구해놓았던 평균과 분산으로 정규화를 합니다.\n",
    "\n",
    "배치 정규화를 사용하면 시그모이드 함수나 하이퍼볼릭탄젠트 함수를 사용하더라도 기울기 소실 문제가 크게 개선됩니다.\n",
    "가중치 초기화에 훨씬 덜 민감해집니다.\n",
    "훨씬 큰 학습률을 사용할 수 있어 학습 속도를 개선시킵니다.\n",
    "미니 배치마다 평균과 표준편차를 계산하므로 훈련 데이터에 일종의 잡음을 넣는 부수 효과로 과적합을 방지하는 효과도 냅니다. 하지만 부수적 효과이므로 드롭 아웃과 함께 사용하는 것이 좋습니다.\n",
    "배치 정규화는 모델을 복잡하게 하며, 추가 계산을 하는 것이므로 테스트 데이터에 대한 예측 시에 실행 시간이 느려집니다. 그래서 서비스 속도를 고려하는 관점에서는 배치 정규화가 꼭 필요한지 고민이 필요합니다.\n",
    "배치 정규화의 효과는 굉장하지만 내부 공변량 변화때문은 아니라는 논문도 있습니다. : https://arxiv.org/pdf/1805.11604.pdf\n",
    "\n",
    "====================================================================================\n",
    "\n",
    "배치 정규화의 한계\n",
    "배치 정규화는 뛰어난 방법이지만 몇 가지 한계가 존재합니다.\n",
    "\n",
    "1. 미니 배치 크기에 의존적이다.\n",
    "배치 정규화는 너무 작은 배치 크기에서는 잘 동작하지 않을 수 있습니다. 단적으로 배치 크기를 1로 하게되면 분산은 0이 됩니다. 작은 미니 배치에서는 배치 정규화의 효과가 극단적으로 작용되어 훈련에 악영향을 줄 수 있습니다. 배치 정규화를 적용할때는 작은 미니 배치보다는 크기가 어느정도 되는 미니 배치에서 하는 것이 좋습니다. 이처럼 배치 정규화는 배치 크기에 의존적인 면이 있습니다.\n",
    "\n",
    "2. RNN에 적용하기 어렵다.\n",
    "뒤에서 배우겠지만, RNN은 각 시점(time step)마다 다른 통계치를 가집니다. 이는 RNN에 배치 정규화를 적용하는 것을 어렵게 만듭니다. RNN에서 배치 정규화를 적용하기 위한 몇 가지 논문이 제시되어 있지만, 여기서는 이를 소개하는 대신 배치 크기에도 의존적이지 않으며, RNN에도 적용하는 것이 수월한 층 정규화(layer normalization)라는 방법을 소개하고자 합니다."
   ]
  },
  {
   "cell_type": "markdown",
   "id": "81a2ac22",
   "metadata": {},
   "source": [
    "층 정규화(Layer Normalization)\n",
    "층 정규화를 이해하기에 앞서 배치 정규화를 시각화해보겠습니다. 다음은 \n",
    "이 3이고, 특성의 수가 4일 때의 배치 정규화를 보여줍니다. 미니 배치란 동일한 특성(feature) 개수들을 가진 다수의 샘플들을 의미함을 상기합시다.\n",
    "\n",
    "https://wikidocs.net/61271"
   ]
  }
 ],
 "metadata": {
  "kernelspec": {
   "display_name": "Python 3 (ipykernel)",
   "language": "python",
   "name": "python3"
  },
  "language_info": {
   "codemirror_mode": {
    "name": "ipython",
    "version": 3
   },
   "file_extension": ".py",
   "mimetype": "text/x-python",
   "name": "python",
   "nbconvert_exporter": "python",
   "pygments_lexer": "ipython3",
   "version": "3.10.12"
  }
 },
 "nbformat": 4,
 "nbformat_minor": 5
}
