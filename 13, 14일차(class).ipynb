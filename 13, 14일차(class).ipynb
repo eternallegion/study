{
 "cells": [
  {
   "cell_type": "markdown",
   "id": "e1d2e9f0-1f99-4eed-a059-6d6e96b3376b",
   "metadata": {},
   "source": [
    "클래스와 객체란?\n",
    "\n",
    "-클래스:\n",
    "객체를 만들기 위한 설계도.//\n",
    "데이터와 그 데이터를 다루는 함수를 하나로 묶음.\n",
    "\n",
    "-객체:\n",
    "클래스를 기반으로 생성된 실제 데이터."
   ]
  },
  {
   "cell_type": "raw",
   "id": "3d192e7e-054d-4662-83c2-c83a750b65ca",
   "metadata": {},
   "source": [
    "#클래스와 객체 기\n",
    "#본 구조\n",
    "\n",
    "-클래스 정의\n",
    "\n",
    "class 클래스이름:\n",
    "    def __init__(self, 속성1, 속성2):\n",
    "        self.속성1 = 속성1  # 속성 초기화\n",
    "        self.속성2 = 속성2\n",
    "\n",
    "    def 메서드(self):\n",
    "        # 동작 정의\n",
    "        pass\n",
    "\n",
    "-객체 생성\n",
    "# 클래스 생성\n",
    "객체 = 클래스이름(값1, 값2)\n"
   ]
  },
  {
   "cell_type": "code",
   "execution_count": 13,
   "id": "3fcf639f-850e-4c0f-903b-ba277a10f879",
   "metadata": {},
   "outputs": [],
   "source": [
    "#간단한 예제\n",
    "\n",
    "class car:\n",
    "    def __init__(self, brand, color):\n",
    "        self.brand=brand\n",
    "        self.color=color\n",
    "\n",
    "    def drive(self):\n",
    "        print(f\"the {self.color} {self.brand} is driver\")\n",
    "        "
   ]
  },
  {
   "cell_type": "code",
   "execution_count": 23,
   "id": "b7edd3c2-73ed-4821-adff-b20254dfd473",
   "metadata": {},
   "outputs": [
    {
     "name": "stdout",
     "output_type": "stream",
     "text": [
      "Toyota\n",
      "red\n",
      "the red Toyota is driver\n"
     ]
    }
   ],
   "source": [
    "mycar=car(\"Toyota\", \"red\")\n",
    "print(mycar.brand)\n",
    "print(mycar.color)\n",
    "\n",
    "mycar.drive()"
   ]
  },
  {
   "cell_type": "code",
   "execution_count": null,
   "id": "1aa77bf2-00a7-407b-ab18-0031ee8fbcaa",
   "metadata": {},
   "outputs": [],
   "source": []
  },
  {
   "cell_type": "code",
   "execution_count": null,
   "id": "48065ebc-1567-452a-bb4d-ee21cbf0272a",
   "metadata": {},
   "outputs": [],
   "source": []
  },
  {
   "cell_type": "code",
   "execution_count": 31,
   "id": "dca76785-8c6d-4b12-a697-b1044152bf02",
   "metadata": {},
   "outputs": [],
   "source": [
    "#문제 1: 책 클래스\n",
    "class Book:\n",
    "    def __init__(self, title,auther,pages):\n",
    "        self.title=title\n",
    "        self.auther=auther\n",
    "        self.page=pages\n",
    "\n",
    "    def info(self):\n",
    "        print(f\"this book is {self.title} {self.auther} {self.page}\")\n",
    "\n"
   ]
  },
  {
   "cell_type": "code",
   "execution_count": 33,
   "id": "7228d79a-72fc-4654-946c-6f5909e91e8f",
   "metadata": {},
   "outputs": [
    {
     "name": "stdout",
     "output_type": "stream",
     "text": [
      "sakura\n",
      "red\n",
      "123\n",
      "this book is sakura red 123\n"
     ]
    }
   ],
   "source": [
    "book=Book(\"sakura\", \"red\", \"123\")\n",
    "print(book.title)\n",
    "print(book.auther)\n",
    "print(book.page)\n",
    "\n",
    "book.info()"
   ]
  },
  {
   "cell_type": "code",
   "execution_count": null,
   "id": "25659283-284b-4446-913b-3b3d340dccd6",
   "metadata": {},
   "outputs": [],
   "source": []
  },
  {
   "cell_type": "code",
   "execution_count": 35,
   "id": "355943bc-a3f5-45ae-adda-7067e6c1f353",
   "metadata": {},
   "outputs": [],
   "source": [
    "#문제 2: 학생 클래스\n",
    "class Student:\n",
    "    def __init__(self, name, age, grade):\n",
    "        self.name=name\n",
    "        self.age=age\n",
    "        self.grade=grade\n",
    "\n",
    "    def introduce(self):\n",
    "        print(f\" this student is {self.name},{self.age},{self.grade}grade\")\n",
    "        "
   ]
  },
  {
   "cell_type": "code",
   "execution_count": 45,
   "id": "f1efc9cc-0b57-4c4b-a22f-9894c61009f4",
   "metadata": {},
   "outputs": [
    {
     "name": "stdout",
     "output_type": "stream",
     "text": [
      "sakura\n",
      "24\n",
      "3\n",
      " this student is sakura,24,3grade\n"
     ]
    }
   ],
   "source": [
    "student=Student(\"sakura\", 24, 3)\n",
    "print(student.name)\n",
    "print(student.age)\n",
    "print(student.grade)\n",
    "\n",
    "student.introduce()"
   ]
  },
  {
   "cell_type": "code",
   "execution_count": 288,
   "id": "0183ec1b-5895-45fa-8364-731c77be4b7a",
   "metadata": {},
   "outputs": [],
   "source": [
    "class Store:\n",
    "    def __init__(self,name, location):#, inventory\n",
    "        self.name=name\n",
    "        self.location=location\n",
    "        self.inventory={}\n",
    "        self.sales_historys = {}\n",
    "\n",
    "    \n",
    "    def add_item(self,item,quantity):\n",
    "        #inventory=self.inventory\n",
    "        if item in self.inventory:\n",
    "            self.inventory[item]+=quantity\n",
    "        else:\n",
    "            self.inventory[item]=quantity\n",
    "        \n",
    "    def sell_item(self, item, quantity):\n",
    "        #inven=self.inventory[item]\n",
    "        if item not in self.inventory:\n",
    "            print(f\"Error: {item} is not in the inventory.\")\n",
    "            return \n",
    "\n",
    "        if self.inventory[item]< quantity:\n",
    "            print(f\"Error: Not enough stock for {item}. Available: {self.inventory[item]}\")\n",
    "            return\n",
    "\n",
    "        \n",
    "\n",
    "        if item in self.sales_historys:\n",
    "            self.sales_historys[item]+=quantity\n",
    "        else:\n",
    "            self.sales_historys[item]=quantity\n",
    "\n",
    "        \n",
    "        self.inventory[item]-=quantity\n",
    "\n",
    "        if self.inventory[item]==0:\n",
    "            del self.inventory[item]\n",
    "            print(f\"{item} is sold out and removed from inventory.\")\n",
    "\n",
    "\n",
    "    def show(self):\n",
    "        if not self.inventory:\n",
    "            print(\"The inventory is empty.\")\n",
    "        else:\n",
    "            for item,quantity in self.inventory.items():\n",
    "                print(f\"{item}: {quantity}\")\n",
    "        '''if (quantity>0):\n",
    "            self.inventory[item]=quantity\n",
    "            #self.inventory.update(inven=quantity)\n",
    "        else:\n",
    "            del self.inventory[item]\n",
    "            print( \"delete item\")'''\n",
    "        for item,quantity in self.sales_historys.items():\n",
    "            print(f\"{item}: {quantity}\")\n",
    "    def show_sales_history(self):\n",
    "        \n",
    "        if not self.sales_historys:\n",
    "            print(\"No sales history.\")\n",
    "        \n",
    "        return\n",
    "    \n"
   ]
  },
  {
   "cell_type": "code",
   "execution_count": 290,
   "id": "4a8815e5-42fd-4916-851f-cc3571df079c",
   "metadata": {},
   "outputs": [
    {
     "name": "stdout",
     "output_type": "stream",
     "text": [
      "Apples: 15\n",
      "Bananas: 5\n",
      "Bananas is sold out and removed from inventory.\n",
      "Error: Oranges is not in the inventory.\n",
      "Apples: 8\n",
      "Apples: 7\n",
      "Bananas: 5\n"
     ]
    }
   ],
   "source": [
    "store = Store(\"My Store\", \"Downtown\")\n",
    "store.add_item(\"Apples\", 10)\n",
    "store.add_item(\"Bananas\", 5)\n",
    "store.add_item(\"Apples\", 5)  # 기존 물품 재고 추가\n",
    "\n",
    "store.show()\n",
    "# Apples: 15\n",
    "# Bananas: 5\n",
    "\n",
    "store.sell_item(\"Apples\", 7)\n",
    "store.sell_item(\"Bananas\", 5)\n",
    "store.sell_item(\"Oranges\", 3)  # 재고에 없는 물품 판매 시도\n",
    "\n",
    "store.show()\n",
    "# Apples: 8\n",
    "# The inventory is empty.\n",
    "store.show_sales_history()"
   ]
  },
  {
   "cell_type": "code",
   "execution_count": 292,
   "id": "cb2a52bc-62af-473a-8a7a-d8cf1ba64892",
   "metadata": {},
   "outputs": [],
   "source": [
    "store.sell_item(\"Apples\", 3)\n",
    "store.sell_item(\"Apples\", 2)\n",
    "store.show_sales_history()\n"
   ]
  },
  {
   "cell_type": "code",
   "execution_count": 294,
   "id": "2849f178-c3f6-41e0-a829-3161d1e8c57e",
   "metadata": {},
   "outputs": [
    {
     "name": "stdout",
     "output_type": "stream",
     "text": [
      "{'asd': 12, 'sdf': 234}\n",
      "asdlkds\n"
     ]
    }
   ],
   "source": [
    "a={\"asd\":12,\"sdf\":234}\n",
    "print(a)\n",
    "\n",
    "if \"askd\" in a:\n",
    "    print(\"12345678\")\n",
    "else:\n",
    "    print(\"asdlkds\")\n",
    "#a"
   ]
  },
  {
   "cell_type": "code",
   "execution_count": null,
   "id": "d13ee6db-8626-43c8-8040-5f317a5b17ee",
   "metadata": {},
   "outputs": [],
   "source": []
  },
  {
   "cell_type": "code",
   "execution_count": null,
   "id": "7e1a1c38-a105-4e9a-9686-34228fdc52a2",
   "metadata": {},
   "outputs": [],
   "source": []
  },
  {
   "cell_type": "code",
   "execution_count": null,
   "id": "fdfdcc6c-852c-4695-b321-b4ff18006589",
   "metadata": {},
   "outputs": [],
   "source": []
  },
  {
   "cell_type": "code",
   "execution_count": null,
   "id": "0cadcbb3-fa89-4235-9166-fe968aa2b358",
   "metadata": {},
   "outputs": [],
   "source": []
  },
  {
   "cell_type": "code",
   "execution_count": null,
   "id": "350fb95d-15a8-447a-8f74-7ac3ef21957a",
   "metadata": {},
   "outputs": [],
   "source": []
  },
  {
   "cell_type": "markdown",
   "id": "a2458bc4-120a-4a39-a079-088257dd6ecd",
   "metadata": {},
   "source": [
    "14일차\n",
    "\n",
    "객체와 속성의 활용 이해:\n",
    "\n",
    "    객체 간 데이터 독립성 확인.\n",
    "    객체 속성 값 변경 및 확인.\n",
    "\n",
    "클래스 메서드 작성 및 호출.\n",
    "\n",
    "클래스 내부에서 메서드 간 데이터 공유."
   ]
  },
  {
   "cell_type": "code",
   "execution_count": 11,
   "id": "c11bcf63-9489-4885-b295-294547594ef4",
   "metadata": {},
   "outputs": [
    {
     "name": "stdout",
     "output_type": "stream",
     "text": [
      "Alice\n",
      "Bob\n",
      "21\n",
      "22\n"
     ]
    }
   ],
   "source": [
    "#1. 객체 간 데이터 독립성\n",
    "#클래스로 생성된 객체들은 각각 고유한 데이터를 가집니다.\n",
    "#한 객체의 속성 변경이 다른 객체에 영향을 미치지 않는지 확인해 보세요.\n",
    "\n",
    "class Student:\n",
    "    def __init__(self,name,age):\n",
    "        self.age=age\n",
    "        self.name=name\n",
    "\n",
    "student1 = Student(\"Alice\", 20)\n",
    "student2 = Student(\"Bob\", 22)\n",
    "\n",
    "print(student1.name)  \n",
    "print(student2.name)\n",
    "\n",
    "student1.age += 1\n",
    "print(student1.age)  # 21\n",
    "print(student2.age)"
   ]
  },
  {
   "cell_type": "code",
   "execution_count": 13,
   "id": "f0716bb1-ba82-4079-b47f-cfc72f7d77a0",
   "metadata": {},
   "outputs": [],
   "source": [
    "#2. 클래스 메서드 작성\n",
    "#메서드는 클래스 내에서 동작을 정의합니다.\n",
    "#예를 들어, 학생 정보를 출력하거나, 점수를 계산하는 메서드를 작성해 보세요.\n",
    "\n",
    "class Student:\n",
    "    def __init__(self,name,age):\n",
    "        self.name=name\n",
    "        self.age=age\n",
    "\n",
    "    def introduce(self):\n",
    "        print((f\"Hi, I'm {self.name} and I'm {self.age} years old.\"))"
   ]
  },
  {
   "cell_type": "code",
   "execution_count": 15,
   "id": "9fa31b43-40c9-4d8e-a8a5-73668d0eef18",
   "metadata": {},
   "outputs": [
    {
     "name": "stdout",
     "output_type": "stream",
     "text": [
      "Hi, I'm Alice and I'm 20 years old.\n"
     ]
    }
   ],
   "source": [
    "student = Student(\"Alice\", 20)\n",
    "student.introduce()"
   ]
  },
  {
   "cell_type": "code",
   "execution_count": 19,
   "id": "7b1fad5b-e102-4092-adbe-5374057f3cb1",
   "metadata": {},
   "outputs": [
    {
     "name": "stdout",
     "output_type": "stream",
     "text": [
      "30\n"
     ]
    }
   ],
   "source": [
    "#3. 클래스 내부 메서드 간 데이터 공유\n",
    "#클래스 내부에서 메서드 간 데이터를 공유하는 방법을 이해합니다.\n",
    "#메서드 호출 시 다른 메서드의 결과를 활용하는 패턴을 익혀 보세요.\n",
    "\n",
    "class Calculator:\n",
    "    def __init__(self, data):\n",
    "        self.data=data\n",
    "\n",
    "    def add(self, data):\n",
    "        self.data+=data\n",
    "\n",
    "    def min(self, data):\n",
    "        self.data-=data\n",
    "\n",
    "    def multi(self, data):\n",
    "        self.data*=data\n",
    "\n",
    "    def get_result(self):\n",
    "        return self.data\n",
    "\n",
    "calc =Calculator(10)\n",
    "calc.add(5)\n",
    "calc.multi(2)\n",
    "print(calc.get_result())"
   ]
  },
  {
   "cell_type": "code",
   "execution_count": null,
   "id": "bcede292-db90-4e7e-b363-f9009551a812",
   "metadata": {},
   "outputs": [],
   "source": []
  },
  {
   "cell_type": "code",
   "execution_count": null,
   "id": "b026584d-7fcd-40dd-b5c0-e1afb8689506",
   "metadata": {},
   "outputs": [],
   "source": []
  },
  {
   "cell_type": "markdown",
   "id": "7f8765ed-0c46-430c-9095-4166b8c90eae",
   "metadata": {},
   "source": [
    "실습 문제"
   ]
  },
  {
   "cell_type": "code",
   "execution_count": 306,
   "id": "96cef36a-80a9-42d3-808c-d62f4a589f87",
   "metadata": {},
   "outputs": [
    {
     "name": "stdout",
     "output_type": "stream",
     "text": [
      "돈 없다. 지금 잔액20\n",
      "잔액 : 20\n"
     ]
    },
    {
     "data": {
      "text/plain": [
       "{123: 20}"
      ]
     },
     "execution_count": 306,
     "metadata": {},
     "output_type": "execute_result"
    }
   ],
   "source": [
    "#문제 1: 은행 계좌\n",
    "class BankAccount:\n",
    "    def __init__(self,account_number,balance=0):\n",
    "        self.account=account_number\n",
    "        self.dataset={}\n",
    "        #acc=self.account\n",
    "        self.balance=balance\n",
    "        \n",
    "    #def append_add(self,account_number,balance):\n",
    "    #    if  account_number in self.dataset:\n",
    "    #        print(\"중복. 추가 불능\")\n",
    "    #    else:\n",
    "    #        self.dataset[self.account]=self.balance\n",
    "            \n",
    "    \n",
    "    def deposit(self,amount):\n",
    "        if (amount>0):\n",
    "            self.balance+=amount\n",
    "        else:\n",
    "            print(\"Invalid deposit amount.\")\n",
    "\n",
    "    def withdraw(self,amount):\n",
    "        if(amount>self.balance):\n",
    "            self.balance-=amount\n",
    "            print(f\"출금 금액 : {amount}, 잔액 : {self.balance}\")\n",
    "        else:\n",
    "            print(f\"돈 없다. 지금 잔액{self.balance}\")\n",
    "\n",
    "    def get_balance(self):\n",
    "        print(f\"잔액 : {self.balance}\")\n",
    "        self.dataset[self.account]=self.balance\n",
    "        return self.dataset\n",
    "\n",
    "\n",
    "\n",
    "BK=BankAccount(123,10)\n",
    "#BK.append_add(123,10)\n",
    "BK.deposit(10)\n",
    "BK.withdraw(0)\n",
    "\n",
    "BK.get_balance()"
   ]
  },
  {
   "cell_type": "code",
   "execution_count": 308,
   "id": "b6e67310-e86a-4c2e-8619-e14862c849e8",
   "metadata": {},
   "outputs": [
    {
     "name": "stdout",
     "output_type": "stream",
     "text": [
      "돈 없다. 지금 잔액20\n",
      "잔액 : 20\n"
     ]
    },
    {
     "data": {
      "text/plain": [
       "{123: 20}"
      ]
     },
     "execution_count": 308,
     "metadata": {},
     "output_type": "execute_result"
    }
   ],
   "source": [
    "BK=BankAccount(123,10)\n",
    "#BK.append_add(123,10)\n",
    "BK.deposit(10)\n",
    "BK.withdraw(0)\n",
    "\n",
    "BK.get_balance()"
   ]
  },
  {
   "cell_type": "code",
   "execution_count": null,
   "id": "6abecb20-7998-4c30-9dd6-32e391b6db82",
   "metadata": {},
   "outputs": [],
   "source": []
  },
  {
   "cell_type": "code",
   "execution_count": 334,
   "id": "785f9cd7-03e1-49a8-a09f-66372af7c4cc",
   "metadata": {},
   "outputs": [
    {
     "name": "stdout",
     "output_type": "stream",
     "text": [
      "Python Basics이 3권 추가되었습니다.\n",
      "Data Structures이 2권 추가되었습니다.\n",
      "Python Basics이 2권 추가되어 총 5권이 되었습니다.\n",
      "Python Basics이 빌려졌다. 있는 놈{'Python Basics': 4, 'Data Structures': 2}, 남은놈4\n",
      "Data Structures이 빌려졌다. 있는 놈{'Python Basics': 4, 'Data Structures': 1}, 남은놈1\n",
      "없다\n",
      "Python Basics이(가) 반납되어 총 5권이 되었습니다.\n",
      "New Book이 1권  돌아왔다\n",
      "현재 도서 목록:\n",
      "Python Basics: 5권\n",
      "Data Structures: 1권\n",
      "New Book: 1권\n"
     ]
    }
   ],
   "source": [
    "#문제 2: 도서관 시스템\n",
    "class Library:\n",
    "    def __init__(self):\n",
    "        self.books={}\n",
    "        \n",
    "    def add_book(self,title, quantity):\n",
    "        \n",
    "        if title in self.books:\n",
    "            self.books[title] += quantity\n",
    "            print(f\"{title}이 {quantity}권 추가되어 총 {self.books[title]}권이 되었습니다.\")\n",
    "        else:\n",
    "            self.books[title] = quantity\n",
    "            print(f\"{title}이 {quantity}권 추가되었습니다.\")\n",
    "\n",
    "    def borrow_book(self,title):\n",
    "        if title in self.books and self.books[title]>0:\n",
    "            self.books[title] -= 1\n",
    "            print(f\"{title}이 빌려졌다. 있는 놈{self.books}, 남은놈{self.books[title]}\")\n",
    "            if self.books[title] == 0:\n",
    "                print(f\"{title}이(가) 모두 대출되었습니다.\")\n",
    "        else:\n",
    "            print(\"없다\")\n",
    "\n",
    "    def return_book(self, title):\n",
    "        if title in self.books:\n",
    "            self.books[title]+=1\n",
    "            print(f\"{title}이(가) 반납되어 총 {self.books[title]}권이 되었습니다.\")\n",
    "        else:\n",
    "            self.books[title]=1\n",
    "            print(f\"{title}이 {self.books[title]}권  돌아왔다\")\n",
    "\n",
    "    def show(self):\n",
    "        if not self.books:\n",
    "            print(\"도서관에 책이 없습니다.\")\n",
    "        else:\n",
    "            print(\"현재 도서 목록:\")\n",
    "            for title,quantity in self.books.items():\n",
    "                print(f\"{title}: {quantity}권\")\n",
    "\n",
    "library = Library()\n",
    "\n",
    "# 책 추가\n",
    "library.add_book(\"Python Basics\", 3)\n",
    "library.add_book(\"Data Structures\", 2)\n",
    "library.add_book(\"Python Basics\", 2)\n",
    "\n",
    "# 책 대출\n",
    "library.borrow_book(\"Python Basics\")\n",
    "library.borrow_book(\"Data Structures\")\n",
    "library.borrow_book(\"Nonexistent Book\")  # 없는 책 대출 시도\n",
    "\n",
    "# 책 반납\n",
    "library.return_book(\"Python Basics\")\n",
    "library.return_book(\"New Book\")  # 새로운 책 반납\n",
    "\n",
    "# 현재 도서 목록 출력\n",
    "library.show()\n"
   ]
  },
  {
   "cell_type": "code",
   "execution_count": 336,
   "id": "8aca6f60-afdb-43cc-ad2f-56b5f4d722ff",
   "metadata": {},
   "outputs": [
    {
     "name": "stdout",
     "output_type": "stream",
     "text": [
      "asd이 2권 추가되었습니다.\n",
      "asd이 2권 추가되어 총 4권이 되었습니다.\n",
      "asd이 빌려졌다. 있는 놈{'asd': 3}, 남은놈3\n",
      "asd이(가) 반납되어 총 4권이 되었습니다.\n",
      "as이 1권  돌아왔다\n"
     ]
    }
   ],
   "source": [
    "l=Library()\n",
    "l.add_book(\"asd\",2)\n",
    "l.add_book(\"asd\",2)\n",
    "l.borrow_book(\"asd\")\n",
    "#l.borrow_book(\"ad\")\n",
    "l.return_book(\"asd\")\n",
    "l.return_book(\"as\")"
   ]
  },
  {
   "cell_type": "code",
   "execution_count": null,
   "id": "1631bef8-c295-414c-867f-424c04f00e69",
   "metadata": {},
   "outputs": [],
   "source": []
  },
  {
   "cell_type": "code",
   "execution_count": 352,
   "id": "873535be-76ad-4b9a-899a-bb036b668ce6",
   "metadata": {},
   "outputs": [],
   "source": [
    "#문제 3: 쇼핑 카트\n",
    "class ShoppingCart:\n",
    "    def __init__(self):\n",
    "        self.items={}\n",
    "        self.price=None\n",
    "        self.name=None\n",
    "\n",
    "    def add_item(self, item, price,quantity=1):\n",
    "        \n",
    "        if item in self.items:\n",
    "            current_p,current_q=self.items[item]\n",
    "            self.items[item]=(current_p + price, current_q + quantity)\n",
    "            \n",
    "        else:\n",
    "            self.items[item]=(price,quantity)\n",
    "        print(f\"{item} 추가됨. 현재 장바구니: {self.items}\")\n",
    "            \n",
    "\n",
    "    def remove_item(self,item):\n",
    "        if(item in self.items):\n",
    "            del self.items[item]\n",
    "            print(f\"{item} 삭제됨. 남은 장바구니: {self.items}\")\n",
    "        else:\n",
    "            print(f\"{item}은(는) 장바구니에 없습니다.\")\n",
    "\n",
    "    def calculate_total(self):\n",
    "        total=sum(price for price, _ in self.items.values())\n",
    "        print(f\"총합 : {total}\")\n",
    "        return total\n",
    "\n",
    "    def show(self):\n",
    "        if not self.items:\n",
    "            print(\"장바구니가 비어 있습니다.\")\n",
    "        else:\n",
    "            print(\"현재 장바구니:\")\n",
    "            for item,(price, quantity)in self.items.items():\n",
    "                print(f\"{item}: {quantity}개, 총 {price}원\")"
   ]
  },
  {
   "cell_type": "code",
   "execution_count": 354,
   "id": "6261c69b-2650-4c3d-ae3c-167e5332dbb9",
   "metadata": {},
   "outputs": [
    {
     "name": "stdout",
     "output_type": "stream",
     "text": [
      "qwe 추가됨. 현재 장바구니: {'qwe': (3, 1)}\n",
      "qwe 추가됨. 현재 장바구니: {'qwe': (6, 2)}\n",
      "qwe 추가됨. 현재 장바구니: {'qwe': (9, 3)}\n",
      "dsa은(는) 장바구니에 없습니다.\n",
      "총합 : 9\n"
     ]
    },
    {
     "data": {
      "text/plain": [
       "9"
      ]
     },
     "execution_count": 354,
     "metadata": {},
     "output_type": "execute_result"
    }
   ],
   "source": [
    "sc=ShoppingCart()\n",
    "sc.add_item(\"qwe\",3)\n",
    "sc.add_item(\"qwe\",3)\n",
    "sc.add_item(\"qwe\",3)\n",
    "\n",
    "sc.remove_item(\"dsa\")\n",
    "sc.calculate_total()"
   ]
  },
  {
   "cell_type": "code",
   "execution_count": 356,
   "id": "b20a7350-3abf-41ae-b982-eb7718934524",
   "metadata": {},
   "outputs": [
    {
     "name": "stdout",
     "output_type": "stream",
     "text": [
      "사과 추가됨. 현재 장바구니: {'사과': (1000, 3)}\n",
      "바나나 추가됨. 현재 장바구니: {'사과': (1000, 3), '바나나': (500, 2)}\n",
      "사과 추가됨. 현재 장바구니: {'사과': (2000, 4), '바나나': (500, 2)}\n",
      "바나나 삭제됨. 남은 장바구니: {'사과': (2000, 4)}\n",
      "포도은(는) 장바구니에 없습니다.\n",
      "현재 장바구니:\n",
      "사과: 4개, 총 2000원\n",
      "총합 : 2000\n"
     ]
    },
    {
     "data": {
      "text/plain": [
       "2000"
      ]
     },
     "execution_count": 356,
     "metadata": {},
     "output_type": "execute_result"
    }
   ],
   "source": [
    "cart = ShoppingCart()\n",
    "\n",
    "# 아이템 추가\n",
    "cart.add_item(\"사과\", 1000, 3)\n",
    "cart.add_item(\"바나나\", 500, 2)\n",
    "cart.add_item(\"사과\", 1000, 1)  # 중복 추가\n",
    "\n",
    "# 아이템 삭제\n",
    "cart.remove_item(\"바나나\")\n",
    "cart.remove_item(\"포도\")  # 없는 아이템 삭제 시도\n",
    "\n",
    "# 장바구니 출력\n",
    "cart.show()\n",
    "\n",
    "# 총합 계산\n",
    "cart.calculate_total()\n"
   ]
  },
  {
   "cell_type": "code",
   "execution_count": null,
   "id": "e7bbfb68-097d-4c99-b4d3-eee91b209a00",
   "metadata": {},
   "outputs": [],
   "source": []
  },
  {
   "cell_type": "code",
   "execution_count": null,
   "id": "510d1154-d4b1-4127-8d08-7b819804ab6f",
   "metadata": {},
   "outputs": [],
   "source": []
  },
  {
   "cell_type": "code",
   "execution_count": null,
   "id": "62c6368c-8599-4445-88fb-2a09dea2ba33",
   "metadata": {},
   "outputs": [],
   "source": []
  },
  {
   "cell_type": "code",
   "execution_count": 147,
   "id": "2887e7f0-a04d-47e1-8606-56ef7c3507e7",
   "metadata": {},
   "outputs": [
    {
     "name": "stdout",
     "output_type": "stream",
     "text": [
      "asd\n"
     ]
    }
   ],
   "source": [
    "\n",
    "p={\"a\":1}\n",
    "p.key(a)\n",
    "if \"a\" in p:\n",
    "    print(\"asd\")\n",
    "else:\n",
    "    print(\"3255\")\n",
    "\n",
    "\n",
    "p['a']=2"
   ]
  },
  {
   "cell_type": "code",
   "execution_count": 135,
   "id": "2923a0f5-7524-4c59-9284-d02aac0c76be",
   "metadata": {},
   "outputs": [
    {
     "name": "stdout",
     "output_type": "stream",
     "text": [
      "{1, 2, 34, 4, 5, 6, 76}\n"
     ]
    }
   ],
   "source": [
    "a=(1,1,2,34,4,5,6,76)\n",
    "type(a)\n",
    "\n",
    "print(set(a))"
   ]
  },
  {
   "cell_type": "code",
   "execution_count": null,
   "id": "489a71e8-1fa8-4732-b57d-fd2a043d0e79",
   "metadata": {},
   "outputs": [],
   "source": []
  }
 ],
 "metadata": {
  "kernelspec": {
   "display_name": "Python 3 (ipykernel)",
   "language": "python",
   "name": "python3"
  },
  "language_info": {
   "codemirror_mode": {
    "name": "ipython",
    "version": 3
   },
   "file_extension": ".py",
   "mimetype": "text/x-python",
   "name": "python",
   "nbconvert_exporter": "python",
   "pygments_lexer": "ipython3",
   "version": "3.12.3"
  }
 },
 "nbformat": 4,
 "nbformat_minor": 5
}
