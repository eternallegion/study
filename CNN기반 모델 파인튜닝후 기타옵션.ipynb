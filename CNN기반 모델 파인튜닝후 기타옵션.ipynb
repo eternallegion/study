{
 "cells": [
  {
   "cell_type": "code",
   "execution_count": 3,
   "id": "31606dd2-ca0e-4aa4-851b-308b701b4f77",
   "metadata": {},
   "outputs": [
    {
     "name": "stdout",
     "output_type": "stream",
     "text": [
      "12.4\n",
      "True\n",
      "NVIDIA GeForce RTX 4090\n"
     ]
    }
   ],
   "source": [
    "import torch\n",
    "print(torch.version.cuda)  # 빌드된 CUDA 버전 확인\n",
    "print(torch.cuda.is_available())\n",
    "print(torch.cuda.get_device_name(0))\n"
   ]
  },
  {
   "cell_type": "code",
   "execution_count": 92,
   "id": "f337acd5-af5b-4129-a117-57dbe100d54b",
   "metadata": {},
   "outputs": [],
   "source": [
    "import torch\n",
    "import torch.nn as nn\n",
    "from torch.utils.data import DataLoader as loader\n",
    "import torchvision \n",
    "from torchvision import datasets, transforms, models\n",
    "import torch.optim as optim"
   ]
  },
  {
   "cell_type": "code",
   "execution_count": 94,
   "id": "08424eb4-27a9-4429-b51c-faa00dd487d9",
   "metadata": {
    "scrolled": true
   },
   "outputs": [
    {
     "name": "stdout",
     "output_type": "stream",
     "text": [
      "Files already downloaded and verified\n",
      "Files already downloaded and verified\n",
      "cuda\n"
     ]
    },
    {
     "data": {
      "text/plain": [
       "ResNet(\n",
       "  (conv1): Conv2d(3, 64, kernel_size=(7, 7), stride=(2, 2), padding=(3, 3), bias=False)\n",
       "  (bn1): BatchNorm2d(64, eps=1e-05, momentum=0.1, affine=True, track_running_stats=True)\n",
       "  (relu): ReLU(inplace=True)\n",
       "  (maxpool): MaxPool2d(kernel_size=3, stride=2, padding=1, dilation=1, ceil_mode=False)\n",
       "  (layer1): Sequential(\n",
       "    (0): BasicBlock(\n",
       "      (conv1): Conv2d(64, 64, kernel_size=(3, 3), stride=(1, 1), padding=(1, 1), bias=False)\n",
       "      (bn1): BatchNorm2d(64, eps=1e-05, momentum=0.1, affine=True, track_running_stats=True)\n",
       "      (relu): ReLU(inplace=True)\n",
       "      (conv2): Conv2d(64, 64, kernel_size=(3, 3), stride=(1, 1), padding=(1, 1), bias=False)\n",
       "      (bn2): BatchNorm2d(64, eps=1e-05, momentum=0.1, affine=True, track_running_stats=True)\n",
       "    )\n",
       "    (1): BasicBlock(\n",
       "      (conv1): Conv2d(64, 64, kernel_size=(3, 3), stride=(1, 1), padding=(1, 1), bias=False)\n",
       "      (bn1): BatchNorm2d(64, eps=1e-05, momentum=0.1, affine=True, track_running_stats=True)\n",
       "      (relu): ReLU(inplace=True)\n",
       "      (conv2): Conv2d(64, 64, kernel_size=(3, 3), stride=(1, 1), padding=(1, 1), bias=False)\n",
       "      (bn2): BatchNorm2d(64, eps=1e-05, momentum=0.1, affine=True, track_running_stats=True)\n",
       "    )\n",
       "  )\n",
       "  (layer2): Sequential(\n",
       "    (0): BasicBlock(\n",
       "      (conv1): Conv2d(64, 128, kernel_size=(3, 3), stride=(2, 2), padding=(1, 1), bias=False)\n",
       "      (bn1): BatchNorm2d(128, eps=1e-05, momentum=0.1, affine=True, track_running_stats=True)\n",
       "      (relu): ReLU(inplace=True)\n",
       "      (conv2): Conv2d(128, 128, kernel_size=(3, 3), stride=(1, 1), padding=(1, 1), bias=False)\n",
       "      (bn2): BatchNorm2d(128, eps=1e-05, momentum=0.1, affine=True, track_running_stats=True)\n",
       "      (downsample): Sequential(\n",
       "        (0): Conv2d(64, 128, kernel_size=(1, 1), stride=(2, 2), bias=False)\n",
       "        (1): BatchNorm2d(128, eps=1e-05, momentum=0.1, affine=True, track_running_stats=True)\n",
       "      )\n",
       "    )\n",
       "    (1): BasicBlock(\n",
       "      (conv1): Conv2d(128, 128, kernel_size=(3, 3), stride=(1, 1), padding=(1, 1), bias=False)\n",
       "      (bn1): BatchNorm2d(128, eps=1e-05, momentum=0.1, affine=True, track_running_stats=True)\n",
       "      (relu): ReLU(inplace=True)\n",
       "      (conv2): Conv2d(128, 128, kernel_size=(3, 3), stride=(1, 1), padding=(1, 1), bias=False)\n",
       "      (bn2): BatchNorm2d(128, eps=1e-05, momentum=0.1, affine=True, track_running_stats=True)\n",
       "    )\n",
       "  )\n",
       "  (layer3): Sequential(\n",
       "    (0): BasicBlock(\n",
       "      (conv1): Conv2d(128, 256, kernel_size=(3, 3), stride=(2, 2), padding=(1, 1), bias=False)\n",
       "      (bn1): BatchNorm2d(256, eps=1e-05, momentum=0.1, affine=True, track_running_stats=True)\n",
       "      (relu): ReLU(inplace=True)\n",
       "      (conv2): Conv2d(256, 256, kernel_size=(3, 3), stride=(1, 1), padding=(1, 1), bias=False)\n",
       "      (bn2): BatchNorm2d(256, eps=1e-05, momentum=0.1, affine=True, track_running_stats=True)\n",
       "      (downsample): Sequential(\n",
       "        (0): Conv2d(128, 256, kernel_size=(1, 1), stride=(2, 2), bias=False)\n",
       "        (1): BatchNorm2d(256, eps=1e-05, momentum=0.1, affine=True, track_running_stats=True)\n",
       "      )\n",
       "    )\n",
       "    (1): BasicBlock(\n",
       "      (conv1): Conv2d(256, 256, kernel_size=(3, 3), stride=(1, 1), padding=(1, 1), bias=False)\n",
       "      (bn1): BatchNorm2d(256, eps=1e-05, momentum=0.1, affine=True, track_running_stats=True)\n",
       "      (relu): ReLU(inplace=True)\n",
       "      (conv2): Conv2d(256, 256, kernel_size=(3, 3), stride=(1, 1), padding=(1, 1), bias=False)\n",
       "      (bn2): BatchNorm2d(256, eps=1e-05, momentum=0.1, affine=True, track_running_stats=True)\n",
       "    )\n",
       "  )\n",
       "  (layer4): Sequential(\n",
       "    (0): BasicBlock(\n",
       "      (conv1): Conv2d(256, 512, kernel_size=(3, 3), stride=(2, 2), padding=(1, 1), bias=False)\n",
       "      (bn1): BatchNorm2d(512, eps=1e-05, momentum=0.1, affine=True, track_running_stats=True)\n",
       "      (relu): ReLU(inplace=True)\n",
       "      (conv2): Conv2d(512, 512, kernel_size=(3, 3), stride=(1, 1), padding=(1, 1), bias=False)\n",
       "      (bn2): BatchNorm2d(512, eps=1e-05, momentum=0.1, affine=True, track_running_stats=True)\n",
       "      (downsample): Sequential(\n",
       "        (0): Conv2d(256, 512, kernel_size=(1, 1), stride=(2, 2), bias=False)\n",
       "        (1): BatchNorm2d(512, eps=1e-05, momentum=0.1, affine=True, track_running_stats=True)\n",
       "      )\n",
       "    )\n",
       "    (1): BasicBlock(\n",
       "      (conv1): Conv2d(512, 512, kernel_size=(3, 3), stride=(1, 1), padding=(1, 1), bias=False)\n",
       "      (bn1): BatchNorm2d(512, eps=1e-05, momentum=0.1, affine=True, track_running_stats=True)\n",
       "      (relu): ReLU(inplace=True)\n",
       "      (conv2): Conv2d(512, 512, kernel_size=(3, 3), stride=(1, 1), padding=(1, 1), bias=False)\n",
       "      (bn2): BatchNorm2d(512, eps=1e-05, momentum=0.1, affine=True, track_running_stats=True)\n",
       "    )\n",
       "  )\n",
       "  (avgpool): AdaptiveAvgPool2d(output_size=(1, 1))\n",
       "  (fc): Linear(in_features=512, out_features=1000, bias=True)\n",
       ")"
      ]
     },
     "execution_count": 94,
     "metadata": {},
     "output_type": "execute_result"
    }
   ],
   "source": [
    "transform=transforms.Compose([\n",
    "    transforms.Resize(224),\n",
    "    transforms.ToTensor(),\n",
    "    transforms.Normalize(        \n",
    "        mean=(0.485, 0.456, 0.406),           # ImageNet 통계값\n",
    "        std =(0.229, 0.224, 0.225))\n",
    "])\n",
    "\n",
    "train_data=datasets.CIFAR10(root='./data', train=True, download=True, transform=transform)\n",
    "test_data=datasets.CIFAR10(root='./data', train=False, download=True, transform=transform)\n",
    "\n",
    "train_loader=loader(train_data, batch_size=64, shuffle=True, num_workers=2)\n",
    "test_loader=loader(test_data, batch_size=100,shuffle=True, num_workers=2)\n",
    "\n",
    "device=torch.device(\"cuda\"if torch.cuda.is_available()else\"cpu\")\n",
    "print(device)\n",
    "model=models.resnet18(pretrained=True)\n",
    "model"
   ]
  },
  {
   "cell_type": "code",
   "execution_count": 95,
   "id": "c99032ff-5523-46ec-b785-0cbfba4a9c75",
   "metadata": {},
   "outputs": [],
   "source": [
    "'''\n",
    "for param in model.parameters():\n",
    "    param.requires_grad=False\n",
    "'''\n",
    "for name,param in model.named_parameters():\n",
    "    if name.startswith(\"layer4\") or name.startswith(\"fc\"):\n",
    "        param.requires_grad=True\n",
    "    else:\n",
    "        param.requires_grad=False"
   ]
  },
  {
   "cell_type": "code",
   "execution_count": 98,
   "id": "92786337-8802-46f8-bc37-b6a419a783c1",
   "metadata": {},
   "outputs": [],
   "source": [
    "\n",
    "num_ft=model.fc.in_features\n",
    "model.fc=nn.Linear(num_ft, 10)\n",
    "model=model.to(device)\n",
    "\n",
    "criter=nn.CrossEntropyLoss()\n",
    "#optimy=optim.SGD(model.parameters(), lr=0.001, momentum=0.9)\n",
    "optimy=optim.SGD(\n",
    "    [p for p in model.parameters() if p.requires_grad],\n",
    "    lr=0.0001, momentum=0.9\n",
    ")\n",
    "save_every = 2 \n",
    "num_epoch=10"
   ]
  },
  {
   "cell_type": "code",
   "execution_count": 100,
   "id": "75b8da28-33ce-4451-a87d-fbabc227a353",
   "metadata": {},
   "outputs": [
    {
     "name": "stdout",
     "output_type": "stream",
     "text": [
      "Checkpoint saved: epoch 1\n",
      "[FeatureExt] Epoch 1/10, Loss: 1.4440\n",
      "Checkpoint saved: epoch 2\n",
      "[FeatureExt] Epoch 2/10, Loss: 0.7988\n",
      "Checkpoint saved: epoch 3\n",
      "[FeatureExt] Epoch 3/10, Loss: 0.6305\n",
      "Checkpoint saved: epoch 4\n",
      "[FeatureExt] Epoch 4/10, Loss: 0.5468\n",
      "Checkpoint saved: epoch 5\n",
      "[FeatureExt] Epoch 5/10, Loss: 0.4920\n",
      "Checkpoint saved: epoch 6\n",
      "[FeatureExt] Epoch 6/10, Loss: 0.4528\n",
      "Checkpoint saved: epoch 7\n",
      "[FeatureExt] Epoch 7/10, Loss: 0.4267\n",
      "Checkpoint saved: epoch 8\n",
      "[FeatureExt] Epoch 8/10, Loss: 0.4006\n",
      "Checkpoint saved: epoch 9\n",
      "[FeatureExt] Epoch 9/10, Loss: 0.3787\n",
      "Checkpoint saved: epoch 10\n",
      "[FeatureExt] Epoch 10/10, Loss: 0.3621\n"
     ]
    }
   ],
   "source": [
    "for epoch in range(num_epoch):\n",
    "    total_L=0.0\n",
    "    for data, target in train_loader:\n",
    "        target=target.to(device)\n",
    "        data=data.to(device)\n",
    "        \n",
    "        optimy.zero_grad()\n",
    "        out=model(data)\n",
    "        loss=criter(out,target)\n",
    "        loss.backward()\n",
    "        optimy.step()\n",
    "        total_L+=loss.item()*data.size(0)\n",
    "\n",
    "    if (epoch+1) % save_every == 0:\n",
    "        torch.save({\n",
    "            \"epoch\": epoch+1,\n",
    "            \"model_state\": model.state_dict(),\n",
    "            \"optim_state\": optimizer.state_dict()\n",
    "        }, f\"./checkpoints/cnn_epoch{epoch+1}.pth\")\n",
    "    print(f\"Checkpoint saved: epoch {epoch+1}\")\n",
    "\n",
    "    evg_loss=total_L/len(train_data)\n",
    "    print(f\"[FeatureExt] Epoch {epoch+1}/{num_epoch}, Loss: {evg_loss:.4f}\")"
   ]
  },
  {
   "cell_type": "code",
   "execution_count": null,
   "id": "94951977-a91c-4ef6-8b0f-c3cce1880031",
   "metadata": {},
   "outputs": [],
   "source": []
  },
  {
   "cell_type": "code",
   "execution_count": 104,
   "id": "8d79066e-ea4a-4953-84b2-83c9528caa04",
   "metadata": {},
   "outputs": [
    {
     "name": "stdout",
     "output_type": "stream",
     "text": [
      "lr=   0.1, bs= 32, mom=0.90  ->  Avg Loss: 0.1910\n",
      "lr=0.100, bs= 32, mom=0.90  ->  Accuracy: 89.42%\n",
      "lr=   0.1, bs= 32, mom=0.99  ->  Avg Loss: 0.3928\n",
      "lr=0.100, bs= 32, mom=0.99  ->  Accuracy: 86.18%\n",
      "lr=   0.1, bs= 64, mom=0.90  ->  Avg Loss: 0.1815\n",
      "lr=0.100, bs= 64, mom=0.90  ->  Accuracy: 88.94%\n",
      "lr=   0.1, bs= 64, mom=0.99  ->  Avg Loss: 0.1628\n",
      "lr=0.100, bs= 64, mom=0.99  ->  Accuracy: 88.80%\n",
      "lr=  0.01, bs= 32, mom=0.90  ->  Avg Loss: 0.0921\n",
      "lr=0.010, bs= 32, mom=0.90  ->  Accuracy: 89.19%\n",
      "lr=  0.01, bs= 32, mom=0.99  ->  Avg Loss: 0.0756\n",
      "lr=0.010, bs= 32, mom=0.99  ->  Accuracy: 89.58%\n",
      "lr=  0.01, bs= 64, mom=0.90  ->  Avg Loss: 0.0416\n",
      "lr=0.010, bs= 64, mom=0.90  ->  Accuracy: 89.72%\n",
      "lr=  0.01, bs= 64, mom=0.99  ->  Avg Loss: 0.0410\n",
      "lr=0.010, bs= 64, mom=0.99  ->  Accuracy: 89.69%\n",
      "lr= 0.001, bs= 32, mom=0.90  ->  Avg Loss: 0.0474\n",
      "lr=0.001, bs= 32, mom=0.90  ->  Accuracy: 89.70%\n",
      "lr= 0.001, bs= 32, mom=0.99  ->  Avg Loss: 0.0459\n",
      "lr=0.001, bs= 32, mom=0.99  ->  Accuracy: 89.83%\n",
      "lr= 0.001, bs= 64, mom=0.90  ->  Avg Loss: 0.0315\n",
      "lr=0.001, bs= 64, mom=0.90  ->  Accuracy: 89.63%\n",
      "lr= 0.001, bs= 64, mom=0.99  ->  Avg Loss: 0.0312\n",
      "lr=0.001, bs= 64, mom=0.99  ->  Accuracy: 89.78%\n"
     ]
    }
   ],
   "source": [
    "from sklearn.metrics import accuracy_score\n",
    "\n",
    "results = {}\n",
    "\n",
    "for lr, bs, mom in itertools.product([0.1, 0.01, 0.001], [32, 64], [0.9, 0.99]):\n",
    "    train_loader = DataLoader(train_data, batch_size=bs, shuffle=True, num_workers=2)\n",
    "    test_loader  = DataLoader(test_data,  batch_size=bs, shuffle=False, num_workers=2)\n",
    "    optimizer = torch.optim.SGD(model.parameters(), lr=lr, momentum=mom)\n",
    "\n",
    "    # 학습 1 epoch (생략…)\n",
    "    # 3) 1 에폭 학습 (예시)\n",
    "    model.train()\n",
    "    total_loss = 0.0\n",
    "    for x, y in train_loader:\n",
    "        x, y = x.to(device), y.to(device)\n",
    "        optimizer.zero_grad()\n",
    "        out = model(x)\n",
    "        loss = criterion(out, y)\n",
    "        loss.backward()\n",
    "        optimizer.step()\n",
    "        total_loss += loss.item() * x.size(0)\n",
    "\n",
    "    avg_loss = total_loss / len(train_ds)\n",
    "    print(f\"lr={lr:>6}, bs={bs:>3}, mom={mom:.2f}  ->  Avg Loss: {avg_loss:.4f}\")\n",
    "\n",
    "    # 4) 결과 저장\n",
    "    results[(lr, bs, mom)] = avg_loss\n",
    "    # 평가\n",
    "    model.eval()\n",
    "    all_preds, all_labels = [], []\n",
    "    with torch.no_grad():\n",
    "        for x, y in test_loader:\n",
    "            x = x.to(device)\n",
    "            preds = model(x).argmax(1).cpu().tolist()\n",
    "            all_preds.extend(preds)\n",
    "            all_labels.extend(y.tolist())\n",
    "\n",
    "    acc = accuracy_score(all_labels, all_preds)\n",
    "    print(f\"lr={lr:.3f}, bs={bs:>3}, mom={mom:.2f}  ->  Accuracy: {acc*100:5.2f}%\")\n",
    "    results[(lr, bs, mom)] = acc\n"
   ]
  },
  {
   "cell_type": "code",
   "execution_count": 106,
   "id": "08ca5856-e601-423e-9d42-17e0df649898",
   "metadata": {},
   "outputs": [
    {
     "name": "stdout",
     "output_type": "stream",
     "text": [
      "\n",
      "=== Hyperparameter Tuning Summary (by Loss) ===\n",
      "lr=   0.1, bs= 32, mom=0.99  ->  Avg Loss: 0.8618\n",
      "lr=   0.1, bs= 64, mom=0.99  ->  Avg Loss: 0.8880\n",
      "lr=   0.1, bs= 64, mom=0.90  ->  Avg Loss: 0.8894\n",
      "lr=  0.01, bs= 32, mom=0.90  ->  Avg Loss: 0.8919\n",
      "lr=   0.1, bs= 32, mom=0.90  ->  Avg Loss: 0.8942\n",
      "lr=  0.01, bs= 32, mom=0.99  ->  Avg Loss: 0.8958\n",
      "lr= 0.001, bs= 64, mom=0.90  ->  Avg Loss: 0.8963\n",
      "lr=  0.01, bs= 64, mom=0.99  ->  Avg Loss: 0.8969\n",
      "lr= 0.001, bs= 32, mom=0.90  ->  Avg Loss: 0.8970\n",
      "lr=  0.01, bs= 64, mom=0.90  ->  Avg Loss: 0.8972\n",
      "lr= 0.001, bs= 64, mom=0.99  ->  Avg Loss: 0.8978\n",
      "lr= 0.001, bs= 32, mom=0.99  ->  Avg Loss: 0.8983\n",
      "\n",
      "Best setting: lr=0.1, bs=32, mom=0.99 -> Loss=0.8618\n"
     ]
    }
   ],
   "source": [
    "# (위에서 results 딕셔너리에 저장을 다 했다고 가정)\n",
    "\n",
    "# 1) (lr, bs, mom), loss 튜플 리스트로 변환\n",
    "items = list(results.items())\n",
    "\n",
    "# 2) loss 기준 오름차순 정렬\n",
    "items.sort(key=lambda x: x[1])\n",
    "\n",
    "print(\"\\n=== Hyperparameter Tuning Summary (by Loss) ===\")\n",
    "for (lr, bs, mom), loss in items:\n",
    "    print(f\"lr={lr:>6}, bs={bs:>3}, mom={mom:.2f}  ->  Avg Loss: {loss:.4f}\")\n",
    "\n",
    "# 3) 최고 성능 조합만 보고 싶으면\n",
    "best_params, best_loss = items[0]\n",
    "lr, bs, mom = best_params\n",
    "print(f\"\\nBest setting: lr={lr}, bs={bs}, mom={mom} -> Loss={best_loss:.4f}\")\n"
   ]
  },
  {
   "cell_type": "code",
   "execution_count": null,
   "id": "ea33c513-7d15-464a-9b46-5d8734d174cb",
   "metadata": {},
   "outputs": [],
   "source": []
  },
  {
   "cell_type": "code",
   "execution_count": null,
   "id": "0480c521-268b-4a71-9c32-ea9af0459431",
   "metadata": {},
   "outputs": [],
   "source": []
  },
  {
   "cell_type": "code",
   "execution_count": 83,
   "id": "1c3c1f84-a7d2-45cf-964f-82483e491e90",
   "metadata": {},
   "outputs": [
    {
     "name": "stdout",
     "output_type": "stream",
     "text": [
      "[FeatureExt] Test Accuracy: 87.21%\n"
     ]
    }
   ],
   "source": [
    "model.eval()\n",
    "correct=0.0\n",
    "total=0.0\n",
    "with torch.no_grad():\n",
    "    for data, target in test_loader:\n",
    "        data=data.to(device)\n",
    "        target=target.to(device)\n",
    "        out=model(data)\n",
    "        _,pred=torch.max(out, 1)\n",
    "        correct+=(pred==target).sum().item()\n",
    "        total+=target.size(0)\n",
    "\n",
    "print(f\"[FeatureExt] Test Accuracy: {100*correct/total:.2f}%\")"
   ]
  },
  {
   "cell_type": "code",
   "execution_count": null,
   "id": "cb441166-0ee3-4caa-b541-7391fc0d1b77",
   "metadata": {},
   "outputs": [],
   "source": []
  },
  {
   "cell_type": "code",
   "execution_count": 108,
   "id": "49cfc925-c340-481a-83ff-49940dbfa6c4",
   "metadata": {},
   "outputs": [
    {
     "data": {
      "image/png": "[encoded data removed]",
      "text/plain": [
       "<Figure size 800x600 with 2 Axes>"
      ]
     },
     "metadata": {},
     "output_type": "display_data"
    }
   ],
   "source": [
    "#3. Confusion Matrix 시각화\n",
    "\n",
    "from sklearn.metrics import confusion_matrix\n",
    "import matplotlib.pyplot as plt\n",
    "import numpy as np\n",
    "\n",
    "# 3.1 예측 수집\n",
    "model.eval()\n",
    "all_preds, all_labels = [], []\n",
    "with torch.no_grad():\n",
    "    for x,y in test_loader:\n",
    "        x,y = x.to(device), y.to(device)\n",
    "        preds = model(x).argmax(1)\n",
    "        all_preds.extend(preds.cpu().numpy())\n",
    "        all_labels.extend(y.cpu().numpy())\n",
    "\n",
    "# 3.2 행렬 계산\n",
    "cm = confusion_matrix(all_labels, all_preds)\n",
    "\n",
    "# 3.3 히트맵 출력\n",
    "plt.figure(figsize=(8,6))\n",
    "plt.imshow(cm, interpolation='nearest', cmap=plt.cm.Blues)\n",
    "plt.title(\"Confusion Matrix\")\n",
    "plt.colorbar()\n",
    "ticks = np.arange(10)\n",
    "plt.xticks(ticks, ticks); plt.yticks(ticks, ticks)\n",
    "plt.xlabel(\"Predicted\"); plt.ylabel(\"True\")\n",
    "plt.show()\n"
   ]
  },
  {
   "cell_type": "code",
   "execution_count": null,
   "id": "c7da9ff5-cbf9-4f1f-8d60-dd7fd28166df",
   "metadata": {},
   "outputs": [],
   "source": []
  },
  {
   "cell_type": "code",
   "execution_count": null,
   "id": "4a479941-e105-4633-954c-85d46957cdf1",
   "metadata": {},
   "outputs": [],
   "source": []
  },
  {
   "cell_type": "code",
   "execution_count": null,
   "id": "afcad0d9-7ac2-4556-8645-2dc04f7b8e44",
   "metadata": {},
   "outputs": [],
   "source": [
    "import torch\n",
    "import torch.nn as nn\n",
    "import torch.optim as optim\n",
    "from torchvision import datasets, transforms, models\n",
    "from torch.utils.data import DataLoader\n",
    "\n",
    "# 1) 데이터 준비 (CIFAR-10)\n",
    "transform = transforms.Compose([\n",
    "    transforms.Resize(224),                   # ResNet 입력 크기(224x224)로 리사이즈\n",
    "    transforms.ToTensor(),\n",
    "    transforms.Normalize(                    \n",
    "        mean=(0.485, 0.456, 0.406),           # ImageNet 통계값\n",
    "        std =(0.229, 0.224, 0.225)\n",
    "    )\n",
    "])\n",
    "train_ds = datasets.CIFAR10(\"./data\", train=True,  download=True, transform=transform)\n",
    "test_ds  = datasets.CIFAR10(\"./data\", train=False, download=True, transform=transform)\n",
    "train_loader = DataLoader(train_ds, batch_size=64, shuffle=True,  num_workers=2)\n",
    "test_loader  = DataLoader(test_ds,  batch_size=100, shuffle=False, num_workers=2)\n",
    "\n",
    "device = torch.device(\"cuda\" if torch.cuda.is_available() else \"cpu\")\n",
    "\n",
    "# 2) 사전 학습된 ResNet18 불러오기\n",
    "model = models.resnet18(pretrained=True)\n",
    "\n",
    "# 3) Feature Extraction 전략: 모든 파라미터를 freeze\n",
    "for param in model.parameters():\n",
    "    param.requires_grad = False\n",
    "\n",
    "# 4) 마지막 FC 레이어를 CIFAR-10용으로 교체\n",
    "num_ftrs = model.fc.in_features\n",
    "model.fc = nn.Linear(num_ftrs, 10)  # CIFAR-10 클래스 수 = 10\n",
    "\n",
    "model = model.to(device)\n",
    "\n",
    "# 5) 손실 함수와 옵티마이저 설정\n",
    "criterion = nn.CrossEntropyLoss()\n",
    "optimizer = optim.SGD(model.fc.parameters(), lr=0.001, momentum=0.9)\n",
    "\n",
    "# 6) 학습 루프 (Feature Extraction)\n",
    "num_epochs = 5\n",
    "for epoch in range(num_epochs):\n",
    "    model.train()\n",
    "    running_loss = 0.0\n",
    "    for inputs, labels in train_loader:\n",
    "        inputs, labels = inputs.to(device), labels.to(device)\n",
    "        optimizer.zero_grad()\n",
    "        outputs = model(inputs)\n",
    "        loss = criterion(outputs, labels)\n",
    "        loss.backward()\n",
    "        optimizer.step()\n",
    "        running_loss += loss.item() * inputs.size(0)\n",
    "    epoch_loss = running_loss / len(train_ds)\n",
    "    print(f\"[FeatureExt] Epoch {epoch+1}/{num_epochs}, Loss: {epoch_loss:.4f}\")\n",
    "\n",
    "# 7) 평가\n",
    "model.eval()\n",
    "correct = 0\n",
    "total = 0\n",
    "with torch.no_grad():\n",
    "    for inputs, labels in test_loader:\n",
    "        inputs, labels = inputs.to(device), labels.to(device)\n",
    "        outputs = model(inputs)\n",
    "        _, preds = torch.max(outputs, 1)\n",
    "        correct += (preds == labels).sum().item()\n",
    "        total += labels.size(0)\n",
    "print(f\"[FeatureExt] Test Accuracy: {100*correct/total:.2f}%\")\n"
   ]
  },
  {
   "cell_type": "code",
   "execution_count": null,
   "id": "82af4479-236e-477c-acc4-ef0d00e77840",
   "metadata": {},
   "outputs": [],
   "source": []
  },
  {
   "cell_type": "code",
   "execution_count": null,
   "id": "637affbd-c488-4e84-a1b7-5217facf1966",
   "metadata": {},
   "outputs": [],
   "source": [
    "#1. 체크포인트 저장/불러오기\n",
    "if (epoch+1)%save_every==0:\n",
    "    torch."
   ]
  },
  {
   "cell_type": "code",
   "execution_count": 86,
   "id": "4e9e2d41-a86d-4b3b-85e7-aa496ed8c880",
   "metadata": {},
   "outputs": [
    {
     "ename": "NameError",
     "evalue": "name 'save_every' is not defined",
     "output_type": "error",
     "traceback": [
      "\u001b[1;31m---------------------------------------------------------------------------\u001b[0m",
      "\u001b[1;31mNameError\u001b[0m                                 Traceback (most recent call last)",
      "Cell \u001b[1;32mIn[86], line 4\u001b[0m\n\u001b[0;32m      1\u001b[0m \u001b[38;5;28;01mimport\u001b[39;00m \u001b[38;5;21;01mtorch\u001b[39;00m\n\u001b[0;32m      3\u001b[0m \u001b[38;5;66;03m# 학습 루프 중에\u001b[39;00m\n\u001b[1;32m----> 4\u001b[0m \u001b[38;5;28;01mif\u001b[39;00m (epoch\u001b[38;5;241m+\u001b[39m\u001b[38;5;241m1\u001b[39m) \u001b[38;5;241m%\u001b[39m save_every \u001b[38;5;241m==\u001b[39m \u001b[38;5;241m0\u001b[39m:\n\u001b[0;32m      5\u001b[0m     torch\u001b[38;5;241m.\u001b[39msave({\n\u001b[0;32m      6\u001b[0m         \u001b[38;5;124m\"\u001b[39m\u001b[38;5;124mepoch\u001b[39m\u001b[38;5;124m\"\u001b[39m: epoch\u001b[38;5;241m+\u001b[39m\u001b[38;5;241m1\u001b[39m,\n\u001b[0;32m      7\u001b[0m         \u001b[38;5;124m\"\u001b[39m\u001b[38;5;124mmodel_state\u001b[39m\u001b[38;5;124m\"\u001b[39m: model\u001b[38;5;241m.\u001b[39mstate_dict(),\n\u001b[0;32m      8\u001b[0m         \u001b[38;5;124m\"\u001b[39m\u001b[38;5;124moptim_state\u001b[39m\u001b[38;5;124m\"\u001b[39m: optimizer\u001b[38;5;241m.\u001b[39mstate_dict()\n\u001b[0;32m      9\u001b[0m     }, \u001b[38;5;124mf\u001b[39m\u001b[38;5;124m\"\u001b[39m\u001b[38;5;124m./checkpoints/cnn_epoch\u001b[39m\u001b[38;5;132;01m{\u001b[39;00mepoch\u001b[38;5;241m+\u001b[39m\u001b[38;5;241m1\u001b[39m\u001b[38;5;132;01m}\u001b[39;00m\u001b[38;5;124m.pth\u001b[39m\u001b[38;5;124m\"\u001b[39m)\n\u001b[0;32m     10\u001b[0m     \u001b[38;5;28mprint\u001b[39m(\u001b[38;5;124mf\u001b[39m\u001b[38;5;124m\"\u001b[39m\u001b[38;5;124mCheckpoint saved: epoch \u001b[39m\u001b[38;5;132;01m{\u001b[39;00mepoch\u001b[38;5;241m+\u001b[39m\u001b[38;5;241m1\u001b[39m\u001b[38;5;132;01m}\u001b[39;00m\u001b[38;5;124m\"\u001b[39m)\n",
      "\u001b[1;31mNameError\u001b[0m: name 'save_every' is not defined"
     ]
    }
   ],
   "source": [
    "import torch\n",
    "\n",
    "# 학습 루프 중에\n",
    "if (epoch+1) % save_every == 0:\n",
    "    torch.save({\n",
    "        \"epoch\": epoch+1,\n",
    "        \"model_state\": model.state_dict(),\n",
    "        \"optim_state\": optimizer.state_dict()\n",
    "    }, f\"./checkpoints/cnn_epoch{epoch+1}.pth\")\n",
    "    print(f\"Checkpoint saved: epoch {epoch+1}\")\n"
   ]
  },
  {
   "cell_type": "code",
   "execution_count": 102,
   "id": "b5003d9f-3226-479b-a71e-b11a7354f248",
   "metadata": {},
   "outputs": [
    {
     "ename": "KeyboardInterrupt",
     "evalue": "",
     "output_type": "error",
     "traceback": [
      "\u001b[1;31m---------------------------------------------------------------------------\u001b[0m",
      "\u001b[1;31mKeyboardInterrupt\u001b[0m                         Traceback (most recent call last)",
      "Cell \u001b[1;32mIn[102], line 11\u001b[0m\n\u001b[0;32m      9\u001b[0m model\u001b[38;5;241m.\u001b[39mtrain()\n\u001b[0;32m     10\u001b[0m total \u001b[38;5;241m=\u001b[39m \u001b[38;5;241m0\u001b[39m\n\u001b[1;32m---> 11\u001b[0m \u001b[38;5;28;01mfor\u001b[39;00m x,y \u001b[38;5;129;01min\u001b[39;00m train_loader:\n\u001b[0;32m     12\u001b[0m     x,y \u001b[38;5;241m=\u001b[39m x\u001b[38;5;241m.\u001b[39mto(device), y\u001b[38;5;241m.\u001b[39mto(device)\n\u001b[0;32m     13\u001b[0m     optimizer\u001b[38;5;241m.\u001b[39mzero_grad()\n",
      "File \u001b[1;32m~\\anaconda\\Lib\\site-packages\\torch\\utils\\data\\dataloader.py:701\u001b[0m, in \u001b[0;36m_BaseDataLoaderIter.__next__\u001b[1;34m(self)\u001b[0m\n\u001b[0;32m    698\u001b[0m \u001b[38;5;28;01mif\u001b[39;00m \u001b[38;5;28mself\u001b[39m\u001b[38;5;241m.\u001b[39m_sampler_iter \u001b[38;5;129;01mis\u001b[39;00m \u001b[38;5;28;01mNone\u001b[39;00m:\n\u001b[0;32m    699\u001b[0m     \u001b[38;5;66;03m# TODO(https://github.com/pytorch/pytorch/issues/76750)\u001b[39;00m\n\u001b[0;32m    700\u001b[0m     \u001b[38;5;28mself\u001b[39m\u001b[38;5;241m.\u001b[39m_reset()  \u001b[38;5;66;03m# type: ignore[call-arg]\u001b[39;00m\n\u001b[1;32m--> 701\u001b[0m data \u001b[38;5;241m=\u001b[39m \u001b[38;5;28mself\u001b[39m\u001b[38;5;241m.\u001b[39m_next_data()\n\u001b[0;32m    702\u001b[0m \u001b[38;5;28mself\u001b[39m\u001b[38;5;241m.\u001b[39m_num_yielded \u001b[38;5;241m+\u001b[39m\u001b[38;5;241m=\u001b[39m \u001b[38;5;241m1\u001b[39m\n\u001b[0;32m    703\u001b[0m \u001b[38;5;28;01mif\u001b[39;00m (\n\u001b[0;32m    704\u001b[0m     \u001b[38;5;28mself\u001b[39m\u001b[38;5;241m.\u001b[39m_dataset_kind \u001b[38;5;241m==\u001b[39m _DatasetKind\u001b[38;5;241m.\u001b[39mIterable\n\u001b[0;32m    705\u001b[0m     \u001b[38;5;129;01mand\u001b[39;00m \u001b[38;5;28mself\u001b[39m\u001b[38;5;241m.\u001b[39m_IterableDataset_len_called \u001b[38;5;129;01mis\u001b[39;00m \u001b[38;5;129;01mnot\u001b[39;00m \u001b[38;5;28;01mNone\u001b[39;00m\n\u001b[0;32m    706\u001b[0m     \u001b[38;5;129;01mand\u001b[39;00m \u001b[38;5;28mself\u001b[39m\u001b[38;5;241m.\u001b[39m_num_yielded \u001b[38;5;241m>\u001b[39m \u001b[38;5;28mself\u001b[39m\u001b[38;5;241m.\u001b[39m_IterableDataset_len_called\n\u001b[0;32m    707\u001b[0m ):\n",
      "File \u001b[1;32m~\\anaconda\\Lib\\site-packages\\torch\\utils\\data\\dataloader.py:756\u001b[0m, in \u001b[0;36m_SingleProcessDataLoaderIter._next_data\u001b[1;34m(self)\u001b[0m\n\u001b[0;32m    755\u001b[0m \u001b[38;5;28;01mdef\u001b[39;00m \u001b[38;5;21m_next_data\u001b[39m(\u001b[38;5;28mself\u001b[39m):\n\u001b[1;32m--> 756\u001b[0m     index \u001b[38;5;241m=\u001b[39m \u001b[38;5;28mself\u001b[39m\u001b[38;5;241m.\u001b[39m_next_index()  \u001b[38;5;66;03m# may raise StopIteration\u001b[39;00m\n\u001b[0;32m    757\u001b[0m     data \u001b[38;5;241m=\u001b[39m \u001b[38;5;28mself\u001b[39m\u001b[38;5;241m.\u001b[39m_dataset_fetcher\u001b[38;5;241m.\u001b[39mfetch(index)  \u001b[38;5;66;03m# may raise StopIteration\u001b[39;00m\n\u001b[0;32m    758\u001b[0m     \u001b[38;5;28;01mif\u001b[39;00m \u001b[38;5;28mself\u001b[39m\u001b[38;5;241m.\u001b[39m_pin_memory:\n",
      "File \u001b[1;32m~\\anaconda\\Lib\\site-packages\\torch\\utils\\data\\dataloader.py:691\u001b[0m, in \u001b[0;36m_BaseDataLoaderIter._next_index\u001b[1;34m(self)\u001b[0m\n\u001b[0;32m    690\u001b[0m \u001b[38;5;28;01mdef\u001b[39;00m \u001b[38;5;21m_next_index\u001b[39m(\u001b[38;5;28mself\u001b[39m):\n\u001b[1;32m--> 691\u001b[0m     \u001b[38;5;28;01mreturn\u001b[39;00m \u001b[38;5;28mnext\u001b[39m(\u001b[38;5;28mself\u001b[39m\u001b[38;5;241m.\u001b[39m_sampler_iter)\n",
      "File \u001b[1;32m~\\anaconda\\Lib\\site-packages\\torch\\utils\\data\\sampler.py:347\u001b[0m, in \u001b[0;36mBatchSampler.__iter__\u001b[1;34m(self)\u001b[0m\n\u001b[0;32m    345\u001b[0m batch \u001b[38;5;241m=\u001b[39m [\u001b[38;5;241m0\u001b[39m] \u001b[38;5;241m*\u001b[39m \u001b[38;5;28mself\u001b[39m\u001b[38;5;241m.\u001b[39mbatch_size\n\u001b[0;32m    346\u001b[0m idx_in_batch \u001b[38;5;241m=\u001b[39m \u001b[38;5;241m0\u001b[39m\n\u001b[1;32m--> 347\u001b[0m \u001b[38;5;28;01mfor\u001b[39;00m idx \u001b[38;5;129;01min\u001b[39;00m \u001b[38;5;28mself\u001b[39m\u001b[38;5;241m.\u001b[39msampler:\n\u001b[0;32m    348\u001b[0m     batch[idx_in_batch] \u001b[38;5;241m=\u001b[39m idx\n\u001b[0;32m    349\u001b[0m     idx_in_batch \u001b[38;5;241m+\u001b[39m\u001b[38;5;241m=\u001b[39m \u001b[38;5;241m1\u001b[39m\n",
      "File \u001b[1;32m~\\anaconda\\Lib\\site-packages\\torch\\utils\\data\\sampler.py:197\u001b[0m, in \u001b[0;36mRandomSampler.__iter__\u001b[1;34m(self)\u001b[0m\n\u001b[0;32m    195\u001b[0m \u001b[38;5;28;01melse\u001b[39;00m:\n\u001b[0;32m    196\u001b[0m     \u001b[38;5;28;01mfor\u001b[39;00m _ \u001b[38;5;129;01min\u001b[39;00m \u001b[38;5;28mrange\u001b[39m(\u001b[38;5;28mself\u001b[39m\u001b[38;5;241m.\u001b[39mnum_samples \u001b[38;5;241m/\u001b[39m\u001b[38;5;241m/\u001b[39m n):\n\u001b[1;32m--> 197\u001b[0m         \u001b[38;5;28;01myield from\u001b[39;00m torch\u001b[38;5;241m.\u001b[39mrandperm(n, generator\u001b[38;5;241m=\u001b[39mgenerator)\u001b[38;5;241m.\u001b[39mtolist()\n\u001b[0;32m    198\u001b[0m     \u001b[38;5;28;01myield from\u001b[39;00m torch\u001b[38;5;241m.\u001b[39mrandperm(n, generator\u001b[38;5;241m=\u001b[39mgenerator)\u001b[38;5;241m.\u001b[39mtolist()[\n\u001b[0;32m    199\u001b[0m         : \u001b[38;5;28mself\u001b[39m\u001b[38;5;241m.\u001b[39mnum_samples \u001b[38;5;241m%\u001b[39m n\n\u001b[0;32m    200\u001b[0m     ]\n",
      "\u001b[1;31mKeyboardInterrupt\u001b[0m: "
     ]
    }
   ],
   "source": [
    "#2. 하이퍼파라미터 튜닝\n",
    "import itertools\n",
    "\n",
    "results = {}\n",
    "for lr, bs, mom in itertools.product([0.1,0.01,0.001], [32,64], [0.9,0.99]):\n",
    "    train_loader = loader(train_data, batch_size=bs, shuffle=True)\n",
    "    optimizer = torch.optim.SGD(model.parameters(), lr=lr, momentum=mom)\n",
    "\n",
    "    model.train()\n",
    "    total = 0\n",
    "    for x,y in train_loader:\n",
    "        x,y = x.to(device), y.to(device)\n",
    "        optimizer.zero_grad()\n",
    "        loss = criterion(model(x), y)\n",
    "        loss.backward()\n",
    "        optimizer.step()\n",
    "        total += loss.item() * x.size(0)\n",
    "\n",
    "    results[(lr,bs,mom)] = total / len(train_ds)\n"
   ]
  },
  {
   "cell_type": "code",
   "execution_count": null,
   "id": "86ec1771-c9e8-48eb-82e1-f41adad30e21",
   "metadata": {},
   "outputs": [],
   "source": []
  }
 ],
 "metadata": {
  "kernelspec": {
   "display_name": "Python (CUDA 12.4)",
   "language": "python",
   "name": "cuda124"
  },
  "language_info": {
   "codemirror_mode": {
    "name": "ipython",
    "version": 3
   },
   "file_extension": ".py",
   "mimetype": "text/x-python",
   "name": "python",
   "nbconvert_exporter": "python",
   "pygments_lexer": "ipython3",
   "version": "3.12.3"
  }
 },
 "nbformat": 4,
 "nbformat_minor": 5
}
