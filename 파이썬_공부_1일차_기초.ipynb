{
 "cells": [
  {
   "cell_type": "code",
   "execution_count": 1,
   "id": "a3765db1-05c9-42b9-bad2-6b7fa3bd95bf",
   "metadata": {},
   "outputs": [
    {
     "name": "stdout",
     "output_type": "stream",
     "text": [
      "hello worde\n"
     ]
    }
   ],
   "source": [
    "print(\"hello worde\")"
   ]
  },
  {
   "cell_type": "code",
   "execution_count": 20,
   "id": "7b99e236-90d6-4fa5-935f-cb20767e3d78",
   "metadata": {},
   "outputs": [
    {
     "name": "stdout",
     "output_type": "stream",
     "text": [
      "KIM 25\n",
      "<class 'str'>\n",
      "<class 'int'>\n",
      "<class 'float'>\n"
     ]
    }
   ],
   "source": [
    "#변수&Dtype\n",
    "name=\"KIM\"\n",
    "age=25\n",
    "print(name,age)\n",
    "\n",
    "print(type(name))\n",
    "print(type(age))\n",
    "print(type(float(age)))\n"
   ]
  },
  {
   "cell_type": "code",
   "execution_count": 22,
   "id": "49806c59-d3e0-4641-b3ae-932f9284fbdb",
   "metadata": {},
   "outputs": [
    {
     "name": "stdout",
     "output_type": "stream",
     "text": [
      "30 -10 200 0.5\n"
     ]
    }
   ],
   "source": [
    "#기본 연산\n",
    "a=10\n",
    "b=20\n",
    "print(a+b,a-b,a*b,a/b)"
   ]
  },
  {
   "cell_type": "code",
   "execution_count": 32,
   "id": "4763b421-d25c-4dbe-9f9f-e56ccdec4dff",
   "metadata": {},
   "outputs": [
    {
     "name": "stdin",
     "output_type": "stream",
     "text": [
      "name asd\n"
     ]
    },
    {
     "name": "stdout",
     "output_type": "stream",
     "text": [
      "hello! {'asd'} sama!\n"
     ]
    },
    {
     "name": "stdin",
     "output_type": "stream",
     "text": [
      "num 10\n"
     ]
    },
    {
     "name": "stdout",
     "output_type": "stream",
     "text": [
      "number+10=20\n"
     ]
    }
   ],
   "source": [
    "#간단한 실습\n",
    "name=input(\"name\")\n",
    "print(\"hello!\",{name},\"sama!\")\n",
    "\n",
    "num=int(input('num'))\n",
    "print(f\"number+10={num+10}\")"
   ]
  },
  {
   "cell_type": "code",
   "execution_count": 46,
   "id": "6912f42e-c716-476d-bb72-dac256e5ceab",
   "metadata": {},
   "outputs": [
    {
     "name": "stdin",
     "output_type": "stream",
     "text": [
      "name qwe\n",
      "age 23\n"
     ]
    },
    {
     "name": "stdout",
     "output_type": "stream",
     "text": [
      "qwe님은23살이다\n",
      "성인입니다.\n"
     ]
    },
    {
     "name": "stdin",
     "output_type": "stream",
     "text": [
      "num1 3\n",
      "num2 3\n"
     ]
    },
    {
     "name": "stdout",
     "output_type": "stream",
     "text": [
      "6 0 9 1\n"
     ]
    }
   ],
   "source": [
    "#오늘자 문제\n",
    "name=input(\"name\")\n",
    "age=int(input(\"age\"))\n",
    "print(f\"{name}님은{age}살이다\")\n",
    "if(age<20):\n",
    "    print(\"미성년자입니다\")\n",
    "elif(age>=20):\n",
    "    print(\"성인입니다.\")\n",
    "#------------------------------------\n",
    "num1=int(input(\"num1\"))\n",
    "num2=int(input(\"num2\"))\n",
    "print(num1+num2,num1-num2,num1*num2,num1//num2)"
   ]
  },
  {
   "cell_type": "code",
   "execution_count": null,
   "id": "06d60d96-3620-491d-9a82-d5575c500734",
   "metadata": {},
   "outputs": [],
   "source": []
  }
 ],
 "metadata": {
  "kernelspec": {
   "display_name": "Python 3 (ipykernel)",
   "language": "python",
   "name": "python3"
  },
  "language_info": {
   "codemirror_mode": {
    "name": "ipython",
    "version": 3
   },
   "file_extension": ".py",
   "mimetype": "text/x-python",
   "name": "python",
   "nbconvert_exporter": "python",
   "pygments_lexer": "ipython3",
   "version": "3.12.3"
  }
 },
 "nbformat": 4,
 "nbformat_minor": 5
}
