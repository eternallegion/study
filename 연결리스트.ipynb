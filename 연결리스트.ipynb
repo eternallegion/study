{
 "cells": [
  {
   "cell_type": "markdown",
   "id": "0ead7161-802d-4c61-bc06-91cf15fff3b9",
   "metadata": {},
   "source": [
    "### 단일 연결 리스트 (Singly Linked List) ###\n",
    "개념\n",
    "\n",
    "각 노드는 데이터와 다음 노드에 대한 참조(next)를 가지고 있어.\n",
    "\n",
    "리스트의 시작은 **헤드(head)**라 부르고, 마지막 노드의 next는 보통 None을 가리켜."
   ]
  },
  {
   "cell_type": "code",
   "execution_count": 21,
   "id": "92390355-ff18-4eca-b094-ccf1e23e020f",
   "metadata": {},
   "outputs": [],
   "source": [
    "class Node:\n",
    "    def __init__(self, data):\n",
    "        self.data=data\n",
    "        self.next=None\n",
    "\n",
    "class SLL:\n",
    "    def __init__(self):\n",
    "        self.head=None\n",
    "    \n",
    "    def append(self, data):\n",
    "        newnode=Node(data)\n",
    "        if not self.head:\n",
    "            self.head=newnode\n",
    "            return \n",
    "        current=self.head\n",
    "        while current.next:\n",
    "            current=current.next\n",
    "        current.next=newnode\n",
    "\n",
    "    def display(self):\n",
    "        current=self.head\n",
    "        while current:\n",
    "            print(current.data, end=\" -> \")\n",
    "            current=current.next\n",
    "        print(\"None\")\n",
    "\n",
    "        "
   ]
  },
  {
   "cell_type": "code",
   "execution_count": 23,
   "id": "92a11ba7-e815-4d85-8887-f34df9490e01",
   "metadata": {},
   "outputs": [
    {
     "name": "stdout",
     "output_type": "stream",
     "text": [
      "10 -> 20 -> 30 -> None\n"
     ]
    }
   ],
   "source": [
    "sll = SLL()\n",
    "sll.append(10)\n",
    "sll.append(20)\n",
    "sll.append(30)\n",
    "sll.display()"
   ]
  },
  {
   "cell_type": "code",
   "execution_count": null,
   "id": "3183501a-c5ec-4988-bba6-d29d3350716d",
   "metadata": {},
   "outputs": [],
   "source": []
  },
  {
   "cell_type": "markdown",
   "id": "061bfd88-987f-4d8a-9fef-8934718b4a71",
   "metadata": {},
   "source": [
    "### 이중 연결 리스트 (Doubly Linked List) ###\n",
    "개념\n",
    "\n",
    "각 노드는 데이터, 이전 노드에 대한 참조(prev), 다음 노드에 대한 참조(next)를 가지고 있어.\n",
    "\n",
    "양 방향으로 탐색이 가능하므로, 단일 연결 리스트보다 더 유연하게 데이터를 다룰 수 있어."
   ]
  },
  {
   "cell_type": "code",
   "execution_count": 89,
   "id": "f6601f06-3b7a-45af-8e90-286ab7dc082b",
   "metadata": {},
   "outputs": [],
   "source": [
    "class DNode:\n",
    "    def __init__(self, data):\n",
    "        self.data=data\n",
    "        self.pre=None\n",
    "        self.next=None\n",
    "\n",
    "class DLL:\n",
    "    def __init__(self):\n",
    "        self.head=None\n",
    "        self.tail=None\n",
    "\n",
    "    def append(self, data):\n",
    "        newnode=DNode(data)\n",
    "        if not self.head:\n",
    "            self.head=newnode\n",
    "            self.tail=newnode\n",
    "            return\n",
    "\n",
    "        self.tail.next=newnode\n",
    "        newnode.pre=self.tail\n",
    "        self.tail=newnode\n",
    "        \n",
    "\n",
    "    def displayF(self):\n",
    "        current=self.head\n",
    "        while current:\n",
    "            print(current.data, end=\" <-> \")\n",
    "            current=current.next\n",
    "        print(\"NONE\")\n",
    "\n",
    "    def displayB(self):\n",
    "        current=self.tail\n",
    "        while current:\n",
    "            print(current.data, end=\"<=>\")\n",
    "            current=current.pre\n",
    "        print(\"NONE\")"
   ]
  },
  {
   "cell_type": "code",
   "execution_count": 91,
   "id": "dee84acc-1b80-4577-bedf-7a1d3a69fd91",
   "metadata": {},
   "outputs": [
    {
     "name": "stdout",
     "output_type": "stream",
     "text": [
      "10 <-> 20 <-> 30 <-> NONE\n",
      "30<=>20<=>10<=>NONE\n"
     ]
    }
   ],
   "source": [
    "dll = DLL()\n",
    "dll.append(10)\n",
    "dll.append(20)\n",
    "dll.append(30)\n",
    "dll.displayF()   # 출력: 10 <-> 20 <-> 30 <-> None\n",
    "dll.displayB()  # 출력: 30 <-> 20 <-> 10 <-> None"
   ]
  },
  {
   "cell_type": "code",
   "execution_count": null,
   "id": "e165cfde-fac4-4cd9-b7c9-4ee080f08727",
   "metadata": {},
   "outputs": [],
   "source": []
  },
  {
   "cell_type": "markdown",
   "id": "52a618e9-30ff-41c1-8205-155508e72fcc",
   "metadata": {},
   "source": [
    "### 원형 연결 리스트 (Circular Linked List) ###\n",
    "개념\n",
    "\n",
    "단일 연결 리스트와 유사하지만, 마지막 노드의 next가 첫 번째 노드를 가리키는 구조야.\n",
    "\n",
    "순환 구조라서 끝이 없으며, 원형 큐나 라운드로빈 스케줄링 등에 사용돼."
   ]
  },
  {
   "cell_type": "code",
   "execution_count": 4,
   "id": "0c9c89f3-00a7-4ff9-bc80-63efe4a935ad",
   "metadata": {},
   "outputs": [],
   "source": [
    "class Node:\n",
    "    def __init__(self,data):\n",
    "        self.data=data\n",
    "        self.next=None\n",
    "    \n",
    "class CLL:\n",
    "    def __init__(self):\n",
    "        self.head=None\n",
    "\n",
    "    def append(self, data):\n",
    "        newnode=Node(data)\n",
    "        if not self.head:\n",
    "            self.head=newnode\n",
    "            newnode.next=self.head\n",
    "            return\n",
    "\n",
    "        current=self.head\n",
    "        while current.next != self.head:\n",
    "            current=current.next\n",
    "        current.next=newnode\n",
    "        newnode.next=self.head\n",
    "\n",
    "    def display(self,count=10):\n",
    "        current=self.head\n",
    "        while count>0 and current:\n",
    "            print(current.data, end=\"<->\")\n",
    "            current=current.next\n",
    "            count-=1\n",
    "        print(\"....\")\n",
    "\n"
   ]
  },
  {
   "cell_type": "code",
   "execution_count": 6,
   "id": "41b3eb33-d792-437a-b52a-6b8fa7f5575e",
   "metadata": {},
   "outputs": [
    {
     "name": "stdout",
     "output_type": "stream",
     "text": [
      "1<->2<->3<->1<->2<->3<->1<->....\n"
     ]
    }
   ],
   "source": [
    "cll =CLL()\n",
    "cll.append(1)\n",
    "cll.append(2)\n",
    "cll.append(3)\n",
    "cll.display(7)"
   ]
  },
  {
   "cell_type": "markdown",
   "id": "ab4b7726-4d4e-4038-98f6-48d66483eac9",
   "metadata": {},
   "source": [
    "### 삭제 ###\n",
    "\n",
    "연결 리스트에서 삭제를 하려면, 삭제하려는 노드를 연결 리스트의 체인에서 \"빼내는\" 방식으로 포인터를 재조정해야 해요."
   ]
  },
  {
   "cell_type": "code",
   "execution_count": null,
   "id": "f552a785-0661-4b6d-99f6-bd416f2ea1db",
   "metadata": {},
   "outputs": [],
   "source": [
    "#SLL.ver\n",
    "def delete(self, data):\n",
    "    if not self.head:\n",
    "        return\n",
    "    if self.head.data==data:\n",
    "        self.head=self.head.next\n",
    "        return\n",
    "    \n",
    "    current=self.head\n",
    "    while current.next:\n",
    "        if current.next.data==data:\n",
    "            current.next=current.next.next\n",
    "            return\n",
    "        current=current.next"
   ]
  },
  {
   "cell_type": "code",
   "execution_count": null,
   "id": "c7516cf9-106f-4543-bdda-092c0ad7769b",
   "metadata": {},
   "outputs": [],
   "source": [
    "#DLL.ver\n",
    "def delete(self, data):\n",
    "    current=self.head\n",
    "    while current:\n",
    "        if current.data==data:\n",
    "            if current.pre:\n",
    "                current.pre.next=current.next\n",
    "            else:\n",
    "                self.head=current.next\n",
    "            if current.next:\n",
    "                current.next.pre=current.pre\n",
    "            else:\n",
    "                self.tail=current.pre\n",
    "            return \n",
    "        current=current.next"
   ]
  },
  {
   "cell_type": "markdown",
   "id": "a78860c0-0971-483d-93b4-d9cd59ef01bd",
   "metadata": {},
   "source": [
    "### 핵심 포인트 ###\n",
    "\n",
    "단일 연결 리스트: 삭제하려는 노드의 이전 노드를 찾아서, 그 이전 노드의 next 포인터를 삭제할 노드의 next로 설정\n",
    "\n",
    "이중 연결 리스트: 삭제하려는 노드의 이전 노드와 다음 노드의 포인터를 모두 재조정하여, 삭제할 노드가 체인에서 제외되도록 함\n",
    "\n",
    "이렇게 연결 리스트의 노드를 삭제하면, 해당 노드는 리스트에서 제거되고 메모리 해제는 가비지 컬렉션에 맡길 수 있어요."
   ]
  },
  {
   "cell_type": "code",
   "execution_count": null,
   "id": "4a5649a4-efe3-46e5-bbd5-9eb54dd07edb",
   "metadata": {},
   "outputs": [],
   "source": []
  },
  {
   "cell_type": "markdown",
   "id": "9aec513e-fb13-4577-9496-2edc31038a48",
   "metadata": {},
   "source": [
    "### 4. 연결 리스트의 활용과 장단점 ###\n",
    "장점\n",
    "\n",
    "동적 크기 조절: 필요에 따라 노드를 추가/삭제할 수 있음.\n",
    "\n",
    "삽입/삭제 효율적: 배열처럼 요소를 이동할 필요 없이 포인터 변경만으로 해결 가능.\n",
    "\n",
    "단점\n",
    "\n",
    "임의 접근 어려움: 특정 인덱스의 노드를 찾으려면 처음부터 순차적으로 탐색해야 함 (O(n) 시간 복잡도).\n",
    "\n",
    "추가 메모리 사용: 각 노드가 데이터 외에도 포인터를 저장해야 하므로, 메모리 사용량이 배열보다 많음.\n",
    "\n"
   ]
  },
  {
   "cell_type": "code",
   "execution_count": null,
   "id": "96259eae-89ac-4f31-800e-176ee2755416",
   "metadata": {},
   "outputs": [],
   "source": []
  },
  {
   "cell_type": "markdown",
   "id": "fc0a50b5-514c-4982-bbd1-40cb9d216d84",
   "metadata": {},
   "source": [
    "### 문제 ###"
   ]
  },
  {
   "cell_type": "code",
   "execution_count": 77,
   "id": "ddf8e731-fb97-46e7-aa2f-50384721254b",
   "metadata": {},
   "outputs": [],
   "source": [
    "#문제 1: 단일 연결 리스트 뒤집기 (Reverse a Singly Linked List)\n",
    "class Node:\n",
    "    def __init__(self, data):\n",
    "        self.data=data\n",
    "        self.next=None\n",
    "\n",
    "class RSLL:\n",
    "    def __init__(self):\n",
    "        self.head=None\n",
    "\n",
    "    def append(self, data):\n",
    "        newnode=Node(data)\n",
    "        if not self.head:\n",
    "            self.head=newnode\n",
    "            return\n",
    "        \n",
    "        current=self.head\n",
    "        while current.next:\n",
    "            current=current.next\n",
    "        current.next=newnode\n",
    "\n",
    "    def reverse_linked_list(self):\n",
    "        prev=None\n",
    "        current=self.head\n",
    "        while current is not None:\n",
    "            next=current.next\n",
    "            current.next=prev\n",
    "            prev=current\n",
    "            current=next\n",
    "        self.head=prev\n",
    "\n",
    "    def display(self):\n",
    "        current=self.head\n",
    "        while current:\n",
    "            print(current.data,end=\"<->\")\n",
    "            current=current.next\n",
    "        print(\"NONE\")\n",
    "            "
   ]
  },
  {
   "cell_type": "code",
   "execution_count": 81,
   "id": "adcaf5cd-f232-42d0-b437-5bebdcc6473d",
   "metadata": {},
   "outputs": [
    {
     "name": "stdout",
     "output_type": "stream",
     "text": [
      "10<->20<->30<->NONE\n",
      "30<->20<->10<->NONE\n"
     ]
    }
   ],
   "source": [
    "sll = RSLL()\n",
    "sll.append(10)\n",
    "sll.append(20)\n",
    "sll.append(30)\n",
    "sll.display()\n",
    "\n",
    "sll.reverse_linked_list()\n",
    "sll.display()"
   ]
  },
  {
   "cell_type": "code",
   "execution_count": 140,
   "id": "2d1fb82d-e552-4002-a135-6ea4d689c2cd",
   "metadata": {},
   "outputs": [],
   "source": [
    "#문제 2: 특정 값의 노드 삭제 (Delete a Node by Value)\n",
    "class node:\n",
    "    def __init__(self, data):\n",
    "        self.data=data\n",
    "        self.next=None\n",
    "\n",
    "class DSLL:\n",
    "    def __init__(self):\n",
    "        self.head=None\n",
    "\n",
    "    def append(self, data):\n",
    "        newnode=node(data)\n",
    "        if not self.head:\n",
    "            self.head=newnode\n",
    "            return \n",
    "        current=self.head\n",
    "        while current.next:\n",
    "            current=current.next\n",
    "        current.next=newnode\n",
    "\n",
    "    def delete(self, data):\n",
    "        if not self.head:\n",
    "            return\n",
    "        if self.head.data==data:\n",
    "            self.head=self.head.next\n",
    "            return\n",
    "        current=self.head\n",
    "        while current.next:\n",
    "            if current.data==data:\n",
    "                current.next=current.next.next\n",
    "                return\n",
    "            current=current.next\n",
    "\n",
    "    \n",
    "    def display(self):\n",
    "        current=self.head\n",
    "        while current:\n",
    "            print(current.data,end=\"<->\")\n",
    "            current=current.next\n",
    "        print(\"none\")"
   ]
  },
  {
   "cell_type": "code",
   "execution_count": 142,
   "id": "b9b66a59-636a-4620-aa0b-22424e8dd026",
   "metadata": {},
   "outputs": [
    {
     "name": "stdout",
     "output_type": "stream",
     "text": [
      "10<->20<->30<->none\n",
      "10<->20<->none\n"
     ]
    }
   ],
   "source": [
    "sll = DSLL()\n",
    "sll.append(10)\n",
    "sll.append(20)\n",
    "sll.append(30)\n",
    "sll.display()\n",
    "\n",
    "sll.delete(20)\n",
    "sll.display()\n"
   ]
  },
  {
   "cell_type": "code",
   "execution_count": 184,
   "id": "14782975-14ee-4360-8c69-bd0e11f00c1b",
   "metadata": {},
   "outputs": [],
   "source": [
    "#문제 3: 연결 리스트에 사이클이 있는지 검사 (Detect Cycle in a Linked List)\n",
    "#주어진 단일 연결 리스트에 사이클(반복 구조)이 있는지 판단하는 함수를 구현하세요.\n",
    "class node:\n",
    "    def __init__(self,data):\n",
    "        self.data=data\n",
    "        self.next=None\n",
    "\n",
    "class CSLL:\n",
    "    def __init__(self):\n",
    "        self.head=None\n",
    "\n",
    "    def append(self, data):\n",
    "        newnode=node(data)\n",
    "        if not self.head:\n",
    "            self.head=newnode\n",
    "            return\n",
    "        current=self.head\n",
    "        while current.next:\n",
    "            current=current.next\n",
    "        current.next=newnode\n",
    "\n",
    "    def has_cycle(self):\n",
    "        slow=self.head\n",
    "        fast=self.head \n",
    "        while fast is not None and fast.next is not None:\n",
    "            slow=slow.next\n",
    "            fast=fast.next.next\n",
    "            if slow==fast:\n",
    "                return True\n",
    "        return False\n",
    "\n",
    "    def display(self):\n",
    "        current=self.head\n",
    "        while current:\n",
    "            print(current.data,end=\"<->\")\n",
    "            current=current.next\n",
    "        print(\"none\")"
   ]
  },
  {
   "cell_type": "code",
   "execution_count": 198,
   "id": "eaaf925f-7bed-4e28-ad6b-6851756c5062",
   "metadata": {},
   "outputs": [
    {
     "name": "stdout",
     "output_type": "stream",
     "text": [
      "예시 1: 사이클이 없는 연결 리스트\n",
      "1<->2<->3<->4<->none\n",
      "사이클 존재 여부: False\n",
      "\n",
      "====================\n",
      "\n",
      "예시 2: 사이클이 있는 연결 리스트\n",
      "사이클 존재 여부: True\n"
     ]
    }
   ],
   "source": [
    "# ===== 예시 1: 사이클이 없는 경우 =====\n",
    "print(\"예시 1: 사이클이 없는 연결 리스트\")\n",
    "csll1 = CSLL()\n",
    "csll1.append(1)\n",
    "csll1.append(2)\n",
    "csll1.append(3)\n",
    "csll1.append(4)\n",
    "csll1.display()  # 출력: 1<->2<->3<->4<->none\n",
    "print(\"사이클 존재 여부:\", csll1.has_cycle())  # 예상 출력: False\n",
    "\n",
    "print(\"\\n====================\\n\")\n",
    "\n",
    "# ===== 예시 2: 사이클이 있는 경우 =====\n",
    "print(\"예시 2: 사이클이 있는 연결 리스트\")\n",
    "csll2 = CSLL()\n",
    "csll2.append(1)\n",
    "csll2.append(2)\n",
    "csll2.append(3)\n",
    "csll2.append(4)\n",
    "# 사이클 생성: 마지막 노드(4)의 next가 두 번째 노드(2)를 가리키도록 연결\n",
    "temp = csll2.head\n",
    "while temp.next:\n",
    "    temp = temp.next\n",
    "node2 = csll2.head.next  # 데이터 2를 가진 노드\n",
    "temp.next = node2        # 사이클 생성\n",
    "\n",
    "# display()는 사이클이 있으면 무한 루프에 빠질 수 있으므로 사용하지 마세요.\n",
    "print(\"사이클 존재 여부:\", csll2.has_cycle())  # 예상 출력: True"
   ]
  },
  {
   "cell_type": "code",
   "execution_count": null,
   "id": "e2da2bb3-6f96-48b3-834e-b0d2fb962af0",
   "metadata": {},
   "outputs": [],
   "source": []
  },
  {
   "cell_type": "code",
   "execution_count": 230,
   "id": "5989aa74-e6fc-45ae-93ab-ed7bf4f40b6a",
   "metadata": {},
   "outputs": [],
   "source": [
    "#문제 4: 연결 리스트의 중간 노드 찾기 (Find the Middle Node)\n",
    "\n",
    "#목표:주어진 단일 연결 리스트의 중간 노드를 반환하는 함수를 구현하세요.\n",
    "\n",
    "class node:\n",
    "    def __init__(self,data):\n",
    "        self.data=data\n",
    "        self.next=None\n",
    "\n",
    "class SSLL:\n",
    "    def __init__(self):\n",
    "        self.head=None\n",
    "\n",
    "    def append(self, data):\n",
    "        newnode = node(data)\n",
    "        if not self.head:\n",
    "            self.head = newnode\n",
    "            return \n",
    "        current = self.head\n",
    "        while current.next:\n",
    "            current = current.next\n",
    "        current.next = newnode\n",
    "\n",
    "    def find_middle(self):\n",
    "        slow=self.head\n",
    "        fast=self.head\n",
    "        while fast is not None and fast.next is not None:\n",
    "            slow=slow.next\n",
    "            fast=fast.next.next\n",
    "        return slow\n",
    "    \n",
    "    def display(self):\n",
    "        current=self.head\n",
    "        while current:\n",
    "            print(current.data, end=\"<->\")\n",
    "            current=current.next\n",
    "        print(\"none\")"
   ]
  },
  {
   "cell_type": "code",
   "execution_count": 242,
   "id": "892d5928-33d8-4186-99cd-3bdc6c87e124",
   "metadata": {},
   "outputs": [
    {
     "name": "stdout",
     "output_type": "stream",
     "text": [
      "중간 노드 데이터: 30\n"
     ]
    }
   ],
   "source": [
    "sll = SSLL()\n",
    "sll.append(10)\n",
    "sll.append(20)\n",
    "sll.append(30)\n",
    "sll.append(40)\n",
    "middle_node = sll.find_middle()\n",
    "print(\"중간 노드 데이터:\", middle_node.data)\n"
   ]
  },
  {
   "cell_type": "code",
   "execution_count": null,
   "id": "975fff9e-2264-45ae-a519-eb06d10164ac",
   "metadata": {},
   "outputs": [],
   "source": []
  }
 ],
 "metadata": {
  "kernelspec": {
   "display_name": "Python 3 (ipykernel)",
   "language": "python",
   "name": "python3"
  },
  "language_info": {
   "codemirror_mode": {
    "name": "ipython",
    "version": 3
   },
   "file_extension": ".py",
   "mimetype": "text/x-python",
   "name": "python",
   "nbconvert_exporter": "python",
   "pygments_lexer": "ipython3",
   "version": "3.12.3"
  }
 },
 "nbformat": 4,
 "nbformat_minor": 5
}
