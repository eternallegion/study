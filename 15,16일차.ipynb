{
 "cells": [
  {
   "cell_type": "markdown",
   "id": "e72fdfeb-52c9-4860-a4a6-f29015b2a1ea",
   "metadata": {},
   "source": [
    "### 15일차 ###"
   ]
  },
  {
   "cell_type": "markdown",
   "id": "bf46d414-3148-4786-8ec2-51f9d68d10c0",
   "metadata": {},
   "source": [
    "학습 목표: 상속과 다형성\n",
    "\n",
    "상속(Inheritance):\n",
    "    기존 클래스를 기반으로 새로운 클래스를 만드는 방법.\n",
    "    코드 재사용성과 확장성을 높이는 기법.\n",
    "\n",
    "다형성(Polymorphism):\n",
    "    상속받은 클래스에서 메서드를 재정의(오버라이딩)하여 다양한 동작을 구현.\n",
    "\n",
    "클래스 간 관계 설계:\n",
    "    상속을 활용해 관련된 클래스 간의 관계를 효율적으로 설계.\n"
   ]
  },
  {
   "cell_type": "markdown",
   "id": "74bb4477-9341-46ce-8002-e973811ed0bc",
   "metadata": {},
   "source": [
    "1. 상속(Inheritance)\n",
    "\n",
    "기본 개념:\n",
    "    \n",
    "    기존 클래스(부모 클래스 또는 기본 클래스)의 속성과 메서드를 물려받아 새로운 클래스(자식 클래스)를 생성.\n",
    "    \n",
    "    부모 클래스의 기능을 그대로 사용하거나, 필요한 부분만 변경 가능."
   ]
  },
  {
   "cell_type": "code",
   "execution_count": 441,
   "id": "0edf1dc0-32ff-4da1-864e-05213dae5010",
   "metadata": {},
   "outputs": [
    {
     "name": "stdout",
     "output_type": "stream",
     "text": [
      "asd makes a sound.\n",
      "Buddy says Woof!\n",
      "Kitty says Meow!\n"
     ]
    }
   ],
   "source": [
    "class animal:\n",
    "    def __init__(self,name):\n",
    "        self.name=name\n",
    "\n",
    "    def speak(self):\n",
    "        print(f\"{self.name} makes a sound.\")\n",
    "\n",
    "class dog(animal):\n",
    "    def speak(self):\n",
    "        print(f\"{self.name} says Woof!\")\n",
    "\n",
    "class cat(animal):\n",
    "    def speak(self):\n",
    "        print(f\"{self.name} says Meow!\")\n",
    "\n",
    "\n",
    "animal=animal(\"asd\")\n",
    "dog=dog(\"Buddy\")\n",
    "cat=cat(\"Kitty\")\n",
    "\n",
    "animal=animal.speak()\n",
    "dog.speak()\n",
    "cat.speak()"
   ]
  },
  {
   "cell_type": "code",
   "execution_count": null,
   "id": "2454daa0-59ec-4b9f-9be8-291e9cbee514",
   "metadata": {},
   "outputs": [],
   "source": []
  },
  {
   "cell_type": "markdown",
   "id": "00217310-0cfc-4772-a18b-f3e778e34a86",
   "metadata": {},
   "source": [
    "2. 다형성(Polymorphism)\n",
    "\n",
    "메서드 오버라이딩(Method Overriding):\n",
    "    \n",
    "    자식 클래스에서 부모 클래스의 메서드를 재정의하여 새로운 동작을 구현."
   ]
  },
  {
   "cell_type": "code",
   "execution_count": 445,
   "id": "8f135bf9-f5a4-4605-89db-1ef02bb5b953",
   "metadata": {},
   "outputs": [
    {
     "name": "stdout",
     "output_type": "stream",
     "text": [
      "12\n",
      "78.5\n"
     ]
    }
   ],
   "source": [
    "class shape:\n",
    "    def area(self):\n",
    "        return 0\n",
    "\n",
    "class rectangle(shape):\n",
    "    def __init__(self,width,height):\n",
    "        self.width=width\n",
    "        self.height=height\n",
    "\n",
    "    def area(self):\n",
    "        return self.width*self.height\n",
    "\n",
    "class circle(shape):\n",
    "    def __init__(self, radius):\n",
    "        self.radius=radius\n",
    "\n",
    "    def area(self):\n",
    "        return 3.14*self.radius**2\n",
    "\n",
    "shapes=[rectangle(3,4), circle(5)]\n",
    "\n",
    "for shape in shapes:\n",
    "    #print(shape)\n",
    "    print(shape.area())"
   ]
  },
  {
   "cell_type": "code",
   "execution_count": null,
   "id": "6d563afb-047b-4ddc-af3b-74b311c21545",
   "metadata": {},
   "outputs": [],
   "source": []
  },
  {
   "cell_type": "markdown",
   "id": "fd698c40-8730-4ad4-b68b-cf9c4635170e",
   "metadata": {},
   "source": [
    "3. 클래스 간 관계 설계\n",
    "\n",
    "    \"is-a\" 관계:\n",
    "\n",
    "        상속은 \"is-a\" 관계를 표현.\n",
    "        예: Dog is-a Animal.\n",
    "\n",
    "    설계 시 주의점:\n",
    "\n",
    "        상속은 클래스 간의 강한 결합을 만듭니다. 반드시 \"is-a\" 관계일 때만 사용하세요.\n",
    "        상속이 불필요하거나 적합하지 않다면, 대신 **구성(composition)**을 고려하세요."
   ]
  },
  {
   "cell_type": "code",
   "execution_count": null,
   "id": "7f185c50-7a96-4015-be57-939a5a84667c",
   "metadata": {},
   "outputs": [],
   "source": []
  },
  {
   "cell_type": "markdown",
   "id": "d33fffa9-60a5-4ecd-9fdc-65705f51b470",
   "metadata": {},
   "source": [
    "실습 문제"
   ]
  },
  {
   "cell_type": "code",
   "execution_count": 451,
   "id": "2027e2fe-3c42-48c7-b991-29bef4fc7f5e",
   "metadata": {},
   "outputs": [
    {
     "name": "stdout",
     "output_type": "stream",
     "text": [
      "Buddy makes a sound.\n",
      "Buddy says Woof!\n",
      "Kitty says Meow!\n"
     ]
    }
   ],
   "source": [
    "#문제 1: 동물 클래스 상속\n",
    "class Animal:\n",
    "    def __init__(self, name):\n",
    "        self.name=name\n",
    "\n",
    "    def speak(self):\n",
    "        print(f\"{self.name} makes a sound.\")\n",
    "\n",
    "class Dog(Animal):\n",
    "    def speak(self):\n",
    "        print(f\"{self.name} says Woof!\")\n",
    "\n",
    "class Cat(Animal):\n",
    "    def speak(self):\n",
    "        print(f\"{self.name} says Meow!\")\n",
    "\n",
    "animal=Animal(\"Buddy\")\n",
    "dog=Dog(\"Buddy\")\n",
    "cat=Cat(\"Kitty\")\n",
    "\n",
    "animal.speak()\n",
    "dog.speak()\n",
    "cat.speak()"
   ]
  },
  {
   "cell_type": "code",
   "execution_count": 452,
   "id": "825e1204-1bf6-4486-93a7-5d9fda5f2962",
   "metadata": {},
   "outputs": [
    {
     "name": "stdout",
     "output_type": "stream",
     "text": [
      "42\n",
      "78.5\n"
     ]
    }
   ],
   "source": [
    "#문제 2: 도형 클래스 상속\n",
    "class shape:\n",
    "    def area(self):\n",
    "        return 0\n",
    "\n",
    "class Rectangle(shape):\n",
    "    def __init__(self, width, height):\n",
    "        self.width= width\n",
    "        self.height=height\n",
    "\n",
    "    def area(self):\n",
    "        return self.width * self.height\n",
    "\n",
    "class Circle(shape):\n",
    "    def __init__(self, radius):\n",
    "        self.radius=radius\n",
    "        \n",
    "    def area(self):\n",
    "        return 3.14*self.radius**2\n",
    "\n",
    "\n",
    "shapes=[Rectangle(3,14), Circle(5)]\n",
    "\n",
    "for shape in shapes:\n",
    "    #print(shape)\n",
    "    print(shape.area())"
   ]
  },
  {
   "cell_type": "code",
   "execution_count": 453,
   "id": "435b746e-8742-4f1e-89e4-964d19f3377f",
   "metadata": {},
   "outputs": [],
   "source": [
    "#문제 3: 직원 관리 시스템\n",
    "class Employee:\n",
    "    def __init__(self, name, salary):\n",
    "        self.name=name\n",
    "        self.salary=salary\n",
    "    \n",
    "    def display_info(self):\n",
    "        print(f\"Name: {self.name}, Salary: {self.salary}\")\n",
    "       \n",
    "class Manager(Employee):\n",
    "    def __init__(self,name, salary, bonus):\n",
    "        self.bonus=bonus\n",
    "        super().__init__(name, salary)\n",
    "        \n",
    "    def reward(self):\n",
    "        Erewards=self.bonus+self.salary\n",
    "        print(f\"{self.name} give {Erewards}\")\n",
    "\n",
    "class Developer(Employee):\n",
    "    def __init__(self,name, salary, language):\n",
    "        super().__init__(name, salary)\n",
    "        self.language=language\n",
    "\n",
    "    def attribute(self):\n",
    "        print(f\"Name: {self.name}, Salary: {self.salary}, Language: {self.language}\")\n",
    "        "
   ]
  },
  {
   "cell_type": "code",
   "execution_count": 457,
   "id": "22e154f4-a179-4610-9bf9-9329f27e9661",
   "metadata": {},
   "outputs": [
    {
     "name": "stdout",
     "output_type": "stream",
     "text": [
      "Name: asd, Salary: 13\n",
      "asd give 25\n",
      "Name: asd, Salary: 13, Language: python3\n"
     ]
    }
   ],
   "source": [
    "empl=Employee(\"asd\",13)\n",
    "empl.display_info()\n",
    "mag=Manager(\"asd\",13,12)\n",
    "mag.reward()\n",
    "dev=Developer(\"asd\",13,\"python3\")\n",
    "dev.attribute()"
   ]
  },
  {
   "cell_type": "code",
   "execution_count": 458,
   "id": "c7794362-4596-4bf3-ba48-fedefc0724ab",
   "metadata": {},
   "outputs": [
    {
     "name": "stdout",
     "output_type": "stream",
     "text": [
      "Name: Alice, Salary: 50000\n",
      "Name: Bob, Salary: 40000\n",
      "Name: Charlie, Salary: 30000\n"
     ]
    }
   ],
   "source": [
    "employees = [\n",
    "    Manager(\"Alice\", 50000, 10000),\n",
    "    Developer(\"Bob\", 40000, \"Python\"),\n",
    "    Employee(\"Charlie\", 30000)\n",
    "]\n",
    "\n",
    "for emp in employees:\n",
    "    emp.display_info()\n"
   ]
  },
  {
   "cell_type": "code",
   "execution_count": null,
   "id": "7d0d097d-ab66-47d7-9dbf-587bb9e7e4cd",
   "metadata": {},
   "outputs": [],
   "source": []
  },
  {
   "cell_type": "markdown",
   "id": "f5e7086c-bb5e-4037-b20d-b14f7238f516",
   "metadata": {},
   "source": [
    "1. super()의 기본 동작\n",
    "\n",
    "    1.1 부모 클래스의 메서드 호출\n",
    "   \n",
    "        super()는 자식 클래스에서 부모 클래스의 메서드를 호출할 때 사용됩니다.\n"
   ]
  },
  {
   "cell_type": "code",
   "execution_count": 461,
   "id": "143aa852-84d4-4303-8607-a0f1ccf1ed57",
   "metadata": {},
   "outputs": [
    {
     "name": "stdout",
     "output_type": "stream",
     "text": [
      "Hello from Child!\n",
      "Hello from Parent!\n"
     ]
    }
   ],
   "source": [
    "class Parent:\n",
    "    def greed(self):\n",
    "        print(\"Hello from Parent!\")\n",
    "\n",
    "class Child(Parent):\n",
    "    def greeds(self):\n",
    "        print(\"Hello from Child!\")\n",
    "        super().greed()\n",
    "\n",
    "child = Child()\n",
    "child.greeds()"
   ]
  },
  {
   "cell_type": "markdown",
   "id": "83eb7eff-4d68-4e85-be35-f0c5fe7f6daf",
   "metadata": {},
   "source": [
    "1.2 부모 클래스의 생성자 호출\n",
    "\n",
    "부모 클래스의 __init__ 메서드 호출에도 super()를 사용할 수 있습니다."
   ]
  },
  {
   "cell_type": "code",
   "execution_count": 465,
   "id": "4c50530f-956c-4ad1-a5dc-acc1375f9c8e",
   "metadata": {},
   "outputs": [
    {
     "name": "stdout",
     "output_type": "stream",
     "text": [
      "Parent initialized with name: Alice\n",
      "Child initialized with age: 10\n"
     ]
    }
   ],
   "source": [
    "class Parent:\n",
    "    def __init__(self,name):\n",
    "        self.name=name\n",
    "        print(f\"Parent initialized with name: {self.name}\")\n",
    "\n",
    "class Childe(Parent):\n",
    "    def __init__(self, name, age):\n",
    "        super().__init__(name) \n",
    "        self.age=age\n",
    "        print(f\"Child initialized with age: {self.age}\")\n",
    "\n",
    "child = Childe(\"Alice\", 10)\n",
    "\n",
    "\n",
    "#Child.__init__ 메서드에서 super().__init__(name)을 호출하여 부모 클래스의 초기화 코드를 실행합니다.\n",
    "#부모 클래스에서 정의된 속성(self.name)을 초기화한 후, 자식 클래스의 속성(self.age)을 초기화합니다."
   ]
  },
  {
   "cell_type": "code",
   "execution_count": null,
   "id": "6bebde31-2690-4a16-a6b7-7c37f9bbbc4f",
   "metadata": {},
   "outputs": [],
   "source": []
  },
  {
   "cell_type": "markdown",
   "id": "45799c52-18c6-495f-b3d6-8ce11c42a18e",
   "metadata": {},
   "source": [
    "2. 다중 상속에서의 super()\n",
    "\n",
    "    super()는 다중 상속에서도 동작하며, **MRO(Method Resolution Order)**를 기반으로 부모 클래스를 탐색합니다.\n",
    "\n",
    "2.1 MRO란?\n",
    "\n",
    "    MRO는 메서드 호출 순서를 정의하며, 클래스 계층 구조에서 어떤 순서로 부모 클래스를 탐색할지 결정합니다."
   ]
  },
  {
   "cell_type": "raw",
   "id": "df7b1556-7d87-45a7-8c02-a7272b3dd346",
   "metadata": {},
   "source": [
    "2.1 MRO란?\n",
    "MRO는 메서드 호출 순서를 정의하며, 클래스 계층 구조에서 어떤 순서로 부모 클래스를 탐색할지 결정합니다.\n",
    "\n",
    "MRO 확인:\n",
    "\n",
    "class A:\n",
    "    pass\n",
    "\n",
    "class B(A):\n",
    "    pass\n",
    "\n",
    "class C(A):\n",
    "    pass\n",
    "\n",
    "class D(B, C):\n",
    "    pass\n",
    "\n",
    "print(D.mro())"
   ]
  },
  {
   "cell_type": "code",
   "execution_count": 470,
   "id": "0e0f387b-5ca6-46cd-a994-9a73207b3e51",
   "metadata": {},
   "outputs": [
    {
     "name": "stdout",
     "output_type": "stream",
     "text": [
      "Action from D\n",
      "Action from B\n",
      "Action from C\n",
      "Action from A\n"
     ]
    }
   ],
   "source": [
    "class A:\n",
    "    def act(self):\n",
    "        print(\"Action from A\")\n",
    "\n",
    "class B(A):\n",
    "    def act(self):\n",
    "        print(\"Action from B\")\n",
    "        super().act()\n",
    "\n",
    "class C(A):\n",
    "    def act(self):\n",
    "        print(\"Action from C\")\n",
    "        super().act()\n",
    "\n",
    "class D(B,C):\n",
    "    def act(self):\n",
    "        print(\"Action from D\")\n",
    "        super().act()\n",
    "\n",
    "\n",
    "d = D()\n",
    "d.act()   #D → B → C → A 순서로 action 메서드가 호출됩니다."
   ]
  },
  {
   "cell_type": "code",
   "execution_count": null,
   "id": "b3537865-338d-4591-afae-622de91ef0cf",
   "metadata": {},
   "outputs": [],
   "source": []
  },
  {
   "cell_type": "markdown",
   "id": "afdf5095-a822-49d2-9e1d-4f18fb0d2d21",
   "metadata": {},
   "source": [
    "3. super()와 직접 부모 클래스 호출의 차이"
   ]
  },
  {
   "cell_type": "code",
   "execution_count": 474,
   "id": "705aa54e-fde3-4cb2-92ff-62727efbc978",
   "metadata": {},
   "outputs": [
    {
     "name": "stdout",
     "output_type": "stream",
     "text": [
      "Hello from Child!\n",
      "Hello from Parent!\n"
     ]
    }
   ],
   "source": [
    "class Parent:\n",
    "    def greef(self):\n",
    "        print(\"Hello from Parent!\")\n",
    "\n",
    "class Child(Parent):\n",
    "    def wer(self):\n",
    "        print(\"Hello from Child!\")\n",
    "        Parent.greef(self) # 부모 클래스 직접 호출\n",
    "\n",
    "child = Child()\n",
    "child.wer()"
   ]
  },
  {
   "cell_type": "markdown",
   "id": "37fcb5bd-a13e-4a95-8d93-1f39fea12212",
   "metadata": {},
   "source": [
    "차이점:\n",
    "\n",
    "super():\n",
    "\n",
    "    MRO를 따르며 다중 상속에서도 안정적으로 동작.\n",
    "    부모 클래스와 자식 클래스의 관계를 유연하게 유지.\n",
    "    \n",
    "직접 호출:\n",
    "\n",
    "    특정 부모 클래스만 호출.\n",
    "    다중 상속 환경에서 중복 호출이나 의도치 않은 동작이 발생할 수 있음."
   ]
  },
  {
   "cell_type": "markdown",
   "id": "3fbec420-5338-4fcd-885e-aa3279d4c1d4",
   "metadata": {},
   "source": [
    "4. super()의 장점\n",
    "\n",
    "코드 재사용:\n",
    "\n",
    "    부모 클래스의 메서드를 호출하여 코드 중복을 줄입니다.\n",
    "\n",
    "유연성:\n",
    "\n",
    "    MRO를 따르기 때문에 다중 상속에서도 안정적으로 동작합니다.\n",
    "\n",
    "가독성:\n",
    "\n",
    "    코드의 계층 구조를 명확히 하고, 부모 클래스의 메서드 호출을 직관적으로 표현합니다."
   ]
  },
  {
   "cell_type": "markdown",
   "id": "26662c3d-69b6-44aa-a740-3f3c3391be6a",
   "metadata": {},
   "source": [
    "실습 문제"
   ]
  },
  {
   "cell_type": "code",
   "execution_count": 479,
   "id": "e27ba40e-6012-4bf4-82ee-95b1e49c0e9c",
   "metadata": {},
   "outputs": [
    {
     "name": "stdout",
     "output_type": "stream",
     "text": [
      "this car is asdas, gdf, hgj\n"
     ]
    }
   ],
   "source": [
    "#문제 1: 부모 클래스 초기화\n",
    "class Vehicle:\n",
    "    def __init__(self, brand, model):\n",
    "        self.brand=brand\n",
    "        self.model=model\n",
    "\n",
    "class Car(Vehicle):\n",
    "    def __init__(self, brand, model,fuel):\n",
    "        super().__init__(brand, model)\n",
    "        self.fuel=fuel\n",
    "        #Vehicle.__init__(self, brand, model)\n",
    "\n",
    "    def CarInfo(self):\n",
    "        print(f\"this car is {self.brand}, {self.model}, {self.fuel}\")\n",
    "\n",
    "vicle=Car(\"asdas\",\"gdf\", \"hgj\")\n",
    "vicle.CarInfo()"
   ]
  },
  {
   "cell_type": "code",
   "execution_count": 481,
   "id": "a4e5497b-b49b-40af-8fb0-830cd9a31761",
   "metadata": {},
   "outputs": [
    {
     "name": "stdout",
     "output_type": "stream",
     "text": [
      "this car is asdas, gdf, hgj\n"
     ]
    }
   ],
   "source": [
    "vicle=Car(\"asdas\",\"gdf\", \"hgj\")\n",
    "vicle.CarInfo()"
   ]
  },
  {
   "cell_type": "code",
   "execution_count": 483,
   "id": "22b234b0-f394-4971-8988-65e2f9c0b9d3",
   "metadata": {},
   "outputs": [],
   "source": [
    "#문제 2: 다중 상속\n",
    "class Person:\n",
    "    def __init__(self, name):\n",
    "        self.name=name\n",
    "    def gre(self):\n",
    "        print(f\"{self.name}\")\n",
    "\n",
    "class Employee(Person):\n",
    "    def __init__(self,name,salary):\n",
    "        super().__init__(name)\n",
    "        self.salary=salary\n",
    "\n",
    "    def plus(self):\n",
    "        print(f\"{self.name},,,{self.salary}\")\n",
    "        \n",
    "\n",
    "class Manager(Employee):\n",
    "    def __init__(self,name,salary,bonus):\n",
    "        super().__init__(name,salary)\n",
    "        self.bonus=bonus\n",
    "        \n",
    "\n",
    "    def add(self):\n",
    "        print(f\"{self.name},   {self.salary},     {self.bonus}\")\n",
    "\n"
   ]
  },
  {
   "cell_type": "code",
   "execution_count": 485,
   "id": "0ffa8483-c143-4b49-ab34-dd4d082feb67",
   "metadata": {},
   "outputs": [
    {
     "name": "stdout",
     "output_type": "stream",
     "text": [
      "das\n",
      "asd,,,2\n",
      "wetrf,   3,     54\n"
     ]
    }
   ],
   "source": [
    "asd=Person(\"das\")\n",
    "asd.gre()\n",
    "\n",
    "man=Employee(\"asd\",2)\n",
    "man.plus()\n",
    "\n",
    "da=Manager(\"wetrf\",3,54)\n",
    "da.add()"
   ]
  },
  {
   "cell_type": "code",
   "execution_count": null,
   "id": "66888227-750f-4187-8da5-918680d61cc0",
   "metadata": {},
   "outputs": [],
   "source": []
  },
  {
   "cell_type": "code",
   "execution_count": null,
   "id": "7ee9fb7b-ee1d-4907-8266-8015306d10ed",
   "metadata": {},
   "outputs": [],
   "source": []
  },
  {
   "cell_type": "code",
   "execution_count": 489,
   "id": "38f1406a-3cf5-4022-b861-66e21d2c61d4",
   "metadata": {},
   "outputs": [],
   "source": [
    "#__init__를 안쓸경우, 작동 류트를 순서대로 써줘야만 작동을 함\n",
    "\n",
    "class asd:\n",
    "    def qwe(self,name):\n",
    "        self.name=name\n",
    "\n",
    "class rewr(asd):\n",
    "    def uio(self,name,igre):  \n",
    "        super().qwe(name)\n",
    "        self.igre=igre\n",
    "\n",
    "    def poi(self):\n",
    "        print(f\"{self.name},,{self.igre}\")"
   ]
  },
  {
   "cell_type": "code",
   "execution_count": 491,
   "id": "25e4253a-ef7c-40ba-9701-f9bcc869707e",
   "metadata": {},
   "outputs": [
    {
     "name": "stdout",
     "output_type": "stream",
     "text": [
      "Alice,,Gamer\n"
     ]
    }
   ],
   "source": [
    "obj = rewr()\n",
    "obj.uio(\"Alice\", \"Gamer\")\n",
    "obj.poi()"
   ]
  },
  {
   "cell_type": "markdown",
   "id": "1ef21a66-ec49-4132-bdd1-deef165630ec",
   "metadata": {},
   "source": [
    "__init__은 객체 초기화를 자동으로 처리하므로, 실수를 줄이고 코드 가독성을 높입니다.\n",
    "\n",
    "__init__ 없이 객체를 설계하면, 속성 설정을 메서드로 수동 호출해야 하며, 초기화가 누락될 가능성이 생깁니다.\n",
    "\n",
    "일반적으로 클래스 설계 시 __init__을 사용하는 것이 권장됩니다."
   ]
  },
  {
   "cell_type": "code",
   "execution_count": null,
   "id": "4ca989f0-0b83-4eab-9119-682f3b1f6aff",
   "metadata": {},
   "outputs": [],
   "source": []
  },
  {
   "cell_type": "code",
   "execution_count": null,
   "id": "6cb472f2-c8d8-4ec0-9d9d-998fc2cd04d4",
   "metadata": {},
   "outputs": [],
   "source": []
  },
  {
   "cell_type": "markdown",
   "id": "84e70d4a-939d-4b99-ab04-257270fae891",
   "metadata": {},
   "source": [
    "### 16일차 ###"
   ]
  },
  {
   "cell_type": "markdown",
   "id": "dd54759c-4e89-4446-84d0-8e8dfbeaccc4",
   "metadata": {},
   "source": [
    "클래스 메서드와 정적 메서드:\n",
    "\n",
    "    @classmethod와 @staticmethod의 차이점과 활용 방법.\n",
    "\n",
    "클래스 변수와 인스턴스 변수:\n",
    "    \n",
    "    클래스 변수와 인스턴스 변수를 구분하고 적절히 사용하는 방법.\n",
    "\n",
    "상속과 다형성 복습:\n",
    "    \n",
    "    상속 구조에서 클래스 메서드와 정적 메서드를 활용하는 방법."
   ]
  },
  {
   "cell_type": "markdown",
   "id": "6575c845-80cc-48ee-9411-d877e4b94b65",
   "metadata": {},
   "source": [
    "### 1. 클래스 메서드와 정적 메서드란? ###\n"
   ]
  },
  {
   "cell_type": "raw",
   "id": "d3f4af6b-ae35-4bb4-af7f-dacc10bc169a",
   "metadata": {},
   "source": [
    "1.1 클래스 메서드 (@classmethod)\n",
    "\n",
    "    클래스 자체를 첫 번째 인자로 받는 메서드입니다.\n",
    "    cls라는 매개변수를 사용하여 클래스 변수에 접근하거나, 클래스를 기반으로 새로운 객체를 생성하는 데 활용됩니다.\n",
    "\n",
    "@classmethod 데코레이터를 사용합니다.\n"
   ]
  },
  {
   "cell_type": "code",
   "execution_count": 15,
   "id": "d20230aa-ac2b-4a93-b605-cff2753da7a8",
   "metadata": {},
   "outputs": [],
   "source": [
    "class myclass:\n",
    "    class_value=0\n",
    "    def __init__(self, value):\n",
    "        self.value=value\n",
    "\n",
    "    @classmethod\n",
    "    def update_value(cls,new_value):\n",
    "        cls.class_value=new_value\n",
    "        print(f\"Class variable updated to {cls.class_value}\")"
   ]
  },
  {
   "cell_type": "code",
   "execution_count": 20,
   "id": "ae961e00-7b34-4173-8b6b-922a3d7eb78d",
   "metadata": {},
   "outputs": [
    {
     "name": "stdout",
     "output_type": "stream",
     "text": [
      "Class variable updated to 42\n"
     ]
    }
   ],
   "source": [
    "myclass.update_value(42)\n",
    "#**cls**를 통해 클래스 변수(class_variable)에 접근할 수 있습니다.\n"
   ]
  },
  {
   "cell_type": "code",
   "execution_count": null,
   "id": "9906abe9-32fd-4843-adcc-c6720ed91b37",
   "metadata": {},
   "outputs": [],
   "source": []
  },
  {
   "cell_type": "raw",
   "id": "594b3564-a791-4527-b061-48048094767c",
   "metadata": {},
   "source": [
    "1.2 정적 메서드 (@staticmethod)\n",
    "    클래스나 인스턴스와 관계없는 독립적인 동작을 정의하는 메서드입니다.\n",
    "    클래스 변수나 인스턴스 변수에 접근할 필요가 없는 메서드에서 사용됩니다.\n",
    "\n",
    "@staticmethod 데코레이터를 사용합니다.\n"
   ]
  },
  {
   "cell_type": "code",
   "execution_count": 26,
   "id": "40746883-52a7-4a91-92e6-ac486ecdce90",
   "metadata": {},
   "outputs": [],
   "source": [
    "class mathutils:\n",
    "\n",
    "    @staticmethod\n",
    "    def add(a,b):\n",
    "        return a+b\n",
    "\n",
    "    @staticmethod\n",
    "    def multi(a,b):\n",
    "        return a*b"
   ]
  },
  {
   "cell_type": "code",
   "execution_count": 28,
   "id": "1907cade-b16a-44f8-8d11-4428a07f5bd8",
   "metadata": {},
   "outputs": [
    {
     "name": "stdout",
     "output_type": "stream",
     "text": [
      "8\n",
      "24\n"
     ]
    }
   ],
   "source": [
    "print(mathutils.add(3, 5))       # 8\n",
    "print(mathutils.multi(4, 6))  # 24"
   ]
  },
  {
   "cell_type": "code",
   "execution_count": null,
   "id": "058b51b1-c8bd-41ed-9371-a9f7c0178054",
   "metadata": {},
   "outputs": [],
   "source": []
  },
  {
   "cell_type": "markdown",
   "id": "0687cf0c-bda2-4501-81f4-f2eb5cc0b357",
   "metadata": {},
   "source": [
    "### 2. 클래스 메서드와 정적 메서드 비교  ###"
   ]
  },
  {
   "cell_type": "raw",
   "id": "46058b6a-3f1b-40c3-95e0-b4be7178960b",
   "metadata": {},
   "source": [
    "2. 클래스 메서드와 정적 메서드 비교\n",
    "특징        \t                     클래스 메서드\t                           정적 메서드\n",
    "데코레이터\t                         @classmethod\t                           @staticmethod\n",
    "첫 번째 매개변수\t                cls (클래스 자체)\t                           없음\n",
    "클래스 변수 접근 가능           \t가능 (cls.class_variable) \t                   불가능\n",
    "인스턴스 변수 접근 가능\t                불가능               \t                    불가능\n",
    "주로 사용되는 경우\t    클래스 변수를 조작하거나 클래스 기반의 동작 구현\t     독립적인 유틸리티 함수 작성\n"
   ]
  },
  {
   "cell_type": "code",
   "execution_count": null,
   "id": "16193deb-c9b0-415e-a841-052f8073507a",
   "metadata": {},
   "outputs": [],
   "source": []
  },
  {
   "cell_type": "markdown",
   "id": "99fe23b3-8687-402c-abef-b2c1675cc024",
   "metadata": {},
   "source": [
    "### 3. 실습 문제 ###"
   ]
  },
  {
   "cell_type": "code",
   "execution_count": 59,
   "id": "b476a414-33f4-45ec-a52b-9b37d02f7b96",
   "metadata": {},
   "outputs": [
    {
     "name": "stdout",
     "output_type": "stream",
     "text": [
      "company_name : TechCorp\n",
      "TechCorp\n"
     ]
    }
   ],
   "source": [
    "#문제 1: 클래스 메서드로 클래스 변수 업데이트\n",
    "class Emploee:\n",
    "    company_name=\"DefaultCorp\"\n",
    "    def __init__(self,name):\n",
    "        self.name=name\n",
    "\n",
    "    @classmethod\n",
    "    def update_company(cls,new_name):\n",
    "        cls.company_name=new_name\n",
    "        print(f\"company_name : {cls.company_name}\")\n",
    "\n",
    "\n",
    "Emploee.update_company(\"TechCorp\")\n",
    "print(Emploee.company_name)"
   ]
  },
  {
   "cell_type": "code",
   "execution_count": 63,
   "id": "ae7ec115-47de-441d-b025-b30b07142ac3",
   "metadata": {},
   "outputs": [
    {
     "name": "stdout",
     "output_type": "stream",
     "text": [
      "15\n"
     ]
    }
   ],
   "source": [
    "#문제 2: 정적 메서드로 유틸리티 함수 작성\n",
    "\n",
    "class calcuate:\n",
    "    @staticmethod\n",
    "    def multi(a,b):\n",
    "        return a*b\n",
    "\n",
    "print(calcuate.multi(3, 5))"
   ]
  },
  {
   "cell_type": "code",
   "execution_count": 65,
   "id": "e882f9a6-8744-426d-b247-7bfb8e8b9486",
   "metadata": {},
   "outputs": [
    {
     "name": "stdout",
     "output_type": "stream",
     "text": [
      "Result: 16, Counter: 1\n"
     ]
    }
   ],
   "source": [
    "#문제 3: 클래스 메서드와 정적 메서드 조합\n",
    "\n",
    "class mathutils:\n",
    "    counter=0\n",
    "    @classmethod\n",
    "    def increment(cls):\n",
    "        cls.counter+=1\n",
    "\n",
    "    @staticmethod\n",
    "    def square(a):\n",
    "        return a*a\n",
    "\n",
    "mathutils.increment()\n",
    "result = mathutils.square(4)\n",
    "print(f\"Result: {result}, Counter: {mathutils.counter}\")"
   ]
  },
  {
   "cell_type": "markdown",
   "id": "8b9b4c49-d583-43aa-b8e0-dbe817459f25",
   "metadata": {},
   "source": [
    "정적 메서드를 선택할 때:\n",
    "\n",
    "    클래스나 인스턴스와 독립적인 동작이 필요한 경우.\n",
    "\n",
    "    데이터를 처리하거나 계산하는 유틸리티 메서드가 필요할 때.\n",
    "\n",
    "클래스 메서드를 선택할 때:\n",
    "    \n",
    "    클래스 변수를 조작하거나 조회해야 할 때.\n",
    "    \n",
    "    특정 로직에 따라 새로운 객체를 생성해야 할 때."
   ]
  },
  {
   "cell_type": "code",
   "execution_count": null,
   "id": "6b47fa89-fd71-4b1a-a8f1-cac6ac422322",
   "metadata": {},
   "outputs": [],
   "source": []
  },
  {
   "cell_type": "code",
   "execution_count": 137,
   "id": "6a54fde7-2222-45ae-9543-9c5aa99e2ec5",
   "metadata": {},
   "outputs": [],
   "source": [
    "#문제 1: 온도 변환기\n",
    "#목표: 섭씨(Celsius)와 화씨(Fahrenheit)를 변환하는 프로그램을 작성하세요.\n",
    "class temperEX:\n",
    "    def __init__(self, celsius):\n",
    "        self.celsius = celsius\n",
    "\n",
    "    @classmethod\n",
    "    def from_fahrenheit(cls, fahrenheit):\n",
    "        celsius = (fahrenheit - 32) * (5 / 9)\n",
    "        return cls(celsius) \n",
    "\n",
    "    @staticmethod\n",
    "    def to_fahrenheit(celsius):\n",
    "        return (celsius*9/5)+32\n",
    "\n",
    "    @staticmethod\n",
    "    def to_celsius(fahrenheit):\n",
    "        return (fahrenheit-32)*(5/9)\n",
    "    \n",
    "    def display(self):\n",
    "        print(f\"Celsius: {self.celsius:.2f}, Fahrenheit: {self.to_fahrenheit(self.celsius):.2f}\")"
   ]
  },
  {
   "cell_type": "code",
   "execution_count": 139,
   "id": "60c8af86-09de-43d0-8889-bbbfb53829a7",
   "metadata": {},
   "outputs": [
    {
     "name": "stdout",
     "output_type": "stream",
     "text": [
      "Celsius: 37.78, Fahrenheit: 100.00\n",
      "100.00399999999999\n",
      "37.77777777777778\n"
     ]
    }
   ],
   "source": [
    "# 객체 생성\n",
    "temp = temperEX.from_fahrenheit(100)  # 화씨 100도를 섭씨로 변환하여 객체 생성\n",
    "temp.display()  # 객체 메서드 호출\n",
    "\n",
    "# 정적 메서드 호출\n",
    "print(temperEX.to_fahrenheit(37.78))  # 섭씨 37.78 -> 화씨\n",
    "print(temperEX.to_celsius(100))       # 화씨 100 -> 섭씨\n",
    "\n"
   ]
  },
  {
   "cell_type": "code",
   "execution_count": null,
   "id": "29777084-c8b7-4ae4-acc8-aae719506f84",
   "metadata": {},
   "outputs": [],
   "source": []
  },
  {
   "cell_type": "code",
   "execution_count": 131,
   "id": "742a62c4-cffe-45b1-ad54-3baadd941f49",
   "metadata": {},
   "outputs": [
    {
     "name": "stdout",
     "output_type": "stream",
     "text": [
      "Celsius: 37.78, Fahrenheit: 100.00\n",
      "100.00399999999999\n",
      "37.77777777777778\n"
     ]
    }
   ],
   "source": [
    "class Temperature:\n",
    "    def __init__(self, celsius):\n",
    "        self.celsius = celsius\n",
    "\n",
    "    @classmethod\n",
    "    def from_fahrenheit(cls, fahrenheit):\n",
    "        celsius = (fahrenheit - 32) * (5 / 9)\n",
    "        return cls(celsius)  # 객체 반환\n",
    "\n",
    "    @staticmethod\n",
    "    def to_fahrenheit(celsius):\n",
    "        return (celsius * 9 / 5) + 32\n",
    "\n",
    "    @staticmethod\n",
    "    def to_celsius(fahrenheit):\n",
    "        return (fahrenheit - 32) * (5 / 9)\n",
    "\n",
    "    def display(self):\n",
    "        print(f\"Celsius: {self.celsius:.2f}, Fahrenheit: {self.to_fahrenheit(self.celsius):.2f}\")\n",
    "\n",
    "# 객체 생성\n",
    "temp = Temperature.from_fahrenheit(100)  # 화씨 100도를 섭씨로 변환하여 객체 생성\n",
    "temp.display()  # 객체 메서드 호출\n",
    "\n",
    "# 정적 메서드 호출\n",
    "print(Temperature.to_fahrenheit(37.78))  # 섭씨 37.78 -> 화씨\n",
    "print(Temperature.to_celsius(100))       # 화씨 100 -> 섭씨\n",
    "\n"
   ]
  },
  {
   "cell_type": "code",
   "execution_count": null,
   "id": "6213cd9e-e040-4c92-8e12-c56f26e6f68a",
   "metadata": {},
   "outputs": [],
   "source": []
  },
  {
   "cell_type": "code",
   "execution_count": 73,
   "id": "3a99f7d1-5bad-4ef6-8337-6dd565a4bb44",
   "metadata": {},
   "outputs": [],
   "source": [
    "#문제 2: 점수 통계\n",
    "#목표: 학생들의 점수를 관리하고 통계를 계산하는 프로그램을 작성하세요.\n",
    "\n",
    "class staticstic:\n",
    "    score=[]\n",
    "    @classmethod\n",
    "    def from_scores(cls, scores):\n",
    "        total=0\n",
    "        for cls.scores in scores:\n",
    "            #cls.score\n",
    "             total+=cls.scores\n",
    "        return total/len(scores)\n",
    "\n",
    "    @staticmethod\n",
    "    def calculate_average(scores):\n",
    "        total=0\n",
    "        for score in scores:\n",
    "            total+=score\n",
    "        return total/len(scores)\n",
    "\n",
    "\n"
   ]
  },
  {
   "cell_type": "code",
   "execution_count": 125,
   "id": "a3dcfd8b-2120-4ed1-9784-4b4de5ad8c78",
   "metadata": {},
   "outputs": [
    {
     "name": "stdout",
     "output_type": "stream",
     "text": [
      "Scores: [85, 90, 78, 92]\n",
      "Average: 86.25\n",
      "New Average: 80.00\n"
     ]
    }
   ],
   "source": [
    "class Statistics:\n",
    "    def __init__(self, scores):\n",
    "        self.scores = scores  # 인스턴스 변수로 점수 저장\n",
    "\n",
    "    @classmethod\n",
    "    def from_scores(cls, scores):\n",
    "        # 대체 생성자: 점수 리스트를 받아 객체 생성\n",
    "        return cls(scores)\n",
    "\n",
    "    @staticmethod\n",
    "    def calculate_average(scores):\n",
    "        # 점수 리스트의 평균 계산\n",
    "        return sum(scores) / len(scores)\n",
    "\n",
    "    def display_scores(self):\n",
    "        # 객체에 저장된 점수와 평균 출력\n",
    "        print(f\"Scores: {self.scores}\")\n",
    "        print(f\"Average: {Statistics.calculate_average(self.scores):.2f}\")\n",
    "# 대체 생성자로 객체 생성\n",
    "stats = Statistics.from_scores([85, 90, 78, 92])\n",
    "\n",
    "# 점수와 평균 출력\n",
    "stats.display_scores()\n",
    "\n",
    "# 정적 메서드로 별도 점수 리스트의 평균 계산\n",
    "new_scores = [70, 80, 90]\n",
    "print(f\"New Average: {Statistics.calculate_average(new_scores):.2f}\")\n"
   ]
  },
  {
   "cell_type": "code",
   "execution_count": null,
   "id": "3d0608d1-962f-40dd-be49-8d10d1616e51",
   "metadata": {},
   "outputs": [],
   "source": []
  },
  {
   "cell_type": "code",
   "execution_count": null,
   "id": "bcfa4eff-e349-48c3-b431-703aa2e18317",
   "metadata": {},
   "outputs": [],
   "source": []
  },
  {
   "cell_type": "code",
   "execution_count": 147,
   "id": "b1dcbf15-30d3-4454-b55e-a6019ec7917f",
   "metadata": {},
   "outputs": [],
   "source": [
    "#문제 3: 제품 관리\n",
    "#목표: 제품의 재고를 관리하는 프로그램을 작성하세요.\n",
    "class stock_item:\n",
    "    total_stock=0\n",
    "    def __init__(self, name, price, stock):\n",
    "        self.name = name      # 제품 이름\n",
    "        self.price = price    # 제품 가격\n",
    "        self.stock = stock    # 제품 개별 재고\n",
    "        stock_item.total_stock += stock  # 클래스 변수 업데이트\n",
    "\n",
    "    @classmethod\n",
    "    def update_total_stock(cls, quantity):\n",
    "        cls.total_stock += quantity\n",
    "        print(f\"현황 : {cls.total_stock}\")\n",
    "\n",
    "    @staticmethod\n",
    "    def calculate_discount(price, percentage):\n",
    "        return price * (1 - percentage / 100)\n",
    "\n",
    "    def display(self):\n",
    "        print(f\"Name: {self.name}, Price: {self.price}, Stock: {self.stock}\")"
   ]
  },
  {
   "cell_type": "code",
   "execution_count": 149,
   "id": "e3abb40c-31da-49dd-a3a0-f3d7ae68e135",
   "metadata": {},
   "outputs": [
    {
     "name": "stdout",
     "output_type": "stream",
     "text": [
      "Name: Laptop, Price: 1000, Stock: 5\n",
      "Name: Phone, Price: 500, Stock: 10\n",
      "Initial total stock: 15\n",
      "현황 : 20\n",
      "Discounted price: 900.0\n"
     ]
    }
   ],
   "source": [
    "# 객체 생성\n",
    "item1 = stock_item(\"Laptop\", 1000, 5)\n",
    "item2 = stock_item(\"Phone\", 500, 10)\n",
    "\n",
    "# 개별 정보 출력\n",
    "item1.display()  # Name: Laptop, Price: 1000, Stock: 5\n",
    "item2.display()  # Name: Phone, Price: 500, Stock: 10\n",
    "\n",
    "# 클래스 메서드 호출 (전체 재고 확인 및 업데이트)\n",
    "print(f\"Initial total stock: {stock_item.total_stock}\")  # Initial total stock: 15\n",
    "stock_item.update_total_stock(5)  # Total stock updated: 20\n",
    "\n",
    "# 정적 메서드 호출 (할인 계산)\n",
    "discounted_price = stock_item.calculate_discount(1000, 10)\n",
    "print(f\"Discounted price: {discounted_price}\")  # Discounted price: 900.0\n"
   ]
  },
  {
   "cell_type": "code",
   "execution_count": null,
   "id": "c38d08cb-510b-4b54-89a1-4bae0189d0d6",
   "metadata": {},
   "outputs": [],
   "source": []
  },
  {
   "cell_type": "code",
   "execution_count": 89,
   "id": "6e0131dc-a9a9-4ada-b551-0b3d905d8146",
   "metadata": {},
   "outputs": [],
   "source": [
    "#문제 4: 시간 관리\n",
    "#목표: 시간을 관리하고, 초 단위로 변환하는 프로그램을 작성하세요.\n",
    "class timemanege:\n",
    "    def __init__(self,second):\n",
    "        self.second=second\n",
    "\n",
    "    @classmethod\n",
    "    def  from_minutes(cls, minutes):\n",
    "        return cls(minutes*60)\n",
    "\n",
    "    @classmethod\n",
    "    def from_hours(cls, hours):\n",
    "        return cls(hours*3600)\n",
    "\n",
    "    @staticmethod\n",
    "    def seconds_to_minutes(seconds):\n",
    "        return seconds/60\n",
    "    @staticmethod\n",
    "    def seconds_to_hours(seconds):\n",
    "        return seconds/3600\n",
    "\n",
    "    def display_seconds(self):\n",
    "        print(f\"Time in seconds: {self.seconds}\")"
   ]
  },
  {
   "cell_type": "code",
   "execution_count": null,
   "id": "00d6fb16-3db4-4e2b-8db2-56830eb31b1b",
   "metadata": {},
   "outputs": [],
   "source": []
  },
  {
   "cell_type": "code",
   "execution_count": null,
   "id": "3b8d8831-7f16-4a2f-91d0-dae5936a12a6",
   "metadata": {},
   "outputs": [],
   "source": []
  },
  {
   "cell_type": "code",
   "execution_count": null,
   "id": "bdf210b0-2922-4f4a-858d-a4a5b0722403",
   "metadata": {},
   "outputs": [],
   "source": []
  },
  {
   "cell_type": "code",
   "execution_count": null,
   "id": "a73270b3-303e-4c3f-854c-edd52fb1eb3e",
   "metadata": {},
   "outputs": [],
   "source": []
  },
  {
   "cell_type": "code",
   "execution_count": 81,
   "id": "9b6721c6-3224-4e69-a0d5-cb7f6b40239f",
   "metadata": {},
   "outputs": [
    {
     "name": "stdout",
     "output_type": "stream",
     "text": [
      "1\n",
      "3\n",
      "6\n",
      "10\n",
      "15\n"
     ]
    },
    {
     "data": {
      "text/plain": [
       "3"
      ]
     },
     "execution_count": 81,
     "metadata": {},
     "output_type": "execute_result"
    }
   ],
   "source": [
    "a=[1,2,3,4,5]\n",
    "def test(a):\n",
    "    total=0\n",
    "    for i in a:\n",
    "        total+=i\n",
    "        print(total)\n",
    "    return int(total/len(a))\n",
    "\n",
    "test(a)"
   ]
  },
  {
   "cell_type": "code",
   "execution_count": null,
   "id": "3843db70-2d27-409c-980f-dc1294f717cc",
   "metadata": {},
   "outputs": [],
   "source": []
  }
 ],
 "metadata": {
  "kernelspec": {
   "display_name": "Python 3 (ipykernel)",
   "language": "python",
   "name": "python3"
  },
  "language_info": {
   "codemirror_mode": {
    "name": "ipython",
    "version": 3
   },
   "file_extension": ".py",
   "mimetype": "text/x-python",
   "name": "python",
   "nbconvert_exporter": "python",
   "pygments_lexer": "ipython3",
   "version": "3.12.3"
  }
 },
 "nbformat": 4,
 "nbformat_minor": 5
}
