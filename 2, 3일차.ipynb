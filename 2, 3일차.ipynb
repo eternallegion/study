{
 "cells": [
  {
   "cell_type": "code",
   "execution_count": 2,
   "id": "a3644cf3-244c-4760-a881-e8cebae40bc5",
   "metadata": {},
   "outputs": [],
   "source": [
    "#if, and,or,not,중첩if 등등"
   ]
  },
  {
   "cell_type": "code",
   "execution_count": 12,
   "id": "595041bd-f969-47bf-8e08-9b1d93a955ba",
   "metadata": {},
   "outputs": [
    {
     "name": "stdin",
     "output_type": "stream",
     "text": [
      "age 67\n"
     ]
    },
    {
     "name": "stdout",
     "output_type": "stream",
     "text": [
      "adalt\n"
     ]
    }
   ],
   "source": [
    "age=int(input(\"age\"))\n",
    "if(age<20):\n",
    "    print(\"non adalt\")\n",
    "elif(age==20):\n",
    "    print(\"20age\")\n",
    "else:\n",
    "    print(\"adalt\")"
   ]
  },
  {
   "cell_type": "code",
   "execution_count": 45,
   "id": "d8274e0b-ea42-425c-af3a-1442b615c0ba",
   "metadata": {},
   "outputs": [
    {
     "name": "stdin",
     "output_type": "stream",
     "text": [
      "age 19\n"
     ]
    },
    {
     "name": "stdout",
     "output_type": "stream",
     "text": [
      "청소년입니다.\n",
      "청소년입니다.\n"
     ]
    }
   ],
   "source": [
    "age=int(input(\"age\"))\n",
    "\n",
    "if (age >= 13 and age <= 19):\n",
    "    print(\"청소년입니다.\")\n",
    "elif (age < 13 or age > 19):\n",
    "    print(\"청소년이 아닙니다.\")\n",
    "\n",
    "if (age >= 13 or age <= 19):\n",
    "    print(\"청소년입니다.\")\n",
    "elif (age < 13 or age > 19):\n",
    "    print(\"청소년이 아닙니다.\")"
   ]
  },
  {
   "cell_type": "code",
   "execution_count": 68,
   "id": "0c1a4ccb-c211-4402-bf98-ad83cb77068d",
   "metadata": {},
   "outputs": [
    {
     "name": "stdin",
     "output_type": "stream",
     "text": [
      "age -14\n"
     ]
    },
    {
     "name": "stdout",
     "output_type": "stream",
     "text": [
      "미자\n"
     ]
    }
   ],
   "source": [
    "age=int(input(\"age\"))\n",
    "if age>=20:\n",
    "    print(\"성인\")\n",
    "    if age>=65:\n",
    "        print(\"어르신\")\n",
    "else:\n",
    "    print(\"미자\")"
   ]
  },
  {
   "cell_type": "code",
   "execution_count": 74,
   "id": "c2d3b729-1df5-4c2e-97ac-4229e4ea7af6",
   "metadata": {},
   "outputs": [
    {
     "name": "stdin",
     "output_type": "stream",
     "text": [
      "num 0\n"
     ]
    },
    {
     "name": "stdout",
     "output_type": "stream",
     "text": [
      "중립\n"
     ]
    }
   ],
   "source": [
    "#1번\n",
    "num=int(input(\"num\"))\n",
    "if 0<num:\n",
    "    print(f\"{num}은 양수\")\n",
    "elif 0==num:\n",
    "    print(\"중립\")\n",
    "else:\n",
    "    print(f\"{num}은 음수\")"
   ]
  },
  {
   "cell_type": "code",
   "execution_count": 82,
   "id": "9e0b49c7-15b3-4711-8751-b8abf28dde39",
   "metadata": {},
   "outputs": [
    {
     "name": "stdin",
     "output_type": "stream",
     "text": [
      "num1 12\n",
      "num2 13\n"
     ]
    },
    {
     "name": "stdout",
     "output_type": "stream",
     "text": [
      "mix\n"
     ]
    }
   ],
   "source": [
    "#2번\n",
    "num1=int(input(\"num1\"))\n",
    "num2=int(input(\"num2\"))\n",
    "if(num1%2==0 and num2%2==0):\n",
    "    print(\"even\")\n",
    "elif(num1%2!=0 and num2%2!=0):\n",
    "    print(\"odd\")\n",
    "else:\n",
    "    print(\"mix\")"
   ]
  },
  {
   "cell_type": "code",
   "execution_count": 107,
   "id": "d111e2df-d576-4be5-a130-50ea7f4f992d",
   "metadata": {},
   "outputs": [
    {
     "name": "stdin",
     "output_type": "stream",
     "text": [
      "score 34\n"
     ]
    },
    {
     "name": "stdout",
     "output_type": "stream",
     "text": [
      "E\n"
     ]
    }
   ],
   "source": [
    "## 3번\n",
    "score=int(input(\"score\"))\n",
    "if(score>=90):\n",
    "    print(\"A\")\n",
    "elif(score>=80):\n",
    "    print(\"B\")\n",
    "elif(score>=70):\n",
    "    print(\"C\")\n",
    "elif(score>=60):\n",
    "    print(\"D\")\n",
    "else:\n",
    "    print(\"E\")"
   ]
  },
  {
   "cell_type": "code",
   "execution_count": 111,
   "id": "82aa8347-e96b-43d7-a03a-fd8f2c47bf2e",
   "metadata": {},
   "outputs": [
    {
     "name": "stdin",
     "output_type": "stream",
     "text": [
      "score 22\n"
     ]
    },
    {
     "name": "stdout",
     "output_type": "stream",
     "text": [
      "E\n"
     ]
    }
   ],
   "source": [
    "try:\n",
    "    score=int(input(\"score\"))\n",
    "    if(0<=score<=100):\n",
    "        if(score>=90):\n",
    "            print(\"A\")\n",
    "        elif(score>=80):\n",
    "            print(\"B\")\n",
    "        elif(score>=70):\n",
    "            print(\"C\")\n",
    "        elif(score>=60):\n",
    "            print(\"D\")\n",
    "        else:\n",
    "            print(\"E\")\n",
    "    else:\n",
    "        print(\"retry\")\n",
    "except ValueError:\n",
    "    print(\"바른걸 입력\")"
   ]
  },
  {
   "cell_type": "code",
   "execution_count": 117,
   "id": "246dfc17-2962-4b30-94fd-ec41d0a1ecab",
   "metadata": {},
   "outputs": [
    {
     "name": "stdin",
     "output_type": "stream",
     "text": [
      "year 4203\n"
     ]
    },
    {
     "name": "stdout",
     "output_type": "stream",
     "text": [
      "4203년은 윤년아닙니다.\n"
     ]
    }
   ],
   "source": [
    "year=int(input(\"year\"))\n",
    "if(a%4==0 and a%100!=0) or (a%400==0):\n",
    "    print(f\"{year}년은 윤년입니다.\")\n",
    "else:\n",
    "    print(f\"{year}년은 윤년아닙니다.\")"
   ]
  },
  {
   "cell_type": "code",
   "execution_count": 133,
   "id": "47800327-b6bc-4612-aa28-a80a49cb6267",
   "metadata": {},
   "outputs": [
    {
     "name": "stdin",
     "output_type": "stream",
     "text": [
      "year 1230\n"
     ]
    },
    {
     "name": "stdout",
     "output_type": "stream",
     "text": [
      "1230년은 윤년아닙니다.\n"
     ]
    }
   ],
   "source": [
    "try:\n",
    "    year=int(input(\"year\"))\n",
    "    if(year<0):\n",
    "        print(\"0이상것을 입력\")\n",
    "    else:\n",
    "        if(year%4==0 and year%100!=0 or year%400==0):\n",
    "            print(f\"{year}년은 윤년입니다.\")\n",
    "        else:\n",
    "             print(f\"{year}년은 윤년아닙니다.\")\n",
    "except ValueError:\n",
    "    print(\"다시입력\")"
   ]
  },
  {
   "cell_type": "code",
   "execution_count": null,
   "id": "a6a18739-31c5-410d-aa2e-8cf477c93c50",
   "metadata": {},
   "outputs": [],
   "source": []
  },
  {
   "cell_type": "code",
   "execution_count": null,
   "id": "42129a89-e606-4f9f-b791-137311c2ffb1",
   "metadata": {},
   "outputs": [],
   "source": []
  },
  {
   "cell_type": "code",
   "execution_count": null,
   "id": "cbc2727b-7318-45c8-a47f-02a685e4c165",
   "metadata": {},
   "outputs": [],
   "source": []
  },
  {
   "cell_type": "code",
   "execution_count": 135,
   "id": "82effac3-e0b0-4180-9813-ef02676ce726",
   "metadata": {},
   "outputs": [],
   "source": [
    "#반복문 (for, while)과 break, continue"
   ]
  },
  {
   "cell_type": "code",
   "execution_count": 141,
   "id": "5447bf02-36b9-4348-acc3-69f882595469",
   "metadata": {},
   "outputs": [
    {
     "name": "stdout",
     "output_type": "stream",
     "text": [
      "1\n",
      "2\n",
      "3\n",
      "4\n",
      "5\n",
      "Alice\n",
      "Bob\n",
      "Charlie\n"
     ]
    }
   ],
   "source": [
    "#for\n",
    "for i in range(1,6):\n",
    "    print(i)\n",
    "\n",
    "name=[\"Alice\", \"Bob\", \"Charlie\"]\n",
    "for name in name:\n",
    "    print(name)"
   ]
  },
  {
   "cell_type": "code",
   "execution_count": 145,
   "id": "bce326a7-b862-443c-88b4-d03a13ad30ae",
   "metadata": {},
   "outputs": [
    {
     "name": "stdout",
     "output_type": "stream",
     "text": [
      "1\n",
      "2\n",
      "3\n",
      "4\n",
      "5\n"
     ]
    }
   ],
   "source": [
    "#while\\\n",
    "i=1\n",
    "while i<=5:\n",
    "    print(i)\n",
    "    i+=1"
   ]
  },
  {
   "cell_type": "code",
   "execution_count": 151,
   "id": "c8d72081-2323-4570-b444-113c5e4abe0d",
   "metadata": {},
   "outputs": [
    {
     "name": "stdout",
     "output_type": "stream",
     "text": [
      "1\n",
      "2\n",
      "==================================================\n",
      "1\n",
      "3\n",
      "5\n",
      "7\n",
      "9\n"
     ]
    }
   ],
   "source": [
    "#break,continue\n",
    "for i in range(1,10):\n",
    "    if(i==3):\n",
    "        break\n",
    "    print(i)\n",
    "print(\"==================================================\")\n",
    "for i in range(1,10):\n",
    "    if(i%2==0):\n",
    "        continue\n",
    "    print(i)"
   ]
  },
  {
   "cell_type": "code",
   "execution_count": 173,
   "id": "50e186c1-7876-4fd6-97b1-584c51620510",
   "metadata": {},
   "outputs": [
    {
     "name": "stdout",
     "output_type": "stream",
     "text": [
      "1\n",
      "2\n",
      "3\n",
      "4\n",
      "5\n",
      "6\n",
      "7\n",
      "8\n",
      "9\n",
      "10\n",
      "===================\n"
     ]
    },
    {
     "name": "stdin",
     "output_type": "stream",
     "text": [
      "num 12\n"
     ]
    },
    {
     "name": "stdout",
     "output_type": "stream",
     "text": [
      "1\n",
      "2\n",
      "3\n",
      "4\n",
      "5\n",
      "6\n",
      "7\n",
      "8\n",
      "9\n",
      "10\n",
      "11\n",
      "12\n",
      "===================\n",
      "2\n",
      "4\n",
      "6\n",
      "8\n",
      "10\n",
      "12\n",
      "14\n",
      "16\n",
      "18\n",
      "===================\n"
     ]
    },
    {
     "name": "stdin",
     "output_type": "stream",
     "text": [
      "in s\n",
      "in d\n",
      "in f\n",
      "in g\n",
      "in g\n",
      "in h\n",
      "in sf\n",
      "in asf\n",
      "in sdfs\n",
      "in fsd\n",
      "in fsd\n",
      "in 그만\n"
     ]
    },
    {
     "name": "stdout",
     "output_type": "stream",
     "text": [
      "stop\n"
     ]
    }
   ],
   "source": [
    "#실습\n",
    "#1문\n",
    "for i in range(1,11):\n",
    "    print(i)\n",
    "print(\"===================\")\n",
    "#2문\n",
    "try:\n",
    "    num=int(input(\"num\"))\n",
    "    if(num<0):\n",
    "        print(\"다시입력\")\n",
    "    else:\n",
    "        for i in range(1,num+1):\n",
    "            print(i)\n",
    "except ValueError:\n",
    "    print(\"ERRER\")\n",
    "\n",
    "print(\"===================\")\n",
    "\n",
    "\n",
    "#3문\n",
    "for i in range(1,20):\n",
    "    if(i%2!=0):\n",
    "        continue\n",
    "    print(i)\n",
    "\n",
    "print(\"===================\")\n",
    "#4문\n",
    "while True:\n",
    "    if(str(input(\"in\"))==\"그만\"):\n",
    "        print(\"stop\")\n",
    "        break"
   ]
  },
  {
   "cell_type": "code",
   "execution_count": 199,
   "id": "e256e440-fc51-42e2-8573-569961cc78cb",
   "metadata": {},
   "outputs": [
    {
     "name": "stdin",
     "output_type": "stream",
     "text": [
      "몇개까지? -1\n"
     ]
    },
    {
     "name": "stdout",
     "output_type": "stream",
     "text": [
      "다시\n"
     ]
    }
   ],
   "source": [
    "#추가\n",
    "#1\n",
    "total=0\n",
    "try:\n",
    "    count=int(input(\"몇개까지?\"))\n",
    "    if(count<=0):\n",
    "        print(\"다시\")\n",
    "    else:\n",
    "        for i in range(1,count+1):\n",
    "            num=int(input(\"num\"))\n",
    "            total+=num\n",
    "\n",
    "        print(f\"num1+num2+num3+num4+num5={total}\")\n",
    "except ValueError:\n",
    "    print(\"ERROR\")"
   ]
  },
  {
   "cell_type": "code",
   "execution_count": 216,
   "id": "2a624584-efac-4083-af9e-e4354c4565be",
   "metadata": {},
   "outputs": [
    {
     "name": "stdin",
     "output_type": "stream",
     "text": [
      "num 12\n"
     ]
    },
    {
     "name": "stdout",
     "output_type": "stream",
     "text": [
      "12\n"
     ]
    },
    {
     "name": "stdin",
     "output_type": "stream",
     "text": [
      "num 12\n"
     ]
    },
    {
     "name": "stdout",
     "output_type": "stream",
     "text": [
      "이미 있는 놈\n"
     ]
    },
    {
     "name": "stdin",
     "output_type": "stream",
     "text": [
      "num 12\n"
     ]
    },
    {
     "name": "stdout",
     "output_type": "stream",
     "text": [
      "이미 있는 놈\n"
     ]
    },
    {
     "name": "stdin",
     "output_type": "stream",
     "text": [
      "num 43\n"
     ]
    },
    {
     "name": "stdout",
     "output_type": "stream",
     "text": [
      "43\n"
     ]
    },
    {
     "name": "stdin",
     "output_type": "stream",
     "text": [
      "num 5\n"
     ]
    },
    {
     "name": "stdout",
     "output_type": "stream",
     "text": [
      "5\n"
     ]
    },
    {
     "name": "stdin",
     "output_type": "stream",
     "text": [
      "num 5\n"
     ]
    },
    {
     "name": "stdout",
     "output_type": "stream",
     "text": [
      "이미 있는 놈\n"
     ]
    },
    {
     "name": "stdin",
     "output_type": "stream",
     "text": [
      "num 98\n"
     ]
    },
    {
     "name": "stdout",
     "output_type": "stream",
     "text": [
      "98\n"
     ]
    },
    {
     "name": "stdin",
     "output_type": "stream",
     "text": [
      "num 75\n"
     ]
    },
    {
     "name": "stdout",
     "output_type": "stream",
     "text": [
      "75\n"
     ]
    },
    {
     "name": "stdin",
     "output_type": "stream",
     "text": [
      "num 6\n"
     ]
    },
    {
     "name": "stdout",
     "output_type": "stream",
     "text": [
      "6\n"
     ]
    },
    {
     "name": "stdin",
     "output_type": "stream",
     "text": [
      "num 45\n"
     ]
    },
    {
     "name": "stdout",
     "output_type": "stream",
     "text": [
      "45\n"
     ]
    },
    {
     "name": "stdin",
     "output_type": "stream",
     "text": [
      "num 0\n"
     ]
    },
    {
     "name": "stdout",
     "output_type": "stream",
     "text": [
      "END\n",
      "[12, 43, 5, 98, 75, 6, 45]\n"
     ]
    }
   ],
   "source": [
    "from itertools import count\n",
    "l=[]\n",
    "try:\n",
    "    for _ in count():\n",
    "        num=int(input(\"num\"))\n",
    "        if(num==0):\n",
    "            print(\"END\")\n",
    "            break\n",
    "        else:\n",
    "            if(num not in l):\n",
    "                l.append(num)\n",
    "                print(num)\n",
    "            else:\n",
    "                print(\"이미 있는 놈\")\n",
    "\n",
    "    print(l)\n",
    "\n",
    "except ValueError:\n",
    "    print(\"옳지않은 놈, 지금까지\",l)"
   ]
  },
  {
   "cell_type": "code",
   "execution_count": null,
   "id": "681a35f9-7d34-4366-b25a-4fc85bc8a4bd",
   "metadata": {},
   "outputs": [],
   "source": []
  },
  {
   "cell_type": "code",
   "execution_count": null,
   "id": "e7540533-c2f7-454e-b107-6e2a8df02e3c",
   "metadata": {},
   "outputs": [],
   "source": []
  }
 ],
 "metadata": {
  "kernelspec": {
   "display_name": "Python 3 (ipykernel)",
   "language": "python",
   "name": "python3"
  },
  "language_info": {
   "codemirror_mode": {
    "name": "ipython",
    "version": 3
   },
   "file_extension": ".py",
   "mimetype": "text/x-python",
   "name": "python",
   "nbconvert_exporter": "python",
   "pygments_lexer": "ipython3",
   "version": "3.12.3"
  }
 },
 "nbformat": 4,
 "nbformat_minor": 5
}
