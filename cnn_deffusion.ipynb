{
 "cells": [
  {
   "cell_type": "code",
   "execution_count": 38,
   "id": "ff5672b9-b8ae-4eef-a5e0-731f4f2ab5ac",
   "metadata": {},
   "outputs": [],
   "source": [
    "import torch\n",
    "import torch.nn as nn\n",
    "import torch.optim as optim\n",
    "from torch.utils.data import DataLoader\n",
    "from torchvision import datasets, transforms"
   ]
  },
  {
   "cell_type": "code",
   "execution_count": 39,
   "id": "043feb64-38c4-429b-b3a0-b27d61e688f0",
   "metadata": {},
   "outputs": [
    {
     "name": "stdout",
     "output_type": "stream",
     "text": [
      "cuda\n"
     ]
    }
   ],
   "source": [
    "class enco(nn.Module):\n",
    "    def __init__(self):\n",
    "        super(enco,self).__init__()\n",
    "        self.lay1=nn.Conv2d(1,16,3,stride=2,padding=1)\n",
    "        self.lay2=nn.Conv2d(16,32,3,stride=2,padding=1)\n",
    "        self.relu=nn.ReLU()\n",
    "        self.layLast=nn.Conv2d(32,64,7)\n",
    "        self.drop=nn.Dropout(0.2)\n",
    "    def forward(self,x):\n",
    "        x=self.lay1(x)\n",
    "        #print(x.shape)\n",
    "        x=self.relu(x)\n",
    "        #print(x.shape)\n",
    "        x=self.drop(x)\n",
    "        #print(x.shape)\n",
    "        x=self.lay2(x)\n",
    "        #print(x.shape)\n",
    "        x=self.relu(x)\n",
    "        #print(x.shape)\n",
    "        x=self.layLast(x)\n",
    "        #print(x.shape)\n",
    "        return x\n",
    "\n",
    "device=torch.device('cuda'if torch.cuda.is_available()else'cpu')\n",
    "print(device)"
   ]
  },
  {
   "cell_type": "code",
   "execution_count": 40,
   "id": "2a9ceca8-2a4e-4742-89b7-ad35387369de",
   "metadata": {},
   "outputs": [],
   "source": [
    "transform=transforms.Compose([\n",
    "    transforms.ToTensor(),\n",
    "    transforms.Normalize((0.5,),(0.5,))\n",
    "])\n",
    "train_data=datasets.MNIST(root='data',train=True,download=True,transform=transform)\n",
    "train_loader=DataLoader(train_data,batch_size=64,shuffle=True)"
   ]
  },
  {
   "cell_type": "code",
   "execution_count": 41,
   "id": "2a2dfc62-b513-4169-9b91-b5b273172a12",
   "metadata": {},
   "outputs": [],
   "source": [
    "model=enco()\n",
    "model\n",
    "criter=nn.MSELoss()\n",
    "opt=optim.SGD(model.parameters(),lr=1e-3)"
   ]
  },
  {
   "cell_type": "code",
   "execution_count": 42,
   "id": "a6597ccf-f077-4927-8806-2b8f856ee84f",
   "metadata": {},
   "outputs": [
    {
     "name": "stderr",
     "output_type": "stream",
     "text": [
      "/usr/local/lib/python3.10/dist-packages/torch/nn/modules/loss.py:535: UserWarning: Using a target size (torch.Size([64, 1, 28, 28])) that is different to the input size (torch.Size([64, 64, 1, 1])). This will likely lead to incorrect results due to broadcasting. Please ensure they have the same size.\n",
      "  return F.mse_loss(input, target, reduction=self.reduction)\n"
     ]
    },
    {
     "name": "stdout",
     "output_type": "stream",
     "text": [
      "Epoch [1/1], Loss: 0.4256\n"
     ]
    },
    {
     "name": "stderr",
     "output_type": "stream",
     "text": [
      "/usr/local/lib/python3.10/dist-packages/torch/nn/modules/loss.py:535: UserWarning: Using a target size (torch.Size([32, 1, 28, 28])) that is different to the input size (torch.Size([32, 64, 1, 1])). This will likely lead to incorrect results due to broadcasting. Please ensure they have the same size.\n",
      "  return F.mse_loss(input, target, reduction=self.reduction)\n"
     ]
    }
   ],
   "source": [
    "num_epochs = 1\n",
    "for epoch in range(num_epochs):\n",
    "    for data in train_loader:\n",
    "        img, _ = data\n",
    "        noise = img + 0.5 * torch.randn(*img.shape)\n",
    "        noise = torch.clamp(noise, 0., 1.)\n",
    "        output = model(noise)\n",
    "        loss = criter(output, img)\n",
    "\n",
    "        opt.zero_grad()\n",
    "        loss.backward()\n",
    "        opt.step()\n",
    "\n",
    "\n",
    "    print(f'Epoch [{epoch + 1}/{num_epochs}], Loss: {loss.item():.4f}')\n"
   ]
  },
  {
   "cell_type": "code",
   "execution_count": 80,
   "id": "14b112b0-d63f-46b0-b1eb-7bf5fc6d55b3",
   "metadata": {},
   "outputs": [
    {
     "name": "stdout",
     "output_type": "stream",
     "text": [
      "cuda\n"
     ]
    }
   ],
   "source": [
    "class CAE(nn.Module):\n",
    "    def __init__(self):\n",
    "        super(CAE,self).__init__()\n",
    "        self.enco=nn.Sequential(\n",
    "            nn.Conv2d(1,16,3,stride=2,padding=1),\n",
    "            nn.ReLU(),\n",
    "            nn.Conv2d(16,32,3,stride=2,padding=1),\n",
    "            nn.Dropout(0.2),\n",
    "            nn.ReLU(),\n",
    "            nn.Conv2d(32,64,7),\n",
    "        )\n",
    "        self.deco=nn.Sequential(\n",
    "            nn.ConvTranspose2d(64,32,7),\n",
    "            nn.ReLU(),\n",
    "            nn.ConvTranspose2d(32,16,3,stride=2,padding=1,output_padding=1),\n",
    "            nn.ReLU(),\n",
    "            nn.ConvTranspose2d(16,1,3,stride=2,padding=1,output_padding=1),\n",
    "            nn.Sigmoid()\n",
    "        )\n",
    "    def forward(self,x):\n",
    "        x=self.enco(x)\n",
    "        x=self.deco(x)\n",
    "        return x\n",
    "\n",
    "device=torch.device('cuda'if torch.cuda.is_available()else'cpu')\n",
    "print(device)\n",
    "\n",
    "import os\n",
    "os.environ['CUDA_LAUNCH_BLOCKING'] = \"1\"\n"
   ]
  },
  {
   "cell_type": "code",
   "execution_count": 81,
   "id": "1ed290dd-3420-42fd-87c0-0d4025845673",
   "metadata": {},
   "outputs": [
    {
     "name": "stdout",
     "output_type": "stream",
     "text": [
      "CAE(\n",
      "  (enco): Sequential(\n",
      "    (0): Conv2d(1, 16, kernel_size=(3, 3), stride=(2, 2), padding=(1, 1))\n",
      "    (1): ReLU()\n",
      "    (2): Conv2d(16, 32, kernel_size=(3, 3), stride=(2, 2), padding=(1, 1))\n",
      "    (3): Dropout(p=0.2, inplace=False)\n",
      "    (4): ReLU()\n",
      "    (5): Conv2d(32, 64, kernel_size=(7, 7), stride=(1, 1))\n",
      "  )\n",
      "  (deco): Sequential(\n",
      "    (0): ConvTranspose2d(64, 32, kernel_size=(7, 7), stride=(1, 1))\n",
      "    (1): ReLU()\n",
      "    (2): ConvTranspose2d(32, 16, kernel_size=(3, 3), stride=(2, 2), padding=(1, 1), output_padding=(1, 1))\n",
      "    (3): ReLU()\n",
      "    (4): ConvTranspose2d(16, 1, kernel_size=(3, 3), stride=(2, 2), padding=(1, 1), output_padding=(1, 1))\n",
      "    (5): Sigmoid()\n",
      "  )\n",
      ")\n"
     ]
    }
   ],
   "source": [
    "transform=transforms.Compose([\n",
    "    transforms.ToTensor(),\n",
    "    transforms.Normalize((0.5,),(0.5,))\n",
    "])\n",
    "\n",
    "train_data=datasets.MNIST(root='data',train=True,download=True,transform=transform)\n",
    "train_loader=DataLoader(train_data,batch_size=64,shuffle=True)\n",
    "\n",
    "test_data=datasets.MNIST(root='data',train=False,download=True,transform=transform)\n",
    "test_loader=DataLoader(test_data,batch_size=64,shuffle=True)\n",
    "\n",
    "model=CAE()\n",
    "#model=model.to(device)\n",
    "print(model)\n",
    "criter=nn.MSELoss()\n",
    "opt=optim.Adam(model.parameters(),lr=0.001)"
   ]
  },
  {
   "cell_type": "code",
   "execution_count": 45,
   "id": "5df3739a-fbe3-446d-a9f9-b3da2c130ad0",
   "metadata": {},
   "outputs": [
    {
     "name": "stdout",
     "output_type": "stream",
     "text": [
      "Epoch [1/10], Loss: 0.9283\n",
      "Epoch [2/10], Loss: 0.9283\n",
      "Epoch [3/10], Loss: 0.9253\n",
      "Epoch [4/10], Loss: 0.9232\n",
      "Epoch [5/10], Loss: 0.9243\n",
      "Epoch [6/10], Loss: 0.9260\n",
      "Epoch [7/10], Loss: 0.9226\n",
      "Epoch [8/10], Loss: 0.9252\n",
      "Epoch [9/10], Loss: 0.9260\n",
      "Epoch [10/10], Loss: 0.9280\n"
     ]
    }
   ],
   "source": [
    "num_epochs=10\n",
    "#model.train()\n",
    "for epoch in range(num_epochs):\n",
    "    for data in train_loader:\n",
    "        img,_=data\n",
    "        noise=img+0.5*torch.randn(*img.shape)\n",
    "\n",
    "        noise=torch.clamp(noise,0.,1.)\n",
    "        output=model(noise)\n",
    "        loss=criter(output,img)\n",
    "        opt.zero_grad()\n",
    "        loss.backward()\n",
    "        opt.step()\n",
    "    print(f'Epoch [{epoch+1}/{num_epochs}], Loss: {loss.item():.4f}')\n",
    "    "
   ]
  },
  {
   "cell_type": "code",
   "execution_count": null,
   "id": "b3496ca6-7b6e-436a-94b7-52e40bab89ca",
   "metadata": {},
   "outputs": [],
   "source": []
  },
  {
   "cell_type": "code",
   "execution_count": null,
   "id": "54186eeb-3fb3-4504-afa9-b320e97f0882",
   "metadata": {},
   "outputs": [],
   "source": []
  },
  {
   "cell_type": "code",
   "execution_count": 50,
   "id": "dff0f05a-39d0-460b-a027-260f32473bd4",
   "metadata": {},
   "outputs": [
    {
     "name": "stdout",
     "output_type": "stream",
     "text": [
      "Epoch [1/100], Loss: 0.9254\n",
      "Epoch [2/100], Loss: 0.9254\n",
      "Epoch [3/100], Loss: 0.9254\n",
      "Epoch [4/100], Loss: 0.9254\n",
      "Epoch [5/100], Loss: 0.9254\n",
      "Epoch [6/100], Loss: 0.9254\n",
      "Epoch [7/100], Loss: 0.9254\n",
      "Epoch [8/100], Loss: 0.9254\n",
      "Epoch [9/100], Loss: 0.9254\n",
      "Epoch [10/100], Loss: 0.9254\n",
      "Epoch [11/100], Loss: 0.9254\n",
      "Epoch [12/100], Loss: 0.9254\n",
      "Epoch [13/100], Loss: 0.9254\n",
      "Epoch [14/100], Loss: 0.9254\n",
      "Epoch [15/100], Loss: 0.9254\n",
      "Epoch [16/100], Loss: 0.9254\n",
      "Epoch [17/100], Loss: 0.9254\n",
      "Epoch [18/100], Loss: 0.9254\n",
      "Epoch [19/100], Loss: 0.9254\n",
      "Epoch [20/100], Loss: 0.9254\n",
      "Epoch [21/100], Loss: 0.9254\n",
      "Epoch [22/100], Loss: 0.9254\n",
      "Epoch [23/100], Loss: 0.9254\n",
      "Epoch [24/100], Loss: 0.9254\n",
      "Epoch [25/100], Loss: 0.9254\n",
      "Epoch [26/100], Loss: 0.9254\n",
      "Epoch [27/100], Loss: 0.9254\n",
      "Epoch [28/100], Loss: 0.9254\n",
      "Epoch [29/100], Loss: 0.9254\n",
      "Epoch [30/100], Loss: 0.9254\n",
      "Epoch [31/100], Loss: 0.9254\n",
      "Epoch [32/100], Loss: 0.9254\n",
      "Epoch [33/100], Loss: 0.9254\n",
      "Epoch [34/100], Loss: 0.9254\n",
      "Epoch [35/100], Loss: 0.9254\n",
      "Epoch [36/100], Loss: 0.9254\n",
      "Epoch [37/100], Loss: 0.9254\n",
      "Epoch [38/100], Loss: 0.9254\n",
      "Epoch [39/100], Loss: 0.9254\n",
      "Epoch [40/100], Loss: 0.9254\n",
      "Epoch [41/100], Loss: 0.9254\n",
      "Epoch [42/100], Loss: 0.9254\n",
      "Epoch [43/100], Loss: 0.9254\n",
      "Epoch [44/100], Loss: 0.9254\n",
      "Epoch [45/100], Loss: 0.9254\n",
      "Epoch [46/100], Loss: 0.9254\n",
      "Epoch [47/100], Loss: 0.9254\n",
      "Epoch [48/100], Loss: 0.9254\n",
      "Epoch [49/100], Loss: 0.9254\n",
      "Epoch [50/100], Loss: 0.9254\n",
      "Epoch [51/100], Loss: 0.9254\n",
      "Epoch [52/100], Loss: 0.9254\n",
      "Epoch [53/100], Loss: 0.9254\n",
      "Epoch [54/100], Loss: 0.9254\n",
      "Epoch [55/100], Loss: 0.9254\n",
      "Epoch [56/100], Loss: 0.9254\n",
      "Epoch [57/100], Loss: 0.9254\n",
      "Epoch [58/100], Loss: 0.9254\n",
      "Epoch [59/100], Loss: 0.9254\n",
      "Epoch [60/100], Loss: 0.9254\n",
      "Epoch [61/100], Loss: 0.9254\n",
      "Epoch [62/100], Loss: 0.9254\n",
      "Epoch [63/100], Loss: 0.9254\n",
      "Epoch [64/100], Loss: 0.9254\n",
      "Epoch [65/100], Loss: 0.9254\n",
      "Epoch [66/100], Loss: 0.9254\n",
      "Epoch [67/100], Loss: 0.9254\n",
      "Epoch [68/100], Loss: 0.9254\n",
      "Epoch [69/100], Loss: 0.9254\n",
      "Epoch [70/100], Loss: 0.9254\n",
      "Epoch [71/100], Loss: 0.9254\n",
      "Epoch [72/100], Loss: 0.9254\n",
      "Epoch [73/100], Loss: 0.9254\n",
      "Epoch [74/100], Loss: 0.9254\n",
      "Epoch [75/100], Loss: 0.9254\n",
      "Epoch [76/100], Loss: 0.9254\n",
      "Epoch [77/100], Loss: 0.9254\n",
      "Epoch [78/100], Loss: 0.9254\n",
      "Epoch [79/100], Loss: 0.9254\n",
      "Epoch [80/100], Loss: 0.9254\n",
      "Epoch [81/100], Loss: 0.9254\n",
      "Epoch [82/100], Loss: 0.9254\n",
      "Epoch [83/100], Loss: 0.9254\n",
      "Epoch [84/100], Loss: 0.9254\n",
      "Epoch [85/100], Loss: 0.9254\n",
      "Epoch [86/100], Loss: 0.9254\n",
      "Epoch [87/100], Loss: 0.9254\n",
      "Epoch [88/100], Loss: 0.9254\n",
      "Epoch [89/100], Loss: 0.9254\n",
      "Epoch [90/100], Loss: 0.9254\n",
      "Epoch [91/100], Loss: 0.9254\n",
      "Epoch [92/100], Loss: 0.9254\n",
      "Epoch [93/100], Loss: 0.9254\n",
      "Epoch [94/100], Loss: 0.9254\n",
      "Epoch [95/100], Loss: 0.9254\n",
      "Epoch [96/100], Loss: 0.9254\n",
      "Epoch [97/100], Loss: 0.9254\n",
      "Epoch [98/100], Loss: 0.9254\n",
      "Epoch [99/100], Loss: 0.9254\n",
      "Epoch [100/100], Loss: 0.9254\n"
     ]
    }
   ],
   "source": [
    "num_epochs=100\n",
    "\n",
    "def train(train_loader, model, opt, criter, num_epochs):\n",
    "    model.train()\n",
    "    for epoch in range(num_epochs):\n",
    "        total_loss = 0\n",
    "        for _, data in enumerate(train_loader):\n",
    "            img, _ = data\n",
    "            noisy_img = img + 0.5 * torch.randn(*img.shape)\n",
    "            noisy_img = torch.clamp(noisy_img, 0., 1.)\n",
    "\n",
    "            output = model(noisy_img)\n",
    "            loss = criter(output, img)\n",
    "\n",
    "            opt.zero_grad()\n",
    "            loss.backward()\n",
    "            opt.step()\n",
    "\n",
    "            total_loss += loss.item()\n",
    "\n",
    "        avg_loss = total_loss / len(train_loader)\n",
    "        loss_values.append(avg_loss)\n",
    "        script=torch.jit.script(model)\n",
    "        torch.jit.save(script,'cnn_deffusion.pt')\n",
    "        script.save('cnn_deffusionW.pt')\n",
    "        print(f'Epoch [{epoch + 1}/{num_epochs}], Loss: {avg_loss:.4f}')\n",
    "\n",
    "\n",
    "loss_values = []\n",
    "#train(train_loader, model, opt, criter, num_epochs, loss_values)\n",
    "\n",
    "train(train_loader, model, opt, criter, num_epochs)"
   ]
  },
  {
   "cell_type": "code",
   "execution_count": 82,
   "id": "c2c4e192-ad9d-4226-86af-ce8427f4afa9",
   "metadata": {},
   "outputs": [
    {
     "name": "stdout",
     "output_type": "stream",
     "text": [
      "Epoch [1/100], Loss: 0.9391\n",
      "Epoch [2/100], Loss: 0.9254\n",
      "Epoch [3/100], Loss: 0.9254\n",
      "Epoch [4/100], Loss: 0.9254\n",
      "Epoch [5/100], Loss: 0.9254\n",
      "Epoch [6/100], Loss: 0.9254\n",
      "Epoch [7/100], Loss: 0.9254\n",
      "Epoch [8/100], Loss: 0.9254\n",
      "Epoch [9/100], Loss: 0.9254\n",
      "Epoch [10/100], Loss: 0.9254\n",
      "Epoch [11/100], Loss: 0.9254\n",
      "Epoch [12/100], Loss: 0.9254\n",
      "Epoch [13/100], Loss: 0.9254\n",
      "Epoch [14/100], Loss: 0.9254\n",
      "Epoch [15/100], Loss: 0.9254\n",
      "Epoch [16/100], Loss: 0.9254\n",
      "Epoch [17/100], Loss: 0.9254\n",
      "Epoch [18/100], Loss: 0.9254\n",
      "Epoch [19/100], Loss: 0.9254\n",
      "Epoch [20/100], Loss: 0.9254\n",
      "Epoch [21/100], Loss: 0.9254\n",
      "Epoch [22/100], Loss: 0.9254\n",
      "Epoch [23/100], Loss: 0.9254\n",
      "Epoch [24/100], Loss: 0.9254\n",
      "Epoch [25/100], Loss: 0.9254\n",
      "Epoch [26/100], Loss: 0.9254\n",
      "Epoch [27/100], Loss: 0.9254\n",
      "Epoch [28/100], Loss: 0.9254\n",
      "Epoch [29/100], Loss: 0.9254\n",
      "Epoch [30/100], Loss: 0.9254\n",
      "Epoch [31/100], Loss: 0.9254\n",
      "Epoch [32/100], Loss: 0.9254\n",
      "Epoch [33/100], Loss: 0.9254\n",
      "Epoch [34/100], Loss: 0.9254\n",
      "Epoch [35/100], Loss: 0.9254\n",
      "Epoch [36/100], Loss: 0.9254\n",
      "Epoch [37/100], Loss: 0.9254\n",
      "Epoch [38/100], Loss: 0.9254\n",
      "Epoch [39/100], Loss: 0.9254\n",
      "Epoch [40/100], Loss: 0.9254\n",
      "Epoch [41/100], Loss: 0.9254\n",
      "Epoch [42/100], Loss: 0.9254\n",
      "Epoch [43/100], Loss: 0.9254\n",
      "Epoch [44/100], Loss: 0.9254\n",
      "Epoch [45/100], Loss: 0.9254\n",
      "Epoch [46/100], Loss: 0.9254\n",
      "Epoch [47/100], Loss: 0.9254\n",
      "Epoch [48/100], Loss: 0.9254\n",
      "Epoch [49/100], Loss: 0.9254\n",
      "Epoch [50/100], Loss: 0.9254\n",
      "Epoch [51/100], Loss: 0.9254\n",
      "Epoch [52/100], Loss: 0.9254\n",
      "Epoch [53/100], Loss: 0.9254\n",
      "Epoch [54/100], Loss: 0.9254\n",
      "Epoch [55/100], Loss: 0.9254\n",
      "Epoch [56/100], Loss: 0.9254\n",
      "Epoch [57/100], Loss: 0.9254\n",
      "Epoch [58/100], Loss: 0.9254\n",
      "Epoch [59/100], Loss: 0.9254\n",
      "Epoch [60/100], Loss: 0.9254\n",
      "Epoch [61/100], Loss: 0.9254\n",
      "Epoch [62/100], Loss: 0.9254\n",
      "Epoch [63/100], Loss: 0.9254\n",
      "Epoch [64/100], Loss: 0.9254\n",
      "Epoch [65/100], Loss: 0.9254\n",
      "Epoch [66/100], Loss: 0.9254\n",
      "Epoch [67/100], Loss: 0.9254\n",
      "Epoch [68/100], Loss: 0.9254\n",
      "Epoch [69/100], Loss: 0.9254\n",
      "Epoch [70/100], Loss: 0.9254\n",
      "Epoch [71/100], Loss: 0.9254\n",
      "Epoch [72/100], Loss: 0.9254\n",
      "Epoch [73/100], Loss: 0.9254\n",
      "Epoch [74/100], Loss: 0.9254\n",
      "Epoch [75/100], Loss: 0.9254\n",
      "Epoch [76/100], Loss: 0.9254\n",
      "Epoch [77/100], Loss: 0.9254\n",
      "Epoch [78/100], Loss: 0.9254\n",
      "Epoch [79/100], Loss: 0.9254\n",
      "Epoch [80/100], Loss: 0.9254\n",
      "Epoch [81/100], Loss: 0.9254\n",
      "Epoch [82/100], Loss: 0.9254\n",
      "Epoch [83/100], Loss: 0.9254\n",
      "Epoch [84/100], Loss: 0.9254\n",
      "Epoch [85/100], Loss: 0.9254\n",
      "Epoch [86/100], Loss: 0.9254\n",
      "Epoch [87/100], Loss: 0.9254\n",
      "Epoch [88/100], Loss: 0.9254\n",
      "Epoch [89/100], Loss: 0.9254\n",
      "Epoch [90/100], Loss: 0.9254\n",
      "Epoch [91/100], Loss: 0.9254\n",
      "Epoch [92/100], Loss: 0.9254\n",
      "Epoch [93/100], Loss: 0.9254\n",
      "Epoch [94/100], Loss: 0.9254\n",
      "Epoch [95/100], Loss: 0.9254\n",
      "Epoch [96/100], Loss: 0.9254\n",
      "Epoch [97/100], Loss: 0.9254\n",
      "Epoch [98/100], Loss: 0.9254\n",
      "Epoch [99/100], Loss: 0.9254\n",
      "Epoch [100/100], Loss: 0.9254\n"
     ]
    }
   ],
   "source": [
    "from tqdm import tqdm\n",
    "def train(train_loader, model, opt, criter, num_epochs, loss_values):\n",
    "    model.train()\n",
    "    \n",
    "    for epoch in range(num_epochs):\n",
    "        total_loss = 0\n",
    "        for _, data in enumerate(train_loader):\n",
    "            img, _ = data\n",
    "            noisy_img = img + 0.5 * torch.randn(*img.shape)\n",
    "            noisy_img = torch.clamp(noisy_img, 0., 1.)\n",
    "\n",
    "            output = model(noisy_img)\n",
    "            loss = criter(output, img)\n",
    "\n",
    "            opt.zero_grad()\n",
    "            loss.backward()\n",
    "            opt.step()\n",
    "\n",
    "            total_loss += loss.item()\n",
    "\n",
    "        avg_loss = total_loss / len(train_loader)\n",
    "        loss_values.append(avg_loss)\n",
    "        script=torch.jit.script(model)\n",
    "        torch.jit.save(script,'cnn_deffusion.pt')\n",
    "        torch.save(model.state_dict(),'cnn_deffusionW.pth')\n",
    "        print(f'Epoch [{epoch + 1}/{num_epochs}], Loss: {avg_loss:.4f}')\n",
    "\n",
    "loss_values = []\n",
    "train(train_loader, model, opt, criter, num_epochs, loss_values)\n"
   ]
  },
  {
   "cell_type": "code",
   "execution_count": 57,
   "id": "e68f018b-c490-4c8e-a86d-54d2e85548b9",
   "metadata": {},
   "outputs": [
    {
     "data": {
      "image/png": "[encoded data removed]",
      "text/plain": [
       "<Figure size 640x480 with 1 Axes>"
      ]
     },
     "metadata": {},
     "output_type": "display_data"
    }
   ],
   "source": [
    "import matplotlib.pyplot as plt\n",
    "\n",
    "plt.plot(loss_values)\n",
    "plt.title('Training Loss Curve')\n",
    "plt.xlabel('Epoch')\n",
    "plt.ylabel('Loss')\n",
    "plt.show()\n"
   ]
  },
  {
   "cell_type": "code",
   "execution_count": 83,
   "id": "c24579ea-be95-4c6b-a2b2-40e3565ba068",
   "metadata": {},
   "outputs": [
    {
     "ename": "AttributeError",
     "evalue": "'collections.OrderedDict' object has no attribute 'load_state_dict'",
     "output_type": "error",
     "traceback": [
      "\u001b[0;31m---------------------------------------------------------------------------\u001b[0m",
      "\u001b[0;31mAttributeError\u001b[0m                            Traceback (most recent call last)",
      "Cell \u001b[0;32mIn[83], line 19\u001b[0m\n\u001b[1;32m     16\u001b[0m \u001b[38;5;66;03m#model=torch.jit.load('cnn_deffusion.pt')\u001b[39;00m\n\u001b[1;32m     17\u001b[0m \u001b[38;5;66;03m#print(model)\u001b[39;00m\n\u001b[1;32m     18\u001b[0m model\u001b[38;5;241m=\u001b[39mtorch\u001b[38;5;241m.\u001b[39mload(\u001b[38;5;124m'\u001b[39m\u001b[38;5;124mcnn_deffusion.pth\u001b[39m\u001b[38;5;124m'\u001b[39m)\n\u001b[0;32m---> 19\u001b[0m \u001b[43mmodel\u001b[49m\u001b[38;5;241;43m.\u001b[39;49m\u001b[43mload_state_dict\u001b[49m(torch\u001b[38;5;241m.\u001b[39mload(\u001b[38;5;124m'\u001b[39m\u001b[38;5;124mcnn_deffusion.pth\u001b[39m\u001b[38;5;124m'\u001b[39m))\n\u001b[1;32m     20\u001b[0m test(test_loader, model, criter)\n",
      "\u001b[0;31mAttributeError\u001b[0m: 'collections.OrderedDict' object has no attribute 'load_state_dict'"
     ]
    }
   ],
   "source": [
    "def test(test_loader, model, criter):\n",
    "    model.eval()\n",
    "    total_loss = 0\n",
    "\n",
    "    with torch.no_grad():\n",
    "        for _, data in enumerate(test_loader):\n",
    "            img, _ = data\n",
    "            output = model(img)\n",
    "            loss = criter(output, img)\n",
    "            total_loss += loss.item()\n",
    "\n",
    "    avg_loss = total_loss / len(test_loader)\n",
    "    print(f'Average Loss: {avg_loss:.4f}')\n",
    "\n",
    "\n",
    "#model=torch.jit.load('cnn_deffusion.pt')\n",
    "#print(model)\n",
    "model=torch.load('cnn_deffusion.pth')\n",
    "model.load_state_dict(torch.load('cnn_deffusion.pth'))\n",
    "test(test_loader, model, criter)\n"
   ]
  },
  {
   "cell_type": "code",
   "execution_count": null,
   "id": "0698eccb-9146-41e0-b238-511240d9fa67",
   "metadata": {},
   "outputs": [],
   "source": []
  },
  {
   "cell_type": "code",
   "execution_count": null,
   "id": "80bf761d-6f26-4512-9080-1a2f3a4e7204",
   "metadata": {},
   "outputs": [],
   "source": []
  },
  {
   "cell_type": "code",
   "execution_count": null,
   "id": "d953f410-4e03-48e1-8f54-732eb89ba846",
   "metadata": {},
   "outputs": [],
   "source": []
  },
  {
   "cell_type": "code",
   "execution_count": null,
   "id": "183d74d9-d544-4328-8031-4b02b76643d5",
   "metadata": {},
   "outputs": [],
   "source": [
    "\n"
   ]
  },
  {
   "cell_type": "code",
   "execution_count": null,
   "id": "a46ee77e-80a3-4ed3-a166-5867baa1cb3b",
   "metadata": {},
   "outputs": [],
   "source": []
  },
  {
   "cell_type": "code",
   "execution_count": null,
   "id": "59cd2bb6-7182-4fed-becd-c6181b3f098c",
   "metadata": {},
   "outputs": [],
   "source": []
  },
  {
   "cell_type": "code",
   "execution_count": null,
   "id": "48c71f9c-ebf3-4634-9edf-d75ef84e5e49",
   "metadata": {},
   "outputs": [],
   "source": []
  },
  {
   "cell_type": "code",
   "execution_count": null,
   "id": "532c1dc6-e743-4181-9a09-d3b464d4be0a",
   "metadata": {},
   "outputs": [],
   "source": []
  }
 ],
 "metadata": {
  "kernelspec": {
   "display_name": "Python 3 (ipykernel)",
   "language": "python",
   "name": "python3"
  },
  "language_info": {
   "codemirror_mode": {
    "name": "ipython",
    "version": 3
   },
   "file_extension": ".py",
   "mimetype": "text/x-python",
   "name": "python",
   "nbconvert_exporter": "python",
   "pygments_lexer": "ipython3",
   "version": "3.10.12"
  }
 },
 "nbformat": 4,
 "nbformat_minor": 5
}
