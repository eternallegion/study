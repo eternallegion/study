{
 "cells": [
  {
   "cell_type": "code",
   "execution_count": 1,
   "id": "01201a36",
   "metadata": {},
   "outputs": [
    {
     "ename": "ModuleNotFoundError",
     "evalue": "No module named 'torch'",
     "output_type": "error",
     "traceback": [
      "\u001b[1;31m---------------------------------------------------------------------------\u001b[0m",
      "\u001b[1;31mModuleNotFoundError\u001b[0m                       Traceback (most recent call last)",
      "\u001b[1;32m~\\AppData\\Local\\Temp\\ipykernel_24500\\3059548491.py\u001b[0m in \u001b[0;36m<module>\u001b[1;34m\u001b[0m\n\u001b[1;32m----> 1\u001b[1;33m \u001b[1;32mimport\u001b[0m \u001b[0mtorch\u001b[0m\u001b[1;33m\u001b[0m\u001b[1;33m\u001b[0m\u001b[0m\n\u001b[0m\u001b[0;32m      2\u001b[0m \u001b[0mprint\u001b[0m\u001b[1;33m(\u001b[0m\u001b[0mtorch\u001b[0m\u001b[1;33m.\u001b[0m\u001b[0mversion\u001b[0m\u001b[1;33m.\u001b[0m\u001b[0mcuda\u001b[0m\u001b[1;33m)\u001b[0m  \u001b[1;31m# 빌드된 CUDA 버전 확인\u001b[0m\u001b[1;33m\u001b[0m\u001b[1;33m\u001b[0m\u001b[0m\n\u001b[0;32m      3\u001b[0m \u001b[0mprint\u001b[0m\u001b[1;33m(\u001b[0m\u001b[0mtorch\u001b[0m\u001b[1;33m.\u001b[0m\u001b[0mcuda\u001b[0m\u001b[1;33m.\u001b[0m\u001b[0mis_available\u001b[0m\u001b[1;33m(\u001b[0m\u001b[1;33m)\u001b[0m\u001b[1;33m)\u001b[0m\u001b[1;33m\u001b[0m\u001b[1;33m\u001b[0m\u001b[0m\n\u001b[0;32m      4\u001b[0m \u001b[0mprint\u001b[0m\u001b[1;33m(\u001b[0m\u001b[0mtorch\u001b[0m\u001b[1;33m.\u001b[0m\u001b[0mcuda\u001b[0m\u001b[1;33m.\u001b[0m\u001b[0mget_device_name\u001b[0m\u001b[1;33m(\u001b[0m\u001b[1;36m0\u001b[0m\u001b[1;33m)\u001b[0m\u001b[1;33m)\u001b[0m\u001b[1;33m\u001b[0m\u001b[1;33m\u001b[0m\u001b[0m\n",
      "\u001b[1;31mModuleNotFoundError\u001b[0m: No module named 'torch'"
     ]
    }
   ],
   "source": [
    "import torch\n",
    "print(torch.version.cuda)  # 빌드된 CUDA 버전 확인\n",
    "print(torch.cuda.is_available())\n",
    "print(torch.cuda.get_device_name(0))\n"
   ]
  },
  {
   "cell_type": "code",
   "execution_count": null,
   "id": "34a1818a",
   "metadata": {},
   "outputs": [],
   "source": []
  },
  {
   "cell_type": "code",
   "execution_count": 3,
   "id": "aedd9bf7",
   "metadata": {},
   "outputs": [
    {
     "name": "stdout",
     "output_type": "stream",
     "text": [
      "Looking in indexes: https://download.pytorch.org/whl/cu128\n",
      "Collecting torch\n",
      "  Obtaining dependency information for torch from https://download.pytorch.org/whl/cu128/torch-2.7.0%2Bcu128-cp39-cp39-win_amd64.whl.metadata\n",
      "  Using cached https://download.pytorch.org/whl/cu128/torch-2.7.0%2Bcu128-cp39-cp39-win_amd64.whl.metadata (29 kB)\n",
      "Collecting torchvision\n",
      "  Obtaining dependency information for torchvision from https://download.pytorch.org/whl/cu128/torchvision-0.22.0%2Bcu128-cp39-cp39-win_amd64.whl.metadata\n",
      "  Using cached https://download.pytorch.org/whl/cu128/torchvision-0.22.0%2Bcu128-cp39-cp39-win_amd64.whl.metadata (6.3 kB)\n",
      "Collecting torchaudio\n",
      "  Obtaining dependency information for torchaudio from https://download.pytorch.org/whl/cu128/torchaudio-2.7.0%2Bcu128-cp39-cp39-win_amd64.whl.metadata\n",
      "  Using cached https://download.pytorch.org/whl/cu128/torchaudio-2.7.0%2Bcu128-cp39-cp39-win_amd64.whl.metadata (6.8 kB)\n",
      "Requirement already satisfied: fsspec in c:\\users\\etern\\anaconda3\\lib\\site-packages (from torch) (2022.7.1)\n",
      "Requirement already satisfied: networkx in c:\\users\\etern\\anaconda3\\lib\\site-packages (from torch) (2.8.4)\n",
      "Collecting sympy>=1.13.3\n",
      "  Obtaining dependency information for sympy>=1.13.3 from https://download.pytorch.org/whl/sympy-1.13.3-py3-none-any.whl.metadata\n",
      "  Using cached https://download.pytorch.org/whl/sympy-1.13.3-py3-none-any.whl.metadata (12 kB)\n",
      "Requirement already satisfied: filelock in c:\\users\\etern\\anaconda3\\lib\\site-packages (from torch) (3.6.0)\n",
      "Collecting typing-extensions>=4.10.0\n",
      "  Obtaining dependency information for typing-extensions>=4.10.0 from https://download.pytorch.org/whl/typing_extensions-4.12.2-py3-none-any.whl.metadata\n",
      "  Using cached https://download.pytorch.org/whl/typing_extensions-4.12.2-py3-none-any.whl.metadata (3.0 kB)\n",
      "Discarding https://download.pytorch.org/whl/typing_extensions-4.12.2-py3-none-any.whl#sha256=04e5ca0351e0f3f85c6853954072df659d0d13fac324d0072316b67d7794700d (from https://download.pytorch.org/whl/cu128/typing-extensions/): Requested typing-extensions>=4.10.0 from https://download.pytorch.org/whl/typing_extensions-4.12.2-py3-none-any.whl#sha256=04e5ca0351e0f3f85c6853954072df659d0d13fac324d0072316b67d7794700d (from torch) has inconsistent Name: expected 'typing-extensions', but metadata has 'typing_extensions'\n"
     ]
    },
    {
     "name": "stderr",
     "output_type": "stream",
     "text": [
      "ERROR: Could not find a version that satisfies the requirement typing-extensions>=4.10.0 (from torch) (from versions: 4.4.0, 4.8.0, 4.9.0, 4.12.2)\n",
      "ERROR: No matching distribution found for typing-extensions>=4.10.0\n",
      "WARNING: There was an error checking the latest version of pip.\n"
     ]
    }
   ],
   "source": [
    "!pip3 install torch torchvision torchaudio --index-url https://download.pytorch.org/whl/cu128"
   ]
  },
  {
   "cell_type": "code",
   "execution_count": null,
   "id": "23d69aaf",
   "metadata": {},
   "outputs": [],
   "source": []
  },
  {
   "cell_type": "code",
   "execution_count": 49,
   "id": "13b1dde5",
   "metadata": {},
   "outputs": [],
   "source": [
    "'''class student:\n",
    "    def __init__(self,name,score,student_D):\n",
    "        self.name=name\n",
    "        self.score=score\n",
    "        self.student_D=student_D\n",
    "    def __str__(self):\n",
    "        return f\"{self.name}, {self.score}, {self.student_D}\"\n",
    "'''  \n",
    "\n",
    "class shool:\n",
    "    def __init__(self):\n",
    "        self.Lis={}\n",
    "        \n",
    "    def add_student(self, name, score):\n",
    "        \n",
    "        if name in self.Lis:\n",
    "            return \"이미 있음\"\n",
    "        else:\n",
    "            self.Lis[name]= score\n",
    "            print(f\"{name} 학생이 {score}점으로 등록되었습니다.\")\n",
    "        return self.Lis\n",
    "    \n",
    "    def display(self):\n",
    "        if not self.Lis:\n",
    "            print(\"등록된 학생이 없습니다.\")\n",
    "        else:\n",
    "            for name, score in self.Lis.items():\n",
    "                print(f\"{name}: {score}점\")"
   ]
  },
  {
   "cell_type": "code",
   "execution_count": 53,
   "id": "af05aeb7",
   "metadata": {},
   "outputs": [
    {
     "name": "stdout",
     "output_type": "stream",
     "text": [
      "Alice 학생이 85점으로 등록되었습니다.\n",
      "Bob 학생이 78점으로 등록되었습니다.\n",
      "\n",
      "전체 학생 목록:\n",
      "Alice: 85점\n",
      "Bob: 78점\n"
     ]
    }
   ],
   "source": [
    "school = shool()\n",
    "school.add_student(\"Alice\", 85)\n",
    "school.add_student(\"Bob\", 78)\n",
    "school.add_student(\"Alice\", 90)  # 이미 등록된 이름\n",
    "print(\"\\n전체 학생 목록:\")\n",
    "school.display()"
   ]
  },
  {
   "cell_type": "code",
   "execution_count": 61,
   "id": "8324b4a7",
   "metadata": {},
   "outputs": [],
   "source": [
    "class tag:\n",
    "    def __init__(self):\n",
    "        self.tag_L={}\n",
    "        self.Lis={}\n",
    "        \n",
    "    def add_tag(self, name, tag):\n",
    "        if name not in self.tag_L:\n",
    "            self.tag_L[name]=set()\n",
    "        self.tag_L[name].add(tag)\n",
    "        print(f\"{name}의 태그 목록: {self.tag_L[name]}\")\n",
    "    \n",
    "    def get_tags(self, name):\n",
    "        if name in self.tag_L:\n",
    "            print(f\"{name}, {self.tag_L}\")\n",
    "            return self.tag_L[name]\n",
    "        \n",
    "        else:\n",
    "            print(\"없다\")\n",
    "            return None\n",
    "            \n",
    "    def common_tags(self, name1, name2):\n",
    "        if name1 in self.tag_L and name2 in self.tag_L:\n",
    "            common = self.tag_L[name1] & self.tag_L[name2]\n",
    "            return common\n",
    "        else:\n",
    "            print(\"둘 중에 없는 학생이 있습니다.\")\n",
    "        return set()"
   ]
  },
  {
   "cell_type": "code",
   "execution_count": 62,
   "id": "8e70d70e",
   "metadata": {},
   "outputs": [
    {
     "name": "stdout",
     "output_type": "stream",
     "text": [
      "Alice의 태그 목록: {'math'}\n",
      "Alice의 태그 목록: {'math', 'science'}\n",
      "Bob의 태그 목록: {'science'}\n",
      "Bob의 태그 목록: {'art', 'science'}\n",
      "Alice, {'Alice': {'math', 'science'}, 'Bob': {'art', 'science'}}\n",
      "Alice 태그: {'math', 'science'}\n",
      "Bob, {'Alice': {'math', 'science'}, 'Bob': {'art', 'science'}}\n",
      "Bob 태그: {'art', 'science'}\n",
      "둘 중에 없는 학생이 있습니다.\n"
     ]
    },
    {
     "data": {
      "text/plain": [
       "set()"
      ]
     },
     "execution_count": 62,
     "metadata": {},
     "output_type": "execute_result"
    }
   ],
   "source": [
    "tm = tag()\n",
    "tm.add_tag(\"Alice\", \"math\")\n",
    "tm.add_tag(\"Alice\", \"science\")\n",
    "tm.add_tag(\"Bob\",   \"science\")\n",
    "tm.add_tag(\"Bob\",   \"art\")\n",
    "\n",
    "print(\"Alice 태그:\", tm.get_tags(\"Alice\"))\n",
    "print(\"Bob 태그:\",   tm.get_tags(\"Bob\"))\n",
    "\n",
    "tm.common_tags(\"Alice\", \"Bob\")   # -> {'science'}\n",
    "tm.common_tags(\"Alice\", \"Charlie\")  # Charlie가 없으므로 오류 메시지\n"
   ]
  },
  {
   "cell_type": "code",
   "execution_count": null,
   "id": "131d2300",
   "metadata": {},
   "outputs": [],
   "source": []
  },
  {
   "cell_type": "code",
   "execution_count": null,
   "id": "ab6a649c",
   "metadata": {},
   "outputs": [],
   "source": []
  },
  {
   "cell_type": "code",
   "execution_count": 92,
   "id": "c8ba6610",
   "metadata": {},
   "outputs": [],
   "source": [
    "#문제 2-A: 웹 브라우저 방문 기록 (스택 활용)\n",
    "class visiters:\n",
    "    def __init__(self):\n",
    "        self.stack=[]\n",
    "        \n",
    "    def visit_save(self,url):\n",
    "        self.stack.append(url)\n",
    "        return self.stack\n",
    "    \n",
    "    def back(self):\n",
    "        if not self.stack:\n",
    "            print(\"Enpty\")\n",
    "            return None\n",
    "        else:\n",
    "            last=self.stack.pop()\n",
    "            print(\"out\")\n",
    "            print(f\"뒤로가기: {last}\")\n",
    "            return last\n",
    "    def display_history(self):\n",
    "        if not self.stack:\n",
    "            print(\"방문 기록이 없습니다.\")\n",
    "            return None\n",
    "        print(\"=== 방문 기록 ===\")\n",
    "        \n",
    "        for url in self.stack:\n",
    "            print(url)\n",
    "        #return "
   ]
  },
  {
   "cell_type": "code",
   "execution_count": 93,
   "id": "2f73f0e2",
   "metadata": {},
   "outputs": [
    {
     "name": "stdout",
     "output_type": "stream",
     "text": [
      "=== 방문 기록 ===\n",
      "https://example.com\n",
      "https://openai.com\n",
      "https://github.com\n",
      "out\n",
      "뒤로가기: https://github.com\n",
      "out\n",
      "뒤로가기: https://openai.com\n",
      "out\n",
      "뒤로가기: https://example.com\n",
      "Enpty\n"
     ]
    }
   ],
   "source": [
    "bh = visiters()\n",
    "bh.visit_save(\"https://example.com\")\n",
    "bh.visit_save(\"https://openai.com\")\n",
    "bh.visit_save(\"https://github.com\")\n",
    "\n",
    "bh.display_history()\n",
    "# 출력:\n",
    "# === 방문 기록 ===\n",
    "# https://example.com\n",
    "# https://openai.com\n",
    "# https://github.com\n",
    "# =================\n",
    "\n",
    "bh.back()             # 뒤로가기: https://github.com\n",
    "bh.back()             # 뒤로가기: https://openai.com\n",
    "bh.back()             # 뒤로가기: https://example.com\n",
    "bh.back()             # 이전 페이지가 없습니다.\n"
   ]
  },
  {
   "cell_type": "code",
   "execution_count": null,
   "id": "838ba5e1",
   "metadata": {},
   "outputs": [],
   "source": []
  },
  {
   "cell_type": "code",
   "execution_count": 95,
   "id": "e306fb52",
   "metadata": {},
   "outputs": [],
   "source": [
    "#문제 2-B: 서버 요청 처리 (큐 활용)\n",
    "from collections import deque\n",
    "class RQ:\n",
    "    def __init__(self):\n",
    "        self.queue=deque()\n",
    "        \n",
    "    def enq(self, request):\n",
    "        self.queue.append(request)\n",
    "        print(f\"요청 대기열에 추가: {request}\")\n",
    "        \n",
    "    def deq(self):\n",
    "        if not self.queue:\n",
    "            return \"처리할 요청이 없습니다.\"\n",
    "        else:\n",
    "            t=self.queue.popleft()\n",
    "            return t\n",
    "        \n",
    "    def display_queue(self):\n",
    "        if not self.queue:\n",
    "            return \"처리할 요청이 없습니다.\"\n",
    "        else:\n",
    "            for t in self.queue:\n",
    "                print(t)\n",
    "            print(\"====================\")"
   ]
  },
  {
   "cell_type": "code",
   "execution_count": 96,
   "id": "657cf635",
   "metadata": {},
   "outputs": [
    {
     "name": "stdout",
     "output_type": "stream",
     "text": [
      "요청 대기열에 추가: GET /index.html\n",
      "요청 대기열에 추가: POST /submit\n",
      "GET /index.html\n",
      "POST /submit\n",
      "====================\n"
     ]
    },
    {
     "data": {
      "text/plain": [
       "'처리할 요청이 없습니다.'"
      ]
     },
     "execution_count": 96,
     "metadata": {},
     "output_type": "execute_result"
    }
   ],
   "source": [
    "rq = RQ()\n",
    "rq.enq(\"GET /index.html\")\n",
    "rq.enq(\"POST /submit\")\n",
    "rq.display_queue()\n",
    "rq.deq()\n",
    "rq.deq()\n",
    "rq.deq()  # 더 이상 처리할 요청이 없음\n"
   ]
  },
  {
   "cell_type": "code",
   "execution_count": null,
   "id": "4a82ee68",
   "metadata": {},
   "outputs": [],
   "source": []
  }
 ],
 "metadata": {
  "kernelspec": {
   "display_name": "Python 3 (ipykernel)",
   "language": "python",
   "name": "python3"
  },
  "language_info": {
   "codemirror_mode": {
    "name": "ipython",
    "version": 3
   },
   "file_extension": ".py",
   "mimetype": "text/x-python",
   "name": "python",
   "nbconvert_exporter": "python",
   "pygments_lexer": "ipython3",
   "version": "3.12.3"
  }
 },
 "nbformat": 4,
 "nbformat_minor": 5
}
