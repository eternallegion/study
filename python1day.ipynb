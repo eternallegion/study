{
 "cells": [
  {
   "cell_type": "code",
   "execution_count": 35,
   "id": "ceb220a1-5dcd-443e-83c7-4fb37fe542dd",
   "metadata": {},
   "outputs": [
    {
     "name": "stdout",
     "output_type": "stream",
     "text": [
      "[10, 20, 30, 40]\n",
      "[10, 22, 20, 30]\n",
      "[22, 20, 30]\n"
     ]
    }
   ],
   "source": [
    "#List\n",
    "my_list=[10,20,30]\n",
    "my_list.append(40)\n",
    "print(my_list)\n",
    "my_list.pop()\n",
    "my_list.insert(1,22)  #1번 위치에 20다음으로 밀고 22가 1번 위치에 들어감\n",
    "print(my_list)\n",
    "print(my_list[1:3])#1이상3미만의 인덱스에 해당하는 값추출"
   ]
  },
  {
   "cell_type": "code",
   "execution_count": 500,
   "id": "a57d7b72-619b-46c6-9b49-c719a80fdf17",
   "metadata": {},
   "outputs": [
    {
     "name": "stdout",
     "output_type": "stream",
     "text": [
      "60\n",
      "50\n",
      "40\n",
      "30\n",
      "20\n",
      "10\n"
     ]
    }
   ],
   "source": [
    "#stack->List ver => LIFO(Last In, First Out)\n",
    "stack=[]\n",
    "stack.append(10)\n",
    "stack.append(20)\n",
    "stack.append(30)\n",
    "stack.append(40)\n",
    "stack.append(50)\n",
    "stack.append(60)\n",
    "#stack.pop()\n",
    "stack\n",
    "\n",
    "while(stack):\n",
    "    print(stack.pop())"
   ]
  },
  {
   "cell_type": "code",
   "execution_count": 65,
   "id": "13a5542c-0010-484f-8d06-0c5c195c3a77",
   "metadata": {},
   "outputs": [
    {
     "data": {
      "text/plain": [
       "[1, 2, 4, 5, 6]"
      ]
     },
     "execution_count": 65,
     "metadata": {},
     "output_type": "execute_result"
    }
   ],
   "source": [
    "#queue -> List ver =>FIFO(First In, First Out)\n",
    "queue=[]\n",
    "queue.append(1)\n",
    "queue.append(2)\n",
    "queue.append(3)\n",
    "queue.append(4)\n",
    "queue.append(5)\n",
    "queue.append(int(6))\n",
    "queue.pop(2)\n",
    "queue"
   ]
  },
  {
   "cell_type": "code",
   "execution_count": 191,
   "id": "655e9c95-663c-423b-81fb-70a49d960c56",
   "metadata": {},
   "outputs": [
    {
     "name": "stdin",
     "output_type": "stream",
     "text": [
      " push 10\n"
     ]
    },
    {
     "name": "stdout",
     "output_type": "stream",
     "text": [
      "큐 상태: [10]\n"
     ]
    },
    {
     "name": "stdin",
     "output_type": "stream",
     "text": [
      " push 10\n"
     ]
    },
    {
     "name": "stdout",
     "output_type": "stream",
     "text": [
      "큐 상태: [10, 10]\n"
     ]
    },
    {
     "name": "stdin",
     "output_type": "stream",
     "text": [
      " push 10\n"
     ]
    },
    {
     "name": "stdout",
     "output_type": "stream",
     "text": [
      "큐 상태: [10, 10, 10]\n"
     ]
    },
    {
     "name": "stdin",
     "output_type": "stream",
     "text": [
      " push 10\n"
     ]
    },
    {
     "name": "stdout",
     "output_type": "stream",
     "text": [
      "큐 상태: [10, 10, 10, 10]\n"
     ]
    },
    {
     "name": "stdin",
     "output_type": "stream",
     "text": [
      " push 10\n"
     ]
    },
    {
     "name": "stdout",
     "output_type": "stream",
     "text": [
      "큐 상태: [10, 10, 10, 10, 10]\n"
     ]
    },
    {
     "name": "stdin",
     "output_type": "stream",
     "text": [
      " push 10\n"
     ]
    },
    {
     "name": "stdout",
     "output_type": "stream",
     "text": [
      "큐 상태: [10, 10, 10, 10, 10, 10]\n"
     ]
    },
    {
     "name": "stdin",
     "output_type": "stream",
     "text": [
      " pop\n"
     ]
    },
    {
     "name": "stdout",
     "output_type": "stream",
     "text": [
      "스택 상태: [10, 10, 10, 10, 10]\n"
     ]
    },
    {
     "name": "stdin",
     "output_type": "stream",
     "text": [
      " pop\n"
     ]
    },
    {
     "name": "stdout",
     "output_type": "stream",
     "text": [
      "스택 상태: [10, 10, 10, 10]\n"
     ]
    },
    {
     "name": "stdin",
     "output_type": "stream",
     "text": [
      " pop\n"
     ]
    },
    {
     "name": "stdout",
     "output_type": "stream",
     "text": [
      "스택 상태: [10, 10, 10]\n"
     ]
    },
    {
     "name": "stdin",
     "output_type": "stream",
     "text": [
      " pop\n"
     ]
    },
    {
     "name": "stdout",
     "output_type": "stream",
     "text": [
      "스택 상태: [10, 10]\n"
     ]
    },
    {
     "name": "stdin",
     "output_type": "stream",
     "text": [
      " pop\n"
     ]
    },
    {
     "name": "stdout",
     "output_type": "stream",
     "text": [
      "스택 상태: [10]\n"
     ]
    },
    {
     "name": "stdin",
     "output_type": "stream",
     "text": [
      " pop\n"
     ]
    },
    {
     "name": "stdout",
     "output_type": "stream",
     "text": [
      "스택 상태: []\n"
     ]
    },
    {
     "name": "stdin",
     "output_type": "stream",
     "text": [
      " pop\n"
     ]
    },
    {
     "name": "stdout",
     "output_type": "stream",
     "text": [
      "NO []\n"
     ]
    },
    {
     "name": "stdin",
     "output_type": "stream",
     "text": [
      " exit\n"
     ]
    },
    {
     "name": "stdout",
     "output_type": "stream",
     "text": [
      "종료\n"
     ]
    }
   ],
   "source": [
    "#ex)\n",
    "\n",
    "\n",
    "#num=int(input())\n",
    "#commande=input()\n",
    "def SQ():\n",
    "    #num=int(input())\n",
    "    \n",
    "    stakk=[];\n",
    "    queue=[];\n",
    "    while True:\n",
    "        commande=input().strip()\n",
    "        if commande=='exit':\n",
    "            print(\"종료\")\n",
    "            break;\n",
    "\n",
    "        part=commande.split()\n",
    "        act=part[0]\n",
    "        num=int(part[1]) if len(part)>1 else None\n",
    "        \n",
    "        match act:\n",
    "            case\"push\": \n",
    "                if num is not None:\n",
    "                    stakk.append(num); \n",
    "                    print(\"큐 상태:\", stakk)\n",
    "                else:\n",
    "                    print(\"숫자를 입력하세요.\")\n",
    "            case'pop': \n",
    "                if(stakk):\n",
    "                    stakk.pop()\n",
    "                    print(\"스택 상태:\", stakk)\n",
    "                else:\n",
    "                    print(\"NO\",stakk)\n",
    "                    \n",
    "            case'enqueue': \n",
    "                if num is not None:\n",
    "                    queue.append(int(num))\n",
    "                    print(\"큐 상태:\", queue)\n",
    "                else:\n",
    "                    print(\"숫자를 입력하세요.\")\n",
    "            case'dequeue': \n",
    "                if(queue):\n",
    "                    queue.pop(0)\n",
    "                    print(\"큐 상태:\", queue)\n",
    "                else:\n",
    "                    print(\"NO\",queue)\n",
    "            case _:print(\"ERROR\")\n",
    "        \n",
    "SQ()"
   ]
  },
  {
   "cell_type": "code",
   "execution_count": 418,
   "id": "b1f9d31e-69b7-4abc-8758-dad638711889",
   "metadata": {},
   "outputs": [
    {
     "name": "stdout",
     "output_type": "stream",
     "text": [
      "False\n"
     ]
    }
   ],
   "source": [
    "#문제 1: 괄호의 유효성 검사\n",
    "#설명\n",
    "#주어진 문자열이 올바른 괄호 쌍을 이루는지 확인하세요.\n",
    "#여는 괄호 (는 반드시 닫는 괄호 )와 짝을 이루어야 합니다.\n",
    "#괄호의 순서가 맞아야 합니다.\n",
    "def CHEAK(exx:str):\n",
    "    stack=[]\n",
    "    for e in exx:\n",
    "        if(e=='(') or e=='{'or e=='[':\n",
    "            stack.append(e)\n",
    "            print(stack)\n",
    "        elif(e==')'or e=='}'or e==']'):\n",
    "            if(stack ==[]):\n",
    "                return False\n",
    "            else:\n",
    "                stack.pop()\n",
    "            \n",
    "    if(stack !=[]):\n",
    "         print(stack)\n",
    "         return False\n",
    "    return True\n",
    "\n",
    "\n",
    "print(CHEAK(\"}{}{\"))\n",
    "#str=[1,2,233,4,54,5646,5467,568,6797,589758,957,]\n",
    "#CHEAK(str)"
   ]
  },
  {
   "cell_type": "code",
   "execution_count": 198,
   "id": "3d5b2473-12af-473c-8ecf-9f0a3085418e",
   "metadata": {},
   "outputs": [
    {
     "data": {
      "text/plain": [
       "11"
      ]
     },
     "execution_count": 198,
     "metadata": {},
     "output_type": "execute_result"
    }
   ],
   "source": [
    "str=[1,2,233,4,54,5646,5467,568,6797,589758,957,]\n",
    "len"
   ]
  },
  {
   "cell_type": "code",
   "execution_count": 465,
   "id": "265bca40-319a-49a5-9727-dde9c7ec9d77",
   "metadata": {},
   "outputs": [
    {
     "ename": "AttributeError",
     "evalue": "'list' object has no attribute 'top'",
     "output_type": "error",
     "traceback": [
      "\u001b[1;31m---------------------------------------------------------------------------\u001b[0m",
      "\u001b[1;31mAttributeError\u001b[0m                            Traceback (most recent call last)",
      "Cell \u001b[1;32mIn[465], line 16\u001b[0m\n\u001b[0;32m     12\u001b[0m             max2:append(max1)\n\u001b[0;32m     14\u001b[0m     \u001b[38;5;28;01mreturn\u001b[39;00m max1, max2\n\u001b[1;32m---> 16\u001b[0m histoQ([\u001b[38;5;241m2\u001b[39m, \u001b[38;5;241m1\u001b[39m, \u001b[38;5;241m5\u001b[39m, \u001b[38;5;241m6\u001b[39m, \u001b[38;5;241m2\u001b[39m, \u001b[38;5;241m3\u001b[39m])\n",
      "Cell \u001b[1;32mIn[465], line 7\u001b[0m, in \u001b[0;36mhistoQ\u001b[1;34m(arr)\u001b[0m\n\u001b[0;32m      5\u001b[0m max2\u001b[38;5;241m.\u001b[39mappend(arr[\u001b[38;5;241m-\u001b[39m\u001b[38;5;241m1\u001b[39m])\n\u001b[0;32m      6\u001b[0m \u001b[38;5;28;01mfor\u001b[39;00m a \u001b[38;5;129;01min\u001b[39;00m arr:\n\u001b[1;32m----> 7\u001b[0m     \u001b[38;5;28;01mif\u001b[39;00m(a\u001b[38;5;241m>\u001b[39mmax1\u001b[38;5;241m.\u001b[39mtop):\n\u001b[0;32m      8\u001b[0m         max1\u001b[38;5;241m.\u001b[39mpop()\n\u001b[0;32m      9\u001b[0m         max1\u001b[38;5;241m.\u001b[39mappend(a)\n",
      "\u001b[1;31mAttributeError\u001b[0m: 'list' object has no attribute 'top'"
     ]
    }
   ],
   "source": [
    "def histoQ(arr):\n",
    "    stack=[]\n",
    "    max=0\n",
    "    for i,j in enumerate(arr):\n",
    "        while stack and high[stack[-1]]>j:\n",
    "            h=high[stack.pop()]\n",
    "            w=i if not stack else i-stack[-1]-1\n",
    "            max=max(max,h,w)\n",
    "        stack.append(i)\n",
    "\n",
    "histoQ([2, 1, 5, 6, 2, 3])"
   ]
  },
  {
   "cell_type": "code",
   "execution_count": null,
   "id": "faef2d1c-cf89-483e-896f-5504caf4a7b3",
   "metadata": {},
   "outputs": [],
   "source": []
  },
  {
   "cell_type": "code",
   "execution_count": null,
   "id": "5f1eefe3-4fa3-4a63-9f49-2304dcbec6a6",
   "metadata": {},
   "outputs": [],
   "source": []
  }
 ],
 "metadata": {
  "kernelspec": {
   "display_name": "Python 3 (ipykernel)",
   "language": "python",
   "name": "python3"
  },
  "language_info": {
   "codemirror_mode": {
    "name": "ipython",
    "version": 3
   },
   "file_extension": ".py",
   "mimetype": "text/x-python",
   "name": "python",
   "nbconvert_exporter": "python",
   "pygments_lexer": "ipython3",
   "version": "3.12.3"
  }
 },
 "nbformat": 4,
 "nbformat_minor": 5
}
