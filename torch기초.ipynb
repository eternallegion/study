{
 "cells": [
  {
   "cell_type": "code",
   "execution_count": 2,
   "id": "95fff260",
   "metadata": {},
   "outputs": [
    {
     "data": {
      "text/plain": [
       "'2.1.1+cu121'"
      ]
     },
     "execution_count": 2,
     "metadata": {},
     "output_type": "execute_result"
    }
   ],
   "source": [
    "import torch\n",
    "form torch.utils"
   ]
  },
  {
   "cell_type": "code",
   "execution_count": 7,
   "id": "af497abe",
   "metadata": {},
   "outputs": [
    {
     "data": {
      "text/plain": [
       "tensor([[0, 0, 0, 0, 0],\n",
       "        [0, 0, 0, 0, 0],\n",
       "        [0, 0, 0, 0, 0],\n",
       "        [0, 0, 0, 0, 0]])"
      ]
     },
     "execution_count": 7,
     "metadata": {},
     "output_type": "execute_result"
    }
   ],
   "source": [
    "x=torch.zeros(4,5,dtype=torch.long)\n",
    "x"
   ]
  },
  {
   "cell_type": "code",
   "execution_count": 10,
   "id": "2bba598d",
   "metadata": {},
   "outputs": [
    {
     "data": {
      "text/plain": [
       "tensor([3.0000, 2.4000])"
      ]
     },
     "execution_count": 10,
     "metadata": {},
     "output_type": "execute_result"
    }
   ],
   "source": [
    "x=torch.tensor([3,2.4])\n",
    "x"
   ]
  },
  {
   "cell_type": "code",
   "execution_count": 13,
   "id": "8fde1c94",
   "metadata": {},
   "outputs": [
    {
     "data": {
      "text/plain": [
       "tensor([[1., 1., 1., 1., 1.],\n",
       "        [1., 1., 1., 1., 1.],\n",
       "        [1., 1., 1., 1., 1.],\n",
       "        [1., 1., 1., 1., 1.]], dtype=torch.float64)"
      ]
     },
     "execution_count": 13,
     "metadata": {},
     "output_type": "execute_result"
    }
   ],
   "source": [
    "x=x.new_ones(4,5,dtype=torch.double)\n",
    "x"
   ]
  },
  {
   "cell_type": "code",
   "execution_count": 20,
   "id": "4f18bcd2",
   "metadata": {},
   "outputs": [
    {
     "ename": "RuntimeError",
     "evalue": "\"check_uniform_bounds\" not implemented for 'Int'",
     "output_type": "error",
     "traceback": [
      "\u001b[0;31m---------------------------------------------------------------------------\u001b[0m",
      "\u001b[0;31mRuntimeError\u001b[0m                              Traceback (most recent call last)",
      "\u001b[0;32m/tmp/ipykernel_17195/986496752.py\u001b[0m in \u001b[0;36m<module>\u001b[0;34m\u001b[0m\n\u001b[0;32m----> 1\u001b[0;31m \u001b[0mx\u001b[0m\u001b[0;34m=\u001b[0m\u001b[0mtorch\u001b[0m\u001b[0;34m.\u001b[0m\u001b[0mrand_like\u001b[0m\u001b[0;34m(\u001b[0m\u001b[0mx\u001b[0m\u001b[0;34m,\u001b[0m\u001b[0mdtype\u001b[0m\u001b[0;34m=\u001b[0m\u001b[0mtorch\u001b[0m\u001b[0;34m.\u001b[0m\u001b[0mint\u001b[0m\u001b[0;34m)\u001b[0m\u001b[0;34m\u001b[0m\u001b[0;34m\u001b[0m\u001b[0m\n\u001b[0m\u001b[1;32m      2\u001b[0m \u001b[0mx\u001b[0m\u001b[0;34m.\u001b[0m\u001b[0msize\u001b[0m\u001b[0;34m(\u001b[0m\u001b[0;34m)\u001b[0m\u001b[0;34m\u001b[0m\u001b[0;34m\u001b[0m\u001b[0m\n",
      "\u001b[0;31mRuntimeError\u001b[0m: \"check_uniform_bounds\" not implemented for 'Int'"
     ]
    }
   ],
   "source": [
    "x=torch.rand_like(x,dtype=torch.int)\n",
    "x.size()"
   ]
  },
  {
   "cell_type": "code",
   "execution_count": 24,
   "id": "3ce82cee",
   "metadata": {},
   "outputs": [
    {
     "data": {
      "text/plain": [
       "torch.Size([3])"
      ]
     },
     "execution_count": 24,
     "metadata": {},
     "output_type": "execute_result"
    }
   ],
   "source": [
    "x=torch.cuda.IntTensor([1,2,3])\n",
    "x\n",
    "x.size()"
   ]
  },
  {
   "cell_type": "code",
   "execution_count": 27,
   "id": "97d2e099",
   "metadata": {},
   "outputs": [
    {
     "data": {
      "text/plain": [
       "tensor([1, 2, 3], device='cuda:0')"
      ]
     },
     "execution_count": 27,
     "metadata": {},
     "output_type": "execute_result"
    }
   ],
   "source": [
    "x.long()"
   ]
  },
  {
   "cell_type": "raw",
   "id": "67cddc74",
   "metadata": {},
   "source": [
    "tensor"
   ]
  },
  {
   "cell_type": "code",
   "execution_count": 34,
   "id": "6c9d116f",
   "metadata": {},
   "outputs": [
    {
     "name": "stdout",
     "output_type": "stream",
     "text": [
      "tensor([0.9099])\n",
      "0.9099021553993225\n",
      "torch.float32\n"
     ]
    }
   ],
   "source": [
    "x=torch.randn(1)\n",
    "print(x)\n",
    "print(x.item())\n",
    "print(x.dtype)"
   ]
  },
  {
   "cell_type": "code",
   "execution_count": 35,
   "id": "0ae92aa4",
   "metadata": {},
   "outputs": [
    {
     "name": "stdout",
     "output_type": "stream",
     "text": [
      "cuda mode\n",
      "tensor([0.9099])\n",
      "tensor([1.], device='cuda:0')\n"
     ]
    },
    {
     "ename": "RuntimeError",
     "evalue": "Expected all tensors to be on the same device, but found at least two devices, cuda:0 and cpu!",
     "output_type": "error",
     "traceback": [
      "\u001b[0;31m---------------------------------------------------------------------------\u001b[0m",
      "\u001b[0;31mRuntimeError\u001b[0m                              Traceback (most recent call last)",
      "\u001b[0;32m/tmp/ipykernel_17195/835459308.py\u001b[0m in \u001b[0;36m<module>\u001b[0;34m\u001b[0m\n\u001b[1;32m      4\u001b[0m \u001b[0mprint\u001b[0m\u001b[0;34m(\u001b[0m\u001b[0mx\u001b[0m\u001b[0;34m)\u001b[0m\u001b[0;34m\u001b[0m\u001b[0;34m\u001b[0m\u001b[0m\n\u001b[1;32m      5\u001b[0m \u001b[0mprint\u001b[0m\u001b[0;34m(\u001b[0m\u001b[0my\u001b[0m\u001b[0;34m)\u001b[0m\u001b[0;34m\u001b[0m\u001b[0;34m\u001b[0m\u001b[0m\n\u001b[0;32m----> 6\u001b[0;31m \u001b[0mz\u001b[0m\u001b[0;34m=\u001b[0m\u001b[0mx\u001b[0m\u001b[0;34m+\u001b[0m\u001b[0my\u001b[0m\u001b[0;34m\u001b[0m\u001b[0;34m\u001b[0m\u001b[0m\n\u001b[0m\u001b[1;32m      7\u001b[0m \u001b[0mprint\u001b[0m\u001b[0;34m(\u001b[0m\u001b[0mz\u001b[0m\u001b[0;34m)\u001b[0m\u001b[0;34m\u001b[0m\u001b[0;34m\u001b[0m\u001b[0m\n\u001b[1;32m      8\u001b[0m \u001b[0mprint\u001b[0m\u001b[0;34m(\u001b[0m\u001b[0mz\u001b[0m\u001b[0;34m.\u001b[0m\u001b[0mto\u001b[0m\u001b[0;34m(\u001b[0m\u001b[0;34m'cpu'\u001b[0m\u001b[0;34m,\u001b[0m\u001b[0mtorch\u001b[0m\u001b[0;34m.\u001b[0m\u001b[0mdouble\u001b[0m\u001b[0;34m)\u001b[0m\u001b[0;34m)\u001b[0m\u001b[0;34m\u001b[0m\u001b[0;34m\u001b[0m\u001b[0m\n",
      "\u001b[0;31mRuntimeError\u001b[0m: Expected all tensors to be on the same device, but found at least two devices, cuda:0 and cpu!"
     ]
    }
   ],
   "source": [
    "device=torch.device('cuda'if torch.cuda.is_available() else'CPU')\n",
    "print(f'{device} mode')\n",
    "y=torch.ones_like(x,device=device)\n",
    "print(x)\n",
    "print(y)\n",
    "z=x+y\n",
    "print(z)\n",
    "print(z.to('cpu',torch.double))"
   ]
  },
  {
   "cell_type": "code",
   "execution_count": 36,
   "id": "bb2646a2",
   "metadata": {},
   "outputs": [
    {
     "name": "stdout",
     "output_type": "stream",
     "text": [
      "tensor([[-0.8685, -0.8809]])\n",
      "tensor([[0.8685, 0.8809]])\n",
      "tensor([[-0., -0.]])\n",
      "tensor([[-1., -1.]])\n",
      "tensor([[-0.5000, -0.5000]])\n"
     ]
    }
   ],
   "source": [
    "import math\n",
    "\n",
    "a=torch.rand(1,2)*2-1\n",
    "print(a)\n",
    "print(torch.abs(a))\n",
    "print(torch.ceil(a))\n",
    "print(torch.floor(a))\n",
    "print(torch.clamp(a,-0.5,0.5))"
   ]
  },
  {
   "cell_type": "code",
   "execution_count": null,
   "id": "d0b76aef",
   "metadata": {},
   "outputs": [],
   "source": []
  },
  {
   "cell_type": "code",
   "execution_count": null,
   "id": "318874e6",
   "metadata": {},
   "outputs": [],
   "source": []
  },
  {
   "cell_type": "code",
   "execution_count": 42,
   "id": "9028eb45",
   "metadata": {},
   "outputs": [
    {
     "name": "stdout",
     "output_type": "stream",
     "text": [
      "tensor([[ 3.4599e-01,  7.2298e-01,  2.7147e-01,  8.9141e-01, -1.0599e-01],\n",
      "        [ 3.8128e-01, -8.6248e-01, -8.4854e-01,  7.6116e-01,  2.0464e+00],\n",
      "        [ 5.3688e-01,  1.5905e-03, -1.2695e+00, -2.7470e+00, -7.1287e-01],\n",
      "        [ 1.1109e+00, -3.9127e-01,  1.8254e+00,  6.6396e-01, -9.5463e-01]])\n",
      "tensor([ 3.4599e-01,  7.2298e-01,  2.7147e-01,  8.9141e-01, -1.0599e-01,\n",
      "         3.8128e-01, -8.6248e-01, -8.4854e-01,  7.6116e-01,  2.0464e+00,\n",
      "         5.3688e-01,  1.5905e-03, -1.2695e+00, -2.7470e+00, -7.1287e-01,\n",
      "         1.1109e+00, -3.9127e-01,  1.8254e+00,  6.6396e-01, -9.5463e-01])\n",
      "tensor([[ 3.4599e-01,  7.2298e-01,  2.7147e-01,  8.9141e-01],\n",
      "        [-1.0599e-01,  3.8128e-01, -8.6248e-01, -8.4854e-01],\n",
      "        [ 7.6116e-01,  2.0464e+00,  5.3688e-01,  1.5905e-03],\n",
      "        [-1.2695e+00, -2.7470e+00, -7.1287e-01,  1.1109e+00],\n",
      "        [-3.9127e-01,  1.8254e+00,  6.6396e-01, -9.5463e-01]])\n"
     ]
    }
   ],
   "source": [
    "x=torch.randn(4,5)\n",
    "print(x)\n",
    "y=x.view(20)\n",
    "print(y)\n",
    "z=x.view(5,-1)  #->-1은 컴에게 알라서 하라는 의미\n",
    "print(z)"
   ]
  },
  {
   "cell_type": "code",
   "execution_count": 44,
   "id": "a248f17b",
   "metadata": {},
   "outputs": [
    {
     "name": "stdout",
     "output_type": "stream",
     "text": [
      "tensor([-0.6418])\n",
      "-0.641831636428833\n"
     ]
    }
   ],
   "source": [
    "x=torch.randn(1)\n",
    "print(x)\n",
    "print(x.item()) #->요소값을 자세히 표시하는 놈"
   ]
  },
  {
   "cell_type": "code",
   "execution_count": 54,
   "id": "4f841eae",
   "metadata": {},
   "outputs": [
    {
     "name": "stdout",
     "output_type": "stream",
     "text": [
      "tensor([[[-0.0096,  1.1404,  1.0293],\n",
      "         [ 0.3941, -0.9326,  0.6857],\n",
      "         [ 1.0929,  0.1834, -0.2519]]])\n",
      "torch.Size([3, 3])\n",
      "tensor([[-0.0096,  1.1404,  1.0293],\n",
      "        [ 0.3941, -0.9326,  0.6857],\n",
      "        [ 1.0929,  0.1834, -0.2519]])\n",
      "torch.Size([1, 3, 3, 1])\n",
      "tensor([[[[-0.0096],\n",
      "          [ 1.1404],\n",
      "          [ 1.0293]],\n",
      "\n",
      "         [[ 0.3941],\n",
      "          [-0.9326],\n",
      "          [ 0.6857]],\n",
      "\n",
      "         [[ 1.0929],\n",
      "          [ 0.1834],\n",
      "          [-0.2519]]]])\n"
     ]
    }
   ],
   "source": [
    "x=torch.randn(1,3,3)\n",
    "print(x)\n",
    "t=x.squeeze()\n",
    "print(t.shape)\n",
    "print(t)\n",
    "t=x.unsqueeze(dim=-1)\n",
    "print(t.shape)\n",
    "print(t)"
   ]
  },
  {
   "cell_type": "code",
   "execution_count": 56,
   "id": "e3c06c7c",
   "metadata": {},
   "outputs": [
    {
     "name": "stdout",
     "output_type": "stream",
     "text": [
      "tensor([1., 4.])\n",
      "tensor([2., 4.])\n",
      "tensor([3., 4.])\n"
     ]
    },
    {
     "data": {
      "text/plain": [
       "tensor([[1., 4.],\n",
       "        [2., 4.],\n",
       "        [3., 4.]])"
      ]
     },
     "execution_count": 56,
     "metadata": {},
     "output_type": "execute_result"
    }
   ],
   "source": [
    "#stack->tensor간 결합.\n",
    "x=torch.FloatTensor([1,4])\n",
    "print(x)\n",
    "y=torch.FloatTensor([2,4])\n",
    "print(y)\n",
    "z=torch.FloatTensor([3,4])\n",
    "print(z)\n",
    "torch.stack([x,y,z])"
   ]
  },
  {
   "cell_type": "code",
   "execution_count": 59,
   "id": "697eaba7",
   "metadata": {},
   "outputs": [
    {
     "name": "stdout",
     "output_type": "stream",
     "text": [
      "tensor([[[-0.6660, -0.2454,  0.8864],\n",
      "         [ 0.5101,  0.4208, -1.1844]]])\n",
      "tensor([[[-0.6660, -0.2454,  0.8864],\n",
      "         [ 0.5101,  0.4208, -1.1844]]])\n",
      "tensor([[[-0.6660, -0.2454,  0.8864],\n",
      "         [ 0.5101,  0.4208, -1.1844]]])\n"
     ]
    }
   ],
   "source": [
    "#cat ->결합(컨케터네이트) dim=x :몇번째를 기준으로 할것인가\n",
    "a=torch.randn(1,2,3)\n",
    "print(a)\n",
    "b=torch.randn(1,2,3)\n",
    "print(a)\n",
    "c=torch.cat((a,b),dim=1)\n",
    "print(a)"
   ]
  },
  {
   "cell_type": "code",
   "execution_count": 75,
   "id": "58c1b35f",
   "metadata": {},
   "outputs": [
    {
     "name": "stdout",
     "output_type": "stream",
     "text": [
      "tensor([[-1.6426,  0.1986,  0.2050,  0.9172, -0.6939,  0.4250],\n",
      "        [ 0.3290, -1.6789, -0.3216, -1.2166,  0.3894,  0.4547],\n",
      "        [ 0.2738, -1.3734, -1.4025, -0.0725,  0.0253,  0.7882]])\n",
      "tensor([[-1.6426,  0.1986],\n",
      "        [ 0.3290, -1.6789],\n",
      "        [ 0.2738, -1.3734]])\n",
      "tensor([[ 0.2050,  0.9172],\n",
      "        [-0.3216, -1.2166],\n",
      "        [-1.4025, -0.0725]])\n",
      "tensor([[-0.6939,  0.4250],\n",
      "        [ 0.3894,  0.4547],\n",
      "        [ 0.0253,  0.7882]])\n"
     ]
    }
   ],
   "source": [
    "tensor=torch.randn(3,6)\n",
    "print(tensor)\n",
    "\n",
    "#t1,t2,t3=torch.chunk(tensor,3,dim=1)  #chunk->합쳐진놈을 몇 개로 쪼개는것 기준=dim=x 비슷한 놈으로 split이 존재(텐서 크기가 몇 인가로 나눔)\n",
    "t1,t2,t3=torch.split(tensor,2,dim=1)  #chunk->합쳐진놈을 몇 개로 쪼개는것 기준=dim=x 비슷한 놈으로 split이 존재(텐서 크기가 몇 인가로 나눔)\n",
    "\n",
    "print(t1)\n",
    "print(t2)\n",
    "print(t3)"
   ]
  },
  {
   "cell_type": "code",
   "execution_count": 78,
   "id": "51300dfc",
   "metadata": {},
   "outputs": [
    {
     "name": "stdout",
     "output_type": "stream",
     "text": [
      "tensor([1., 1., 1., 1., 1., 1., 1.])\n",
      "[1. 1. 1. 1. 1. 1. 1.]\n",
      "tensor([2., 2., 2., 2., 2., 2., 2.])\n",
      "[2. 2. 2. 2. 2. 2. 2.]\n"
     ]
    }
   ],
   "source": [
    "#메모리가 공유됨(CPU한정)\n",
    "\n",
    "a=torch.ones(7)\n",
    "b=a.numpy()\n",
    "print(a)\n",
    "print(b)\n",
    "a.add_(1)\n",
    "print(a)\n",
    "print(b)"
   ]
  },
  {
   "cell_type": "code",
   "execution_count": 84,
   "id": "0614d3b7",
   "metadata": {},
   "outputs": [
    {
     "name": "stdout",
     "output_type": "stream",
     "text": [
      "tensor([[-1.8034,  0.3982, -3.0322],\n",
      "        [ 0.1118, -4.9755,  2.7026],\n",
      "        [-2.0886,  5.3565,  0.1524]])\n",
      "False\n"
     ]
    }
   ],
   "source": [
    "#오토그레디어트\n",
    "a=torch.randn(3,3)\n",
    "a=a*3\n",
    "print(a)\n",
    "print(a.requires_grad)"
   ]
  },
  {
   "cell_type": "code",
   "execution_count": 113,
   "id": "72256b39",
   "metadata": {},
   "outputs": [
    {
     "name": "stdout",
     "output_type": "stream",
     "text": [
      "True\n",
      "tensor(77.7554, grad_fn=<SumBackward0>)\n",
      "<SumBackward0 object at 0x7f4cb9350eb0>\n"
     ]
    }
   ],
   "source": [
    "a.requires_grad_(True)\n",
    "print(z.requires_grad)\n",
    "\n",
    "b=(a*a).sum()\n",
    "print(b)\n",
    "print(b.grad_fn)"
   ]
  },
  {
   "cell_type": "code",
   "execution_count": 114,
   "id": "c8f568c4",
   "metadata": {},
   "outputs": [
    {
     "name": "stdout",
     "output_type": "stream",
     "text": [
      "tensor([[1., 1., 1.],\n",
      "        [1., 1., 1.],\n",
      "        [1., 1., 1.]], requires_grad=True)\n"
     ]
    }
   ],
   "source": [
    "#gradient\n",
    "x=torch.ones(3,3, requires_grad=True)\n",
    "print(x)\n"
   ]
  },
  {
   "cell_type": "code",
   "execution_count": 115,
   "id": "eabafaf1",
   "metadata": {},
   "outputs": [
    {
     "name": "stdout",
     "output_type": "stream",
     "text": [
      "tensor([[6., 6., 6.],\n",
      "        [6., 6., 6.],\n",
      "        [6., 6., 6.]], grad_fn=<AddBackward0>)\n",
      "tensor([[36., 36., 36.],\n",
      "        [36., 36., 36.],\n",
      "        [36., 36., 36.]], grad_fn=<MulBackward0>) tensor(36., grad_fn=<MeanBackward0>)\n",
      "tensor(36., grad_fn=<MeanBackward0>)\n",
      "tensor([[1.3333, 1.3333, 1.3333],\n",
      "        [1.3333, 1.3333, 1.3333],\n",
      "        [1.3333, 1.3333, 1.3333]])\n"
     ]
    }
   ],
   "source": [
    "y=x+5\n",
    "print(y)\n",
    "z=y*y\n",
    "out=z.mean()\n",
    "print(z,out)\n",
    "\n",
    "print(out)\n",
    "out.backward()\n",
    "print(x.grad)"
   ]
  },
  {
   "cell_type": "code",
   "execution_count": null,
   "id": "94caf516",
   "metadata": {},
   "outputs": [],
   "source": []
  },
  {
   "cell_type": "code",
   "execution_count": 116,
   "id": "e697a32f",
   "metadata": {},
   "outputs": [
    {
     "name": "stdout",
     "output_type": "stream",
     "text": [
      "tensor([4078.4043, 6410.8340, 7465.1289], grad_fn=<MulBackward0>)\n",
      "tensor([ 1638.4000, 16384.0000,    16.3840])\n"
     ]
    }
   ],
   "source": [
    "x=torch.rand(3,requires_grad=True)\n",
    "y=x*2\n",
    "while y.data.norm()<10000:\n",
    "    y=y*2\n",
    "    \n",
    "print(y)\n",
    "v=torch.tensor([0.1,1.0,0.001],dtype=torch.float)\n",
    "y.backward(v)\n",
    "print(x.grad)"
   ]
  },
  {
   "cell_type": "code",
   "execution_count": 119,
   "id": "571d13ac",
   "metadata": {},
   "outputs": [
    {
     "name": "stdout",
     "output_type": "stream",
     "text": [
      "4\n",
      "9\n"
     ]
    }
   ],
   "source": [
    "a, b=2, 5\n",
    "def add(num):\n",
    "    global a\n",
    "    a += num\n",
    "    return a\n",
    "\n",
    "def adds(num):\n",
    "    global b\n",
    "    b += num\n",
    "    return b\n",
    "\n",
    "print(add(2))\n",
    "print(adds(4))\n"
   ]
  },
  {
   "cell_type": "code",
   "execution_count": 137,
   "id": "51b95c2b",
   "metadata": {},
   "outputs": [
    {
     "name": "stdout",
     "output_type": "stream",
     "text": [
      "4\n",
      "6\n"
     ]
    }
   ],
   "source": [
    "class test:\n",
    "    def __init__(self):\n",
    "        self.result=0\n",
    "    def add(self,num):\n",
    "        self.result += num\n",
    "        return self.result\n",
    "    def zmfhtm(self,num):\n",
    "        self.result **= num\n",
    "        return self.result\n",
    "cal1=test()\n",
    "cal2=test()\n",
    "\n",
    "print(cal1.add(4))\n",
    "print(cal1.add(2))\n"
   ]
  },
  {
   "cell_type": "code",
   "execution_count": 140,
   "id": "e87a4a3e",
   "metadata": {},
   "outputs": [
    {
     "name": "stdout",
     "output_type": "stream",
     "text": [
      "tensor([[3.],\n",
      "        [4.],\n",
      "        [5.]]),tensor([[3.],\n",
      "        [5.],\n",
      "        [6.]])\n"
     ]
    }
   ],
   "source": [
    "x_train=torch.FloatTensor([[3],[4],[5]])\n",
    "y_train=torch.FloatTensor([[3],[5],[6]])\n",
    "print(f'{x_train},{y_train}')"
   ]
  },
  {
   "cell_type": "code",
   "execution_count": 263,
   "id": "070d3d3b",
   "metadata": {},
   "outputs": [],
   "source": [
    "import torch\n",
    "from torch import nn\n",
    "import torch.nn.functional as fn\n",
    "import torch.optim as opt"
   ]
  },
  {
   "cell_type": "code",
   "execution_count": 264,
   "id": "b60ec558",
   "metadata": {},
   "outputs": [
    {
     "data": {
      "text/plain": [
       "<torch._C.Generator at 0x7f4dc01a4890>"
      ]
     },
     "execution_count": 264,
     "metadata": {},
     "output_type": "execute_result"
    }
   ],
   "source": [
    "torch.manual_seed(1)"
   ]
  },
  {
   "cell_type": "code",
   "execution_count": 265,
   "id": "3f6a8e99",
   "metadata": {},
   "outputs": [
    {
     "data": {
      "text/plain": [
       "tensor([0.], requires_grad=True)"
      ]
     },
     "execution_count": 265,
     "metadata": {},
     "output_type": "execute_result"
    }
   ],
   "source": [
    "w=torch.zeros(1,requires_grad=True)\n",
    "w"
   ]
  },
  {
   "cell_type": "code",
   "execution_count": 266,
   "id": "23713373",
   "metadata": {},
   "outputs": [
    {
     "name": "stdout",
     "output_type": "stream",
     "text": [
      "tensor([0.], requires_grad=True)\n"
     ]
    }
   ],
   "source": [
    "b = torch.zeros(1, requires_grad=True)\n",
    "print(b)\n"
   ]
  },
  {
   "cell_type": "code",
   "execution_count": 267,
   "id": "5c07fcb6",
   "metadata": {},
   "outputs": [
    {
     "name": "stdout",
     "output_type": "stream",
     "text": [
      "tensor([[0.],\n",
      "        [0.],\n",
      "        [0.]], grad_fn=<AddBackward0>)\n"
     ]
    }
   ],
   "source": [
    "hyper=x_train*w+b\n",
    "print(hyper)"
   ]
  },
  {
   "cell_type": "code",
   "execution_count": 268,
   "id": "df90e04b",
   "metadata": {},
   "outputs": [
    {
     "name": "stdout",
     "output_type": "stream",
     "text": [
      "tensor(18.6667, grad_fn=<MeanBackward0>)\n"
     ]
    }
   ],
   "source": [
    "cost=torch.mean((hyper-y_train)**2)\n",
    "print(cost)"
   ]
  },
  {
   "cell_type": "code",
   "execution_count": 269,
   "id": "6075c87b",
   "metadata": {},
   "outputs": [],
   "source": [
    "opt=opt.SGD([w,b],lr=0.01)\n",
    "#optimizer = opt.SGD([w, b], lr=0.01)\n"
   ]
  },
  {
   "cell_type": "code",
   "execution_count": 289,
   "id": "7242acbd",
   "metadata": {},
   "outputs": [
    {
     "ename": "AttributeError",
     "evalue": "module 'torch.optim' has no attribute 'zero_grad'",
     "output_type": "error",
     "traceback": [
      "\u001b[0;31m---------------------------------------------------------------------------\u001b[0m",
      "\u001b[0;31mAttributeError\u001b[0m                            Traceback (most recent call last)",
      "\u001b[0;32m/tmp/ipykernel_17195/3540245081.py\u001b[0m in \u001b[0;36m<module>\u001b[0;34m\u001b[0m\n\u001b[0;32m----> 1\u001b[0;31m \u001b[0mopt\u001b[0m\u001b[0;34m.\u001b[0m\u001b[0mzero_grad\u001b[0m\u001b[0;34m(\u001b[0m\u001b[0;34m)\u001b[0m\u001b[0;34m\u001b[0m\u001b[0;34m\u001b[0m\u001b[0m\n\u001b[0m\u001b[1;32m      2\u001b[0m \u001b[0;34m\u001b[0m\u001b[0m\n\u001b[1;32m      3\u001b[0m \u001b[0mcost\u001b[0m\u001b[0;34m.\u001b[0m\u001b[0mbackward\u001b[0m\u001b[0;34m(\u001b[0m\u001b[0;34m)\u001b[0m\u001b[0;34m\u001b[0m\u001b[0;34m\u001b[0m\u001b[0m\n\u001b[1;32m      4\u001b[0m \u001b[0;34m\u001b[0m\u001b[0m\n\u001b[1;32m      5\u001b[0m \u001b[0mopt\u001b[0m\u001b[0;34m.\u001b[0m\u001b[0mstep\u001b[0m\u001b[0;34m(\u001b[0m\u001b[0;34m)\u001b[0m\u001b[0;34m\u001b[0m\u001b[0;34m\u001b[0m\u001b[0m\n",
      "\u001b[0;31mAttributeError\u001b[0m: module 'torch.optim' has no attribute 'zero_grad'"
     ]
    }
   ],
   "source": [
    "opt.zero_grad()\n",
    "\n",
    "cost.backward()\n",
    "\n",
    "opt.step()"
   ]
  },
  {
   "cell_type": "code",
   "execution_count": 293,
   "id": "172fe890",
   "metadata": {},
   "outputs": [
    {
     "name": "stdout",
     "output_type": "stream",
     "text": [
      "Epoch    0/2000 W: 0.187, b: 0.080 Cost: 18.666666\n",
      "Epoch  100/2000 W: 1.746, b: 0.578 Cost: 0.048171\n",
      "Epoch  200/2000 W: 1.800, b: 0.454 Cost: 0.029767\n",
      "Epoch  300/2000 W: 1.843, b: 0.357 Cost: 0.018394\n",
      "Epoch  400/2000 W: 1.876, b: 0.281 Cost: 0.011366\n",
      "Epoch  500/2000 W: 1.903, b: 0.221 Cost: 0.007024\n",
      "Epoch  600/2000 W: 1.924, b: 0.174 Cost: 0.004340\n",
      "Epoch  700/2000 W: 1.940, b: 0.136 Cost: 0.002682\n",
      "Epoch  800/2000 W: 1.953, b: 0.107 Cost: 0.001657\n",
      "Epoch  900/2000 W: 1.963, b: 0.084 Cost: 0.001024\n",
      "Epoch 1000/2000 W: 1.971, b: 0.066 Cost: 0.000633\n",
      "Epoch 1100/2000 W: 1.977, b: 0.052 Cost: 0.000391\n",
      "Epoch 1200/2000 W: 1.982, b: 0.041 Cost: 0.000242\n",
      "Epoch 1300/2000 W: 1.986, b: 0.032 Cost: 0.000149\n",
      "Epoch 1400/2000 W: 1.989, b: 0.025 Cost: 0.000092\n",
      "Epoch 1500/2000 W: 1.991, b: 0.020 Cost: 0.000057\n",
      "Epoch 1600/2000 W: 1.993, b: 0.016 Cost: 0.000035\n",
      "Epoch 1700/2000 W: 1.995, b: 0.012 Cost: 0.000022\n",
      "Epoch 1800/2000 W: 1.996, b: 0.010 Cost: 0.000013\n",
      "Epoch 1900/2000 W: 1.997, b: 0.008 Cost: 0.000008\n",
      "Epoch 2000/2000 W: 1.997, b: 0.006 Cost: 0.000005\n"
     ]
    }
   ],
   "source": [
    "import torch\n",
    "from torch import nn\n",
    "import torch.nn.functional as fn\n",
    "import torch.optim as opt\n",
    "\n",
    "# 데이터\n",
    "x_train = torch.FloatTensor([[1], [2], [3]])\n",
    "y_train = torch.FloatTensor([[2], [4], [6]])\n",
    "# 모델 초기화\n",
    "W = torch.zeros(1, requires_grad=True)\n",
    "b = torch.zeros(1, requires_grad=True)\n",
    "# optimizer 설정\n",
    "optimizer = opt.SGD([W, b], lr=0.01)\n",
    "\n",
    "nb_epochs = 2000 # 원하는만큼 경사 하강법을 반복\n",
    "for epoch in range(nb_epochs + 1):\n",
    "\n",
    "    # H(x) 계산\n",
    "    hypothesis = x_train * W + b\n",
    "\n",
    "    # cost 계산\n",
    "    cost = torch.mean((hypothesis - y_train) ** 2)\n",
    "\n",
    "    # cost로 H(x) 개선\n",
    "    optimizer.zero_grad()\n",
    "    cost.backward()\n",
    "    optimizer.step()\n",
    "\n",
    "    # 100번마다 로그 출력\n",
    "    if epoch % 100 == 0:\n",
    "        print('Epoch {:4d}/{} W: {:.3f}, b: {:.3f} Cost: {:.6f}'.format(\n",
    "            epoch, nb_epochs, W.item(), b.item(), cost.item()\n",
    "        ))\n",
    "\n"
   ]
  },
  {
   "cell_type": "code",
   "execution_count": 298,
   "id": "fb66c03a",
   "metadata": {},
   "outputs": [
    {
     "name": "stdout",
     "output_type": "stream",
     "text": [
      "2.0\n",
      "4.0\n",
      "6.0\n",
      "8.0\n",
      "10.0\n",
      "12.0\n",
      "14.0\n",
      "16.0\n",
      "18.0\n",
      "20.0\n",
      "22.0\n",
      "24.0\n",
      "26.0\n",
      "28.0\n",
      "30.0\n",
      "32.0\n",
      "34.0\n",
      "36.0\n",
      "38.0\n",
      "40.0\n",
      "42.0\n"
     ]
    }
   ],
   "source": [
    "import torch\n",
    "w=torch.tensor(2.0, requires_grad=True)\n",
    "nb_epoch=20\n",
    "for epochs in range(nb_epoch+1):\n",
    "    z=2*w\n",
    "    z.backward()\n",
    "    print('{}'.format(w.grad))"
   ]
  },
  {
   "cell_type": "code",
   "execution_count": 323,
   "id": "dda2a8a9",
   "metadata": {},
   "outputs": [
    {
     "name": "stdout",
     "output_type": "stream",
     "text": [
      "tensor([0.0043])\n",
      "tensor([0.1056])\n"
     ]
    }
   ],
   "source": [
    "import torch\n",
    "torch.manual_seed(3)\n",
    "for i in range(1,3):\n",
    "    print(torch.rand(1))"
   ]
  },
  {
   "cell_type": "code",
   "execution_count": 324,
   "id": "65129838",
   "metadata": {},
   "outputs": [
    {
     "name": "stdout",
     "output_type": "stream",
     "text": [
      "tensor([0.0043, 0.1056, 0.2858])\n"
     ]
    }
   ],
   "source": [
    "torch.manual_seed(3)\n",
    "print(torch.rand(3))"
   ]
  },
  {
   "cell_type": "code",
   "execution_count": 325,
   "id": "5e6d8ea1",
   "metadata": {},
   "outputs": [
    {
     "name": "stdout",
     "output_type": "stream",
     "text": [
      "82.0\n"
     ]
    }
   ],
   "source": [
    "y=w**2\n",
    "z=2*y+5\n",
    "z.backward()\n",
    "print('{}'.format(w.grad))"
   ]
  },
  {
   "cell_type": "code",
   "execution_count": 345,
   "id": "0e31cb44",
   "metadata": {},
   "outputs": [],
   "source": [
    "import torch\n",
    "from torch.utils.data import DataLoader\n",
    "import os\n",
    "import torch.nn as nn\n",
    "import torch.nn.functional as fg\n",
    "import torch.optim as opt"
   ]
  },
  {
   "cell_type": "code",
   "execution_count": 346,
   "id": "7ec298ed",
   "metadata": {},
   "outputs": [],
   "source": [
    "torch.manual_seed(1)\n",
    "\n",
    "x1_train=torch.FloatTensor([[23],[34],[45],[56]])\n",
    "x2_train=torch.FloatTensor([[88],[98],[45],[23]])\n",
    "x3_train=torch.FloatTensor([[45],[44],[47],[79]])\n",
    "y_train=torch.FloatTensor([[153],[159],[756],[256]])"
   ]
  },
  {
   "cell_type": "code",
   "execution_count": 347,
   "id": "200d9626",
   "metadata": {},
   "outputs": [],
   "source": [
    "w1=torch.zeros(1,requires_grad=True)\n",
    "w2=torch.zeros(1,requires_grad=True)\n",
    "w3=torch.zeros(1,requires_grad=True)\n",
    "b=torch.zeros(1,requires_grad=True)"
   ]
  },
  {
   "cell_type": "code",
   "execution_count": 348,
   "id": "5f73b734",
   "metadata": {},
   "outputs": [],
   "source": [
    "opt=opt.SGD([w1,w2,w3,b],lr=1e-5)\n",
    "nb_epoch=1000\n",
    "for eporchs in range(nb_epoch+1):\n",
    "    hyper=x1_train*w1+x2_train*w2+x3_train*w3+b\n",
    "    cost=torch.mean((hyper-y_train)**2)\n",
    "    opt.zero_grad()\n",
    "    cost.backward()\n",
    "    opt.step()\n",
    "    \n",
    "    if epochs % 100==0:\n",
    "        print('Epoch {:4d}/{} w1: {:.3f} w2: {:.3f} w3: {:.3f} b: {:.3f} Cost: {:.6f}'.format(\n",
    "            epoch, nb_epochs, w1.item(), w2.item(), w3.item(), b.item(), cost.item()\n",
    "        ))\n"
   ]
  },
  {
   "cell_type": "code",
   "execution_count": null,
   "id": "9d147613",
   "metadata": {},
   "outputs": [],
   "source": []
  },
  {
   "cell_type": "code",
   "execution_count": 352,
   "id": "b62ad15d",
   "metadata": {},
   "outputs": [
    {
     "name": "stdout",
     "output_type": "stream",
     "text": [
      "torch.Size([5, 3])\n",
      "torch.Size([5, 1])\n",
      "tensor(2., requires_grad=True)\n",
      "tensor([0.], requires_grad=True)\n"
     ]
    }
   ],
   "source": [
    "x_train  =  torch.FloatTensor([[73,  80,  75], \n",
    "                               [93,  88,  93], \n",
    "                               [89,  91,  80], \n",
    "                               [96,  98,  100],   \n",
    "                               [73,  66,  70]])  \n",
    "y_train  =  torch.FloatTensor([[152],  [185],  [180],  [196],  [142]])\n",
    "print(x_train.shape)\n",
    "print(y_train.shape)\n",
    "# 가중치와 편향 선언\n",
    "W = torch.zeros((3, 1), requires_grad=True)\n",
    "b = torch.zeros(1, requires_grad=True)\n",
    "print(w)\n",
    "print(b)"
   ]
  },
  {
   "cell_type": "code",
   "execution_count": 380,
   "id": "a28ec32a",
   "metadata": {},
   "outputs": [
    {
     "name": "stdout",
     "output_type": "stream",
     "text": [
      "[Parameter containing:\n",
      "tensor([[0.5153]], requires_grad=True), Parameter containing:\n",
      "tensor([-0.4414], requires_grad=True)]\n",
      "Epoch 0/2000 Cost: 13.103541374206543\n",
      "Epoch 100/2000 Cost: 0.00279058120213449\n",
      "Epoch 200/2000 Cost: 0.00172441138420254\n",
      "Epoch 300/2000 Cost: 0.0010655784280970693\n",
      "Epoch 400/2000 Cost: 0.0006584661896340549\n",
      "Epoch 500/2000 Cost: 0.0004068926500622183\n",
      "Epoch 600/2000 Cost: 0.0002514346851967275\n",
      "Epoch 700/2000 Cost: 0.00015537298168055713\n",
      "Epoch 800/2000 Cost: 9.601024794392288e-05\n",
      "Epoch 900/2000 Cost: 5.9327696362743154e-05\n",
      "Epoch 1000/2000 Cost: 3.66610438504722e-05\n",
      "Epoch 1100/2000 Cost: 2.2655576685792767e-05\n",
      "Epoch 1200/2000 Cost: 1.3999051589053124e-05\n",
      "Epoch 1300/2000 Cost: 8.65114816406276e-06\n",
      "Epoch 1400/2000 Cost: 5.346103989722906e-06\n",
      "Epoch 1500/2000 Cost: 3.3032331430149497e-06\n",
      "Epoch 1600/2000 Cost: 2.04174443751981e-06\n",
      "Epoch 1700/2000 Cost: 1.2618406799447257e-06\n",
      "Epoch 1800/2000 Cost: 7.801028800713539e-07\n",
      "Epoch 1900/2000 Cost: 4.823282324650791e-07\n",
      "Epoch 2000/2000 Cost: 2.982416447139258e-07\n"
     ]
    }
   ],
   "source": [
    "import torch\n",
    "import torch.nn as nn\n",
    "import torch.nn.functional as fn\n",
    "import torch.optim as opt\n",
    "torch.manual_seed(1)\n",
    "# 데이터\n",
    "x_train = torch.FloatTensor([[1], [2], [3]])\n",
    "y_train = torch.FloatTensor([[2], [4], [6]])\n",
    "\n",
    "model=nn.Linear(1,1)\n",
    "print(list(model.parameters()))\n",
    "\n",
    "opt=opt.SGD(model.parameters(),lr=0.01)\n",
    "# 전체 훈련 데이터에 대해 경사 하강법을 2,000회 반복\n",
    "nb_epochs = 2000\n",
    "for epoch in range(nb_epochs+1):\n",
    "\n",
    "    # H(x) 계산\n",
    "    prediction = model(x_train)\n",
    "\n",
    "    # cost 계산\n",
    "    cost = fn.mse_loss(prediction, y_train) # <== 파이토치에서 제공하는 평균 제곱 오차 함수\n",
    "\n",
    "    # cost로 H(x) 개선하는 부분\n",
    "    # gradient를 0으로 초기화\n",
    "    opt.zero_grad()\n",
    "    # 비용 함수를 미분하여 gradient 계산\n",
    "    cost.backward() # backward 연산\n",
    "    # W와 b를 업데이트\n",
    "    opt.step()\n",
    "\n",
    "    if epoch % 100 == 0:\n",
    "    # 100번마다 로그 출력\n",
    "      print(f'Epoch {epoch}/{nb_epochs} Cost: {cost.item()}')"
   ]
  },
  {
   "cell_type": "code",
   "execution_count": 384,
   "id": "3875150b",
   "metadata": {},
   "outputs": [
    {
     "name": "stdout",
     "output_type": "stream",
     "text": [
      "tensor([[7.9989]], grad_fn=<AddmmBackward0>)\n",
      "[Parameter containing:\n",
      "tensor([[1.9994]], requires_grad=True), Parameter containing:\n",
      "tensor([0.0014], requires_grad=True)]\n"
     ]
    }
   ],
   "source": [
    "new_val=torch.FloatTensor([[4.]])\n",
    "pred_y=model(new_val)\n",
    "print(pred_y)\n",
    "print(list(model.parameters()))"
   ]
  },
  {
   "cell_type": "code",
   "execution_count": 398,
   "id": "012fcf66",
   "metadata": {},
   "outputs": [
    {
     "name": "stdout",
     "output_type": "stream",
     "text": [
      "[Parameter containing:\n",
      "tensor([[ 0.2975, -0.2548, -0.1119]], requires_grad=True), Parameter containing:\n",
      "tensor([0.2710], requires_grad=True)]\n",
      "Epoch    0/2000 Cost: 31667.597656\n",
      "Epoch  100/2000 Cost: nan\n",
      "Epoch  200/2000 Cost: nan\n",
      "Epoch  300/2000 Cost: nan\n",
      "Epoch  400/2000 Cost: nan\n",
      "Epoch  500/2000 Cost: nan\n",
      "Epoch  600/2000 Cost: nan\n",
      "Epoch  700/2000 Cost: nan\n",
      "Epoch  800/2000 Cost: nan\n",
      "Epoch  900/2000 Cost: nan\n",
      "Epoch 1000/2000 Cost: nan\n",
      "Epoch 1100/2000 Cost: nan\n",
      "Epoch 1200/2000 Cost: nan\n",
      "Epoch 1300/2000 Cost: nan\n",
      "Epoch 1400/2000 Cost: nan\n",
      "Epoch 1500/2000 Cost: nan\n",
      "Epoch 1600/2000 Cost: nan\n",
      "Epoch 1700/2000 Cost: nan\n",
      "Epoch 1800/2000 Cost: nan\n",
      "Epoch 1900/2000 Cost: nan\n",
      "Epoch 2000/2000 Cost: nan\n"
     ]
    }
   ],
   "source": [
    "import torch\n",
    "import torch.nn as nn\n",
    "import torch.nn.functional as fn\n",
    "\n",
    "torch.manual_seed(1)\n",
    "\n",
    "# 데이터\n",
    "x_train = torch.FloatTensor([[73, 80, 75],\n",
    "                             [93, 88, 93],\n",
    "                             [89, 91, 90],\n",
    "                             [96, 98, 100],\n",
    "                             [73, 66, 70]])\n",
    "y_train = torch.FloatTensor([[152], [185], [180], [196], [142]])\n",
    "model=nn.Linear(3,1)\n",
    "print(list(model.parameters()))\n",
    "\n",
    "opt=torch.optim.SGD(model.parameters(),lr=1e-4)\n",
    "\n",
    "nb_epochs=2000\n",
    "for epoch in range(nb_epochs+1):\n",
    "    prediction=model(x_train)\n",
    "    cost=fn.mse_loss(prediction, y_train)\n",
    "    opt.zero_grad()\n",
    "    cost.backward()\n",
    "    opt.step()\n",
    "    \n",
    "    if epoch %100==0:\n",
    "        print('Epoch {:4d}/{} Cost: {:.6f}'.format(\n",
    "          epoch, nb_epochs, cost.item()\n",
    "      ))"
   ]
  },
  {
   "cell_type": "code",
   "execution_count": 401,
   "id": "e5095b25",
   "metadata": {},
   "outputs": [],
   "source": [
    "import torch\n",
    "import torch.nn as nn\n",
    "\n",
    "'''클래스(class) 형태의 모델은 nn.Module 을 상속받습니다. \n",
    "그리고 __init__()에서 모델의 구조와 동작을 정의하는 생성자를 정의합니다.\n",
    "이는 파이썬에서 객체가 갖는 속성값을 초기화하는 역할로,\n",
    "객체가 생성될 때 자동으로 호출됩니다. \n",
    "super() 함수를 부르면 여기서 만든 클래스는 nn.Module 클래스의 속성들을 가지고 초기화 됩니다. \n",
    "foward() 함수는 모델이 학습데이터를 입력받아서 forward 연산을 진행시키는 함수입니다.\n",
    "이 forward() 함수는 model 객체를 데이터와 함께 호출하면 자동으로 실행이됩니다.\n",
    "예를 들어 model이란 이름의 객체를 생성 후, model(입력 데이터)와 같은 형식으로 \n",
    "객체를 호출하면 자동으로 forward 연산이 수행됩니다.'''\n",
    "#model=nn.Linear(1,1) ->이게 저거\n",
    "class LRM(nn.Module):\n",
    "    def __init__(self):\n",
    "        super().__init__()\n",
    "        self.linear=nn.Linear(1,1)\n",
    "        \n",
    "    def forward(self, x):\n",
    "        return self.linear(x)\n",
    "    \n",
    "model=LRM()\n",
    "\n",
    "#model=nn.Linear(3,1)\n",
    "class MLRM(nn.Module):\n",
    "    def __init__(self):\n",
    "        super().__init__()\n",
    "        self.linear=nn.Linear(3,1)\n",
    "        \n",
    "    def forward(self,x):\n",
    "        return self.linear(x)\n",
    "    \n",
    "model=MLRM()"
   ]
  },
  {
   "cell_type": "code",
   "execution_count": 1,
   "id": "68425e50",
   "metadata": {},
   "outputs": [
    {
     "ename": "AttributeError",
     "evalue": "module 'torch.functional' has no attribute 'mse_loss'",
     "output_type": "error",
     "traceback": [
      "\u001b[0;31m---------------------------------------------------------------------------\u001b[0m",
      "\u001b[0;31mAttributeError\u001b[0m                            Traceback (most recent call last)",
      "Cell \u001b[0;32mIn[1], line 27\u001b[0m\n\u001b[1;32m     24\u001b[0m prediction \u001b[38;5;241m=\u001b[39m model(x_train)\n\u001b[1;32m     26\u001b[0m \u001b[38;5;66;03m#cost=fn.mse_loss(prediction,y_train)\u001b[39;00m\n\u001b[0;32m---> 27\u001b[0m cost\u001b[38;5;241m=\u001b[39m\u001b[43mF\u001b[49m\u001b[38;5;241;43m.\u001b[39;49m\u001b[43mmse_loss\u001b[49m(prediction,y_train)\n\u001b[1;32m     29\u001b[0m opt\u001b[38;5;241m.\u001b[39mzero_grad()\n\u001b[1;32m     30\u001b[0m cost\u001b[38;5;241m.\u001b[39mbackward()\n",
      "\u001b[0;31mAttributeError\u001b[0m: module 'torch.functional' has no attribute 'mse_loss'"
     ]
    }
   ],
   "source": [
    "import torch\n",
    "import torch.nn as nn\n",
    "import torch.functional as F\n",
    "torch.manual_seed(3)\n",
    "\n",
    "# 데이터\n",
    "x_train = torch.FloatTensor([[1], [2], [3]])\n",
    "y_train = torch.FloatTensor([[2], [4], [6]])\n",
    "\n",
    "class LRM(nn.Module):\n",
    "    def __init__(self):\n",
    "        super().__init__()\n",
    "        self.linear = nn.Linear(1, 1)\n",
    "\n",
    "    def forward(self, x):\n",
    "        return self.linear(x)\n",
    "model=LRM()\n",
    "\n",
    "opt=torch.optim.SGD(model.parameters(),lr=0.01)\n",
    "\n",
    "nb_epochs=20000\n",
    "for i in range(nb_epochs+1):\n",
    "    #prediction=model(x_train)\n",
    "    prediction = model(x_train)\n",
    "\n",
    "    #cost=fn.mse_loss(prediction,y_train)\n",
    "    cost=F.mse_loss(prediction,y_train)\n",
    "    \n",
    "    opt.zero_grad()\n",
    "    cost.backward()\n",
    "    opt.step()\n",
    "    if i %100==0:\n",
    "        print('Epoch {:4d}/{} Cost: {:.6f}'.format(\n",
    "          i, nb_epochs, cost.item()\n",
    "        ))        "
   ]
  },
  {
   "cell_type": "code",
   "execution_count": null,
   "id": "1e9ada22",
   "metadata": {},
   "outputs": [],
   "source": [
    "# 전체 훈련 데이터에 대해 경사 하강법을 2,000회 반복\n",
    "nb_epochs=2000\n",
    "for epoch in range(nb_epochs+1):\n",
    "\n",
    "    # H(x) 계산\n",
    "    prediction = model(x_train)\n",
    "\n",
    "    # cost 계산\n",
    "    cost = F.mse_loss(prediction, y_train) # <== 파이토치에서 제공하는 평균 제곱 오차 함수\n",
    "\n",
    "    # cost로 H(x) 개선하는 부분\n",
    "    # gradient를 0으로 초기화\n",
    "    opt.zero_grad()\n",
    "    # 비용 함수를 미분하여 gradient 계산\n",
    "    cost.backward() # backward 연산\n",
    "    # W와 b를 업데이트\n",
    "    opt.step()\n",
    "\n",
    "    if epoch % 100 == 0:\n",
    "    # 100번마다 로그 출력\n",
    "      print('Epoch {:4d}/{} Cost: {:.6f}'.format(\n",
    "          epoch, nb_epochs, cost.item()\n",
    "      ))\n"
   ]
  },
  {
   "cell_type": "code",
   "execution_count": null,
   "id": "3234f2d7",
   "metadata": {},
   "outputs": [],
   "source": []
  },
  {
   "cell_type": "code",
   "execution_count": null,
   "id": "de69f5cc",
   "metadata": {},
   "outputs": [],
   "source": []
  },
  {
   "cell_type": "code",
   "execution_count": null,
   "id": "987df420",
   "metadata": {},
   "outputs": [],
   "source": []
  },
  {
   "cell_type": "code",
   "execution_count": null,
   "id": "24e4cf72",
   "metadata": {},
   "outputs": [],
   "source": []
  },
  {
   "cell_type": "code",
   "execution_count": null,
   "id": "00979adb",
   "metadata": {},
   "outputs": [],
   "source": []
  },
  {
   "cell_type": "code",
   "execution_count": null,
   "id": "e5682250",
   "metadata": {},
   "outputs": [],
   "source": []
  },
  {
   "cell_type": "code",
   "execution_count": null,
   "id": "8d435422",
   "metadata": {},
   "outputs": [],
   "source": []
  },
  {
   "cell_type": "code",
   "execution_count": null,
   "id": "e6ca4d32",
   "metadata": {},
   "outputs": [],
   "source": []
  },
  {
   "cell_type": "code",
   "execution_count": null,
   "id": "baef13c2",
   "metadata": {},
   "outputs": [],
   "source": []
  },
  {
   "cell_type": "code",
   "execution_count": null,
   "id": "e7092787",
   "metadata": {},
   "outputs": [],
   "source": []
  },
  {
   "cell_type": "code",
   "execution_count": null,
   "id": "35e0f564",
   "metadata": {},
   "outputs": [],
   "source": []
  },
  {
   "cell_type": "code",
   "execution_count": null,
   "id": "c95076a4",
   "metadata": {},
   "outputs": [],
   "source": []
  },
  {
   "cell_type": "code",
   "execution_count": null,
   "id": "06a17a4a",
   "metadata": {},
   "outputs": [],
   "source": []
  },
  {
   "cell_type": "code",
   "execution_count": null,
   "id": "a38ab8d6",
   "metadata": {},
   "outputs": [],
   "source": []
  },
  {
   "cell_type": "code",
   "execution_count": null,
   "id": "eefb5d26",
   "metadata": {},
   "outputs": [],
   "source": []
  },
  {
   "cell_type": "code",
   "execution_count": null,
   "id": "a54c9cfa",
   "metadata": {},
   "outputs": [],
   "source": []
  },
  {
   "cell_type": "code",
   "execution_count": null,
   "id": "c36ad9c3",
   "metadata": {},
   "outputs": [],
   "source": []
  },
  {
   "cell_type": "code",
   "execution_count": null,
   "id": "14421124",
   "metadata": {},
   "outputs": [],
   "source": []
  },
  {
   "cell_type": "code",
   "execution_count": null,
   "id": "742bee15",
   "metadata": {},
   "outputs": [],
   "source": []
  },
  {
   "cell_type": "code",
   "execution_count": null,
   "id": "dc03ff71",
   "metadata": {},
   "outputs": [],
   "source": []
  },
  {
   "cell_type": "code",
   "execution_count": null,
   "id": "563cca4a",
   "metadata": {},
   "outputs": [],
   "source": []
  }
 ],
 "metadata": {
  "kernelspec": {
   "display_name": "Python 3 (ipykernel)",
   "language": "python",
   "name": "python3"
  },
  "language_info": {
   "codemirror_mode": {
    "name": "ipython",
    "version": 3
   },
   "file_extension": ".py",
   "mimetype": "text/x-python",
   "name": "python",
   "nbconvert_exporter": "python",
   "pygments_lexer": "ipython3",
   "version": "3.10.12"
  }
 },
 "nbformat": 4,
 "nbformat_minor": 5
}
