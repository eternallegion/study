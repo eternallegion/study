{
 "cells": [
  {
   "cell_type": "code",
   "execution_count": null,
   "id": "b699251c-d6fb-4c4d-972a-16905b055af9",
   "metadata": {},
   "outputs": [],
   "source": [
    "#리스트, 튜플, 문자열 기초"
   ]
  },
  {
   "cell_type": "code",
   "execution_count": 26,
   "id": "85ef87a7-34a5-4964-b540-87691e151739",
   "metadata": {},
   "outputs": [
    {
     "name": "stdout",
     "output_type": "stream",
     "text": [
      "[1, 2, 3, 4, 5, 6]\n",
      "[10, 2, 3, 5, 6]\n",
      "10\n",
      "5\n"
     ]
    }
   ],
   "source": [
    "#리스트는 데이터를 순서대로 저장하고 수정할 수 있는 자료구조. ->[]\n",
    "mylist=[1,2,3,4,5]\n",
    "mylist.append(6)\n",
    "print(mylist)\n",
    "#mylist.remove(7)에러 조재안하는 걸 지우라고 하니까.\n",
    "mylist.remove(4)\n",
    "mylist[0]=10\n",
    "print(mylist)\n",
    "print(mylist[0])\n",
    "print(len(mylist))"
   ]
  },
  {
   "cell_type": "code",
   "execution_count": 34,
   "id": "d06f4780-d597-44d0-b565-e81371c7d5ab",
   "metadata": {},
   "outputs": [
    {
     "name": "stdout",
     "output_type": "stream",
     "text": [
      "1\n",
      "5\n"
     ]
    }
   ],
   "source": [
    "#튜플은 리스트와 비슷하지만, 수정할 수 없는 자료구조 ->()\n",
    "mytuple=(1,2,3,4,5)\n",
    "print(mytuple[0])\n",
    "print(len(mytuple))\n",
    "\n",
    "#mytuple[0] = 10, mytuple.append(10) 수정, 추가는 불능"
   ]
  },
  {
   "cell_type": "code",
   "execution_count": 81,
   "id": "1149a6c3-a87c-468f-8600-51457c794283",
   "metadata": {},
   "outputs": [
    {
     "name": "stdout",
     "output_type": "stream",
     "text": [
      "12\n",
      " HELLO WORLD\n",
      " hello world\n",
      " hello Worl\n",
      " hel\n",
      " hello python\n"
     ]
    }
   ],
   "source": [
    "#문자열은 문자들의 시퀀스로, 다양한 메서드를 제공\n",
    "mystring=\" hello World\"\n",
    "print(len(mystring))# 공백포함\n",
    "print(mystring.upper())\n",
    "print(mystring.lower())\n",
    "print(mystring.strip('d')) #끝단의 공백만 지우기&괄호내부에 튻정 문자을 지정하면 끝부분에서 그놈을 조짐(단,공백없을경우)\n",
    "#SQL의 trim이랑 같은늠\n",
    "print(mystring[0:4])#0<=X<4\n",
    "print(mystring.replace(\"World\",\"python\"))\n",
    "#print(mystring.replace(\"World\"))SQL이랑 다르게 이놈은 제거는 불가"
   ]
  },
  {
   "cell_type": "code",
   "execution_count": 105,
   "id": "2ef02527-42c5-4da7-a2ec-be5f27f2bbfb",
   "metadata": {},
   "outputs": [
    {
     "name": "stdin",
     "output_type": "stream",
     "text": [
      " 2354\n"
     ]
    },
    {
     "name": "stdout",
     "output_type": "stream",
     "text": [
      "[2354]\n"
     ]
    },
    {
     "name": "stdin",
     "output_type": "stream",
     "text": [
      " 235\n"
     ]
    },
    {
     "name": "stdout",
     "output_type": "stream",
     "text": [
      "[2354, 235]\n"
     ]
    },
    {
     "name": "stdin",
     "output_type": "stream",
     "text": [
      " 2134\n"
     ]
    },
    {
     "name": "stdout",
     "output_type": "stream",
     "text": [
      "[2354, 235, 2134]\n"
     ]
    },
    {
     "name": "stdin",
     "output_type": "stream",
     "text": [
      " 464\n"
     ]
    },
    {
     "name": "stdout",
     "output_type": "stream",
     "text": [
      "[2354, 235, 2134, 464]\n"
     ]
    },
    {
     "name": "stdin",
     "output_type": "stream",
     "text": [
      " 56453\n"
     ]
    },
    {
     "name": "stdout",
     "output_type": "stream",
     "text": [
      "[2354, 235, 2134, 464, 56453]\n",
      "235\n",
      "56453\n"
     ]
    },
    {
     "data": {
      "text/plain": [
       "[235, 56453]"
      ]
     },
     "execution_count": 105,
     "metadata": {},
     "output_type": "execute_result"
    }
   ],
   "source": [
    "#실습\n",
    "#리스트 다루기\n",
    "list=[]\n",
    "while True:\n",
    "    try:\n",
    "        for i in range(1,6):\n",
    "            num=int(input())\n",
    "            list.append(num)\n",
    "            print(list)\n",
    "        break\n",
    "    except ValueError:\n",
    "        print(\"다시\")\n",
    "\n",
    "RElist=[]\n",
    "print(min(list))\n",
    "RElist.append(min(list))\n",
    "print(max(list))\n",
    "RElist.append(max(list))\n",
    "RElist"
   ]
  },
  {
   "cell_type": "code",
   "execution_count": 163,
   "id": "eacf0d30-ce6c-4701-816c-601464c2c868",
   "metadata": {},
   "outputs": [
    {
     "ename": "AttributeError",
     "evalue": "'str' object has no attribute 'reverce'",
     "output_type": "error",
     "traceback": [
      "\u001b[1;31m---------------------------------------------------------------------------\u001b[0m",
      "\u001b[1;31mAttributeError\u001b[0m                            Traceback (most recent call last)",
      "Cell \u001b[1;32mIn[163], line 2\u001b[0m\n\u001b[0;32m      1\u001b[0m a\u001b[38;5;241m=\u001b[39m\u001b[38;5;124m\"\u001b[39m\u001b[38;5;124m12345\u001b[39m\u001b[38;5;124m\"\u001b[39m\n\u001b[1;32m----> 2\u001b[0m a\u001b[38;5;241m.\u001b[39mreverce()\n",
      "\u001b[1;31mAttributeError\u001b[0m: 'str' object has no attribute 'reverce'"
     ]
    }
   ],
   "source": [
    "a=\"12345\"\n",
    "a.reverce()\n"
   ]
  },
  {
   "cell_type": "code",
   "execution_count": 22,
   "id": "8e2158f7-ee54-4b9b-8103-825f7d762429",
   "metadata": {},
   "outputs": [
    {
     "name": "stdout",
     "output_type": "stream",
     "text": [
      "(1, 3, 5, 7, 9)\n",
      "(1, 3, 5, 7, 9, 1, 3, 5, 7, 9)\n"
     ]
    }
   ],
   "source": [
    "#튜플 활용\n",
    "tuple=()\n",
    "#print(tuple[:])\n",
    "i=0\n",
    "while(i<=10):\n",
    "    if(i%2!=0):\n",
    "        tuple=tuple+(i,)\n",
    "        #print(tuple)\n",
    "    i+=1\n",
    "\n",
    "print(tuple)\n",
    "\n",
    "for i in range(1,11):\n",
    "    if(i%2!=0):\n",
    "        tuple+=(i,)\n",
    "\n",
    "print(tuple)"
   ]
  },
  {
   "cell_type": "code",
   "execution_count": 30,
   "id": "998d1e5f-53f7-4917-b98b-3590a48f49d4",
   "metadata": {},
   "outputs": [
    {
     "name": "stdin",
     "output_type": "stream",
     "text": [
      "문자열  dsfgikjhfes klsdfjse klsdjf lklkj l;kdfjgkl s/lkfnejlhfn ldgl lkdfj g lkslk kl;s ojsfdl kh lkhf e\n"
     ]
    },
    {
     "name": "stdout",
     "output_type": "stream",
     "text": [
      "e fhkl hk ldfsjo s;lk klskl g jfdkl lgdl nfhljenfkl/s lkgjfdk;l jklkl fjdslk esjfdslk sefhjkigfsd \n",
      "98\n",
      "e fhkl hk ldfsjo s;lk klskl g jfdkl lgdl nfhljenfkl/s lkgjfdk;l jklkl fjdslk esjfdslk sefhjkigfsd \n",
      "dsfgikjhfesklsdfjseklsdjflklkjl;kdfjgkls/lkfnejlhfnldgllkdfjglkslkkl;sojsfdlkhlkhfe\n"
     ]
    }
   ],
   "source": [
    "#문자열 다루기 jupyter는 커널 리스타트해야 됨\n",
    "try:\n",
    "    string=str(input(\"문자열\"))\n",
    "    reverse=''\n",
    "    for i in string:\n",
    "        reverse=i+reverse\n",
    "    z=string.replace(' ','')\n",
    "except ValueError:\n",
    "    print(\"다시\")\n",
    "\n",
    "print(string[::-1])\n",
    "\n",
    "print(len(string))\n",
    "print(reverse)\n",
    "print(z)"
   ]
  },
  {
   "cell_type": "code",
   "execution_count": 4,
   "id": "55763e8c-07a8-41e3-9585-1c8d187152ff",
   "metadata": {},
   "outputs": [
    {
     "name": "stdin",
     "output_type": "stream",
     "text": [
      "문자열 asdljnas aslidj asldij qwerl;ij qwprjfsda \n"
     ]
    },
    {
     "data": {
      "text/plain": [
       "'asdljnasaslidjasldijqwerl;ijqwprjfsda'"
      ]
     },
     "execution_count": 4,
     "metadata": {},
     "output_type": "execute_result"
    }
   ],
   "source": [
    "string=str(input(\"문자열\"))\n",
    "string.replace(' ','')"
   ]
  },
  {
   "cell_type": "code",
   "execution_count": 20,
   "id": "9dedb85d-b4d9-4a88-be0c-71dd2ca184f0",
   "metadata": {},
   "outputs": [
    {
     "name": "stdout",
     "output_type": "stream",
     "text": [
      "2.0\n"
     ]
    }
   ],
   "source": [
    "#리스트에 저장된 숫자들의 평균을 구하는 프로그램을 작성하세요.\n",
    "#사용자로부터 입력받은 문자열에서 모음(aeiou)만 추출하여 출력하세요.\n",
    "\n",
    "list=[1,2,3]\n",
    "a=len(list)\n",
    "q=sum(list)\n",
    "#z=0\n",
    "#for i in range(a):\n",
    "#    z=+list[i]\n",
    "    \n",
    "print(q/a)\n"
   ]
  },
  {
   "cell_type": "code",
   "execution_count": 75,
   "id": "57ecf86b-9d60-4343-a85d-89784819aeb3",
   "metadata": {},
   "outputs": [
    {
     "name": "stdin",
     "output_type": "stream",
     "text": [
      "문자 eakfae;afm;aslfgna;ea;ed\n"
     ]
    },
    {
     "name": "stdout",
     "output_type": "stream",
     "text": [
      "e\n",
      "ea\n",
      "eaa\n",
      "eaae\n",
      "eaae;\n",
      "eaae;a\n",
      "eaae;a;\n",
      "eaae;a;a\n",
      "eaae;a;aa\n",
      "eaae;a;aa;\n",
      "eaae;a;aa;e\n",
      "eaae;a;aa;ea\n",
      "eaae;a;aa;ea;\n",
      "eaae;a;aa;ea;e\n",
      "eaae;a;aa;ea;e\n",
      "eaaeaaaeae\n"
     ]
    }
   ],
   "source": [
    "a=str(input(\"문자\"))\n",
    "b=''\n",
    "a=a.lower()\n",
    "for i in a:\n",
    "    if i in ['b','c','d','f','g','h','j','k','l','m','n','p','q','r','s','t','u','v','w','x','y','z']:\n",
    "        continue\n",
    "    b=b+i\n",
    "    print(b)\n",
    "print(b)\n",
    "\n",
    "b=''\n",
    "for i in a:\n",
    "    vowels='aeiou'\n",
    "    if i not in vowels:\n",
    "        continue\n",
    "    b=b+i\n",
    "print(b)\n"
   ]
  },
  {
   "cell_type": "code",
   "execution_count": 22,
   "id": "1059c8f6-b21d-4f03-a0ef-1fe859b9069c",
   "metadata": {},
   "outputs": [
    {
     "name": "stdout",
     "output_type": "stream",
     "text": [
      "최저:1, 최대6\n"
     ]
    }
   ],
   "source": [
    "#listUPGRADE_MODE\n",
    "llist=[1,2,3,4,5,5,6]\n",
    "llist.sort()\n",
    "p=llist[0]\n",
    "llist.reverse()\n",
    "l=llist[0]\n",
    "print(f\"최저:{p}, 최대{l}\")\n",
    "\n",
    "\n",
    "arr = [6, 5, 6, 4, 4, 1, 1, 2, 3, 9, 8, 7, 9, 8, 7]\n",
    "result1 = set(arr)\n",
    "print(f\"set(arr): {result1}\")\n",
    "\n",
    "result2 = list(result1)  # list(set(arr))\n",
    "print(f\"list(set(arr) : {result2}\")"
   ]
  },
  {
   "cell_type": "code",
   "execution_count": 36,
   "id": "8621971e-34d0-479d-a4a9-7a4913e2b10b",
   "metadata": {},
   "outputs": [
    {
     "name": "stdout",
     "output_type": "stream",
     "text": [
      "set(arr): {1, 2, 3, 4, 5, 6, 7, 8, 9}\n"
     ]
    },
    {
     "ename": "TypeError",
     "evalue": "'list' object is not callable",
     "output_type": "error",
     "traceback": [
      "\u001b[1;31m---------------------------------------------------------------------------\u001b[0m",
      "\u001b[1;31mTypeError\u001b[0m                                 Traceback (most recent call last)",
      "Cell \u001b[1;32mIn[36], line 5\u001b[0m\n\u001b[0;32m      2\u001b[0m result1 \u001b[38;5;241m=\u001b[39m \u001b[38;5;28mset\u001b[39m(arr)\n\u001b[0;32m      3\u001b[0m \u001b[38;5;28mprint\u001b[39m(\u001b[38;5;124mf\u001b[39m\u001b[38;5;124m\"\u001b[39m\u001b[38;5;124mset(arr): \u001b[39m\u001b[38;5;132;01m{\u001b[39;00mresult1\u001b[38;5;132;01m}\u001b[39;00m\u001b[38;5;124m\"\u001b[39m)\n\u001b[1;32m----> 5\u001b[0m result2 \u001b[38;5;241m=\u001b[39m \u001b[38;5;28mlist\u001b[39m(result1)  \u001b[38;5;66;03m# list(set(arr))\u001b[39;00m\n\u001b[0;32m      6\u001b[0m \u001b[38;5;28mprint\u001b[39m(\u001b[38;5;124mf\u001b[39m\u001b[38;5;124m\"\u001b[39m\u001b[38;5;124mlist(set(arr) : \u001b[39m\u001b[38;5;132;01m{\u001b[39;00mresult2\u001b[38;5;132;01m}\u001b[39;00m\u001b[38;5;124m\"\u001b[39m)\n",
      "\u001b[1;31mTypeError\u001b[0m: 'list' object is not callable"
     ]
    }
   ],
   "source": [
    "arr = [6, 5, 6, 4, 4, 1, 1, 2, 3, 9, 8, 7, 9, 8, 7]\n",
    "result1 = set(arr)\n",
    "print(f\"set(arr): {result1}\")\n",
    "\n",
    "result2 = list(result1)  # list(set(arr))\n",
    "print(f\"list(set(arr) : {result2}\")"
   ]
  },
  {
   "cell_type": "code",
   "execution_count": 81,
   "id": "3d762f3e-a1a1-48da-a224-ce5ebe5f4ddf",
   "metadata": {},
   "outputs": [
    {
     "name": "stdin",
     "output_type": "stream",
     "text": [
      "name qwe\n",
      "age 1\n"
     ]
    },
    {
     "name": "stdout",
     "output_type": "stream",
     "text": [
      "qwe&1\n",
      "1\n",
      "1\n"
     ]
    },
    {
     "name": "stdin",
     "output_type": "stream",
     "text": [
      "name ew\n",
      "age 2\n"
     ]
    },
    {
     "name": "stdout",
     "output_type": "stream",
     "text": [
      "ew&2\n",
      "2\n",
      "3\n"
     ]
    },
    {
     "name": "stdin",
     "output_type": "stream",
     "text": [
      "name ewr\n",
      "age 3\n"
     ]
    },
    {
     "name": "stdout",
     "output_type": "stream",
     "text": [
      "ewr&3\n",
      "3\n",
      "6\n"
     ]
    },
    {
     "name": "stdin",
     "output_type": "stream",
     "text": [
      "name end\n"
     ]
    },
    {
     "name": "stdout",
     "output_type": "stream",
     "text": [
      "2.0\n",
      "('qwe', 'ew', 'ewr')\n"
     ]
    }
   ],
   "source": [
    "names=[]\n",
    "total_age=0\n",
    "i=0\n",
    "while True:\n",
    "    try:\n",
    "        name=str(input(\"name\"))\n",
    "        if(name==\"end\"):\n",
    "            print(total_age/i)\n",
    "            print(tuple(names))\n",
    "            break\n",
    "        age=int(input(\"age\"))\n",
    "        \n",
    "        print(f\"{name}&{age}\")\n",
    "        i+=1\n",
    "        print(i)\n",
    "        names.append(name)\n",
    "        total_age+=age\n",
    "        print (total_age)\n",
    "\n",
    "    except ValueError:\n",
    "        print(\"다시\")"
   ]
  },
  {
   "cell_type": "code",
   "execution_count": 85,
   "id": "9be940a0-91dd-4c25-a628-e9dbe50d2a7f",
   "metadata": {},
   "outputs": [
    {
     "name": "stdin",
     "output_type": "stream",
     "text": [
      "입력 asd ewrt\n"
     ]
    },
    {
     "name": "stdout",
     "output_type": "stream",
     "text": [
      "Asd ewrt\n",
      "Asd Ewrt\n"
     ]
    }
   ],
   "source": [
    "try:\n",
    "    st=str(input(\"입력\"))\n",
    "    z=st.capitalize()\n",
    "    zz=st.title()\n",
    "    zzz=' '.join()\n",
    "    print(z)\n",
    "    print(zz)\n",
    "\n",
    "except ValueError:\n",
    "    print(\"다시\")"
   ]
  },
  {
   "cell_type": "code",
   "execution_count": null,
   "id": "7dc7c673-befa-4d9d-8b41-dfbdbddba479",
   "metadata": {},
   "outputs": [],
   "source": []
  },
  {
   "cell_type": "code",
   "execution_count": null,
   "id": "07e09b3e-d27d-490e-b2bf-9150ca7bb4a7",
   "metadata": {},
   "outputs": [],
   "source": []
  },
  {
   "cell_type": "markdown",
   "id": "44137b8b-8b40-4492-9e56-9a1460d7bdbb",
   "metadata": {},
   "source": [
    "#5일차(함수)\n",
    "\n",
    "'''\n",
    "def 함수이름(매개변수):\n",
    "\n",
    "    # 함수 내용\n",
    "    \n",
    "    return 반환값\n",
    "\n",
    "def: 함수를 정의하는 키워드.\n",
    "함수이름: 함수 호출 시 사용하는 이름.\n",
    "매개변수: 함수에 입력으로 전달되는 변수(선택적).\n",
    "return: 함수의 결과값을 반환(선택적).\n",
    "'''"
   ]
  },
  {
   "cell_type": "code",
   "execution_count": 96,
   "id": "d6bdc94c-0d4e-46e1-b2de-632571655d45",
   "metadata": {},
   "outputs": [
    {
     "name": "stdout",
     "output_type": "stream",
     "text": [
      "av\n",
      "3\n"
     ]
    }
   ],
   "source": [
    "def add(a,b):\n",
    "    return(a+b)\n",
    "\n",
    "result=add(\"a\",\"v\")\n",
    "print(result)\n",
    "result=add(1,2)\n",
    "print(result)"
   ]
  },
  {
   "cell_type": "code",
   "execution_count": 100,
   "id": "10c7498e-1f17-4562-b0df-64d2c0661128",
   "metadata": {},
   "outputs": [
    {
     "name": "stdout",
     "output_type": "stream",
     "text": [
      "hello world\n"
     ]
    }
   ],
   "source": [
    "def greet():\n",
    "    print(\"hello world\")\n",
    "\n",
    "greet()  #그냥 쓰면 지가 알아서 작동하는 놈"
   ]
  },
  {
   "cell_type": "code",
   "execution_count": 108,
   "id": "e1144495-84a0-400f-8acd-7a689166ca1c",
   "metadata": {},
   "outputs": [
    {
     "name": "stdout",
     "output_type": "stream",
     "text": [
      "hello guest\n",
      "hello asd\n"
     ]
    }
   ],
   "source": [
    "def greet(name=\"guest\"):\n",
    "    print(f\"hello {name}\")\n",
    "\n",
    "greet()  # 이거만 쓰면 기본값인 guest가 들어가는 형태로 작동\n",
    "greet(\"asd\") #이렇게 쓰면 괄호속에 조재하는 문자열을 포함해서 출력"
   ]
  },
  {
   "cell_type": "code",
   "execution_count": 116,
   "id": "9c311a78-647e-4f19-9163-a3d5b2172dcb",
   "metadata": {},
   "outputs": [
    {
     "name": "stdout",
     "output_type": "stream",
     "text": [
      "16\n"
     ]
    }
   ],
   "source": [
    "def square(x):\n",
    "    return x*x\n",
    "\n",
    "print(square(4))"
   ]
  },
  {
   "cell_type": "code",
   "execution_count": 214,
   "id": "4d80ad29-33b4-4086-9d6b-a45163448f9e",
   "metadata": {},
   "outputs": [
    {
     "name": "stdin",
     "output_type": "stream",
     "text": [
      "입력 1\n",
      "입력 2\n"
     ]
    },
    {
     "name": "stdout",
     "output_type": "stream",
     "text": [
      "3\n"
     ]
    }
   ],
   "source": [
    "#실습 문제\n",
    "#문제 1:\n",
    "#두 개의 숫자를 입력받아 덧셈 결과를 반환하는 함수를 작성하세요.\n",
    "def add(a,b):\n",
    "    return (a+b)\n",
    "\n",
    "a=int(input(\"입력\"))\n",
    "b=int(input(\"입력\"))\n",
    "\n",
    "print(add(a,b))\n"
   ]
  },
  {
   "cell_type": "code",
   "execution_count": 216,
   "id": "bd502bae-51d6-4540-a256-aa32bf1bf66e",
   "metadata": {},
   "outputs": [
    {
     "ename": "TypeError",
     "evalue": "'int' object is not callable",
     "output_type": "error",
     "traceback": [
      "\u001b[1;31m---------------------------------------------------------------------------\u001b[0m",
      "\u001b[1;31mTypeError\u001b[0m                                 Traceback (most recent call last)",
      "Cell \u001b[1;32mIn[216], line 4\u001b[0m\n\u001b[0;32m      1\u001b[0m \u001b[38;5;28;01mdef\u001b[39;00m \u001b[38;5;21madd\u001b[39m(\u001b[38;5;241m*\u001b[39margs):\n\u001b[0;32m      2\u001b[0m     \u001b[38;5;28;01mreturn\u001b[39;00m \u001b[38;5;28msum\u001b[39m(args)\n\u001b[1;32m----> 4\u001b[0m \u001b[38;5;28mprint\u001b[39m(add(\u001b[38;5;241m1\u001b[39m, \u001b[38;5;241m2\u001b[39m))        \u001b[38;5;66;03m# 3\u001b[39;00m\n\u001b[0;32m      5\u001b[0m \u001b[38;5;28mprint\u001b[39m(add(\u001b[38;5;241m1\u001b[39m, \u001b[38;5;241m2\u001b[39m, \u001b[38;5;241m3\u001b[39m, \u001b[38;5;241m4\u001b[39m))\n",
      "Cell \u001b[1;32mIn[216], line 2\u001b[0m, in \u001b[0;36madd\u001b[1;34m(*args)\u001b[0m\n\u001b[0;32m      1\u001b[0m \u001b[38;5;28;01mdef\u001b[39;00m \u001b[38;5;21madd\u001b[39m(\u001b[38;5;241m*\u001b[39margs):\n\u001b[1;32m----> 2\u001b[0m     \u001b[38;5;28;01mreturn\u001b[39;00m \u001b[38;5;28msum\u001b[39m(args)\n",
      "\u001b[1;31mTypeError\u001b[0m: 'int' object is not callable"
     ]
    }
   ],
   "source": [
    "def add(*args):\n",
    "    return sum(args)\n",
    "\n",
    "print(add(1, 2))        # 3\n",
    "print(add(1, 2, 3, 4))  # 10\n"
   ]
  },
  {
   "cell_type": "code",
   "execution_count": 226,
   "id": "2db22af0-d0f3-4402-84a5-c0b7a1edd092",
   "metadata": {},
   "outputs": [
    {
     "name": "stdout",
     "output_type": "stream",
     "text": [
      "0\n",
      "===========\n",
      "1+1\n",
      "1\n",
      "===========\n",
      "3+2\n",
      "2\n",
      "===========\n",
      "6+3\n",
      "3\n",
      "===========\n",
      "10+4\n",
      "4\n",
      "===========\n",
      "15+5\n",
      "5\n",
      "===========\n",
      "21+6\n",
      "6\n",
      "===========\n",
      "28+7\n",
      "7\n",
      "===========\n",
      "36+8\n",
      "8\n",
      "===========\n",
      "45+9\n",
      "9\n",
      "===========\n",
      "55+10\n",
      "55\n"
     ]
    }
   ],
   "source": [
    "#문제 2:\n",
    "#리스트를 입력받아 그 합계를 반환하는 함수를 작성하세요.\n",
    "def listsum(List):\n",
    "    sum=0\n",
    "    i=0\n",
    "#\n",
    "    while (i<len(List)):\n",
    "        sum=+sum+a[i]\n",
    "        print(i)\n",
    "        print(\"===========\")\n",
    "        print(f\"{sum}+{a[i]}\")\n",
    "        i+=1\n",
    "    return sum\n",
    "\n",
    "a=[1,2,3,4,5,6,7,8,9,10]\n",
    "\n",
    "print(listsum(a))\n"
   ]
  },
  {
   "cell_type": "code",
   "execution_count": 232,
   "id": "2a5410b3-0834-455c-9497-05b84e098912",
   "metadata": {},
   "outputs": [
    {
     "name": "stdout",
     "output_type": "stream",
     "text": [
      "0-번째 요소: 1, 현재 합계: 1\n",
      "1-번째 요소: 2, 현재 합계: 3\n",
      "2-번째 요소: 3, 현재 합계: 6\n",
      "3-번째 요소: 4, 현재 합계: 10\n",
      "4-번째 요소: 5, 현재 합계: 15\n",
      "5-번째 요소: 6, 현재 합계: 21\n",
      "6-번째 요소: 7, 현재 합계: 28\n",
      "7-번째 요소: 8, 현재 합계: 36\n",
      "8-번째 요소: 9, 현재 합계: 45\n",
      "9-번째 요소: 10, 현재 합계: 55\n"
     ]
    },
    {
     "data": {
      "text/plain": [
       "55"
      ]
     },
     "execution_count": 232,
     "metadata": {},
     "output_type": "execute_result"
    }
   ],
   "source": [
    "def listsum(*List):\n",
    "    List = List[0]\n",
    "    total = 0\n",
    "    for i, num in enumerate(List):  #반복문을 사용할 때, 인덱스와 해당 값을 동시에 가져올 수 있는 내장 함수\n",
    "        total += num\n",
    "        print(f\"{i}-번째 요소: {num}, 현재 합계: {total}\")\n",
    "    return total\n",
    "\n",
    "listsum(a)"
   ]
  },
  {
   "cell_type": "code",
   "execution_count": 264,
   "id": "fd852201-ed38-4290-a1d0-75ea94fb4073",
   "metadata": {},
   "outputs": [
    {
     "data": {
      "text/plain": [
       "False"
      ]
     },
     "execution_count": 264,
     "metadata": {},
     "output_type": "execute_result"
    }
   ],
   "source": [
    "#문제 3:\n",
    "#문자열을 입력받아, 해당 문자열이 회문(앞뒤가 같은 단어)인지 판별하는 함수를 작성하세요.\n",
    "a=\"asddsal\"\n",
    "def OX(text):\n",
    "    return a[0]==a[-1]\n",
    "\n",
    "OX(a)"
   ]
  },
  {
   "cell_type": "code",
   "execution_count": 268,
   "id": "acee90b0-c86c-444c-9193-31303486520e",
   "metadata": {},
   "outputs": [
    {
     "name": "stdout",
     "output_type": "stream",
     "text": [
      "True\n",
      "False\n"
     ]
    }
   ],
   "source": [
    "def is_palindrome(text):\n",
    "    return text == text[::-1]  # 문자열을 뒤집어서 원본과 비교\n",
    "\n",
    "print(is_palindrome(\"radar\"))  # True\n",
    "\n",
    "print(is_palindrome(\"hello\"))  # False\n"
   ]
  },
  {
   "cell_type": "code",
   "execution_count": 266,
   "id": "d6b94ea9-3161-43ba-a13f-2b0af06d5c57",
   "metadata": {},
   "outputs": [
    {
     "name": "stdout",
     "output_type": "stream",
     "text": [
      "True\n",
      "False\n"
     ]
    }
   ],
   "source": [
    "def is_palindrome(text):\n",
    "    clean_text = text.replace(\" \", \"\").lower()\n",
    "    return clean_text == clean_text[::-1]\n",
    "\n",
    "print(is_palindrome(\"A man a plan a canal Panama\"))  # True\n",
    "print(is_palindrome(\"Hello World\"))  # False\n",
    "    "
   ]
  },
  {
   "cell_type": "code",
   "execution_count": null,
   "id": "9a00733c-dd69-4eec-9506-4d24ffe92dc1",
   "metadata": {},
   "outputs": [],
   "source": []
  },
  {
   "cell_type": "code",
   "execution_count": null,
   "id": "31d94e13-f23d-4c50-a9ee-13e8be544d4c",
   "metadata": {},
   "outputs": [],
   "source": []
  },
  {
   "cell_type": "code",
   "execution_count": 204,
   "id": "be283f30-ba3f-4621-8358-14f4ba941787",
   "metadata": {},
   "outputs": [
    {
     "name": "stdin",
     "output_type": "stream",
     "text": [
      "입력 2\n"
     ]
    },
    {
     "data": {
      "text/plain": [
       "True"
      ]
     },
     "execution_count": 204,
     "metadata": {},
     "output_type": "execute_result"
    }
   ],
   "source": [
    "#문제 4:\n",
    "#정수를 입력받아, 해당 정수가 짝수인지 홀수인지 판별하는 함수를 작성하세요.\n",
    "def OE(num):\n",
    "    return num%2==0\n",
    "num=int(input(\"입력\"))\n",
    "OE(num)"
   ]
  },
  {
   "cell_type": "code",
   "execution_count": 286,
   "id": "ca874b1e-38b4-414d-9210-8f64a36fbff1",
   "metadata": {},
   "outputs": [
    {
     "name": "stdin",
     "output_type": "stream",
     "text": [
      "숫자들을 입력하세요 (공백으로 구분):  123\n"
     ]
    },
    {
     "ename": "TypeError",
     "evalue": "'list' object is not callable",
     "output_type": "error",
     "traceback": [
      "\u001b[1;31m---------------------------------------------------------------------------\u001b[0m",
      "\u001b[1;31mTypeError\u001b[0m                                 Traceback (most recent call last)",
      "Cell \u001b[1;32mIn[286], line 2\u001b[0m\n\u001b[0;32m      1\u001b[0m \u001b[38;5;28;01mimport\u001b[39;00m \u001b[38;5;21;01mos\u001b[39;00m\n\u001b[1;32m----> 2\u001b[0m nums \u001b[38;5;241m=\u001b[39m \u001b[38;5;28mlist\u001b[39m(\u001b[38;5;28mmap\u001b[39m(\u001b[38;5;28mint\u001b[39m, \u001b[38;5;28minput\u001b[39m(\u001b[38;5;124m\"\u001b[39m\u001b[38;5;124m숫자들을 입력하세요 (공백으로 구분): \u001b[39m\u001b[38;5;124m\"\u001b[39m)\u001b[38;5;241m.\u001b[39msplit()))\n\u001b[0;32m      3\u001b[0m \u001b[38;5;28;01mfor\u001b[39;00m num \u001b[38;5;129;01min\u001b[39;00m nums:\n\u001b[0;32m      4\u001b[0m     \u001b[38;5;28;01mif\u001b[39;00m OE(num):\n",
      "\u001b[1;31mTypeError\u001b[0m: 'list' object is not callable"
     ]
    }
   ],
   "source": [
    "nums = list(map(int, input(\"숫자들을 입력하세요 (공백으로 구분): \").split()))\n",
    "for num in nums:\n",
    "    if OE(num):\n",
    "        print(f\"{num}은 짝수입니다.\")\n",
    "    else:\n",
    "        print(f\"{num}은 홀수입니다.\")"
   ]
  },
  {
   "cell_type": "code",
   "execution_count": 317,
   "id": "cb80e61e-2da2-48d8-841e-2f1d84a2d2de",
   "metadata": {},
   "outputs": [
    {
     "name": "stdin",
     "output_type": "stream",
     "text": [
      "num 4\n"
     ]
    },
    {
     "name": "stdout",
     "output_type": "stream",
     "text": [
      "3\n",
      "3\n",
      "3\n",
      "3\n"
     ]
    }
   ],
   "source": [
    "# 보나피치\n",
    "def VONA(n):\n",
    "    return VONA(n-1)+VONA(n-2) if n>=2 else n\n",
    "        \n",
    "try:\n",
    "    n=int(input(\"num\"))\n",
    "    i=0\n",
    "    while(i<n):\n",
    "        print(VONA(n))\n",
    "        i+=1\n",
    "\n",
    "except ValueError:\n",
    "    print(asdlkjn)"
   ]
  },
  {
   "cell_type": "code",
   "execution_count": 378,
   "id": "e9ef796a-0c4f-4341-ade0-227fd4781bfa",
   "metadata": {},
   "outputs": [
    {
     "name": "stdin",
     "output_type": "stream",
     "text": [
      "num 6\n"
     ]
    },
    {
     "name": "stdout",
     "output_type": "stream",
     "text": [
      "피보나치 수열:\n",
      "0 1 1 2 3 5 "
     ]
    }
   ],
   "source": [
    "from functools import lru_cache\n",
    "\n",
    "@lru_cache(maxsize=None)\n",
    "def VONA(n):\n",
    "    return VONA(n-1)+VONA(n-2) if n>=2 else n\n",
    "\n",
    "try:\n",
    "    n=int(input(\"num\"))\n",
    "    if(n<0):\n",
    "        print(\"양수만\")\n",
    "    else:\n",
    "        print(\"피보나치 수열:\")\n",
    "        for i in range(n):\n",
    "            print(VONA(i),end=\" \")\n",
    "\n",
    "except ValueError:\n",
    "    print(\"숫자를 입력해야 합니다.\")"
   ]
  },
  {
   "cell_type": "code",
   "execution_count": null,
   "id": "17a64fd9-aac7-468f-b750-d3f68194a028",
   "metadata": {},
   "outputs": [],
   "source": []
  },
  {
   "cell_type": "code",
   "execution_count": 401,
   "id": "343201e7-b729-4cc5-9949-951090927a0d",
   "metadata": {},
   "outputs": [
    {
     "name": "stdout",
     "output_type": "stream",
     "text": [
      "long=eeee, max=4\n"
     ]
    }
   ],
   "source": [
    "def MAXLAN(LISTS):\n",
    "    max=0\n",
    "    long=\"\"\n",
    "    for i in range(len(LISTS)):\n",
    "        z=len(LISTS[i])\n",
    "        if(max<z):\n",
    "            max=len(LISTS[i])\n",
    "            long=LISTS[i]\n",
    "            \n",
    "    print(f\"long={long}, max={max}\")\n",
    "            \n",
    "\n",
    "\n",
    "LISTS=[\"1\",\"eeee\",\"qq\",\"www\"]\n",
    "\n",
    "MAXLAN(LISTS)"
   ]
  },
  {
   "cell_type": "code",
   "execution_count": 435,
   "id": "d7f63e91-72d9-4354-956f-1bb55b579c90",
   "metadata": {},
   "outputs": [
    {
     "data": {
      "text/plain": [
       "(['eeee', 'aaaa'], 4)"
      ]
     },
     "execution_count": 435,
     "metadata": {},
     "output_type": "execute_result"
    }
   ],
   "source": [
    "def MAXLAN(LISTS):\n",
    "    max=0\n",
    "    long=[]\n",
    "    for i in LISTS:\n",
    "        z=len(i)\n",
    "        if(max<z):\n",
    "            max=z\n",
    "            long=[i]\n",
    "        elif(max==z):\n",
    "            long.append(i)\n",
    "    return long, max        \n",
    "    print(f\"long={long}, max={max}\")\n",
    "            \n",
    "\n",
    "\n",
    "LISTS=[\"1\",\"eeee\",\"aaaa\",\"qq\",\"www\"]\n",
    "\n",
    "MAXLAN(LISTS)"
   ]
  },
  {
   "cell_type": "code",
   "execution_count": null,
   "id": "97c3319c-15e5-43cb-a0e9-8188bba410f7",
   "metadata": {},
   "outputs": [],
   "source": []
  },
  {
   "cell_type": "code",
   "execution_count": null,
   "id": "d1edf03b-49ea-4c09-b240-d56a7de5c039",
   "metadata": {},
   "outputs": [],
   "source": []
  },
  {
   "cell_type": "code",
   "execution_count": null,
   "id": "13154707-c54c-4adc-956e-02df7cd21e20",
   "metadata": {},
   "outputs": [],
   "source": []
  },
  {
   "cell_type": "code",
   "execution_count": null,
   "id": "e2b430ef-5666-46ab-a15d-787f4f913dad",
   "metadata": {},
   "outputs": [],
   "source": []
  }
 ],
 "metadata": {
  "kernelspec": {
   "display_name": "Python 3 (ipykernel)",
   "language": "python",
   "name": "python3"
  },
  "language_info": {
   "codemirror_mode": {
    "name": "ipython",
    "version": 3
   },
   "file_extension": ".py",
   "mimetype": "text/x-python",
   "name": "python",
   "nbconvert_exporter": "python",
   "pygments_lexer": "ipython3",
   "version": "3.12.3"
  }
 },
 "nbformat": 4,
 "nbformat_minor": 5
}
