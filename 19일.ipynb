{
 "cells": [
  {
   "cell_type": "markdown",
   "id": "64dff8d9-6f8e-43e1-b41c-c99e5eef70d1",
   "metadata": {},
   "source": [
    "### 추상 클래스 ###"
   ]
  },
  {
   "cell_type": "raw",
   "id": "ad3e24cd-04ef-403a-9a64-beb78fa33607",
   "metadata": {},
   "source": [
    "개념:\n",
    "\n",
    "추상 클래스는 \"직접 객체를 만들 수 없는\" 클래스야.\n",
    "공통 기능을 정의하고, 자식 클래스에서 반드시 구현해야 하는 메서드를 지정하는 역할을 해.\n",
    "직접 사용되지 않고 다른 클래스들이 상속받아서 구현하도록 강제하는 역할을 한다.\n",
    "\n",
    "**추상 클래스(abstract class)**는 직접 인스턴스를 만들 수 없는 클래스\n",
    "자식 클래스에서 반드시 구현해야 하는 메서드를 지정 (@abstractmethod 사용)\n",
    "코드 재사용성을 높이고, 특정 메서드 구현을 강제할 때 사용\n",
    "\n",
    "\n",
    "\n",
    "특징:\n",
    "\n",
    "abc(Abstract Base Class) 모듈을 사용해 구현.\n",
    "@abstractmethod 데코레이터를 사용해 반드시 구현해야 하는 메서드를 정의.\n",
    "abstract 메서드는 자식 클래스에서 반드시 구현해야 함."
   ]
  },
  {
   "cell_type": "code",
   "execution_count": 59,
   "id": "c20043bf-8ad6-4783-beaa-5c8de19b8a8b",
   "metadata": {},
   "outputs": [
    {
     "name": "stdout",
     "output_type": "stream",
     "text": [
      "Woof!\n",
      "Meow!\n",
      "Moo!!\n"
     ]
    }
   ],
   "source": [
    "from abc import ABC, abstractmethod\n",
    "\n",
    "class Animal(ABC):\n",
    "    @abstractmethod\n",
    "    def speak(self):\n",
    "        pass\n",
    "\n",
    "class dog(Animal):\n",
    "    def speak(self):\n",
    "        return \"Woof!\"\n",
    "\n",
    "class cat(Animal):\n",
    "    def speak(self):\n",
    "        return \"Meow!\"\n",
    "\n",
    "class cow(Animal):\n",
    "    def speak(self):\n",
    "        return \"Moo!!\"\n",
    "\n",
    "\n",
    "\n",
    "dog = dog()\n",
    "cat = cat()\n",
    "cow=cow()\n",
    "#print(dog.speak())  # 출력: Woof!\n",
    "#cat.speak()\n",
    "\n",
    "animals=[dog, cat, cow]\n",
    "for animal in animals:\n",
    "    print(animal.speak())"
   ]
  },
  {
   "cell_type": "code",
   "execution_count": 61,
   "id": "e22c9bf6-fcfc-49bf-8066-6bbdc243487d",
   "metadata": {},
   "outputs": [
    {
     "name": "stdout",
     "output_type": "stream",
     "text": [
      "Process cradit card payment of 100\n",
      "Process mobile payment of 50\n",
      "Process cash payment of 1000\n"
     ]
    }
   ],
   "source": [
    "#예제: \"결제 시스템\"\n",
    "from abc import  ABC, abstractmethod\n",
    "\n",
    "class payment(ABC):\n",
    "    @abstractmethod\n",
    "    def process_payment(self, amount):\n",
    "        pass\n",
    "\n",
    "class creaditcard(payment):\n",
    "    def process_payment(self,amount):\n",
    "        print(f\"Process cradit card payment of {amount}\")\n",
    "\n",
    "class mobiles(payment):\n",
    "    def process_payment(self, amount):\n",
    "        print(f\"Process mobile payment of {amount}\")\n",
    "\n",
    "class cashes(payment):\n",
    "    def process_payment(self, amount):\n",
    "        print(f\"Process cash payment of {amount}\")\n",
    "\n",
    "\n",
    "credit=creaditcard()\n",
    "mobile=mobiles()\n",
    "cash=cashes()\n",
    "\n",
    "credit.process_payment(100)  # ✅ 신용카드 결제\n",
    "mobile.process_payment(50)\n",
    "cash.process_payment(1000)"
   ]
  },
  {
   "cell_type": "code",
   "execution_count": 71,
   "id": "698960aa-777d-42b6-b0e0-aee8b848fc60",
   "metadata": {},
   "outputs": [
    {
     "name": "stdout",
     "output_type": "stream",
     "text": [
      "Driving an electric car silently...\n",
      "Charging the battery.\n",
      "\n",
      "Driving a gas car with engine sound...\n",
      "Refueling with gasoline.\n",
      "\n"
     ]
    }
   ],
   "source": [
    "#예제: \"자동차 시스템\"\n",
    "from abc import ABC, abstractmethod\n",
    "\n",
    "class cars(ABC):\n",
    "    @abstractmethod\n",
    "    def drive(self):\n",
    "        pass\n",
    "\n",
    "class electric(cars):\n",
    "    def drive(self):\n",
    "        return \"Driving an electric car silently...\"\n",
    "\n",
    "    def refuel(self):\n",
    "        return \"Charging the battery.\"\n",
    "\n",
    "class gas(cars):\n",
    "    def drive(self):\n",
    "        return \"Driving a gas car with engine sound...\"\n",
    "\n",
    "    def refuel(self):\n",
    "        return \"Refueling with gasoline.\"\n",
    "\n",
    "\n",
    "\n",
    "cars = [electric(), gas()]\n",
    "for car in cars:\n",
    "    print(car.drive())\n",
    "    print(car.refuel())\n",
    "    print()"
   ]
  },
  {
   "cell_type": "code",
   "execution_count": null,
   "id": "488a3024-3be7-4d35-b2c6-9d596afc8031",
   "metadata": {},
   "outputs": [],
   "source": []
  },
  {
   "cell_type": "code",
   "execution_count": null,
   "id": "9afffedd-4fe5-4d5f-8493-c628ffb2670d",
   "metadata": {},
   "outputs": [],
   "source": []
  },
  {
   "cell_type": "markdown",
   "id": "2a25aaa6-b647-49c7-bd62-60bee67e767f",
   "metadata": {},
   "source": [
    "### quest ###"
   ]
  },
  {
   "cell_type": "code",
   "execution_count": 144,
   "id": "6b2861ba-0240-42d1-84d6-e03043a77d56",
   "metadata": {},
   "outputs": [
    {
     "name": "stdout",
     "output_type": "stream",
     "text": [
      "50\n",
      "153.938\n",
      "43.9823\n"
     ]
    }
   ],
   "source": [
    "#문제: \"도형 시스템 만들기\"\n",
    "#추상 클래스 Shape을 만들고, area() 메서드를 강제 구현하도록 하자.\n",
    "#Rectangle(직사각형), Circle(원)에서 각각의 면적을 계산하는 메서드를 구현해야 해.\n",
    "\n",
    "from abc import ABC, abstractmethod\n",
    "import math as m\n",
    "\n",
    "class shape(ABC):\n",
    "    @abstractmethod\n",
    "    def area(self):\n",
    "        pass\n",
    "\n",
    "class Rectangle(shape):\n",
    "    def __init__(self, row, length):\n",
    "        self.row=row\n",
    "        self.length= length\n",
    "    def area(self):\n",
    "        \n",
    "        return self.row * self.length\n",
    "\n",
    "class Circle(shape):\n",
    "    def __init__(self,radius):\n",
    "        self.radius=radius\n",
    "    \n",
    "    def area(self):\n",
    "        return round((m.pi*self.radius**2), 4)\n",
    "\n",
    "    def fild_area(self):\n",
    "        return round((m.pi*2*self.radius),4)\n",
    "\n",
    "\n",
    "\n",
    "\n",
    "rect = Rectangle(10, 5)\n",
    "circle = Circle(7)\n",
    "\n",
    "print(rect.area())   # 직사각형 면적 계산 결과 출력\n",
    "print(circle.area()) # 원 면적 계산 결과 출력\n",
    "print(circle.fild_area())"
   ]
  },
  {
   "cell_type": "code",
   "execution_count": 106,
   "id": "98d76b94-7403-4c82-b591-a02815c28ed1",
   "metadata": {},
   "outputs": [
    {
     "data": {
      "text/plain": [
       "3.141592653589793"
      ]
     },
     "execution_count": 106,
     "metadata": {},
     "output_type": "execute_result"
    }
   ],
   "source": [
    "import math as m\n",
    "m.pi"
   ]
  },
  {
   "cell_type": "code",
   "execution_count": 152,
   "id": "5fc66e2e-bc1b-4f39-898c-4c88307e2eec",
   "metadata": {},
   "outputs": [
    {
     "name": "stdout",
     "output_type": "stream",
     "text": [
      "Alice 급여: $5000\n",
      "Bob 급여: $3200\n"
     ]
    }
   ],
   "source": [
    "#문제: \"직원 급여 시스템\" (Employee Payroll System)\n",
    "from abc import ABC, abstractmethod\n",
    "\n",
    "class Employee(ABC):\n",
    "    def __init__(self,name):\n",
    "        self. name=name\n",
    "    @abstractmethod\n",
    "    def calculate_salary(self):\n",
    "        pass\n",
    "\n",
    "class FullTimeEmployee(Employee):\n",
    "    def __init__(self, name, monthly_salary):\n",
    "        super().__init__(name)\n",
    "        self.monthly_salary=monthly_salary\n",
    "\n",
    "    def calculate_salary(self):\n",
    "        return self.monthly_salary\n",
    "\n",
    "class HourlyEmployee(Employee):\n",
    "    def __init__(self, name, hourly_wage, hours_worked):\n",
    "        super().__init__(name)\n",
    "        self.hourly_wage=hourly_wage\n",
    "        self.hours_worked=hours_worked\n",
    "\n",
    "    def calculate_salary(self):\n",
    "        return self.hourly_wage*self.hours_worked\n",
    "\n",
    "\n",
    "full_time = FullTimeEmployee(\"Alice\", 5000)\n",
    "hourly = HourlyEmployee(\"Bob\", 20, 160)  # 시급 $20, 160시간 근무\n",
    "\n",
    "print(f\"{full_time.name} 급여: ${full_time.calculate_salary()}\")\n",
    "print(f\"{hourly.name} 급여: ${hourly.calculate_salary()}\")"
   ]
  },
  {
   "cell_type": "code",
   "execution_count": 194,
   "id": "ed42f49e-db80-411f-9d44-70aa10c4dd21",
   "metadata": {},
   "outputs": [],
   "source": [
    "#시나리오: 은행 계좌 시스템 (Bank Account System)\n",
    "#**모든 계좌(BankAccount)**는 **잔액 조회(get_balance())**와 입금(deposit()) 기능이 있어야 함 → 추상 클래스\n",
    "#하지만, 출금(withdraw()) 방식은 계좌마다 다를 수 있음 → 자식 클래스에서 강제 구현\n",
    "#기본적인 거래 내역 저장 기능도 필요함 → 부모 클래스에서 구현 & 자식 클래스에서 super()로 확장\n",
    "from abc import ABC, abstractmethod\n",
    "\n",
    "class BankAccount(ABC):\n",
    "    def __init__(self,account_holder, balance=0):\n",
    "        self.account_holder=account_holder  # 계좌 소유자\n",
    "        self.balance= balance  # 계좌 잔액\n",
    "        self.transaction=[]\n",
    "\n",
    "    @abstractmethod  \n",
    "    #출금 기능은 계좌 종류별로 다르므로, 반드시 오버라이딩해야 함\n",
    "    def withdraw(self, amount):\n",
    "        pass\n",
    "\n",
    "    def deposit(self,amount):\n",
    "        if amount>0:\n",
    "            self.balance+=amount\n",
    "            self.transaction.append(f\"Deposited: ${amount}\")\n",
    "            print(f\"💰 {self.account_holder}님의 계좌에 ${amount} 입금됨.\")\n",
    "        else:\n",
    "            print(\"⚠️ 입금 금액은 0보다 커야 합니다.\")\n",
    "\n",
    "    def get_balance(self):\n",
    "        return f\"{self.account_holder}님의 잔액: ${self.balance}\"\n",
    "\n",
    "    def show_transactions(self):  # ✅ `return print(...)` 제거\n",
    "        print(f\"\\n📜 {self.account_holder}님의 거래 내역:\")\n",
    "        for transaction in self.transaction:  # ✅ `transaction` → `self.transaction`\n",
    "            print(f\"- {transaction}\")\n",
    "\n",
    "class FixedDepositAccount(BankAccount):\n",
    "    def withdraw(self,amount):\n",
    "        print(\"⚠️ 정기 예금 계좌에서는 출금이 불가능합니다.\")\n",
    "\n",
    "class SavingsAccount(BankAccount):\n",
    "    def withdraw(self, amount):\n",
    "        if self.balance>=amount:\n",
    "            self.balance-=amount\n",
    "            self.transaction.append(f\"Withdrawn: ${amount}\")\n",
    "            print(f\"🏦 {self.account_holder}님의 계좌에서 ${amount} 출금됨.\")\n",
    "        else:\n",
    "            print(f\"⚠️ 출금 실패! {self.account_holder}님의 계좌 잔액이 부족합니다.\")\n",
    "\n",
    "class CheckingAccount(BankAccount):\n",
    "    def __init__(self, account_holder, balance=0, fee=1.5):\n",
    "        super().__init__(account_holder, balance)\n",
    "        self.fee=fee\n",
    "\n",
    "    def withdraw(self, amount):\n",
    "        total=amount+self.fee\n",
    "        if self.balance>=total:\n",
    "            self.balance-=total\n",
    "            self.transaction.append(f\"Withdrawn: ${amount} (Fee: ${self.fee})\")\n",
    "            print(f\"🏦 {self.account_holder}님의 계좌에서 ${amount} 출금됨 (수수료 ${self.fee} 포함).\")\n",
    "        else:\n",
    "            print(f\"⚠️ 출금 실패! {self.account_holder}님의 계좌 잔액이 부족합니다.\")\n",
    "\n",
    "\n"
   ]
  },
  {
   "cell_type": "code",
   "execution_count": 196,
   "id": "781c9f49-2c18-47fe-a2d1-235ca17ea35d",
   "metadata": {},
   "outputs": [
    {
     "name": "stdout",
     "output_type": "stream",
     "text": [
      "💰 Bob님의 계좌에 $500 입금됨.\n",
      "🏦 Bob님의 계좌에서 $700 출금됨.\n",
      "⚠️ 정기 예금 계좌에서는 출금이 불가능합니다.\n",
      "🏦 Charlie님의 계좌에서 $1000 출금됨 (수수료 $1.5 포함).\n",
      "💰 Charlie님의 계좌에 $200 입금됨.\n",
      "Bob님의 잔액: $1800\n",
      "Charlie님의 잔액: $2198.5\n",
      "\n",
      "📜 Bob님의 거래 내역:\n",
      "- Deposited: $500\n",
      "- Withdrawn: $700\n",
      "\n",
      "📜 Charlie님의 거래 내역:\n",
      "- Withdrawn: $1000 (Fee: $1.5)\n",
      "- Deposited: $200\n"
     ]
    }
   ],
   "source": [
    "# ✅ 5. 계좌 생성 및 테스트\n",
    "fd_account = FixedDepositAccount(\"Alice\", 5000)  # 정기 예금 계좌\n",
    "savings_account = SavingsAccount(\"Bob\", 2000)  # 일반 입출금 계좌\n",
    "checking_account = CheckingAccount(\"Charlie\", 3000)  # 체크카드 연동 계좌\n",
    "\n",
    "# ✅ 입금 & 출금 테스트\n",
    "savings_account.deposit(500)\n",
    "savings_account.withdraw(700)\n",
    "fd_account.withdraw(500)  # 출금 불가\n",
    "checking_account.withdraw(1000)  # 수수료 포함 출금\n",
    "checking_account.deposit(200)\n",
    "\n",
    "# ✅ 잔액 및 거래 내역 확인\n",
    "print(savings_account.get_balance())\n",
    "print(checking_account.get_balance())\n",
    "\n",
    "savings_account.show_transactions()\n",
    "checking_account.show_transactions()"
   ]
  },
  {
   "cell_type": "markdown",
   "id": "e1ab5bdd-5b7c-4477-8462-4774d517acf1",
   "metadata": {},
   "source": []
  },
  {
   "cell_type": "code",
   "execution_count": null,
   "id": "4f68a332-b92d-4dc4-9de4-fad0366e6984",
   "metadata": {},
   "outputs": [],
   "source": []
  }
 ],
 "metadata": {
  "kernelspec": {
   "display_name": "Python 3 (ipykernel)",
   "language": "python",
   "name": "python3"
  },
  "language_info": {
   "codemirror_mode": {
    "name": "ipython",
    "version": 3
   },
   "file_extension": ".py",
   "mimetype": "text/x-python",
   "name": "python",
   "nbconvert_exporter": "python",
   "pygments_lexer": "ipython3",
   "version": "3.12.3"
  }
 },
 "nbformat": 4,
 "nbformat_minor": 5
}
