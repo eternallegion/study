{
 "cells": [
  {
   "cell_type": "markdown",
   "id": "9561a038-6ea8-4302-9b16-369aeaf09367",
   "metadata": {},
   "source": [
    "8일차 학습 목표\n",
    "\n",
    "-집합(Set)의 기본 사용법//\n",
    "  집합의 생성, 추가, 삭제//\n",
    "  집합 연산 (합집합, 교집합, 차집합)\n",
    "  \n",
    "-딕셔너리(Dictionary) 활용//\n",
    "  딕셔너리 기본 동작 (추가, 수정, 삭제)//\n",
    "  딕셔너리 메서드 활용 (keys(), values(), items())\n",
    "\n",
    "-집합과 딕셔너리 응용//\n",
    "  데이터 정리 및 중복 제거 //\n",
    "  딕셔너리를 사용한 간단한 데이터 매핑"
   ]
  },
  {
   "cell_type": "code",
   "execution_count": 5,
   "id": "c13e6c85-a81f-4e70-aed3-381ff830521c",
   "metadata": {},
   "outputs": [
    {
     "name": "stdout",
     "output_type": "stream",
     "text": [
      "{1, 2, 3, 4, 5}\n",
      "{1, 2, 3, 4, 5, 6}\n",
      "{2, 3, 4, 5, 6}\n"
     ]
    }
   ],
   "source": [
    "#집합(Set)\n",
    "#집합은 중복을 허용하지 않는 데이터 구조입니다.\n",
    "#순서가 없기 때문에 인덱스로 접근할 수 없습니다.\n",
    "\n",
    "my_set={1,2,3,4,5}\n",
    "print(my_set)\n",
    "\n",
    "my_set.add(6)\n",
    "print(my_set)\n",
    "\n",
    "my_set.remove(1)\n",
    "print(my_set)"
   ]
  },
  {
   "cell_type": "code",
   "execution_count": 7,
   "id": "9ebf5ac0-ea7b-493f-bfd7-4d0ae5615ee5",
   "metadata": {},
   "outputs": [
    {
     "name": "stdout",
     "output_type": "stream",
     "text": [
      "{1, 2, 3, 4, 5, 6}\n",
      "{3, 4}\n",
      "{1, 2}\n"
     ]
    }
   ],
   "source": [
    "#집합 연산\n",
    "#집합은 수학적인 집합 연산(합집합, 교집합, 차집합)을 지원합니다.\n",
    "\n",
    "set1={1,2,3,4}\n",
    "set2={3,4,5,6}\n",
    "\n",
    "print(set1|set2)  #합집합(단, set의 특성상 중복은 X)\n",
    "print(set1&set2) #교집합\n",
    "print(set1-set2) #차집합"
   ]
  },
  {
   "cell_type": "code",
   "execution_count": 9,
   "id": "0c9bae20-4fc1-47eb-9547-8fd7672e4b92",
   "metadata": {},
   "outputs": [
    {
     "name": "stdout",
     "output_type": "stream",
     "text": [
      "{'name': 'Alice', 'age': 26, 'city': 'New York'}\n",
      "{'name': 'Alice', 'age': 26}\n"
     ]
    }
   ],
   "source": [
    "#딕셔너리(Dictionary)\n",
    "#딕셔너리는 키-값 쌍으로 데이터를 저장합니다.\n",
    "\n",
    "my_dict={\"name\":\"Alice\",\"age\":25}\n",
    "\n",
    "my_dict[\"city\"]=\"New York\"\n",
    "my_dict[\"age\"]=26\n",
    "\n",
    "print(my_dict)\n",
    "del my_dict[\"city\"]\n",
    "print(my_dict)"
   ]
  },
  {
   "cell_type": "code",
   "execution_count": 56,
   "id": "61a39acb-95bd-418b-94f2-0a13222332d8",
   "metadata": {},
   "outputs": [
    {
     "name": "stdout",
     "output_type": "stream",
     "text": [
      "dict_keys(['name', 'age', 'city'])\n",
      "dict_values(['Alice', 25, 'New York'])\n",
      "dict_items([('name', 'Alice'), ('age', 25), ('city', 'New York')])\n"
     ]
    }
   ],
   "source": [
    "#딕셔너리 메서드\n",
    "mydict={\"name\":\"Alice\",\"age\":25,\"city\":\"New York\"}\n",
    "\n",
    "print(mydict.keys())  #key값들만 뽑음\n",
    "\n",
    "print(mydict.values()) #value값들만 뽑음\n",
    "\n",
    "print(mydict.items()) #키-값 쌍\n",
    "\n",
    "\n"
   ]
  },
  {
   "cell_type": "code",
   "execution_count": null,
   "id": "31058722-78c6-4b84-aa50-5c17c228c9c2",
   "metadata": {},
   "outputs": [],
   "source": []
  },
  {
   "cell_type": "code",
   "execution_count": 31,
   "id": "9c6a000a-b1f4-49dc-9017-04d19152493f",
   "metadata": {},
   "outputs": [
    {
     "name": "stdout",
     "output_type": "stream",
     "text": [
      "{1, 2, 3, 4, 5, 6}\n",
      "{3, 4}\n",
      "{1, 2}\n"
     ]
    }
   ],
   "source": [
    "'''문제 1:\n",
    "두 개의 집합이 주어졌을 때, 다음 연산을 수행하세요:\n",
    "\n",
    "두 집합의 합집합\n",
    "두 집합의 교집합\n",
    "두 집합의 차집합'''\n",
    "\n",
    "set1 = {1, 2, 3, 4}\n",
    "set2 = {3, 4, 5, 6}\n",
    "\n",
    "def union(set1,set2):\n",
    "    return set1|set2\n",
    "\n",
    "def intersect(set1,set2):\n",
    "    return set1&set2\n",
    "\n",
    "def minus(set1,set2):\n",
    "    return set1-set2\n",
    "\n",
    "print(union(set1,set2))\n",
    "print(intersect(set1,set2))\n",
    "print(minus(set1,set2))"
   ]
  },
  {
   "cell_type": "code",
   "execution_count": 44,
   "id": "93a4c7a1-8d4a-46ef-bf4a-0e0a76c4a781",
   "metadata": {},
   "outputs": [
    {
     "name": "stdout",
     "output_type": "stream",
     "text": [
      "85.75\n"
     ]
    }
   ],
   "source": [
    "#문제 2:\n",
    "#딕셔너리를 사용하여 다음 학생들의 성적 데이터를 저장하고, 평균 점수를 계산하세요:\n",
    "\n",
    "students = {\n",
    "    \"Alice\": 85,\n",
    "    \"Bob\": 78,\n",
    "    \"Charlie\": 92,\n",
    "    \"David\": 88\n",
    "}\n",
    "\n",
    "def calcurate(dict):\n",
    "    return sum(students.values())/len(students.values())\n",
    "\n",
    "print(calcurate(students))"
   ]
  },
  {
   "cell_type": "code",
   "execution_count": 72,
   "id": "d2f1b23f-645e-42df-9ac5-d9aeb151cdb1",
   "metadata": {},
   "outputs": [
    {
     "name": "stdout",
     "output_type": "stream",
     "text": [
      "{'Alice': 85, 'Bob': 78, 'Charlie': 92, 'David': 88, 'Eve': 90}\n"
     ]
    }
   ],
   "source": [
    "def add_student(students,name,score):\n",
    "    students[name]=score\n",
    "\n",
    "add_student(students, \"Eve\", 90)\n",
    "print(students)"
   ]
  },
  {
   "cell_type": "code",
   "execution_count": 74,
   "id": "5aab0ee7-f446-4535-bbf2-7cd59d8343b1",
   "metadata": {},
   "outputs": [
    {
     "name": "stdout",
     "output_type": "stream",
     "text": [
      "최고 점수: 92, 최저 점수: 78\n"
     ]
    }
   ],
   "source": [
    "def find_H_L(students):\n",
    "    highest=max(students.values())\n",
    "    lowset=min(students.values())\n",
    "    return highest,lowset\n",
    "\n",
    "high, low = find_H_L(students)\n",
    "print(f\"최고 점수: {high}, 최저 점수: {low}\")"
   ]
  },
  {
   "cell_type": "code",
   "execution_count": null,
   "id": "84f92b50-14a2-48f3-a450-84c2841b6d51",
   "metadata": {},
   "outputs": [],
   "source": []
  },
  {
   "cell_type": "code",
   "execution_count": 50,
   "id": "6ce91126-8793-4062-b409-62fae9ffefc1",
   "metadata": {},
   "outputs": [
    {
     "name": "stdout",
     "output_type": "stream",
     "text": [
      "{1, 2, 3, 4, 5}\n"
     ]
    }
   ],
   "source": [
    "#문제 3:\n",
    "#리스트에서 중복을 제거하고 고유한 값만 남기는 코드를 작성하세요.\n",
    "\n",
    "numbers = [1, 2, 2, 3, 4, 4, 5]\n",
    "# 결과: {1, 2, 3, 4, 5}\n",
    "\n",
    "unic=set(numbers)\n",
    "print(unic)"
   ]
  },
  {
   "cell_type": "code",
   "execution_count": 70,
   "id": "dd42d233-e865-4825-a807-333f61220bb2",
   "metadata": {},
   "outputs": [
    {
     "name": "stdout",
     "output_type": "stream",
     "text": [
      "foer\n"
     ]
    }
   ],
   "source": [
    "#문제 4:\n",
    "#딕셔너리를 사용하여 숫자에 해당하는 영어 단어를 매핑하는 프로그램을 작성하세요. \n",
    "#사용자 입력으로 숫자를 받아, 해당하는 단어를 출력하세요.\n",
    "numbers={1:\"one\",2:\"two\",3:\"three\",4:\"foer\",5:\"five\"}\n",
    "\n",
    "def connet(number):\n",
    "    return numbers[number]\n",
    "\n",
    "print(connet(4))"
   ]
  },
  {
   "cell_type": "code",
   "execution_count": 78,
   "id": "6d88c64d-f655-4c5c-bdf2-bd030ee8df0c",
   "metadata": {},
   "outputs": [
    {
     "name": "stdin",
     "output_type": "stream",
     "text": [
      "num : 1~5 1\n"
     ]
    },
    {
     "name": "stdout",
     "output_type": "stream",
     "text": [
      "one\n"
     ]
    }
   ],
   "source": [
    "def get_word(number):\n",
    "    if(number in numbers):\n",
    "        return numbers[number]\n",
    "    else:\n",
    "        return \"그런거 없다.\"\n",
    "\n",
    "try:\n",
    "    num=int(input(\"num : 1~5\"))\n",
    "    print(get_word(num))\n",
    "except ValueError:\n",
    "    print(\"숫자를 입력해야 합니다.\")"
   ]
  },
  {
   "cell_type": "code",
   "execution_count": null,
   "id": "7071b710-1eae-4e8a-afa9-7c1635b9e5a3",
   "metadata": {},
   "outputs": [],
   "source": []
  },
  {
   "cell_type": "code",
   "execution_count": null,
   "id": "c23bd9b7-3bac-4364-9b04-e68b573dac27",
   "metadata": {},
   "outputs": [],
   "source": []
  },
  {
   "cell_type": "markdown",
   "id": "fc8b6d83-077c-4c65-b4c9-f14e7bc1e356",
   "metadata": {},
   "source": [
    "//////////////9일차////////////////////"
   ]
  },
  {
   "cell_type": "markdown",
   "id": "74c03e9d-dcd9-44c5-95e3-46687149452d",
   "metadata": {},
   "source": [
    "-스택(Stack)\n",
    "\n",
    "스택의 동작 원리(LIFO: Last In, First Out)\n",
    "//스택의 구현 및 활용\n",
    "\n",
    "-큐(Queue)\n",
    "\n",
    "큐의 동작 원리(FIFO: First In, First Out)\n",
    "//큐의 구현 및 활용\n",
    "\n",
    "응용\n",
    "//스택과 큐를 사용한 간단한 문제 해결\n"
   ]
  },
  {
   "cell_type": "code",
   "execution_count": 91,
   "id": "6edd1909-3457-4c28-9781-b4ed0fcd0d2f",
   "metadata": {},
   "outputs": [
    {
     "name": "stdout",
     "output_type": "stream",
     "text": [
      "stack :  [1, 2, 3]\n",
      "3\n",
      "stack :  [1, 2]\n",
      "peek :  2\n"
     ]
    }
   ],
   "source": [
    "'''스택(Stack)  -> 선입선출\n",
    "스택은 마지막에 삽입된 데이터가 가장 먼저 제거되는 구조입니다.\n",
    "\n",
    "주요 연산:\n",
    "push: 데이터를 스택에 추가\n",
    "pop: 스택의 가장 위에 있는 데이터를 제거하고 반환\n",
    "peek: 스택의 가장 위 데이터를 확인\n",
    "is_empty: 스택이 비어 있는지 확인'''\n",
    "\n",
    "stack=[]\n",
    "stack.append(1)\n",
    "stack.append(2)\n",
    "stack.append(3)\n",
    "print(\"stack : \",stack)\n",
    "\n",
    "print(stack.pop())\n",
    "print(\"stack : \",stack)\n",
    "\n",
    "print(\"peek : \",stack[-1])\n",
    "\n"
   ]
  },
  {
   "cell_type": "code",
   "execution_count": 93,
   "id": "5677cbbd-bb3d-4f26-8c1e-1426ea443725",
   "metadata": {},
   "outputs": [
    {
     "name": "stdout",
     "output_type": "stream",
     "text": [
      "queue :  deque([1, 2, 3])\n",
      "dequeue :  1\n",
      "queue :  [2, 3]\n",
      "peek :  2\n"
     ]
    }
   ],
   "source": [
    "'''큐(Queue)\n",
    "큐는 먼저 삽입된 데이터가 가장 먼저 제거되는 구조입니다.\n",
    "\n",
    "주요 연산:\n",
    "enqueue: 데이터를 큐에 추가\n",
    "dequeue: 큐에서 가장 앞에 있는 데이터를 제거하고 반환\n",
    "is_empty: 큐가 비어 있는지 확인'''\n",
    "\n",
    "from collections import deque\n",
    "\n",
    "queue=deque()\n",
    "\n",
    "queue.append(1)\n",
    "queue.append(2)\n",
    "queue.append(3)\n",
    "print(\"queue : \",queue)\n",
    "\n",
    "print(\"dequeue : \",queue.popleft()) # 데이터 제거\n",
    "print(\"queue : \",list(queue))\n",
    "\n",
    "print(\"peek : \",queue[0])\n"
   ]
  },
  {
   "cell_type": "markdown",
   "id": "bf4c497a-70dd-41d5-b256-4adfdbf8b03a",
   "metadata": {},
   "source": [
    "deque는 Python의 collections 모듈에서 제공하는 자료구조로, **큐(Queue)**와 같이 데이터를 양쪽에서 빠르게 추가하거나 제거할 수 있는 이중 연결 리스트(Double-Ended Queue) 기반의 자료구조\n",
    "\n",
    "deque란?\n",
    "\n",
    "deque는 **\"Double-Ended Queue\"**의 약자입니다. 양쪽 끝에서 데이터를 추가하거나 제거하는 연산이 O(1)의 시간복잡도로 이루어질 수 있습니다.\n",
    "\n",
    "Python의 기본 리스트(list)로도 큐를 구현할 수 있지만, 리스트는 **맨 앞의 요소를 제거하거나 삽입할 때 O(n)**의 시간복잡도를 가지므로 큐 구현에는 비효율적입니다.\n",
    "\n",
    "반면, deque는 양쪽 끝에서 삽입과 삭제가 빠르기 때문에 큐 구현에 적합합니다.\n",
    "\n",
    "=메서드=\n",
    "\n",
    "append(item)추가\n",
    "\n",
    "appendleft(item)왼쪽 끝에서 데이터를 추가\n",
    "\n",
    "pop()제거\n",
    "\n",
    "popleft()왼쪽 끝에서 데이터를 제거\n",
    "\n",
    "extend(iterable): 오른쪽 끝에 여러 데이터를 추가.\\\n",
    "\n",
    "extendleft(iterable): 왼쪽 끝에 여러 데이터를 추가.\n",
    "\n",
    "rotate(n): 데이터를 순환. (양수는 오른쪽, 음수는 왼쪽으로 회전)"
   ]
  },
  {
   "cell_type": "code",
   "execution_count": 167,
   "id": "051841ca-7af7-444b-874c-d69186607ed5",
   "metadata": {},
   "outputs": [
    {
     "name": "stdout",
     "output_type": "stream",
     "text": [
      "deque(['r'])\n",
      "deque(['r', 'a'])\n",
      "deque(['r', 'a', 'd'])\n",
      "deque(['r', 'a', 'd', 'a'])\n"
     ]
    },
    {
     "data": {
      "text/plain": [
       "'NO'"
      ]
     },
     "execution_count": 167,
     "metadata": {},
     "output_type": "execute_result"
    }
   ],
   "source": [
    "#문제 1:\n",
    "#스택을 사용하여 문자열이 회문(앞뒤가 같은 문자열)인지 확인하는 프로그램을 작성하세요.\n",
    "from collections import deque\n",
    "\n",
    "\n",
    "def equere(str):\n",
    "    queue=deque()\n",
    "    for string in str:\n",
    "        queue.append(string)\n",
    "        print(queue)\n",
    "\n",
    "    \n",
    "    if queue.pop()==queue.popleft():\n",
    "        print(\"OK\")\n",
    "        return \"OK\"\n",
    "    else:\n",
    "        return \"NO\"\n",
    "\n",
    "word=\"radar\"\n",
    "equere(word)"
   ]
  },
  {
   "cell_type": "code",
   "execution_count": 532,
   "id": "3f4bebd0-fab1-4fed-b223-01961a8a311e",
   "metadata": {},
   "outputs": [
    {
     "name": "stdout",
     "output_type": "stream",
     "text": [
      "['r']\n",
      "['r', 'a']\n"
     ]
    },
    {
     "data": {
      "text/plain": [
       "'YES'"
      ]
     },
     "execution_count": 532,
     "metadata": {},
     "output_type": "execute_result"
    }
   ],
   "source": [
    "def equere(str):\n",
    "    stack=[]\n",
    "    n=len(str)\n",
    "    for i in range(n//2):\n",
    "        stack.append(str[i])\n",
    "        print(stack)\n",
    "    for i in range((n+1)//2,n):\n",
    "        if stack.pop()!=str[i]:\n",
    "        \n",
    "            return \"NO\"\n",
    "    return \"YES\"\n",
    "    \n",
    "\n",
    "word=\"radar\"\n",
    "equere(word)"
   ]
  },
  {
   "cell_type": "code",
   "execution_count": 172,
   "id": "b9db446f-3b4f-451b-95e8-a6157b248606",
   "metadata": {},
   "outputs": [
    {
     "name": "stdout",
     "output_type": "stream",
     "text": [
      "h\n",
      "deque(['h'])\n",
      "e\n",
      "deque(['h', 'e'])\n",
      "l\n",
      "deque(['h', 'e', 'l'])\n",
      "l\n",
      "deque(['h', 'e', 'l', 'l'])\n",
      "o\n",
      "deque(['h', 'e', 'l', 'l', 'o'])\n",
      "NO\n"
     ]
    }
   ],
   "source": [
    "q=\"hello\"\n",
    "d=deque()\n",
    "for i in q:\n",
    "    print(i)\n",
    "    d.append(i)\n",
    "    print(d)\n",
    "w=len(d)/2\n",
    "#for i in range(len(d)):\n",
    "t=d.pop()\n",
    "r=d.popleft()\n",
    "if t==r:\n",
    "    print(\"OK\")\n",
    "\n",
    "else:\n",
    "    print(\"NO\")"
   ]
  },
  {
   "cell_type": "code",
   "execution_count": 236,
   "id": "8af90624-d4b7-4daf-950e-956536f75a4a",
   "metadata": {},
   "outputs": [
    {
     "name": "stdout",
     "output_type": "stream",
     "text": [
      "['r']\n",
      "['r', 'a']\n",
      "['r', 'a', 'd']\n",
      "['r', 'a', 'd', 'a']\n",
      "['r', 'a', 'd', 'a', 'r']\n",
      "pop :  r\n",
      "-1 :  r\n",
      "a\n",
      "OK\n"
     ]
    }
   ],
   "source": [
    "q=\"radar\"\n",
    "\n",
    "\n",
    "stack=[]\n",
    "for string in q:\n",
    "    stack.append(string)\n",
    "    print(stack)\n",
    "    \n",
    "\n",
    "a=stack[-1]\n",
    "print(\"pop : \",a)\n",
    "print(\"-1 : \",stack[-1])\n",
    "if a==stack.pop():\n",
    "    print(stack[-1])\n",
    "    print(\"OK\")\n",
    "    #return \"OK\"\n",
    "else:\n",
    "   # return \"NO\"\n",
    "    print(\"NO\")"
   ]
  },
  {
   "cell_type": "code",
   "execution_count": null,
   "id": "171c96ec-d3b8-4ea7-9ec8-4170771e54bd",
   "metadata": {},
   "outputs": [],
   "source": []
  },
  {
   "cell_type": "code",
   "execution_count": 260,
   "id": "b5c0abe5-458e-407e-98e7-b9708f0876f9",
   "metadata": {},
   "outputs": [
    {
     "name": "stdout",
     "output_type": "stream",
     "text": [
      "deque([1])\n",
      "deque([1, 2])\n",
      "deque([1, 2, 3])\n",
      "deque([1, 2, 3, 4])\n",
      "deque([1, 2, 3, 4, 5])\n",
      "5\n",
      "4\n",
      "3\n",
      "2\n",
      "1\n"
     ]
    },
    {
     "data": {
      "text/plain": [
       "[5, 4, 3, 2, 1]"
      ]
     },
     "execution_count": 260,
     "metadata": {},
     "output_type": "execute_result"
    }
   ],
   "source": [
    "#문제 2:\n",
    "#큐를 사용하여 숫자 입력 순서를 반대로 출력하는 프로그램을 작성하세요.\n",
    "from collections import deque\n",
    "def reverse(number):\n",
    "    queue=deque()\n",
    "    reverses=[]\n",
    "    for i in number:\n",
    "        queue.append(i)\n",
    "        print(queue)\n",
    "\n",
    "    \n",
    "    for j in range(len(queue)):\n",
    "        a=queue.pop()\n",
    "        print(a)\n",
    "        reverses.append(a)\n",
    "    return reverses\n",
    "\n",
    "i= [1, 2, 3, 4, 5]\n",
    "reverse(i)"
   ]
  },
  {
   "cell_type": "code",
   "execution_count": 534,
   "id": "b6fbb07c-6b34-45da-b73c-f1a78149e783",
   "metadata": {},
   "outputs": [
    {
     "data": {
      "text/plain": [
       "[5, 4, 3, 2, 1]"
      ]
     },
     "execution_count": 534,
     "metadata": {},
     "output_type": "execute_result"
    }
   ],
   "source": [
    "i= [1, 2, 3, 4, 5]\n",
    "def reverseSTACK(number):\n",
    "    stack=[]\n",
    "    for st in i:\n",
    "        stack.append(st)\n",
    "        #print(stack)\n",
    "    \n",
    "    reverse=[]\n",
    "    for j in range(len(stack)):\n",
    "        a=stack.pop(-1)\n",
    "        reverse.append(a)\n",
    "    return reverse\n",
    "        #print(reverse)\n",
    "\n",
    "\n",
    "reverseSTACK(i)"
   ]
  },
  {
   "cell_type": "code",
   "execution_count": null,
   "id": "274d04c1-ca81-4533-8902-3681b6b57790",
   "metadata": {},
   "outputs": [],
   "source": []
  },
  {
   "cell_type": "code",
   "execution_count": 524,
   "id": "ee0ddb13-3af6-42c2-92ca-d9e220ab9c57",
   "metadata": {},
   "outputs": [
    {
     "name": "stdout",
     "output_type": "stream",
     "text": [
      "asd: ['(']\n",
      "asd: ['(', '[']\n",
      "asd: ['(', '[', '{']\n",
      "asd: ['(', '{']\n"
     ]
    },
    {
     "data": {
      "text/plain": [
       "False"
      ]
     },
     "execution_count": 524,
     "metadata": {},
     "output_type": "execute_result"
    }
   ],
   "source": [
    "#문제 3:\n",
    "#스택과 큐를 사용하여 괄호의 짝이 올바른지 확인하는 프로그램을 작성하세요.\n",
    "\n",
    "def eq(kakko):\n",
    "    stack=[]\n",
    "    #stackB=[]\n",
    "    pairs={')':'(','}':'{',']':'['}\n",
    "    for ch in kakko:\n",
    "        if ch in pairs.values():\n",
    "            stack.append(ch)\n",
    "            print(\"asd:\",stack)\n",
    "        elif(ch in pairs.keys()):\n",
    "            if not stack or pairs[ch] !=stack.pop():\n",
    "                return False\n",
    "        else:\n",
    "            continue\n",
    "\n",
    "    return True\n",
    "\n",
    "\n",
    "a=\"( [ { } ] {])\"\n",
    "eq(a)"
   ]
  },
  {
   "cell_type": "code",
   "execution_count": 458,
   "id": "010ce34e-5677-430f-8146-566d887f0146",
   "metadata": {},
   "outputs": [
    {
     "data": {
      "text/plain": [
       "dict_keys([')', ']', '}'])"
      ]
     },
     "execution_count": 458,
     "metadata": {},
     "output_type": "execute_result"
    }
   ],
   "source": [
    "pairs = {')': '(', ']': '[', '}': '{'}\n",
    "pairs.values()"
   ]
  },
  {
   "cell_type": "code",
   "execution_count": null,
   "id": "4c2c0e40-c058-4760-84ab-c90dc837e645",
   "metadata": {},
   "outputs": [],
   "source": []
  },
  {
   "cell_type": "code",
   "execution_count": null,
   "id": "f205e30e-f384-446f-84b9-44f2be6d4a6b",
   "metadata": {},
   "outputs": [],
   "source": []
  },
  {
   "cell_type": "code",
   "execution_count": null,
   "id": "72c09cb0-d30e-4e04-b31d-802123fb1c98",
   "metadata": {},
   "outputs": [],
   "source": [
    "a=\"( [ { } ] )\"\n",
    "stackA=[]\n",
    "stackB=[]\n",
    "for i in a:\n",
    "    print(i)\n",
    "    if(i=='['):\n",
    "        stackA.append(i)\n",
    "    elif((i=='}'or']'or')')):\n",
    "        stackB.append(i)\n",
    "\n",
    "print(\"stackA : \",stackA)\n",
    "print(\"stackB : \",stackB)"
   ]
  },
  {
   "cell_type": "code",
   "execution_count": null,
   "id": "5a86f3cc-42cd-4b7c-bbad-ee5883512c1c",
   "metadata": {},
   "outputs": [],
   "source": []
  },
  {
   "cell_type": "raw",
   "id": "f457ffc7-db45-43c6-a49e-709d1ba7d05d",
   "metadata": {},
   "source": [
    "///추가 공부///"
   ]
  },
  {
   "cell_type": "code",
   "execution_count": 97,
   "id": "ffb89944-2d20-4ddb-9860-a38566b7ab2b",
   "metadata": {},
   "outputs": [
    {
     "name": "stdout",
     "output_type": "stream",
     "text": [
      "olleh\n"
     ]
    }
   ],
   "source": [
    "#문제 1: 스택을 사용한 문자열 뒤집기\n",
    "#스택을 사용하여 문자열을 거꾸로 뒤집는 프로그램을 작성하세요.\n",
    "\n",
    "string = \"hello\"\n",
    "def reverses(string):\n",
    "    stack=[]\n",
    "    reverse=''\n",
    "    for i in string:\n",
    "        stack.append(i)\n",
    "    while(len(stack)>0):\n",
    "        reverse=reverse+stack.pop()\n",
    "    return reverse\n",
    "\n",
    "print(reverses(string))"
   ]
  },
  {
   "cell_type": "code",
   "execution_count": 224,
   "id": "1f163749-9ea4-4a70-97c0-7b1ad5fbcd4b",
   "metadata": {},
   "outputs": [
    {
     "name": "stdout",
     "output_type": "stream",
     "text": [
      "[2, 3, 4, 5, 1]\n",
      "[3, 4, 5, 1, 2]\n"
     ]
    },
    {
     "data": {
      "text/plain": [
       "[3, 4, 5, 1, 2]"
      ]
     },
     "execution_count": 224,
     "metadata": {},
     "output_type": "execute_result"
    }
   ],
   "source": [
    "#문제 2: 큐를 사용한 회전\n",
    "#큐를 사용하여 리스트의 요소를 오른쪽으로 k번 회전시키는 프로그램을 작성하세요.\n",
    "def rotate(nums,k):\n",
    "    for i in range(k):\n",
    "        nums.append(nums.pop(0))\n",
    "    return nums\n",
    "\n",
    "nums = [1, 2, 3, 4, 5]\n",
    "k = 2\n",
    "\n",
    "rotate(nums,k)"
   ]
  },
  {
   "cell_type": "code",
   "execution_count": 258,
   "id": "b874bc64-1974-417d-a4f0-caa5501e048a",
   "metadata": {},
   "outputs": [
    {
     "name": "stdout",
     "output_type": "stream",
     "text": [
      "stack [2, 4, 6]\n",
      "queue [1, 3, 5]\n"
     ]
    }
   ],
   "source": [
    "#문제 3: 스택과 큐를 사용한 특정 조건 처리\n",
    "#정수 리스트가 주어질 때:\n",
    "#스택에는 짝수를 저장.\n",
    "#큐에는 홀수를 저장.\n",
    "#스택과 큐의 최종 상태를 출력하세요.\n",
    "\n",
    "nums = [1, 2, 3, 4, 5, 6]\n",
    "def binary(nums):\n",
    "    stack=[]\n",
    "    queue=[]\n",
    "    for i in nums:\n",
    "        if(i%2==0):\n",
    "            stack.append(i)\n",
    "            \n",
    "        else:\n",
    "            queue.append(i)\n",
    "    \n",
    "    print(\"stack\",stack)        \n",
    "    print(\"queue\",queue)\n",
    "\n",
    "    #return stack, queue\n",
    "\n",
    "\n",
    "binary(nums)            \n"
   ]
  },
  {
   "cell_type": "code",
   "execution_count": null,
   "id": "3bb5487a-95ef-4fc7-8b08-63f7350247db",
   "metadata": {},
   "outputs": [],
   "source": []
  },
  {
   "cell_type": "code",
   "execution_count": null,
   "id": "17584c09-bd09-416c-b35f-41c4dde50d55",
   "metadata": {},
   "outputs": [],
   "source": []
  },
  {
   "cell_type": "code",
   "execution_count": null,
   "id": "86136055-90fa-47ea-8348-2777df07b7d1",
   "metadata": {},
   "outputs": [],
   "source": []
  },
  {
   "cell_type": "code",
   "execution_count": 244,
   "id": "23918e61-7524-41da-b0c3-a0604a583058",
   "metadata": {},
   "outputs": [
    {
     "name": "stdout",
     "output_type": "stream",
     "text": [
      "o\n",
      "['o']\n",
      "l\n",
      "['o', 'l']\n",
      "l\n",
      "['o', 'l', 'l']\n",
      "e\n",
      "['o', 'l', 'l', 'e']\n",
      "h\n",
      "['o', 'l', 'l', 'e', 'h']\n",
      "0\n",
      "['o', 'l', 'l', 'e', 'h']\n",
      "1\n",
      "['o', 'l', 'l', 'e']\n",
      "2\n",
      "['o', 'l', 'l']\n",
      "3\n",
      "['o', 'l']\n",
      "4\n",
      "['o']\n"
     ]
    }
   ],
   "source": [
    "string = \"hello\"\n",
    "string=list(string)\n",
    "stack=[]\n",
    "for i in string[::-1]:\n",
    "    print(i)\n",
    "    stack.append(i[-1])\n",
    "    print(stack)\n",
    "for j in range(len(stack)):\n",
    "    print(j)\n",
    "    print(stack)\n",
    "    p=stack.pop(-1)\n",
    "    "
   ]
  },
  {
   "cell_type": "code",
   "execution_count": 214,
   "id": "b08027d9-05b9-47c8-a0cd-4f3c9661b6f8",
   "metadata": {},
   "outputs": [
    {
     "name": "stdout",
     "output_type": "stream",
     "text": [
      "[2, 3, 4, 5, 6, 1]\n",
      "[3, 4, 5, 6, 1, 2]\n",
      "[4, 5, 6, 1, 2, 3]\n"
     ]
    }
   ],
   "source": [
    "q=[1,2,3,4,5,6]\n",
    "\n",
    "q.append(q.pop())\n",
    "#q=q+a\n",
    "q\n",
    "\n",
    "for i in range(3):\n",
    "    q.append(q.pop(0))\n",
    "    print(q)"
   ]
  },
  {
   "cell_type": "code",
   "execution_count": null,
   "id": "eb0879fe-b2f4-481b-aeb4-ffb795662053",
   "metadata": {},
   "outputs": [],
   "source": []
  },
  {
   "cell_type": "code",
   "execution_count": null,
   "id": "ebbde2ed-9557-4e49-b368-e9332af85c98",
   "metadata": {},
   "outputs": [],
   "source": []
  },
  {
   "cell_type": "markdown",
   "id": "f1456842-5f30-4f01-b3e5-a089344e0d70",
   "metadata": {},
   "source": []
  },
  {
   "cell_type": "code",
   "execution_count": null,
   "id": "a0f257fd-c3b6-4a06-9405-8bd73a34f3b2",
   "metadata": {},
   "outputs": [],
   "source": []
  }
 ],
 "metadata": {
  "kernelspec": {
   "display_name": "Python 3 (ipykernel)",
   "language": "python",
   "name": "python3"
  },
  "language_info": {
   "codemirror_mode": {
    "name": "ipython",
    "version": 3
   },
   "file_extension": ".py",
   "mimetype": "text/x-python",
   "name": "python",
   "nbconvert_exporter": "python",
   "pygments_lexer": "ipython3",
   "version": "3.12.3"
  }
 },
 "nbformat": 4,
 "nbformat_minor": 5
}
