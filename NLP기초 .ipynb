{
 "cells": [
  {
   "cell_type": "markdown",
   "id": "76422364-32ae-4209-83af-0c43371a5d4f",
   "metadata": {},
   "source": [
    "기존에 공개된 도구들을 사용하였을 때의 결과가 사용자의 목적과 일치한다면 해당 도구를 사용할 수도 있을 것입니다. \n",
    "NLTK는 영어 코퍼스를 토큰화하기 위한 도구들을 제공합니다. 그 중 word_tokenize와 WordPunctTokenizer를 사용해서 아포스트로피를 어떻게 처리하는지 확인해보겠습니다."
   ]
  },
  {
   "cell_type": "code",
   "execution_count": 6,
   "id": "9bd9bc00-410e-4632-a926-9eeb32194b75",
   "metadata": {},
   "outputs": [
    {
     "name": "stderr",
     "output_type": "stream",
     "text": [
      "[nltk_data] Downloading package punkt to /home/eternal/nltk_data...\n",
      "[nltk_data]   Unzipping tokenizers/punkt.zip.\n"
     ]
    }
   ],
   "source": [
    "import nltk\n",
    "nltk.download('punkt')\n",
    "from nltk.tokenize import word_tokenize\n",
    "from nltk.tokenize import WordPunctTokenizer\n",
    "from tensorflow.keras.preprocessing.text import text_to_word_sequence\n"
   ]
  },
  {
   "cell_type": "code",
   "execution_count": 7,
   "id": "61b00764-62f9-4716-a339-cb82ce524875",
   "metadata": {},
   "outputs": [
    {
     "name": "stdout",
     "output_type": "stream",
     "text": [
      "단어 토큰화1 : ['Do', \"n't\", 'be', 'fooled', 'by', 'the', 'dark', 'sounding', 'name', ',', 'Mr.', 'Jone', \"'s\", 'Orphanage', 'is', 'as', 'cheery', 'as', 'cheery', 'goes', 'for', 'a', 'pastry', 'shop', '.']\n"
     ]
    },
    {
     "data": {
      "text/plain": [
       "\"\\nword_tokenize는 Don't를 Do와 n't로 분리하였으며,\\n반면 Jone's는 Jone과 's로 분리한 것을 확인할 수 있습니다.\\n\""
      ]
     },
     "execution_count": 7,
     "metadata": {},
     "output_type": "execute_result"
    }
   ],
   "source": [
    "print('단어 토큰화1 :',word_tokenize(\"Don't be fooled by the dark sounding name, Mr. Jone's Orphanage is as cheery as cheery goes for a pastry shop.\"))\n",
    "'''\n",
    "word_tokenize는 Don't를 Do와 n't로 분리하였으며,\n",
    "반면 Jone's는 Jone과 's로 분리한 것을 확인할 수 있습니다.\n",
    "'''"
   ]
  },
  {
   "cell_type": "code",
   "execution_count": 8,
   "id": "79809100-2bf4-415a-addd-b48f60cf4c7a",
   "metadata": {},
   "outputs": [
    {
     "name": "stdout",
     "output_type": "stream",
     "text": [
      "단어 토큰화2 : ['Don', \"'\", 't', 'be', 'fooled', 'by', 'the', 'dark', 'sounding', 'name', ',', 'Mr', '.', 'Jone', \"'\", 's', 'Orphanage', 'is', 'as', 'cheery', 'as', 'cheery', 'goes', 'for', 'a', 'pastry', 'shop', '.']\n"
     ]
    },
    {
     "data": {
      "text/plain": [
       "\"\\nWordPunctTokenizer는 구두점을 별도로 분류하는 특징을 갖고 있기때문에,\\n앞서 확인했던 word_tokenize와는 달리 Don't를 Don과 '와 t로 분리하였으며,\\n이와 마찬가지로 Jone's를 Jone과 '와 s로 분리한 것을 확인할 수 있습니다.\\n\""
      ]
     },
     "execution_count": 8,
     "metadata": {},
     "output_type": "execute_result"
    }
   ],
   "source": [
    "print('단어 토큰화2 :',WordPunctTokenizer().tokenize(\"Don't be fooled by the dark sounding name, Mr. Jone's Orphanage is as cheery as cheery goes for a pastry shop.\"))\n",
    "\n",
    "'''\n",
    "WordPunctTokenizer는 구두점을 별도로 분류하는 특징을 갖고 있기때문에,\n",
    "앞서 확인했던 word_tokenize와는 달리 Don't를 Don과 '와 t로 분리하였으며,\n",
    "이와 마찬가지로 Jone's를 Jone과 '와 s로 분리한 것을 확인할 수 있습니다.\n",
    "'''"
   ]
  },
  {
   "cell_type": "markdown",
   "id": "b75f515a-a836-42b5-9fe4-8e11da30439d",
   "metadata": {},
   "source": [
    "print('단어 토큰화3 :',text_to_word_sequence(\"Don't be fooled by the dark sounding name, Mr. Jone's Orphanage is as cheery as cheery goes for a pastry shop.\"))\n",
    "\n",
    "단어 토큰화1 : ['Do', \"n't\", 'be', 'fooled', 'by', 'the', 'dark', 'sounding', 'name', ',', 'Mr.', 'Jone', \"'s\", 'Orphanage', 'is', 'as', 'cheery', 'as', 'cheery', 'goes', 'for', 'a', 'pastry', 'shop', '.']\n",
    "\n",
    "케라스의 text_to_word_sequence는 기본적으로 모든 알파벳을 소문자로 바꾸면서 마침표나 컴마, 느낌표 등의 구두점을 제거합니다. 하지만 don't나 jone's와 같은 경우 아포스트로피는 보존하는 것을 볼 수 있습니다."
   ]
  },
  {
   "cell_type": "markdown",
   "id": "f53c10e5-6425-428f-ad37-4683b771a611",
   "metadata": {},
   "source": [
    "토큰화에서 고려해야할 사항\n",
    "\n",
    "1) 구두점이나 특수 문자를 단순 제외해서는 안 된다.\n",
    "갖고있는 코퍼스에서 단어들을 걸러낼 때, 구두점이나 특수 문자를 단순히 제외하는 것은 옳지 않습니다. 코퍼스에 대한 정제 작업을 진행하다보면, 구두점조차도 하나의 토큰으로 분류하기도 합니다. 가장 기본적인 예를 들어보자면, 마침표(.)와 같은 경우는 문장의 경계를 알 수 있는데 도움이 되므로 단어를 뽑아낼 때, 마침표(.)를 제외하지 않을 수 있습니다.\n",
    "\n",
    "또 다른 예로 단어 자체에 구두점을 갖고 있는 경우도 있는데, m.p.h나 Ph.D나 AT&T 같은 경우가 있습니다. 또 특수 문자의 달러나 슬래시(/)로 예를 들어보면, $45.55와 같은 가격을 의미 하기도 하고, 01/02/06은 날짜를 의미하기도 합니다. 보통 이런 경우 45.55를 하나로 취급하고 45와 55로 따로 분류하고 싶지는 않을 수 있습니다.\n",
    "\n",
    "숫자 사이에 컴마(,)가 들어가는 경우도 있습니다. 보통 수치를 표현할 때는 123,456,789와 같이 세 자리 단위로 컴마가 있습니다.\n",
    "\n",
    "2) 줄임말과 단어 내에 띄어쓰기가 있는 경우.\n",
    "토큰화 작업에서 종종 영어권 언어의 아포스트로피(')는 압축된 단어를 다시 펼치는 역할을 하기도 합니다. 예를 들어 what're는 what are의 줄임말이며, we're는 we are의 줄임말입니다. 위의 예에서 re를 접어(clitic)이라고 합니다. 즉, 단어가 줄임말로 쓰일 때 생기는 형태를 말합니다. 가령 I am을 줄인 I'm이 있을 때, m을 접어라고 합니다.\n",
    "\n",
    "New York이라는 단어나 rock 'n' roll이라는 단어를 봅시다. 이 단어들은 하나의 단어이지만 중간에 띄어쓰기가 존재합니다. 사용 용도에 따라서, 하나의 단어 사이에 띄어쓰기가 있는 경우에도 하나의 토큰으로 봐야하는 경우도 있을 수 있으므로, 토큰화 작업은 저러한 단어를 하나로 인식할 수 있는 능력도 가져야합니다.\n",
    "\n",
    "3) 표준 토큰화 예제\n",
    "이해를 돕기 위해 표준으로 쓰이고 있는 토큰화 방법 중 하나인 Penn Treebank Tokenization의 규칙에 대해서 소개하고, 토큰화의 결과를 확인해보겠습니다.\n",
    "\n",
    "규칙 1. 하이푼으로 구성된 단어는 하나로 유지한다.\n",
    "\n",
    "규칙 2. doesn't와 같이 아포스트로피로 '접어'가 함께하는 단어는 분리해준다."
   ]
  },
  {
   "cell_type": "code",
   "execution_count": 9,
   "id": "023e1096-68ca-40ff-bb1d-3dc2cb4f55e6",
   "metadata": {},
   "outputs": [
    {
     "name": "stdout",
     "output_type": "stream",
     "text": [
      "트리뱅크 워드토크나이저 : ['Starting', 'a', 'home-based', 'restaurant', 'may', 'be', 'an', 'ideal.', 'it', 'does', \"n't\", 'have', 'a', 'food', 'chain', 'or', 'restaurant', 'of', 'their', 'own', '.']\n"
     ]
    }
   ],
   "source": [
    "from nltk.tokenize import TreebankWordTokenizer\n",
    "tokenizer=TreebankWordTokenizer()\n",
    "\n",
    "text = \"Starting a home-based restaurant may be an ideal. it doesn't have a food chain or restaurant of their own.\"\n",
    "print('트리뱅크 워드토크나이저 :',tokenizer.tokenize(text))"
   ]
  },
  {
   "cell_type": "markdown",
   "id": "eee68aae-fcc5-467d-8cf5-c5c5463cfbdc",
   "metadata": {},
   "source": [
    "문장 토큰화(Sentence Tokenization)\n",
    "이번에는 토큰의 단위가 문장(sentence)일 경우를 논의해보겠습니다. 이 작업은 갖고있는 코퍼스 내에서 문장 단위로 구분하는 작업으로 때로는 문장 분류(sentence segmentation)라고도 부릅니다. 보통 갖고있는 코퍼스가 정제되지 않은 상태라면, 코퍼스는 문장 단위로 구분되어 있지 않아서 이를 사용하고자 하는 용도에 맞게 문장 토큰화가 필요할 수 있습니다.\n",
    "\n",
    "어떻게 주어진 코퍼스로부터 문장 단위로 분류할 수 있을까요? 직관적으로 생각해봤을 때는 ?나 마침표(.)나 ! 기준으로 문장을 잘라내면 되지 않을까라고 생각할 수 있지만, 꼭 그렇지만은 않습니다. !나 ?는 문장의 구분을 위한 꽤 명확한 구분자(boundary) 역할을 하지만 마침표는 그렇지 않기 때문입니다. 마침표는 문장의 끝이 아니더라도 등장할 수 있습니다.\n",
    "\n",
    "EX1) IP 192.168.56.31 서버에 들어가서 로그 파일 저장해서 aaa@gmail.com로 결과 좀 보내줘. 그 후 점심 먹으러 가자.\n",
    "\n",
    "EX2) Since I'm actively looking for Ph.D. students, I get the same question a dozen times every year.\n",
    "\n",
    "예를 들어 위의 예제에 마침표를 기준으로 문장 토큰화를 적용해본다면 어떨까요? 첫번째 예제에서는 보내줘.에서 그리고 두번째 예제에서는 year.에서 처음으로 문장이 끝난 것으로 인식하는 것이 제대로 문장의 끝을 예측했다고 볼 수 있습니다. 하지만 단순히 마침표(.)로 문장을 구분짓는다고 가정하면, 문장의 끝이 나오기 전에 이미 마침표가 여러번 등장하여 예상한 결과가 나오지 않게 됩니다.\n",
    "\n",
    "사용하는 코퍼스가 어떤 국적의 언어인지, 또는 해당 코퍼스 내에서 특수문자들이 어떻게 사용되고 있는지에 따라서 직접 규칙들을 정의해볼 수 있겠습니다. 100% 정확도를 얻는 일은 쉬운 일이 아닌데, 갖고있는 코퍼스 데이터에 오타나, 문장의 구성이 엉망이라면 정해놓은 규칙이 소용이 없을 수 있기 때문입니다.\n",
    "\n",
    "EX1) IP 192.168.56.31 서버에 들어가서 로그 파일 저장해서 aaa@gmail.com로 결과 좀 보내줘. 그 후 점심 먹으러 가자.\n",
    "\n",
    "EX2) Since I'm actively looking for Ph.D. students, I get the same question a dozen times every year."
   ]
  },
  {
   "cell_type": "code",
   "execution_count": 10,
   "id": "3caf776f-6309-41c4-89f2-18c260cae0b6",
   "metadata": {},
   "outputs": [
    {
     "name": "stdout",
     "output_type": "stream",
     "text": [
      "문장 토큰화1 : ['사용하는 코퍼스가 어떤 국적의 언어인지, 또는 해당 코퍼스 내에서 특수문자들이 어떻게 사용되고 있는지에 따라서 직접 규칙들을 정의해볼 수 있겠습니다.', '100% 정확도를 얻는 일은 쉬운 일이 아닌데, 갖고있는 코퍼스 데이터에 오타나, 문장의 구성이 엉망이라면 정해놓은 규칙이 소용이 없을 수 있기 때문입니다.']\n",
      "문장 토큰화2 : ['I am actively looking for Ph.D. students.', 'and you are a Ph.D student.']\n"
     ]
    }
   ],
   "source": [
    "from nltk.tokenize import sent_tokenize   #한국어에도 이용가능\n",
    "#text = \"His barber kept his word. But keeping such a huge secret to himself was driving him crazy. Finally, the barber went up a mountain and almost to the edge of a cliff. He dug a hole in the midst of some reeds. He looked about, to make sure no one was near.\"\n",
    "text='사용하는 코퍼스가 어떤 국적의 언어인지, 또는 해당 코퍼스 내에서 특수문자들이 어떻게 사용되고 있는지에 따라서 직접 규칙들을 정의해볼 수 있겠습니다. 100% 정확도를 얻는 일은 쉬운 일이 아닌데, 갖고있는 코퍼스 데이터에 오타나, 문장의 구성이 엉망이라면 정해놓은 규칙이 소용이 없을 수 있기 때문입니다.'\n",
    "print('문장 토큰화1 :',sent_tokenize(text))\n",
    "\n",
    "text = \"I am actively looking for Ph.D. students. and you are a Ph.D student.\"\n",
    "print('문장 토큰화2 :',sent_tokenize(text))"
   ]
  },
  {
   "cell_type": "code",
   "execution_count": null,
   "id": "9e771a5a",
   "metadata": {},
   "outputs": [],
   "source": []
  },
  {
   "cell_type": "raw",
   "id": "203192d0",
   "metadata": {},
   "source": [
    "#!pip install kss"
   ]
  },
  {
   "cell_type": "code",
   "execution_count": 14,
   "id": "8cf8806c-4093-4f97-b527-3bd2129ab03b",
   "metadata": {},
   "outputs": [
    {
     "name": "stdout",
     "output_type": "stream",
     "text": [
      "한국어 문장 토큰화 : ['딥 러닝 자연어 처리가 재미있기는 합니다.', '그런데 문제는 영어보다 한국어로 할 때 너무 어렵습니다.', '이제 해보면 알걸요?']\n"
     ]
    }
   ],
   "source": [
    "import kss\n",
    "\n",
    "text = '딥 러닝 자연어 처리가 재미있기는 합니다. 그런데 문제는 영어보다 한국어로 할 때 너무 어렵습니다. 이제 해보면 알걸요?'\n",
    "print('한국어 문장 토큰화 :',kss.split_sentences(text))\n"
   ]
  },
  {
   "cell_type": "markdown",
   "id": "8351071b-fabd-4492-9824-a161dc1195b8",
   "metadata": {},
   "source": [
    "한국어에서의 토큰화의 어려움.\n",
    "영어는 New York과 같은 합성어나 he's 와 같이 줄임말에 대한 예외처리만 한다면, 띄어쓰기(whitespace)를 기준으로 하는 띄어쓰기 토큰화를 수행해도 단어 토큰화가 잘 작동합니다. 거의 대부분의 경우에서 단어 단위로 띄어쓰기가 이루어지기 때문에 띄어쓰기 토큰화와 단어 토큰화가 거의 같기 때문입니다.\n",
    "\n",
    "하지만 한국어는 영어와는 달리 띄어쓰기만으로는 토큰화를 하기에 부족합니다. 한국어의 경우에는 띄어쓰기 단위가 되는 단위를 '어절'이라고 하는데 어절 토큰화는 한국어 NLP에서 지양되고 있습니다. 어절 토큰화와 단어 토큰화는 같지 않기 때문입니다. 그 근본적인 이유는 한국어가 영어와는 다른 형태를 가지는 언어인 교착어라는 점에서 기인합니다. 교착어란 조사, 어미 등을 붙여서 말을 만드는 언어를 말합니다.\n",
    "\n",
    "1) 교착어의 특성\n",
    "예를 들어봅시다. 영어와는 달리 한국어에는 조사라는 것이 존재합니다. 예를 들어 한국어에 그(he/him)라는 주어나 목적어가 들어간 문장이 있다고 합시다. 이 경우, 그라는 단어 하나에도 '그가', '그에게', '그를', '그와', '그는'과 같이 다양한 조사가 '그'라는 글자 뒤에 띄어쓰기 없이 바로 붙게됩니다. 자연어 처리를 하다보면 같은 단어임에도 서로 다른 조사가 붙어서 다른 단어로 인식이 되면 자연어 처리가 힘들고 번거로워지는 경우가 많습니다. 대부분의 한국어 NLP에서 조사는 분리해줄 필요가 있습니다.\n",
    "\n",
    "띄어쓰기 단위가 영어처럼 독립적인 단어라면 띄어쓰기 단위로 토큰화를 하면 되겠지만 한국어는 어절이 독립적인 단어로 구성되는 것이 아니라 조사 등의 무언가가 붙어있는 경우가 많아서 이를 전부 분리해줘야 한다는 의미입니다.\n",
    "\n",
    "한국어 토큰화에서는 형태소(morpheme) 란 개념을 반드시 이해해야 합니다. 형태소(morpheme)란 뜻을 가진 가장 작은 말의 단위를 말합니다. 이 형태소에는 두 가지 형태소가 있는데 자립 형태소와 의존 형태소입니다.\n",
    "\n",
    "자립 형태소 : 접사, 어미, 조사와 상관없이 자립하여 사용할 수 있는 형태소. 그 자체로 단어가 된다. 체언(명사, 대명사, 수사), 수식언(관형사, 부사), 감탄사 등이 있다.\n",
    "의존 형태소 : 다른 형태소와 결합하여 사용되는 형태소. 접사, 어미, 조사, 어간을 말한다.\n",
    "예를 들어 다음과 같은 문장이 있다고 합시다.\n",
    "\n",
    "문장 : 에디가 책을 읽었다\n",
    "이 문장을 띄어쓰기 단위 토큰화를 수행한다면 다음과 같은 결과를 얻습니다.\n",
    "\n",
    "['에디가', '책을', '읽었다']\n",
    "하지만 이를 형태소 단위로 분해하면 다음과 같습니다.\n",
    "\n",
    "자립 형태소 : 에디, 책\n",
    "의존 형태소 : -가, -을, 읽-, -었, -다\n",
    "\n",
    "'에디'라는 사람 이름과 '책'이라는 명사를 얻어낼 수 있습니다. 이를 통해 유추할 수 있는 것은 한국어에서 영어에서의 단어 토큰화와 유사한 형태를 얻으려면 어절 토큰화가 아니라 형태소 토큰화를 수행해야한다는 겁니다.\n",
    "\n",
    "2) 한국어는 띄어쓰기가 영어보다 잘 지켜지지 않는다.\n",
    "사용하는 한국어 코퍼스가 뉴스 기사와 같이 띄어쓰기를 철저하게 지키려고 노력하는 글이라면 좋겠지만, 많은 경우에 띄어쓰기가 틀렸거나 지켜지지 않는 코퍼스가 많습니다.\n",
    "\n",
    "한국어는 영어권 언어와 비교하여 띄어쓰기가 어렵고 잘 지켜지지 않는 경향이 있습니다. 그 이유는 여러 견해가 있으나, 가장 기본적인 견해는 한국어의 경우 띄어쓰기가 지켜지지 않아도 글을 쉽게 이해할 수 있는 언어라는 점입니다. 띄어쓰기가 없던 한국어에 띄어쓰기가 보편화된 것도 근대(1933년, 한글맞춤법통일안)의 일입니다. 띄어쓰기를 전혀 하지 않은 한국어와 영어 두 가지 경우를 봅시다.\n",
    "\n",
    "EX1) 제가이렇게띄어쓰기를전혀하지않고글을썼다고하더라도글을이해할수있습니다.\n",
    "\n",
    "EX2) Tobeornottobethatisthequestion\n",
    "\n",
    "영어의 경우에는 띄어쓰기를 하지 않으면 손쉽게 알아보기 어려운 문장들이 생깁니다. 이는 한국어(모아쓰기 방식)와 영어(풀어쓰기 방식)라는 언어적 특성의 차이에 기인합니다. 이 책에서는 모아쓰기와 풀어쓰기에 대한 설명은 하지 않겠습니다. 다만, 결론적으로 한국어는 수많은 코퍼스에서 띄어쓰기가 무시되는 경우가 많아 자연어 처리가 어려워졌다는 것입니다.\n",
    "\n"
   ]
  },
  {
   "cell_type": "markdown",
   "id": "3914da63-aeae-4c1b-adce-e33bfbf27d11",
   "metadata": {},
   "source": [
    " 품사 태깅(Part-of-speech tagging)\n",
    "단어는 표기는 같지만 품사에 따라서 단어의 의미가 달라지기도 합니다. 예를 들어서 영어 단어 'fly'는 동사로는 '날다'라는 의미를 갖지만, 명사로는 '파리'라는 의미를 갖고있습니다. 한국어도 마찬가지입니다. '못'이라는 단어는 명사로서는 망치를 사용해서 목재 따위를 고정하는 물건을 의미합니다. 하지만 부사로서의 '못'은 '먹는다', '달린다'와 같은 동작 동사를 할 수 없다는 의미로 쓰입니다. 결국 단어의 의미를 제대로 파악하기 위해서는 해당 단어가 어떤 품사로 쓰였는지 보는 것이 주요 지표가 될 수도 있습니다. 그에 따라 단어 토큰화 과정에서 각 단어가 어떤 품사로 쓰였는지를 구분해놓기도 하는데, 이 작업을 품사 태깅(part-of-speech tagging)이라고 합니다. NLTK와 KoNLPy를 통해 품사 태깅 실습을 진행합니다."
   ]
  },
  {
   "cell_type": "code",
   "execution_count": 16,
   "id": "23500f27",
   "metadata": {},
   "outputs": [
    {
     "name": "stderr",
     "output_type": "stream",
     "text": [
      "[nltk_data] Downloading package averaged_perceptron_tagger to\n",
      "[nltk_data]     /home/eternal/nltk_data...\n"
     ]
    },
    {
     "name": "stdout",
     "output_type": "stream",
     "text": [
      "단어 토큰 :  ['못', '이라는', '단어는', '명사로서는', '망치를', '사용해서', '목재', '따위를', '고정하는', '물건을', '의미합니다', '.']\n",
      "품사 태깅 : [('못', 'JJ'), ('이라는', 'NNP'), ('단어는', 'NNP'), ('명사로서는', 'NNP'), ('망치를', 'NNP'), ('사용해서', 'NNP'), ('목재', 'NNP'), ('따위를', 'NNP'), ('고정하는', 'NNP'), ('물건을', 'NNP'), ('의미합니다', 'NNP'), ('.', '.')]\n"
     ]
    },
    {
     "name": "stderr",
     "output_type": "stream",
     "text": [
      "[nltk_data]   Unzipping taggers/averaged_perceptron_tagger.zip.\n"
     ]
    }
   ],
   "source": [
    "import nltk\n",
    "nltk.download('averaged_perceptron_tagger')\n",
    "from nltk.tokenize import word_tokenize\n",
    "from nltk.tag import pos_tag\n",
    "import nltk\n",
    "\n",
    "\n",
    "#text = \"I am actively looking for Ph.D. students. and you are a Ph.D. student.\"\n",
    "text='못 이라는 단어는 명사로서는 망치를 사용해서 목재 따위를 고정하는 물건을 의미합니다.'\n",
    "tokenized=word_tokenize(text)\n",
    "\n",
    "print('단어 토큰 : ',tokenized)\n",
    "\n",
    "print('품사 태깅 :',pos_tag(tokenized))  #한국어는 쓰기 힘듦\n"
   ]
  },
  {
   "cell_type": "code",
   "execution_count": 20,
   "id": "3f7f4672",
   "metadata": {},
   "outputs": [
    {
     "name": "stdout",
     "output_type": "stream",
     "text": [
      "OKT 형태소 분석 : ['열심히', '코딩', '한', '당신', ',', '연휴', '에는', '여행', '을', '가봐요']\n",
      "OKT 품사 태깅 : [('열심히', 'Adverb'), ('코딩', 'Noun'), ('한', 'Josa'), ('당신', 'Noun'), (',', 'Punctuation'), ('연휴', 'Noun'), ('에는', 'Josa'), ('여행', 'Noun'), ('을', 'Josa'), ('가봐요', 'Verb')]\n",
      "OKT 명사 추출 : ['코딩', '당신', '연휴', '여행']\n",
      "꼬꼬마 형태소 분석 : ['열심히', '코딩', '하', 'ㄴ', '당신', ',', '연휴', '에', '는', '여행', '을', '가보', '아요']\n",
      "꼬꼬마 품사 태깅 : [('열심히', 'MAG'), ('코딩', 'NNG'), ('하', 'XSV'), ('ㄴ', 'ETD'), ('당신', 'NP'), (',', 'SP'), ('연휴', 'NNG'), ('에', 'JKM'), ('는', 'JX'), ('여행', 'NNG'), ('을', 'JKO'), ('가보', 'VV'), ('아요', 'EFN')]\n",
      "꼬꼬마 명사 추출 : ['코딩', '당신', '연휴', '여행']\n"
     ]
    }
   ],
   "source": [
    "#from konlpy.tag import okt\n",
    "#from konlpy.tag import kkma\n",
    "\n",
    "from konlpy.tag import Okt\n",
    "\n",
    "from konlpy.tag import Kkma\n",
    "\n",
    "okt = Okt()\n",
    "kkma = Kkma()\n",
    "\n",
    "#okt=okt()\n",
    "#kkma=kkma()\n",
    "\n",
    "print('OKT 형태소 분석 :',okt.morphs(\"열심히 코딩한 당신, 연휴에는 여행을 가봐요\"))\n",
    "print('OKT 품사 태깅 :',okt.pos(\"열심히 코딩한 당신, 연휴에는 여행을 가봐요\"))\n",
    "print('OKT 명사 추출 :',okt.nouns(\"열심히 코딩한 당신, 연휴에는 여행을 가봐요\")) \n",
    "\n",
    "#OKT 형태소 분석 : ['열심히', '코딩', '한', '당신', ',', '연휴', '에는', '여행', '을', '가봐요']\n",
    "#OKT 품사 태깅 : [('열심히', 'Adverb'), ('코딩', 'Noun'), ('한', 'Josa'), ('당신', 'Noun'), (',', 'Punctuation'), ('연휴', 'Noun'), ('에는', 'Josa'), ('여행', 'Noun'), ('을', 'Josa'), ('가봐요', 'Verb')]\n",
    "#OKT 명사 추출 : ['코딩', '당신', '연휴', '여행']\n",
    "\n",
    "\n",
    "\n",
    "print('꼬꼬마 형태소 분석 :',kkma.morphs(\"열심히 코딩한 당신, 연휴에는 여행을 가봐요\"))\n",
    "print('꼬꼬마 품사 태깅 :',kkma.pos(\"열심히 코딩한 당신, 연휴에는 여행을 가봐요\"))\n",
    "print('꼬꼬마 명사 추출 :',kkma.nouns(\"열심히 코딩한 당신, 연휴에는 여행을 가봐요\"))  \n",
    "\n",
    "\n",
    "#꼬꼬마 형태소 분석 : ['열심히', '코딩', '하', 'ㄴ', '당신', ',', '연휴', '에', '는', '여행', '을', '가보', '아요']\n",
    "#꼬꼬마 품사 태깅 : [('열심히', 'MAG'), ('코딩', 'NNG'), ('하', 'XSV'), ('ㄴ', 'ETD'), ('당신', 'NP'), (',', 'SP'), ('연휴', 'NNG'), ('에', 'JKM'), ('는', 'JX'), ('여행', 'NNG'), ('을', 'JKO'), ('가보', 'VV'), ('아요', 'EFN')]\n",
    "#꼬꼬마 명사 추출 : ['코딩', '당신', '연휴', '여행']\n",
    "\n"
   ]
  },
  {
   "cell_type": "code",
   "execution_count": 76,
   "id": "c5632aa0-4440-4ca3-a71a-8baa20a3eaf1",
   "metadata": {},
   "outputs": [],
   "source": [
    "#------------------------------------------------------------------"
   ]
  },
  {
   "cell_type": "markdown",
   "id": "05278fee-9a3a-4ea5-9c17-209526d3a2b2",
   "metadata": {},
   "source": [
    "텍스트 데이터의 정제와 정규화\n",
    "\n",
    "정제(cleaning) : 갖고 있는 코퍼스로부터 노이즈 데이터를 제거한다.\n",
    "정규화(normalization) : 표현 방법이 다른 단어들을 통합시켜서 같은 단어로 만들어준다.\n",
    "\n",
    "정제 작업은 토큰화 작업에 방해가 되는 부분들을 배제시키고 토큰화 작업을 수행하기 위해서 토큰화 작업보다 앞서 이루어지기도 하지만, 토큰화 작업 이후에도 여전히 남아있는 노이즈들을 제거하기위해 지속적으로 이루어지기도 합니다. 사실 완벽한 정제 작업은 어려운 편이라서, 대부분의 경우 이 정도면 됐다.라는 일종의 합의점을 찾기도 합니다.\n",
    "\n",
    "1. 규칙에 기반한 표기가 다른 단어들의 통합\n",
    "필요에 따라 직접 코딩을 통해 정의할 수 있는 정규화 규칙의 예로서 같은 의미를 갖고있음에도, 표기가 다른 단어들을 하나의 단어로 정규화하 는 방법을 사용할 수 있습니다.\n",
    "\n",
    "가령, USA와 US는 같은 의미를 가지므로 하나의 단어로 정규화해볼 수 있습니다. uh-huh와 uhhuh는 형태는 다르지만 여전히 같은 의미를 갖고 있습니다. 이러한 정규화를 거치게 되면, US를 찾아도 USA도 함께 찾을 수 있을 것입니다. 뒤에서 표기가 다른 단어들을 통합하는 방법인 어간 추출(stemming)과 표제어 추출(lemmatizaiton)에 대해서 더 자세히 알아봅니다.\n",
    "\n",
    "2. 대, 소문자 통합\n",
    "영어권 언어에서 대, 소문자를 통합하는 것은 단어의 개수를 줄일 수 있는 또 다른 정규화 방법입니다. 영어권 언어에서 대문자는 문장의 맨 앞 등과 같은 특정 상황에서만 쓰이고, 대부분의 글은 소문자로 작성되기 때문에 대, 소문자 통합 작업은 대부분 대문자를 소문자로 변환하는 소문자 변환작업으로 이루어지게 됩니다.\n",
    "\n",
    "소문자 변환이 왜 유용한지 예를 들어보도록 하겠습니다. 가령, Automobile이라는 단어가 문장의 첫 단어였기때문에 A가 대문자였다고 생각해봅시다. 여기에 소문자 변환을 사용하면, automobile을 찾는 질의(query)의 결과로서 Automobile도 찾을 수 있게 됩니다. 검색 엔진에서 사용자가 페라리 차량에 관심이 있어서 페라리를 검색해본다고 합시다. 엄밀히 말해서 사실 사용자가 검색을 통해 찾고자하는 결과는 a Ferrari car라고 봐야합니다. 하지만 검색 엔진은 소문자 변환을 적용했을 것이기 때문에 ferrari만 쳐도 원하는 결과를 얻을 수 있을 것입니다.\n",
    "\n",
    "물론 대문자와 소문자를 무작정 통합해서는 안 됩니다. 대문자와 소문자가 구분되어야 하는 경우도 있습니다. 가령 미국을 뜻하는 단어 US와 우리를 뜻하는 us는 구분되어야 합니다. 또 회사 이름(General Motors)나, 사람 이름(Bush) 등은 대문자로 유지되는 것이 옳습니다.\n",
    "\n",
    "모든 토큰을 소문자로 만드는 것이 문제를 가져온다면, 또 다른 대안은 일부만 소문자로 변환시키는 방법도 있습니다. 가령, 이런 규칙은 어떨까요? 문장의 맨 앞에서 나오는 단어의 대문자만 소문자로 바꾸고, 다른 단어들은 전부 대문자인 상태로 놔두는 것입니다.\n",
    "\n",
    "이러한 작업은 더 많은 변수를 사용해서 소문자 변환을 언제 사용할지 결정하는 머신 러닝 시퀀스 모델로 더 정확하게 진행시킬 수 있습니다. 하지만 만약 올바른 대문자 단어를 얻고 싶은 상황에서 훈련에 사용하는 코퍼스가 사용자들이 단어의 대문자, 소문자의 올바른 사용 방법과 상관없이 소문자를 사용하는 사람들로부터 나온 데이터라면 이러한 방법 또한 그다지 도움이 되지 않을 수 있습니다. 결국에는 예외 사항을 크게 고려하지 않고, 모든 코퍼스를 소문자로 바꾸는 것이 종종 더 실용적인 해결책이 되기도 합니다.\n",
    "\n",
    "3. 불필요한 단어의 제거\n",
    "정제 작업에서 제거해야하는 노이즈 데이터(noise data)는 자연어가 아니면서 아무 의미도 갖지 않는 글자들(특수 문자 등)을 의미하기도 하지만, 분석하고자 하는 목적에 맞지 않는 불필요 단어들을 노이즈 데이터라고 하기도 합니다.\n",
    "\n",
    "불필요 단어들을 제거하는 방법으로는 불용어 제거와 등장 빈도가 적은 단어, 길이가 짧은 단어들을 제거하는 방법이 있습니다. 불용어 제거는 불용어 챕터에서 더욱 자세히 다루기로 하고, 여기서는 등장 빈도가 적은 단어와 길이가 짧은 단어를 제거하는 경우에 대해서 간략히 설명하겠습니다.\n",
    "\n",
    "(1) 등장 빈도가 적은 단어\n",
    "때로는 텍스트 데이터에서 너무 적게 등장해서 자연어 처리에 도움이 되지 않는 단어들이 존재합니다. 예를 들어 입력된 메일이 정상 메일인지 스팸 메일인지를 분류하는 스팸 메일 분류기를 설계한다고 가정해보겠습니다. 총 100,000개의 메일을 가지고 정상 메일에서는 어떤 단어들이 주로 등장하고, 스팸 메일에서는 어떤 단어들이 주로 등장하는지를 가지고 설계하고자 합니다. 그런데 이때 100,000개의 메일 데이터에서 총 합 5번 밖에 등장하지 않은 단어가 있다면 이 단어는 직관적으로 분류에 거의 도움이 되지 않을 것임을 알 수 있습니다.\n",
    "\n",
    "(2) 길이가 짧은 단어\n",
    "영어권 언어에서는 길이가 짧은 단어를 삭제하는 것만으로도 어느정도 자연어 처리에서 크게 의미가 없는 단어들을 제거하는 효과를 볼 수 있다고 알려져 있습니다. 즉, 영어권 언어에서 길이가 짧은 단어들은 대부분 불용어에 해당됩니다. 사실 길이가 짧은 단어를 제거하는 2차 이유는 길이를 조건으로 텍스트를 삭제하면서 단어가 아닌 구두점들까지도 한꺼번에 제거하기 위함도 있습니다. 하지만 한국어에서는 길이가 짧은 단어라고 삭제하는 이런 방법이 크게 유효하지 않을 수 있는데 그 이유에 대해서 정리해보도록 하겠습니다.\n",
    "\n",
    "단정적으로 말할 수는 없지만, 영어 단어의 평균 길이는 6~7 정도이며, 한국어 단어의 평균 길이는 2~3 정도로 추정되고 있습니다. 두 나라의 단어 평균 길이가 몇 인지에 대해서는 확실히 말하기 어렵지만 그럼에도 확실한 사실은 영어 단어의 길이가 한국어 단어의 길이보다는 평균적으로 길다는 점입니다.\n",
    "\n",
    "이는 영어 단어와 한국어 단어에서 각 한 글자가 가진 의미의 크기가 다르다는 점에서 기인합니다. 한국어 단어는 한자어가 많고, 한 글자만으로도 이미 의미를 가진 경우가 많습니다. 예를 들어 '학교'라는 한국어 단어를 생각해보면, 배울 학(學)과 학교 교(校)로 글자 하나, 하나가 이미 함축적인 의미를 갖고있어 두 글자만으로 학교라는 단어를 표현합니다. 하지만 영어의 경우에는 학교라는 글자를 표현하기 위해서는 s, c, h, o, o, l이라는 총 6개의 글자가 필요합니다. 다른 예로는 전설 속 동물인 용(龍)을 표현하기 위해서는 한국어로는 한 글자면 충분하지만, 영어에서는 d, r, a, g, o, n이라는 총 6개의 글자가 필요합니다.\n",
    "\n",
    "이러한 특성으로 인해 영어는 길이가 2~3 이하인 단어를 제거하는 것만으로도 크게 의미를 갖지 못하는 단어를 줄이는 효과를 갖고있습니다. 예를 들어 갖고 있는 텍스트 데이터에서 길이가 1인 단어를 제거하는 코드를 수행하면 대부분의 자연어 처리에서 의미를 갖지 못하는 단어인 관사 'a'와 주어로 쓰이는 'I'가 제거됩니다. 마찬가지로 길이가 2인 단어를 제거한다고 하면 it, at, to, on, in, by 등과 같은 대부분 불용어에 해당되는 단어들이 제거됩니다. 필요에 따라서는 길이가 3인 단어도 제거할 수 있지만, 이 경우 fox, dog, car 등 길이가 3인 명사들이 제거 되기시작하므로 사용하고자 하는 데이터에서 해당 방법을 사용해도 되는지에 대한 고민이 필요합니다.\n",
    "\n",
    "\n",
    "4. 정규 표현식(Regular Expression)\n",
    "얻어낸 코퍼스에서 노이즈 데이터의 특징을 잡아낼 수 있다면, 정규 표현식을 통해서 이를 제거할 수 있는 경우가 많습니다. 가령, HTML 문서로부터 가져온 코퍼스라면 문서 여기저기에 HTML 태그가 있습니다. 뉴스 기사를 크롤링 했다면, 기사마다 게재 시간이 적혀져 있을 수 있습니다. 정규 표현식은 이러한 코퍼스 내에 계속해서 등장하는 글자들을 규칙에 기반하여 한 번에 제거하는 방식으로서 매우 유용합니다.\n",
    "\n",
    "이 책에서도 전처리를 위해 정규 표현식을 앞으로 종종 사용하게 될 겁니다. 예를 들어 위에서 길이가 짧은 단어를 제거할 때도, 정규 표현식이 유용하게 사용되었습니다. 정규 표현식에 대한 자세한 내용은 뒤에서 좀 더 상세하게 다룹니다."
   ]
  },
  {
   "cell_type": "code",
   "execution_count": 21,
   "id": "aa5bcf03-9034-4580-aaae-fe80ca02b7fc",
   "metadata": {},
   "outputs": [
    {
     "name": "stdout",
     "output_type": "stream",
     "text": [
      " was wondering anyone out there could enlighten this car.\n"
     ]
    }
   ],
   "source": [
    "import re\n",
    "text = \"I was wondering if anyone out there could enlighten me on this car.\"\n",
    "show=re.compile(r'\\W*\\b\\w{1,2}\\b')\n",
    "\n",
    "print(show.sub('', text))\n"
   ]
  },
  {
   "cell_type": "code",
   "execution_count": 22,
   "id": "4db7093f",
   "metadata": {},
   "outputs": [
    {
     "name": "stderr",
     "output_type": "stream",
     "text": [
      "[nltk_data] Downloading package stopwords to\n",
      "[nltk_data]     /home/eternal/nltk_data...\n"
     ]
    },
    {
     "name": "stdout",
     "output_type": "stream",
     "text": [
      "불용어 개수 : 179\n",
      "불용어 10개 출력 : ['i', 'me', 'my', 'myself', 'we', 'our', 'ours', 'ourselves', 'you', \"you're\"]\n",
      "불용어 제거 전 : ['Family', 'is', 'not', 'an', 'important', 'thing', '.', 'It', \"'s\", 'everything', '.']\n",
      "불용어 제거 후 : ['Family', 'important', 'thing', '.', 'It', \"'s\", 'everything', '.']\n",
      "불용어 제거 전 : ['고기', '를', '아무렇게나', '구', '우려', '고', '하면', '안', '돼', '.', '고기', '라고', '다', '같은', '게', '아니거든', '.', '예컨대', '삼겹살', '을', '구울', '때', '는', '중요한', '게', '있지', '.']\n",
      "불용어 제거 후 : ['고기', '하면', '.', '고기', '라고', '다', '아니거든', '.', '예컨대', '삼겹살', '을', '중요한', '있지', '.']\n"
     ]
    },
    {
     "name": "stderr",
     "output_type": "stream",
     "text": [
      "[nltk_data]   Unzipping corpora/stopwords.zip.\n"
     ]
    }
   ],
   "source": [
    "from nltk.corpus import stopwords\n",
    "from nltk.tokenize import word_tokenize \n",
    "from konlpy.tag import Okt\n",
    "import nltk\n",
    "nltk.download('stopwords')\n",
    "stop_words_list = stopwords.words('english')\n",
    "print('불용어 개수 :', len(stop_words_list))\n",
    "print('불용어 10개 출력 :',stop_words_list[:10])\n",
    "\n",
    "\n",
    "#불용어 개수 : 179\n",
    "#불용어 10개 출력 : ['i', 'me', 'my', 'myself', 'we', 'our', 'ours', 'ourselves', 'you', \"you're\"]\n",
    "#-> 'i', 'me', 'my'와 같은 단어들을 NLTK에서 불용어로 정의하고 있음을 확인\n",
    "\n",
    "\n",
    "\n",
    "\n",
    "example = \"Family is not an important thing. It's everything.\"\n",
    "stop_words = set(stopwords.words('english')) \n",
    "\n",
    "word_tokens = word_tokenize(example)\n",
    "\n",
    "result = []\n",
    "for word in word_tokens: \n",
    "    if word not in stop_words: \n",
    "        result.append(word) \n",
    "\n",
    "print('불용어 제거 전 :',word_tokens) \n",
    "print('불용어 제거 후 :',result)\n",
    "\n",
    "#불용어 제거 전 : ['Family', 'is', 'not', 'an', 'important', 'thing', '.', 'It', \"'s\", 'everything', '.']\n",
    "#불용어 제거 후 : ['Family', 'important', 'thing', '.', 'It', \"'s\", 'everything', '.']\n",
    "#->'is', 'not', 'an'과 같은 단어들이 문장에서 제거되었음을 볼 수 있음\n",
    "\n",
    "\n",
    "\n",
    "\n",
    "okt = Okt()\n",
    "\n",
    "example = \"고기를 아무렇게나 구우려고 하면 안 돼. 고기라고 다 같은 게 아니거든. 예컨대 삼겹살을 구울 때는 중요한 게 있지.\"\n",
    "stop_words = \"를 아무렇게나 구 우려 고 안 돼 같은 게 구울 때 는\"\n",
    "\n",
    "stop_words = set(stop_words.split(' '))\n",
    "word_tokens = okt.morphs(example)\n",
    "\n",
    "result = [word for word in word_tokens if not word in stop_words]\n",
    "\n",
    "print('불용어 제거 전 :',word_tokens) \n",
    "print('불용어 제거 후 :',result)\n",
    "\n",
    "\n",
    "\n",
    "\n",
    "#불용어 제거 전 : ['고기', '를', '아무렇게나', '구', '우려', '고', '하면', '안', '돼', '.', '고기', '라고', '다', '같은', '게', '아니거든', '.', '예컨대', '삼겹살', '을', '구울', '때', '는', '중요한', '게', '있지', '.']\n",
    "#불용어 제거 후 : ['고기', '하면', '.', '고기', '라고', '다', '아니거든', '.', '예컨대', '삼겹살', '을', '중요한', '있지', '.']\n",
    "\n",
    "#한국어에서 불용어를 제거하는 방법으로는 간단하게는 토큰화 후에 조사, 접속사 등을 제거하는 방법이 있습니다. 하지만 불용어를 제거하려고 하다보면 조사나 접속사와 같은 단어들뿐만 아니라 명사, 형용사와 같은 단어들 중에서 불용어로서 제거하고 싶은 단어들이 생기기도 합니다. 결국에는 사용자가 직접 불용어 사전을 만들게 되는 경우가 많습니다. "
   ]
  },
  {
   "cell_type": "code",
   "execution_count": null,
   "id": "9aeb9120-c0ef-4ab4-9020-f1381379e055",
   "metadata": {},
   "outputs": [],
   "source": []
  },
  {
   "cell_type": "code",
   "execution_count": 23,
   "id": "1049a906-da17-4885-b28c-3ee897373de2",
   "metadata": {},
   "outputs": [
    {
     "data": {
      "text/plain": [
       "<re.Match object; span=(0, 3), match='abc'>"
      ]
     },
     "execution_count": 23,
     "metadata": {},
     "output_type": "execute_result"
    }
   ],
   "source": [
    "import re\n",
    "#. 기호\n",
    "'''.은 한 개의 임의의 문자를 나타냅니다. 예를 들어서 정규 표현식이 a.c라고 합시다.\n",
    "a와 c 사이에는 어떤 1개의 문자라도 올 수 있습니다.\n",
    "akc, azc, avc, a5c, a!c와 같은 형태는 모두 a.c의 정규 표현식과 매치됩니다.'''\n",
    "r=re.compile('a.c')  #a,c 사이의 모시깽이1개를 인식\n",
    "r.search('kkk')  # 아무런 결과도 출력되지 않는다.\n",
    "r.search('abc')\n"
   ]
  },
  {
   "cell_type": "code",
   "execution_count": 24,
   "id": "87f35f1d-cacf-47fb-aa60-ec89aee5d967",
   "metadata": {},
   "outputs": [
    {
     "data": {
      "text/plain": [
       "<re.Match object; span=(0, 3), match='abc'>"
      ]
     },
     "execution_count": 24,
     "metadata": {},
     "output_type": "execute_result"
    }
   ],
   "source": [
    "#? 기호\n",
    "'''?는 ?앞의 문자가 존재할 수도 있고 존재하지 않을 수도 있는 경우를 나타냅니다.\n",
    "예를 들어서 정규 표현식이 ab?c라고 합시다.\n",
    "이 경우 이 정규 표현식에서의 b는 있다고 취급할 수도 있고, 없다고 취급할 수도 있습니다.\n",
    "즉, abc와 ac 모두 매치할 수 있습니다.'''\n",
    "r=re.compile('ab?c')\n",
    "r.search('abac')\n",
    "r.search('abc')"
   ]
  },
  {
   "cell_type": "code",
   "execution_count": 25,
   "id": "2f704409-e341-4d21-b82e-fc0e8914f459",
   "metadata": {},
   "outputs": [
    {
     "data": {
      "text/plain": [
       "<re.Match object; span=(0, 7), match='abbbbbc'>"
      ]
     },
     "execution_count": 25,
     "metadata": {},
     "output_type": "execute_result"
    }
   ],
   "source": [
    "#*기호\n",
    "'''바로 앞의 문자가 0개 이상일 경우를 나타냅니다.\n",
    "앞의 문자는 존재하지 않을 수도 있으며, 또는 여러 개일 수도 있습니다.\n",
    "정규 표현식이 ab*c라면 ac, abc, abbc, abbbc 등과 매치할 수 있으며 b의 개수는 무수히 많을 수 있습니다.'''\n",
    "\n",
    "r=re.compile('ab*c')\n",
    "r.search('abc')\n",
    "r.search('abbbbbc')\n"
   ]
  },
  {
   "cell_type": "code",
   "execution_count": 26,
   "id": "c0745294-efe4-4d8e-9178-ad36aa867bf7",
   "metadata": {},
   "outputs": [
    {
     "data": {
      "text/plain": [
       "<re.Match object; span=(0, 9), match='abbbbbbbc'>"
      ]
     },
     "execution_count": 26,
     "metadata": {},
     "output_type": "execute_result"
    }
   ],
   "source": [
    "#+기호 span=(0, 9) ->9개수, 0-다른 문자수>\n",
    "'''\n",
    "+는 *와 유사합니다.\n",
    "다른 점은 앞의 문자가 최소 1개 이상이어야 합니다.\n",
    "정규 표현식이 ab+c라고 한다면 ac는 매치되지 않습니다. \n",
    "하지만 abc, abbc, abbbc 등과 매치할 수 있으며 b의 개수는 무수히 많을 수 있습니다.\n",
    "'''\n",
    "\n",
    "r=re.compile('ab+c')\n",
    "r.search('ac')\n",
    "r.search('abbbbbbbc')"
   ]
  },
  {
   "cell_type": "code",
   "execution_count": 27,
   "id": "aa0f28b2-2561-4cb9-95da-92f0820a417c",
   "metadata": {},
   "outputs": [
    {
     "data": {
      "text/plain": [
       "<re.Match object; span=(0, 2), match='ab'>"
      ]
     },
     "execution_count": 27,
     "metadata": {},
     "output_type": "execute_result"
    }
   ],
   "source": [
    "#^기호\n",
    "'''^는 시작되는 문자열을 지정합니다.\n",
    "정규표현식이 ^ab라면 문자열 ab로 시작되는 경우 매치합니다.'''\n",
    "r=re.compile('^ab')\n",
    "r.search('bbc')\n",
    "r.search('zab')\n",
    "r.search('abzzzz')"
   ]
  },
  {
   "cell_type": "code",
   "execution_count": 28,
   "id": "9e53a5af-f06b-4d29-9980-18a6cb5167cd",
   "metadata": {},
   "outputs": [
    {
     "data": {
      "text/plain": [
       "<re.Match object; span=(0, 5), match='abbbc'>"
      ]
     },
     "execution_count": 28,
     "metadata": {},
     "output_type": "execute_result"
    }
   ],
   "source": [
    "#{숫자} 기호\n",
    "'''\n",
    "문자에 해당 기호를 붙이면, 해당 문자를 숫자만큼 반복한 것을 나타냅니다.\n",
    "예를 들어서 정규 표현식이 ab{2}c라면 a와 c 사이에 b가 존재하면서 b가 2개인 문자열에 대해서 매치합니다.\n",
    "'''\n",
    "r=re.compile('ab{3}c') #b자신 포함 3개\n",
    "r.search('ac')\n",
    "r.search('abc')\n",
    "r.search('abbbbbbbbbbbbc')# 아무런 결과도 출력되지 않는다.\n",
    "\n",
    "r.search('abbbc')"
   ]
  },
  {
   "cell_type": "code",
   "execution_count": 29,
   "id": "d31149bb-aa66-498e-b6e8-ea09c6d1b4e9",
   "metadata": {},
   "outputs": [
    {
     "data": {
      "text/plain": [
       "<re.Match object; span=(0, 11), match='abbbbbbbbbc'>"
      ]
     },
     "execution_count": 29,
     "metadata": {},
     "output_type": "execute_result"
    }
   ],
   "source": [
    "#{숫자1, 숫자2} 기호\n",
    "'''\n",
    "문자에 해당 기호를 붙이면, 해당 문자를 숫자1 이상 숫자2 이하만큼 반복합니다.\n",
    "예를 들어서 정규 표현식이 ab{2,8}c라면 a와 c 사이에 b가 존재하면서 b는 2개 이상 \n",
    "8개 이하인 문자열에 대해서 매치합니다.\n",
    "'''\n",
    "r=re.compile('ab{4,9}c')  #b가 4,9일때 출력\n",
    "r.search('ac')\n",
    "r.search('abc')\n",
    "r.search('abbbbbbbbbbbc')  # 아무런 결과도 출력되지 않는다.\n",
    "\n",
    "r.search('abbbbc')\n",
    "r.search('abbbbbbbbbc')"
   ]
  },
  {
   "cell_type": "code",
   "execution_count": 30,
   "id": "6d2abf54-e2d6-418f-b891-595cb76f49f7",
   "metadata": {},
   "outputs": [
    {
     "data": {
      "text/plain": [
       "<re.Match object; span=(0, 4), match='aabc'>"
      ]
     },
     "execution_count": 30,
     "metadata": {},
     "output_type": "execute_result"
    }
   ],
   "source": [
    "#{숫자,} 기호\n",
    "'''\n",
    "문자에 해당 기호를 붙이면 해당 문자를 숫자 이상 만큼 반복합니다.\n",
    "예를 들어서 정규 표현식이 a{2,}bc라면 뒤에 bc가 붙으면서 a의 개수가 2개 이상인 경우인 문자열과 매치합니다. \n",
    "또한 만약 {0,}을 쓴다면 *와 동일한 의미가 되며, {1,}을 쓴다면 +와 동일한 의미가 됩니다.\n",
    "'''\n",
    "r=re.compile('a{2,}bc')\n",
    "r.search('bc')\n",
    "r.search('aa')# 아무런 결과도 출력되지 않는다.\n",
    "\n",
    "r.search('aabc')"
   ]
  },
  {
   "cell_type": "code",
   "execution_count": 31,
   "id": "6838f554-6b26-41db-bf95-7997218b9e67",
   "metadata": {},
   "outputs": [
    {
     "data": {
      "text/plain": [
       "<re.Match object; span=(0, 1), match='a'>"
      ]
     },
     "execution_count": 31,
     "metadata": {},
     "output_type": "execute_result"
    }
   ],
   "source": [
    "#[ ] 기호\n",
    "'''\n",
    "[ ]안에 문자들을 넣으면 그 문자들 중 한 개의 문자와 매치라는 의미를 가집니다.\n",
    "예를 들어서 정규 표현식이 [abc]라면, a 또는 b또는 c가 들어가있는 문자열과 매치됩니다.\n",
    "범위를 지정하는 것도 가능합니다. \n",
    "[a-zA-Z]는 알파벳 전부를 의미하며, [0-9]는 숫자 전부를 의미합니다.\n",
    "'''\n",
    "\n",
    "r=re.compile('[abc]')\n",
    "r.search('aaaaaaaa')\n",
    "r.search('baaac')\n",
    "\n",
    "r=re.compile('[a-z]')\n",
    "r.search('AAA')\n",
    "r.search('111')# 아무런 결과도 출력되지 않는다.\n",
    "\n",
    "r.search('aBc')"
   ]
  },
  {
   "cell_type": "code",
   "execution_count": 32,
   "id": "56bc51c8-e64b-443a-8d40-a075eeb6bb61",
   "metadata": {},
   "outputs": [
    {
     "data": {
      "text/plain": [
       "'\\nab 다음에는 어떤 한 글자가 존재할 수 있다는 패턴을 의미합니다. \\nsearch 모듈 함수에 kkkabc라는 문자열을 넣어 매치되는지 확인한다면 abc라는 문자열에서 매치되어 Match object를 리턴합니다.\\n하지만 match 모듈 함수의 경우 앞 부분이 ab.와 매치되지 않기때문에, 아무런 결과도 출력되지 않습니다. \\n하지만 반대로 abckkk로 매치를 시도해보면, 시작 부분에서 패턴과 매치되었기 때문에 정상적으로 Match object를 리턴합니다.'"
      ]
     },
     "execution_count": 32,
     "metadata": {},
     "output_type": "execute_result"
    }
   ],
   "source": [
    "#[^문자] 기호\n",
    "'''\n",
    "[^문자]는 ^기호 뒤에 붙은 문자들을 제외한 모든 문자를 매치하는 역할을 합니다.\n",
    "예를 들어서 [^abc]라는 정규 표현식이 있다면, a 또는 b 또는 c가 들어간 문자열을 제외한 모든 문자열을 매치합니다.\n",
    "'''\n",
    "r=re.compile('[^abc]')\n",
    "r.search('a')\n",
    "r.search('ab')\n",
    "r.search('abc') # 아무런 결과도 출력되지 않는다.\n",
    "\n",
    "r.search('dsfsdrgh')\n",
    "r.search('12')\n",
    "'''\n",
    "ab 다음에는 어떤 한 글자가 존재할 수 있다는 패턴을 의미합니다. \n",
    "search 모듈 함수에 kkkabc라는 문자열을 넣어 매치되는지 확인한다면 abc라는 문자열에서 매치되어 Match object를 리턴합니다.\n",
    "하지만 match 모듈 함수의 경우 앞 부분이 ab.와 매치되지 않기때문에, 아무런 결과도 출력되지 않습니다. \n",
    "하지만 반대로 abckkk로 매치를 시도해보면, 시작 부분에서 패턴과 매치되었기 때문에 정상적으로 Match object를 리턴합니다.'''"
   ]
  },
  {
   "cell_type": "markdown",
   "id": "b5c6f8aa-5e87-41ee-a545-2c787ce1e776",
   "metadata": {},
   "source": [
    "정규 표현식 모듈 함수 예제"
   ]
  },
  {
   "cell_type": "code",
   "execution_count": 33,
   "id": "a172f38c-0cb1-4713-abfa-60a3509ff612",
   "metadata": {},
   "outputs": [
    {
     "name": "stdout",
     "output_type": "stream",
     "text": [
      "<re.Match object; span=(0, 3), match='aba'>\n"
     ]
    },
    {
     "data": {
      "text/plain": [
       "'\\nab 다음에는 어떤 한 글자가 존재할 수 있다는 패턴을 의미합니다.\\nsearch 모듈 함수에 kkkabc라는 문자열을 넣어 매치되는지 확인한다면 abc라는 문자열에서 매치되어 Match object를 리턴합니다.\\n하지만 match 모듈 함수의 경우 앞 부분이 ab.와 매치되지 않기때문에, 아무런 결과도 출력되지 않습니다.\\n하지만 반대로 abckkk로 매치를 시도해보면,시작 부분에서 패턴과 매치되었기 때문에 정상적으로 Match object를 리턴합니다.\\n'"
      ]
     },
     "execution_count": 33,
     "metadata": {},
     "output_type": "execute_result"
    }
   ],
   "source": [
    "#re.match() 와 re.search()의 차이\n",
    "'''\n",
    "search()가 정규 표현식 전체에 대해서 문자열이 매치하는지를 본다면,\n",
    "match()는 문자열의 첫 부분부터 정규 표현식과 매치하는지를 확인합니다.\n",
    "문자열 중간에 찾을 패턴이 있더라도 match 함수는 문자열의 시작에서 패턴이 일치하지 않으면 찾지 않습니다.\n",
    "'''\n",
    "r=re.compile('ab.') #초반 ab<next>로 시작\n",
    "r.match('kkkabc')# 아무런 결과도 출력되지 않는다\n",
    "r.match('abasdsada')\n",
    "\n",
    "print(r.match('abasdsada'))\n",
    "\n",
    "'''\n",
    "ab 다음에는 어떤 한 글자가 존재할 수 있다는 패턴을 의미합니다.\n",
    "search 모듈 함수에 kkkabc라는 문자열을 넣어 매치되는지 확인한다면 abc라는 문자열에서 매치되어 Match object를 리턴합니다.\n",
    "하지만 match 모듈 함수의 경우 앞 부분이 ab.와 매치되지 않기때문에, 아무런 결과도 출력되지 않습니다.\n",
    "하지만 반대로 abckkk로 매치를 시도해보면,시작 부분에서 패턴과 매치되었기 때문에 정상적으로 Match object를 리턴합니다.\n",
    "'''"
   ]
  },
  {
   "cell_type": "code",
   "execution_count": 34,
   "id": "6d3e0336-de63-4428-bfa5-a824c47b5ef2",
   "metadata": {},
   "outputs": [
    {
     "name": "stdout",
     "output_type": "stream",
     "text": [
      "['사과', '딸기', '수박', '메론', '바나나']\n",
      "['사과', '딸기', '수박', '메론', '바나나']\n",
      "['사과', '딸기', '수박', '메론', '바나나']\n"
     ]
    }
   ],
   "source": [
    "#re.split() -> 문자열만 뽑기\n",
    "'''split() 함수는 입력된 정규 표현식을 기준으로 문자열들을 분리하여 리스트로 리턴합니다.\n",
    "토큰화에 유용하게 쓰일 수 있습니다. \n",
    "공백을 기준으로 문자열 분리를 수행하고 결과로서 리스트를 리턴해봅시다.'''\n",
    "\n",
    "text = \"사과 딸기 수박 메론 바나나\"\n",
    "print(re.split(' ',text))# 공백 기준 분리\n",
    "\n",
    "# 줄바꿈 기준 분리\n",
    "text = \"\"\"사과\n",
    "딸기\n",
    "수박\n",
    "메론\n",
    "바나나\"\"\"\n",
    "print(re.split('\\n',text))\n",
    "\n",
    "# '+'를 기준으로 분리\n",
    "text = \"사과+딸기+수박+메론+바나나\"\n",
    "print(re.split('\\+',text))"
   ]
  },
  {
   "cell_type": "code",
   "execution_count": 35,
   "id": "14658b36-fb52-4b08-968c-ee3bbf8e61b6",
   "metadata": {},
   "outputs": [
    {
     "name": "stdout",
     "output_type": "stream",
     "text": [
      "['010', '1234', '1234', '30']\n",
      "[]\n"
     ]
    }
   ],
   "source": [
    "#re.findall() -> 숫자 추출\n",
    "'''\n",
    "findall() 함수는 정규 표현식과 매치되는 모든 문자열들을 리스트로 리턴합니다. \n",
    "단, 매치되는 문자열이 없다면 빈 리스트를 리턴합니다.\n",
    "임의의 텍스트에 정규 표현식으로 숫자를 의미하는 규칙으로 \n",
    "findall()을 수행하면 전체 텍스트로부터 숫자만 찾아내서 리스트로 리턴합니다.\n",
    "'''\n",
    "text = \"\"\"이름 : 김철수\n",
    "전화번호 : 010 - 1234 - 1234\n",
    "나이 : 30\n",
    "성별 : 남\"\"\"\n",
    "\n",
    "print(re.findall('\\d+',text)) #숫자만 추출\n",
    "\n",
    "print(re.findall('\\d+','asd')) #없음"
   ]
  },
  {
   "cell_type": "code",
   "execution_count": 36,
   "id": "894afdac-847e-4a03-ae9f-cb109816caf3",
   "metadata": {},
   "outputs": [
    {
     "name": "stdout",
     "output_type": "stream",
     "text": [
      "Regular expression   A regular expression  regex or regexp     sometimes called a rational expression        is  in theoretical computer science and formal language theory  a sequence of characters that define a search pattern \n"
     ]
    }
   ],
   "source": [
    "#re.sub()\n",
    "'''\n",
    "sub() 함수는 정규 표현식 패턴과 일치하는 문자열을 찾아 다른 문자열로 대체할 수 있습니다. \n",
    "아래와 같은 정제 작업에 많이 사용되는데, 영어 문장에 각주 등과 같은 \n",
    "이유로 특수 문자가 섞여있는 경우에 특수 문자를 제거하고 싶다면 알파벳\n",
    "외의 문자는 공백으로 처리하는 등의 용도로 쓸 수 있습니다.\n",
    "'''\n",
    "text = \"Regular expression : A regular expression, regex or regexp[1] (sometimes called a rational expression)[2][3] is, in theoretical computer science and formal language theory, a sequence of characters that define a search pattern.\"\n",
    "\n",
    "preprocess=re.sub('[^a-zA-Z]',' ',text)\n",
    "\n",
    "print(preprocess)"
   ]
  },
  {
   "cell_type": "code",
   "execution_count": 37,
   "id": "e70bbe6a-ed84-42a2-acf0-7a50abfc2a19",
   "metadata": {},
   "outputs": [
    {
     "data": {
      "text/plain": [
       "['John', 'James', 'Mac']"
      ]
     },
     "execution_count": 37,
     "metadata": {},
     "output_type": "execute_result"
    }
   ],
   "source": [
    "#정규 표현식 텍스트 전처리 예제\n",
    "'''\n",
    "s+는 공백을 찾아내는 정규표현식입니다. \n",
    "뒤에 붙는 +는 최소 1개 이상의 패턴을 찾아낸다는 의미입니다. \n",
    "s는 공백을 의미하기 때문에 최소 1개 이상의 공백인 패턴을 찾아냅니다.\n",
    "\n",
    "공백을 기준으로 값이 구분되었습니다. 해당 입력으로부터 숫자만을 뽑아온다고 해봅시다.\n",
    "여기서 \\d는 숫자에 해당되는 정규표현식입니다.\n",
    "+를 붙이면 최소 1개 이상의 숫자에 해당하는 값을 의미합니다.\n",
    "findall()은 해당 표현식에 일치하는 값을 찾아냅니다.\n",
    "'''\n",
    "text = \"\"\"100 John    PROF\n",
    "101 James   STUD\n",
    "102 Mac   STUD\"\"\"\n",
    "\n",
    "re.split('\\s+',text)\n",
    "\n",
    "re.findall('\\d+',text) #숫자 추출\n",
    "\n",
    "re.findall('[A-Z]',text) #대문자의 A~Z를 다 뽑음\n",
    "re.findall('[A-Z]{4}',text) #4문자&대문자 추출\n",
    "re.findall('[A-Z][a-z]+',text) #대,소문자 다 들어 있는 것"
   ]
  },
  {
   "cell_type": "code",
   "execution_count": 38,
   "id": "0dc6b032-7da7-412a-9172-725d687865dc",
   "metadata": {},
   "outputs": [
    {
     "name": "stdout",
     "output_type": "stream",
     "text": [
      "1번: ['Don', 't', 'be', 'fooled', 'by', 'the', 'dark', 'sounding', 'name', 'Mr', 'Jone', 's', 'Orphanage', 'is', 'as', 'cheery', 'as', 'cheery', 'goes', 'for', 'a', 'pastry', 'shop']\n",
      "2번: [\"Don't\", 'be', 'fooled', 'by', 'the', 'dark', 'sounding', 'name,', 'Mr.', \"Jone's\", 'Orphanage', 'is', 'as', 'cheery', 'as', 'cheery', 'goes', 'for', 'a', 'pastry', 'shop']\n"
     ]
    }
   ],
   "source": [
    "#정규 표현식을 이용한 토큰화\n",
    "'''\n",
    "NLTK에서는 정규 표현식을 사용해서 단어 토큰화를 수행하는 RegexpTokenizer를 지원합니다. \n",
    "RegexpTokenizer()에서 괄호 안에 하나의 토큰으로 규정하기를 원하는 정규 표현식을 넣어서 토큰화를 수행합니다. \n",
    "tokenizer1에 사용한 \\w+는 문자 또는 숫자가 1개 이상인 경우를 의미합니다.\n",
    "\n",
    "tokenizer2에서는 공백을 기준으로 토큰화하도록 했습니다.\n",
    "gaps=true는 해당 정규 표현식을 토큰으로 나누기 위한 기준으로 사용한다는 의미입니다.\n",
    "만약 gaps=True라는 부분을 기재하지 않는다면, 토큰화의 결과는 공백들만 나오게 됩니다. '''\n",
    "\n",
    "from nltk.tokenize import RegexpTokenizer\n",
    "\n",
    "text = \"Don't be fooled by the dark sounding name, Mr. Jone's Orphanage is as cheery as cheery goes for a pastry shop\"\n",
    "#token1=RegexpTokenizer('[\\w]+')\n",
    "token1=RegexpTokenizer(\"[\\w]+\")\n",
    "token2=RegexpTokenizer('\\s+',gaps=True)\n",
    "\n",
    "print('1번:',token1.tokenize(text))\n",
    "print('2번:',token2.tokenize(text))"
   ]
  },
  {
   "cell_type": "code",
   "execution_count": null,
   "id": "89573fcd-447d-414c-8631-129037d33ffc",
   "metadata": {},
   "outputs": [],
   "source": []
  },
  {
   "cell_type": "markdown",
   "id": "249056da-ea7c-40ab-bdee-8cf43cd5384e",
   "metadata": {},
   "source": [
    "토큰화(tokenize)"
   ]
  },
  {
   "cell_type": "code",
   "execution_count": 39,
   "id": "546d7433-4b05-4fb9-9ef2-51458ca92e49",
   "metadata": {},
   "outputs": [
    {
     "ename": "ModuleNotFoundError",
     "evalue": "No module named 'spacy'",
     "output_type": "error",
     "traceback": [
      "\u001b[0;31m---------------------------------------------------------------------------\u001b[0m",
      "\u001b[0;31mModuleNotFoundError\u001b[0m                       Traceback (most recent call last)",
      "\u001b[0;32m/tmp/ipykernel_6741/1889167583.py\u001b[0m in \u001b[0;36m<module>\u001b[0;34m\u001b[0m\n\u001b[1;32m      2\u001b[0m \u001b[0;34m\u001b[0m\u001b[0m\n\u001b[1;32m      3\u001b[0m \u001b[0men_text\u001b[0m \u001b[0;34m=\u001b[0m \u001b[0;34m\"A Dog Run back corner near spare bedrooms\"\u001b[0m\u001b[0;34m\u001b[0m\u001b[0;34m\u001b[0m\u001b[0m\n\u001b[0;32m----> 4\u001b[0;31m \u001b[0;32mimport\u001b[0m \u001b[0mspacy\u001b[0m\u001b[0;34m\u001b[0m\u001b[0;34m\u001b[0m\u001b[0m\n\u001b[0m\u001b[1;32m      5\u001b[0m \u001b[0;34m\u001b[0m\u001b[0m\n\u001b[1;32m      6\u001b[0m \u001b[0mspacy_en\u001b[0m\u001b[0;34m=\u001b[0m\u001b[0mspacy\u001b[0m\u001b[0;34m.\u001b[0m\u001b[0mload\u001b[0m\u001b[0;34m(\u001b[0m\u001b[0;34m'en_core_web_sm'\u001b[0m\u001b[0;34m)\u001b[0m\u001b[0;34m\u001b[0m\u001b[0;34m\u001b[0m\u001b[0m\n",
      "\u001b[0;31mModuleNotFoundError\u001b[0m: No module named 'spacy'"
     ]
    }
   ],
   "source": [
    "#!python -m spacy download en_core_web_sm\n",
    "\n",
    "en_text = \"A Dog Run back corner near spare bedrooms\"\n",
    "import spacy\n",
    "\n",
    "spacy_en=spacy.load('en_core_web_sm')\n",
    "def tokenizer(en_text):\n",
    "    return [tok.text for tok in spacy_en.tokenizer(en_text)]\n",
    "\n",
    "print(tokenizer(en_text))"
   ]
  },
  {
   "cell_type": "code",
   "execution_count": 40,
   "id": "a47b52b3-c1cf-427f-aa6e-fd27e147c510",
   "metadata": {},
   "outputs": [
    {
     "name": "stdout",
     "output_type": "stream",
     "text": [
      "['A', 'Dog', 'Run', 'back', 'corner', 'near', 'spare', 'bedrooms']\n",
      "['A', 'Dog', 'Run', 'back', 'corner', 'near', 'spare', 'bedrooms']\n"
     ]
    },
    {
     "name": "stderr",
     "output_type": "stream",
     "text": [
      "[nltk_data] Downloading package punkt to /home/eternal/nltk_data...\n",
      "[nltk_data]   Package punkt is already up-to-date!\n"
     ]
    }
   ],
   "source": [
    "import nltk\n",
    "nltk.download('punkt')\n",
    "\n",
    "from nltk.tokenize import word_tokenize\n",
    "print(word_tokenize(en_text))\n",
    "\n",
    "print(en_text.split())"
   ]
  },
  {
   "cell_type": "code",
   "execution_count": 41,
   "id": "70dc6f1f-2f81-45cc-a3e6-599b9a27a5f1",
   "metadata": {},
   "outputs": [
    {
     "name": "stdout",
     "output_type": "stream",
     "text": [
      "['사과의', '놀라운', '효능이라는', '글을', '봤어.', '그래서', '오늘', '사과를', '먹으려고', '했는데', '사과가', '썩어서', '슈퍼에', '가서', '사과랑', '오렌지', '사왔어']\n"
     ]
    }
   ],
   "source": [
    "kor_text = \"사과의 놀라운 효능이라는 글을 봤어. 그래서 오늘 사과를 먹으려고 했는데 사과가 썩어서 슈퍼에 가서 사과랑 오렌지 사왔어\"\n",
    "print(kor_text.split())"
   ]
  },
  {
   "cell_type": "code",
   "execution_count": 54,
   "id": "789b7da7",
   "metadata": {},
   "outputs": [
    {
     "name": "stdout",
     "output_type": "stream",
     "text": [
      "Defaulting to user installation because normal site-packages is not writeable\n",
      "Requirement already satisfied: konlpy in ./.local/lib/python3.10/site-packages (0.6.0)\n",
      "Requirement already satisfied: JPype1>=0.7.0 in ./.local/lib/python3.10/site-packages (from konlpy) (1.5.0)\n",
      "Requirement already satisfied: lxml>=4.1.0 in /usr/lib/python3/dist-packages (from konlpy) (4.8.0)\n",
      "Requirement already satisfied: numpy>=1.6 in ./.local/lib/python3.10/site-packages (from konlpy) (1.26.3)\n",
      "Requirement already satisfied: packaging in /usr/lib/python3/dist-packages (from JPype1>=0.7.0->konlpy) (21.3)\n",
      "Defaulting to user installation because normal site-packages is not writeable\n",
      "Requirement already satisfied: mecab-python in ./.local/lib/python3.10/site-packages (1.0.0)\n",
      "Requirement already satisfied: mecab-python3 in ./.local/lib/python3.10/site-packages (from mecab-python) (1.0.8)\n",
      "mecab-ko is already installed\n",
      "mecab-ko-dic is already installed\n",
      "mecab-python is already installed\n",
      "Done.\n"
     ]
    }
   ],
   "source": [
    "!pip install konlpy\n",
    "!pip install mecab-python\n",
    "!bash <(curl -s https://raw.githubusercontent.com/konlpy/konlpy/master/scripts/mecab.sh)"
   ]
  },
  {
   "cell_type": "code",
   "execution_count": 61,
   "id": "81a4c259-9376-4825-986d-8ba4a1eaf125",
   "metadata": {},
   "outputs": [
    {
     "ename": "Exception",
     "evalue": "Install MeCab in order to use it: http://konlpy.org/en/latest/install/",
     "output_type": "error",
     "traceback": [
      "\u001b[0;31m---------------------------------------------------------------------------\u001b[0m",
      "\u001b[0;31mNameError\u001b[0m                                 Traceback (most recent call last)",
      "\u001b[0;32m~/.local/lib/python3.10/site-packages/konlpy/tag/_mecab.py\u001b[0m in \u001b[0;36m__init__\u001b[0;34m(self, dicpath)\u001b[0m\n\u001b[1;32m     76\u001b[0m         \u001b[0;32mtry\u001b[0m\u001b[0;34m:\u001b[0m\u001b[0;34m\u001b[0m\u001b[0;34m\u001b[0m\u001b[0m\n\u001b[0;32m---> 77\u001b[0;31m             \u001b[0mself\u001b[0m\u001b[0;34m.\u001b[0m\u001b[0mtagger\u001b[0m \u001b[0;34m=\u001b[0m \u001b[0mTagger\u001b[0m\u001b[0;34m(\u001b[0m\u001b[0;34m'-d %s'\u001b[0m \u001b[0;34m%\u001b[0m \u001b[0mdicpath\u001b[0m\u001b[0;34m)\u001b[0m\u001b[0;34m\u001b[0m\u001b[0;34m\u001b[0m\u001b[0m\n\u001b[0m\u001b[1;32m     78\u001b[0m             \u001b[0mself\u001b[0m\u001b[0;34m.\u001b[0m\u001b[0mtagset\u001b[0m \u001b[0;34m=\u001b[0m \u001b[0mutils\u001b[0m\u001b[0;34m.\u001b[0m\u001b[0mread_json\u001b[0m\u001b[0;34m(\u001b[0m\u001b[0;34m'%s/data/tagset/mecab.json'\u001b[0m \u001b[0;34m%\u001b[0m \u001b[0mutils\u001b[0m\u001b[0;34m.\u001b[0m\u001b[0minstallpath\u001b[0m\u001b[0;34m)\u001b[0m\u001b[0;34m\u001b[0m\u001b[0;34m\u001b[0m\u001b[0m\n",
      "\u001b[0;31mNameError\u001b[0m: name 'Tagger' is not defined",
      "\nDuring handling of the above exception, another exception occurred:\n",
      "\u001b[0;31mException\u001b[0m                                 Traceback (most recent call last)",
      "\u001b[0;32m/tmp/ipykernel_6741/3829627929.py\u001b[0m in \u001b[0;36m<module>\u001b[0;34m\u001b[0m\n\u001b[1;32m      1\u001b[0m \u001b[0;32mfrom\u001b[0m \u001b[0mkonlpy\u001b[0m\u001b[0;34m.\u001b[0m\u001b[0mtag\u001b[0m \u001b[0;32mimport\u001b[0m \u001b[0mMecab\u001b[0m\u001b[0;34m\u001b[0m\u001b[0;34m\u001b[0m\u001b[0m\n\u001b[0;32m----> 2\u001b[0;31m \u001b[0mtokenizer\u001b[0m \u001b[0;34m=\u001b[0m \u001b[0mMecab\u001b[0m\u001b[0;34m(\u001b[0m\u001b[0;34m)\u001b[0m\u001b[0;34m\u001b[0m\u001b[0;34m\u001b[0m\u001b[0m\n\u001b[0m\u001b[1;32m      3\u001b[0m \u001b[0mprint\u001b[0m\u001b[0;34m(\u001b[0m\u001b[0mtokenizer\u001b[0m\u001b[0;34m.\u001b[0m\u001b[0mmorphs\u001b[0m\u001b[0;34m(\u001b[0m\u001b[0mkor_text\u001b[0m\u001b[0;34m)\u001b[0m\u001b[0;34m)\u001b[0m\u001b[0;34m\u001b[0m\u001b[0;34m\u001b[0m\u001b[0m\n",
      "\u001b[0;32m~/.local/lib/python3.10/site-packages/konlpy/tag/_mecab.py\u001b[0m in \u001b[0;36m__init__\u001b[0;34m(self, dicpath)\u001b[0m\n\u001b[1;32m     80\u001b[0m             \u001b[0;32mraise\u001b[0m \u001b[0mException\u001b[0m\u001b[0;34m(\u001b[0m\u001b[0;34m'The MeCab dictionary does not exist at \"%s\". Is the dictionary correctly installed?\\nYou can also try entering the dictionary path when initializing the Mecab class: \"Mecab(\\'/some/dic/path\\')\"'\u001b[0m \u001b[0;34m%\u001b[0m \u001b[0mdicpath\u001b[0m\u001b[0;34m)\u001b[0m\u001b[0;34m\u001b[0m\u001b[0;34m\u001b[0m\u001b[0m\n\u001b[1;32m     81\u001b[0m         \u001b[0;32mexcept\u001b[0m \u001b[0mNameError\u001b[0m\u001b[0;34m:\u001b[0m\u001b[0;34m\u001b[0m\u001b[0;34m\u001b[0m\u001b[0m\n\u001b[0;32m---> 82\u001b[0;31m             \u001b[0;32mraise\u001b[0m \u001b[0mException\u001b[0m\u001b[0;34m(\u001b[0m\u001b[0;34m'Install MeCab in order to use it: http://konlpy.org/en/latest/install/'\u001b[0m\u001b[0;34m)\u001b[0m\u001b[0;34m\u001b[0m\u001b[0;34m\u001b[0m\u001b[0m\n\u001b[0m\u001b[1;32m     83\u001b[0m \u001b[0;34m\u001b[0m\u001b[0m\n\u001b[1;32m     84\u001b[0m     \u001b[0;32mdef\u001b[0m \u001b[0m__setstate__\u001b[0m\u001b[0;34m(\u001b[0m\u001b[0mself\u001b[0m\u001b[0;34m,\u001b[0m \u001b[0mstate\u001b[0m\u001b[0;34m)\u001b[0m\u001b[0;34m:\u001b[0m\u001b[0;34m\u001b[0m\u001b[0;34m\u001b[0m\u001b[0m\n",
      "\u001b[0;31mException\u001b[0m: Install MeCab in order to use it: http://konlpy.org/en/latest/install/"
     ]
    }
   ],
   "source": [
    "from konlpy.tag import Mecab\n",
    "tokenizer = Mecab()\n",
    "print(tokenizer.morphs(kor_text))\n"
   ]
  },
  {
   "cell_type": "code",
   "execution_count": 50,
   "id": "2d24d5e6-d8dd-4d32-a10d-020a036b0acc",
   "metadata": {},
   "outputs": [
    {
     "ename": "SyntaxError",
     "evalue": "invalid syntax (3521434451.py, line 1)",
     "output_type": "error",
     "traceback": [
      "\u001b[0;36m  File \u001b[0;32m\"/tmp/ipykernel_6741/3521434451.py\"\u001b[0;36m, line \u001b[0;32m1\u001b[0m\n\u001b[0;31m    https://wikidocs.net/64517\u001b[0m\n\u001b[0m          ^\u001b[0m\n\u001b[0;31mSyntaxError\u001b[0m\u001b[0;31m:\u001b[0m invalid syntax\n"
     ]
    }
   ],
   "source": [
    "https://wikidocs.net/64517"
   ]
  },
  {
   "cell_type": "code",
   "execution_count": 58,
   "id": "872784e9-346b-49d9-8d11-fd1ab609bcf2",
   "metadata": {},
   "outputs": [
    {
     "name": "stdout",
     "output_type": "stream",
     "text": [
      "200000\n"
     ]
    },
    {
     "name": "stderr",
     "output_type": "stream",
     "text": [
      "/tmp/ipykernel_6741/106311673.py:15: SettingWithCopyWarning: \n",
      "A value is trying to be set on a copy of a slice from a DataFrame.\n",
      "Try using .loc[row_indexer,col_indexer] = value instead\n",
      "\n",
      "See the caveats in the documentation: https://pandas.pydata.org/pandas-docs/stable/user_guide/indexing.html#returning-a-view-versus-a-copy\n",
      "  sample['document']=sample['document'].str.replace(\"[^ㄱ-ㅎㅏ-ㅣ가-힣 ]\",\" \")\n"
     ]
    },
    {
     "ename": "Exception",
     "evalue": "Install MeCab in order to use it: http://konlpy.org/en/latest/install/",
     "output_type": "error",
     "traceback": [
      "\u001b[0;31m---------------------------------------------------------------------------\u001b[0m",
      "\u001b[0;31mNameError\u001b[0m                                 Traceback (most recent call last)",
      "\u001b[0;32m~/.local/lib/python3.10/site-packages/konlpy/tag/_mecab.py\u001b[0m in \u001b[0;36m__init__\u001b[0;34m(self, dicpath)\u001b[0m\n\u001b[1;32m     76\u001b[0m         \u001b[0;32mtry\u001b[0m\u001b[0;34m:\u001b[0m\u001b[0;34m\u001b[0m\u001b[0;34m\u001b[0m\u001b[0m\n\u001b[0;32m---> 77\u001b[0;31m             \u001b[0mself\u001b[0m\u001b[0;34m.\u001b[0m\u001b[0mtagger\u001b[0m \u001b[0;34m=\u001b[0m \u001b[0mTagger\u001b[0m\u001b[0;34m(\u001b[0m\u001b[0;34m'-d %s'\u001b[0m \u001b[0;34m%\u001b[0m \u001b[0mdicpath\u001b[0m\u001b[0;34m)\u001b[0m\u001b[0;34m\u001b[0m\u001b[0;34m\u001b[0m\u001b[0m\n\u001b[0m\u001b[1;32m     78\u001b[0m             \u001b[0mself\u001b[0m\u001b[0;34m.\u001b[0m\u001b[0mtagset\u001b[0m \u001b[0;34m=\u001b[0m \u001b[0mutils\u001b[0m\u001b[0;34m.\u001b[0m\u001b[0mread_json\u001b[0m\u001b[0;34m(\u001b[0m\u001b[0;34m'%s/data/tagset/mecab.json'\u001b[0m \u001b[0;34m%\u001b[0m \u001b[0mutils\u001b[0m\u001b[0;34m.\u001b[0m\u001b[0minstallpath\u001b[0m\u001b[0;34m)\u001b[0m\u001b[0;34m\u001b[0m\u001b[0;34m\u001b[0m\u001b[0m\n",
      "\u001b[0;31mNameError\u001b[0m: name 'Tagger' is not defined",
      "\nDuring handling of the above exception, another exception occurred:\n",
      "\u001b[0;31mException\u001b[0m                                 Traceback (most recent call last)",
      "\u001b[0;32m/tmp/ipykernel_6741/106311673.py\u001b[0m in \u001b[0;36m<module>\u001b[0;34m\u001b[0m\n\u001b[1;32m     17\u001b[0m \u001b[0;34m\u001b[0m\u001b[0m\n\u001b[1;32m     18\u001b[0m \u001b[0mstopwords\u001b[0m\u001b[0;34m=\u001b[0m\u001b[0;34m[\u001b[0m\u001b[0;34m'의'\u001b[0m\u001b[0;34m,\u001b[0m\u001b[0;34m'가'\u001b[0m\u001b[0;34m,\u001b[0m\u001b[0;34m'이'\u001b[0m\u001b[0;34m,\u001b[0m\u001b[0;34m'은'\u001b[0m\u001b[0;34m,\u001b[0m\u001b[0;34m'들'\u001b[0m\u001b[0;34m,\u001b[0m\u001b[0;34m'는'\u001b[0m\u001b[0;34m,\u001b[0m\u001b[0;34m'좀'\u001b[0m\u001b[0;34m,\u001b[0m\u001b[0;34m'잘'\u001b[0m\u001b[0;34m,\u001b[0m\u001b[0;34m'걍'\u001b[0m\u001b[0;34m,\u001b[0m\u001b[0;34m'과'\u001b[0m\u001b[0;34m,\u001b[0m\u001b[0;34m'도'\u001b[0m\u001b[0;34m,\u001b[0m\u001b[0;34m'를'\u001b[0m\u001b[0;34m,\u001b[0m\u001b[0;34m'으로'\u001b[0m\u001b[0;34m,\u001b[0m\u001b[0;34m'자'\u001b[0m\u001b[0;34m,\u001b[0m\u001b[0;34m'에'\u001b[0m\u001b[0;34m,\u001b[0m\u001b[0;34m'와'\u001b[0m\u001b[0;34m,\u001b[0m\u001b[0;34m'한'\u001b[0m\u001b[0;34m,\u001b[0m\u001b[0;34m'하다'\u001b[0m\u001b[0;34m]\u001b[0m\u001b[0;34m\u001b[0m\u001b[0;34m\u001b[0m\u001b[0m\n\u001b[0;32m---> 19\u001b[0;31m \u001b[0mtokenizer\u001b[0m\u001b[0;34m=\u001b[0m\u001b[0mMecab\u001b[0m\u001b[0;34m(\u001b[0m\u001b[0;34m)\u001b[0m\u001b[0;34m\u001b[0m\u001b[0;34m\u001b[0m\u001b[0m\n\u001b[0m\u001b[1;32m     20\u001b[0m \u001b[0mtokenize\u001b[0m\u001b[0;34m=\u001b[0m\u001b[0;34m[\u001b[0m\u001b[0;34m]\u001b[0m\u001b[0;34m\u001b[0m\u001b[0;34m\u001b[0m\u001b[0m\n\u001b[1;32m     21\u001b[0m \u001b[0;32mfor\u001b[0m \u001b[0msentense\u001b[0m \u001b[0;32min\u001b[0m \u001b[0msample\u001b[0m\u001b[0;34m[\u001b[0m\u001b[0;34m'document'\u001b[0m\u001b[0;34m]\u001b[0m\u001b[0;34m:\u001b[0m\u001b[0;34m\u001b[0m\u001b[0;34m\u001b[0m\u001b[0m\n",
      "\u001b[0;32m~/.local/lib/python3.10/site-packages/konlpy/tag/_mecab.py\u001b[0m in \u001b[0;36m__init__\u001b[0;34m(self, dicpath)\u001b[0m\n\u001b[1;32m     80\u001b[0m             \u001b[0;32mraise\u001b[0m \u001b[0mException\u001b[0m\u001b[0;34m(\u001b[0m\u001b[0;34m'The MeCab dictionary does not exist at \"%s\". Is the dictionary correctly installed?\\nYou can also try entering the dictionary path when initializing the Mecab class: \"Mecab(\\'/some/dic/path\\')\"'\u001b[0m \u001b[0;34m%\u001b[0m \u001b[0mdicpath\u001b[0m\u001b[0;34m)\u001b[0m\u001b[0;34m\u001b[0m\u001b[0;34m\u001b[0m\u001b[0m\n\u001b[1;32m     81\u001b[0m         \u001b[0;32mexcept\u001b[0m \u001b[0mNameError\u001b[0m\u001b[0;34m:\u001b[0m\u001b[0;34m\u001b[0m\u001b[0;34m\u001b[0m\u001b[0m\n\u001b[0;32m---> 82\u001b[0;31m             \u001b[0;32mraise\u001b[0m \u001b[0mException\u001b[0m\u001b[0;34m(\u001b[0m\u001b[0;34m'Install MeCab in order to use it: http://konlpy.org/en/latest/install/'\u001b[0m\u001b[0;34m)\u001b[0m\u001b[0;34m\u001b[0m\u001b[0;34m\u001b[0m\u001b[0m\n\u001b[0m\u001b[1;32m     83\u001b[0m \u001b[0;34m\u001b[0m\u001b[0m\n\u001b[1;32m     84\u001b[0m     \u001b[0;32mdef\u001b[0m \u001b[0m__setstate__\u001b[0m\u001b[0;34m(\u001b[0m\u001b[0mself\u001b[0m\u001b[0;34m,\u001b[0m \u001b[0mstate\u001b[0m\u001b[0;34m)\u001b[0m\u001b[0;34m:\u001b[0m\u001b[0;34m\u001b[0m\u001b[0;34m\u001b[0m\u001b[0m\n",
      "\u001b[0;31mException\u001b[0m: Install MeCab in order to use it: http://konlpy.org/en/latest/install/"
     ]
    }
   ],
   "source": [
    "\n",
    "\n",
    "import urllib.request\n",
    "import pandas as ps\n",
    "from konlpy.tag import Mecab\n",
    "from nltk import FreqDist\n",
    "import numpy as np\n",
    "import matplotlib.pyplot as plt\n",
    "\n",
    "urllib.request.urlretrieve(\"https://raw.githubusercontent.com/e9t/nsmc/master/ratings.txt\", filename=\"ratings.txt\")\n",
    "data = ps.read_table('ratings.txt') # 데이터프레임에 저장\n",
    "data[:10]\n",
    "\n",
    "print(len(data))\n",
    "\n",
    "sample=data[:100]\n",
    "sample['document']=sample['document'].str.replace(\"[^ㄱ-ㅎㅏ-ㅣ가-힣 ]\",\" \")\n",
    "sample[:10]\n",
    "\n",
    "stopwords=['의','가','이','은','들','는','좀','잘','걍','과','도','를','으로','자','에','와','한','하다']\n",
    "tokenizer=Mecab()\n",
    "tokenize=[]\n",
    "for sentense in sample['document']:\n",
    "    temp=tokenizer.morphs(sentence)\n",
    "    temp=[word for word in temp if not word in stopwords]\n",
    "    tekenize.append(temp)\n",
    "\n",
    "print(tokenizer[:10])\n",
    "\n",
    "vocab=FreqDist(np.hstack(tokenize))\n",
    "print(len(vocab))\n",
    "\n",
    "vocab['재밌']\n",
    "\n",
    "vocab_size=500\n",
    "vocab=vocab.most_common(vocab_size)\n",
    "\n",
    "word_index={word[0]:index+2 for index,word in enumerate(vocab)}\n",
    "word_index['pad']=1\n",
    "word_index['unk']=0\n",
    "\n",
    "encode=[]\n",
    "for line in tokenize:\n",
    "    temp=[]\n",
    "    for w in line:\n",
    "        try:\n",
    "            temp.append(word_index[w])\n",
    "        except KeyError:\n",
    "            temp.append(word_index['unk'])\n",
    "\n",
    "    encode.append(temp)\n",
    "\n",
    "print(encode[:10])\n",
    "\n",
    "max_len = max(len(l) for l in encode)\n",
    "print('리뷰의 최대 길이 : %d' % max_len)\n",
    "print('리뷰의 최소 길이 : %d' % min(len(l) for l in encode))\n",
    "print('리뷰의 평균 길이 : %f' % (sum(map(len, encode))/len(encode)))\n",
    "plt.hist([len(s) for s in encoded], bins=50)\n",
    "plt.xlabel('length of sample')\n",
    "plt.ylabel('number of sample')\n",
    "plt.show()\n",
    "\n",
    "for line in encode:\n",
    "    if len(line)<max_len:\n",
    "        line +=[word_index[pad]]*(max_len-len(line))\n",
    "\n",
    "print('리뷰의 최대 길이 : %d' % max(len(l) for l in encode))\n",
    "print('리뷰의 최소 길이 : %d' % min(len(l) for l in encode))\n",
    "print('리뷰의 평균 길이 : %f' % (sum(map(len, encode))/len(encode)))\n",
    "print(encode[:3])\n"
   ]
  },
  {
   "cell_type": "code",
   "execution_count": null,
   "id": "33cdf94d-89f2-42d1-a962-e25524ccb4f0",
   "metadata": {},
   "outputs": [],
   "source": []
  },
  {
   "cell_type": "code",
   "execution_count": 62,
   "id": "4806a050-1b85-4ae3-ad7f-e4e5ed5ece78",
   "metadata": {},
   "outputs": [
    {
     "name": "stdout",
     "output_type": "stream",
     "text": [
      "김철수는극중두인격의사나이이광수역을맡았다.철수는한국유일의태권도전승자를가리는결전의날을앞두고10년간함께훈련한사형인유연재(김광수분)를찾으러속세로내려온인물이다.\n"
     ]
    },
    {
     "ename": "ValueError",
     "evalue": "File format not supported: filepath=/home/eternal/.local/lib/python3.10/site-packages/pykospacing/resources/models/kospacing. Keras 3 only supports V3 `.keras` files and legacy H5 format files (`.h5` extension). Note that the legacy SavedModel format is not supported by `load_model()` in Keras 3. In order to reload a TensorFlow SavedModel as an inference-only layer in Keras 3, use `keras.layers.TFSMLayer(/home/eternal/.local/lib/python3.10/site-packages/pykospacing/resources/models/kospacing, call_endpoint='serving_default')` (note that your `call_endpoint` might have a different name).",
     "output_type": "error",
     "traceback": [
      "\u001b[0;31m---------------------------------------------------------------------------\u001b[0m",
      "\u001b[0;31mValueError\u001b[0m                                Traceback (most recent call last)",
      "\u001b[0;32m/tmp/ipykernel_6741/2121100605.py\u001b[0m in \u001b[0;36m<module>\u001b[0;34m\u001b[0m\n\u001b[1;32m      6\u001b[0m \u001b[0mprint\u001b[0m\u001b[0;34m(\u001b[0m\u001b[0mnew\u001b[0m\u001b[0;34m)\u001b[0m\u001b[0;34m\u001b[0m\u001b[0;34m\u001b[0m\u001b[0m\n\u001b[1;32m      7\u001b[0m \u001b[0;34m\u001b[0m\u001b[0m\n\u001b[0;32m----> 8\u001b[0;31m \u001b[0;32mfrom\u001b[0m \u001b[0mpykospacing\u001b[0m \u001b[0;32mimport\u001b[0m \u001b[0mSpacing\u001b[0m\u001b[0;34m\u001b[0m\u001b[0;34m\u001b[0m\u001b[0m\n\u001b[0m\u001b[1;32m      9\u001b[0m \u001b[0;31m#from pykospacing import Spacing\u001b[0m\u001b[0;34m\u001b[0m\u001b[0;34m\u001b[0m\u001b[0m\n\u001b[1;32m     10\u001b[0m \u001b[0;34m\u001b[0m\u001b[0m\n",
      "\u001b[0;32m~/.local/lib/python3.10/site-packages/pykospacing/__init__.py\u001b[0m in \u001b[0;36m<module>\u001b[0;34m\u001b[0m\n\u001b[0;32m----> 1\u001b[0;31m \u001b[0;32mfrom\u001b[0m \u001b[0mpykospacing\u001b[0m\u001b[0;34m.\u001b[0m\u001b[0mkospacing\u001b[0m \u001b[0;32mimport\u001b[0m \u001b[0;34m*\u001b[0m\u001b[0;34m\u001b[0m\u001b[0;34m\u001b[0m\u001b[0m\n\u001b[0m",
      "\u001b[0;32m~/.local/lib/python3.10/site-packages/pykospacing/kospacing.py\u001b[0m in \u001b[0;36m<module>\u001b[0;34m\u001b[0m\n\u001b[1;32m     18\u001b[0m dic_path = pkg_resources.resource_filename(\n\u001b[1;32m     19\u001b[0m     'pykospacing', os.path.join('resources', 'dicts', 'c2v.dic'))\n\u001b[0;32m---> 20\u001b[0;31m \u001b[0mMODEL\u001b[0m \u001b[0;34m=\u001b[0m \u001b[0mload_model\u001b[0m\u001b[0;34m(\u001b[0m\u001b[0mmodel_path\u001b[0m\u001b[0;34m)\u001b[0m\u001b[0;34m\u001b[0m\u001b[0;34m\u001b[0m\u001b[0m\n\u001b[0m\u001b[1;32m     21\u001b[0m \u001b[0mMODEL\u001b[0m\u001b[0;34m.\u001b[0m\u001b[0mmake_predict_function\u001b[0m\u001b[0;34m(\u001b[0m\u001b[0;34m)\u001b[0m\u001b[0;34m\u001b[0m\u001b[0;34m\u001b[0m\u001b[0m\n\u001b[1;32m     22\u001b[0m \u001b[0mW2IDX\u001b[0m\u001b[0;34m,\u001b[0m \u001b[0m_\u001b[0m \u001b[0;34m=\u001b[0m \u001b[0mload_vocab\u001b[0m\u001b[0;34m(\u001b[0m\u001b[0mdic_path\u001b[0m\u001b[0;34m)\u001b[0m\u001b[0;34m\u001b[0m\u001b[0;34m\u001b[0m\u001b[0m\n",
      "\u001b[0;32m~/.local/lib/python3.10/site-packages/keras/src/saving/saving_api.py\u001b[0m in \u001b[0;36mload_model\u001b[0;34m(filepath, custom_objects, compile, safe_mode)\u001b[0m\n",
      "\u001b[0;31mValueError\u001b[0m: File format not supported: filepath=/home/eternal/.local/lib/python3.10/site-packages/pykospacing/resources/models/kospacing. Keras 3 only supports V3 `.keras` files and legacy H5 format files (`.h5` extension). Note that the legacy SavedModel format is not supported by `load_model()` in Keras 3. In order to reload a TensorFlow SavedModel as an inference-only layer in Keras 3, use `keras.layers.TFSMLayer(/home/eternal/.local/lib/python3.10/site-packages/pykospacing/resources/models/kospacing, call_endpoint='serving_default')` (note that your `call_endpoint` might have a different name)."
     ]
    }
   ],
   "source": [
    "#PyKoSpacing\n",
    "#Py-Hanspell\n",
    "\n",
    "sent = '김철수는 극중 두 인격의 사나이 이광수 역을 맡았다. 철수는 한국 유일의 태권도 전승자를 가리는 결전의 날을 앞두고 10년간 함께 훈련한 사형인 유연재(김광수 분)를 찾으러 속세로 내려온 인물이다.'\n",
    "new=sent.replace(' ','')\n",
    "print(new)\n",
    "\n",
    "from pykospacing import Spacing\n",
    "#from pykospacing import Spacing\n",
    "\n",
    "spacing=Spacing()\n",
    "kospacing=Spacing(new_sent)\n",
    "\n",
    "print(sent)\n",
    "print(kospacing)\n",
    "\n",
    "from hansell import spell_checker\n",
    "sent = \"맞춤법 틀리면 외 않되? 쓰고싶은대로쓰면돼지 \"\n",
    "spell=spell_checker.check(sent)\n",
    "\n",
    "hansell=spell.checked\n",
    "print(hansell)\n",
    "\n",
    "spell=spell_checker.check(new)\n",
    "hanspell=spell.chcked\n",
    "print(hanspell)\n",
    "print(kospacing_sent) # 앞서 사용한 kospacing 패키지에서 얻은 결과"
   ]
  },
  {
   "cell_type": "code",
   "execution_count": null,
   "id": "f4d4a48d-da0f-471e-9ee0-d58dfc8a578f",
   "metadata": {},
   "outputs": [],
   "source": []
  },
  {
   "cell_type": "code",
   "execution_count": 65,
   "id": "c6f09f72-d023-4f5b-8e78-d41afc9de020",
   "metadata": {},
   "outputs": [
    {
     "ename": "AttributeError",
     "evalue": "'TreebankWordTokenizer' object has no attribute 'morphs'",
     "output_type": "error",
     "traceback": [
      "\u001b[0;31m---------------------------------------------------------------------------\u001b[0m",
      "\u001b[0;31mAttributeError\u001b[0m                            Traceback (most recent call last)",
      "\u001b[0;32m/tmp/ipykernel_6741/3921825802.py\u001b[0m in \u001b[0;36m<module>\u001b[0;34m\u001b[0m\n\u001b[1;32m      1\u001b[0m \u001b[0;32mfrom\u001b[0m \u001b[0mkonlpy\u001b[0m\u001b[0;34m.\u001b[0m\u001b[0mtag\u001b[0m \u001b[0;32mimport\u001b[0m \u001b[0mOkt\u001b[0m\u001b[0;34m\u001b[0m\u001b[0;34m\u001b[0m\u001b[0m\n\u001b[1;32m      2\u001b[0m \u001b[0mtoken\u001b[0m\u001b[0;34m=\u001b[0m\u001b[0mOkt\u001b[0m\u001b[0;34m(\u001b[0m\u001b[0;34m)\u001b[0m\u001b[0;34m\u001b[0m\u001b[0;34m\u001b[0m\u001b[0m\n\u001b[0;32m----> 3\u001b[0;31m \u001b[0mprint\u001b[0m\u001b[0;34m(\u001b[0m\u001b[0mtokenizer\u001b[0m\u001b[0;34m.\u001b[0m\u001b[0mmorphs\u001b[0m\u001b[0;34m(\u001b[0m\u001b[0;34m'에이비식스 이대휘 1월 최애돌 기부 요정'\u001b[0m\u001b[0;34m)\u001b[0m\u001b[0;34m)\u001b[0m\u001b[0;34m\u001b[0m\u001b[0;34m\u001b[0m\u001b[0m\n\u001b[0m\u001b[1;32m      4\u001b[0m \u001b[0;34m\u001b[0m\u001b[0m\n\u001b[1;32m      5\u001b[0m \u001b[0;31m#train\u001b[0m\u001b[0;34m\u001b[0m\u001b[0;34m\u001b[0m\u001b[0m\n",
      "\u001b[0;31mAttributeError\u001b[0m: 'TreebankWordTokenizer' object has no attribute 'morphs'"
     ]
    }
   ],
   "source": [
    "from konlpy.tag import Okt\n",
    "token=Okt()\n",
    "print(tokenizer.morphs('에이비식스 이대휘 1월 최애돌 기부 요정'))\n",
    "\n",
    "#train\n",
    "import urllib.request\n",
    "from soynlp import DoublespaceLineCorpus\n",
    "from soynlp.word import WordExtracctor\n",
    "\n",
    "urllib.request.urlretrieve(\"https://raw.githubusercontent.com/lovit/soynlp/master/tutorials/2016-10-20.txt\", filename=\"2016-10-20.txt\")\n",
    "corpus=DououblesLineCorpus('2016-10-20.text')\n",
    "len(corpus)\n",
    "\n",
    "i=0\n",
    "for document in corpus:\n",
    "    if len(document)>0:\n",
    "        print(document)\n",
    "        i=i+1\n",
    "    if i ==3:\n",
    "        break\n",
    "\n",
    "\n",
    "word_extractor=WordExtractor()\n",
    "word_extractor.train(corpus)\n",
    "word_tabel=word_extractor.extract()\n",
    "'''\n",
    "training was done. used memory 5.186 Gb\n",
    "all cohesion probabilities was computed. # words = 223348\n",
    "all branching entropies was computed # words = 361598\n",
    "all accessor variety was computed # words = 361598\n",
    "'''\n",
    "'''\n",
    "응집 확률은 내부 문자열(substring)이 얼마나 응집하여 자주 등장하는지를 판단하는 척도입니다. \n",
    "응집 확률은 문자열을 문자 단위로 분리하여 내부 문자열을 만드는 과정에서 왼쪽부터 순서대로 문자를 추가하면서 각 문자열이 주어졌을 때 그 다음 문자가 나올 확률을 계산하여 누적곱을 한 값입니다. \n",
    "이 값이 높을수록 전체 코퍼스에서 이 문자열 시퀀스는 하나의 단어로 등장할 가능성이 높습니다. \n",
    "'''\n",
    "word_score_table['반포한'].cohesion_forward\n",
    "\n",
    "word_score_table[\"반포한강\"].cohesion_forward\n",
    "\n",
    "word_score_table[\"반포한강공\"].cohesion_forward\n",
    "\n",
    "word_score_table[\"반포한강공원\"].cohesion_forward\n",
    "\n",
    "word_score_table[\"반포한강공원에\"].cohesion_forward\n",
    "\n",
    "\n",
    "word_score_table['디스'].right_branching_entropy\n",
    "word_score_table[\"디스플\"].right_branching_entropy\n",
    "word_score_table[\"디스플레\"].right_branching_entropy\n",
    "word_score_table[\"디스플레이\"].right_branching_entropy\n",
    "\n",
    "\n",
    "from soynlp.tokenizer import LTokenizer\n",
    "score={word:score.cohesion_forward for word,score in word_score_table.item()}\n",
    "l_tokenizer=LTokenizer(scores=scores)\n",
    "l_tokenizer.tokenizer(\"국제사회와 우리의 노력들로 범죄를 척결하자\", flatten=False)\n",
    "\n",
    "\n",
    "from soynlp.tokenizer import MaxScoreTokenizer\n",
    "\n",
    "maxscore_tokenizer=MaxScoreTokenizer(scores=scores)\n",
    "maxscore_tokenizer.tokenize(\"국제사회와우리의노력들로범죄를척결하자\")\n",
    "\n",
    "\n",
    "from soynlp.normalizer import*\n",
    "print(emoticon_normalize('앜ㅋㅋㅋㅋ이영화존잼쓰ㅠㅠㅠㅠㅠ', num_repeats=2))\n",
    "print(emoticon_normalize('앜ㅋㅋㅋㅋㅋㅋㅋㅋㅋ이영화존잼쓰ㅠㅠㅠㅠ', num_repeats=2))\n",
    "print(emoticon_normalize('앜ㅋㅋㅋㅋㅋㅋㅋㅋㅋㅋㅋㅋ이영화존잼쓰ㅠㅠㅠㅠㅠㅠ', num_repeats=2))\n",
    "print(emoticon_normalize('앜ㅋㅋㅋㅋㅋㅋㅋㅋㅋㅋㅋㅋㅋㅋㅋㅋㅋ이영화존잼쓰ㅠㅠㅠㅠㅠㅠㅠㅠ', num_repeats=2))\n",
    "\n",
    "print(repeat_normalize('와하하하하하하하하하핫', num_repeats=2))\n",
    "print(repeat_normalize('와하하하하하하핫', num_repeats=2))\n",
    "print(repeat_normalize('와하하하하핫', num_repeats=2))\n",
    "\n",
    "'''\n",
    "형태소 분석 입력 : '은경이는 사무실로 갔습니다.'\n",
    "형태소 분석 결과 : ['은', '경이', '는', '사무실', '로', '갔습니다', '.']\n",
    "'''\n",
    "from ckonlp.tag import Twitter\n",
    "twitter=Twitter()\n",
    "twitter.morphs('은경이는 사무실로 갔습니다.')\n",
    "\n",
    "twitter.add_dictionary('은경이', 'Noun')\n",
    "twitter.morphs('은경이는 사무실로 갔습니다.')\n"
   ]
  },
  {
   "cell_type": "code",
   "execution_count": null,
   "id": "5887c413-2021-43b5-a706-8acaa26b2e1b",
   "metadata": {},
   "outputs": [],
   "source": []
  },
  {
   "cell_type": "code",
   "execution_count": null,
   "id": "f4df7f67-2d6f-4084-ac15-05c9fc2e9496",
   "metadata": {},
   "outputs": [],
   "source": []
  },
  {
   "cell_type": "code",
   "execution_count": null,
   "id": "d518b851-14de-4ff7-addb-8fe933d8fdb0",
   "metadata": {},
   "outputs": [],
   "source": []
  },
  {
   "cell_type": "code",
   "execution_count": null,
   "id": "c6052a96-b6ce-4ec7-bfef-3572e4c66a43",
   "metadata": {},
   "outputs": [],
   "source": []
  },
  {
   "cell_type": "code",
   "execution_count": null,
   "id": "eb4ffb90-43ef-468f-b197-6c9807a28861",
   "metadata": {},
   "outputs": [],
   "source": []
  },
  {
   "cell_type": "code",
   "execution_count": 47,
   "id": "b7b52f35-6f3d-4341-ba8f-2674b117b1d3",
   "metadata": {},
   "outputs": [
    {
     "ename": "SyntaxError",
     "evalue": "invalid decimal literal (3776977661.py, line 3)",
     "output_type": "error",
     "traceback": [
      "\u001b[0;36m  File \u001b[0;32m\"/tmp/ipykernel_6741/3776977661.py\"\u001b[0;36m, line \u001b[0;32m3\u001b[0m\n\u001b[0;31m    https://docs.nvidia.com/deeplearning/triton-inference-server/release-notes/rel-23-10.html#rel-23-10\u001b[0m\n\u001b[0m                                                                                        ^\u001b[0m\n\u001b[0;31mSyntaxError\u001b[0m\u001b[0;31m:\u001b[0m invalid decimal literal\n"
     ]
    }
   ],
   "source": [
    "https://docs.nvidia.com/deeplearning/triton-inference-server/archives/triton_inference_server_220/user-guide/docs/run.html\n",
    "\n",
    "https://docs.nvidia.com/deeplearning/triton-inference-server/release-notes/rel-23-10.html#rel-23-10\n",
    "\n",
    "https://eehoeskrap.tistory.com/538\n",
    "\n",
    "https://ngc.nvidia.com/setup\n",
    "\n",
    "https://ngc.nvidia.com/setup/api-key\n",
    "https://ko.linux-console.net/?p=13918\n",
    "https://teddylee777.github.io/huggingface/bert-kor-text-classification/\n",
    "https://benlee73.tistory.com/53\n",
    "\n",
    "https://docs.habana.ai/en/latest/PyTorch/Inference_on_PyTorch/Triton_Inference.html\n",
    "https://github.com/triton-inference-server/tutorials/blob/main/Conceptual_Guide/Part_1-model_deployment/README.md\n",
    "https://github.com/rtzr/tritony?ref=blog.rtzr.ai\n",
    "\n",
    "https://triton-inference-server.github.io/pytriton/latest/installation/\n",
    "\n",
    "https://greeksharifa.github.io/references/2021/06/21/Docker/\n",
    "\n",
    "https://devocean.sk.com/search/techBoardDetail.do?ID=163619&boardType=&query=triton&searchData=&page=&subIndex=&idList=\n",
    "https://velog.io/@nawnoes/%EB%82%98%EB%A7%8C%EC%9D%98-%EC%96%B8%EC%96%B4%EB%AA%A8%EB%8D%B8-%EB%A7%8C%EB%93%A4%EA%B8%B0-Masked-Language-Model-%ED%95%99%EC%8A%B5\n",
    "https://velog.io/@ellie812/MLOps-Triton-Inference-Server-%EA%B5%AC%EC%B6%95%EA%B8%B0-2-model-repository-%EB%A7%8C%EB%93%A4%EA%B8%B0\n",
    "https://velog.io/@choonsik_mom/VGG16%EC%9C%BC%EB%A1%9C-%EC%A0%84%EC%9D%B4%ED%95%99%EC%8A%B5-%EA%B5%AC%ED%98%84-with-pytorch\n",
    "\n",
    "https://velog.io/@ellie812/MLOps-Triton-Inference-Server-%EA%B5%AC%EC%B6%95%EA%B8%B0-1-%EC%84%A4%EC%B9%98\n",
    "\n",
    "https://courses.nvidia.com/dashboard/\n",
    "\n",
    "https://shuka.tistory.com/33\n",
    "https://huggingface.co/docs/huggingface_hub/ko/installation\n",
    "\n",
    "https://blog.naver.com/foxrain93/220663874441\n",
    "https://docs.nvidia.com/deeplearning/frameworks/preparing-containers/index.html\n",
    "\n",
    "https://github.com/triton-inference-server/server\n",
    "\n",
    "https://github.com/triton-inference-server/server/blob/main/docs/customization_guide/build.md#building-with-docker\n",
    "https://docs.nvidia.com/deeplearning/triton-inference-server/release-notes/rel-23-11.html#rel-23-11\n",
    "\n",
    "https://docs.nvidia.com/deeplearning/frameworks/user-guide/index.html#runcont\n",
    "\n",
    "https://velog.io/@cjw9105/NVIDIA-Container-Toolkit-%EC%84%A4%EC%B9%98\n",
    "\n",
    "https://peaceatlast.tistory.com/25\n",
    "\n",
    "https://aeong-dev.tistory.com/1\n",
    "https://medium.com/@minki00319/triton-%EC%9C%BC%EB%A1%9C-%EB%82%B4-%EB%AA%A8%EB%8D%B8-serving-%ED%95%98%EA%B8%B0-c8f7b9aa3bdb\n",
    "\n",
    "https://devocean.sk.com/blog/techBoardDetail.do?ID=163805\n",
    "\n",
    "\n",
    "https://cloudcone.com/docs/article/how-to-install-docker-on-ubuntu-22-04-20-04/\n",
    "https://blog.naver.com/PostView.naver?blogId=hihijimin&logNo=222647385402&parentCategoryNo=&categoryNo=10&viewDate=&isShowPopularPosts=true&from=search\n",
    "\n",
    "\n",
    "\n",
    "\n",
    "https://blog.naver.com/PostView.naver?blogId=hihijimin&logNo=222647385402&parentCategoryNo=&categoryNo=10&viewDate=&isShowPopularPosts=true&from=search\n",
    "https://cloudcone.com/docs/article/how-to-install-docker-on-ubuntu-22-04-20-04/\n",
    "\n",
    "https://devocean.sk.com/blog/techBoardDetail.do?ID=163805\n",
    "\n",
    "https://medium.com/@minki00319/triton-%EC%9C%BC%EB%A1%9C-%EB%82%B4-%EB%AA%A8%EB%8D%B8-serving-%ED%95%98%EA%B8%B0-c8f7b9aa3bdb\n",
    "\n"
   ]
  },
  {
   "cell_type": "code",
   "execution_count": 48,
   "id": "ee7fb89a-cbfd-4a0a-b620-9058f71657c3",
   "metadata": {},
   "outputs": [
    {
     "ename": "SyntaxError",
     "evalue": "invalid decimal literal (2641091073.py, line 9)",
     "output_type": "error",
     "traceback": [
      "\u001b[0;36m  File \u001b[0;32m\"/tmp/ipykernel_6741/2641091073.py\"\u001b[0;36m, line \u001b[0;32m9\u001b[0m\n\u001b[0;31m    https://velog.io/@hbjs97/triton-inference-server-%EB%AA%A8%EB%8D%B8%EA%B4%80%EB%A6%AC\u001b[0m\n\u001b[0m                                                                  ^\u001b[0m\n\u001b[0;31mSyntaxError\u001b[0m\u001b[0;31m:\u001b[0m invalid decimal literal\n"
     ]
    }
   ],
   "source": [
    "https://github.com/triton-inference-server/server/blob/main/docs/user_guide/model_configuration.md\n",
    "\n",
    "https://github.com/triton-inference-server/backend/blob/main/examples/backends/minimal/CMakeLists.txt\n",
    "\n",
    "https://docs.nvidia.com/deeplearning/triton-inference-server/archives/triton_inference_server_1120/triton-inference-server-guide/docs/run.html#section-example-model-repository\n",
    "\n",
    "https://docs.nvidia.com/deeplearning/triton-inference-server/archives/triton_inference_server_1120/triton-inference-server-guide/docs/model_configuration.html\n",
    "\n",
    "https://velog.io/@hbjs97/triton-inference-server-%EB%AA%A8%EB%8D%B8%EA%B4%80%EB%A6%AC\n",
    "\n",
    "https://forums.developer.nvidia.com/t/model-shown-ready-but-cant-be-found/233258/11\n",
    "\n",
    "https://forums.developer.nvidia.com/t/model-shown-ready-but-cant-be-found/233258/11\n",
    "\n",
    "https://docs.nvidia.com/deeplearning/triton-inference-server/archives/triton_inference_server_220/user-guide/docs/run.html\n",
    "\n",
    "https://www.google.com/search?q=triton+inference+server+onnx+model+porting&newwindow=1&sca_esv=589336079&biw=1920&bih=971&sxsrf=AM9HkKm_7ShMr9U1MHS5tXs72GIFvAYZOA%3A1702133088012&ei=YH10ZYUsht35BtuKuPgD&ved=0ahUKEwiF3Mjwy4KDAxWGbt4KHVsFDj8Q4dUDCBA&uact=5&oq=triton+inference+server+onnx+model+porting&gs_lp=Egxnd3Mtd2l6LXNlcnAiKnRyaXRvbiBpbmZlcmVuY2Ugc2VydmVyIG9ubnggbW9kZWwgcG9ydGluZzIEECMYJ0j7B1C4BVikBnABeAGQAQCYAZABoAGdAqoBAzAuMrgBA8gBAPgBAcICChAAGEcY1gQYsAPiAwQYACBBiAYBkAYC&sclient=gws-wiz-serp\n",
    "\n",
    "\n",
    "https://medium.com/@a.ayyuced/introduction-to-triton-inference-server-6551b05e17ff\n",
    "\n",
    "\n",
    "https://medium.com/@tam.tamanna18/deploying-an-onnx-model-with-triton-inference-server-929484be7d2b\n",
    "\n",
    "\n",
    "https://github.com/triton-inference-server/tutorials\n",
    "\n",
    "\n",
    "https://github.com/NVIDIA/TensorRT/tree/main/tools/Polygraphy\n",
    "\n",
    "https://github.com/triton-inference-server/model_analyzer/blob/main/docs/config.md\n",
    "\n",
    "https://betterprogramming.pub/triton-inference-server-tips-and-tricks-e07de0211fa9\n",
    "\n",
    "https://wikidocs.net/217245"
   ]
  },
  {
   "cell_type": "code",
   "execution_count": null,
   "id": "e050fccc",
   "metadata": {},
   "outputs": [],
   "source": []
  },
  {
   "cell_type": "code",
   "execution_count": null,
   "id": "3bd3a63e",
   "metadata": {},
   "outputs": [],
   "source": []
  },
  {
   "cell_type": "code",
   "execution_count": null,
   "id": "e85ae1e2",
   "metadata": {},
   "outputs": [],
   "source": []
  },
  {
   "cell_type": "code",
   "execution_count": null,
   "id": "e4dbb6d9",
   "metadata": {},
   "outputs": [],
   "source": []
  }
 ],
 "metadata": {
  "kernelspec": {
   "display_name": "Python 3 (ipykernel)",
   "language": "python",
   "name": "python3"
  },
  "language_info": {
   "codemirror_mode": {
    "name": "ipython",
    "version": 3
   },
   "file_extension": ".py",
   "mimetype": "text/x-python",
   "name": "python",
   "nbconvert_exporter": "python",
   "pygments_lexer": "ipython3",
   "version": "3.10.12"
  }
 },
 "nbformat": 4,
 "nbformat_minor": 5
}
