{
 "cells": [
  {
   "cell_type": "markdown",
   "id": "3a35dadc-37e5-4419-9270-d76262706f0e",
   "metadata": {},
   "source": [
    "10일차 \n",
    "\n",
    "데크(Deque):\n",
    "\n",
    "양쪽 끝에서 삽입과 삭제가 가능한 큐.\n",
    "///Python의 collections.deque 사용법.\n",
    "\n",
    "우선순위 큐(Priority Queue):\n",
    "\n",
    "요소가 특정 우선순위에 따라 정렬되어 처리되는 큐.\n",
    "///Python의 heapq 사용법.\n",
    "\n",
    "응용 문제:\n",
    "\n",
    "데크와 우선순위 큐를 활용한 문제 해결."
   ]
  },
  {
   "cell_type": "markdown",
   "id": "d6fcdcce-337b-4c9d-a818-3cae5da12aeb",
   "metadata": {},
   "source": [
    "#-데크(Deque)-\n",
    "#데크의 특징\n",
    "#**\"Double-Ended Queue\"**의 약자.\n",
    "#양쪽 끝에서 삽입과 삭제가 가능한 큐.\n",
    "#Python의 collections.deque를 사용하면 간단히 구현 가능.\n",
    "\n",
    "메서드\t동작\n",
    "\n",
    "append(x)\t오른쪽 끝에 x 추가\n",
    "\n",
    "appendleft(x)\t왼쪽 끝에 x 추가\n",
    "\n",
    "pop()\t오른쪽 끝 요소 제거 및 반환\n",
    "\n",
    "popleft()\t왼쪽 끝 요소 제거 및 반환\n",
    "\n",
    "extend(iter)\t오른쪽 끝에 여러 요소 추가\n",
    "\n",
    "extendleft(iter)\t왼쪽 끝에 여러 요소 추가 (반대로)\n",
    "\n",
    "rotate(n)\t요소를 n번 회전 (양수: 오른쪽, 음수: 왼쪽)"
   ]
  },
  {
   "cell_type": "code",
   "execution_count": 73,
   "id": "70f61795-5f0b-4c7a-9015-5ddeab0380cf",
   "metadata": {},
   "outputs": [
    {
     "name": "stdout",
     "output_type": "stream",
     "text": [
      "deque([20, 10, 1])\n",
      "deque([60, 50, 20, 10, 1, 30, 40])\n",
      "deque([60, 50, 20, 10, 1, 30])\n",
      "deque([50, 20, 10, 1, 30])\n",
      "deque([30, 50, 20, 10, 1])\n",
      "deque([20, 10, 1, 30, 50])\n",
      "<class 'collections.deque'>\n"
     ]
    }
   ],
   "source": [
    "from collections import deque\n",
    "\n",
    "dq=deque()\n",
    "\n",
    "dq.append(10)\n",
    "dq.appendleft(20)\n",
    "dq.append(1)\n",
    "print(dq)\n",
    "\n",
    "dq.extend([30,40])\n",
    "dq.extendleft([50,60])\n",
    "print(dq)\n",
    "\n",
    "dq.pop()\n",
    "print(dq)\n",
    "dq.popleft()\n",
    "print(dq)\n",
    "\n",
    "dq.rotate(1) #->\n",
    "print(dq)\n",
    "\n",
    "dq.rotate(-2) #<-\n",
    "print(dq)\n",
    "\n",
    "print(type(dq))"
   ]
  },
  {
   "cell_type": "markdown",
   "id": "7a043511-42e0-4b70-9fd1-dcb141b8e3a1",
   "metadata": {},
   "source": [
    "우선순위 큐(Priority Queue)\n",
    "\n",
    "우선순위 큐의 특징\n",
    "\n",
    "///각 요소가 우선순위를 가지며, 가장 낮은 값이 먼저 처리됩니다.\n",
    "///Python의 heapq 모듈로 구현 가능 (최소 힙 기반).\n",
    "-heapq 주요 메서드-\n",
    "\n",
    "메서드\t동작\n",
    "\n",
    "heappush(heap, x)\t힙에 요소 x 추가\n",
    "\n",
    "heappop(heap)\t힙에서 최소값 제거 및 반환\n",
    "\n",
    "heapify(iterable)\t리스트를 힙 구조로 변환\n",
    "\n",
    "nlargest(n, heap)\t힙에서 n개의 가장 큰 값 반환\n",
    "\n",
    "nsmallest(n, heap)\t힙에서 n개의 가장 작은 값 반환"
   ]
  },
  {
   "cell_type": "code",
   "execution_count": 60,
   "id": "e8d83b86-5d2a-44c4-9388-50c26f30a4b2",
   "metadata": {},
   "outputs": [
    {
     "name": "stdout",
     "output_type": "stream",
     "text": [
      "5\n",
      "[10, 15]\n",
      "[1, 6, 4, 43, 42, 122, 209]\n",
      "<class 'list'>\n",
      "[209, 122]\n",
      "[1, 4]\n"
     ]
    }
   ],
   "source": [
    "import heapq as hpq\n",
    "heap=[] # 힙 생성\n",
    "\n",
    "hpq.heappush(heap,10)\n",
    "hpq.heappush(heap,5)\n",
    "hpq.heappush(heap,15)\n",
    "\n",
    "print(hpq.heappop(heap))\n",
    "print(heap)\n",
    "\n",
    "num=[4,6,122,43,42,1,209]\n",
    "hpq.heapify(num)\n",
    "print(num)\n",
    "print(type(num))\n",
    "\n",
    "print(hpq.nlargest(2,num)) # 힙에서 제일 큰 놈n개 \n",
    "\n",
    "print(hpq.nsmallest(2,num))"
   ]
  },
  {
   "cell_type": "code",
   "execution_count": null,
   "id": "bd7c1d64-7f60-4302-8dbc-3440be59b5cf",
   "metadata": {},
   "outputs": [],
   "source": []
  },
  {
   "cell_type": "markdown",
   "id": "873db4e4-6298-4865-9113-70afb59ed5fd",
   "metadata": {},
   "source": [
    "***실습 문제***"
   ]
  },
  {
   "cell_type": "code",
   "execution_count": 81,
   "id": "bc903ac1-e170-4be9-ba47-4bb400fcfb98",
   "metadata": {},
   "outputs": [
    {
     "name": "stdout",
     "output_type": "stream",
     "text": [
      "(deque([3, 4, 5, 1, 2]), deque([3, 2, 1, 5, 4]))\n"
     ]
    }
   ],
   "source": [
    "#문제 1: 데크를 사용한 회전\n",
    "#주어진 리스트를 데크로 변환하고, k번 오른쪽으로 회전한 결과를 출력하세요.\n",
    "from collections import deque as dq\n",
    "\n",
    "def rotater(number,k):\n",
    "    dq=deque()\n",
    "    dq1=deque()\n",
    "    for i in nums:\n",
    "        dq.append(i)\n",
    "        dq1.appendleft(i)\n",
    "    dq.rotate(k)\n",
    "    dq1.rotate(k)\n",
    "    return dq,dq1\n",
    "\n",
    "\n",
    "nums = [1, 2, 3, 4, 5]\n",
    "k = 3\n",
    "print(rotater(nums,k))"
   ]
  },
  {
   "cell_type": "code",
   "execution_count": 117,
   "id": "52dde8ca-679f-4b5e-9f68-0c83e9bab580",
   "metadata": {},
   "outputs": [
    {
     "name": "stdout",
     "output_type": "stream",
     "text": [
      "[1, 3, 5, 4, 8, 7]\n",
      "1\n",
      "[3, 4, 5, 7, 8]\n",
      "3\n",
      "[4, 7, 5, 8]\n",
      "4\n",
      "[5, 7, 8]\n",
      "5\n",
      "[7, 8]\n",
      "7\n",
      "[8]\n",
      "8\n",
      "[]\n"
     ]
    }
   ],
   "source": [
    "#문제 2: 우선순위 큐로 정렬된 데이터 처리\n",
    "#주어진 정수 리스트를 우선순위 큐로 변환하고, 오름차순으로 모든 요소를 출력하세요.\n",
    "\n",
    "import heapq as hpq\n",
    "nums = [4, 1, 7, 3, 8, 5]\n",
    "\n",
    "hpq.heapify(nums)\n",
    "print(nums)\n",
    "\n",
    "while nums:\n",
    "    print(hpq.heappop(nums))\n",
    "    print(nums)"
   ]
  },
  {
   "cell_type": "code",
   "execution_count": 127,
   "id": "2f147b74-6fe0-40d5-8489-0da5b350fab3",
   "metadata": {},
   "outputs": [
    {
     "name": "stdout",
     "output_type": "stream",
     "text": [
      "[8, 7, 5]\n",
      "8, 7, 5\n"
     ]
    }
   ],
   "source": [
    "#문제 3: 우선순위 큐로 K개의 가장 큰 값 출력\n",
    "#주어진 정수 리스트에서 우선순위 큐를 사용해 가장 큰 값 3개를 출력하세요.\n",
    "import heapq as hpq\n",
    "nums = [4, 1, 7, 3, 8, 5]\n",
    "k=3\n",
    "def nLargest(nums,k):\n",
    "    hpq.heapify(nums)\n",
    "    d=hpq.nlargest(k,nums)\n",
    "    return d\n",
    "\n",
    "print(nLargest(nums,k))\n",
    "print(\", \".join(map(str, nLargest(nums, k))))"
   ]
  },
  {
   "cell_type": "code",
   "execution_count": null,
   "id": "3a49af56-a8e4-4b14-bca8-895430f7a06f",
   "metadata": {},
   "outputs": [],
   "source": []
  },
  {
   "cell_type": "code",
   "execution_count": null,
   "id": "4ed52ba1-e4f3-4ca9-bcb3-7df9b2870941",
   "metadata": {},
   "outputs": [],
   "source": []
  },
  {
   "cell_type": "code",
   "execution_count": null,
   "id": "49e517ff-929a-4064-a990-626d5696c436",
   "metadata": {},
   "outputs": [],
   "source": []
  },
  {
   "cell_type": "markdown",
   "id": "b9632db3-c7f7-49f1-8b30-252c80a7caa2",
   "metadata": {},
   "source": [
    "***클레스 구성***"
   ]
  },
  {
   "cell_type": "code",
   "execution_count": 148,
   "id": "ef27d777-d8dd-46a4-b2fb-9ae482113d14",
   "metadata": {},
   "outputs": [],
   "source": [
    "#stack\n",
    "class stack:\n",
    "    def __init__(self):\n",
    "        self.stack=[]\n",
    "\n",
    "    def push(self, value):\n",
    "        self.stack.append(value)\n",
    "\n",
    "    def pop(self):\n",
    "        if not self.is_Empty():\n",
    "            return self.stack.pop()\n",
    "        else:\n",
    "            return IndexError(\"NO DATA\")\n",
    "\n",
    "    def peek(self):\n",
    "        if not self.is_Empty():\n",
    "            return self.stack[-1]\n",
    "        else:\n",
    "            return None\n",
    "\n",
    "    def is_Empty(self):\n",
    "        return len(self.stack)==0\n",
    "\n",
    "    def size(self):\n",
    "        return len(self.stack)"
   ]
  },
  {
   "cell_type": "code",
   "execution_count": 152,
   "id": "1c29fbaa-6f12-4c0f-8990-d241755e55d7",
   "metadata": {},
   "outputs": [
    {
     "name": "stdout",
     "output_type": "stream",
     "text": [
      "20\n",
      "10\n"
     ]
    }
   ],
   "source": [
    "s = stack()\n",
    "s.push(10)\n",
    "s.push(20)\n",
    "print(s.pop())  # 20\n",
    "print(s.peek()) # 10"
   ]
  },
  {
   "cell_type": "code",
   "execution_count": 162,
   "id": "6ccc1e65-ae6f-4a1b-8d0e-0344a53a8cc9",
   "metadata": {},
   "outputs": [],
   "source": [
    "#queue\n",
    "class queue():\n",
    "    def __init__(self):\n",
    "        self.queue=[]\n",
    "\n",
    "    def enqueue(self,value):\n",
    "        self.queue.append(value)\n",
    "\n",
    "    def dequeue(self):\n",
    "        if not self.is_Empty():\n",
    "            return self.queue.pop(0)\n",
    "        else:\n",
    "            return IndexError(\"NoData\")\n",
    "\n",
    "    def is_Empty(self):\n",
    "        return len(self.queue)==0\n",
    "\n",
    "    def size(self):\n",
    "        return len(self.queue)"
   ]
  },
  {
   "cell_type": "code",
   "execution_count": 174,
   "id": "fa296e88-14ba-46ef-8036-6c9fc19ee052",
   "metadata": {},
   "outputs": [
    {
     "name": "stdout",
     "output_type": "stream",
     "text": [
      "2\n",
      "10\n"
     ]
    },
    {
     "data": {
      "text/plain": [
       "1"
      ]
     },
     "execution_count": 174,
     "metadata": {},
     "output_type": "execute_result"
    }
   ],
   "source": [
    "q = queue()\n",
    "q.enqueue(10)\n",
    "q.enqueue(20)\n",
    "print(q.size())\n",
    "print(q.dequeue())  # 10\n",
    "q.size()"
   ]
  },
  {
   "cell_type": "code",
   "execution_count": 55,
   "id": "d6b65e03-1f93-4afc-99ce-b1f8173be03e",
   "metadata": {},
   "outputs": [],
   "source": [
    "#데크(Deque)\n",
    "from collections import deque\n",
    "class deques():\n",
    "    def __init__(self):\n",
    "        self.deque = deque()\n",
    "\n",
    "    def append(self,value):\n",
    "        self.deque.append(value)\n",
    "\n",
    "    def appendleft(self,value):\n",
    "        self.deque.appendleft(value)\n",
    "\n",
    "    def pop(self):\n",
    "        if not self.is_Empty():\n",
    "            return self.deque.pop()\n",
    "        else:\n",
    "            return IndexError(\"Deque is empty\")\n",
    "\n",
    "    def popleft(self):\n",
    "        if not self.is_Empty():\n",
    "            return self.deque.popleft()\n",
    "        else:\n",
    "            return IndexError(\"Deque is empty\")\n",
    "\n",
    "    def is_Empty(self):\n",
    "        return len(self.deque)==0\n",
    "\n",
    "    def size(self):\n",
    "        return len(self.deque)\n",
    "\n"
   ]
  },
  {
   "cell_type": "code",
   "execution_count": 57,
   "id": "fb6164a8-8afc-4b51-8664-55cef230a7da",
   "metadata": {},
   "outputs": [
    {
     "name": "stdout",
     "output_type": "stream",
     "text": [
      "10\n",
      "20\n"
     ]
    }
   ],
   "source": [
    "d = deques()\n",
    "d.append(10)\n",
    "d.appendleft(20)\n",
    "print(d.pop())  # 10\n",
    "print(d.popleft())  # 20"
   ]
  },
  {
   "cell_type": "code",
   "execution_count": 69,
   "id": "f73dd9d7-e4e2-46a7-8cc0-bdc124d554cd",
   "metadata": {},
   "outputs": [],
   "source": [
    "#우선순위 큐(Priority Queue)\n",
    "import heapq\n",
    "\n",
    "class heaapq():\n",
    "    def __init__(self):\n",
    "        self.heaap=[]\n",
    "\n",
    "    def push(self,value):\n",
    "        heapq.heappush(self.heaap,value)\n",
    "\n",
    "    def pop(self):\n",
    "        if not self.is_Empty():\n",
    "            return heapq.heappop(self.heaap)\n",
    "        else:\n",
    "            return IndexError(\"PriorityQueue is empty\")\n",
    "\n",
    "    def peek(self):\n",
    "        if not self.is_Empty():\n",
    "            return self.heaap[0]\n",
    "        else:\n",
    "            return None\n",
    "\n",
    "    def is_Empty(self):\n",
    "        return len(self.heaap)==0\n",
    "\n",
    "    def size(self):\n",
    "        return len(self.heaap)"
   ]
  },
  {
   "cell_type": "code",
   "execution_count": 71,
   "id": "f796e7af-c394-4882-a4fa-1b9592d59c88",
   "metadata": {},
   "outputs": [
    {
     "name": "stdout",
     "output_type": "stream",
     "text": [
      "5\n",
      "10\n"
     ]
    }
   ],
   "source": [
    "pq = heaapq()\n",
    "pq.push(10)\n",
    "pq.push(5)\n",
    "pq.push(15)\n",
    "print(pq.pop())  # 5 (최소값)\n",
    "print(pq.peek())"
   ]
  },
  {
   "cell_type": "code",
   "execution_count": null,
   "id": "1283b559-9ab5-4fbd-bc78-c2e3a2f6ee2a",
   "metadata": {},
   "outputs": [],
   "source": []
  },
  {
   "cell_type": "code",
   "execution_count": null,
   "id": "64c6fbcd-23ae-40ea-88af-afbf66396b98",
   "metadata": {},
   "outputs": [],
   "source": []
  },
  {
   "cell_type": "raw",
   "id": "23875dbb-20b4-4a2a-b8a4-d7b33a64239b",
   "metadata": {},
   "source": [
    "##11일차 학습 목표##\n",
    "\n",
    "링크드 리스트의 개념\n",
    "\n",
    "링크드 리스트란 무엇인가?\n",
    "\n",
    "배열과의 차이점.\n",
    "\n",
    "\n",
    "단일 연결 리스트 구현\n",
    "\n",
    "노드(Node) 정의.\n",
    "\n",
    "삽입, 삭제, 탐색 기능 구현.\n",
    "\n",
    "\n",
    "이중 연결 리스트 구현\n",
    "\n",
    "노드가 이전 노드와 다음 노드에 대한 포인터를 가지는 구조.\n",
    "\n",
    "\n",
    "실습 문제\n",
    "특정 위치에 노드 삽입.\n",
    "특정 값을 가진 노드 삭제.\n"
   ]
  },
  {
   "cell_type": "raw",
   "id": "cb49ffc8-ed68-4e84-bb64-a6507943365a",
   "metadata": {},
   "source": [
    "1. 링크드 리스트란?\n",
    "링크드 리스트(Linked List)의 개념\n",
    "\n",
    "노드(Node): 데이터와 다음 노드를 가리키는 포인터를 포함.\n",
    "\n",
    "헤드(Head): 리스트의 첫 번째 노드를 가리킴.\n",
    "\n",
    "노드들이 연결된 구조로, 배열과 달리 연속된 메모리 공간에 저장되지 않음."
   ]
  },
  {
   "cell_type": "raw",
   "id": "3c30903c-709f-48ce-bedc-186e923781db",
   "metadata": {},
   "source": [
    "                      링크드 리스트 vs 배열\n",
    "특징\t              배열(Array)\t                             링크드 리스트(Linked List)\n",
    "메모리 구조           연속된 메모리 공간 사용\t                  비연속 메모리 공간 사용\n",
    "삽입/삭제 속도   \t  느림 (O(n), 데이터 이동 필요)\t              빠름 (O(1), 포인터 변경만 필요)\n",
    "임의 접근\t          빠름 (O(1), 인덱스로 접근 가능)\t          느림 (O(n), 처음부터 탐색 필요)\n"
   ]
  },
  {
   "cell_type": "code",
   "execution_count": 116,
   "id": "b26a8144-3ea7-469e-aa23-173b6091b810",
   "metadata": {},
   "outputs": [],
   "source": [
    "#단일 노드\n",
    "class Node:\n",
    "    def __init__(self,data):\n",
    "        self.data=data# 노드의 데이터\n",
    "        self.next=None# 다음 노드를 가리키는 포인터"
   ]
  },
  {
   "cell_type": "code",
   "execution_count": 118,
   "id": "7046808a-1ce6-4068-8f85-4d858e328424",
   "metadata": {},
   "outputs": [],
   "source": [
    "\n",
    "class linklist:\n",
    "    def __init__(self):\n",
    "        self.head=None # 헤드는 리스트의 첫 번째 노드를 가리킴\n",
    "\n",
    "    def append(self,data):\n",
    "        new_node=Node(data)\n",
    "        if self.head is None:\n",
    "            self.head=new_node\n",
    "            return\n",
    "        current=self.head\n",
    "        \n",
    "        while current.next:\n",
    "            current=current.next\n",
    "        current.next=new_node\n",
    "\n",
    "    def display(self):\n",
    "        current=self.head\n",
    "        while current:\n",
    "            print(current.data,end=\" -> \")\n",
    "            current=current.next\n",
    "        print(\"None\")\n",
    "\n"
   ]
  },
  {
   "cell_type": "code",
   "execution_count": 120,
   "id": "8549ad03-7a2d-419e-9e02-1590a3e8e700",
   "metadata": {},
   "outputs": [
    {
     "name": "stdout",
     "output_type": "stream",
     "text": [
      "10 -> 20 -> 30 -> None\n"
     ]
    }
   ],
   "source": [
    "sll=linklist()\n",
    "sll.append(10)\n",
    "sll.append(20)\n",
    "sll.append(30)\n",
    "sll.display()"
   ]
  },
  {
   "cell_type": "code",
   "execution_count": null,
   "id": "8f7c92b8-ea56-4dbb-ab80-e30ed93b494b",
   "metadata": {},
   "outputs": [],
   "source": []
  },
  {
   "cell_type": "code",
   "execution_count": 126,
   "id": "8f69e628-bd91-4e2b-abb2-ab5f942b0390",
   "metadata": {},
   "outputs": [],
   "source": [
    "#이중 연결 리스트 구현\n",
    "class TwinNode:\n",
    "    def __init__(self, data):\n",
    "        self.data=data # 노드의 데이터\n",
    "        self.prve=None # 이전 노드 포인터\n",
    "        self.next=None # 다음 노드 포인터"
   ]
  },
  {
   "cell_type": "code",
   "execution_count": 134,
   "id": "d1a6f49a-f18d-432d-99d3-c8c1865c3f06",
   "metadata": {},
   "outputs": [],
   "source": [
    "class DLinkList:\n",
    "    def __init__(self):\n",
    "        self.head=None\n",
    "\n",
    "    def append(self, data):\n",
    "        new_node=TwinNode(data)\n",
    "        if self.head is None:\n",
    "            self.head=new_node\n",
    "            return\n",
    "\n",
    "        current=self.head\n",
    "        while current.next:\n",
    "            current=current.next\n",
    "        current.next=new_node\n",
    "        new_node.prve=current\n",
    "\n",
    "    def display(self):\n",
    "        current=self.head\n",
    "        while current:\n",
    "            print(current.data,end=\" <=> \")\n",
    "            current=current.next\n",
    "        print(\"None\")"
   ]
  },
  {
   "cell_type": "code",
   "execution_count": 136,
   "id": "94113d90-2958-4d96-938c-a203c91cb0e3",
   "metadata": {},
   "outputs": [
    {
     "name": "stdout",
     "output_type": "stream",
     "text": [
      "10 <=> 20 <=> 30 <=> None\n"
     ]
    }
   ],
   "source": [
    "dll=DLinkList()\n",
    "dll.append(10)\n",
    "dll.append(20)\n",
    "dll.append(30)\n",
    "dll.display()"
   ]
  },
  {
   "cell_type": "code",
   "execution_count": null,
   "id": "2eac19a2-4a28-4a13-bd3b-1595db0312e8",
   "metadata": {},
   "outputs": [],
   "source": []
  },
  {
   "cell_type": "code",
   "execution_count": 153,
   "id": "1443a07f-1118-40e4-8dae-4eadf6983281",
   "metadata": {},
   "outputs": [],
   "source": [
    "#문제 1: 단일 연결 리스트에서 특정 위치에 노드 삽입\n",
    "#insert_at(position, data) 메서드를 추가해 특정 위치에 노드를 삽입하세요.\n",
    "\n",
    "class SNode:\n",
    "    def __init__(self,data):\n",
    "        self.data=data\n",
    "        self.node=None"
   ]
  },
  {
   "cell_type": "code",
   "execution_count": 204,
   "id": "cb80aba9-2638-402b-8215-1b53abc1e214",
   "metadata": {},
   "outputs": [],
   "source": [
    "class linklists:\n",
    "    def __init__(self):\n",
    "        self.head=None\n",
    "\n",
    "    def append(self,data):\n",
    "        new_node=SNode(data)\n",
    "        if self.head is None:\n",
    "            self.head=new_node\n",
    "            return\n",
    "        current=self.head\n",
    "        while current.node:\n",
    "            current=current.node\n",
    "        current.node=new_node\n",
    "\n",
    "    def insert_at(self, position, data):\n",
    "        new_node=SNode(data)\n",
    "        if position==0:\n",
    "            new_node.node=self.head\n",
    "            self.head=new_node\n",
    "            return\n",
    "        current=self.head\n",
    "        index=0\n",
    "        while current and index<position-1:\n",
    "            current=current.node\n",
    "            index+=1\n",
    "\n",
    "        new_node.node=current.node\n",
    "        current.node=new_node\n",
    "\n",
    "    def display(self):\n",
    "        current=self.head\n",
    "        while current:\n",
    "            print(current.data,end=\"=>\")\n",
    "            current=current.node\n",
    "        print(\"None\")"
   ]
  },
  {
   "cell_type": "code",
   "execution_count": null,
   "id": "86960f3f-63a3-4762-9e5c-210dd7d197ac",
   "metadata": {},
   "outputs": [],
   "source": []
  },
  {
   "cell_type": "code",
   "execution_count": 206,
   "id": "ee1c2148-63f2-41dd-96f3-86b8eb54003e",
   "metadata": {},
   "outputs": [
    {
     "name": "stdout",
     "output_type": "stream",
     "text": [
      "10=>20=>24=>30=>None\n"
     ]
    }
   ],
   "source": [
    "sll=linklists()\n",
    "sll.append(10)\n",
    "sll.append(20)\n",
    "sll.append(30)\n",
    "sll.insert_at(2,24)\n",
    "sll.display()"
   ]
  },
  {
   "cell_type": "code",
   "execution_count": null,
   "id": "9b72ff11-ae95-47fd-828e-84b00f7f228e",
   "metadata": {},
   "outputs": [],
   "source": []
  },
  {
   "cell_type": "raw",
   "id": "29de4caa-ae7d-4136-97e9-4046c27b852d",
   "metadata": {},
   "source": [
    "문제 2: 특정 값을 가진 노드 삭제\n",
    "단일 연결 리스트에서 특정 값을 가진 첫 번째 노드를 삭제하는 delete(data) 메서드를 작성하세요"
   ]
  },
  {
   "cell_type": "code",
   "execution_count": 226,
   "id": "bf81046f-f872-4d62-83a1-3901ee334373",
   "metadata": {},
   "outputs": [],
   "source": [
    "class Node:\n",
    "    def __init__(self, data):\n",
    "        self.data=data\n",
    "        self.next=None"
   ]
  },
  {
   "cell_type": "code",
   "execution_count": 124,
   "id": "0e8d324f-4512-408e-9183-f383511eafd8",
   "metadata": {},
   "outputs": [],
   "source": [
    "class SLL:\n",
    "    def __init__(self):\n",
    "        self.head=None\n",
    "\n",
    "    def append(self, data):\n",
    "        new_node=Node(data)\n",
    "        if self.head is None:\n",
    "            self.head=new_node\n",
    "            return \n",
    "        current=self.head\n",
    "        while current.next:\n",
    "            current=current.next\n",
    "        current.next=new_node\n",
    "\n",
    "    def delite(self,data):\n",
    "        if self.head and self.head.data==data:\n",
    "            self.head=self.head.next\n",
    "            return\n",
    "\n",
    "        current=self.head\n",
    "        while current and current.next:\n",
    "            if current.next.data ==data:\n",
    "                current.next=current.next.next\n",
    "                return \n",
    "            current=current.next\n",
    "\n",
    "    def display(self):\n",
    "        current=self.head\n",
    "        while current:\n",
    "            print(current.data,end=\"=>\")\n",
    "            current=current.next\n",
    "        print(\"NONE\")\n",
    "            "
   ]
  },
  {
   "cell_type": "code",
   "execution_count": 126,
   "id": "dcf77281-8665-440c-8ecd-5a17149cad7f",
   "metadata": {},
   "outputs": [
    {
     "name": "stdout",
     "output_type": "stream",
     "text": [
      "10=>20=>30=>NONE\n",
      "10=>30=>NONE\n"
     ]
    }
   ],
   "source": [
    "sll=SLL()\n",
    "sll.append(10)\n",
    "sll.append(20)\n",
    "sll.append(30)\n",
    "sll.display()\n",
    "\n",
    "sll.delite(20)\n",
    "sll.display()"
   ]
  },
  {
   "cell_type": "code",
   "execution_count": null,
   "id": "8fccd253-d6e9-423d-b23d-6d1df2c3cd88",
   "metadata": {},
   "outputs": [],
   "source": []
  },
  {
   "cell_type": "code",
   "execution_count": null,
   "id": "56e4ecd7-ba59-433b-b759-3378ddc52912",
   "metadata": {},
   "outputs": [],
   "source": []
  },
  {
   "cell_type": "markdown",
   "id": "c3a2c452-b173-43ff-b2b0-926ea6d264f9",
   "metadata": {},
   "source": [
    "추가 학습 문제"
   ]
  },
  {
   "cell_type": "code",
   "execution_count": null,
   "id": "1477e371-89d9-4d34-8123-eba19e6812c3",
   "metadata": {},
   "outputs": [],
   "source": [
    "#문제 1: 마지막 노드 삭제\n",
    "#delete_last() 메서드를 구현하세요.\n",
    "#링크드 리스트에서 가장 마지막 노드를 삭제합니다.\n",
    "#단, 리스트가 비어 있거나 노드가 하나만 있는 경우를 처리해야 합니다.\n",
    "\n",
    "    def delete_last(self):\n",
    "        Last=self.head\n",
    "        if self.head is None:\n",
    "            print(\"none\")\n",
    "            return\n",
    "        if self.head.next is None:\n",
    "            self.head=None\n",
    "            return\n",
    "            \n",
    "        current=self.head\n",
    "        while current.next.next:\n",
    "            current=current.next\n",
    "        current.next=None\n"
   ]
  },
  {
   "cell_type": "code",
   "execution_count": null,
   "id": "913c49fe-c112-4b2c-9539-e874f6c57839",
   "metadata": {},
   "outputs": [],
   "source": [
    "#문제 2: 특정 위치의 노드 삭제\n",
    "#delete_at(position) 메서드를 구현하세요.\n",
    "#링크드 리스트에서 특정 위치(position)에 있는 노드를 삭제합니다.\n",
    "#position이 0이면 헤드를 삭제하고, 리스트 길이보다 큰 경우는 아무 동작도 하지 않도록 구현하세요.\n",
    "\n",
    "def delete_at(self,position):\n",
    "    if self.head is None:\n",
    "        print(\"List Empty\")\n",
    "        return\n",
    "    if position==0:\n",
    "        self.head=self.head.next\n",
    "        return\n",
    "    current=self.head\n",
    "    index=0\n",
    "    while current and index<position-1:\n",
    "        current=current.next\n",
    "        index+=1\n",
    "    if current and current.next:\n",
    "        current.next=current.next.next"
   ]
  },
  {
   "cell_type": "code",
   "execution_count": null,
   "id": "1750aacc-46a4-4c72-b19f-1d3b91d59b95",
   "metadata": {},
   "outputs": [],
   "source": [
    "#문제 3: 값 존재 여부 확인\n",
    "#contains(data) 메서드를 구현하세요.\n",
    "#링크드 리스트에 특정 값이 있는지 확인하고, 있으면 True, 없으면 False를 반환합니다.\n",
    "\n",
    "def contains(self,data):\n",
    "    current=self.head\n",
    "    while current:\n",
    "        if current.data==data:\n",
    "            return True\n",
    "        current=current.next\n",
    "    return False"
   ]
  },
  {
   "cell_type": "code",
   "execution_count": 98,
   "id": "e92746bf-f2f3-4024-9260-a42272fd6d4a",
   "metadata": {},
   "outputs": [
    {
     "ename": "IndentationError",
     "evalue": "unindent does not match any outer indentation level (<string>, line 19)",
     "output_type": "error",
     "traceback": [
      "\u001b[1;36m  File \u001b[1;32m<string>:19\u001b[1;36m\u001b[0m\n\u001b[1;33m    return\u001b[0m\n\u001b[1;37m          ^\u001b[0m\n\u001b[1;31mIndentationError\u001b[0m\u001b[1;31m:\u001b[0m unindent does not match any outer indentation level\n"
     ]
    }
   ],
   "source": [
    "#문제 4: 리스트 복사\n",
    "#copy() 메서드를 구현하세요.\n",
    "#현재 링크드 리스트의 모든 값을 새로운 링크드 리스트에 복사합니다.\n",
    "#새 링크드 리스트를 반환합니다.\n",
    "\n",
    "class Node:\n",
    "    def __init__(self,data):\n",
    "        self.data=data\n",
    "        self.next=None\n",
    "\n",
    "class SLL:\n",
    "    def __init__(self):\n",
    "        self.head=None\n",
    "\n",
    "    def append(self, data):\n",
    "        new_node=Node(data)\n",
    "        if self.head is None:\n",
    "            self.head=new_node\n",
    "            return\n",
    "        current=self.head\n",
    "        while current.next:\n",
    "            current=current.next\n",
    "        current.next=new_node\n",
    "\n",
    "    def display(self):\n",
    "        current=self.head\n",
    "        while current:\n",
    "            print(current.data,end=\"=>\")\n",
    "            current=current.next\n",
    "        print(\"None\")\n",
    "\n",
    "    def copy(self):\n",
    "        new_list=SLL()\n",
    "    \n",
    "        current=self.head\n",
    "        while current:\n",
    "            new_list.append(current.data)\n",
    "            current=current.next\n",
    "        return new_list\n",
    "\n",
    "\n",
    "\n",
    "        "
   ]
  },
  {
   "cell_type": "code",
   "execution_count": null,
   "id": "02c7f17d-d086-4ac2-b3dc-afbc054876e9",
   "metadata": {},
   "outputs": [],
   "source": []
  },
  {
   "cell_type": "code",
   "execution_count": 77,
   "id": "0cc61a40-a807-4094-b388-05c8de81aa29",
   "metadata": {},
   "outputs": [
    {
     "name": "stdout",
     "output_type": "stream",
     "text": [
      "10=>20=>30=>None\n",
      "원본 리스트:\n",
      "10=>20=>30=>None\n",
      "복사된 리스트:\n",
      "10=>20=>30=>None\n",
      "복사된 리스트에 데이터 추가 후:\n",
      "10=>20=>30=>40=>None\n",
      "원본 리스트:\n",
      "10=>20=>30=>None\n"
     ]
    }
   ],
   "source": [
    "sll=SLL()\n",
    "sll.append(10)\n",
    "sll.append(20)\n",
    "sll.append(30)\n",
    "sll.display()\n",
    "\n",
    "\n",
    "print(\"원본 리스트:\")\n",
    "sll.display()  # 10 -> 20 -> 30 -> None\n",
    "\n",
    "# 리스트 복사\n",
    "copied_list = sll.copy()\n",
    "\n",
    "# 복사된 리스트 출력\n",
    "print(\"복사된 리스트:\")\n",
    "copied_list.display()  # 10 -> 20 -> 30 -> None\n",
    "\n",
    "# 복사된 리스트에 데이터 추가 (원본과 독립적)\n",
    "copied_list.append(40)\n",
    "print(\"복사된 리스트에 데이터 추가 후:\")\n",
    "copied_list.display()  # 10 -> 20 -> 30 -> 40 -> None\n",
    "\n",
    "# 원본 리스트는 변경되지 않음\n",
    "print(\"원본 리스트:\")\n",
    "sll.display()"
   ]
  },
  {
   "cell_type": "code",
   "execution_count": 79,
   "id": "52e4d101-5731-4a35-8632-e26b10c0c3f3",
   "metadata": {},
   "outputs": [],
   "source": [
    "#문제 5: 값 변경\n",
    "#update_at(position, new_data) 메서드를 구현하세요.\n",
    "#특정 위치(position)의 노드 값을 new_data로 업데이트합니다.\n",
    "#위치가 리스트 길이를 초과하면 아무 동작도 하지 않습니다.\n",
    "def update_at(self,position, new_data):\n",
    "    current=self.head\n",
    "    if self.head is None:\n",
    "        print(\"Lisr Empty\")\n",
    "        return\n",
    "    index=0\n",
    "    while current and index<position:\n",
    "        current=current.next\n",
    "        index+=1\n",
    "    if current:\n",
    "        current.data=new_data\n",
    "\n"
   ]
  },
  {
   "cell_type": "code",
   "execution_count": null,
   "id": "a42023e8-8152-41b5-b331-1c31dd8eac47",
   "metadata": {},
   "outputs": [],
   "source": []
  },
  {
   "cell_type": "code",
   "execution_count": 102,
   "id": "d1765455-94f3-4a3e-8c9a-5029af93c3de",
   "metadata": {},
   "outputs": [],
   "source": [
    "class Node:\n",
    "    def __init__(self,data):\n",
    "        self.data=data\n",
    "        self.next=None\n",
    "\n",
    "class SLL:\n",
    "    def __init__(self):\n",
    "        self.head=None\n",
    "\n",
    "    def append(self, data):\n",
    "        new_node=Node(data)\n",
    "        if self.head is None:\n",
    "            self.head=new_node\n",
    "            return\n",
    "        current=self.head\n",
    "        while current.next:\n",
    "            current=current.next\n",
    "        current.next=new_node\n",
    "\n",
    "    def display(self):\n",
    "        current=self.head\n",
    "        while current:\n",
    "            print(current.data,end=\"=>\")\n",
    "            current=current.next\n",
    "        print(\"None\")\n",
    "\n",
    "    def copy(self):\n",
    "        new_list=SLL()\n",
    "    \n",
    "        current=self.head\n",
    "        while current:\n",
    "            new_list.append(current.data)\n",
    "            current=current.next\n",
    "        return new_list\n",
    "\n",
    "    def contains(self,data):\n",
    "        current=self.head\n",
    "        while current:\n",
    "            if current.data==data:\n",
    "                return True\n",
    "            current=current.next\n",
    "        return False\n",
    "\n",
    "    def delete_at(self,position):\n",
    "        if self.head is None:\n",
    "            print(\"List Empty\")\n",
    "            return\n",
    "        if position==0:\n",
    "            self.head=self.head.next\n",
    "            return\n",
    "        current=self.head\n",
    "        index=0\n",
    "        while current and index<position-1:\n",
    "            current=current.next\n",
    "            index+=1\n",
    "        if current and current.next:\n",
    "            current.next=current.next.next\n",
    "    \n",
    "    def delete_last(self):\n",
    "        Last=self.head\n",
    "        if self.head is None:\n",
    "            print(\"none\")\n",
    "            return\n",
    "        if self.head.next is None:\n",
    "            self.head=None\n",
    "            return\n",
    "            \n",
    "        current=self.head\n",
    "        while current.next.next:\n",
    "            current=current.next\n",
    "        current.next=None\n",
    "\n",
    "    def update_at(self,position, new_data):\n",
    "        current=self.head\n",
    "        if self.head is None:\n",
    "            print(\"Lisr Empty\")\n",
    "            return\n",
    "        index=0\n",
    "        while current and index<position:\n",
    "            current=current.next\n",
    "            index+=1\n",
    "        if current:\n",
    "            current.data=new_data"
   ]
  },
  {
   "cell_type": "code",
   "execution_count": 104,
   "id": "657c7d04-df3a-4368-96fc-8059eb9cfe63",
   "metadata": {},
   "outputs": [
    {
     "name": "stdout",
     "output_type": "stream",
     "text": [
      "None\n",
      "10=>20=>30=>None\n",
      "10=>20=>None\n",
      "10=>None\n",
      "True\n",
      "False\n",
      "50=>None\n"
     ]
    }
   ],
   "source": [
    "ll = SLL()\n",
    "ll.display()  # None\n",
    "\n",
    "# 데이터 추가\n",
    "ll.head = Node(10)\n",
    "ll.head.next = Node(20)\n",
    "ll.head.next.next = Node(30)\n",
    "ll.display()  # 10 -> 20 -> 30 -> None\n",
    "\n",
    "# 문제 1: 마지막 노드 삭제\n",
    "ll.delete_last()\n",
    "ll.display()  # 10 -> 20 -> None\n",
    "\n",
    "# 문제 2: 특정 위치의 노드 삭제\n",
    "ll.delete_at(1)\n",
    "ll.display()  # 10 -> None\n",
    "\n",
    "# 문제 3: 값 존재 여부 확인\n",
    "print(ll.contains(10))  # True\n",
    "print(ll.contains(40))  # False\n",
    "\n",
    "# 문제 5: 값 변경\n",
    "ll.update_at(0, 50)\n",
    "ll.display()  # 50 -> None\n"
   ]
  },
  {
   "cell_type": "code",
   "execution_count": null,
   "id": "68e6aa39-89f4-47ec-b900-51ec58f5b794",
   "metadata": {},
   "outputs": [],
   "source": []
  }
 ],
 "metadata": {
  "kernelspec": {
   "display_name": "Python 3 (ipykernel)",
   "language": "python",
   "name": "python3"
  },
  "language_info": {
   "codemirror_mode": {
    "name": "ipython",
    "version": 3
   },
   "file_extension": ".py",
   "mimetype": "text/x-python",
   "name": "python",
   "nbconvert_exporter": "python",
   "pygments_lexer": "ipython3",
   "version": "3.12.3"
  }
 },
 "nbformat": 4,
 "nbformat_minor": 5
}
