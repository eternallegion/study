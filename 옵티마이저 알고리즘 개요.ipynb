{
 "cells": [
  {
   "cell_type": "code",
   "execution_count": 3,
   "id": "7a4f543e-b04e-4fc6-8c01-cdc3f8b5277e",
   "metadata": {},
   "outputs": [
    {
     "name": "stdout",
     "output_type": "stream",
     "text": [
      "12.4\n",
      "True\n",
      "NVIDIA GeForce RTX 4090\n"
     ]
    }
   ],
   "source": [
    "import torch\n",
    "print(torch.version.cuda)  # 빌드된 CUDA 버전 확인\n",
    "print(torch.cuda.is_available())\n",
    "print(torch.cuda.get_device_name(0))"
   ]
  },
  {
   "cell_type": "raw",
   "id": "bc4057c7-fe07-4330-9409-22179c6fd0ad",
   "metadata": {},
   "source": []
  },
  {
   "cell_type": "markdown",
   "id": "4893e4fe-d331-4d68-8bdb-8ad6cb423478",
   "metadata": {},
   "source": [
    "# Optimizer Algorithms Overview"
   ]
  },
  {
   "cell_type": "markdown",
   "id": "a3a84ff4-5892-441a-9bf3-1b38ee917f8f",
   "metadata": {},
   "source": [
    "## 이론 (Theory)"
   ]
  },
  {
   "cell_type": "markdown",
   "id": "110f81f0-97d3-4030-88e8-2c897b97721f",
   "metadata": {},
   "source": [
    "## 1. Stochastic Gradient Descent (SGD)\n",
    "\n",
    "* **정의**: 전체 데이터가 아닌 무작위 배치(batch)로 계산한 기울기로 파라미터를 업데이트하는 방식입니다 ([Wikipedia][1]).\n",
    "* **수식**:\n",
    "\n",
    "  $$\n",
    "    \\theta_{t+1} = \\theta_t - \\eta \\,\\nabla_\\theta L(\\theta_t)\n",
    "  $$\n",
    "\n",
    "  여기서 $\\eta$는 학습률, $\\nabla_\\theta L$은 미니배치 기반 기울기입니다 ([Wikipedia][1]).\n",
    "* **특징**:\n",
    "\n",
    "  * 계산 효율이 높고 메모리 사용량이 적습니다.\n",
    "  * 그러나 학습률이 고정된 상태로 남으면 진동하거나 느리게 수렴할 수 있습니다 ([Analytics Vidhya][5]).\n"
   ]
  },
  {
   "cell_type": "markdown",
   "id": "aaf3bd8a-8b13-4a04-ab72-a2a6b2ee7374",
   "metadata": {},
   "source": [
    "\n",
    "## 2. Momentum & Nesterov Accelerated Gradient\n",
    "\n",
    "### 2.1 Momentum\n",
    "\n",
    "* **개념**: 과거 기울기의 지수이동평균을 사용해 “관성”을 도입, 최적화 경로의 진동을 줄이고 더 빠른 수렴을 유도합니다 ([optimization.cbe.cornell.edu][2]).\n",
    "* **수식**:\n",
    "\n",
    "  $$\n",
    "    v_t = \\mu\\,v_{t-1} + \\eta \\,\\nabla_\\theta L(\\theta_t),\\quad\n",
    "    \\theta_{t+1} = \\theta_t - v_t\n",
    "  $$\n",
    "\n",
    "  여기서 $\\mu$는 관성 계수(momentum factor)로, 보통 0.9를 사용합니다 ([Wikipedia, la enciclopedia libre][3])."
   ]
  },
  {
   "cell_type": "markdown",
   "id": "ccdf5418-2020-4063-86b2-09289890a773",
   "metadata": {},
   "source": [
    "### 2.2 Nesterov Accelerated Gradient (NAG)\n",
    "\n",
    "* **개념**: “미리 앞으로” 예상 위치에서 기울기를 계산하여 더욱 안정적이고 빠른 수렴을 이룹니다 ([Wikipedia, la enciclopedia libre][3]).\n",
    "* **수식**:\n",
    "\n",
    "  $$\n",
    "    v_t = \\mu\\,v_{t-1} + \\eta\\,\\nabla_\\theta L\\bigl(\\theta_t - \\mu\\,v_{t-1}\\bigr),\\quad\n",
    "    \\theta_{t+1} = \\theta_t - v_t\n",
    "  $$\n",
    "\n"
   ]
  },
  {
   "cell_type": "markdown",
   "id": "9dc17671-6ffe-4261-a48a-37f75d7303a0",
   "metadata": {},
   "source": [
    "## 3. AdaGrad\n",
    "\n",
    "* **개념**: 파라미터별로 **과거 기울기 제곱합**을 추적해, 자주 업데이트된 파라미터는 학습률을 줄이고 드물게 업데이트된 파라미터는 학습률을 높입니다 ([Wikipedia][1]).\n",
    "* **수식**:\n",
    "\n",
    "  $$\n",
    "    r_t = r_{t-1} + (\\nabla_\\theta L(\\theta_t))^2,\\quad\n",
    "    \\theta_{t+1} = \\theta_t - \\frac{\\eta}{\\sqrt{r_t + \\epsilon}}\\,\\nabla_\\theta L(\\theta_t)\n",
    "  $$\n",
    "* **특징**:\n",
    "\n",
    "  * 희소 데이터(sparse data)에 유리하며, 각 파라미터가 받은 업데이트 빈도에 따라 자동으로 학습률이 조정됩니다.\n",
    "  * 그러나 긴 학습에서는 학습률이 너무 작아질 수 있습니다.\n"
   ]
  },
  {
   "cell_type": "markdown",
   "id": "e5f6171d-394e-4a15-bba4-fc9d70bbea65",
   "metadata": {},
   "source": [
    "## 3 Adaptive Learning Rate Methods"
   ]
  },
  {
   "cell_type": "markdown",
   "id": "a0ad9b44-3c44-4baf-b323-f857422c2d0d",
   "metadata": {},
   "source": [
    "AdaGrad\n",
    "원리: 과거 기울기의 제곱합을 학습률에 반영해, 자주 업데이트된 파라미터는 학습률을 줄이고 드물게 업데이트된 파라미터는 높입니다\n",
    "\n",
    "업데이트 식:\n",
    "\n",
    "𝑟𝑡=𝑟𝑡−1+(∇𝜃𝐿(𝜃𝑡))**2\n",
    ",\n",
    "𝜃𝑡+1=𝜃𝑡−𝜂/root(𝑟𝑡+𝜖)∇𝜃𝐿(𝜃𝑡)\n"
   ]
  },
  {
   "cell_type": "markdown",
   "id": "a7a69cb3-788d-45e9-9230-267a559658cc",
   "metadata": {},
   "source": [
    "## 4. RMSprop\n",
    "\n",
    "* **개념**: AdaGrad의 학습률 급감 문제를 완화하기 위해 **지수이동평균(EMA)** 으로 과거 기울기 제곱을 계산합니다 ([Wikipedia][1]).\n",
    "* **수식**:\n",
    "\n",
    "  $$\n",
    "    r_t = \\beta\\,r_{t-1} + (1-\\beta)\\,(\\nabla_\\theta L(\\theta_t))^2,\\quad\n",
    "    \\theta_{t+1} = \\theta_t - \\frac{\\eta}{\\sqrt{r_t + \\epsilon}}\\,\\nabla_\\theta L(\\theta_t)\n",
    "  $$\n",
    "* **특징**:\n",
    "\n",
    "  * 학습률이 지나치게 작아지지 않으면서, AdaGrad보다 안정적입니다.\n"
   ]
  },
  {
   "cell_type": "markdown",
   "id": "537cf8fc-7284-48ad-bf42-4891f32e3f37",
   "metadata": {},
   "source": [
    "## 5. Adam (Adaptive Moment Estimation)\n",
    "\n",
    "* **개념**: Momentum(1차 모멘트)과 RMSprop(2차 모멘트)의 장점을 결합하고, 편향 보정까지 수행하는 현대적 최강 옵티마이저입니다 ([optimization.cbe.cornell.edu][4]).\n",
    "* **수식**:\n",
    "\n",
    "  $$\n",
    "  \\begin{aligned}\n",
    "    m_t &= \\beta_1 m_{t-1} + (1-\\beta_1)\\,\\nabla_\\theta L(\\theta_t),\\\\\n",
    "    v_t &= \\beta_2 v_{t-1} + (1-\\beta_2)\\,(\\nabla_\\theta L(\\theta_t))^2,\\\\\n",
    "    \\hat m_t &= \\tfrac{m_t}{1-\\beta_1^t},\\quad\n",
    "    \\hat v_t = \\tfrac{v_t}{1-\\beta_2^t},\\\\\n",
    "    \\theta_{t+1} &= \\theta_t - \\eta\\,\\tfrac{\\hat m_t}{\\sqrt{\\hat v_t} + \\epsilon}.\n",
    "  \\end{aligned}\n",
    "  $$\n",
    "\n",
    "  일반적으로 $\\beta_1=0.9$, $\\beta_2=0.999$, $\\epsilon=10^{-8}$ 을 사용합니다.\n"
   ]
  },
  {
   "cell_type": "code",
   "execution_count": null,
   "id": "f6c6dc8a-eaae-4396-9b39-38654bda1ffb",
   "metadata": {},
   "outputs": [],
   "source": []
  },
  {
   "cell_type": "code",
   "execution_count": null,
   "id": "aa0eca0c-3230-4a74-82a5-1c017cdebaf1",
   "metadata": {},
   "outputs": [],
   "source": []
  },
  {
   "cell_type": "markdown",
   "id": "6a2e504c-92cb-42fc-9144-612a9868ee19",
   "metadata": {},
   "source": [
    " r Comparison on MNIST\"); plt.legend()\r\n",
    "plt.show()\r\n",
    "```\r\n",
    "\r\n",
    "* **실습 목표**:\r\n",
    "\r\n",
    "  * 각 옵티마이저가 초기 10 에폭 동안 어떻게 수렴하는지 시각적으로 비교합니다.\r\n",
    "  * 수렴 속도, 진동, 최종 손실 수준 등을 관찰해 보세요.\r\n",
    "\r\n",
    "---\r\n",
    "\r\n",
    "다음 수업(2일차)에서는 **Learning Rate Scheduling**을 배워, 고정 학습률의 한계를 극복하고 더욱 정교한 학습 제어 방법을 실습합니다.\r\n",
    "\r\n",
    "[1]: https://en.wikipedia.org/wiki/Stochastic_gradient_descent?utm_source=chatgpt.com \"Stochastic gradient descent\"\r\n",
    "[2]: https://optimization.cbe.cornell.edu/index.php?title=Momentum&utm_source=chatgpt.com \"Momentum - Optimization Wiki\"\r\n",
    "[3]: https://es.wikipedia.org/wiki/Descenso_de_gradiente_estoc%C3%A1stico?utm_source=chatgpt.com \"Descenso de gradiente estocástico\"\r\n",
    "[4]: https://optimization.cbe.cornell.edu/index.php?title=Adam&utm_source=chatgpt.com \"Adam - Optimization Wiki\"\r\n",
    "[5]: https://www.analyticsvidhya.com/blog/2021/10/a-comprehensive-guide-on-deep-learning-optimizers/?utm_source=chatgpt.com \"Optimizers in Deep Learning: A Detailed Guide - Analytics Vidhya\"\r\n"
   ]
  },
  {
   "cell_type": "code",
   "execution_count": null,
   "id": "e69a0a19-fca1-4cbe-a9d7-391ff924f6d9",
   "metadata": {},
   "outputs": [],
   "source": []
  },
  {
   "cell_type": "code",
   "execution_count": null,
   "id": "cdd50414-ab1e-45f6-ada1-2b365a6aa93b",
   "metadata": {},
   "outputs": [],
   "source": []
  },
  {
   "cell_type": "markdown",
   "id": "5353b7d7-b509-49cb-8f7a-7ba8e71019ae",
   "metadata": {},
   "source": [
    "# 실전 실습 (Practice)"
   ]
  },
  {
   "cell_type": "code",
   "execution_count": 14,
   "id": "fe3b9780-4fae-4eb0-af92-a03f8b50c5e2",
   "metadata": {},
   "outputs": [],
   "source": [
    "import torch\n",
    "import torch.nn as nn \n",
    "import torch.optim as optim\n",
    "from torch.utils.data import DataLoader\n",
    "from torchvision import datasets, transforms"
   ]
  },
  {
   "cell_type": "code",
   "execution_count": 16,
   "id": "49e4e51d-6d17-412b-b470-baec15965735",
   "metadata": {},
   "outputs": [],
   "source": [
    "train_data=datasets.MNIST(root=\"/data\", train=True, download=True, transform=transforms.ToTensor())\n",
    "loader=DataLoader(train_data, batch_size=128, shuffle=True)\n",
    "\n",
    "model=nn.Sequential(\n",
    "    nn.Flatten(),\n",
    "    nn.Linear(28*28,128),\n",
    "    nn.ReLU(),\n",
    "    nn.Linear(128, 10)\n",
    ")\n"
   ]
  },
  {
   "cell_type": "code",
   "execution_count": 20,
   "id": "251112a9-0e96-4a2c-b4d7-24975465a427",
   "metadata": {},
   "outputs": [],
   "source": [
    "criter=nn.CrossEntropyLoss()\n",
    "lr=0.001\n",
    "optimy={\n",
    "    'SGD':optim.SGD(model.parameters(),lr=lr),\n",
    "    'Momentum':optim.SGD(model.parameters(), lr=lr, momentum=0.9),\n",
    "    'Nesterov':optim.SGD(model.parameters(),lr=lr,momentum=0.9,nesterov=True),\n",
    "    'Adagrad':optim.Adagrad(model.parameters(),lr=lr),\n",
    "    'RMSprop':optim.RMSprop(model.parameters(),lr=lr),\n",
    "    'Adam':optim.Adam(model.parameters(),lr=lr)\n",
    "}"
   ]
  },
  {
   "cell_type": "code",
   "execution_count": 26,
   "id": "8342778b-5623-4327-ae1f-2e015e63df44",
   "metadata": {},
   "outputs": [
    {
     "name": "stdout",
     "output_type": "stream",
     "text": [
      "0, 77494.98405838013, 1.2915830676396687\n",
      "1, 70056.50188446045, 1.1676083647410074\n",
      "2, 63741.190242767334, 1.062353170712789\n",
      "3, 58471.614419937134, 0.9745269069989523\n",
      "4, 54098.59889793396, 0.901643314965566\n",
      "5, 50461.65958595276, 0.8410276597658793\n",
      "6, 47412.906042099, 0.79021510070165\n",
      "7, 44835.14121246338, 0.7472523535410563\n",
      "8, 42639.129163742065, 0.7106521527290344\n",
      "9, 40745.46026802063, 0.6790910044670105\n",
      "0, 34375.81809425354, 0.5729303015708923\n",
      "1, 27972.116886138916, 0.46620194810231524\n",
      "2, 24909.680170059204, 0.4151613361676534\n",
      "3, 23071.6299161911, 0.3845271652698517\n",
      "4, 21824.13751411438, 0.36373562523523967\n",
      "5, 20889.56987953186, 0.3481594979921977\n",
      "6, 20144.83368587494, 0.33574722809791563\n",
      "7, 19531.420342445374, 0.3255236723740896\n",
      "8, 18987.04006099701, 0.3164506676832835\n",
      "9, 18504.383263111115, 0.3084063877185186\n",
      "0, 18084.12968635559, 0.30140216143925985\n",
      "1, 17678.345594882965, 0.29463909324804943\n",
      "2, 17298.064096450806, 0.2883010682741801\n",
      "3, 16941.04311275482, 0.2823507185459137\n",
      "4, 16596.192749023438, 0.27660321248372394\n",
      "5, 16273.981927871704, 0.2712330321311951\n",
      "6, 15957.712589740753, 0.2659618764956792\n",
      "7, 15660.410643577576, 0.26100684405962626\n",
      "8, 15378.447708129883, 0.25630746180216474\n",
      "9, 15100.555312156677, 0.25167592186927795\n",
      "0, 14421.032529830933, 0.24035054216384888\n",
      "1, 13684.244488716125, 0.2280707414786021\n",
      "2, 13310.85302400589, 0.22184755040009815\n",
      "3, 13032.695115089417, 0.21721158525149029\n",
      "4, 12799.924399375916, 0.21333207332293191\n",
      "5, 12599.591832637787, 0.20999319721062978\n",
      "6, 12424.099419593811, 0.20706832365989686\n",
      "7, 12266.063782215118, 0.204434396370252\n",
      "8, 12121.943467617035, 0.2020323911269506\n",
      "9, 11988.289593219757, 0.1998048265536626\n",
      "0, 10986.578124523163, 0.18310963540871938\n",
      "1, 7075.419948816299, 0.11792366581360499\n",
      "2, 5268.142715215683, 0.08780237858692805\n",
      "3, 4151.201093196869, 0.06918668488661449\n",
      "4, 3382.841213285923, 0.05638068688809872\n",
      "5, 2775.8983632326126, 0.04626497272054354\n",
      "6, 2335.3906217217445, 0.038923177028695743\n",
      "7, 1963.3073957562447, 0.032721789929270745\n",
      "8, 1658.3600175976753, 0.02763933362662792\n",
      "9, 1345.1109247207642, 0.022418515412012736\n",
      "0, 1192.2693108171225, 0.019871155180285375\n",
      "1, 937.8538575768471, 0.015630897626280785\n",
      "2, 732.8859139680862, 0.012214765232801437\n",
      "3, 641.9224129170179, 0.0106987068819503\n",
      "4, 524.7113462015986, 0.008745189103359977\n",
      "5, 418.70490154251456, 0.006978415025708576\n",
      "6, 349.77839845232666, 0.005829639974205444\n",
      "7, 285.2215917594731, 0.004753693195991218\n",
      "8, 285.66088446229696, 0.004761014741038283\n",
      "9, 286.46882029250264, 0.004774480338208377\n"
     ]
    }
   ],
   "source": [
    "import matplotlib.pyplot as plt\n",
    "\n",
    "num_epoch=10\n",
    "loss_hit={name:[]for name in optimy}\n",
    "for name,opt in optimy.items():\n",
    "    for epoch in range(num_epoch):\n",
    "        model.train()\n",
    "        total_loss, count=0.0,0\n",
    "        for data, target in loader:\n",
    "            opt.zero_grad()\n",
    "            logit=model(data)\n",
    "            loss=criter(logit, target)\n",
    "            loss.backward()\n",
    "            opt.step()\n",
    "            total_loss+=loss.item()*data.size(0)\n",
    "            count+=data.size(0)\n",
    "        loss_hit[name].append(total_loss/count)\n",
    "        print(f\"{epoch}, {total_loss}, {total_loss/count}\")"
   ]
  },
  {
   "cell_type": "code",
   "execution_count": 29,
   "id": "4e8e6f75-5473-4254-b117-ec74b3a15cf2",
   "metadata": {},
   "outputs": [
    {
     "data": {
      "image/png": "[encoded data removed]",
      "text/plain": [
       "<Figure size 640x480 with 1 Axes>"
      ]
     },
     "metadata": {},
     "output_type": "display_data"
    }
   ],
   "source": [
    "for name, hit in loss_hit.items():\n",
    "    plt.plot(hit,label=name)\n",
    "\n",
    "plt.xlabel(\"Epoch\")\n",
    "plt.ylabel(\"Average Loss\")\n",
    "plt.title(\"Optimizer Comparison on MNIST (10 epochs)\")\n",
    "plt.legend()\n",
    "plt.show()"
   ]
  },
  {
   "cell_type": "raw",
   "id": "cca5f4da-8acd-49f6-a1c7-8cba48d44133",
   "metadata": {},
   "source": [
    "1. Observed Behaviors\n",
    "SGD\n",
    "\n",
    "초기에는 오류(loss)가 크게 출발한 뒤 점차 감소.\n",
    "\n",
    "이후 평균 손실이 0.4 수준에서 시작해 최저 0.2 부근까지 내려감.\n",
    "\n",
    "RMSprop\n",
    "\n",
    "초기 손실이 0.2 수준에서 출발.\n",
    "\n",
    "곧 0에 가까운 수준으로 매우 빠르게 수렴.\n",
    "\n",
    "2. RMSprop의 빠른 초기 수렴 이유\n",
    "2.1 Adaptive Learning Rate\n",
    "RMSprop은 각 파라미터마다 과거 기울기 제곱의 지수이동평균(EMA) 를 사용해 학습률을 동적으로 조정합니다.\n",
    "\n",
    "장점:\n",
    "\n",
    "큰 기울기가 계속되는 방향에는 학습률을 낮춰 발산 방지,\n",
    "\n",
    "작은 기울기가 나왔던 축에는 학습률을 높여 더 빠른 학습을 유도합니다 \n",
    "\n",
    "\n",
    "2.2 Bias Toward Recent Gradients\n",
    "지수이동평균을 사용함으로써, 최근 기울기에 더 큰 가중치를 부여해 동적 변화에 빠르게 적응합니다 \n",
    "\n",
    "3. SGD의 느린 초기 수렴\n",
    "고정 학습률로 인해, 초기 기울기 크기에 따라 파라미터 업데이트가 거칠거나 느릴 수 있습니다.\n",
    "\n",
    "카트 탄성(진동) 문제가 있어, 학습률 조정 없이 고정된 η로만 수렴을 시도하면 진동 구간이 길어질 수 있습니다 .\n",
    "\n",
    "4. 실전 가이드\n",
    "RMSprop / Adam\n",
    "\n",
    "빠른 초기 수렴과 전역 최소 근처로 빠르게 이동해야 하는 경우 추천 \n",
    "\n",
    "\n",
    "SGD with Momentum\n",
    "\n",
    "최종 성능(일반화) 개선이 필요한 경우, 모멘텀과 함께 사용 시 일반화 성능이 더 좋습니다 \n",
    "\n",
    "하이브리드\n",
    "\n",
    "Adaptive → SGD 전략: 초기에는 RMSprop으로 빠르게 수렴한 뒤, 일정 시점부터 SGD로 전환해 일반화 성능을 높이는 기법도 연구되었습니다 \n",
    "\n",
    "5. 차후 실습 과제\n",
    "RMSprop과 SGD(Momentum, Nesterov)를 **같은 학습률(적절히 튜닝)**로 비교 실험\n",
    "\n",
    "하이브리드 스케줄 적용:\n",
    "\n",
    "예: 처음 10 에폭은 RMSprop, 이후 SGD with momentum\n",
    "\n",
    "Validation Loss 기준 ReduceLROnPlateau 스케줄러 결합\n",
    "\n",
    "이렇게 최적화 기법별로 장단점을 이해하고, 실험을 통해 최적의 조합을 찾아보시면 더욱 견고한 모델 학습이 가능합니다."
   ]
  },
  {
   "cell_type": "code",
   "execution_count": null,
   "id": "be53a308-f847-40e0-8f71-b2b83bcf72e8",
   "metadata": {},
   "outputs": [],
   "source": []
  },
  {
   "cell_type": "markdown",
   "id": "0cae338f-4490-434f-9bff-a66f1be2643a",
   "metadata": {},
   "source": [
    "## 요약\n",
    "\n",
    "Adam 옵티마이저가 특히 안정적이라고 느껴지신 이유는, 모멘텀과 RMSprop의 장점을 결합하여 파라미터별 학습률을 적응적으로 조정하고, 편향 보정(bias correction)을 통해 **수치적 안정성(numerical stability)**을 확보하기 때문입니다. 기본 하이퍼파라미터 설정만으로도 폭넓은 작업에 잘 동작하며, SGD 대비 더 빠른 초기 수렴과 덜 예민한 튜닝 특성을 보여 줍니다."
   ]
  },
  {
   "cell_type": "raw",
   "id": "176c1b1c-d444-4539-8636-95b6751b2a66",
   "metadata": {},
   "source": [
    "Adam 안정성의 핵심 메커니즘\n",
    "모멘텀 + RMSprop 결합\n",
    "Adam은 1차 모멘트(momentum)와 2차 모멘트(RMSprop) 추정치를 모두 사용해, 파라미터별로 학습률을 동적으로 조정합니다. 이로 인해 학습 속도가 빨라질 뿐 아니라, 숫자 범위에서도 안정적으로 수렴합니다 \n",
    "\n",
    "\n",
    "편향 보정(Bias Correction)\n",
    "초반 학습 단계에서 모멘텀과 분산 추정치가 0에 가까워지는 것을 방지하기 위해 편향 보정 과정을 거치며, 이 덕분에 초기 불안정성이 크게 완화됩니다 \n",
    "\n",
    "\n",
    "지수이동평균으로 노이즈 완화\n",
    "과거 기울기 제곱의 지수이동평균(EMA)을 사용해, 큰 기울기 폭발 또는 작은 기울기 소실 문제를 완화하며 안정적인 업데이트를 보장합니다 \n",
    "\n",
    "\n",
    "강력한 기본 하이퍼파라미터\n",
    "β₁=0.9, β₂=0.999, ε=10⁻⁸ 같은 기본값만으로도 다양한 네트워크와 데이터셋에서 튜닝 없이 잘 동작하며, 과도한 하이퍼파라미터 탐색 부담을 줄여 줍니다 \n",
    "\n",
    "\n",
    "빠른 초기 수렴\n",
    "좌표별 학습률 스케일링 덕분에 SGD보다 초기 에폭에서 더욱 빠르게 손실이 감소하며, 곧바로 안정적인 학습 구간에 진입합니다 \n",
    "\n",
    "\n",
    "실제 응용에서의 신뢰성\n",
    "일부 이론적 반례가 보고되긴 했지만 \n",
    ", 실제 대규모 딥러닝 모델 학습에서는 실무적으로 비약적 성능 저하 없이 잘 수렴합니다.\n",
    "\n",
    "방향성 샤프니스(Directional Sharpness) 처리\n",
    "최신 연구에 따르면, Adam은 업데이트 방향의 샤프니스(sharpness) 를 효과적으로 조절하여 SGD보다 안정적인 경로를 보인다고 합니다 \n",
    "\n",
    "희소·비정상적 분포 처리\n",
    "좌표별 적응적 스케일링 덕분에 희소 그래디언트나 비정상적(Non-stationary) 손실 표면에서도 안정적으로 학습을 이어갑니다 .\n",
    "\n",
    "Mixed Precision 환경 대처\n",
    "ε(이피실론) 값을 조정해 Half-Precision(FP16) 학습 시에도 NaN 발생을 억제할 수 있어, AMP 환경에서도 안정성을 유지합니다 \n",
    "\n",
    "\n",
    "실무에서의 표준화\n",
    "복잡한 모델과 대용량 데이터셋에 널리 쓰이며, 더 나은 초기화나 클리핑 같은 추가 테크닉 없이도 기본 설정만으로 강력한 성능을 발휘합니다"
   ]
  },
  {
   "cell_type": "raw",
   "id": "dad809ad-a98d-41eb-b23d-1ce7a7d0fc6a",
   "metadata": {},
   "source": []
  },
  {
   "cell_type": "markdown",
   "id": "0fbb4a88-1d05-4b8e-91ad-ae9f001fa1c8",
   "metadata": {},
   "source": [
    "12초 동안 생각함\n",
    "\n",
    "\n",
    "Adam 옵티마이저는 빠르고 안정적인 수렴 특성으로 널리 쓰이지만, 아래와 같은 **여러 문제점**이 보고되어 있습니다.\n",
    "\n",
    "Adam의 주요 단점은\n",
    "\n",
    "* **일부 단순/볼록(convex) 문제에서 불수렴**하거나 수렴이 보장되지 않음 ([arXiv][1])\n",
    "* **일반화 성능 저하**, SGD 대비 테스트 성능이 떨어지는 사례 다수 ([Analytics Vidhya][2])\n",
    "* **학습률 편향·과도한 스텝 크기**로 인한 불안정성\n",
    "* **편향 보정 후에도 초기 단계 과도한 업데이트** 가능성\n",
    "* **초기 학습률 설계 어려움**과 하이퍼파라미터 민감도 ([Towards AI][3])\n",
    "\n",
    "아래에서 각 문제를 자세히 살펴보겠습니다.\n",
    "\n",
    "---\n",
    "\n",
    "## 1. 불수렴 및 수렴 보장 문제\n",
    "\n",
    "### 1.1 단순 convex 문제에서 불수렴\n",
    "\n",
    "* Reddi 등은 “AMSGrad” 논문에서, **exponential moving average** 방식이 일부 convex 최적화 과제에서 최적해에 수렴하지 못한다고 지적했습니다 ([arXiv][1]).\n",
    "\n",
    "### 1.2 특정 데이터 분포에서 다른 해로 수렴\n",
    "\n",
    "* 과적합된 2-layer CNN 실험에서 Adam은 나쁜 해(bad minimum)에, GD/SGD는 좋은 해로 수렴하는 경향이 관찰되었습니다 .\n",
    "* 간단한 학습 문제를 구성해 보면, GD가 더 나은 일반화 성능을 보이는 반면 Adam은 그렇지 않은 사례가 많습니다 .\n",
    "\n",
    "---\n",
    "\n",
    "## 2. 일반화 성능 저하\n",
    "\n",
    "* **CIFAR-10** 같은 이미지 분류 과제에서, Adam이 빠르게 학습하지만 최종 테스트 정확도는 SGD with momentum보다 낮게 나오는 경우가 많습니다 ([Analytics Vidhya][2]).\n",
    "* Adaptive optimizer들이 **비균일(non-uniform) 스케일링**을 수행함에 따라, 훈련 손실은 작아져도 검증 손실이 올라가는 경향이 나타납니다 ([Towards AI][3]).\n",
    "\n",
    "---\n",
    "\n",
    "## 3. 학습률 편향 및 과도한 스텝 크기\n",
    "\n",
    "* Adam의 **모멘텀(1차 모멘트)과 분산(2차 모멘트)** 추정치 사이 불일치로 인해, 때로는 **극단적(step size)** 업데이트가 발생합니다 .\n",
    "* EMA 기반 이동 평균은 최근 기울기에 과도하게 반응해, 학습 초기 단계에서 스텝 크기가 지나치게 커질 수 있습니다 .\n",
    "\n",
    "---\n",
    "\n",
    "## 4. 하이퍼파라미터 민감도\n",
    "\n",
    "* Adam은 기본값($\\beta_1=0.9,\\beta_2=0.999,\\epsilon=10^{-8}$)이 널리 쓰이나, \\*\\*학습률(lr)\\*\\*과 모멘텀 계수 $\\beta$에 민감하게 반응합니다. 잘못 설정하면 발산하거나, 수렴 속도가 급격히 느려질 수 있습니다 ([Towards AI][3]).\n",
    "* 특히 **학습률 감소(LR decay)** 스케줄이 내장되어 있지 않아, 따로 스케줄러를 설계해야 하는 번거로움이 있습니다 ([Stack Overflow][4]).\n",
    "\n",
    "---\n",
    "\n",
    "## 5. 대응 기법 및 대안\n",
    "\n",
    "1. **AMSGrad**: EMA 불안정 문제를 개선, 수렴을 보장하는 변형 옵티마이저 ([arXiv][1]).\n",
    "2. **AdamW**: Weight decay를 분리해 일반화 성능 개선 ([OpenReview][5]).\n",
    "3. **RAdam, QHAdam** 등: 학습 초기 안정성을 높이기 위한 모멘텀 보정 기법.\n",
    "4. **하이브리드 전략**: “초기 𝑁 에폭은 Adam → 이후 SGD” 방식으로 성능과 일반화 균형 맞추기 .\n",
    "\n",
    "---\n",
    "\n",
    "이처럼 Adam은 **빠른 수렴**과 **사용 편의성**에도 불구하고, **수렴 보장 문제**, **일반화 저하**, **과도한 업데이트**, **하이퍼파라미터 민감도** 등의 약점을 지니고 있습니다. 이러한 단점을 감안해, 실제 프로젝트에서는 **AMSGrad**나 **AdamW** 같은 변형 기법과 **적절한 스케줄러**를 함께 사용하는 것이 좋습니다.\n",
    "\n",
    "[1]: https://arxiv.org/abs/1904.09237?utm_source=chatgpt.com \"[1904.09237] On the Convergence of Adam and Beyond - arXiv\"\n",
    "[2]: https://www.analyticsvidhya.com/blog/2023/09/what-is-adam-optimizer/?utm_source=chatgpt.com \"What is Adam Optimizer? - Analytics Vidhya\"\n",
    "[3]: https://pub.towardsai.net/why-adam-optimizer-should-not-be-the-default-learning-algorithm-a2b8d019eaa0?utm_source=chatgpt.com \"Why Should Adam Optimizer Not Be the Default Learning Algorithm?\"\n",
    "[4]: https://stackoverflow.com/questions/39517431/should-we-do-learning-rate-decay-for-adam-optimizer?utm_source=chatgpt.com \"Should we do learning rate decay for adam optimizer - Stack Overflow\"\n",
    "[5]: https://openreview.net/forum?id=EfTN2tSGlF&utm_source=chatgpt.com \"Towards Understanding Convergence and Generalization of AdamW\"\n"
   ]
  },
  {
   "cell_type": "code",
   "execution_count": null,
   "id": "f958e105-ac3e-4ec2-8793-3fea6df4758e",
   "metadata": {},
   "outputs": [],
   "source": []
  },
  {
   "cell_type": "code",
   "execution_count": null,
   "id": "da25f964-1207-4dd8-a7a8-3f5cfef950ad",
   "metadata": {},
   "outputs": [],
   "source": []
  }
 ],
 "metadata": {
  "kernelspec": {
   "display_name": "Python (CUDA 12.4)",
   "language": "python",
   "name": "cuda124"
  },
  "language_info": {
   "codemirror_mode": {
    "name": "ipython",
    "version": 3
   },
   "file_extension": ".py",
   "mimetype": "text/x-python",
   "name": "python",
   "nbconvert_exporter": "python",
   "pygments_lexer": "ipython3",
   "version": "3.12.7"
  }
 },
 "nbformat": 4,
 "nbformat_minor": 5
}
